{
 "cells": [
  {
   "cell_type": "markdown",
   "metadata": {},
   "source": [
    "## 문제 1\n",
    "### 인풋 리스트의 모든 원소에 대해 짝수 홀수 여부를 출력하는 함수를 만들어 보세요.\n",
    "#### check(input) : input 리스트의 모든 원소를 대상으로 짝수 홀수 여부를 출력\n",
    "#### input : 인풋 리스트, return : 없음"
   ]
  },
  {
   "cell_type": "code",
   "execution_count": 3,
   "metadata": {
    "scrolled": true
   },
   "outputs": [
    {
     "name": "stdout",
     "output_type": "stream",
     "text": [
      "는 홀수입니다.\n",
      "는 짝수입니다.\n",
      "는 홀수입니다.\n",
      "는 짝수입니다.\n"
     ]
    }
   ],
   "source": [
    "def check(input):\n",
    "    print(\"는 홀수입니다.\")\n",
    "    print(\"는 짝수입니다.\")\n",
    "\n",
    "check([1,2,3,4,5])\n",
    "check([11,12,13,14,15])"
   ]
  },
  {
   "cell_type": "markdown",
   "metadata": {},
   "source": [
    "## 문제 2\n",
    "### 다음과 같은 계산기 함수를 만들어 보세요.\n",
    "####  calc(a,b,operation) : a와 b를 대상으로 operation의 연산을 수행하여 그 결과를 리턴합니다.\n",
    "#### a,b : 계산할 두 수, operation : 수행할 연산(+,-,*,/), return : 결과값"
   ]
  },
  {
   "cell_type": "code",
   "execution_count": 1,
   "metadata": {
    "scrolled": true
   },
   "outputs": [
    {
     "name": "stdout",
     "output_type": "stream",
     "text": [
      "0\n",
      "0\n",
      "0\n",
      "0\n"
     ]
    }
   ],
   "source": [
    "def calc(a,b,operation):\n",
    "    result = 0\n",
    "    return result\n",
    "\n",
    "print(calc(4,1,'+'))\n",
    "print(calc(2,5,'-'))\n",
    "print(calc(4,2,'/'))\n",
    "print(calc(3,5,'*'))"
   ]
  },
  {
   "cell_type": "markdown",
   "metadata": {},
   "source": [
    "## 문제 3\n",
    "### 다음과 같은 함수들을 만들어 보세요. \n",
    "#### avg(input) : input 리스트의 평균을 구하여 리턴합니다.\n",
    "#### max_avg(input1,input2) : input1 리스트와 input2 리스트의 평균을 계산하여 더 큰 값을 리턴합니다. 내부에서 avg를 호출하여 평균을 계산해야 합니다."
   ]
  },
  {
   "cell_type": "code",
   "execution_count": 6,
   "metadata": {},
   "outputs": [
    {
     "name": "stdout",
     "output_type": "stream",
     "text": [
      "0\n"
     ]
    }
   ],
   "source": [
    "def avg(input):\n",
    "    result = 0\n",
    "    return result\n",
    "\n",
    "def max_avg(input1,input2):\n",
    "    result = 0\n",
    "    return result\n",
    "\n",
    "list1 = [1,3,5,7,9]\n",
    "list2 = [0,3,6,8,10]\n",
    "print(max_avg(list1,list2))"
   ]
  },
  {
   "cell_type": "markdown",
   "metadata": {},
   "source": [
    "## 문제 4\n",
    "### random 모듈을 이용해 사용자가 지정한 범위에서 임의의 수를 리턴하는 함수를 만들어 보자.\n",
    "#### get_randnumber(a,b) : a와 b사이의 임의의 수를 하나 리턴."
   ]
  },
  {
   "cell_type": "code",
   "execution_count": 13,
   "metadata": {},
   "outputs": [
    {
     "name": "stdout",
     "output_type": "stream",
     "text": [
      "0\n",
      "0\n",
      "0\n",
      "0\n",
      "0\n"
     ]
    }
   ],
   "source": [
    "import random\n",
    "def get_randnumber(a,b):\n",
    "    return 0\n",
    "\n",
    "for i in range(5):\n",
    "    print(get_randnumber(1,100))"
   ]
  },
  {
   "cell_type": "markdown",
   "metadata": {},
   "source": [
    "## 문제 5\n",
    "### 주어진 문자열을 뒤집어서 리턴하는 함수를 만들어 보자.(reverse, reversed 쓰지 말기)\n",
    "#### user_reversed(input) : input 문자열을 거꾸로 뒤집어서 리턴"
   ]
  },
  {
   "cell_type": "code",
   "execution_count": null,
   "metadata": {},
   "outputs": [],
   "source": [
    "def user_reversed(input_str):\n",
    "    result = \"\"\n",
    "    return result\n",
    "\n",
    "print(user_reversed(\"This is a sentence\"))"
   ]
  }
 ],
 "metadata": {
  "kernelspec": {
   "display_name": "Python 3",
   "language": "python",
   "name": "python3"
  },
  "language_info": {
   "codemirror_mode": {
    "name": "ipython",
    "version": 3
   },
   "file_extension": ".py",
   "mimetype": "text/x-python",
   "name": "python",
   "nbconvert_exporter": "python",
   "pygments_lexer": "ipython3",
   "version": "3.8.3"
  }
 },
 "nbformat": 4,
 "nbformat_minor": 2
}
