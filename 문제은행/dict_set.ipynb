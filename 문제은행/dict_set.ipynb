{
 "cells": [
  {
   "cell_type": "markdown",
   "metadata": {},
   "source": [
    "## 문제 1\n",
    "### 아래의 scores 리스트는 각 사람의 점수, names는 각 사람의 이름을 나타내는 리스트입니다. 동일 위치를 동일한 사람으로 간주합니다. 예) Lee는 90점, Kim은 20점, ...\n",
    "### 주어진 리스트와 딕셔너리를 이용해 사람 별 점수를 체계적으로 저장해 보세요. \n",
    "### 예) Key = 'Lee', Value = 20 "
   ]
  },
  {
   "cell_type": "code",
   "execution_count": 1,
   "metadata": {
    "scrolled": false
   },
   "outputs": [],
   "source": [
    "scores = [90, 20, 70, 50, 85]\n",
    "names = ['Lee','Kim','Son','Park','Yang']\n",
    "score_dict = {}"
   ]
  },
  {
   "cell_type": "markdown",
   "metadata": {},
   "source": [
    "## 문제 2\n",
    "### 딕셔너리를 이용해 전화번호부를 만들고자 합니다. 전화번호부의 구성은 다음과 같습니다.\n",
    "#### Key = '전화번호', Value = ['성','이름', 나이]\n",
    "### 아래와 같은 데이터를 이용해 전화번호부 딕셔너리를 만들어 보세요."
   ]
  },
  {
   "cell_type": "code",
   "execution_count": 2,
   "metadata": {},
   "outputs": [],
   "source": [
    "first_names = ['Lee', 'Kim', 'Son']\n",
    "last_names = ['Jeonghwan', 'Jeongsoo', 'Heungmin']\n",
    "numbers = ['01068997439','01077771111','01012345678']\n",
    "phonebook={}"
   ]
  },
  {
   "cell_type": "markdown",
   "metadata": {},
   "source": [
    "### 해당 딕셔너리에서 전화번호가 01012345678 인 사람의 성을 Kim으로 수정해 보세요."
   ]
  },
  {
   "cell_type": "code",
   "execution_count": 40,
   "metadata": {
    "scrolled": false
   },
   "outputs": [
    {
     "name": "stdout",
     "output_type": "stream",
     "text": [
      "Lee\n",
      "Yang\n"
     ]
    }
   ],
   "source": [
    "print(phonebook['01012345678'])    #수정 결과 확인"
   ]
  },
  {
   "cell_type": "markdown",
   "metadata": {},
   "source": [
    "## 문제 3\n",
    "### 각 사람별 금액을 저장한 딕셔너리에서 추가금 리스트를 읽어 저장된 딕셔너리에 더하는 프로그램을 작성해 보세요."
   ]
  },
  {
   "cell_type": "code",
   "execution_count": 3,
   "metadata": {
    "scrolled": true
   },
   "outputs": [
    {
     "name": "stdout",
     "output_type": "stream",
     "text": [
      "{'Kim': 50000, 'Lee': 10000, 'Son': 2000}\n"
     ]
    }
   ],
   "source": [
    "accounts = {'Kim':50000,'Lee':10000,'Son':2000}\n",
    "adds = [['Kim',1000],['Son',3000],['Lee',2000]]\n",
    "#Kim에 1000원 더하기, Lee에 2000원 더하기, Son에 3000원 더하기\n",
    "\n",
    "print(accounts)"
   ]
  },
  {
   "cell_type": "markdown",
   "metadata": {},
   "source": [
    "## 문제 4\n",
    "### 가게의 방문 쿠폰 저장 딕셔너리를 만드려고 한다. 가게의 방문하는 사람을 알리는 리스트가 존재할 때, 해당 리스트를 읽어와 방문 수를 증가시키는 프로그램을 작성해 보자\n",
    "#### 처음 방문하는 사람이라면, 딕셔너리에 새로운 key를 Value가 1인 상태로 등록하여야 한다."
   ]
  },
  {
   "cell_type": "code",
   "execution_count": 10,
   "metadata": {
    "scrolled": true
   },
   "outputs": [
    {
     "name": "stdout",
     "output_type": "stream",
     "text": [
      "{}\n"
     ]
    }
   ],
   "source": [
    "visits = ['Kim','Son','Kim','Lee','Kim','Lee']\n",
    "coupons = {}\n",
    "\n",
    "print(coupons)"
   ]
  },
  {
   "cell_type": "markdown",
   "metadata": {},
   "source": [
    "## 문제 5\n",
    "### 여행지 리스트가 있을 때, 5명의 여행지 다중 투표 결과를 딕셔너리를 이용해 집계하려고 한다. 여행지 리스트를 이용해 각 여행지명을 Key로 가지고 Value가 0인 딕셔너리를 생성한 후, 투표 결과를 이용해서 여행지별 투표수를 집계하자. 이후 최대 득표 여행지를 출력하자."
   ]
  },
  {
   "cell_type": "code",
   "execution_count": 11,
   "metadata": {},
   "outputs": [
    {
     "name": "stdout",
     "output_type": "stream",
     "text": [
      "{}\n"
     ]
    }
   ],
   "source": [
    "dest_list = ['Beach','Mountain','River','Park','Hotel']\n",
    "result = {}\n",
    "\n",
    "#4사람의 투표\n",
    "votes = [['Beach','Mountain','River'],['Park','Mountain'],['Hotel','Mountain'],['Beach','River']]\n",
    "\n",
    "print(result)"
   ]
  },
  {
   "cell_type": "markdown",
   "metadata": {},
   "source": [
    "## 문제 6\n",
    "### 1부터 100까지의 2의 배수, 3의 배수의 리스트를 각각 만든 후, 집합 자료형과 교집합 연산을 이용해 2의 배수이면서 3의 배수인 수(6의 배수)를 찾아보자."
   ]
  },
  {
   "cell_type": "code",
   "execution_count": 6,
   "metadata": {},
   "outputs": [
    {
     "name": "stdout",
     "output_type": "stream",
     "text": [
      "[]\n"
     ]
    }
   ],
   "source": [
    "multiple_2 = []\n",
    "multiple_3 = []\n",
    "\n",
    "multiple_6 = []\n",
    "\n",
    "print(multiple_6)"
   ]
  },
  {
   "cell_type": "markdown",
   "metadata": {},
   "source": [
    "## 문제 7\n",
    "### 단어장 리스트와, 암기 완료한 단어 리스트가 존재할 때, 집합 자료형을 이용하여 아직 외우지 못한 단어들을 저장하는 집합을 만들어 보자."
   ]
  },
  {
   "cell_type": "code",
   "execution_count": 9,
   "metadata": {},
   "outputs": [
    {
     "name": "stdout",
     "output_type": "stream",
     "text": [
      "[]\n"
     ]
    }
   ],
   "source": [
    "words = ['disperse','drastic','erect','enhance','emission','distract']\n",
    "memorized = ['enhance','emission','distract']\n",
    "\n",
    "not_memorized = set()\n",
    "print(list(not_memorized))"
   ]
  },
  {
   "cell_type": "markdown",
   "metadata": {},
   "source": [
    "## 문제 8\n",
    "### "
   ]
  },
  {
   "cell_type": "code",
   "execution_count": 44,
   "metadata": {},
   "outputs": [
    {
     "name": "stdout",
     "output_type": "stream",
     "text": [
      "[80, 70, 50, 50]\n"
     ]
    }
   ],
   "source": [
    "scores = [[10,80],[70,40],[30,50],[50,20]]\n",
    "#[1차 점수, 2차 점수] 로 이루어진 리스트\n",
    "result = []\n",
    "for score in scores:\n",
    "    #result에 둘 중 높은 점수만 저장.\n",
    "print(result)"
   ]
  },
  {
   "cell_type": "markdown",
   "metadata": {},
   "source": [
    "## 문제 10\n",
    "### 네 사람의 두번의 시험 데이터가 존재할 때, 두 시험 점수 중 높은 점수만 골라 리스트에 저장하여 출력해 봅시다. 아래의 문제에서 첫번째 사람은 두 시험에서 10점, 80점을 받았으니 80점이 리스트에 저장되어야 합니다."
   ]
  },
  {
   "cell_type": "code",
   "execution_count": 44,
   "metadata": {},
   "outputs": [
    {
     "name": "stdout",
     "output_type": "stream",
     "text": [
      "[80, 70, 50, 50]\n"
     ]
    }
   ],
   "source": [
    "scores = [[10,80],[70,40],[30,50],[50,20]]\n",
    "#[1차 점수, 2차 점수] 로 이루어진 리스트\n",
    "result = []\n",
    "for score in scores:\n",
    "    #result에 둘 중 높은 점수만 저장.\n",
    "print(result)"
   ]
  }
 ],
 "metadata": {
  "kernelspec": {
   "display_name": "Python 3",
   "language": "python",
   "name": "python3"
  },
  "language_info": {
   "codemirror_mode": {
    "name": "ipython",
    "version": 3
   },
   "file_extension": ".py",
   "mimetype": "text/x-python",
   "name": "python",
   "nbconvert_exporter": "python",
   "pygments_lexer": "ipython3",
   "version": "3.6.4"
  }
 },
 "nbformat": 4,
 "nbformat_minor": 2
}
