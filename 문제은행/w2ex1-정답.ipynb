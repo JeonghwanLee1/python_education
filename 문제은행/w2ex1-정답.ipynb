{
 "cells": [
  {
   "cell_type": "markdown",
   "metadata": {},
   "source": [
    "## 문제 1"
   ]
  },
  {
   "cell_type": "code",
   "execution_count": 35,
   "metadata": {},
   "outputs": [
    {
     "name": "stdout",
     "output_type": "stream",
     "text": [
      "[2, 4, 6, 8, 10]\n"
     ]
    }
   ],
   "source": [
    "l_1 = [1, 2, 3, 4, 5]\n",
    "for i, elem in enumerate(l_1):\n",
    "    l_1[i]=elem*2\n",
    "print(l_1)"
   ]
  },
  {
   "cell_type": "markdown",
   "metadata": {},
   "source": [
    "## 문제 2 "
   ]
  },
  {
   "cell_type": "code",
   "execution_count": 36,
   "metadata": {},
   "outputs": [
    {
     "name": "stdout",
     "output_type": "stream",
     "text": [
      "[2, 2, 6, 4, 10]\n"
     ]
    }
   ],
   "source": [
    "l_1 = [1, 2, 3, 4, 5]\n",
    "for i, elem in enumerate(l_1):\n",
    "    if elem%2 == 1:\n",
    "        l_1[i]=elem*2\n",
    "print(l_1)"
   ]
  },
  {
   "cell_type": "markdown",
   "metadata": {},
   "source": [
    "## 문제 3 "
   ]
  },
  {
   "cell_type": "code",
   "execution_count": 37,
   "metadata": {
    "scrolled": false
   },
   "outputs": [
    {
     "name": "stdout",
     "output_type": "stream",
     "text": [
      "*\n",
      "**\n",
      "***\n",
      "****\n",
      "*****\n"
     ]
    }
   ],
   "source": [
    "for i in [1,2,3,4,5]:\n",
    "    print('*'*i)"
   ]
  },
  {
   "cell_type": "markdown",
   "metadata": {},
   "source": [
    "## 문제 4 "
   ]
  },
  {
   "cell_type": "code",
   "execution_count": 38,
   "metadata": {
    "scrolled": false
   },
   "outputs": [
    {
     "name": "stdout",
     "output_type": "stream",
     "text": [
      "90\n"
     ]
    }
   ],
   "source": [
    "scores = [20, 90, 70, 50, 85]\n",
    "max_score = scores[0]\n",
    "for score in scores:\n",
    "    if score>max_score:\n",
    "        max_score = score\n",
    "print(max_score)"
   ]
  },
  {
   "cell_type": "markdown",
   "metadata": {},
   "source": [
    "## 문제 5 "
   ]
  },
  {
   "cell_type": "code",
   "execution_count": 39,
   "metadata": {},
   "outputs": [
    {
     "data": {
      "text/plain": [
       "3"
      ]
     },
     "execution_count": 39,
     "metadata": {},
     "output_type": "execute_result"
    }
   ],
   "source": [
    "scores = [90, 20, 30, 40, 80, 90, 10, 90]\n",
    "max_count = scores.count(max(scores))"
   ]
  },
  {
   "cell_type": "markdown",
   "metadata": {},
   "source": [
    "## 문제 6 "
   ]
  },
  {
   "cell_type": "code",
   "execution_count": 1,
   "metadata": {
    "scrolled": false
   },
   "outputs": [
    {
     "name": "stdout",
     "output_type": "stream",
     "text": [
      "Lee\n",
      "Yang\n"
     ]
    }
   ],
   "source": [
    "scores = [90, 20, 70, 50, 85]\n",
    "names = ['Lee','Kim','Son','Park','Yang']\n",
    "for i,score in enumerate(scores):\n",
    "    if score>=80:\n",
    "        print(names[i])"
   ]
  },
  {
   "cell_type": "markdown",
   "metadata": {},
   "source": [
    "## 문제 7 "
   ]
  },
  {
   "cell_type": "code",
   "execution_count": 41,
   "metadata": {},
   "outputs": [
    {
     "name": "stdout",
     "output_type": "stream",
     "text": [
      "#CN#*N#S D#*PYRCN# NA S^ S^H*\n"
     ]
    }
   ],
   "source": [
    "string = \"this is an encrypted sentence\"\n",
    "replaced = string.replace(\"t\",\"*\").replace(\"i\",\"^\").replace(\"e\",\"#\")\n",
    "uppered = replaced.upper()\n",
    "reversed_sentence = ''.join(reversed(uppered))\n",
    "print(reversed_sentence)"
   ]
  },
  {
   "cell_type": "markdown",
   "metadata": {},
   "source": [
    "## 문제 8 "
   ]
  },
  {
   "cell_type": "code",
   "execution_count": 42,
   "metadata": {
    "scrolled": true
   },
   "outputs": [
    {
     "name": "stdout",
     "output_type": "stream",
     "text": [
      "1  : 홀수입니다.\n",
      "5  : 홀수입니다.\n",
      "4  : 짝수입니다.\n",
      "7  : 홀수입니다.\n",
      "3  : 홀수입니다.\n",
      "31  : 홀수입니다.\n",
      "22  : 짝수입니다.\n",
      "32  : 짝수입니다.\n",
      "55  : 홀수입니다.\n"
     ]
    }
   ],
   "source": [
    "numbers = [1,5,4,7,3,31,22,32,55]\n",
    "for number in numbers:\n",
    "    if number%2==1:\n",
    "        print(number,\" : 홀수입니다.\")\n",
    "    else:\n",
    "        print(number,\" : 짝수입니다.\")"
   ]
  },
  {
   "cell_type": "markdown",
   "metadata": {},
   "source": [
    "## 문제 9 "
   ]
  },
  {
   "cell_type": "code",
   "execution_count": 43,
   "metadata": {},
   "outputs": [
    {
     "name": "stdout",
     "output_type": "stream",
     "text": [
      "19931111\n",
      "18801211\n",
      "올바르지 않은 년도 입니다.\n",
      "19951310\n",
      "올바르지 않은 월 입니다.\n",
      "19921235\n",
      "올바르지 않은 일 입니다.\n",
      "18901235\n",
      "올바르지 않은 년도 입니다.\n",
      "올바르지 않은 일 입니다.\n"
     ]
    }
   ],
   "source": [
    "births = ['19931111','18801211','19951310','19921235', '18901235']\n",
    "for birth in births:\n",
    "    year = int(birth[0:4])\n",
    "    month = int(birth[4:6])\n",
    "    day = int(birth[6:])\n",
    "    print(birth)\n",
    "    \n",
    "    if year>2020 or year<1990:\n",
    "        print(\"올바르지 않은 년도 입니다.\")\n",
    "    \n",
    "    if month>12 or month<1:\n",
    "        print(\"올바르지 않은 월 입니다.\")\n",
    "    \n",
    "    if day>31 or day<1:\n",
    "        print(\"올바르지 않은 일 입니다.\")"
   ]
  },
  {
   "cell_type": "markdown",
   "metadata": {},
   "source": [
    "## 문제 10"
   ]
  },
  {
   "cell_type": "code",
   "execution_count": 44,
   "metadata": {},
   "outputs": [
    {
     "name": "stdout",
     "output_type": "stream",
     "text": [
      "[80, 70, 50, 50]\n"
     ]
    }
   ],
   "source": [
    "scores = [[10,80],[70,40],[30,50],[50,20]]\n",
    "result = []\n",
    "for score in scores:\n",
    "    if score[0]>score[1]:\n",
    "        result.append(score[0])\n",
    "    else:\n",
    "        result.append(score[1])\n",
    "print(result)"
   ]
  }
 ],
 "metadata": {
  "kernelspec": {
   "display_name": "Python 3",
   "language": "python",
   "name": "python3"
  },
  "language_info": {
   "codemirror_mode": {
    "name": "ipython",
    "version": 3
   },
   "file_extension": ".py",
   "mimetype": "text/x-python",
   "name": "python",
   "nbconvert_exporter": "python",
   "pygments_lexer": "ipython3",
   "version": "3.7.3"
  }
 },
 "nbformat": 4,
 "nbformat_minor": 2
}
