{
 "cells": [
  {
   "cell_type": "markdown",
   "metadata": {},
   "source": [
    "## 문제 1\n",
    "### random 모듈을 이용해 사용자가 지정한 범위에서 임의의 수를 리턴하는 함수를 만들어 보자.(google 활용)\n",
    "#### get_randnumber(a,b) : a와 b사이의 임의의 수를 하나 리턴."
   ]
  },
  {
   "cell_type": "code",
   "execution_count": 9,
   "metadata": {},
   "outputs": [
    {
     "name": "stdout",
     "output_type": "stream",
     "text": [
      "63\n",
      "17\n",
      "61\n",
      "64\n",
      "84\n"
     ]
    }
   ],
   "source": [
    "import random\n",
    "def get_randnumber(a,b):\n",
    "    #함수 작성\n",
    "\n",
    "for i in range(5):\n",
    "    print(get_randnumber(1,100))"
   ]
  },
  {
   "cell_type": "markdown",
   "metadata": {},
   "source": [
    "## 문제 2\n",
    "### 다음과 같은 함수를 만들어 보세요. \n",
    "#### count_firstname(input) : 이름들을 가지고 있는 input 리스트의 성씨를 계산하여 성씨 별 사람 수를 내림차순 출력 \n",
    "#### input : 사람의 이름들이 들어있는 리스트, return : 없음"
   ]
  },
  {
   "cell_type": "code",
   "execution_count": 12,
   "metadata": {},
   "outputs": [
    {
     "name": "stdout",
     "output_type": "stream",
     "text": [
      "이 씨 :  3 명\n",
      "안 씨 :  1 명\n",
      "박 씨 :  1 명\n",
      "김 씨 :  2 명\n",
      "홍 씨 :  1 명\n"
     ]
    }
   ],
   "source": [
    "def count_firstname(input):\n",
    "    name_dict = {}\n",
    "    #코드 작성\n",
    "\n",
    "names = [\"이을용\",\"안정환\",\"박지성\",\"이운재\",\"김병지\",\"홍명보\",\"이천수\",\"김남일\"]\n",
    "count_firstname(names)"
   ]
  }
 ],
 "metadata": {
  "kernelspec": {
   "display_name": "Python 3",
   "language": "python",
   "name": "python3"
  },
  "language_info": {
   "codemirror_mode": {
    "name": "ipython",
    "version": 3
   },
   "file_extension": ".py",
   "mimetype": "text/x-python",
   "name": "python",
   "nbconvert_exporter": "python",
   "pygments_lexer": "ipython3",
   "version": "3.8.3"
  }
 },
 "nbformat": 4,
 "nbformat_minor": 2
}
