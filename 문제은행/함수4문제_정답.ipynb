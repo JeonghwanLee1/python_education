{
 "cells": [
  {
   "cell_type": "markdown",
   "metadata": {},
   "source": [
    "## 문제 1\n",
    "### 지난주에 풀었던 각 학생 리스트에서 60점 이상인 학생에 대해 합격을 출력하는 프로그램입니다. "
   ]
  },
  {
   "cell_type": "code",
   "execution_count": 1,
   "metadata": {},
   "outputs": [
    {
     "name": "stdout",
     "output_type": "stream",
     "text": [
      "1번 학생 축하합니다. 합격입니다. \n",
      "3번 학생 축하합니다. 합격입니다. \n",
      "5번 학생 축하합니다. 합격입니다. \n"
     ]
    }
   ],
   "source": [
    "marks = [90, 25, 67, 45, 80]\n",
    "\n",
    "for i,mark in enumerate(marks): \n",
    "    if mark < 60:\n",
    "        continue \n",
    "    print(\"%d번 학생 축하합니다. 합격입니다. \" % (i+1))"
   ]
  },
  {
   "cell_type": "markdown",
   "metadata": {},
   "source": [
    "### 위 프로그램을 함수화 시켜보세요. input : 학생의 점수 리스트, output(=return) : 없음"
   ]
  },
  {
   "cell_type": "code",
   "execution_count": 3,
   "metadata": {},
   "outputs": [
    {
     "name": "stdout",
     "output_type": "stream",
     "text": [
      "1번 학생 축하합니다. 합격입니다. \n",
      "3번 학생 축하합니다. 합격입니다. \n",
      "5번 학생 축하합니다. 합격입니다. \n"
     ]
    }
   ],
   "source": [
    "def check_pass(marks):\n",
    "    for i, mark in enumerate(marks):\n",
    "        if mark<60:\n",
    "            continue\n",
    "        print(\"%d번 학생 축하합니다. 합격입니다. \" % (i+1))\n",
    "    #함수 작성\n",
    "\n",
    "scores = [90,25,67,45,80]\n",
    "check_pass(scores)"
   ]
  },
  {
   "cell_type": "markdown",
   "metadata": {},
   "source": [
    "## 문제 2\n",
    "### 다음은 리스트의 각 원소를 두배 하여 저장하는 프로그램입니다."
   ]
  },
  {
   "cell_type": "code",
   "execution_count": 4,
   "metadata": {},
   "outputs": [
    {
     "name": "stdout",
     "output_type": "stream",
     "text": [
      "[2, 4, 6, 8, 10]\n"
     ]
    }
   ],
   "source": [
    "l_1 = [1, 2, 3, 4, 5]\n",
    "for i, elem in enumerate(l_1):\n",
    "    l_1[i]=elem*2\n",
    "print(l_1)"
   ]
  },
  {
   "cell_type": "markdown",
   "metadata": {},
   "source": [
    "### 위 프로그램을 참고하여 인풋 리스트의 각 원소를 두배 하여 새 리스트에 저장하며 return 하는 프로그램을 만들어보세요. input : 리스트, output : 각 원소가 두배 된 리스트"
   ]
  },
  {
   "cell_type": "code",
   "execution_count": 5,
   "metadata": {},
   "outputs": [
    {
     "data": {
      "text/plain": [
       "[2, 4, 6, 8, 10]"
      ]
     },
     "execution_count": 5,
     "metadata": {},
     "output_type": "execute_result"
    }
   ],
   "source": [
    "def double_list(input_list):\n",
    "    output = []\n",
    "    for elem in input_list:\n",
    "        output.append(elem*2)\n",
    "    return output\n",
    "\n",
    "l_1 = [1,2,3,4,5]\n",
    "print(double_list(l_1))"
   ]
  },
  {
   "cell_type": "markdown",
   "metadata": {},
   "source": [
    "## 문제 3\n",
    "### 문자열의 join을 이용해 문자열 리스트가 들어왔을 때 사이에 쉼표를 찍어 문자열로 반환하는 함수를 만들어 봅시다.\n",
    "### input : 문자열 리스트, output : 쉼표가 사이사이 들어간 문자열"
   ]
  },
  {
   "cell_type": "code",
   "execution_count": 6,
   "metadata": {},
   "outputs": [
    {
     "name": "stdout",
     "output_type": "stream",
     "text": [
      "a,b,c,d\n"
     ]
    }
   ],
   "source": [
    "def join_comma(str_list):\n",
    "    output = ','.join(str_list)\n",
    "    return output\n",
    "\n",
    "string = ['a','b','c','d']\n",
    "print(join_comma(string))"
   ]
  },
  {
   "cell_type": "markdown",
   "metadata": {},
   "source": [
    "## 문제 4\n",
    "### 점수 리스트가 들어왔을 때, 최대 점수와 최저 점수를 다음과 같은 형태로 출력하는 함수를 만들어 보세요\n",
    "#### 최고 점수는 90 점, 최저 점수는 50점 입니다.\n",
    "### input : 점수 리스트, output : 없음"
   ]
  },
  {
   "cell_type": "code",
   "execution_count": 8,
   "metadata": {},
   "outputs": [
    {
     "name": "stdout",
     "output_type": "stream",
     "text": [
      "최고 점수는 90 점, 최저 점수는 50 점 입니다.\n"
     ]
    }
   ],
   "source": [
    "def print_max_min(scores):\n",
    "    print(\"최고 점수는\",max(scores),\"점, 최저 점수는\",min(scores),\"점 입니다.\")\n",
    "scores = [50,60,70,80,90]\n",
    "print_max_min(scores)"
   ]
  }
 ],
 "metadata": {
  "kernelspec": {
   "display_name": "Python 3",
   "language": "python",
   "name": "python3"
  },
  "language_info": {
   "codemirror_mode": {
    "name": "ipython",
    "version": 3
   },
   "file_extension": ".py",
   "mimetype": "text/x-python",
   "name": "python",
   "nbconvert_exporter": "python",
   "pygments_lexer": "ipython3",
   "version": "3.6.4"
  }
 },
 "nbformat": 4,
 "nbformat_minor": 2
}
