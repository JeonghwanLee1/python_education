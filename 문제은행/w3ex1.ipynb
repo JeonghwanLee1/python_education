{
 "cells": [
  {
   "cell_type": "markdown",
   "metadata": {},
   "source": [
    "## 문제 1\n",
    "### sort, sorted 등의 함수를 사용하지 않고 for문을 이용해 리스트를 내림차순 정렬시켜 봅시다.\n",
    "##### 지난주의 최댓값 찾기 활용(혹은 MAX함수를 사용해도 괜찮습니다.)\n",
    "##### 첫 리스트의 최댓값을 찾아서 새 리스트에 append -> 해당 항목 삭제 -> 나머지 리스트에서 최댓값 찾아서 반복 -> 리스트 크기만큼 반복 후 완료!\n",
    "##### 가능하다면 max를 이용해 풀어보고, 지난주의 최댓값을 이용해 다시 풀어보세용"
   ]
  },
  {
   "cell_type": "code",
   "execution_count": 2,
   "metadata": {},
   "outputs": [
    {
     "name": "stdout",
     "output_type": "stream",
     "text": [
      "[90, 85, 70, 50, 20]\n"
     ]
    }
   ],
   "source": [
    "#지난주의 최댓값 찾기를 활용한 풀이\n",
    "scores = [20, 90, 70, 50, 85]\n",
    "sorted_score = []\n",
    "\n",
    "\n",
    "print(sorted_score)"
   ]
  },
  {
   "cell_type": "markdown",
   "metadata": {},
   "source": [
    "## 문제 2 \n",
    "### \"문자열\".join(리스트) 함수는 리스트를 통해 문자열을 만들되, 만드는 문자열 사이사이에 좌측의 문자열을 집어 넣는 함수입니다. 예) ','.join['1','2','3'] -> '1,2,3'\n",
    "### join을 활용해 주어진 리스트로부터 다음과 같은 결과를 만들어 봅시다.\n",
    "#### input list = ['a','b','c','d','e']  -> result = \"e and d and c and b and a\" (지난 시간에 배운 거꾸로 뒤집는 함수를 사용해야겠죠?)"
   ]
  },
  {
   "cell_type": "code",
   "execution_count": 10,
   "metadata": {},
   "outputs": [
    {
     "name": "stdout",
     "output_type": "stream",
     "text": [
      "e and d and c and b and a\n"
     ]
    }
   ],
   "source": [
    "input_list = ['a','b','c','d','e']\n",
    "\n",
    "\n",
    "print(result)"
   ]
  },
  {
   "cell_type": "markdown",
   "metadata": {},
   "source": [
    "## 문제 3 \n",
    "### 우리는 함수에 다양한 속성을 넣어 기능을 변화시키는 법에 대해 배웠습니다.(print의 end 같은)\n",
    "### 이와 유사한 기능을 찾아 사용하여 주어진 리스트를 내림차순 정렬해 보세요."
   ]
  },
  {
   "cell_type": "code",
   "execution_count": 11,
   "metadata": {
    "scrolled": false
   },
   "outputs": [
    {
     "name": "stdout",
     "output_type": "stream",
     "text": [
      "[60, 30, 25, 21, 13]\n"
     ]
    }
   ],
   "source": [
    "input_list = [25,13,60,30,21]\n",
    "sorted_list = sorted(input_list)    #오름차순 정렬(오답)\n",
    "print(sorted_list)"
   ]
  },
  {
   "cell_type": "markdown",
   "metadata": {},
   "source": [
    "## 문제 4 \n",
    "### 다음은 점프 투 파이썬 교재 내부의 continue 문을 이용한 60점 이상인 학생을 출력하는 프로그램입니다."
   ]
  },
  {
   "cell_type": "code",
   "execution_count": 12,
   "metadata": {
    "scrolled": false
   },
   "outputs": [
    {
     "name": "stdout",
     "output_type": "stream",
     "text": [
      "1번 학생 축하합니다. 합격입니다. \n",
      "3번 학생 축하합니다. 합격입니다. \n",
      "5번 학생 축하합니다. 합격입니다. \n"
     ]
    }
   ],
   "source": [
    "marks = [90, 25, 67, 45, 80]\n",
    "\n",
    "number = 0 \n",
    "for mark in marks: \n",
    "    number = number +1 \n",
    "    if mark < 60:\n",
    "        continue \n",
    "    print(\"%d번 학생 축하합니다. 합격입니다. \" % number)"
   ]
  },
  {
   "cell_type": "markdown",
   "metadata": {},
   "source": [
    "### 여기서 number 변수는 배열의 원소번호를 나타내기 위함이었는데요, 이렇게 비효율적인 코드를 지난 시간에 배웠던 range와 enumerate를 이용해 바꿔 봅시다."
   ]
  },
  {
   "cell_type": "markdown",
   "metadata": {},
   "source": [
    "## 문제 4-1\n",
    "### range를 이용한 풀이"
   ]
  },
  {
   "cell_type": "code",
   "execution_count": 19,
   "metadata": {
    "scrolled": false
   },
   "outputs": [
    {
     "name": "stdout",
     "output_type": "stream",
     "text": [
      "1번 학생 축하합니다. 합격입니다. \n",
      "3번 학생 축하합니다. 합격입니다. \n",
      "5번 학생 축하합니다. 합격입니다. \n"
     ]
    }
   ],
   "source": [
    "marks = [90, 25, 67, 45, 80]\n",
    "\n"
   ]
  },
  {
   "cell_type": "markdown",
   "metadata": {},
   "source": [
    "## 문제 4-2\n",
    "### enumerate를 이용한 풀이 (if mark가 아닌 if marks[i] 라고 쓰셨으면 비효율적으로 작성하신거겠죠?)"
   ]
  },
  {
   "cell_type": "code",
   "execution_count": 20,
   "metadata": {},
   "outputs": [
    {
     "name": "stdout",
     "output_type": "stream",
     "text": [
      "1번 학생 축하합니다. 합격입니다. \n",
      "3번 학생 축하합니다. 합격입니다. \n",
      "5번 학생 축하합니다. 합격입니다. \n"
     ]
    }
   ],
   "source": [
    "marks = [90, 25, 67, 45, 80]\n",
    "\n"
   ]
  },
  {
   "cell_type": "markdown",
   "metadata": {},
   "source": [
    "## 문제 5 \n",
    "### 다음은 for문을 두번 사용하여 구구단을 출력하는 프로그램입니다. 다음 시간까지 이 코드를 꼭 이해해서 오도록 해 봅시다!!!(출력 형태, 프로그램의 구현 원리 등 전부)"
   ]
  },
  {
   "cell_type": "code",
   "execution_count": 32,
   "metadata": {},
   "outputs": [
    {
     "name": "stdout",
     "output_type": "stream",
     "text": [
      "2 x 1 = 2  3 x 1 = 3  4 x 1 = 4  5 x 1 = 5  6 x 1 = 6  7 x 1 = 7  8 x 1 = 8  9 x 1 = 9  \n",
      "2 x 2 = 4  3 x 2 = 6  4 x 2 = 8  5 x 2 = 10  6 x 2 = 12  7 x 2 = 14  8 x 2 = 16  9 x 2 = 18  \n",
      "2 x 3 = 6  3 x 3 = 9  4 x 3 = 12  5 x 3 = 15  6 x 3 = 18  7 x 3 = 21  8 x 3 = 24  9 x 3 = 27  \n",
      "2 x 4 = 8  3 x 4 = 12  4 x 4 = 16  5 x 4 = 20  6 x 4 = 24  7 x 4 = 28  8 x 4 = 32  9 x 4 = 36  \n",
      "2 x 5 = 10  3 x 5 = 15  4 x 5 = 20  5 x 5 = 25  6 x 5 = 30  7 x 5 = 35  8 x 5 = 40  9 x 5 = 45  \n",
      "2 x 6 = 12  3 x 6 = 18  4 x 6 = 24  5 x 6 = 30  6 x 6 = 36  7 x 6 = 42  8 x 6 = 48  9 x 6 = 54  \n",
      "2 x 7 = 14  3 x 7 = 21  4 x 7 = 28  5 x 7 = 35  6 x 7 = 42  7 x 7 = 49  8 x 7 = 56  9 x 7 = 63  \n",
      "2 x 8 = 16  3 x 8 = 24  4 x 8 = 32  5 x 8 = 40  6 x 8 = 48  7 x 8 = 56  8 x 8 = 64  9 x 8 = 72  \n",
      "2 x 9 = 18  3 x 9 = 27  4 x 9 = 36  5 x 9 = 45  6 x 9 = 54  7 x 9 = 63  8 x 9 = 72  9 x 9 = 81  \n"
     ]
    }
   ],
   "source": [
    "for left in range(1,10):\n",
    "    for right in range(2,10):\n",
    "        print(right,'x',left,'=',left*right,end='  ')\n",
    "    print(\"\")"
   ]
  },
  {
   "cell_type": "markdown",
   "metadata": {},
   "source": [
    "## 문제 6\n",
    "### Factorial(n) : n! 은 n부터 1까지의 모든 숫자를 곱한 결과를 리턴하는 수식입니다. ex) 5! = 5x4x3x2x1 = 120\n",
    "### n이 주어졌을 때 Factorial을 구하는 프로그램을 작성해 봅시다. (15! = 1307674368000)\n",
    "##### hint) for, range 이용\n",
    "##### sum 을 구하는 방식과 유사"
   ]
  },
  {
   "cell_type": "code",
   "execution_count": 40,
   "metadata": {},
   "outputs": [
    {
     "name": "stdout",
     "output_type": "stream",
     "text": [
      "1307674368000\n"
     ]
    }
   ],
   "source": [
    "n = 15\n",
    "\n"
   ]
  },
  {
   "cell_type": "markdown",
   "metadata": {},
   "source": [
    "## 문제 7\n",
    "### 단어 s의 가운데 글자를 출력하는 프로그램을 만들어 보세요. 단어의 길이가 짝수라면 가운데 두글자를 반환하면 됩니다. 두가지 case 모두 바꿔가며 실행하며 적절한 프로그램을 만들어 보세요.\n",
    "##### hint)정수 나누기, 나머지연산, len() 활용 "
   ]
  },
  {
   "cell_type": "code",
   "execution_count": 37,
   "metadata": {
    "scrolled": false
   },
   "outputs": [
    {
     "name": "stdout",
     "output_type": "stream",
     "text": [
      "c\n"
     ]
    }
   ],
   "source": [
    "s = \"abcde\"   #c출력\n",
    "#s = \"abcdef\"   #cd출력\n",
    "\n",
    "\n",
    "\n",
    "print(result)"
   ]
  },
  {
   "cell_type": "markdown",
   "metadata": {},
   "source": [
    "## 문제 8\n",
    "### 저장되어있는 사전 리스트와, 사용자가 입력한 단어 리스트가 있을 때 사용자가 입력한 단어가 사전에 존재하는 단어인지 확인하는 프로그램을 작성해 봅시다. 출력 형태는 다음과 같아야 합니다.\n",
    "### 사전 = [\"rare\",\"commission\",\"assist\",\"longevity\",\"devris\"]\n",
    "### 사용자 입력 = [\"rare\", \"asist\",\"devis\",\"comision\",\"longevity\"] 일 때,\n",
    "\n",
    "#### rare 는 존재하는 단어입니다.\n",
    "#### asist 는 존재하지 않습니다!\n",
    "#### devis 는 존재하지 않습니다!\n",
    "#### comision 는 존재하지 않습니다!\n",
    "#### longevity 는 존재하는 단어입니다.\n",
    "##### hint)구글에서 리스트의 in 연산을 알아봅시다!!"
   ]
  },
  {
   "cell_type": "code",
   "execution_count": 41,
   "metadata": {},
   "outputs": [
    {
     "name": "stdout",
     "output_type": "stream",
     "text": [
      "rare 는 존재하는 단어입니다.\n",
      "asist 는 존재하지 않습니다!\n",
      "devis 는 존재하지 않습니다!\n",
      "comision 는 존재하지 않습니다!\n",
      "longevity 는 존재하는 단어입니다.\n"
     ]
    }
   ],
   "source": [
    "dictionary = [\"rare\",\"commission\",\"assist\",\"longevity\",\"devris\"]\n",
    "user_input = [\"rare\", \"asist\",\"devis\",\"comision\",\"longevity\"]\n",
    "\n"
   ]
  },
  {
   "cell_type": "markdown",
   "metadata": {},
   "source": [
    "## 문제 9(함수 부분을 예습했으면 풀어보세요)\n",
    "### 문제6의 팩토리얼 프로그램을 함수로 바꿔봅시다. 함수의 반환값은 n! 이 되어야 하고, 숫자 하나를 입력받을 것입니다.\n"
   ]
  },
  {
   "cell_type": "code",
   "execution_count": 43,
   "metadata": {},
   "outputs": [
    {
     "name": "stdout",
     "output_type": "stream",
     "text": [
      "120\n",
      "1307674368000\n"
     ]
    }
   ],
   "source": [
    "def factorial(n):\n",
    "    #함수 내부\n",
    "\n",
    "\n",
    "print(factorial(5))\n",
    "print(factorial(15))"
   ]
  }
 ],
 "metadata": {
  "kernelspec": {
   "display_name": "Python 3",
   "language": "python",
   "name": "python3"
  },
  "language_info": {
   "codemirror_mode": {
    "name": "ipython",
    "version": 3
   },
   "file_extension": ".py",
   "mimetype": "text/x-python",
   "name": "python",
   "nbconvert_exporter": "python",
   "pygments_lexer": "ipython3",
   "version": "3.8.3"
  }
 },
 "nbformat": 4,
 "nbformat_minor": 2
}
