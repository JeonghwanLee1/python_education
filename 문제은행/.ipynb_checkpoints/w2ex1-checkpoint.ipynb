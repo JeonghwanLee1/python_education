{
 "cells": [
  {
   "cell_type": "markdown",
   "metadata": {},
   "source": [
    "## 문제 1\n",
    "### 리스트의 내용물을 두배 곱하여 다시 저장해 봅시다. 지난 시간의 자료를 보지 않고 해결해 보세요. (enumerate를 사용하지 않아도 됩니다.)"
   ]
  },
  {
   "cell_type": "code",
   "execution_count": 35,
   "metadata": {},
   "outputs": [
    {
     "name": "stdout",
     "output_type": "stream",
     "text": [
      "[2, 4, 6, 8, 10]\n"
     ]
    }
   ],
   "source": [
    "l_1 = [1, 2, 3, 4, 5]\n",
    "for i, elem in enumerate(l_1):\n",
    "    #enumerate 이용\n",
    "print(l_1)"
   ]
  },
  {
   "cell_type": "markdown",
   "metadata": {},
   "source": [
    "## 문제 2 \n",
    "### 위의 문제를 응용하여, 리스트의 내용물이 홀수라면 두배 곱하여 저장하는 프로그램을 작성해 봅시다. for문 내부에 if문을 사용해야겠죠?  (enumerate를 사용하지 않아도 됩니다.)"
   ]
  },
  {
   "cell_type": "code",
   "execution_count": 36,
   "metadata": {},
   "outputs": [
    {
     "name": "stdout",
     "output_type": "stream",
     "text": [
      "[2, 2, 6, 4, 10]\n"
     ]
    }
   ],
   "source": [
    "l_1 = [1, 2, 3, 4, 5]\n",
    "for i, elem in enumerate(l_1):\n",
    "    #enumerate를 이용\n",
    "print(l_1)"
   ]
  },
  {
   "cell_type": "markdown",
   "metadata": {},
   "source": [
    "## 문제 3 \n",
    "### for문을 이용하여 아래와 같은 출력이 나오도록 해 봅시다. 더 좋은 방법이 생각나시면 제가 작성한 부분을 지우셔도 됩니다.\n",
    "\n",
    "\\*  \n",
    "\\*\\*  \n",
    "\\*\\*\\*  \n",
    "\\*\\*\\*\\*  \n",
    "\\*\\*\\*\\*\\*  "
   ]
  },
  {
   "cell_type": "code",
   "execution_count": 37,
   "metadata": {
    "scrolled": false
   },
   "outputs": [
    {
     "name": "stdout",
     "output_type": "stream",
     "text": [
      "*\n",
      "**\n",
      "***\n",
      "****\n",
      "*****\n"
     ]
    }
   ],
   "source": [
    "for i in [1,2,3,4,5]:\n",
    "#위 for 문을 이용해 작성"
   ]
  },
  {
   "cell_type": "markdown",
   "metadata": {},
   "source": [
    "## 문제 4 \n",
    "### max, sort, sorted 등의 함수를 사용하지 않고 for문을 이용해 리스트의 최대값을 찾아 봅시다.\n",
    "##### hint) 최대값 변수를 만든 후 첫 원소를 최대값으로 두고, 다음 원소가 해당 원소보다 크다면 최대값 변수의 값을 해당 값으로 교체 "
   ]
  },
  {
   "cell_type": "code",
   "execution_count": 38,
   "metadata": {
    "scrolled": false
   },
   "outputs": [
    {
     "name": "stdout",
     "output_type": "stream",
     "text": [
      "90\n"
     ]
    }
   ],
   "source": [
    "scores = [20, 90, 70, 50, 85]\n",
    "max_score = scores[0] #20의 값을 가지고 시작\n",
    "for score in scores:\n",
    "    #for문을 이용하여 max_score 대체\n",
    "print(max_score)"
   ]
  },
  {
   "cell_type": "markdown",
   "metadata": {},
   "source": [
    "## 문제 5 \n",
    "### 최대 점수의 동점자 수를 찾아 출력해봅시다. 아래의 경우에 최대 점수는 90점이고, 90점을 기록한 사람이 3명이니 3이 출력되어야 합니다\n",
    "##### count() 함수와 max() 함수 이용"
   ]
  },
  {
   "cell_type": "code",
   "execution_count": 45,
   "metadata": {},
   "outputs": [
    {
     "name": "stdout",
     "output_type": "stream",
     "text": [
      "3\n"
     ]
    }
   ],
   "source": [
    "scores = [90, 20, 30, 40, 80, 90, 10, 90]\n",
    "#최대 점수를 찾은 후, 최대 점수의 동점자가 몇명인지 출력합시다(max, count함수 이용)\n"
   ]
  },
  {
   "cell_type": "markdown",
   "metadata": {},
   "source": [
    "## 문제 6 \n",
    "### 아래의 scores 리스트는 각 사람의 점수, names는 각 사람의 이름을 나타내는 리스트입니다. 동일 위치를 동일한 사람으로 간주합니다. 예) Lee는 90점, Kim은 20점, ...\n",
    "### for와 if문, 가능하다면 enumerate를 이용하여 점수가 80점 이상인 사람의 이름을 출력해 보세요.\n",
    "##### 문제가 어렵다면 점프 투 파이썬 03-3 for문 - 3.for문의 응용 참고"
   ]
  },
  {
   "cell_type": "code",
   "execution_count": 40,
   "metadata": {
    "scrolled": false
   },
   "outputs": [
    {
     "name": "stdout",
     "output_type": "stream",
     "text": [
      "Lee\n",
      "Yang\n"
     ]
    }
   ],
   "source": [
    "scores = [90, 20, 70, 50, 85]\n",
    "names = ['Lee','Kim','Son','Park','Yang']\n",
    "for i,score in enumerate(scores):\n",
    "    #점수가 80점 이상인 사람의 이름 출력"
   ]
  },
  {
   "cell_type": "markdown",
   "metadata": {},
   "source": [
    "## 문제 7 \n",
    "### 평문을 암호문으로 바꾸는 프로그램을 작성하려 합니다. 평문은 알파벳 소문자로만 이루어져 있다고 가정하고, 암호문을 만드는 규칙은 다음과 같습니다.\n",
    "#### 1) 암호문의 't' 를 모두 '\\*'로 대체\n",
    "#### 2) 암호문의 'i' 를 모두 '^'로 대체\n",
    "#### 3) 암호문의 'e' 를 모두 '#'로 대체\n",
    "#### 4) 대체가 끝난 문장을 모두 대문자로 교체\n",
    "#### 5) 대문자로 교체한 문장을 거꾸로 뒤집기\n",
    "\n",
    "### 문제에서 주어진 'this is an encrypted sentence' 는 1) 2) 3) 과정을 거친 후 '\\*h^s ^s an #ncryp\\*#d s#n\\*#nc#'  가 되고, 대문자로 바뀌어 거꾸로 출력되면 '#CN#\\*N#S D#\\*PYRCN# NA S^ S^H\\*' 가 됩니다.\n",
    "### replace 함수(문자열에서 문자를 대체하는 함수), upper함수(문자열을 대문자로 교체하는 함수), reversed 함수(문자열을 거꾸로 뒤집는 함수) 를 이용해 프로그램을 만들어 보세요.\n",
    "##### hint 1) replace 함수는 원본을 수정하지 않고, return 이 있는 함수입니다.\n",
    "##### hint 2) upper 함수 또한 원본을 수정하지 않고, return 이 있는 함수입니다.\n",
    "##### hint 3) reversed 함수 또한 마찬가지이지만, reversed object라는 특이한 형태의 데이터를 return합니다. 이 reversed object를 문자열로 바꾸기 위해 join 연산을 이용해야 합니다. google을 이용 합시다 ^^"
   ]
  },
  {
   "cell_type": "code",
   "execution_count": 41,
   "metadata": {},
   "outputs": [
    {
     "name": "stdout",
     "output_type": "stream",
     "text": [
      "#CN#*N#S D#*PYRCN# NA S^ S^H*\n"
     ]
    }
   ],
   "source": [
    "string = \"this is an encrypted sentence\"\n",
    "#암호화 작업"
   ]
  },
  {
   "cell_type": "markdown",
   "metadata": {},
   "source": [
    "## 문제 8 \n",
    "### 자연수로 이루어진 리스트가 주어졌을 때, for와 if문을 이용하여 해당 리스트의 원소들이 홀수인지 짝수인지를 출력하는 프로그램을 만들어 봅시다. 출력 형태는 반드시! 다음과 같아야 합니다. 출력 형태가 어렵다면 점프 투 파이썬 02-2 문자열 부분을 참고합시다.\n",
    "#### [1,5,4] 로 이루어진 리스트가 있을 때,\n",
    "#### 1 : 홀수입니다.\n",
    "#### 5 : 홀수입니다.\n",
    "#### 4 : 짝수입니다."
   ]
  },
  {
   "cell_type": "code",
   "execution_count": 42,
   "metadata": {
    "scrolled": true
   },
   "outputs": [
    {
     "name": "stdout",
     "output_type": "stream",
     "text": [
      "1  : 홀수입니다.\n",
      "5  : 홀수입니다.\n",
      "4  : 짝수입니다.\n",
      "7  : 홀수입니다.\n",
      "3  : 홀수입니다.\n",
      "31  : 홀수입니다.\n",
      "22  : 짝수입니다.\n",
      "32  : 짝수입니다.\n",
      "55  : 홀수입니다.\n"
     ]
    }
   ],
   "source": [
    "numbers = [1,5,4,7,3,31,22,32,55]\n",
    "for number in numbers:\n",
    "    #홀수와 짝수 판별"
   ]
  },
  {
   "cell_type": "markdown",
   "metadata": {},
   "source": [
    "## 문제 9 \n",
    "### 생년월일 문자열로 이루어진 리스트가 있을 떄, for과 if문을 이용해 해당 리스트의 생년월일이 적절한 숫자들로 이루어져 있는지를 판단하는 프로그램을 작성해 봅시다. 생년월일의 조건은 다음과 같습니다.\n",
    "#### 1) 년은 1900년 이상 2020년 이하여야 합니다.\n",
    "#### 2) 월은 1이상 12이하여야 합니다.\n",
    "#### 3) 일은 1이상 31이하여야 합니다.(달 별 일수는 고려하지 않습니다) \n",
    "#### 4) 올바르지 않은 부분이 모두 아래와 같이 출력되어야 합니다.\n",
    "##### 18801211\n",
    "##### 올바르지 않은 년도 입니다.\n",
    "##### 18901235\n",
    "##### 올바르지 않은 년도 입니다.\n",
    "##### 올바르지 않은 일 입니다."
   ]
  },
  {
   "cell_type": "code",
   "execution_count": 43,
   "metadata": {},
   "outputs": [
    {
     "name": "stdout",
     "output_type": "stream",
     "text": [
      "19931111\n",
      "18801211\n",
      "올바르지 않은 년도 입니다.\n",
      "19951310\n",
      "올바르지 않은 월 입니다.\n",
      "19921235\n",
      "올바르지 않은 일 입니다.\n",
      "18901235\n",
      "올바르지 않은 년도 입니다.\n",
      "올바르지 않은 일 입니다.\n"
     ]
    }
   ],
   "source": [
    "births = ['19931111','18801211','19951310','19921235', '18901235']\n",
    "for birth in births:\n",
    "    #각 birth를 판별하는 프로그램 작성"
   ]
  },
  {
   "cell_type": "markdown",
   "metadata": {},
   "source": [
    "## 문제 10\n",
    "### 네 사람의 두번의 시험 데이터가 존재할 때, 두 시험 점수 중 높은 점수만 골라 리스트에 저장하여 출력해 봅시다. 아래의 문제에서 첫번째 사람은 두 시험에서 10점, 80점을 받았으니 80점이 리스트에 저장되어야 합니다."
   ]
  },
  {
   "cell_type": "code",
   "execution_count": 44,
   "metadata": {},
   "outputs": [
    {
     "name": "stdout",
     "output_type": "stream",
     "text": [
      "[80, 70, 50, 50]\n"
     ]
    }
   ],
   "source": [
    "scores = [[10,80],[70,40],[30,50],[50,20]]\n",
    "#[1차 점수, 2차 점수] 로 이루어진 리스트\n",
    "result = []\n",
    "for score in scores:\n",
    "    #result에 둘 중 높은 점수만 저장.\n",
    "print(result)"
   ]
  }
 ],
 "metadata": {
  "kernelspec": {
   "display_name": "Python 3",
   "language": "python",
   "name": "python3"
  },
  "language_info": {
   "codemirror_mode": {
    "name": "ipython",
    "version": 3
   },
   "file_extension": ".py",
   "mimetype": "text/x-python",
   "name": "python",
   "nbconvert_exporter": "python",
   "pygments_lexer": "ipython3",
   "version": "3.6.4"
  }
 },
 "nbformat": 4,
 "nbformat_minor": 2
}
