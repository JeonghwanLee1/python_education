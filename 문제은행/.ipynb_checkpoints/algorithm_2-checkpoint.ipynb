{
 "cells": [
  {
   "cell_type": "code",
   "execution_count": 1,
   "metadata": {
    "scrolled": true
   },
   "outputs": [
    {
     "data": {
      "text/html": [
       "<style>\n",
       "    table {\n",
       "        display: inline-block;\n",
       "        \n",
       "    }\n",
       "    table td{\n",
       "        font-size : 14px;\n",
       "        text-align:left;\n",
       "        border : 1px solid black;\n",
       "    }\n",
       "    \n",
       "</style>\n"
      ],
      "text/plain": [
       "<IPython.core.display.HTML object>"
      ]
     },
     "metadata": {},
     "output_type": "display_data"
    }
   ],
   "source": [
    "%%html\n",
    "<style>\n",
    "    table {\n",
    "        display: inline-block;\n",
    "    }\n",
    "    table td{\n",
    "        font-size : 14px;\n",
    "        text-align:left;\n",
    "        border : 1px solid black;\n",
    "    }\n",
    "</style>"
   ]
  },
  {
   "cell_type": "markdown",
   "metadata": {},
   "source": [
    "## 1. 두 수 a, b를 입력받아 a를 b로 나눈 몫과 나머지를 반환하는 프로그램을 작성해 봅시다. (난이도 하)\n",
    "### input = 1이상 10000이하의 두 자연수\n",
    "### output = (몫, 나머지)"
   ]
  },
  {
   "cell_type": "markdown",
   "metadata": {},
   "source": [
    "\n",
    "\n",
    "|case| input|   output  |\n",
    "|:----|------------|------------|\n",
    "|case 1|5,4|(1,1)|\n",
    "|case 2|100,50|(2,0)|\n",
    "|case 3|2,100|(0,100)|\n",
    "|case 4|3,33|(0,33)|\n",
    "|case 5|10,1|(10,0)|"
   ]
  },
  {
   "cell_type": "markdown",
   "metadata": {},
   "source": [
    "## 2. 문자열을 입력받아 5번 반복하여 반환하는 프로그램을 작성해 봅시다.(난이도 하)\n",
    "### input = 길이 10이하의 두 문자열\n",
    "### output = 5번 반복된 문자열"
   ]
  },
  {
   "cell_type": "markdown",
   "metadata": {},
   "source": [
    "\n",
    "\n",
    "|case| input|   output  |\n",
    "|:----|------------|------------|\n",
    "|case 1|\"abc\"|\"abcabcabcabcabcabcabcabcabcabc\"|\n",
    "|case 2|\"1\"|\"1111111111\"|\n",
    "|case 3|\"\"|\"\"|"
   ]
  },
  {
   "cell_type": "markdown",
   "metadata": {},
   "source": [
    "## 3. 주민등록번호를 입력받아 생년 부분만 잘라서 반환하는 프로그램을 작성해 봅시다.(난이도 하)\n",
    "### input = 길이 14의 주민등록번호 문자열(-포함)\n",
    "### output = 생년 부분"
   ]
  },
  {
   "cell_type": "markdown",
   "metadata": {},
   "source": [
    "\n",
    "\n",
    "|case| input|   output  |\n",
    "|:----|------------|------------|\n",
    "|case 1|\"931111-1234567\"|\"93\"|\n",
    "|case 2|\"881212-1154754\"|\"88\"|\n",
    "|case 3|\"911211-2014454\"|\"91\"|"
   ]
  },
  {
   "cell_type": "markdown",
   "metadata": {},
   "source": [
    "## 4. 주민등록번호를 입력받아 생년 부분이 93 이상이고 성별이 남성인지 여부를 반환하는 프로그램을 작성해 봅시다.(난이도 하)\n",
    "### input = 길이 14의 주민등록번호 문자열(-포함)\n",
    "### output = boolean"
   ]
  },
  {
   "cell_type": "markdown",
   "metadata": {},
   "source": [
    "\n",
    "\n",
    "|case| input|   output  |\n",
    "|:----|------------|------------|\n",
    "|case 1|\"931111-1234567\"|True|\n",
    "|case 2|\"901212-1154754\"|False|\n",
    "|case 3|\"951211-2014454\"|False|"
   ]
  },
  {
   "cell_type": "markdown",
   "metadata": {},
   "source": [
    "## 5. 리스트의 원소를 공백을 이용해 입력받아 해당 리스트를 정렬하여 반환하는 프로그램을 작성해 봅시다.(난이도 하)\n",
    "### input = 길이 10 이하의 정수 리스트\n",
    "### output = 정렬된 리스트"
   ]
  },
  {
   "cell_type": "markdown",
   "metadata": {},
   "source": [
    "\n",
    "\n",
    "|case| input|   output  |\n",
    "|:----|------------|------------|\n",
    "|case 1|\"10 15 5 4 7 3\"|[3, 4, 5, 7, 10, 15]|\n",
    "|case 2|\"1 99 -1 3 0\"|[-1, 0, 1, 3, 99]|\n",
    "|case 3|\"1 1 2 2 0\"|[0, 1, 1, 2, 2]|\n"
   ]
  },
  {
   "cell_type": "markdown",
   "metadata": {},
   "source": [
    "## 6. 리스트의 원소를 공백을 이용해 입력받아 해당 리스트의 마지막 값에 1을 더한 값을 추가하여 반환하는 프로그램을 작성해 봅시다.(난이도 하)\n",
    "### input = 길이 10 이하의 정수 리스트\n",
    "### output = 값이 추가된 리스트"
   ]
  },
  {
   "cell_type": "markdown",
   "metadata": {},
   "source": [
    "|case| input|   output  |\n",
    "|:----|------------|------------|\n",
    "|case 1|\"10 15 5 4 7 3\"|[10, 15, 5, 4, 7, 3, 4]|\n",
    "|case 2|\"1 99 -1 3 0\"|[1, 99, -1, 3, 0, 1]|\n",
    "|case 3|\"0\"|[0, 1]|"
   ]
  },
  {
   "cell_type": "markdown",
   "metadata": {},
   "source": [
    "## 7. 리스트의 원소를 공백을 이용해 입력받아 해당 리스트의 최대값을 반환하는 프로그램을 작성해 봅시다.(난이도 하)\n",
    "### input = 길이 10 이하의 정수 리스트\n",
    "### output = 최대값"
   ]
  },
  {
   "cell_type": "markdown",
   "metadata": {},
   "source": [
    "|case| input|   output  |\n",
    "|:----|------------|------------|\n",
    "|case 1|\"10 15 5 4 7 3\"|15|\n",
    "|case 2|\"1 99 -1 3 0\"|99|\n",
    "|case 3|\"0\"|0|"
   ]
  },
  {
   "cell_type": "markdown",
   "metadata": {},
   "source": [
    "## 8. 리스트의 원소를 공백을 이용해 입력받아 해당 리스트의 최대값을 삭제하는 프로그램을 작성해 봅시다.(난이도 하)\n",
    "### input = 길이 10 이하의 정수 리스트\n",
    "### output = 최대값이 삭제된 리스트"
   ]
  },
  {
   "cell_type": "markdown",
   "metadata": {},
   "source": [
    "|case| input|   output  |\n",
    "|:----|------------|------------|\n",
    "|case 1|\"10 15 5 4 7 3\"|[10, 5, 4, 7, 3]|\n",
    "|case 2|\"1 99 -1 3 0\"|[1, -1, 3, 0]|\n",
    "|case 3|\"0\"|[]|"
   ]
  },
  {
   "cell_type": "markdown",
   "metadata": {},
   "source": [
    "## 9. 문자열을 입력받아 해당 문자열의 문자와 문자 사이에 ','를 추가하여 반환하는 프로그램을 작성해 봅시다.(난이도 하)\n",
    "### input = 길이 10 이하의 문자열\n",
    "### output = 결과 문자열"
   ]
  },
  {
   "cell_type": "markdown",
   "metadata": {},
   "source": [
    "|case| input|   output  |\n",
    "|:----|------------|------------|\n",
    "|case 1|\"abcde\"|\"a,b,c,d,e\"|\n",
    "|case 2|\",ab\"|\",,a,b,\"|\n",
    "|case 3|\"\"|\"\"|"
   ]
  },
  {
   "cell_type": "markdown",
   "metadata": {},
   "source": [
    "## 10. 문자열을 입력받아 해당 문자열의 앞 뒤 공백을 제거하고 문자열의 a를 z로 대체하여 반환하는 프로그램을 작성해 봅시다.(난이도 하)\n",
    "### input = 길이 10 이하의 정수 리스트\n",
    "### output = 최대값"
   ]
  },
  {
   "cell_type": "markdown",
   "metadata": {},
   "source": [
    "|case| input|   output  |\n",
    "|:----|------------|------------|\n",
    "|case 1|\"    abc \"|\"zbc\"|\n",
    "|case 2|\".bc \"|\".bc\"|\n",
    "|case 3|\"a\"|\"z\"|"
   ]
  }
 ],
 "metadata": {
  "kernelspec": {
   "display_name": "Python 3",
   "language": "python",
   "name": "python3"
  },
  "language_info": {
   "codemirror_mode": {
    "name": "ipython",
    "version": 3
   },
   "file_extension": ".py",
   "mimetype": "text/x-python",
   "name": "python",
   "nbconvert_exporter": "python",
   "pygments_lexer": "ipython3",
   "version": "3.7.3"
  }
 },
 "nbformat": 4,
 "nbformat_minor": 2
}
