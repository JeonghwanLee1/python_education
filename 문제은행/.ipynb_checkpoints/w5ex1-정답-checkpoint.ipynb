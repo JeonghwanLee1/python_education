{
 "cells": [
  {
   "cell_type": "markdown",
   "metadata": {},
   "source": [
    "## 문제 1\n",
    "### 아래의 scores 리스트는 각 사람의 점수, names는 각 사람의 이름을 나타내는 리스트입니다. 동일 위치를 동일한 사람으로 간주합니다. 예) Lee는 90점, Kim은 20점, ...\n",
    "### 주어진 리스트와 딕셔너리를 이용해 사람 별 점수를 체계적으로 저장해 보세요. \n",
    "### 예) Key = 'Lee', Value = 20 "
   ]
  },
  {
   "cell_type": "code",
   "execution_count": 2,
   "metadata": {
    "scrolled": false
   },
   "outputs": [
    {
     "name": "stdout",
     "output_type": "stream",
     "text": [
      "{'Lee': 90, 'Kim': 20, 'Son': 70, 'Park': 50, 'Yang': 85}\n"
     ]
    }
   ],
   "source": [
    "scores = [90, 20, 70, 50, 85]\n",
    "names = ['Lee','Kim','Son','Park','Yang']\n",
    "score_dict = {}\n",
    "for i,name in enumerate(names):\n",
    "    score_dict[name]=scores[i]\n",
    "print(score_dict)"
   ]
  },
  {
   "cell_type": "markdown",
   "metadata": {},
   "source": [
    "## 문제 2\n",
    "### 딕셔너리를 이용해 전화번호부를 만들고자 합니다. 전화번호부의 구성은 다음과 같습니다.\n",
    "#### Key = '전화번호', Value = ['성','이름', 나이]\n",
    "### 아래와 같은 데이터를 이용해 전화번호부 딕셔너리를 만들어 보세요."
   ]
  },
  {
   "cell_type": "code",
   "execution_count": 3,
   "metadata": {},
   "outputs": [
    {
     "name": "stdout",
     "output_type": "stream",
     "text": [
      "{'01068997439': ['Lee', 'Jeonghwan', 30], '01077771111': ['Kim', 'Jeongsoo', 40], '01012345678': ['Son', 'Heungmin', 50]}\n"
     ]
    }
   ],
   "source": [
    "first_names = ['Lee', 'Kim', 'Son']\n",
    "last_names = ['Jeonghwan', 'Jeongsoo', 'Heungmin']\n",
    "numbers = ['01068997439','01077771111','01012345678']\n",
    "ages = [30,40,50]\n",
    "phonebook={}\n",
    "for i,number in enumerate(numbers):\n",
    "    phonebook[number] = [first_names[i],last_names[i],ages[i]]\n",
    "print(phonebook)"
   ]
  },
  {
   "cell_type": "markdown",
   "metadata": {},
   "source": [
    "### 해당 딕셔너리에서 전화번호가 01012345678 인 사람의 성을 Kim으로 수정해 보세요."
   ]
  },
  {
   "cell_type": "code",
   "execution_count": 4,
   "metadata": {
    "scrolled": false
   },
   "outputs": [
    {
     "name": "stdout",
     "output_type": "stream",
     "text": [
      "['Kim', 'Heungmin', 50]\n"
     ]
    }
   ],
   "source": [
    "phonebook['01012345678'][0] = 'Kim'\n",
    "print(phonebook['01012345678'])    #수정 결과 확인"
   ]
  },
  {
   "cell_type": "markdown",
   "metadata": {},
   "source": [
    "## 문제 3\n",
    "### 각 사람별 금액을 저장한 딕셔너리에서 추가금 리스트를 읽어 저장된 딕셔너리에 더하는 프로그램을 작성해 보세요."
   ]
  },
  {
   "cell_type": "code",
   "execution_count": 5,
   "metadata": {
    "scrolled": true
   },
   "outputs": [
    {
     "name": "stdout",
     "output_type": "stream",
     "text": [
      "{'Kim': 51000, 'Lee': 12000, 'Son': 5000}\n"
     ]
    }
   ],
   "source": [
    "accounts = {'Kim':50000,'Lee':10000,'Son':2000}\n",
    "adds = [['Kim',1000],['Son',3000],['Lee',2000]]\n",
    "#Kim에 1000원 더하기, Lee에 2000원 더하기, Son에 3000원 더하기\n",
    "for elem in adds:\n",
    "    accounts[elem[0]]+=elem[1]\n",
    "print(accounts)"
   ]
  },
  {
   "cell_type": "markdown",
   "metadata": {},
   "source": [
    "## 문제 4\n",
    "### 가게의 방문 쿠폰 저장 딕셔너리를 만드려고 한다. 가게의 방문하는 사람을 알리는 리스트가 존재할 때, 해당 리스트를 읽어와 방문 수를 증가시키는 프로그램을 작성해 보자\n",
    "#### 처음 방문하는 사람이라면, 딕셔너리에 새로운 key를 Value가 1인 상태로 등록하여야 한다."
   ]
  },
  {
   "cell_type": "code",
   "execution_count": 6,
   "metadata": {
    "scrolled": true
   },
   "outputs": [
    {
     "name": "stdout",
     "output_type": "stream",
     "text": [
      "{'Kim': 3, 'Son': 1, 'Lee': 2}\n"
     ]
    }
   ],
   "source": [
    "visits = ['Kim','Son','Kim','Lee','Kim','Lee']\n",
    "coupons = {}\n",
    "for elem in visits:\n",
    "    if elem in coupons:\n",
    "        coupons[elem]+=1\n",
    "    else:\n",
    "        coupons[elem]=1\n",
    "\n",
    "print(coupons)"
   ]
  },
  {
   "cell_type": "markdown",
   "metadata": {},
   "source": [
    "## 문제 5\n",
    "### 여행지 리스트가 있을 때, 5명의 여행지 다중 투표 결과를 딕셔너리를 이용해 집계하려고 한다. 여행지 리스트를 이용해 각 여행지명을 Key로 가지고 Value가 0인 딕셔너리를 생성한 후, 투표 결과를 이용해서 여행지별 투표수를 집계하자. 이후 최대 득표 여행지를 출력하자."
   ]
  },
  {
   "cell_type": "code",
   "execution_count": 8,
   "metadata": {},
   "outputs": [
    {
     "name": "stdout",
     "output_type": "stream",
     "text": [
      "{'Beach': 2, 'Mountain': 3, 'River': 2, 'Park': 1, 'Hotel': 1}\n"
     ]
    }
   ],
   "source": [
    "dest_list = ['Beach','Mountain','River','Park','Hotel']\n",
    "result = {}\n",
    "\n",
    "#4사람의 투표\n",
    "votes = [['Beach','Mountain','River'],['Park','Mountain'],['Hotel','Mountain'],['Beach','River']]\n",
    "\n",
    "for dest in dest_list:\n",
    "    result[dest]=0\n",
    "for vote in votes:\n",
    "    for elem in vote:\n",
    "        result[elem]+=1\n",
    "\n",
    "print(result)"
   ]
  },
  {
   "cell_type": "markdown",
   "metadata": {},
   "source": [
    "## 문제 6\n",
    "### random 모듈을 이용해 사용자가 지정한 범위에서 임의의 수를 리턴하는 함수를 만들어 보자.(google 활용)\n",
    "#### get_randnumber(a,b) : a와 b사이의 임의의 수를 하나 리턴."
   ]
  },
  {
   "cell_type": "code",
   "execution_count": 9,
   "metadata": {},
   "outputs": [
    {
     "name": "stdout",
     "output_type": "stream",
     "text": [
      "63\n",
      "17\n",
      "61\n",
      "64\n",
      "84\n"
     ]
    }
   ],
   "source": [
    "import random\n",
    "def get_randnumber(a,b):\n",
    "    return random.randrange(a,b+1)\n",
    "\n",
    "for i in range(5):\n",
    "    print(get_randnumber(1,100))"
   ]
  },
  {
   "cell_type": "markdown",
   "metadata": {},
   "source": [
    "## 문제 7\n",
    "### 다음과 같은 함수를 만들어 보세요. \n",
    "#### count_firstname(input) : 이름들을 가지고 있는 input 리스트의 성씨를 계산하여 성씨 별 사람 수를 내림차순 출력 \n",
    "#### input : 사람의 이름들이 들어있는 리스트, return : 없음"
   ]
  },
  {
   "cell_type": "code",
   "execution_count": 12,
   "metadata": {},
   "outputs": [
    {
     "name": "stdout",
     "output_type": "stream",
     "text": [
      "이 씨 :  3 명\n",
      "안 씨 :  1 명\n",
      "박 씨 :  1 명\n",
      "김 씨 :  2 명\n",
      "홍 씨 :  1 명\n"
     ]
    }
   ],
   "source": [
    "def count_firstname(input):\n",
    "    name_dict = {}\n",
    "    for name in names:\n",
    "        if name[0] in name_dict:\n",
    "            name_dict[name[0]]+=1\n",
    "        else:\n",
    "            name_dict[name[0]]=1\n",
    "    for key in name_dict.keys():\n",
    "        print(key,\"씨 : \",name_dict[key],\"명\")\n",
    "\n",
    "names = [\"이을용\",\"안정환\",\"박지성\",\"이운재\",\"김병지\",\"홍명보\",\"이천수\",\"김남일\"]\n",
    "count_firstname(names)"
   ]
  }
 ],
 "metadata": {
  "kernelspec": {
   "display_name": "Python 3",
   "language": "python",
   "name": "python3"
  },
  "language_info": {
   "codemirror_mode": {
    "name": "ipython",
    "version": 3
   },
   "file_extension": ".py",
   "mimetype": "text/x-python",
   "name": "python",
   "nbconvert_exporter": "python",
   "pygments_lexer": "ipython3",
   "version": "3.6.4"
  }
 },
 "nbformat": 4,
 "nbformat_minor": 2
}
