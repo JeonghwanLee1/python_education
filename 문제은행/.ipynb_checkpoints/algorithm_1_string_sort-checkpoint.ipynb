{
 "cells": [
  {
   "cell_type": "code",
   "execution_count": 1,
   "metadata": {
    "scrolled": true
   },
   "outputs": [
    {
     "data": {
      "text/html": [
       "<style>\n",
       "    table {\n",
       "        display: inline-block;\n",
       "    }\n",
       "    table td{\n",
       "        font-size : 14px;\n",
       "        text-align:left;\n",
       "        border : 1px solid black;\n",
       "    }\n",
       "</style>\n"
      ],
      "text/plain": [
       "<IPython.core.display.HTML object>"
      ]
     },
     "metadata": {},
     "output_type": "display_data"
    }
   ],
   "source": [
    "%%html\n",
    "<style>\n",
    "    table {\n",
    "        display: inline-block;\n",
    "    }\n",
    "    table td{\n",
    "        font-size : 14px;\n",
    "        text-align:left;\n",
    "        border : 1px solid black;\n",
    "    }\n",
    "</style>"
   ]
  },
  {
   "cell_type": "markdown",
   "metadata": {},
   "source": [
    "## 1. 한 정수를 입력받아 해당 정수를 거꾸로 뒤집은 수를 반환하는 프로그램을 작성해 봅시다.(난이도 하)\n",
    "### input = 정수\n",
    "### output = 거꾸로 된 정수\n",
    "#### tag : string"
   ]
  },
  {
   "cell_type": "markdown",
   "metadata": {},
   "source": [
    "\n",
    "\n",
    "|case| input|   output  |\n",
    "|:----|------------|------------|\n",
    "|case 1|20|2|\n",
    "|case 2|-100|-1|\n",
    "|case 3|-321|-123|\n",
    "|case 4|224|422|\n",
    "|case 5|0|0|"
   ]
  },
  {
   "cell_type": "markdown",
   "metadata": {},
   "source": [
    "## 2. 로마자에서 사용하는 숫자는 다음과 같다 : I, V, X, L, C, D, M\n",
    "## 여기서 I : 1, V : 5, X : 10, L : 50, C : 100, D : 500, M : 1000 을 나타낼 때, 주어진 로마 글자를 정수로 바꾸는 프로그램을 작성해 봅시다.(난이도 중)\n",
    "\n",
    "\n",
    "### input = 로마 숫자\n",
    "### output = 10진수 \n",
    "#### tag : string"
   ]
  },
  {
   "cell_type": "markdown",
   "metadata": {},
   "source": [
    "\n",
    "\n",
    "|case| input|   output  |\n",
    "|:----|------------|------------|\n",
    "|case 1|\"III\"|3|\n",
    "|case 2|\"XI\"|11|\n",
    "|case 3|\"LVII\"|57|\n",
    "|case 4|\"IX\"|9|\n",
    "|case 5|\"MCMXCIV\"|1994|"
   ]
  },
  {
   "cell_type": "markdown",
   "metadata": {},
   "source": [
    "## 3. 주민등록번호를 입력받아 생년 부분만 잘라서 2020년 기준 현재 나이를 반환하는 프로그램을 작성해 봅시다.(난이도 중)\n",
    "### input = 길이 14의 주민등록번호 문자열(-포함)\n",
    "### output = 현재 나이"
   ]
  },
  {
   "cell_type": "markdown",
   "metadata": {},
   "source": [
    "\n",
    "\n",
    "|case| input|   output  |\n",
    "|:----|------------|------------|\n",
    "|case 1|\"931111-1234567\"|28|\n",
    "|case 2|\"881212-1154754\"|33|\n",
    "|case 3|\"911211-2014454\"|26|"
   ]
  },
  {
   "cell_type": "markdown",
   "metadata": {},
   "source": [
    "## 4. 주민등록번호를 입력받아 생년 부분이 93 이상이고 성별이 남성인지 여부를 반환하는 프로그램을 작성해 봅시다.(난이도 중)\n",
    "### input = 길이 14의 주민등록번호 문자열(-포함)\n",
    "### output = boolean"
   ]
  },
  {
   "cell_type": "markdown",
   "metadata": {},
   "source": [
    "\n",
    "\n",
    "|case| input|   output  |\n",
    "|:----|------------|------------|\n",
    "|case 1|\"931111-1234567\"|True|\n",
    "|case 2|\"901212-1154754\"|False|\n",
    "|case 3|\"951211-2014454\"|False|"
   ]
  },
  {
   "cell_type": "markdown",
   "metadata": {},
   "source": [
    "## 5. 리스트의 원소를 공백을 이용해 입력받아 해당 리스트의 가운데값을 리스트 형태로 반환하는 프로그램을 작성해 봅시다. 개수가 짝수라면 가운데 두 개의 값을 반환해야 합니다(난이도 상)\n",
    "### input = 길이 10 이하의 정수 리스트\n",
    "### output = 가운데값 리스트"
   ]
  },
  {
   "cell_type": "markdown",
   "metadata": {},
   "source": [
    "\n",
    "\n",
    "|case| input|   output  |\n",
    "|:----|------------|------------|\n",
    "|case 1|\"10 15 5 4 7 3\"|[5, 7]|\n",
    "|case 2|\"1 99 -1 3 0\"|[1]|\n",
    "|case 3|\"1 1 2 2 0\"|[1]|\n"
   ]
  },
  {
   "cell_type": "markdown",
   "metadata": {},
   "source": [
    "## 6. 리스트의 원소를 공백을 이용해 입력받아 해당 리스트를 두 배한 값의 리스트를 기존의 리스트에 추가하여 반환하는 프로그램을 작성해 봅시다.(난이도 하)\n",
    "### input = 길이 10 이하의 정수 리스트\n",
    "### output = 값이 추가된 리스트"
   ]
  },
  {
   "cell_type": "markdown",
   "metadata": {},
   "source": [
    "|case| input|   output  |\n",
    "|:----|------------|------------|\n",
    "|case 1|\"10 15 5 4 7 3\"|[10, 15, 5, 4, 7, 3, 20, 30, 10, 8, 14, 6]|\n",
    "|case 2|\"1 99 -1 3 0\"|[1, 99, -1, 3, 0, 2, 198, -2, 6, 0]|\n",
    "|case 3|\"0\"|[0, 0]|"
   ]
  },
  {
   "cell_type": "markdown",
   "metadata": {},
   "source": [
    "## 7. 리스트의 원소를 공백을 이용해 입력받아 해당 리스트의 최대값과 최소값의 차이를 반환하는 프로그램을 작성해 봅시다.(난이도 하)\n",
    "### input = 길이 10 이하의 정수 리스트\n",
    "### output = 최대값-최소값"
   ]
  },
  {
   "cell_type": "markdown",
   "metadata": {},
   "source": [
    "|case| input|   output  |\n",
    "|:----|------------|------------|\n",
    "|case 1|\"10 15 5 4 7 3\"|12|\n",
    "|case 2|\"1 99 -1 3 0\"|100|\n",
    "|case 3|\"0\"|0|"
   ]
  },
  {
   "cell_type": "markdown",
   "metadata": {},
   "source": [
    "## 8. 리스트의 원소를 공백을 이용해 입력받아 해당 리스트의 홀수를 삭제하는 프로그램을 작성해 봅시다.(난이도 하)\n",
    "### input = 길이 10 이하의 자연수 리스트\n",
    "### output = 홀수값이 삭제된 리스트"
   ]
  },
  {
   "cell_type": "markdown",
   "metadata": {},
   "source": [
    "|case| input|   output  |\n",
    "|:----|------------|------------|\n",
    "|case 1|\"10 15 5 4 7 3\"|[10, 4]|\n",
    "|case 2|\"1 99 1 3 5\"|[]|\n",
    "|case 3|\"33 2 5 1 4\"|[2, 4]|"
   ]
  },
  {
   "cell_type": "markdown",
   "metadata": {},
   "source": [
    "## 9. 문자열을 입력받아 해당 문자열의 문자와 문자 사이에 ','를 추가하고, 모든 문자를 대문자로 바꾸어 반환하는 프로그램을 작성해 봅시다.(난이도 중)\n",
    "### input = 길이 10 이하의 문자열\n",
    "### output = 결과 문자열"
   ]
  },
  {
   "cell_type": "markdown",
   "metadata": {},
   "source": [
    "|case| input|   output  |\n",
    "|:----|------------|------------|\n",
    "|case 1|\"abcde\"|\"A,B,C,D,E\"|\n",
    "|case 2|\",aB\"|\",,A,B,\"|\n",
    "|case 3|\"\"|\"\"|"
   ]
  },
  {
   "cell_type": "markdown",
   "metadata": {},
   "source": [
    "## 10. 문자열을 입력받아 해당 문자열의 앞 뒤 공백, 특수문자들을 제거하여 반환하는 프로그램을 작성해 봅시다.(난이도 하)\n",
    "### input = 길이 10 이하의 정수 리스트\n",
    "### output = 최대값"
   ]
  },
  {
   "cell_type": "markdown",
   "metadata": {},
   "source": [
    "|case| input|   output  |\n",
    "|:----|------------|------------|\n",
    "|case 1|\"    abc \"|\"abc\"|\n",
    "|case 2|\".bc \"|\"bc\"|\n",
    "|case 3|\"^a..\"|\"a.\"|"
   ]
  }
 ],
 "metadata": {
  "kernelspec": {
   "display_name": "Python 3",
   "language": "python",
   "name": "python3"
  },
  "language_info": {
   "codemirror_mode": {
    "name": "ipython",
    "version": 3
   },
   "file_extension": ".py",
   "mimetype": "text/x-python",
   "name": "python",
   "nbconvert_exporter": "python",
   "pygments_lexer": "ipython3",
   "version": "3.7.3"
  }
 },
 "nbformat": 4,
 "nbformat_minor": 2
}
