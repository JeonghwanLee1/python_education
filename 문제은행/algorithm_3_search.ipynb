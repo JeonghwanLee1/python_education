{
 "cells": [
  {
   "cell_type": "code",
   "execution_count": 1,
   "metadata": {
    "scrolled": true
   },
   "outputs": [
    {
     "data": {
      "text/html": [
       "<style>\n",
       "    table {\n",
       "        display: inline-block;\n",
       "    }\n",
       "    table td{\n",
       "        font-size : 14px;\n",
       "        text-align:left;\n",
       "        border : 1px solid black;\n",
       "    }\n",
       "</style>\n"
      ],
      "text/plain": [
       "<IPython.core.display.HTML object>"
      ]
     },
     "metadata": {},
     "output_type": "display_data"
    }
   ],
   "source": [
    "%%html\n",
    "<style>\n",
    "    table {\n",
    "        display: inline-block;\n",
    "    }\n",
    "    table td{\n",
    "        font-size : 14px;\n",
    "        text-align:left;\n",
    "        border : 1px solid black;\n",
    "    }\n",
    "</style>"
   ]
  },
  {
   "cell_type": "markdown",
   "metadata": {},
   "source": [
    "## 제목 : BFS(깊이 우선 탐색)\n",
    "## 내용 : 이진 트리 형태로 값들을 입력받아 깊이 우선 탐색의 경로를 출력하는 프로그램을 작성해 보자.\n",
    "### input : 이진 트리 값들\n",
    "### output : 경로 리스트\n",
    "### tag : search, bfs\n",
    "### 난이도 : 중"
   ]
  },
  {
   "cell_type": "markdown",
   "metadata": {},
   "source": [
    "|case| input|   output  |\n",
    "|:----|------------|------------|\n",
    "|case 1|1 2 3 4 5 6 7|[1,2,4,5,3,6,7]|\n",
    "|case 2|1 2 3 4 5 6 7 8 9|[1,2,4,8,9,5,3,6,7]|"
   ]
  },
  {
   "cell_type": "markdown",
   "metadata": {},
   "source": [
    "## 제목 : 대칭 트리 구하기\n",
    "## 내용 : 이진 트리 형태로 값들을 입력받아 해당 트리가 대칭 트리인지 구하는 프로그램을 작성해 보자. 예를 들어 [1,2,2,3,4,4,3] 는 다음과 같은 형태가 되므로 대칭 트리이다.\n",
    "\n",
    "### input = 트리의 값들\n",
    "### output = boolean 값\n",
    "### tag : search, bfs\n",
    "### 난이도 : 중"
   ]
  },
  {
   "cell_type": "markdown",
   "metadata": {},
   "source": [
    "\n",
    "\n",
    "|case| input|   output  |\n",
    "|:----|------------|------------|\n",
    "|case 1|1 2 2 3 4 4 3|True|\n",
    "|case 2|3 5 2 3 2 4 2 2 4 3 2 1 4 2 3|False|\n",
    "|case 3|2 4 4|True|"
   ]
  },
  {
   "cell_type": "markdown",
   "metadata": {},
   "source": [
    "## 제목 : 최대 깊이 구하기\n",
    "## 내용 : \n",
    "### input = 이름 나이\n",
    "### output = {\"name\" :  \"이름\" , \"age\" : 나이} 형태의 딕셔너리"
   ]
  },
  {
   "cell_type": "markdown",
   "metadata": {},
   "source": [
    "\n",
    "\n",
    "|case| input|   output  |\n",
    "|:----|------------|------------|\n",
    "|case 1|Kim 20|{\"name\":\"Kim\", \"age\":20}|\n",
    "|case 2|Lee 33|{\"name\":\"Lee\", \"age\":33}|\n",
    "|case 3|Park 25|{\"name\":\"Park\", \"age\":25}|\n",
    "|case 3|Park 11|false|"
   ]
  },
  {
   "cell_type": "markdown",
   "metadata": {},
   "source": [
    "## 4. 이름과 주민등록번호를 입력받아 해당 사람의 이름과 성별을 딕셔너리 형태로 반환하는 프로그램을 작성해 봅시다(난이도 중)\n",
    "### input = 이름과 길이 14의 주민등록번호 문자열(-포함)\n",
    "### output = {\"name\" : 이름, \"sex\" : 성별(male/female)}"
   ]
  },
  {
   "cell_type": "markdown",
   "metadata": {},
   "source": [
    "\n",
    "\n",
    "|case| input|   output  |\n",
    "|:----|------------|------------|\n",
    "|case 1|Lee 931111-1234567| {\"name\" : \"Lee\", \"sex\" : \"male\"}|\n",
    "|case 2|Kim 901212-1154754| {\"name\" : \"Kim\", \"sex\" : \"male\"}|\n",
    "|case 3|Park 951211-2014454| {\"name\" : \"Park\", \"sex\" : \"female\"}|"
   ]
  },
  {
   "cell_type": "markdown",
   "metadata": {},
   "source": [
    "## 5. 정수 5개를 입력받아 중복을 제거한 리스트(집합)를 만든 후 반환하는 프로그램을 작성해 봅시다.(난이도 하)\n",
    "### input = 길이 5 이하의 정수 리스트\n",
    "### output = 중복이 제거된 리스트"
   ]
  },
  {
   "cell_type": "markdown",
   "metadata": {},
   "source": [
    "\n",
    "\n",
    "|case| input|   output  |\n",
    "|:----|------------|------------|\n",
    "|case 1|10 10 5 4 7 3|{10, 5, 4, 7, 3}|\n",
    "|case 2|1 2 3 0|{1, 2, 3, 0}|\n",
    "|case 3|1 1 1 1|{1}|\n"
   ]
  },
  {
   "cell_type": "markdown",
   "metadata": {},
   "source": [
    "## 6. 집합 set_A = {1, 2, 3, 4, 5} 를 생성하고, 집합 set_B의 원소 4개를 입력받아 두 집합의 합집합을 반환하는 프로그램을 작성해 봅시다.(난이도 하)\n",
    "### input = 집합 set_B의 원소 4개\n",
    "### output = set_A와 set_B의 합집합"
   ]
  },
  {
   "cell_type": "markdown",
   "metadata": {},
   "source": [
    "|case| input|   output  |\n",
    "|:----|------------|------------|\n",
    "|case 1|5 6 7 8 9|{1, 2, 3, 4, 5, 6, 7, 8, 9}|\n",
    "|case 2|1 2 3 4 5|{1, 2, 3, 4, 5}|\n",
    "|case 3|6 7 8 9 10|{1, 2, 3, 4, 5, 6, 7, 8, 9, 10}|"
   ]
  },
  {
   "cell_type": "markdown",
   "metadata": {},
   "source": [
    "## 6. 집합 set_A = {1, 2, 3, 4, 5} 를 생성하고, 집합 set_B의 원소 4개를 입력받아 두 집합의 차집합(set_A-set_B)과 교집합의 원소의 수를 반환하는 프로그램을 작성해 봅시다.(난이도 중)\n",
    "### input = 집합 set_B의 원소 4개\n",
    "### output = (차집합의 원소의 수, 교집합의 원소의 수)"
   ]
  },
  {
   "cell_type": "markdown",
   "metadata": {},
   "source": [
    "|case| input|   output  |\n",
    "|:----|------------|------------|\n",
    "|case 1|5 6 7 8 9|(4, 1)|\n",
    "|case 2|1 2 3 4 5|(0, 5)|\n",
    "|case 3|6 7 8 9 10|(5, 0)|"
   ]
  },
  {
   "cell_type": "markdown",
   "metadata": {},
   "source": [
    "## 7. 정수 n을 입력받아 1부터 n까지의 2의 배수, 3의 배수의 집합을 각각 만든 후, 집합 자료형과 교집합 연산을 이용해 2의 배수이면서 3의 배수인 수(6의 배수)의 집합을 반환하는 프로그램을 작성해 봅시다.(난이도 중)\n",
    "### input = 1000이하의 정수 n\n",
    "### output = n이하의 모든 6의 배수를 원소로 가지는 집합"
   ]
  },
  {
   "cell_type": "markdown",
   "metadata": {},
   "source": [
    "|case| input|   output  |\n",
    "|:----|------------|------------|\n",
    "|case 1|10|{6}|\n",
    "|case 2|100|{6, 12, ... , 96}|\n",
    "|case 3|5|{}|"
   ]
  },
  {
   "cell_type": "markdown",
   "metadata": {},
   "source": [
    "## 8. 여행지 딕셔너리 {\"Mountain\":0, \"Park\":0, \"Ocean\":0}을 생성한 후, 여행지 투표 결과를 입력받아 {\"여행지\" : 득표수} 형태의 딕셔너리로 반환하는 프로그램을 작성해 봅시다.(난이도 중)\n",
    "### input = 여행지 투표 목록\n",
    "### output = 투표 결과 딕셔너리"
   ]
  },
  {
   "cell_type": "markdown",
   "metadata": {},
   "source": [
    "|case| input|   output  |\n",
    "|:----|------------|------------|\n",
    "|case 1|Mountain Park Park Ocean|{\"Mountain\":1, \"Park\":2, \"Ocean\":1}|\n",
    "|case 2|Mountain Park Ocean Mountain|{\"Mountain\":2, \"Park\":1, \"Ocean\":1}|\n",
    "|case 3|Ocean|{\"Mountain\":0, \"Park\":0, \"Ocean\":1}|\n"
   ]
  },
  {
   "cell_type": "markdown",
   "metadata": {},
   "source": [
    "## 9. 점심 메뉴를 다중으로 입력받아 투표 결과를 {\"메뉴\" : 득표수} 형태의 딕셔너리로 반환하는 프로그램을 작성해 봅시다.(난이도 중)\n",
    "### input = 점심 메뉴 목록\n",
    "### output = 투표 결과 딕셔너리"
   ]
  },
  {
   "cell_type": "markdown",
   "metadata": {},
   "source": [
    "|case| input|   output  |\n",
    "|:----|------------|------------|\n",
    "|case 1|Ramen Steak Salad Ramen|{\"Ramen\":2, \"Steak\":1, \"Salad\":1}|\n",
    "|case 2|Soup Potato|{\"Soup\":1, \"Potato\":1}|\n",
    "|case 3|Hamburger Hamburger Hamburger|{\"Hamburger\":3}|\n"
   ]
  },
  {
   "cell_type": "markdown",
   "metadata": {},
   "source": [
    "## 10. 점심 메뉴를 다중으로 입력받아 가장 많은 득표 결과를 얻은 메뉴를 반환하는 프로그램을 작성해 봅시다.(난이도 중)\n",
    "### input = 점심 메뉴 목록\n",
    "### output = 가장 많은 득표를 받은 메뉴"
   ]
  },
  {
   "cell_type": "markdown",
   "metadata": {},
   "source": [
    "|case| input|   output  |\n",
    "|:----|------------|------------|\n",
    "|case 1|Ramen Steak Salad Ramen|\"Ramen\"|\n",
    "|case 2|Soup Potato Soup|\"Soup\"|\n",
    "|case 3|Hamburger Hamburger Hamburger|\"Hamburger\"|\n"
   ]
  }
 ],
 "metadata": {
  "kernelspec": {
   "display_name": "Python 3",
   "language": "python",
   "name": "python3"
  },
  "language_info": {
   "codemirror_mode": {
    "name": "ipython",
    "version": 3
   },
   "file_extension": ".py",
   "mimetype": "text/x-python",
   "name": "python",
   "nbconvert_exporter": "python",
   "pygments_lexer": "ipython3",
   "version": "3.7.3"
  }
 },
 "nbformat": 4,
 "nbformat_minor": 2
}
