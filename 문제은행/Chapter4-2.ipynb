{
 "cells": [
  {
   "cell_type": "code",
   "execution_count": 1,
   "metadata": {
    "scrolled": true
   },
   "outputs": [
    {
     "data": {
      "text/html": [
       "<style>\n",
       "    table {\n",
       "        display: inline-block;\n",
       "    }\n",
       "    table td{\n",
       "        font-size : 14px;\n",
       "        text-align:left;\n",
       "        border : 1px solid black;\n",
       "    }\n",
       "</style>\n"
      ],
      "text/plain": [
       "<IPython.core.display.HTML object>"
      ]
     },
     "metadata": {},
     "output_type": "display_data"
    }
   ],
   "source": [
    "%%html\n",
    "<style>\n",
    "    table {\n",
    "        display: inline-block;\n",
    "    }\n",
    "    table td{\n",
    "        font-size : 14px;\n",
    "        text-align:left;\n",
    "        border : 1px solid black;\n",
    "    }\n",
    "</style>"
   ]
  },
  {
   "cell_type": "markdown",
   "metadata": {},
   "source": [
    "## 1. 여러 자연수들을 입력받아 홀수의 개수와 짝수의 개수를 튜플 형태로 반환하는 프로그램을 작성해 봅시다.(난이도 하)\n",
    "### input = 100개 이하의 자연수\n",
    "### output = (홀수의 개수,  짝수의 개수)"
   ]
  },
  {
   "cell_type": "markdown",
   "metadata": {},
   "source": [
    "\n",
    "\n",
    "|case| input|   output  |\n",
    "|:----|------------|------------|\n",
    "|case 1|1 3 2 5 4 6|(2,4)|\n",
    "|case 2|100 20 33 53 55 50|(3,3)|\n",
    "|case 3|1 2 3 ... 99 100 |(50,50)|"
   ]
  },
  {
   "cell_type": "markdown",
   "metadata": {},
   "source": [
    "## 2. 학생의 성적을 입력받아 90점 이상이라면 \"A\", 90점미만 80점 이상이라면 \"B\", 80점 미만이라면 \"C\"를 반환하는 프로그램을 작성해 봅시다.(난이도 하)\n",
    "### input = 학생의 점수\n",
    "### output = 등급"
   ]
  },
  {
   "cell_type": "markdown",
   "metadata": {},
   "source": [
    "\n",
    "\n",
    "|case| input|   output  |\n",
    "|:----|------------|------------|\n",
    "|case 1|50|\"C\"|\n",
    "|case 2|99|\"A\"|\n",
    "|case 3|85|\"B\"|"
   ]
  },
  {
   "cell_type": "markdown",
   "metadata": {},
   "source": [
    "## 3. 학생의 점수를 여러개 입력받아 80점 이상의 점수만 리스트로 반환하는 프로그램을 작성해 봅시다.(난이도 하)\n",
    "### input = 10개 이하의 학생의 점수들\n",
    "### output = 80점 이상의 점수 리스트"
   ]
  },
  {
   "cell_type": "markdown",
   "metadata": {},
   "source": [
    "\n",
    "\n",
    "|case| input|   output  |\n",
    "|:----|------------|------------|\n",
    "|case 1|10 20 80 90|[80, 90]|\n",
    "|case 2|50 10 20 60 22 30|[]|\n",
    "|case 3|80 100 90 20|[80 100 90]|"
   ]
  },
  {
   "cell_type": "markdown",
   "metadata": {},
   "source": [
    "## 4. max, sort, sorted 등의 함수를 사용하지 않고 들어온 값들 중 최대값을 구하여 반환하는 프로그램을 작성해 봅시다.(난이도 중)\n",
    "### input = 20개 이하의 정수\n",
    "### output = 최대값"
   ]
  },
  {
   "cell_type": "markdown",
   "metadata": {},
   "source": [
    "\n",
    "\n",
    "|case| input|   output  |\n",
    "|:----|------------|------------|\n",
    "|case 1|15 99 80 20 33 22|99|\n",
    "|case 2|120 30 55 1102 304 66|1102|\n",
    "|case 3|-1 -3 -5 -6 -30|-1|"
   ]
  },
  {
   "cell_type": "markdown",
   "metadata": {},
   "source": [
    "## 5. 다음과 같은 조건이 있을 때, 들어온 주민등록번호가 모두 올바르다면 True, 하나라도 잘못되었다면 False를 반환하는 프로그램을 작성해 봅시다.(난이도 중) \n",
    "#### 1) 년은 1900년 이상 2020년 이하여야 합니다.\n",
    "#### 2) 월은 1이상 12이하여야 합니다.\n",
    "#### 3) 일은 1이상 31이하여야 합니다.(달 별 일수는 고려하지 않습니다\n",
    "### input = 10개 이하의 주민등록번호들\n",
    "### output = Boolean 값"
   ]
  },
  {
   "cell_type": "markdown",
   "metadata": {},
   "source": [
    "\n",
    "\n",
    "|case| input|   output  |\n",
    "|:----|------------|------------|\n",
    "|case 1|19931111 19921213 20010405 |True|\n",
    "|case 2|18801211 19931111 20010405|False|\n",
    "|case 3|19951310 19931111 19921213|False|\n",
    "|case 4|19951132 19931111 19921213|False|"
   ]
  },
  {
   "cell_type": "markdown",
   "metadata": {},
   "source": [
    "## 6. 여러 값들을 입력받아 첫 값을 제외한 다른 값들의 평균이 첫 값보다 크다면 True, 아니라면 False를 반환하는 프로그램을 작성해 봅시다.(난이도 중)\n",
    "### input = 10개 이하의 정수\n",
    "### output = Boolean 값"
   ]
  },
  {
   "cell_type": "markdown",
   "metadata": {},
   "source": [
    "|case| input|   output  |\n",
    "|:----|------------|------------|\n",
    "|case 1|5 6 7 8 9|True|\n",
    "|case 2|4 2 3 4 5 3 2 5|False|\n",
    "|case 3|-4 -5 -7 -3 -11|False|"
   ]
  },
  {
   "cell_type": "markdown",
   "metadata": {},
   "source": [
    "## 7. 여러 값들을 입력받아 들어온 값에서 중복된 원소가 있다면 True, 아니라면 False를 출력하는 프로그램을 작성해 봅시다(난이도 중) \n",
    "### input = 10개 이하의 값\n",
    "### output = Boolean 값"
   ]
  },
  {
   "cell_type": "markdown",
   "metadata": {},
   "source": [
    "|case| input|   output  |\n",
    "|:----|------------|------------|\n",
    "|case 1|a b c d e f g a|True|\n",
    "|case 2|1 2 3 4 5 6|False|\n",
    "|case 3|6 7 8 9 10 6 apple banana|True|"
   ]
  },
  {
   "cell_type": "markdown",
   "metadata": {},
   "source": [
    "## 8. 자연수 n을 입력받아 n보다 작은 소수를 원소로 가지는 리스트를 반환하는 프로그램을 작성해 봅시다.(난이도 상)\n",
    "### input = 100이하의 정수 n\n",
    "### output = n이하의 모든 소수를 원소로 가지는 집합"
   ]
  },
  {
   "cell_type": "markdown",
   "metadata": {},
   "source": [
    "|case| input|   output  |\n",
    "|:----|------------|------------|\n",
    "|case 1|10|[2, 3, 5, 7]|\n",
    "|case 2|100|[2, 3, 5, 7, ... , 97]|\n",
    "|case 3|50|[2, 3, 5, 7, ... , 47]|"
   ]
  },
  {
   "cell_type": "markdown",
   "metadata": {},
   "source": [
    "## 9. 여러 수를 입력받아 해당 수를 두배 곱한 값들로 이루어진 리스트를 반환하는 프로그램을 작성해 봅시다.(난이도 하)\n",
    "### input = 10개 이하의 정수들\n",
    "### output = 해당 정수들을 두배 곱한 값들로 이루어진 리스트"
   ]
  },
  {
   "cell_type": "markdown",
   "metadata": {},
   "source": [
    "|case| input|   output  |\n",
    "|:----|------------|------------|\n",
    "|case 1|10 5 3 2|[20, 10, 6, 4]|\n",
    "|case 2|0 -1 3 2|[0, -2, 6, 4]|\n",
    "|case 3|1 2 3 4 5 6 7 8 9 10|[2, 4, 6, 8, 10, 12, 14, 16, 18, 20]|\n"
   ]
  },
  {
   "cell_type": "markdown",
   "metadata": {},
   "source": [
    "## 10. 두 수와 계산 기호(+, -) 를 입력받아 계산을 수행한 결과를 반환하는 계산기 프로그램을 작성해 봅시다.(난이도 상)\n",
    "### input = 두 수와 계산 기호\n",
    "### output = 계산 결과"
   ]
  },
  {
   "cell_type": "markdown",
   "metadata": {},
   "source": [
    "|case| input|   output  |\n",
    "|:----|------------|------------|\n",
    "|case 1|10 20 +|30|\n",
    "|case 2|50 40 -|10|\n",
    "|case 3|-10 4 -|-14|\n"
   ]
  }
 ],
 "metadata": {
  "kernelspec": {
   "display_name": "Python 3",
   "language": "python",
   "name": "python3"
  },
  "language_info": {
   "codemirror_mode": {
    "name": "ipython",
    "version": 3
   },
   "file_extension": ".py",
   "mimetype": "text/x-python",
   "name": "python",
   "nbconvert_exporter": "python",
   "pygments_lexer": "ipython3",
   "version": "3.6.4"
  }
 },
 "nbformat": 4,
 "nbformat_minor": 2
}
