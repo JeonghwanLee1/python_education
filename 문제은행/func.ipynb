{
 "cells": [
  {
   "cell_type": "markdown",
   "metadata": {},
   "source": [
    "## 문제 1\n",
    "### 인풋 리스트의 모든 원소에 대해 짝수 홀수 여부를 출력하는 함수를 만들어 보세요.\n",
    "#### check(input) : input 리스트의 모든 원소를 대상으로 짝수 홀수 여부를 출력\n",
    "#### input : 인풋 리스트, return : 없음"
   ]
  },
  {
   "cell_type": "code",
   "execution_count": 3,
   "metadata": {},
   "outputs": [
    {
     "name": "stdout",
     "output_type": "stream",
     "text": [
      "는 홀수입니다.\n",
      "는 짝수입니다.\n",
      "는 홀수입니다.\n",
      "는 짝수입니다.\n"
     ]
    }
   ],
   "source": [
    "def check(input):\n",
    "    print(\"는 홀수입니다.\")\n",
    "    print(\"는 짝수입니다.\")\n",
    "\n",
    "check([1,2,3,4,5])\n",
    "check([11,12,13,14,15])"
   ]
  },
  {
   "cell_type": "markdown",
   "metadata": {},
   "source": [
    "## 문제 2\n",
    "### Python에서 제공하는 sorted() 함수와 유사한 함수를 만들어 보세요. sorted()와 sort()는 사용하면 안 됩니다.\n",
    "#### user_sorted(input) : input 리스트를 대상으로 정렬을 수행하고 그 결과를 리턴합니다.\n",
    "##### input : 인풋 리스트, return : 내림차순 정렬된 리스트"
   ]
  },
  {
   "cell_type": "code",
   "execution_count": 5,
   "metadata": {},
   "outputs": [
    {
     "name": "stdout",
     "output_type": "stream",
     "text": [
      "[]\n"
     ]
    }
   ],
   "source": [
    "def user_sorted(input):\n",
    "    sorted_list = []\n",
    "    return sorted_list\n",
    "\n",
    "input_list = [10,3,6,2,7]\n",
    "result = user_sorted(input_list)\n",
    "print(result)"
   ]
  },
  {
   "cell_type": "markdown",
   "metadata": {},
   "source": [
    "## 문제 3\n",
    "### 다음과 같은 계산기 함수를 만들어 보세요.\n",
    "####  calc(a,b,operation) : a와 b를 대상으로 operation의 연산을 수행하여 그 결과를 리턴합니다.\n",
    "#### a,b : 계산할 두 수, operation : 수행할 연산(+,-,*,/), return : 결과값"
   ]
  },
  {
   "cell_type": "code",
   "execution_count": 1,
   "metadata": {
    "scrolled": true
   },
   "outputs": [
    {
     "name": "stdout",
     "output_type": "stream",
     "text": [
      "0\n",
      "0\n",
      "0\n",
      "0\n"
     ]
    }
   ],
   "source": [
    "def calc(a,b,operation):\n",
    "    result = 0\n",
    "    return result\n",
    "\n",
    "print(calc(4,1,'+'))\n",
    "print(calc(2,5,'-'))\n",
    "print(calc(4,2,'/'))\n",
    "print(calc(3,5,'*'))"
   ]
  },
  {
   "cell_type": "markdown",
   "metadata": {},
   "source": [
    "## 문제 4\n",
    "### 다음과 같은 함수들을 만들어 보세요. \n",
    "#### avg(input) : input 리스트의 평균을 구하여 리턴합니다.\n",
    "#### max_avg(input1,input2) : input1 리스트와 input2 리스트의 평균을 계산하여 더 큰 값을 리턴합니다. 내부에서 avg를 호출하여 평균을 계산해야 합니다."
   ]
  },
  {
   "cell_type": "code",
   "execution_count": 6,
   "metadata": {},
   "outputs": [
    {
     "name": "stdout",
     "output_type": "stream",
     "text": [
      "0\n"
     ]
    }
   ],
   "source": [
    "def avg(input):\n",
    "    result = 0\n",
    "    return result\n",
    "\n",
    "def max_avg(input1,input2):\n",
    "    result = 0\n",
    "    return result\n",
    "\n",
    "list1 = [1,3,5,7,9]\n",
    "list2 = [0,3,6,8,10]\n",
    "print(max_avg(list1,list2))"
   ]
  },
  {
   "cell_type": "markdown",
   "metadata": {},
   "source": [
    "## 문제 5\n",
    "### 다음과 같은 함수를 만들어 보세요. \n",
    "#### count_firstname(input) : 이름들을 가지고 있는 input 리스트의 성씨를 계산하여 성씨 별 사람 수를 내림차순 출력 \n",
    "#### input : 사람의 이름들이 들어있는 리스트, return : 없음"
   ]
  },
  {
   "cell_type": "code",
   "execution_count": 9,
   "metadata": {},
   "outputs": [
    {
     "name": "stdout",
     "output_type": "stream",
     "text": [
      "김씨 : 3명\n",
      "박씨 : 2명\n",
      "이씨 : 1명\n"
     ]
    }
   ],
   "source": [
    "def count_firstname(input):\n",
    "    print(\"김씨 : 3명\")\n",
    "    print(\"박씨 : 2명\")\n",
    "    print(\"이씨 : 1명\")\n",
    "    \n",
    "names = [\"이을용\",\"안정환\",\"박지성\",\"이운재\",\"김병지\",\"홍명보\",\"이천수\",\"김남일\"]\n",
    "count_firstname(names)"
   ]
  },
  {
   "cell_type": "markdown",
   "metadata": {},
   "source": [
    "## 문제 6\n",
    "### 매개변수의 초기값 지정을 이용해 다음과 같은 함수를 만들어 보세요. \n",
    "#### change_case(input, toupper) : input 문자열을 대문자 혹은 소문자로 변환하는 함수. toupper가 True라면 대문자로, 지정이 없거나 False라면 소문자로 주어진 문자열을 바꿈. 따라서 toupper의 초기값은 False"
   ]
  },
  {
   "cell_type": "code",
   "execution_count": 11,
   "metadata": {},
   "outputs": [
    {
     "name": "stdout",
     "output_type": "stream",
     "text": [
      "\n",
      "\n"
     ]
    }
   ],
   "source": [
    "def change_case(input_str,      ):    #수정 필요\n",
    "    result = \"\"\n",
    "    return result\n",
    "\n",
    "print(change_case(\"Hi, I'm a sentence\"))\n",
    "print(change_case(\"Hi, I'm a second sentence\",toupper=True))"
   ]
  },
  {
   "cell_type": "markdown",
   "metadata": {},
   "source": [
    "## 문제 7\n",
    "### 재귀 함수를 이용해 해당 수의 팩토리얼 값을 구하는 함수를 만들어 보세요 \n",
    "#### factorial(n) : 재귀 함수를 이용해 팩토리얼 값을 구해 리턴하는 함수. (팩토리얼 : n*(n-1)* ... * 1)"
   ]
  },
  {
   "cell_type": "code",
   "execution_count": null,
   "metadata": {},
   "outputs": [],
   "source": [
    "def factorial(n):\n",
    "    return n * factorial(n-1)    #수정 필요\n",
    "\n",
    "print(factorial(10))"
   ]
  },
  {
   "cell_type": "markdown",
   "metadata": {},
   "source": [
    "## 문제 8\n",
    "### 재귀 함수를 이용해 피보나치 수열의 n번째 항을 구하는 함수를 만들어 보세요\n",
    "#### fibo(n) : 피보나치 수열의 n번쨰 항을 리턴하는 함수. (피보나치 수열 : n-1항과 n-2항을 더하여 다음 항을 만드는 수열. ex) 1, 1, 2, 3, 5, ... )"
   ]
  },
  {
   "cell_type": "code",
   "execution_count": 12,
   "metadata": {},
   "outputs": [],
   "source": [
    "def fibo(n):\n",
    "    return fibo(n-1)+fibo(n-2)    #수정 필요\n",
    "\n",
    "for i in range(10):\n",
    "    print(fibo(i))"
   ]
  },
  {
   "cell_type": "markdown",
   "metadata": {},
   "source": [
    "## 문제 9\n",
    "### random 모듈을 이용해 사용자가 지정한 범위에서 임의의 수를 리턴하는 함수를 만들어 보자.\n",
    "#### get_randnumber(a,b) : a와 b사이의 임의의 수를 하나 리턴."
   ]
  },
  {
   "cell_type": "code",
   "execution_count": 13,
   "metadata": {},
   "outputs": [
    {
     "name": "stdout",
     "output_type": "stream",
     "text": [
      "0\n",
      "0\n",
      "0\n",
      "0\n",
      "0\n"
     ]
    }
   ],
   "source": [
    "import random\n",
    "def get_randnumber(a,b):\n",
    "    return 0\n",
    "\n",
    "for i in range(5):\n",
    "    print(get_randnumber(1,100))"
   ]
  },
  {
   "cell_type": "markdown",
   "metadata": {},
   "source": [
    "## 문제 10\n",
    "### 주어진 문자열을 뒤집어서 리턴하는 함수를 만들어 보자.\n",
    "#### user_reversed(input) : input 문자열을 거꾸로 뒤집어서 리턴"
   ]
  },
  {
   "cell_type": "code",
   "execution_count": null,
   "metadata": {},
   "outputs": [],
   "source": [
    "def user_reversed(input_str):\n",
    "    result = \"\"\n",
    "    return result\n",
    "\n",
    "print(user_reversed(\"This is a sentence\"))"
   ]
  }
 ],
 "metadata": {
  "kernelspec": {
   "display_name": "Python 3",
   "language": "python",
   "name": "python3"
  },
  "language_info": {
   "codemirror_mode": {
    "name": "ipython",
    "version": 3
   },
   "file_extension": ".py",
   "mimetype": "text/x-python",
   "name": "python",
   "nbconvert_exporter": "python",
   "pygments_lexer": "ipython3",
   "version": "3.7.3"
  }
 },
 "nbformat": 4,
 "nbformat_minor": 2
}
