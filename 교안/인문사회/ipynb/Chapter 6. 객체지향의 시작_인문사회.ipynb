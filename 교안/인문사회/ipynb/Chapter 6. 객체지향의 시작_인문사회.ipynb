{
 "cells": [
  {
   "cell_type": "markdown",
   "metadata": {},
   "source": [
    "# Chapter6. 객체지향의 시작\n",
    "#### Python의 특징 중 하나인 객체지향에 대해 설명하고 객체가 어떠한 개념인지 객체지향 프로그래밍이 무엇인지 학습한다.\n",
    "#### 객체지향의 특징과 절차지향의 특징을 비교하여 설명한다.\n",
    "#### 객체지향 프로그래밍이 가지는 장점에 대해 설명한다.\n",
    "#### 객체지향 프로그래밍에 쓰이는 클래스와 메소드에 대해 설명하고 상속의 개념에 대해 설명한다."
   ]
  },
  {
   "cell_type": "markdown",
   "metadata": {},
   "source": [
    "### 6.1 객체지향 프로그래밍\n",
    "#### 객체의 개념\n",
    "- 객체(Object)란 현실에 존재하는 모든 것(사람, 책상, 공책, 컴퓨터, 신발 등)을 뜻한다.\n",
    "- 객체마다 각자 객체가 가진 고유의 기능을 수행하며 다른 객체들과   상호작용 한다.\n",
    "- 객체는 상태(state)와 동작(behavior)을 가진다.\n",
    "<br><br>\n",
    "<img src=\"https://user-images.githubusercontent.com/37530732/75508374-4240f880-5a27-11ea-94c4-6cba23b9f119.png\" style=\"width: 80%;\"/><br>\n",
    "<center><그림 6-1> 컴퓨터 객체 예시</center>"
   ]
  },
  {
   "cell_type": "markdown",
   "metadata": {},
   "source": [
    "#### 객체지향 프로그래밍\n",
    "- 현실에 존재하는 객체를 디지털 세상으로 구현하는 프로그래밍 기법이다.\n",
    "- 객체의 상태는 객체의 속성으로 클래스 내의 변수와 같다.\n",
    "- 객체의 동작은 객체가 담당하는 기능 또는 동작으로 메소드(method)와 동일하다.\n",
    "- 따라서 객체는 클래스 변수와 메소드로 이루어져 있다고 할 수 있다.\n",
    "- 필요한 변수나 기능이 같은 동일한 구조를 요구하지만 다른 특성을 지닌 요소들을 제각기 생성해야 할 경우에 객체지향이 적합하다.\n",
    "- 사용자의 요구에 맞게 새로운 자료형이 필요한 경우 객체지향이 적합하다.\n",
    "- 절차지향 프로그래밍은 프로그램의 제일 첫 라인부터 순차적으로 실행되는 방식을 뜻하며 객체에 사용자의 요구사항을 객체를 통해 구현하여 문제를 해결하는 객체지향 방식과는 차이가 있다.\n",
    "<br><br>\n",
    "<center><표 6-1> 객체지향과 절차지향의 차이</center>\n",
    "<img src=\"https://user-images.githubusercontent.com/37530732/75508430-774d4b00-5a27-11ea-9649-8fcfb45f9420.png\" style=\"width: 80%;\"/><br>"
   ]
  },
  {
   "cell_type": "markdown",
   "metadata": {},
   "source": [
    "### 6.2 클래스\n",
    "#### 클래스의 정의 및 생성\n",
    "- 객체에 대한 틀이라고 할 수 있으며 객체지향 프로그래밍 내에서 소프트웨어의 기본 단위이다.\n",
    "- 특정한 종류를 찍어내는 형식으로 객체의 틀처럼 사용하며 그 클래스로부터 만들어지는 각각의 객체를 인스턴스라 한다.\n",
    "- Python에서 기본으로 제공하는 자료형은 미리 만들어진 일종의 클래스라고 볼 수 있다.\n",
    "- 기본 구조는 다음과 같으며 객체 안에서 변수와 메소드를 정의하며 이를 클래스의 멤버라고 한다.\n",
    "<br><br>\n",
    "<div style = \"border : 1px solid green; padding : 5px; width = 50px;\">class 클래스명 :<br>\n",
    "    &nbsp;&nbsp;&nbsp;&nbsp;변수명<br>\n",
    "    &nbsp;&nbsp;&nbsp;&nbsp;def 메소드명 :<br></div>"
   ]
  },
  {
   "cell_type": "code",
   "execution_count": 16,
   "metadata": {
    "scrolled": true
   },
   "outputs": [],
   "source": [
    "class Car :\n",
    "    brand = ''\n",
    "    price = ''\n",
    "    model = ''\n",
    "    \n",
    "    def Drive():\n",
    "        return 0\n",
    "    def Stop():\n",
    "        return 0"
   ]
  },
  {
   "cell_type": "markdown",
   "metadata": {},
   "source": [
    "- 위 예제는 자동차의 특징과 기능을 생각하여 클래스를 생성한 것이다.\n",
    "- 클래스의 변수에는 brand, model, price가 있으며 클래스 내의 함수라고 할 수 있는 메소드는 Drive(), Stop()이 있다."
   ]
  },
  {
   "cell_type": "markdown",
   "metadata": {},
   "source": [
    "#### 생성자와 변수의 범위\n",
    "- 생성자란 객체가 만들어질 때 객체의 멤버들을 \n",
    "초기화시키는 것이다.\n",
    "- 모든 메소드의 첫 번째 매개변수는 자기 자신을 가리키는 self 변수이다.\n",
    "- __init__(self)는 클래스의 생성자로 객체의 초기화를 담당한다.\n",
    "- 지역변수(local variable)는 함수 내에서 선언되는 변수로 함수 외부에서는 사용할 수 없는 변수이다.\n",
    "- 전역변수(global variable)는 함수 외부에서 선언되는 변수로 해당 변수는 함수 내에서도 사용할 수 있다.\n",
    "- 인스턴스 변수는 메소드 내에 선언되는 변수로 앞에 self를 사용한다."
   ]
  },
  {
   "cell_type": "markdown",
   "metadata": {},
   "source": [
    "### 6.3 메소드\n",
    "#### 접근 지정자\n",
    "- 메소드는 객체의 동작의 정의하는 클래스 내의 함수이다.\n",
    "- 접근 지정자란 프로그램의 세부 구현을 클래스 안으로 감추기 위하여 클래스 내부의 변수에 private를 지정함으로써 외부의 접근을 제한하는 것으로 외부에서 호출할 수 없으며 Python에서는 private변수를 변수 앞의‘__’로 나타낸다."
   ]
  },
  {
   "cell_type": "markdown",
   "metadata": {},
   "source": [
    "#### [학생 클래스]"
   ]
  },
  {
   "cell_type": "code",
   "execution_count": 18,
   "metadata": {},
   "outputs": [],
   "source": [
    "class Student :\n",
    "        def __init__(self, sId = \"\", sName = \"\", sGrade = 0) :\n",
    "                self.__sId = sId\n",
    "                self.sName = sName\n",
    "                self.sGrade = sGrade\n",
    "\n",
    "Kim = Student()"
   ]
  },
  {
   "cell_type": "markdown",
   "metadata": {},
   "source": [
    "#### 접근자와 설정자\n",
    "- 접근자(getter)는 private 변수 값을 반환하는 메소드이다.\n",
    "- 설정자(setter)는 private 변수 값을 설정하는 메소드이다.\n",
    "- 외부에서 private한 변수에 접근하여 데이터를 읽고 외부로 전달해 주는 역할을 담당한다."
   ]
  },
  {
   "cell_type": "markdown",
   "metadata": {},
   "source": [
    "#### [접근자와 설정자를 이용한 클래스]"
   ]
  },
  {
   "cell_type": "code",
   "execution_count": 20,
   "metadata": {},
   "outputs": [
    {
     "data": {
      "text/plain": [
       "'2020112000'"
      ]
     },
     "execution_count": 20,
     "metadata": {},
     "output_type": "execute_result"
    }
   ],
   "source": [
    "class Student :\n",
    "        def __init__(self, Id = \"\", Name = \"\", Grade = 0) :\n",
    "                self.__Id = Id\n",
    "                self.Name = Name\n",
    "                self.Grade = Grade\n",
    "        def getsId(self) :\n",
    "                return self.__Id\n",
    "        def setsId(self) :\n",
    "                self.__Id = Id\n",
    "\n",
    "Kim = Student(\"2020112000\")\n",
    "Kim.getsId()"
   ]
  },
  {
   "cell_type": "markdown",
   "metadata": {},
   "source": [
    "- 접근자와 설정자가 필요한 이유는 public 인터페이스를 통해 사용하고자 하는 기능을 제공함과 동시에 기능 사항에 대한 자세한 구현 내용을 감춤으로써 코드를 유현하게 만들 수 있기 때문이다.\n",
    "- 접근자로부터 잘못된 값이 매개변수에 전달될 때 사전에 차단할 수 있다.\n",
    "- 외부 데이터의 조작이 불가능하다."
   ]
  },
  {
   "cell_type": "markdown",
   "metadata": {},
   "source": [
    "<br><br>\n",
    "<img src=\"https://user-images.githubusercontent.com/37530732/75508789-a0221000-5a28-11ea-88a5-dfd867726a88.png\" style=\"width: 80%;\"/><br>\n",
    "<center><그림 6-2> 접근자와 설정자 관련 이미지</center>"
   ]
  },
  {
   "cell_type": "markdown",
   "metadata": {},
   "source": [
    "### 6.4 상속\n",
    "#### 상속의 개념\n",
    "- 현재 클래스가 가지고 있는 멤버(변수, 메소드)를 다른 클래스에서 상속받아 그대로 사용할 수 있도록 만들어진 개념이다.\n",
    "- 가지고 있는 멤버들을 물려주는 클래스를 부모 클래스(Parent class, Super class)라고 한다.\n",
    "- 부모 클래스의 멤버들을 그대로 물려받는 클래스는 자식 클래스(Child class, Sub class)라고 한다.\n",
    "- 클래스를 생성할 때마다 공통된 속성을 다시 정의할 필요 없이 상속을 통해 필요한 부분만을 재정의한다.\n",
    "\n",
    "#### 상속의 예시\n",
    "- 대표적인 상속의 예시로 동물을 볼 수 있다. 동물의 공통적인 특징들을 부모 클래스를 통해 구현하고 각 동물마다 상속을 통해 해당 특징을 공유한다.\n",
    "- 서로 다른 특징들은 각 자식 클래스에서 구현한다.\n",
    "<br><br>\n",
    "<img src=\"https://user-images.githubusercontent.com/37530732/75508844-ce075480-5a28-11ea-947b-dc3de00800e4.png\" style=\"width: 80%;\"/><br>\n",
    "<center><그림 6-3> 동물으로 나타낸 상속의 예시</center>"
   ]
  },
  {
   "cell_type": "markdown",
   "metadata": {},
   "source": [
    "#### [동물의 부모 클래스]"
   ]
  },
  {
   "cell_type": "code",
   "execution_count": 23,
   "metadata": {},
   "outputs": [],
   "source": [
    "    class Animal :\n",
    "            eyes = ''\n",
    "            nose = ''\n",
    "            mouth = ''\n",
    "            legs = ''\n",
    "            def Howling(self) :\n",
    "                    print (' ')"
   ]
  },
  {
   "cell_type": "markdown",
   "metadata": {},
   "source": [
    "#### [동물의 자식 클래스]"
   ]
  },
  {
   "cell_type": "code",
   "execution_count": 25,
   "metadata": {},
   "outputs": [],
   "source": [
    "    class Dog(Animal) :\n",
    "        def Howling(self) :\n",
    "            print('왈왈')\n",
    "    \n",
    "    class Human(Animal) :\n",
    "        brain = ''\n",
    "        hair = ''\n",
    "        clothes = ''\n",
    "        def Howling(self) :\n",
    "            print('Hello!')"
   ]
  },
  {
   "cell_type": "markdown",
   "metadata": {},
   "source": [
    "### 6.5 특수 메소드\n",
    "#### Python에서의 특수 메소드 소개\n",
    "- 클래스 내에서 사용할 수 있는 특수 메소드로 Python의 빌트인 타입과 같은 작동을 하게 해준다.\n",
    "<br><br>\n",
    "<center><표 6-2> 특수 메소드 표</center>\n",
    "<img src=\"https://user-images.githubusercontent.com/37530732/75508933-1de61b80-5a29-11ea-87bf-27e5b458d37c.png\" style=\"width: 80%;\"/><br>\n"
   ]
  },
  {
   "cell_type": "markdown",
   "metadata": {},
   "source": [
    "#### [특수 메소드(1)]"
   ]
  },
  {
   "cell_type": "code",
   "execution_count": 26,
   "metadata": {},
   "outputs": [
    {
     "name": "stdout",
     "output_type": "stream",
     "text": [
      "Coding is perfect\n"
     ]
    }
   ],
   "source": [
    "myStr1 = \"Coding\"\n",
    "myStr2 = \"\"\"perfect\"\"\"\n",
    "print(myStr1.__add__(' is ') + myStr2)"
   ]
  },
  {
   "cell_type": "markdown",
   "metadata": {},
   "source": [
    "#### [특수 메소드(2)]"
   ]
  },
  {
   "cell_type": "code",
   "execution_count": 27,
   "metadata": {},
   "outputs": [
    {
     "name": "stdout",
     "output_type": "stream",
     "text": [
      "1024\n"
     ]
    }
   ],
   "source": [
    "a = 2\n",
    "b = 10\n",
    "print(a.__pow__(b))"
   ]
  },
  {
   "cell_type": "markdown",
   "metadata": {},
   "source": [
    "#### [특수 메소드(3)]"
   ]
  },
  {
   "cell_type": "code",
   "execution_count": 28,
   "metadata": {
    "scrolled": true
   },
   "outputs": [
    {
     "name": "stdout",
     "output_type": "stream",
     "text": [
      "False\n"
     ]
    }
   ],
   "source": [
    "str1 = 'hello'\n",
    "str2 = 'Hello'\n",
    "print(str1.__eq__(str2))"
   ]
  },
  {
   "cell_type": "markdown",
   "metadata": {},
   "source": [
    "## 연습문제\n",
    "\n",
    "### 1.\n",
    "정사각형 클래스 square를 생성하시오. \n",
    "- 변의 길이를 가진다.\n",
    "- 변의 길이는 외부에서 직접 접근이 불가하다.\n",
    "- 둘레의 길이와 넓이를 계산할 수 있다."
   ]
  },
  {
   "cell_type": "markdown",
   "metadata": {},
   "source": [
    "### 2.\n",
    "클래스를 생성하여라. 이 클래스는 클래스 내의 변수를 이용하여 더하기 연산을 수행한다."
   ]
  },
  {
   "cell_type": "code",
   "execution_count": null,
   "metadata": {},
   "outputs": [],
   "source": [
    "    class myOperator :\n",
    "        (---------------)\n",
    "        def myAdd(self, a, b) :\n",
    "            (----------------)  "
   ]
  },
  {
   "cell_type": "markdown",
   "metadata": {},
   "source": [
    "### 3.\n",
    "위에 생성한 클래스의 메소드를 특수 메소드를 이용하여 재정의 하여라."
   ]
  },
  {
   "cell_type": "markdown",
   "metadata": {},
   "source": [
    "### 4.\n",
    "위의 예제에서 동물의 상속관계를 나타낸 코드이다.두 클래스가 상속 관계일 수 있도록 코드를 수정하여라."
   ]
  },
  {
   "cell_type": "code",
   "execution_count": null,
   "metadata": {},
   "outputs": [],
   "source": [
    "class Animal :\n",
    "    eyes\n",
    "    nose\n",
    "    mouth\n",
    "    legs\n",
    "    def Howling(self) :\n",
    "        print ‘ ’\n",
    "\n",
    "class Cat :\n",
    "    def Howling(self) :\n",
    "        print ‘야옹’"
   ]
  },
  {
   "cell_type": "markdown",
   "metadata": {},
   "source": [
    "### 5.\n",
    "접근 지정자와 접근자, 설정자 사이의 관계를 정보 은닉의 관점에 맞추어 서술하여라."
   ]
  },
  {
   "cell_type": "markdown",
   "metadata": {},
   "source": [
    "### 6.\n",
    "서점에서의 책의 정보를 담고자 하는 Book 클래스를 정의하고자 한다. 클래스의 속성으로는 책의 이름(name), 책의 가격(price), 출판사(publisher) 의 정보를 담고 있으며, 이런 클래스의 생성자를 작성하고, 생성자를 통해 다음(데이터베이스 개론, 32,000, 교학사)의 정보를 담는 인스턴스를 생성하여라"
   ]
  },
  {
   "cell_type": "code",
   "execution_count": null,
   "metadata": {},
   "outputs": [],
   "source": [
    "    class Book:\n",
    "        def __init__(self, name, price, publisher):\n",
    "        (\n",
    "         ------------------------------------\n",
    "         ------------------------------------   \n",
    "        )\n",
    "     \n",
    "     Object_Book = (------------------)"
   ]
  },
  {
   "cell_type": "markdown",
   "metadata": {},
   "source": [
    "### 7.\n",
    "위의 연습문제 6 에서 생성한 Book 클래스 내에서 해당 책의 정보를 출력하는 사용자 정의 함수를 만들고자 한다. 빈칸에 해당하는 함수를 알맞게 구현하고, 클래스 변수를 통해 해당 함수를 호출하여 보자"
   ]
  },
  {
   "cell_type": "code",
   "execution_count": null,
   "metadata": {},
   "outputs": [],
   "source": [
    "    class Book:\n",
    "        def __init__(self, name, price, publish):\n",
    "            #연습문제 6.6의 생성자 부분\n",
    "\n",
    "        def PrintBookInfo(self):\n",
    "        (\n",
    "         ----------------------\n",
    "         ----------------------\n",
    "        )\n",
    "    Object_Book = #연습문제 6의 인스턴스 생성 부분\n",
    "    (------------------) # PrintBookInfo 함수 호출"
   ]
  },
  {
   "cell_type": "markdown",
   "metadata": {},
   "source": [
    "### 8.\n",
    "위의 연습문제 7 에서 생성한 Book 클래스를 부모 클래스라고 가정하고, 소설(Novel) 클래스라는 자식 클래스를 만들어, 책의 정보를 출력하는 같은 이름의 PrintBookInfo의 함수를 만들지만, 책의 이름과, 가격만을 출력하는 함수를 구현하시오"
   ]
  },
  {
   "cell_type": "code",
   "execution_count": null,
   "metadata": {},
   "outputs": [],
   "source": [
    "    class Book:\n",
    "        def __init__(self, name, price, publish):\n",
    "            #연습문제 6의 생성자 부분\n",
    "\n",
    "        def PrintBookInfo(self):\n",
    "            #연습문제 7의 함수 부분\n",
    "\n",
    "    class Novel(Book):\n",
    "        def PrintBookInfo(self):\n",
    "            (-----------)\n",
    "    Object_Book = (---------------) # 자식 클래스의 인스턴스 생성\n",
    "    (----------------) # PrintBookInfo 함수 호출"
   ]
  }
 ],
 "metadata": {
  "kernelspec": {
   "display_name": "Python 3",
   "language": "python",
   "name": "python3"
  },
  "language_info": {
   "codemirror_mode": {
    "name": "ipython",
    "version": 3
   },
   "file_extension": ".py",
   "mimetype": "text/x-python",
   "name": "python",
   "nbconvert_exporter": "python",
   "pygments_lexer": "ipython3",
   "version": "3.7.4"
  }
 },
 "nbformat": 4,
 "nbformat_minor": 2
}
