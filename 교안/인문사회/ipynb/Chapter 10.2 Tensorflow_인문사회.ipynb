{
 "cells": [
  {
   "cell_type": "markdown",
   "metadata": {},
   "source": [
    "# 10. Tensorflow\n",
    "### 10.2 tensorflow \n",
    "#### tensorflow 소개\n",
    "- tensorflow란 다양한 머신러닝 및 딥러닝 모델을 구현할 수 있도록   다양한 기능을 제공하는 라이브러리이다.\n",
    "- 2015년 구글이 오픈 소스로 공개하여 관련 정보와 소스 코드가 매우  방대하다.\n",
    "- Python, Java, Go 등의 언어를 지원하지만 대부분의 기능들이 Python 라이브러리로만 구현되어 있어 Python 환경에서 사용하는 것이 가장 적합하다.\n",
    "- 텐서플로우 버전 2.0의 케라스를 이용하여 보다 쉽게 인공지능 모델을   구현한다.\n"
   ]
  },
  {
   "cell_type": "markdown",
   "metadata": {},
   "source": [
    "#### Tensorflow 설치\n",
    "- anaconda prompt에서 명령어를 통해 진행\n",
    "<div style = \"border : 1px solid green; padding : 5px;\">\n",
    ">conda update -n base conda<br>\n",
    ">conda update --all<br>\n",
    ">pip install tensorflow<br>\n",
    "</div>\n",
    "- 설치가 완료되면 import 명령어를 통하여 tensorflow 패키지를 현제 프로젝트에 추가할 수 있다."
   ]
  },
  {
   "cell_type": "code",
   "execution_count": null,
   "metadata": {},
   "outputs": [],
   "source": [
    "import tensorflow as tf\n",
    "tf.__version__ # tensorflow 버전 확인"
   ]
  },
  {
   "cell_type": "markdown",
   "metadata": {},
   "source": [
    "#### 텐서\n",
    "- 데이터를 저장하기 위한 컨테이너이다.\n",
    "- 임의의 차원 개수를 가지는 배열을 말한다.\n",
    "- Python에서 사용하는 배열이 아닌 numpy 라이브러리의 특이한 배열 자료구조를 사용한다(numpy.array) 따라서 numpy 라이브러리를 추가하여 numpy.array를 사용한다."
   ]
  },
  {
   "cell_type": "markdown",
   "metadata": {},
   "source": [
    "#### [numpy 라이브러리 추가 및 numpy.array 선언]"
   ]
  },
  {
   "cell_type": "code",
   "execution_count": null,
   "metadata": {},
   "outputs": [],
   "source": [
    "    import numpy as np\n",
    "    # 3X3 array 선언 및 초기화 \n",
    "    x = np.array(([1, 2, 3], [4, 5, 6], [7, 8, 9]))"
   ]
  },
  {
   "cell_type": "markdown",
   "metadata": {},
   "source": [
    "#### 텐서의 모양과 데이터 타입\n",
    "- 텐서의 모양(shape)은 해당 텐서가 어떤 구조로 이루어져 있는지를 튜플 형태로 나타낸다."
   ]
  },
  {
   "cell_type": "markdown",
   "metadata": {},
   "source": [
    "#### [텐서의 모양(shape) 확인]"
   ]
  },
  {
   "cell_type": "code",
   "execution_count": null,
   "metadata": {},
   "outputs": [],
   "source": [
    "    import numpy as np\n",
    "    # 3X3 array 선언 및 초기화 \n",
    "    x = np.array(([1, 2, 3], [4, 5, 6], [7, 8, 9]))\n",
    "    print(x.shape)"
   ]
  },
  {
   "cell_type": "markdown",
   "metadata": {},
   "source": [
    "#### 케라스와 model, layers \n",
    "- 더욱 편하게 머신 러닝 모델들을 구현하기 위해 텐서플로우가 제공하는 기능 중 케라스를 사용한다.\n",
    "- 케라스를 사용하는 신경망의 구조는 model과 model 내부의 layers로 이루어진다.\n",
    "- Sequential 함수를 이용하여 model을 생성하고, 모델 내부에 Dense 층을 쌓아 모델을 형성한다."
   ]
  },
  {
   "cell_type": "markdown",
   "metadata": {},
   "source": [
    "#### [신경망 구조]"
   ]
  },
  {
   "cell_type": "code",
   "execution_count": null,
   "metadata": {},
   "outputs": [],
   "source": [
    "    from tensorflow.keras import models    from tensorflow.keras import layers\n",
    "    # 모델 생성 \n",
    "    model = models.Sequential()\n",
    "    # Dense층 추가 \n",
    "    network.add(layers.Dense(10, activation=’relu’)\n"
   ]
  },
  {
   "cell_type": "markdown",
   "metadata": {},
   "source": [
    "#### 컴파일 단계\n",
    "- 컴파일 단계에서는 신경망의 학습 상황을 설정한다.\n",
    "- 이 단계에서 설정할 항목은 손실 함수, 옵티마이저 등이 있다."
   ]
  },
  {
   "cell_type": "markdown",
   "metadata": {},
   "source": [
    "#### [컴파일 단계]"
   ]
  },
  {
   "cell_type": "code",
   "execution_count": null,
   "metadata": {},
   "outputs": [],
   "source": [
    "    network.compile(optimizer = ‘rmsprop’,\n",
    "                    loss = ‘categorical_crossentropy’,\n",
    "                    metrics = [‘accuracy’] )"
   ]
  },
  {
   "cell_type": "markdown",
   "metadata": {},
   "source": [
    "#### 손실함수\n",
    "- 모델이 예측한 값과 관측값 사이의 불일치 정도를 확인하기 위한 ‘거리’이다.\n",
    "- 손실함수의 값을 최소화 하는 것이 모델의 최적화이다.\n",
    "- 회귀(regression), 분류(classification)의 두 종류로 나누어진 함수이다.\n",
    "\n",
    "<img src=https://user-images.githubusercontent.com/48711691/75419171-9c36b500-5978-11ea-84a5-82fa48d02ff0.JPG style=\"width:70%;\">"
   ]
  },
  {
   "cell_type": "markdown",
   "metadata": {},
   "source": [
    "- 평균제곱오차란 모든 데이터 샘플에서 실제 관측 값과 모델 예측 값 사이의 차를 제곱한 값의 평균이다."
   ]
  },
  {
   "cell_type": "markdown",
   "metadata": {},
   "source": [
    "<div style=\"border : 1px solid #f2f2f2; padding : 5px; text-align : center;\">\n",
    "<img src=https://user-images.githubusercontent.com/37530732/75515220-d79ab780-5a3c-11ea-99a6-c4306085b366.png alt=\"어데갔노\" style=\"width:40%;\"/>\n",
    "\n",
    "</div>"
   ]
  },
  {
   "cell_type": "markdown",
   "metadata": {},
   "source": [
    "- 평균절대오차란 모든 데이터 샘플에서 실제 관측 값과 모델 예측 값 사이의 차를 제곱한 값의 평균이다.\n",
    "\n",
    "<div style=\"border : 1px solid #f2f2f2; padding : 5px; text-align : center;\">\n",
    "<img src=https://user-images.githubusercontent.com/37530732/75515252-eda87800-5a3c-11ea-88e6-16d9823f4dfb.png alt=\"어데갔노\" style=\"width:40%;\"/>\n",
    "\n",
    "</div>"
   ]
  },
  {
   "cell_type": "markdown",
   "metadata": {},
   "source": [
    "#### 교차 엔트로피\n",
    "- 교차 엔트로피 오차란 두 개의 확률분포에 대해 하나의 사건이 갖는 정보량이다.\n",
    "- label이 원핫 인코딩(One_hot encoding)일 때만 사용할 수 있다.\n",
    "\n",
    "<img src=https://user-images.githubusercontent.com/48711691/75419279-d6a05200-5978-11ea-883f-716ecaa68b8d.JPG style=\"width:40%;\">"
   ]
  },
  {
   "cell_type": "markdown",
   "metadata": {},
   "source": [
    "#### 비용함수와 옵티마이저\n",
    "- 비용함수란 학습 데이터가 주어졌을 때 weight와 bias의 값을 조정하여 가장 적합한 출력이 나오도록 하는 함수이다.\n",
    "- 예측값 h(x), 실제값 y라고 했을 때 {h(x) - y}^2이 최소가 되는 것을 구한다.\n",
    "- 옵티마이저란 데이터와 손실함수를 바탕으로 모델의 업데이트 방법을 결정하는 것이다.\n",
    "\n",
    "#### [Optimizer]"
   ]
  },
  {
   "cell_type": "code",
   "execution_count": null,
   "metadata": {},
   "outputs": [],
   "source": [
    "    model.compile(optimizer='adam',\n",
    "                  loss='sparse_categorical_crossentropy',\n",
    "                  metrics=['accuracy'])"
   ]
  },
  {
   "cell_type": "markdown",
   "metadata": {},
   "source": [
    "#### 선형회귀 분석\n",
    "- 선형회귀 분석이란 통계학에서 사용하는 회귀분석 기법으로, 현재 데이터를 가장 잘 설명할 수 있는 직선(2차원의 경우)을 모델링하는 방법이다.\n",
    "\n",
    "<img src=https://user-images.githubusercontent.com/37530732/75515362-3d873f00-5a3d-11ea-8470-7040a590d28d.png style=\"width:70%;\">\n",
    "<center>그림 10.2-5 선형회귀 모델의 예</center>\n",
    "\n",
    "- 기존의 데이터를 통해 선형 모델을 구하고, 구한 선형 모델을 통해 새로운 데이터의 아웃풋 값을 예측한다."
   ]
  },
  {
   "cell_type": "markdown",
   "metadata": {},
   "source": [
    "#### 선형회귀 분석 모델 구현\n",
    "- Tensorflow 2.0와 케라스를 활용하여 선형회귀 모델을 구현한다.\n",
    "- 먼저, Sequential() 함수를 통해 모델을 생성한다.\n",
    "- 이후 linear 형태의 선형회귀 Dense를 모델에 추가한다.\n",
    "- 평균제곱오차 손실 함수를 사용하여 모델을 컴파일 한다.\n",
    "- 주어진 데이터들에 대해 오차를 최소화하는 학습을 실시한다.\n",
    "- 이후 Epoch과 Learning Rate를 변경시키며 다시 결과를 확인해보자.\n",
    "\n",
    "#### 데이터 확인\n",
    "- 먼저, 선형 회귀에 사용할 데이터를 생성한 후 그래프를 그려 자료의 분포를 확인한다.\n",
    "- 앞서 배웠던 matplotlib을 이용한다."
   ]
  },
  {
   "cell_type": "markdown",
   "metadata": {},
   "source": [
    "#### [선형 회귀 - 데이터 확인]"
   ]
  },
  {
   "cell_type": "code",
   "execution_count": null,
   "metadata": {},
   "outputs": [],
   "source": [
    "import matplotlib.pyplot as plt \n",
    "import numpy as np\n",
    "\n",
    "X=np.array([1,2,3,4,5,6,7,8,9,10])\n",
    "y=np.array([15,35,53,66,70,74,73,77,81,83])\n",
    "plt.scatter(X,y)\n",
    "plt.title(\"Score\")\n",
    "plt.xlabel(\"Month\")\n",
    "plt.ylabel(\"Score\")\n",
    "plt.show()"
   ]
  },
  {
   "cell_type": "markdown",
   "metadata": {},
   "source": [
    "#### 모델 생성\n",
    "- 이후 tensorflow 케라스의 Sequential 함수를 이용해 모델을 생성한다\n",
    "- 이후 학습을 진행하며 오차를 확인한다."
   ]
  },
  {
   "cell_type": "markdown",
   "metadata": {},
   "source": [
    "#### [선형 회귀 – 모델 생성]"
   ]
  },
  {
   "cell_type": "code",
   "execution_count": null,
   "metadata": {},
   "outputs": [],
   "source": [
    "from tensorflow.keras.models import Sequential \n",
    "from tensorflow.keras.layers import Dense\n",
    "from tensorflow.keras import optimizers\n",
    "\n",
    "model=Sequential()\n",
    "model.add(Dense(1, input_dim=1, activation='linear'))\n",
    "sgd=optimizers.SGD(lr=0.01)\n",
    "# 학습률(학습 속도) 0.01 \n",
    "model.compile(optimizer=sgd ,loss='mse',metrics=['mse'])\n",
    "# 손실 함수(Loss function)은 평균제곱오차 mse를 사용\n",
    "model.fit(X,y, batch_size=1, epochs=10, shuffle=False)\n",
    "# 전체 데이터를 10번 반복하여 학습, 학습 묶음은 1"
   ]
  },
  {
   "cell_type": "markdown",
   "metadata": {},
   "source": [
    "#### 결과 확인\n",
    "- 학습 완료된 모델에 기존의 x값을 대입하며 직선(푸른 선)을 그어 결과를 확인 한다"
   ]
  },
  {
   "cell_type": "markdown",
   "metadata": {},
   "source": [
    "#### [선형 회귀 – 결과 확인]"
   ]
  },
  {
   "cell_type": "code",
   "execution_count": null,
   "metadata": {},
   "outputs": [],
   "source": [
    "X = np.array(range(1,11))\n",
    "plt.plot(X, y, 'ro')\n",
    "plt.plot(X, model.predict(X), 'b', X, y, 'k.')"
   ]
  },
  {
   "cell_type": "markdown",
   "metadata": {},
   "source": [
    "- 이후 epoch를 변화시키며 다시 그려지는 선형회귀 그래프를 확인해 보자."
   ]
  },
  {
   "cell_type": "markdown",
   "metadata": {},
   "source": [
    "<center>표 10.2-1 Epoch 별 선형회귀 그래프</center>\n",
    "<img src=https://user-images.githubusercontent.com/37530732/75515660-e5047180-5a3d-11ea-8101-1be4434b7ec0.png style=\"width:70%;\">"
   ]
  },
  {
   "cell_type": "markdown",
   "metadata": {},
   "source": [
    "## 연습문제\n",
    "\n",
    "### 1.\n",
    "앞서 학습한 부분에서, 손실 함수(loss function) 에는 크게 세 가지의 종류가 있다고 배웠다. 다음의 세 손실 함수에 대해 간단히 설명해 보자.\n",
    "<br><br>\n",
    "1. 평균제곱오차((MSE)\n",
    "2. 평균절대오차(MAE)\n",
    "3. 교차 엔트로피 오차(CEE)\n",
    "<br><br>\n",
    "\n",
    "### 2.\n",
    "텐서플로우-케라스를 이용한 모델의 컴파일 및 fit 단계에서 다음과 같은 조건으로 학습을 시행하려고 한다. 프로그램의 빈 부분을 채워 보자.<br>\n",
    "\n",
    "    1) 손실 함수는 평균제곱오차를 사용\n",
    "    2) 전체 데이터를 5번 반복하여 학습\n",
    "\n",
    "#### model=Sequential()\n",
    "#### model.add(Dense(1, input_dim=1, activation='linear'))\n",
    "#### sgd=optimizers.SGD(lr=0.01)\n",
    "#### model.compile(---------------)\n",
    "#### model.fit(X,y, batch_size=1, (----------) , shuffle=False)\n",
    "<br><br>\n",
    "\n",
    "### 3.\n",
    "텐서플로우-케라스를 이용하여 연도별 원달러 환율에 대한 선형회귀분석을 시행하려고 한다. 문제의 조건에 맞게 학습 후, 결과 그래프를 matplotlib를 통해 주어진 결과화면과 동일하게 나오도록 프로그램의 빈 부분을 채워보자. \n",
    "<br><br>\n",
    "<img src=https://user-images.githubusercontent.com/37530732/75515910-8e4b6780-5a3e-11ea-8f84-b76e7b470be0.png style=\"width:70%;\">\n",
    "<br><br>\n",
    "실행 결과는 다음과 같아야 한다.<br>\n",
    "<img src=https://user-images.githubusercontent.com/37530732/75516030-ca7ec800-5a3e-11ea-9dfa-34185c40ddd3.png style=\"width:70%;\">"
   ]
  }
 ],
 "metadata": {
  "kernelspec": {
   "display_name": "Python 3",
   "language": "python",
   "name": "python3"
  },
  "language_info": {
   "codemirror_mode": {
    "name": "ipython",
    "version": 3
   },
   "file_extension": ".py",
   "mimetype": "text/x-python",
   "name": "python",
   "nbconvert_exporter": "python",
   "pygments_lexer": "ipython3",
   "version": "3.7.4"
  }
 },
 "nbformat": 4,
 "nbformat_minor": 2
}
