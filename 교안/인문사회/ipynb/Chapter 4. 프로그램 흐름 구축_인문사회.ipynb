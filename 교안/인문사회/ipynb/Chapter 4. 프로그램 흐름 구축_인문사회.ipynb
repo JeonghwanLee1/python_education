{
 "cells": [
  {
   "cell_type": "markdown",
   "metadata": {},
   "source": [
    "# Chapter 4. 프로그램 흐름 구축"
   ]
  },
  {
   "cell_type": "markdown",
   "metadata": {},
   "source": [
    "#### 지금까지는 단순하게 한 방향으로만 흘러가는 프로그램들을 살펴보았다. 하지만 실제 사용되는 프로그램들은 조금 더 복잡한 절차와 조건에 의해서 실행된다.\n",
    "#### 프로그램이 어떤 규칙이나 조건을 통해 흘러가는지에 대한 흐름을 구축하기 위해 다양한 제어문을 학습하고 오류의 처리를 위한 예외 처리에 대해 설명한다."
   ]
  },
  {
   "cell_type": "markdown",
   "metadata": {},
   "source": [
    "### 4.1 제어문\n",
    "#### 제어문의 종류\n",
    "- 순차적인 코드의 흐름을 특정 조건에 따라 제어하는 명령문이다. \n",
    "- 조건에 따라 다른 코드가 실행될 수 있도록 하는 조건문과 일정 조건 하에 코드가 반복될 수 있도록 하는 반복문이 있다.\n",
    "<br><br>\n",
    "<img src=\"https://user-images.githubusercontent.com/37530732/75506493-85986880-5a21-11ea-8c2a-be9151c39996.png\" style=\"width: 80%;\"/><br>\n",
    "<center><그림 4-1> 조건문(좌)와 반복문(우)의 흐름도</center>"
   ]
  },
  {
   "cell_type": "markdown",
   "metadata": {},
   "source": [
    "### 4.2 제어문-조건문\n",
    "#### if/else문의 사용\n",
    "- 명시한 조건이 참인지 거짓인지에 따라 해당 코드를 수행하는 명령어이다.\n",
    "- 조건이 참이라면 if의 하위 코드가 실행되고, 조건이 거짓이라면 else의 하위 코드가 실행된다.\n",
    "- 조건을 입력하는 부분과 조건에 의해 실행되는 부분으로 구분된다.\n",
    "- 조건 부분에는 다양한 식이 오며 결과는 항상 True나 False가 와야 한다.\n",
    "<br><br>\n",
    "<div style = \"border : 1px solid green; padding : 5px; width = 50px;\">if 조건 입력 부분 :\n",
    "<br>     &nbsp;&nbsp;&nbsp;&nbsp;조건을 만족하면 실행\n",
    "<br> else :\n",
    "<br>     &nbsp;&nbsp;&nbsp;&nbsp;조건을 만족하지 않으면 실행<br></div>"
   ]
  },
  {
   "cell_type": "markdown",
   "metadata": {},
   "source": [
    "#### [수식을 이용한 조건문(1)]"
   ]
  },
  {
   "cell_type": "code",
   "execution_count": 2,
   "metadata": {},
   "outputs": [
    {
     "name": "stdout",
     "output_type": "stream",
     "text": [
      "일치합니다.\n"
     ]
    }
   ],
   "source": [
    "x = 15\n",
    "y = 15\n",
    "if x is y : \n",
    "    print('일치합니다.')\n",
    "else :\n",
    "    print('불일치합니다.')"
   ]
  },
  {
   "cell_type": "markdown",
   "metadata": {},
   "source": [
    "#### [수식을 이용한 조건문(2)]"
   ]
  },
  {
   "cell_type": "code",
   "execution_count": 5,
   "metadata": {},
   "outputs": [
    {
     "name": "stdout",
     "output_type": "stream",
     "text": [
      "x가 큽니다.\n"
     ]
    }
   ],
   "source": [
    "x = 15\n",
    "y = 10\n",
    "if x > y : \n",
    "    print('x가 큽니다.')\n",
    "else :\n",
    "    print('y가 같거나 큽니다.')"
   ]
  },
  {
   "cell_type": "markdown",
   "metadata": {},
   "source": [
    "- if, else 뒤에는 항상 ‘:’를 붙여야 하는 것에 유의해야 한다.\n",
    "- if/else문에서는 들여쓰기를 유의해야 하며 그렇지 않을 경우 의도하지 않은 결과를 보일 수 있다.\n",
    "- 들여쓰기는 space bar를 4번 입력하거나 tab을 입력하여 할 수 있다.\n",
    "- 가급적 한 가지 방법으로 통일하여 프로그래밍 하는 것이 좋다."
   ]
  },
  {
   "cell_type": "markdown",
   "metadata": {},
   "source": [
    "#### [들여쓰기를 잘못한 경우]"
   ]
  },
  {
   "cell_type": "code",
   "execution_count": 6,
   "metadata": {},
   "outputs": [
    {
     "ename": "IndentationError",
     "evalue": "expected an indented block (<ipython-input-6-400d6ba11b84>, line 5)",
     "output_type": "error",
     "traceback": [
      "\u001b[1;36m  File \u001b[1;32m\"<ipython-input-6-400d6ba11b84>\"\u001b[1;36m, line \u001b[1;32m5\u001b[0m\n\u001b[1;33m    print('True입니다.')\u001b[0m\n\u001b[1;37m        ^\u001b[0m\n\u001b[1;31mIndentationError\u001b[0m\u001b[1;31m:\u001b[0m expected an indented block\n"
     ]
    }
   ],
   "source": [
    "x = 1\n",
    "if x is 1 :\n",
    "\n",
    "# 올바르지 않은 띄어쓰기의 사용\n",
    "print('True입니다.') \n",
    "else :\n",
    "    print('False입니다.')"
   ]
  },
  {
   "cell_type": "markdown",
   "metadata": {},
   "source": [
    "- 조건에는 비교 연산자나 and, or, not 연산자를 통해 다양하게 상황에 맞는 조건을 표현할 수 있다."
   ]
  },
  {
   "cell_type": "markdown",
   "metadata": {},
   "source": [
    "#### [조건문과 다양한 연산자]"
   ]
  },
  {
   "cell_type": "code",
   "execution_count": 7,
   "metadata": {},
   "outputs": [
    {
     "name": "stdout",
     "output_type": "stream",
     "text": [
      "보험을 가입한다.\n"
     ]
    }
   ],
   "source": [
    "age = 30\n",
    "income = 500\n",
    "if age>25 and income >= 250 : \n",
    "    print('보험을 가입한다.')\n",
    "else :\n",
    "    print('가입하지 않는다.')"
   ]
  },
  {
   "cell_type": "markdown",
   "metadata": {},
   "source": [
    "#### pass문의 사용\n",
    "- 해당 위치에 어떠한 코드도 실행시키지 않고자 할 때 사용하는 명령어이며 조건의 결과 코드가 없어도 오류 없이 다음으로 코드를 진행시킨다."
   ]
  },
  {
   "cell_type": "markdown",
   "metadata": {},
   "source": [
    "#### [pass의 사용]"
   ]
  },
  {
   "cell_type": "code",
   "execution_count": 8,
   "metadata": {},
   "outputs": [],
   "source": [
    "x = True\n",
    "if x :\n",
    "    # pass를 사용하지 않으면 오류를 출력한다\n",
    "    pass\n",
    "else :\n",
    "    print('False입니다.')"
   ]
  },
  {
   "cell_type": "markdown",
   "metadata": {},
   "source": [
    "#### elif문의 사용\n",
    "- if/else로 나누는 것 외에 조건에 따라 그 이상의 분기로 나누어야 할 때 사용하는 명령어이다.\n",
    "- elif문은 이전 조건문을 만족하지 못하면 수행되는 것이 원칙이다.\n",
    "- 다양한 조건 하에서 실행 결과를 복잡하지 않게 제어할 수 있다."
   ]
  },
  {
   "cell_type": "markdown",
   "metadata": {},
   "source": [
    "#### [elif를 사용한 조건문]"
   ]
  },
  {
   "cell_type": "code",
   "execution_count": 9,
   "metadata": {},
   "outputs": [
    {
     "name": "stdout",
     "output_type": "stream",
     "text": [
      "성적은 C 입니다.\n"
     ]
    }
   ],
   "source": [
    "grade = 50\n",
    "# 순차적으로 조건 확인\n",
    "if  80 < grade <=100 :\n",
    "    print('성적은 A 입니다.')\n",
    "elif 60 < grade <= 80 :\n",
    "    print('성적은 B 입니다.')\n",
    "elif 40 < grade <= 60 :\n",
    "    print('성적은 C 입니다.')\n",
    "elif 20 < grade <= 40 :\n",
    "    print('성적은 D 입니다.')\n",
    "else :\n",
    "    print('성적은 F 입니다.')"
   ]
  },
  {
   "cell_type": "markdown",
   "metadata": {},
   "source": [
    "- 조건문 표현식(conditional expression)을 통해 위의 조건문을 더 간결하게 사용할 수 있다.\n",
    "<br><br>\n",
    "<div style = \"border : 1px solid green; padding : 5px; width = 50px;\"> 참인 경우 if 조건 입력 부분 else 거짓인 경우<br></div>"
   ]
  },
  {
   "cell_type": "markdown",
   "metadata": {},
   "source": [
    "#### [조건문 표현식을 사용하지 않았을 때]"
   ]
  },
  {
   "cell_type": "code",
   "execution_count": 11,
   "metadata": {},
   "outputs": [
    {
     "name": "stdout",
     "output_type": "stream",
     "text": [
      "Pass\n"
     ]
    }
   ],
   "source": [
    "grade = 65\n",
    "if grade >= 60 :\n",
    "    result = 'Pass'\n",
    "else :\n",
    "    result = 'Fail'\n",
    "print(result)"
   ]
  },
  {
   "cell_type": "markdown",
   "metadata": {},
   "source": [
    "#### [조건문 표현식을 사용했을 때]"
   ]
  },
  {
   "cell_type": "code",
   "execution_count": 12,
   "metadata": {},
   "outputs": [
    {
     "name": "stdout",
     "output_type": "stream",
     "text": [
      "Pass\n"
     ]
    }
   ],
   "source": [
    "result = 'Pass' if grade >= 60 else 'Fail'\n",
    "print(result)"
   ]
  },
  {
   "cell_type": "markdown",
   "metadata": {},
   "source": [
    "### 4.3 제어문-반복문\n",
    "#### 반복문이란 특정 조건 하에 일정한 코드를 반복해서 실행하는 명령어이며 for문과 while문 두 가지의 반복문이 존재한다.\n",
    "#### for문의 사용\n",
    "<br>\n",
    "<div style = \"border : 1px solid green; padding : 5px; width = 50px;\">for var in table :<br>&nbsp;&nbsp;&nbsp;&nbsp;table의 요소만큼 반복<br>\n",
    "<div style = \"color : gray;\">var : 변수<br>\n",
    "table : 리스트, 튜플, 문자열 등의 반복가능한 객체</div></div>\n",
    "\n",
    "- 반복 가능한 객체의 요소 수만큼 코드를 반복해서 실행하는 명령어이다.\n",
    "- 반복문을 사용하지 않고 표현하기 위해서는 같은 코드를 여러 번 작성해야 하며 반복문을 통해 불필요한 낭비를 방지한다.\n",
    "- 반복의 수가 현실적으로 작성할 수 없을 정도로 많을 경우에는 반복문이 반드시 필요하다.\n",
    "- for문은 반복 가능한 객체의 요소 수만큼 반복하며 반복의 수를 미리 정하고자 할 때 사용하는 것이 합리적이다."
   ]
  },
  {
   "cell_type": "markdown",
   "metadata": {},
   "source": [
    "#### [for 반복문을 사용한 print() 예제(1)]"
   ]
  },
  {
   "cell_type": "code",
   "execution_count": 13,
   "metadata": {
    "scrolled": false
   },
   "outputs": [
    {
     "name": "stdout",
     "output_type": "stream",
     "text": [
      "1\n",
      "2\n",
      "3\n"
     ]
    }
   ],
   "source": [
    "myList = [1, 2, 3]\n",
    "for var in myList :\n",
    "    print(var)"
   ]
  },
  {
   "cell_type": "markdown",
   "metadata": {},
   "source": [
    "#### [for 반복문을 사용한 print() 예제(2)]"
   ]
  },
  {
   "cell_type": "code",
   "execution_count": 14,
   "metadata": {},
   "outputs": [
    {
     "name": "stdout",
     "output_type": "stream",
     "text": [
      "a\n",
      "c\n",
      "d\n"
     ]
    }
   ],
   "source": [
    "myList = ['a', 'c', 'd']\n",
    "for var in myList :\n",
    "    print(var)"
   ]
  },
  {
   "cell_type": "markdown",
   "metadata": {},
   "source": [
    "- ‘반복 가능한 객체’에 해당하는 부분은 반드시 연속적인 값이 아니어도 사용할 수 있다.\n",
    "- 변수에 해당하는 부분 역시 단일 변수일 필요는 없다."
   ]
  },
  {
   "cell_type": "markdown",
   "metadata": {},
   "source": [
    "#### [문자열을 이용한 for문]"
   ]
  },
  {
   "cell_type": "code",
   "execution_count": 15,
   "metadata": {
    "scrolled": true
   },
   "outputs": [
    {
     "name": "stdout",
     "output_type": "stream",
     "text": [
      "h\n",
      "e\n",
      "l\n",
      "l\n",
      "o\n"
     ]
    }
   ],
   "source": [
    "str = \"hello\"\n",
    "# 문자열을 한 글자씩 가져옴\n",
    "for element in str :\n",
    "    print(element)"
   ]
  },
  {
   "cell_type": "markdown",
   "metadata": {},
   "source": [
    "#### range 함수의 사용\n",
    "- range 함수는 숫자 리스트를 자동으로 만들어주는 함수이다.\n",
    "- 간단하게 숫자 리스트를 만들 수 있어 여러 프로그램에서 많이 사용된다.\n",
    "<br><br>\n",
    "<div style = \"border : 1px solid green; padding : 5px; width = 50px;\">for var in range(시작 값, 끝 값, 증감 폭)<br>\n",
    "<div style = \"color : gray;\">var : 변수<br>\n",
    "시작 값, 증감 폭은 생략될 수 있음</div></div><br>\n",
    "\n",
    "- range 함수를 통해 for 반복문을 더욱 효과적으로 사용할 수 있다.\n",
    "- 하나의 매개변수만 사용하는 경우 변수의 값이 0부터 차례로 1씩 늘어나는 숫자 리스트가 생성되기 때문에 이를 응용하여 다양한 프로그램을 구현할 수 있다."
   ]
  },
  {
   "cell_type": "markdown",
   "metadata": {},
   "source": [
    "#### [range()함수와 for문의 응용]"
   ]
  },
  {
   "cell_type": "code",
   "execution_count": 16,
   "metadata": {
    "scrolled": true
   },
   "outputs": [
    {
     "name": "stdout",
     "output_type": "stream",
     "text": [
      "0\n",
      "1\n",
      "2\n",
      "3\n"
     ]
    }
   ],
   "source": [
    "for var in range(4) :\n",
    "    print(var)"
   ]
  },
  {
   "cell_type": "markdown",
   "metadata": {},
   "source": [
    "- 일정한 증감폭으로 반복문을 사용하거나 변수의 범위를 정할 수 있다."
   ]
  },
  {
   "cell_type": "markdown",
   "metadata": {},
   "source": [
    "#### [range()함수의 다양한 사용(1)]"
   ]
  },
  {
   "cell_type": "code",
   "execution_count": 17,
   "metadata": {
    "scrolled": true
   },
   "outputs": [
    {
     "name": "stdout",
     "output_type": "stream",
     "text": [
      "2\n",
      "4\n",
      "6\n",
      "8\n"
     ]
    }
   ],
   "source": [
    "# 2에서 9까지 2의 증감폭으로 반복\n",
    "for var in range(2, 9, 2) :\n",
    "    print(var)"
   ]
  },
  {
   "cell_type": "markdown",
   "metadata": {},
   "source": [
    "- 반복문 내에 다른 반복문을 사용하는 것 역시 가능하다."
   ]
  },
  {
   "cell_type": "markdown",
   "metadata": {},
   "source": [
    "#### [range()함수의 다양한 사용(2)]"
   ]
  },
  {
   "cell_type": "code",
   "execution_count": 19,
   "metadata": {
    "scrolled": true
   },
   "outputs": [
    {
     "name": "stdout",
     "output_type": "stream",
     "text": [
      "2\n",
      "4\n",
      "6\n",
      "8\n",
      "10\n",
      "12\n",
      "14\n",
      "16\n",
      "18\n"
     ]
    }
   ],
   "source": [
    "# 구구단 2의 배수를 출력\n",
    "for var in range(2,3) :\n",
    "    for var2 in range(1,10) :\n",
    "        print(var * var2)"
   ]
  },
  {
   "cell_type": "markdown",
   "metadata": {},
   "source": [
    "#### while문의 사용\n",
    "<br>\n",
    "<div style = \"border : 1px solid green; padding : 5px; width = 50px;\">while 조건 입력 부분 :<br>\n",
    "       &nbsp;&nbsp;&nbsp;&nbsp;조건을 만족하면 반복<br></div>\n",
    "\n",
    "- 명시한 조건을 만족할 때까지 반복해서 코드를 실행하는 명령어이다.\n",
    "- while문은 조건을 만족하지 않을 때까지 계속해서 해당하는 코드를 반복해서 실행하기 때문에 특정 조건에 따른 반복이 필요할 때 사용하는 것이 합리적이다."
   ]
  },
  {
   "cell_type": "markdown",
   "metadata": {},
   "source": [
    "#### [while문의 기본 구조를 통한 예제(1)]"
   ]
  },
  {
   "cell_type": "code",
   "execution_count": 21,
   "metadata": {
    "scrolled": true
   },
   "outputs": [
    {
     "name": "stdout",
     "output_type": "stream",
     "text": [
      "50원 감소\n",
      "잔액: 100 원\n",
      "50원 감소\n",
      "잔액: 50 원\n",
      "50원 감소\n",
      "잔액: 0 원\n",
      "잔액이 없습니다.\n",
      "프로그램 종료.\n"
     ]
    }
   ],
   "source": [
    "money = 150\n",
    "while money > 0 :\n",
    "    print('50원 감소')\n",
    "    money = money - 50\n",
    "    print(\"잔액:\", money, \"원\")\n",
    "    if money <= 0 :\n",
    "        print('잔액이 없습니다.')\n",
    "print(\"프로그램 종료.\")"
   ]
  },
  {
   "cell_type": "markdown",
   "metadata": {},
   "source": [
    "#### [while문의 기본 구조를 통한 예제(2)]"
   ]
  },
  {
   "cell_type": "code",
   "execution_count": 22,
   "metadata": {},
   "outputs": [
    {
     "name": "stdout",
     "output_type": "stream",
     "text": [
      "반복\n",
      "반복\n",
      "반복\n",
      "반복\n",
      "반복\n"
     ]
    }
   ],
   "source": [
    "# for문과 유사한 반복을 할 수도 있음\n",
    "var = 0\n",
    "while var < 5 :\n",
    "    print('반복')\n",
    "    var = var+1"
   ]
  },
  {
   "cell_type": "markdown",
   "metadata": {},
   "source": [
    "#### [while문 내에 while문 사용하기"
   ]
  },
  {
   "cell_type": "code",
   "execution_count": 23,
   "metadata": {
    "scrolled": true
   },
   "outputs": [
    {
     "name": "stdout",
     "output_type": "stream",
     "text": [
      "var1 : 0\n",
      "var2 : 0\n",
      "var2 : 1\n",
      "var2 : 2\n",
      "var1 : 1\n",
      "var2 : 0\n",
      "var2 : 1\n",
      "var2 : 2\n",
      "var1 : 2\n",
      "var2 : 0\n",
      "var2 : 1\n",
      "var2 : 2\n"
     ]
    }
   ],
   "source": [
    "var1 = 0\n",
    "while var1 < 3 :\n",
    "    print(\"var1 :\", var1)\n",
    "    var2 = 0\n",
    "    while var2 < 3 :\n",
    "        print(\"var2 :\", var2)\n",
    "        var2 = var2 + 1\n",
    "    var1 = var1+1"
   ]
  },
  {
   "cell_type": "markdown",
   "metadata": {},
   "source": [
    "#### continue와 break\n",
    "- 진행 중인 반복을 멈추고 다음 반복을 시작하는 명령어인 continue와 반복 조건을 만족하고 있더라도 즉시 반복문을 탈출하는 명령어인 break가 있다.\n",
    "- 코드 진행을 멈추고 다음 반복으로 이동하고자 할 때 continue 명령어를 사용하고, 반복을 강제로 끝내고 싶을 때 break문을 사용한다."
   ]
  },
  {
   "cell_type": "markdown",
   "metadata": {},
   "source": [
    "#### [continue 사용]"
   ]
  },
  {
   "cell_type": "code",
   "execution_count": 24,
   "metadata": {
    "scrolled": true
   },
   "outputs": [
    {
     "name": "stdout",
     "output_type": "stream",
     "text": [
      "0\n",
      "2\n",
      "4\n"
     ]
    }
   ],
   "source": [
    "for var in range(6) :\n",
    "    if var%2 is 1 : \n",
    "        continue\n",
    "    # continue문이 실행된다면 아래의 코드는 실행되지 않는다.\n",
    "    print(var)"
   ]
  },
  {
   "cell_type": "markdown",
   "metadata": {},
   "source": [
    "#### [break 사용]"
   ]
  },
  {
   "cell_type": "code",
   "execution_count": 25,
   "metadata": {},
   "outputs": [
    {
     "name": "stdout",
     "output_type": "stream",
     "text": [
      "0\n",
      "1\n",
      "2\n",
      "반복문 탈출\n"
     ]
    }
   ],
   "source": [
    "for var in range(10) :\n",
    "    if var is 3 :\n",
    "        # 즉시 반복문을 탈출한다\n",
    "        print(\"반복문 탈출\")\n",
    "        break\n",
    "    print(var)"
   ]
  },
  {
   "cell_type": "markdown",
   "metadata": {},
   "source": [
    "### 4.4 예외 처리\n",
    "#### 프로그램을 구현할 때 의도치 않은 오류를 범하는 경우가 많다. 그 중엔 치명적인 오류를 보이는 경우 프로그램이 강제로 멈추기도 한다.\n",
    "#### 이러한 원인으로 발생되는 여러 오류들을 예외라 한다.\n",
    "#### try/except 명령어를 이용해 이러한 예외들을 처리한다.\n",
    "<br>\n",
    "<div style = \"border : 1px solid green; padding : 5px; width = 50px;\">try :\n",
    "<br>     &nbsp;&nbsp;&nbsp;&nbsp;실행코드\n",
    "<br> except :\n",
    "<br>     &nbsp;&nbsp;&nbsp;&nbsp;예외 발생시 실행되는 코드<br></div>\n",
    "\n",
    "- 예외가 일어나도 대처할 수 있도록 처리하는 명령어이다.\n",
    "- 프로그램이 임의로 멈추지 않도록 예외 처리로 오류 현상을 방지한다."
   ]
  },
  {
   "cell_type": "markdown",
   "metadata": {},
   "source": [
    "#### [try/except의 기본 예제(1)]"
   ]
  },
  {
   "cell_type": "code",
   "execution_count": 26,
   "metadata": {},
   "outputs": [
    {
     "name": "stdout",
     "output_type": "stream",
     "text": [
      "오류입니다.\n",
      "다음에 실행될 코드.\n"
     ]
    }
   ],
   "source": [
    "try :\n",
    "    x = 3\n",
    "    z = w + x\n",
    "    print(z)\n",
    "except :\n",
    "    print('오류입니다.')\n",
    "#오류임을 출력하고 다음 코드로 계속 진행할 수 있다\n",
    "print('다음에 실행될 코드.')"
   ]
  },
  {
   "cell_type": "markdown",
   "metadata": {},
   "source": [
    "#### [try/except의 기본 예제(2)]"
   ]
  },
  {
   "cell_type": "code",
   "execution_count": 27,
   "metadata": {
    "scrolled": true
   },
   "outputs": [
    {
     "name": "stdout",
     "output_type": "stream",
     "text": [
      "오류입니다\n",
      "다음에 실행될 코드.\n"
     ]
    }
   ],
   "source": [
    "try :\n",
    "    x = [1, 2, 3]\n",
    "    z = x[3]\n",
    "    print(z)\n",
    "except :\n",
    "    print('오류입니다')\n",
    "    #리스트의 인덱스를 잘못 참조\n",
    "print('다음에 실행될 코드.')"
   ]
  },
  {
   "cell_type": "markdown",
   "metadata": {},
   "source": [
    "#### finally 사용\n",
    "- finally는 try/except와 함께 사용하여 프로그램에서의 예외 발생 여부에 상관없이 항상 해당 위치의 코드를 실행할 수 있도록 한다."
   ]
  },
  {
   "cell_type": "markdown",
   "metadata": {},
   "source": [
    "#### [finally의 사용(1)]"
   ]
  },
  {
   "cell_type": "code",
   "execution_count": 28,
   "metadata": {},
   "outputs": [
    {
     "name": "stdout",
     "output_type": "stream",
     "text": [
      "오류입니다.\n",
      "항상 실행되는 코드입니다.\n"
     ]
    }
   ],
   "source": [
    "try :\n",
    "    x = 3\n",
    "    z = w + x\n",
    "    print(z)\n",
    "except :\n",
    "    print('오류입니다.')\n",
    "finally :\n",
    "    # 예외에 상관 없이 항상 실행된다\n",
    "    print('항상 실행되는 코드입니다.')"
   ]
  },
  {
   "cell_type": "markdown",
   "metadata": {},
   "source": [
    "#### [finally의 사용(2)]"
   ]
  },
  {
   "cell_type": "code",
   "execution_count": 29,
   "metadata": {
    "scrolled": true
   },
   "outputs": [
    {
     "name": "stdout",
     "output_type": "stream",
     "text": [
      "13\n",
      "항상 실행되는 코드입니다.\n"
     ]
    }
   ],
   "source": [
    "try :\n",
    "    x = 3\n",
    "    w = 10\n",
    "    z = w + x\n",
    "    print(z)\n",
    "except :\n",
    "    print('오류입니다.')\n",
    "finally :\n",
    "    # 예외가 발생되지 않아도 항상 실행\n",
    "    print('항상 실행되는 코드입니다.')"
   ]
  },
  {
   "cell_type": "markdown",
   "metadata": {},
   "source": [
    "## 연습문제\n",
    "\n",
    "### 1.\n",
    "다음은 1부터 6까지의 수에 대해 짝수와 홀수 여부를 판단하는 프로그램이다. 프로그램의 빈 부분을 채워라."
   ]
  },
  {
   "cell_type": "code",
   "execution_count": null,
   "metadata": {},
   "outputs": [],
   "source": [
    "    for var in range(1,7):\n",
    "        if (----------) :\n",
    "            print(var, \"은(는) 짝수입니다.\")\n",
    "        (-------------) :\n",
    "            print(var, \"은(는) 홀수입니다.\")"
   ]
  },
  {
   "cell_type": "markdown",
   "metadata": {},
   "source": [
    "### 2.\n",
    "학생의 시험 성적에 따라 PASS 혹은 FAIL을 출력하는 프로그램을 완성시켜보자. 시험 성적이 80점 이상이면 PASS, 80점 미만이면 FAIL을 출력한다."
   ]
  },
  {
   "cell_type": "code",
   "execution_count": null,
   "metadata": {},
   "outputs": [],
   "source": [
    "    grade = 85\n",
    "    if (--------) :\n",
    "        print(\"PASS 입니다.\")\n",
    "    (---------) :\n",
    "        (------------------)"
   ]
  },
  {
   "cell_type": "markdown",
   "metadata": {},
   "source": [
    "### 3.\n",
    "다음은 값이 10인 변수 하나를 지정하여 해당 변수를 1씩 감소시키며 7이 되었을 때 종료되는 프로그램이다. 프로그램의 빈 부분을 채워라."
   ]
  },
  {
   "cell_type": "code",
   "execution_count": null,
   "metadata": {},
   "outputs": [],
   "source": [
    "    num = 10\n",
    "    while (--------) :\n",
    "        print(num)\n",
    "        if (-------) :\n",
    "            print(\"프로그램을 종료합니다.\")\n",
    "            break"
   ]
  },
  {
   "cell_type": "markdown",
   "metadata": {},
   "source": [
    "### 4.\n",
    "다음 프로그램에서 예외가 발생되는 부분을 찾아 이유를 설명해 보자. 그리고 해당 오류가 발생하지 않도록 하는 방법에 대해 생각해 보자."
   ]
  },
  {
   "cell_type": "code",
   "execution_count": 2,
   "metadata": {
    "scrolled": false
   },
   "outputs": [
    {
     "ename": "ZeroDivisionError",
     "evalue": "integer division or modulo by zero",
     "output_type": "error",
     "traceback": [
      "\u001b[1;31m---------------------------------------------------------------------------\u001b[0m",
      "\u001b[1;31mZeroDivisionError\u001b[0m                         Traceback (most recent call last)",
      "\u001b[1;32m<ipython-input-2-132711ecdf00>\u001b[0m in \u001b[0;36m<module>\u001b[1;34m\u001b[0m\n\u001b[0;32m      1\u001b[0m \u001b[0myear\u001b[0m \u001b[1;33m=\u001b[0m \u001b[1;36m2020\u001b[0m\u001b[1;33m\u001b[0m\u001b[1;33m\u001b[0m\u001b[0m\n\u001b[0;32m      2\u001b[0m \u001b[1;32mfor\u001b[0m \u001b[0mvar\u001b[0m \u001b[1;32min\u001b[0m \u001b[0mrange\u001b[0m\u001b[1;33m(\u001b[0m\u001b[1;36m10\u001b[0m\u001b[1;33m)\u001b[0m \u001b[1;33m:\u001b[0m\u001b[1;33m\u001b[0m\u001b[1;33m\u001b[0m\u001b[0m\n\u001b[1;32m----> 3\u001b[1;33m     \u001b[1;32mif\u001b[0m \u001b[0myear\u001b[0m \u001b[1;33m%\u001b[0m \u001b[0mvar\u001b[0m \u001b[1;33m==\u001b[0m \u001b[1;36m0\u001b[0m \u001b[1;33m:\u001b[0m\u001b[1;33m\u001b[0m\u001b[1;33m\u001b[0m\u001b[0m\n\u001b[0m\u001b[0;32m      4\u001b[0m         \u001b[0mprint\u001b[0m\u001b[1;33m(\u001b[0m\u001b[1;34m'%d로 나누어 떨어집니다'\u001b[0m \u001b[1;33m%\u001b[0m\u001b[0mvar\u001b[0m\u001b[1;33m)\u001b[0m\u001b[1;33m\u001b[0m\u001b[1;33m\u001b[0m\u001b[0m\n",
      "\u001b[1;31mZeroDivisionError\u001b[0m: integer division or modulo by zero"
     ]
    }
   ],
   "source": [
    "year = 2020\n",
    "for var in range(10) :\n",
    "    if year % var == 0 :\n",
    "        print('%d로 나누어 떨어집니다' %var)"
   ]
  },
  {
   "cell_type": "markdown",
   "metadata": {},
   "source": [
    "### 5.\n",
    "range 함수를 이용해 100 이하의 자연수 중 3의 배수를 출력하는 프로그램을 작성해 보자."
   ]
  },
  {
   "cell_type": "code",
   "execution_count": null,
   "metadata": {},
   "outputs": [],
   "source": [
    "    for var in range(---------) :\n",
    "        print(var)"
   ]
  },
  {
   "cell_type": "markdown",
   "metadata": {},
   "source": [
    "### 6.\n",
    "Python 프로그래밍 강좌에서 ‘A’학점을 받기 위해서는 시험 점수를 85점 이상이면서, 과제 누락이 없어야 한다고 할 때, 한 학생의 점수와 과제 제출 여부를 다음과 같다고 할 때, 이 학생이 ‘A’학점을 받을 수 있는지의 빈칸의 조건문을 알맞게 작성하시오"
   ]
  },
  {
   "cell_type": "code",
   "execution_count": null,
   "metadata": {},
   "outputs": [],
   "source": [
    "    TestScore = 87\n",
    "    is_assignment_submitted = True\n",
    "    if(-------------------------)\n",
    "        print(‘A 학점입니다’)\n",
    "    else\n",
    "        print(‘A 학점이 아닙니다’)"
   ]
  },
  {
   "cell_type": "markdown",
   "metadata": {},
   "source": [
    "### 7.\n",
    "다음과 같이 제시된 리스트 형의 자료형의 모든 요소에 5를 곱해서 출력하고자 한다. 아래와 같은 실행 결과를 보고 빈칸에 알맞은 코드를\n",
    "작성하시오"
   ]
  },
  {
   "cell_type": "code",
   "execution_count": null,
   "metadata": {},
   "outputs": [],
   "source": [
    "    numList = [2, 4, 6, 8, 10, 12]\n",
    "    (-------------)\n",
    "        (-------------)"
   ]
  },
  {
   "cell_type": "markdown",
   "metadata": {},
   "source": [
    "### 8.\n",
    "for 문 2개를 사용해서 구구단을 출력하려 한다. 다음의 실행 결과를 토대로 빈칸에 적절한 코드를 작성하시오 (1~9의 range)"
   ]
  },
  {
   "cell_type": "code",
   "execution_count": null,
   "metadata": {},
   "outputs": [],
   "source": [
    "    (---------------)\n",
    "        (----------------)\n",
    "            print( i * j , end=‘  ’)\n",
    "        print() "
   ]
  },
  {
   "cell_type": "markdown",
   "metadata": {},
   "source": [
    "### 9.\n",
    "for 문 2개를 사용해서 * 문자로 다음과 같은 직각삼각형의 모형을 출력하려 한다. 다음 빈칸에 적절한 코드를 작성하시오"
   ]
  },
  {
   "cell_type": "code",
   "execution_count": null,
   "metadata": {},
   "outputs": [],
   "source": [
    "    (-----------------)\n",
    "        (-------------------)\n",
    "            print( “*”, end=‘  ’)\n",
    "        print() "
   ]
  },
  {
   "cell_type": "markdown",
   "metadata": {},
   "source": [
    "실행 결과\n",
    "          * \n",
    "          * * \n",
    "          * * * \n",
    "          * * * * \n",
    "          * * * * * \n",
    "          * * * * * * \n",
    "          * * * * * * * \n",
    "          * * * * * * * * \n",
    "          * * * * * * * * * \n",
    "          * * * * * * * * * * "
   ]
  }
 ],
 "metadata": {
  "kernelspec": {
   "display_name": "Python 3",
   "language": "python",
   "name": "python3"
  },
  "language_info": {
   "codemirror_mode": {
    "name": "ipython",
    "version": 3
   },
   "file_extension": ".py",
   "mimetype": "text/x-python",
   "name": "python",
   "nbconvert_exporter": "python",
   "pygments_lexer": "ipython3",
   "version": "3.7.4"
  }
 },
 "nbformat": 4,
 "nbformat_minor": 2
}
