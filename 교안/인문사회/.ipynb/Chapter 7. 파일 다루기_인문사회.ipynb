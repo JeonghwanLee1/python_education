{
 "cells": [
  {
   "cell_type": "markdown",
   "metadata": {},
   "source": [
    "# 7. 파일 다루기"
   ]
  },
  {
   "cell_type": "markdown",
   "metadata": {},
   "source": [
    "#### 파일 입출력의 개념을 알고 콘솔 입출력과의 차이점을 학습한다.\n",
    "#### 또한 Python의 파일 입출력을 위한 파일 모드와 함수들을 설명한다.\n",
    "#### 정규표현식의 개념과 기본적인 표현에 대해 설명한다.\n",
    "#### 정규표현식에 쓰이는 모듈을 알아보고 어떠한 객체와 내장함수가 쓰이는지 설명한다."
   ]
  },
  {
   "cell_type": "markdown",
   "metadata": {},
   "source": [
    "### 7.1 파일 입출력\n",
    "#### 파일 입출력의 개념\n",
    "- 컴퓨터와 직접적으로 소통하는 콘솔 입출력이 아닌 별도의 파일을 통해 데이터를 읽거나 쓰는 것을 말한다.\n",
    "- 즉 사용자로부터 생성되는 데이터가 프로그램을 거쳐 파일까지 이동하는 절차를 거치며 사용자가 필요로 하는 데이터는 파일로부터 프로그램을 거쳐 받을 수 있다.\n",
    "- 실제로 이용되고 있는 대부분의 프로그램은 콘솔 입출력을 통해 이루어지는 것이 아닌 특정 파일에 따로 쓰여 저장되며 프로그램 호출 시 이러한 파일로부터 데이터를 읽거나 쓰는 것이기 때문에 파일 입출력이 필요하다.\n",
    "<br><br>\n",
    "<img src=\"https://user-images.githubusercontent.com/37530732/75509126-cb592f00-5a29-11ea-8b46-67d065b2b36a.png\" style=\"width: 80%;\"/><br>\n",
    "<center><그림 7-1> 파일 입출력 관련 이미지</center>"
   ]
  },
  {
   "cell_type": "markdown",
   "metadata": {},
   "source": [
    "### 7.2 파일 입출력의 기본 함수\n",
    "#### 파일 모드\n",
    "- 파일을 통하여 데이터를 송수신하기 위하여 사용하는 형식을 말하며 필요한 기능에 따라 여러 가지 모드가 존재한다.\n",
    "- 파일 모드들은 기능에 따라 중복하여 사용이 가능하다.\n",
    "- 사용자가 파일모드를 따로 지정하지 않는다면 default값인 읽기모드로 지정된다.\n",
    "<br><br>\n",
    "<center><표 7-1> 파일 모드</center>\n",
    "<img src=\"https://user-images.githubusercontent.com/37530732/75509187-fb083700-5a29-11ea-86b4-b29874183a16.png\" style=\"width: 80%;\"/><br>\n"
   ]
  },
  {
   "cell_type": "markdown",
   "metadata": {},
   "source": [
    "#### 파일의 생성 및 읽어오기\n",
    "- 모드 ‘w'를 사용하여 파일을 생성할 수 있다.\n",
    "- 새로운 파일을 열 경우 새로운 파일이 생성된다.\n",
    "- 존재하는 파일을 열 경우에는 해당 파일의 내용이 사라지게 된다.\n",
    "<br><br>\n",
    "<div style = \"border : 1px solid green; padding : 5px; width = 50px;\">var = open(‘filename’, ‘w’)<br>\n",
    "var.close<br>\n",
    "<div style = \"color : gray;\">var : 파일객체<br>\n",
    "filename : 생성할 파일 이름(확장자 포함)</div></div>\n"
   ]
  },
  {
   "cell_type": "markdown",
   "metadata": {},
   "source": [
    "#### [파일 생성하기]"
   ]
  },
  {
   "cell_type": "code",
   "execution_count": 2,
   "metadata": {},
   "outputs": [
    {
     "data": {
      "text/plain": [
       "<function TextIOWrapper.close()>"
      ]
     },
     "execution_count": 2,
     "metadata": {},
     "output_type": "execute_result"
    }
   ],
   "source": [
    "f = open('python.txt', 'w')\n",
    "f.close"
   ]
  },
  {
   "cell_type": "markdown",
   "metadata": {},
   "source": [
    "<center>실행 결과</center>\n",
    "<img src=\"https://user-images.githubusercontent.com/37530732/75509266-59351a00-5a2a-11ea-9794-4bc588772b22.png\" style=\"width: 50%;\"/><br>"
   ]
  },
  {
   "cell_type": "markdown",
   "metadata": {},
   "source": [
    "- 생성한 파일에 문자열을 입력하기 위하여 write 함수를 사용한다.\n",
    "<br><br>\n",
    "<div style = \"border : 1px solid green; padding : 5px; width = 50px;\">var = write(‘str’)<br>\n",
    "<div style = \"color : gray;\">var : 파일객체<br>\n",
    "str : 파일에 입력할 내용</div></div>"
   ]
  },
  {
   "cell_type": "markdown",
   "metadata": {},
   "source": [
    "#### [write()를 이용하여 파일에 내용쓰기]"
   ]
  },
  {
   "cell_type": "code",
   "execution_count": 3,
   "metadata": {},
   "outputs": [],
   "source": [
    "f = open('python.txt', 'w')\n",
    "content = 'write함수를 이용한 파일 입출력입니다.'\n",
    "f.write(content)\n",
    "f.close()"
   ]
  },
  {
   "cell_type": "markdown",
   "metadata": {},
   "source": [
    "<center>실행 결과</center>\n",
    "<img src=\"https://user-images.githubusercontent.com/37530732/75509368-a87b4a80-5a2a-11ea-8688-0805f92f9747.png\" style=\"width: 50%;\"/><br>"
   ]
  },
  {
   "cell_type": "markdown",
   "metadata": {},
   "source": [
    "- 파일에 데이터를 입력할 때 여러 개의 문장을 입력할 수 있다. 이때 writelines() 함수를 사용한다.\n",
    "<br><br>\n",
    "<div style = \"border : 1px solid green; padding : 5px; width = 50px;\">var = writelines(‘str’)<br>\n",
    "<div style = \"color : gray;\">var : 파일객체<br>\n",
    "str : 파일에 입력할 내용</div></div>"
   ]
  },
  {
   "cell_type": "markdown",
   "metadata": {},
   "source": [
    "#### [writeline()을 이용하여 파일에 내용쓰기]"
   ]
  },
  {
   "cell_type": "code",
   "execution_count": 4,
   "metadata": {},
   "outputs": [],
   "source": [
    "f = open('writeLinepython.txt', 'w')\n",
    "f.writelines(['line1', 'line2', 'line3', 'line4', 'line5'])\n",
    "f.close()"
   ]
  },
  {
   "cell_type": "markdown",
   "metadata": {},
   "source": [
    "<center>실행 결과</center>\n",
    "<img src=\"https://user-images.githubusercontent.com/37530732/75509471-0c9e0e80-5a2b-11ea-83f1-cd3f7579492c.png\" style=\"width: 50%;\"/><br>"
   ]
  },
  {
   "cell_type": "markdown",
   "metadata": {},
   "source": [
    "- for문을 이용하여 파일 안에 데이터를 입력하는 방법도 있다."
   ]
  },
  {
   "cell_type": "markdown",
   "metadata": {},
   "source": [
    "#### [for문을 이용하여 파일에 내용쓰기]"
   ]
  },
  {
   "cell_type": "code",
   "execution_count": 9,
   "metadata": {},
   "outputs": [],
   "source": [
    "f = open(\"forPython.txt\", 'w')\n",
    "for i in range(5) :\n",
    "    content = \"데이터 : %d \\n\" % i\n",
    "    f.write(content)\n",
    "f.close()"
   ]
  },
  {
   "cell_type": "markdown",
   "metadata": {},
   "source": [
    "<center>실행 결과</center>\n",
    "<img src=\"https://user-images.githubusercontent.com/37530732/75509630-b4b3d780-5a2b-11ea-8000-a257391a20a6.png\" style=\"width: 50%;\"/><br>"
   ]
  },
  {
   "cell_type": "markdown",
   "metadata": {},
   "source": [
    "- 파일의 데이터를 읽어오기 위해서는 파일모드 ‘r’을 사용한다.\n",
    "- read() 함수는 파일의 전체 내용을 문자열로 출력해주는 함수이다.\n",
    "<br><br>\n",
    "<div style = \"border : 1px solid green; padding : 5px; width = 50px;\">var.read()<br>\n",
    "<div style = \"color : gray;\">var : 파일객체</div></div>"
   ]
  },
  {
   "cell_type": "markdown",
   "metadata": {},
   "source": [
    "#### [read()를 이용하여 파일 내용 읽어오기]"
   ]
  },
  {
   "cell_type": "code",
   "execution_count": 10,
   "metadata": {
    "scrolled": true
   },
   "outputs": [
    {
     "name": "stdout",
     "output_type": "stream",
     "text": [
      "데이터 : 0 \n",
      "데이터 : 1 \n",
      "데이터 : 2 \n",
      "데이터 : 3 \n",
      "데이터 : 4 \n",
      "\n"
     ]
    }
   ],
   "source": [
    "f = open('forPython.txt', 'r')\n",
    "content = f.read()\n",
    "f.close()\n",
    "print(content)"
   ]
  },
  {
   "cell_type": "markdown",
   "metadata": {},
   "source": [
    "- readline() 함수는 파일의 내용을 한 줄씩 읽어와 출력한다.\n",
    "- 한 번만 사용하게 될 경우 파일의 가장 첫 번째 줄을 출력한다.\n",
    "- 한 줄이 아닌 여러 줄을 읽거나 파일의 모든 내용을 출력하기 위하여 readline()함수와 반복문을 혼합하여 사용한다.\n",
    "<br><br>\n",
    "<div style = \"border : 1px solid green; padding : 5px; width = 50px;\">var.readline()<br>\n",
    "<div style = \"color : gray;\">var : 파일객체</div></div>"
   ]
  },
  {
   "cell_type": "markdown",
   "metadata": {},
   "source": [
    "#### [readline()을 이용하여 파일 내용 읽어오기]"
   ]
  },
  {
   "cell_type": "code",
   "execution_count": 11,
   "metadata": {
    "scrolled": true
   },
   "outputs": [
    {
     "name": "stdout",
     "output_type": "stream",
     "text": [
      "데이터 : 0 \n",
      "\n"
     ]
    }
   ],
   "source": [
    "    f = open(\"forPython.txt\", 'r')\n",
    "    content = f.readline()\n",
    "    print(content)"
   ]
  },
  {
   "cell_type": "markdown",
   "metadata": {},
   "source": [
    "#### [readline()과 반복문을 혼합하여 사용하기]"
   ]
  },
  {
   "cell_type": "code",
   "execution_count": 12,
   "metadata": {
    "scrolled": false
   },
   "outputs": [
    {
     "name": "stdout",
     "output_type": "stream",
     "text": [
      "데이터 : 0 \n",
      "\n",
      "데이터 : 1 \n",
      "\n",
      "데이터 : 2 \n",
      "\n",
      "데이터 : 3 \n",
      "\n",
      "데이터 : 4 \n",
      "\n"
     ]
    }
   ],
   "source": [
    "    f = open(\"forPython.txt\", 'r')\n",
    "    while True : \n",
    "        content = f.readline()\n",
    "        if not content : \n",
    "            break\n",
    "        print(content)\n",
    "    f.close()"
   ]
  },
  {
   "cell_type": "markdown",
   "metadata": {},
   "source": [
    "- 파일 데이터의 여러 줄을 리스트(list) 객체로 저장하기 위하여 readlines() 함수를 이용한다.\n",
    "- readlines()함수 사용시 각 문장 끝에 개행(\\n)이 추가된다.\n",
    "<br><br>\n",
    "<div style = \"border : 1px solid green; padding : 5px; width = 50px;\">var.readlines()<br>\n",
    "<div style = \"color : gray;\">var : 파일객체</div></div>"
   ]
  },
  {
   "cell_type": "markdown",
   "metadata": {},
   "source": [
    "#### [파일 내용 읽어오기]"
   ]
  },
  {
   "cell_type": "code",
   "execution_count": 15,
   "metadata": {},
   "outputs": [
    {
     "name": "stdout",
     "output_type": "stream",
     "text": [
      "\n",
      "\n",
      "데이터 : 0 \n",
      "\n",
      "데이터 : 1 \n",
      "\n",
      "데이터 : 2 \n",
      "\n",
      "데이터 : 3 \n",
      "\n",
      "데이터 : 4 \n",
      "\n"
     ]
    }
   ],
   "source": [
    "    f = open(\"forPython.txt\", 'r')\n",
    "    list1 = f.readlines()\n",
    "    print(content)\n",
    "\n",
    "    for content in list1:\n",
    "        print(content)\n",
    "f.close()"
   ]
  },
  {
   "cell_type": "markdown",
   "metadata": {},
   "source": [
    "#### 파일 수정 및 예외 처리\n",
    "- 기본의 파일 내용을 유지하면서 새로운 내용을 추가하고 싶을 때에는 파일의 수정 모드인 ‘a’를 사용한다.\n",
    "- 기존에 있던 파일의 내용을 유지하고 그 아래에 'a' 파일 모드로 입력한 내용이 작성된다."
   ]
  },
  {
   "cell_type": "markdown",
   "metadata": {},
   "source": [
    "#### [파일 수정하기]"
   ]
  },
  {
   "cell_type": "code",
   "execution_count": 17,
   "metadata": {
    "scrolled": true
   },
   "outputs": [
    {
     "name": "stdout",
     "output_type": "stream",
     "text": [
      "write함수를 이용한 파일 입출력입니다.파일모드 a를 사용하여 파일의 내용을 수정합니다.파일모드 a를 사용하여 파일의 내용을 수정합니다.\n"
     ]
    }
   ],
   "source": [
    "    f = open(\"python.txt\", 'a')\n",
    "    content = '파일모드 a를 사용하여 파일의 내용을 수정합니다.'\n",
    "    f.write(content)\n",
    "    f.close()\n",
    "\n",
    "    f = open(\"python.txt\", 'r')\n",
    "    content = f.read()\n",
    "    print(content)\n",
    "    f.close()"
   ]
  },
  {
   "cell_type": "markdown",
   "metadata": {},
   "source": [
    "- 파일 입출력 도중 예상치 못한 오류에 대해 별도의 예외처리를 지시한다.\n",
    "- try/except문을 이용하여 코드의 실행부와 오류가 발생했을 때의 행동 지시, 오류에 대한 대처 실행 후의 실행부를 설정할 수 있다.\n",
    "<br><br>\n",
    "<div style = \"border : 1px solid green; padding : 5px; width = 50px;\">try :<br>\n",
    "    &nbsp;&nbsp;&nbsp;&nbsp;실행부<br>\n",
    "except :<br>\n",
    "    &nbsp;&nbsp;&nbsp;&nbsp;예외처리<br>\n",
    "finally :<br>\n",
    "    &nbsp;&nbsp;&nbsp;&nbsp;예외처리 이후 실행부<br></div>"
   ]
  },
  {
   "cell_type": "markdown",
   "metadata": {},
   "source": [
    "#### [파일 예외처리(1)]"
   ]
  },
  {
   "cell_type": "code",
   "execution_count": 18,
   "metadata": {
    "scrolled": true
   },
   "outputs": [
    {
     "name": "stdout",
     "output_type": "stream",
     "text": [
      "write함수를 이용한 파일 입출력입니다.파일모드 a를 사용하여 파일의 내용을 수정합니다.파일모드 a를 사용하여 파일의 내용을 수정합니다."
     ]
    }
   ],
   "source": [
    "    try :\n",
    "        # try 블록에서 파일을 연다\n",
    "        f = open('python.txt', 'r')\n",
    "        for var in f :\n",
    "            # 문법 오류 발생\n",
    "            print(var, end = '')\n",
    "    except :                                          \n",
    "        print('오류가 발생하였습니다')\n",
    "    finally :                                          \n",
    "        f.close()"
   ]
  },
  {
   "cell_type": "markdown",
   "metadata": {},
   "source": [
    "- 파일 예외처리부에서 오류가 감지되었을 때 with블록을 사용하여 자동으로 파일을 닫도록 설정할 수 있다.\n",
    "- 이때 실행순서가 with블록을 벗어난다면 파일이 자동으로 닫힌다.\n",
    "<br><br>\n",
    "<div style = \"border : 1px solid green; padding : 5px; width = 50px;\">with open(“fileName”, ‘r’) as var :<br>\n",
    "\t&nbsp;&nbsp;&nbsp;&nbsp;…<br>\n",
    "<div style = \"color : gray;\">fileName : 불러올 파일 이름<br>var : 파일객체</div></div>"
   ]
  },
  {
   "cell_type": "markdown",
   "metadata": {},
   "source": [
    "#### [파일 예외처리(2)]"
   ]
  },
  {
   "cell_type": "code",
   "execution_count": 19,
   "metadata": {},
   "outputs": [
    {
     "name": "stdout",
     "output_type": "stream",
     "text": [
      "write함수를 이용한 파일 입출력입니다.파일모드 a를 사용하여 파일의 내용을 수정합니다.파일모드 a를 사용하여 파일의 내용을 수정합니다.\n"
     ]
    }
   ],
   "source": [
    "    with open(\"python.txt\", \"r\") as f:\n",
    "        content = f.read()\n",
    "        print(content)"
   ]
  },
  {
   "cell_type": "markdown",
   "metadata": {},
   "source": [
    "### 7.3 정규 표현식\n",
    "#### 정규 표현식의 정의\n",
    "- 특정한 규칙을 가진 문자열의 집합을 표현할 때 사용하는 표현식이다.\n",
    "- 복잡한 문자열의 효율적인 처리를 위해 사용하며 \n",
    "다양한 분야에서 응용할 수 있다.\n",
    "- 정해진 규칙을 가진 메타 문자를 사용한다.\n",
    "\n",
    "#### 메타 문자\n",
    "- 정규 표현식에 사용되는 문자로 기존 문자가 가지고 있는 의미가 아닌 정규 표현식에서 사용하기 위한 특별한 의미로 사용된다.\n",
    "- 문자클래스([ ]) : 대괄호 사이에 문자들을 배치하여 매치시킨다.\n",
    "- 문자 사이의 범위를 나타내기 위하여 범위의 시작과 끝 사이에 ‘-’기호를 추가한다.\n",
    "<br><br>\n",
    "<div style = \"border : 1px solid green; padding : 5px; width = 50px;\">[a-z]<br>\n",
    "소문자 a부터 z까지 모든 문자와 매치<br>\n",
    "[0-9]<br>\n",
    "0부터 9까지 모든 숫자와 매치<br></div>"
   ]
  },
  {
   "cell_type": "markdown",
   "metadata": {},
   "source": [
    "- (.) : 문자를 기준으로 좌/우의 문자 사이에 모든 문자를 매치시킨다.\n",
    "<br><br>\n",
    "<div style = \"border : 1px solid green; padding : 5px; width = 50px;\">a.b<br>\n",
    "‘a’와 ‘b’사이에 어떤 문자가 와도 매치<br>\n",
    "→ aab, abb, axb …<br></div>"
   ]
  },
  {
   "cell_type": "markdown",
   "metadata": {},
   "source": [
    "- (+) : 기호 바로 앞에 오는 문자가 반복될 수 있음을 나타낸다.\n",
    "- 문자의 반복이 최소 한 번 이상이어야 한다.\n",
    "<br><br>\n",
    "<div style = \"border : 1px solid green; padding : 5px; width = 50px;\">ab+c<br>\n",
    "‘c’앞의 문자인 ‘b’가 최소 한번 이상 반복<br>\n",
    "→ abc, abbc, abbbc …</div>"
   ]
  },
  {
   "cell_type": "markdown",
   "metadata": {},
   "source": [
    "- (*) : 기호 바로 앞에 오는 문자가 반복될 수 있음을 나타낸다.\n",
    "- ‘+’와 다르게 문자의 최소 0번 이상 반복될 수 있다.\n",
    "<br><br>\n",
    "<div style = \"border : 1px solid green; padding : 5px; width = 50px;\">ab*c<br>\n",
    "‘c’앞의 문자인 ‘b’가 최소 0번 이상 반복<br>\n",
    "→ ac, abbc, abbbc …<br></div>"
   ]
  },
  {
   "cell_type": "markdown",
   "metadata": {},
   "source": [
    "- ({,}) : 기호 바로 앞에 오는 문자가 중괄호 사이에 들어간 수 만큼 반복됨을 나타낸다.\n",
    "- {m, n} 형태로 시작(m)과 끝(n)을 지정할 수 있다.\n",
    "<br><br>\n",
    "<div style = \"border : 1px solid green; padding : 5px; width = 50px;\">ab {3 } : ‘b’가 3만큼 반복<br>\n",
    "→ abbb<br>\n",
    "ab {1, } : ‘b’가 최소 1번 이상 반복<br>\n",
    "→ ab, abb, abbb …<br>\n",
    "ab { ,3 } : ‘b’가 최대 3번까지 반복<br>\n",
    "→ a, ab, abb, abbb</div>"
   ]
  },
  {
   "cell_type": "markdown",
   "metadata": {},
   "source": [
    "- (?) : {0, 1}을 의미하는 문자로 기호 바로 앞에 위치한 문자가 있거나 없음을 나타낸다.\n",
    "<br><br>\n",
    "<div style = \"border : 1px solid green; padding : 5px; width = 50px;\">ab?c<br>\n",
    "‘b’가 없거나 있음을 나타냄<br>\n",
    "     → ac, abc<br></div>"
   ]
  },
  {
   "cell_type": "markdown",
   "metadata": {},
   "source": [
    "#### re모듈과 관련 함수의 사용\n",
    "- 정규 표현식을 지원하기 위해 Python에서 제공하는 기본 라이브러리이다.\n",
    "- re모듈을 사용하기 위해서는 반드시 import 해주어야 한다."
   ]
  },
  {
   "cell_type": "markdown",
   "metadata": {},
   "source": [
    "#### [re모듈의 사용]"
   ]
  },
  {
   "cell_type": "code",
   "execution_count": 20,
   "metadata": {},
   "outputs": [],
   "source": [
    "    import re\n",
    "\n",
    "    r = re.compile('[a-z]')"
   ]
  },
  {
   "cell_type": "markdown",
   "metadata": {},
   "source": [
    "- re모듈은 match(), search(), findall(), finditer() 총 4가지의 함수를 제공한다.\n",
    "- match() 함수는 문자열을 판단할 때 처음부터 매치가 되는지를 확인하는 함수이다.\n",
    "- 문자열의 처음부터 매치되지 않은 부분이 있다면 매치되지 않는다.\n",
    "- 매치에 성공하면 match객체를 반환한다.\n",
    "<br><br>\n",
    "<div style = \"border : 1px solid green; padding : 5px; width = 50px;\">match(str1, str2)<br>\n",
    "<div style = \"color : gray;\">str1, str2 : 비교할 문자열</div></div>"
   ]
  },
  {
   "cell_type": "markdown",
   "metadata": {},
   "source": [
    "#### [match()함수의 사용]"
   ]
  },
  {
   "cell_type": "code",
   "execution_count": 21,
   "metadata": {},
   "outputs": [
    {
     "data": {
      "text/plain": [
       "<re.Match object; span=(0, 3), match='abc'>"
      ]
     },
     "execution_count": 21,
     "metadata": {},
     "output_type": "execute_result"
    }
   ],
   "source": [
    "    re.match('abc', 'abcde')"
   ]
  },
  {
   "cell_type": "markdown",
   "metadata": {},
   "source": [
    "- search() 함수는 문자열을 판단할 때 해당 문자열 전체를 확인하여 매칭되는 부분이 있는지 확인하는 함수이다.\n",
    "- match()와는 달리 처음부터 매치되지 않아도 match객체를 반환한다.\n",
    "<br><br>\n",
    "<div style = \"border : 1px solid green; padding : 5px; width = 50px;\">search(str1, str2)<br>\n",
    "<div style = \"color : gray;\">str1, str2 : 비교할 문자열</div></div>"
   ]
  },
  {
   "cell_type": "markdown",
   "metadata": {},
   "source": [
    "#### [search()함수의 사용]"
   ]
  },
  {
   "cell_type": "code",
   "execution_count": 22,
   "metadata": {},
   "outputs": [
    {
     "data": {
      "text/plain": [
       "<re.Match object; span=(1, 4), match='bcd'>"
      ]
     },
     "execution_count": 22,
     "metadata": {},
     "output_type": "execute_result"
    }
   ],
   "source": [
    "    re.search('bcd', 'abcde')"
   ]
  },
  {
   "cell_type": "markdown",
   "metadata": {},
   "source": [
    "- findall() 함수는 매치되는 모든 문자열을 리스트의 형태로 반환하는 함수이다.\n",
    "<br><br>\n",
    "<div style = \"border : 1px solid green; padding : 5px; width = 50px;\">findall(str1, str2)<br>\n",
    "<div style = \"color : gray;\">str1, str2 : 비교할 문자열</div></div>"
   ]
  },
  {
   "cell_type": "markdown",
   "metadata": {},
   "source": [
    "#### [findall()함수의 사용]"
   ]
  },
  {
   "cell_type": "code",
   "execution_count": 23,
   "metadata": {},
   "outputs": [
    {
     "data": {
      "text/plain": [
       "['abc', 'abc']"
      ]
     },
     "execution_count": 23,
     "metadata": {},
     "output_type": "execute_result"
    }
   ],
   "source": [
    "    re.findall('abc', 'abcdeabc')"
   ]
  },
  {
   "cell_type": "markdown",
   "metadata": {},
   "source": [
    "- finditer() 함수는 findall() 함수와 동일한 기능을 제공하지만 리스트 형태가 아닌 반복 가능한 iterator 객체를 통해 반환한다.\n",
    "<br><br>\n",
    "<div style = \"border : 1px solid green; padding : 5px; width = 50px;\">finditer(str1, str2)<br>\n",
    "<div style = \"color : gray;\">str1, str2 : 비교할 문자열</div></div>"
   ]
  },
  {
   "cell_type": "markdown",
   "metadata": {},
   "source": [
    "#### [finditer()함수의 사용]"
   ]
  },
  {
   "cell_type": "code",
   "execution_count": 25,
   "metadata": {
    "scrolled": true
   },
   "outputs": [
    {
     "data": {
      "text/plain": [
       "<callable_iterator at 0x1837088b8c8>"
      ]
     },
     "execution_count": 25,
     "metadata": {},
     "output_type": "execute_result"
    }
   ],
   "source": [
    "re.finditer('abc', 'abcdeabc')"
   ]
  },
  {
   "cell_type": "markdown",
   "metadata": {},
   "source": [
    "- re모듈은 반환된 match객체에 사용 가능한 4가지의 함수를 추가로 제공한다.\n",
    "- group() 함수는 매치된 문자열 자체를 반환해주는 함수이다.\n",
    "<br><br>\n",
    "<div style = \"border : 1px solid green; padding : 5px; width = 50px;\">var.group()<br>\n",
    "<div style = \"color : gray;\">var : 반환되는 match객체</div></div>"
   ]
  },
  {
   "cell_type": "markdown",
   "metadata": {},
   "source": [
    "#### [group()을 통한 매치]"
   ]
  },
  {
   "cell_type": "code",
   "execution_count": 27,
   "metadata": {},
   "outputs": [
    {
     "data": {
      "text/plain": [
       "'abc'"
      ]
     },
     "execution_count": 27,
     "metadata": {},
     "output_type": "execute_result"
    }
   ],
   "source": [
    "m = re.match('abc', 'abcde')\n",
    "m.group()"
   ]
  },
  {
   "cell_type": "markdown",
   "metadata": {},
   "source": [
    "- start() 함수는 매치된 문자열의 시작 위치를 반환해주는 함수이다.\n",
    "<br><br>\n",
    "<div style = \"border : 1px solid green; padding : 5px; width = 50px;\">var.start()<br>\n",
    "<div style = \"color : gray;\">var : 반환되는 match객체</div></div>"
   ]
  },
  {
   "cell_type": "markdown",
   "metadata": {},
   "source": [
    "#### [start()를 통한 매치]"
   ]
  },
  {
   "cell_type": "code",
   "execution_count": 28,
   "metadata": {},
   "outputs": [
    {
     "data": {
      "text/plain": [
       "0"
      ]
     },
     "execution_count": 28,
     "metadata": {},
     "output_type": "execute_result"
    }
   ],
   "source": [
    "    m = re.match('abc', 'abcde')    \n",
    "    m.start()"
   ]
  },
  {
   "cell_type": "markdown",
   "metadata": {},
   "source": [
    "- end() 함수는 문자열의 마지막 위치를 반환하는 함수이다.\n",
    "<br><br>\n",
    "<div style = \"border : 1px solid green; padding : 5px; width = 50px;\">var.end()<br>\n",
    "<div style = \"color : gray;\">var : 반환되는 match객체</div></div>"
   ]
  },
  {
   "cell_type": "markdown",
   "metadata": {},
   "source": [
    "#### [end()를 통한 매치]"
   ]
  },
  {
   "cell_type": "code",
   "execution_count": 29,
   "metadata": {
    "scrolled": true
   },
   "outputs": [
    {
     "data": {
      "text/plain": [
       "3"
      ]
     },
     "execution_count": 29,
     "metadata": {},
     "output_type": "execute_result"
    }
   ],
   "source": [
    "    m = re.match('abc', 'abcde')\n",
    "    m.end()"
   ]
  },
  {
   "cell_type": "markdown",
   "metadata": {},
   "source": [
    "- span() 함수는 매칭된 문자열의 시작과 끝 위치를 튜플 형태로 반환해주는 함수이다.\n",
    "<br><br>\n",
    "<div style = \"border : 1px solid green; padding : 5px; width = 50px;\">var.span()<br>\n",
    "<div style = \"color : gray;\">var : 반환되는 match객체</div></div>"
   ]
  },
  {
   "cell_type": "markdown",
   "metadata": {},
   "source": [
    "#### [span()을 통한 매치]"
   ]
  },
  {
   "cell_type": "code",
   "execution_count": 30,
   "metadata": {},
   "outputs": [
    {
     "data": {
      "text/plain": [
       "(0, 3)"
      ]
     },
     "execution_count": 30,
     "metadata": {},
     "output_type": "execute_result"
    }
   ],
   "source": [
    "    m = re.match('abc', 'abcde')\n",
    "    m.span()"
   ]
  },
  {
   "cell_type": "markdown",
   "metadata": {},
   "source": [
    "## 연습문제\n",
    "\n",
    "### 1.\n",
    "(1) 학생 정보를 파일에 입력하여라.<br>\n",
    "(2) 입력한 파일을 토대로 한 줄 씩 읽어온 뒤  화면에 출력하여라.\n",
    "\n",
    "#### read()을 사용할 것\n",
    "#### 학생 정보 : 이름, 학번, 나이\n",
    "#### 파일 이름 : student.txt\n",
    "<br><br>"
   ]
  },
  {
   "cell_type": "markdown",
   "metadata": {},
   "source": [
    "### 2.\n",
    "파일 입출력과 제어문을 혼합하여 학생식당의 메뉴를 리스트 형태로 구성하여 파일에 입력하여라.\n",
    "\n",
    "#### 메뉴 정보 : 요일, 메뉴 이름, 가격\n",
    "#### 파일 이름 : menu.txt"
   ]
  },
  {
   "cell_type": "markdown",
   "metadata": {},
   "source": [
    "### 3.\n",
    "다음 정규 표현식의 결과를 예상하여라.\n",
    "1. [0-5]{1, 3}.[A-Z]{ ,3}\n",
    "2. 0*1*0+1*0\n",
    "3. p.y{1, 2}[t-w]*\n",
    "4. [a-zA-Z0-9]"
   ]
  },
  {
   "cell_type": "markdown",
   "metadata": {},
   "source": [
    "### 4.\n",
    "다음의 조건에 맞게 정규 표현식을 작성하라.\n",
    "\n",
    "이메일 주소의 가장 첫 글자는 a~Z의 알파벳이 와야 한다. 또한 주소를 나타내는 ‘@’이전에 오는 아이디는 숫자나 알파벳으로 구성되며 총 5글자 이내이다.\n",
    "* 참고 : ‘@’이후에 올 수 있는 주소에 관하여 @[0-9a-zA-Z]([-_\\.]?[0-9a-zA-Z])*\\.[a-zA-Z]{2,3}$/i를 만족한다."
   ]
  },
  {
   "cell_type": "markdown",
   "metadata": {},
   "source": [
    "### 5.\n",
    "다음의 텍스트를 파일 입출력 함수를 이용하여 파일로 저장시킨 후 다시 읽어 와라.\n",
    "\n",
    "The hyperledger is a distributed industry ledger standardization project for the blockchain open source project hosted by the Linux Foundation and aims to implement blockchain technologies applicable to various industries.\n",
    "    Hyperledger Fabric is one of Hyperledger’s subprojects, a consortium blockchain. Therefore only authorized participants can access the blockchain network. Hyperledger Fabric generates smart contracts using transactions controlled by chaincode.\n",
    "    Through this transaction it is possible to interact with the shared ledger and using the channel function it is possible to share the ledger among the desired members of the network participants.\n",
    "    Zcash is a cryptocurrency that completely protects an individual’s transaction information on the public blockchain. Because of applying a protocol using ZeroKnowledgeProof technology, it differs significantly from the existing public blockchain in which anyone can check the transaction details in terms of information disclosure.\n",
    "    Therefore, the validity of the transaction can be verified without exposing the receiver, sender, transaction amount, etc. in the Zcash transaction."
   ]
  },
  {
   "cell_type": "markdown",
   "metadata": {},
   "source": [
    "### 6.\n",
    "연습문제 5의 결과를 이용하여 사용자의 입력을 받아 해당 문자열이 파일 내에 있는지 확인하여라. 문자열이 존재한다면 True를, 문자열이 존재하지 않는다면 False를 반환하여라.\n",
    "\n",
    "(1) 사용자의 입력 : to<br>\n",
    "(2) 사용자의 입력 : structure"
   ]
  },
  {
   "cell_type": "markdown",
   "metadata": {},
   "source": [
    "### 7.\n",
    "파일 입출력을 이용할 때, 파일모드를 지정해주는 이유를 설명하시오. 또한 파일 모드와 맞지 않는 함수를 이용했을 때의 결과를 예상하시오."
   ]
  },
  {
   "cell_type": "markdown",
   "metadata": {},
   "source": [
    "### 8.\n",
    "다음의 보기에서 잘못된 부분이 있다면 찾아서 수정하시오.\n",
    "\n",
    "(1) 파일 입출력에서 파일 모드를 지정하지 않으면 자동으로 쓰기 모드가 설정된다.<br>\n",
    "(2) 파일 모드에서 'b'는 부울형 데이터를 출력할 때 사용한다.<br>\n",
    "(3) 파일 모드 ‘w' 에서 존재하는 파일을 열 경우 해당 파일의 내용은 소멸된다.<br>\n",
    "(4) 파일 입출력을 통하여 파일을 생성할 때 기본적으로 텍스트 파일이 생성된다."
   ]
  },
  {
   "cell_type": "markdown",
   "metadata": {},
   "source": [
    "### 9.\n",
    "다음은 파일의 데이터를 한 줄씩 읽어오기 위한 코드이다. 빈칸을 알맞게 채우시오."
   ]
  },
  {
   "cell_type": "code",
   "execution_count": null,
   "metadata": {},
   "outputs": [],
   "source": [
    "f = open('example7.txt', 'r')\n",
    "while True :\n",
    "    line = f.(------------)\n",
    "    if not line :\n",
    "        (------------)\n",
    "    print(line)\n",
    "\n",
    "f.close()"
   ]
  },
  {
   "cell_type": "markdown",
   "metadata": {},
   "source": [
    "### 10.\n",
    "다음은 파일에 데이터를 추가하는 코드이다. 기존의 코드를 보존하면서 데이터를 추가할 수 있게 빈칸을 채우시오."
   ]
  },
  {
   "cell_type": "code",
   "execution_count": null,
   "metadata": {},
   "outputs": [],
   "source": [
    "with open('example7-.txt', '(-------)') as f:\n",
    "    f.(---------)('Python file I/O')\n",
    "f.close"
   ]
  },
  {
   "cell_type": "markdown",
   "metadata": {},
   "source": [
    "### 11.\n",
    "다음의 코드 실행 결과를 예상하시오."
   ]
  },
  {
   "cell_type": "code",
   "execution_count": null,
   "metadata": {},
   "outputs": [],
   "source": [
    "students = 'Jane', 'Alice', 'Seok', 'Evan'\n",
    "with open('example7.txt', 'w') as f :\n",
    "    for student in students :\n",
    "        str = student\n",
    "        f.write(str + \"\\n\")\n",
    "f.close()\n",
    "\n",
    "f = open('example7-.txt', 'r')\n",
    "line = f.readlines()\n",
    "print(lines)\n",
    "print(type(lines))\n",
    "for line in lines :\n",
    "    print(line)\n",
    "\n",
    "f.close()"
   ]
  },
  {
   "cell_type": "markdown",
   "metadata": {},
   "source": [
    "### 12.\n",
    "파일 입출력의 에외처리에 대한 설명으로 알맞지 않은 것을 고르시오.\n",
    "\n",
    "(1) 완성도 높은 프로그램을 개발하기 위하여 예외 처리를 지향해야 한다.<br>\n",
    "(2) 에러 발생 시 코드는 try문 → finally문 → except문 순서로 진행된다.<br>\n",
    "(3) try문에는 에러의 발생 여부와 상관없이 실행되는 코드를 작성한다.<br>\n",
    "(4) except에서 지정하지 않은 에러가 발생했을 경우에는 except절을 진행하지 않는다."
   ]
  },
  {
   "cell_type": "markdown",
   "metadata": {},
   "source": [
    "### 13.\n",
    "음과 같은 내용 파일 Word.txt 가 있다. \n",
    "\n",
    "Apple<br>\n",
    "Banana<br>\n",
    "Cat<br>\n",
    "Dog<br>\n",
    "Egg\n",
    "\n",
    "이 파일의 내용을 역순으로 바꾸어 저장하려 한다. 다음과 같은 코드가 있을 때, 다음 빈칸에 알맞게 채워넣으시오"
   ]
  },
  {
   "cell_type": "code",
   "execution_count": null,
   "metadata": {},
   "outputs": [],
   "source": [
    "f = open(‘Word.txt’, ‘r’)\n",
    "lines = f.readlines()\n",
    "f.close()\n",
    "(-----------) # 읽은 라인을 역순으로 정렬\n",
    "f = open(‘Word.txt’, ‘w’)\n",
    "(\n",
    "--------------------\n",
    "--------------------\n",
    ")\n",
    "f.close()"
   ]
  },
  {
   "cell_type": "markdown",
   "metadata": {},
   "source": [
    "### 14.\n",
    "다음과 같이 한 줄의 숫자들로 이루어진 num.txt 파일이 있다.\n",
    "\n",
    "70 60 50 65 98 72 65 22 40 30\n",
    "\n",
    "이 숫자들의 총합과 평균을 구하는 코드를 구현하시오\n",
    "(*Hint. 읽은 문자열에서 split() 메소드를 사용하여 리스트로 저장하여 구현"
   ]
  }
 ],
 "metadata": {
  "kernelspec": {
   "display_name": "Python 3",
   "language": "python",
   "name": "python3"
  },
  "language_info": {
   "codemirror_mode": {
    "name": "ipython",
    "version": 3
   },
   "file_extension": ".py",
   "mimetype": "text/x-python",
   "name": "python",
   "nbconvert_exporter": "python",
   "pygments_lexer": "ipython3",
   "version": "3.7.4"
  }
 },
 "nbformat": 4,
 "nbformat_minor": 2
}
