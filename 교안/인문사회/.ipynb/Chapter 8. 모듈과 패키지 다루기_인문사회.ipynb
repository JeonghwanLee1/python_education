{
 "cells": [
  {
   "cell_type": "markdown",
   "metadata": {},
   "source": [
    "# 8. 모듈과 패키지 다루기"
   ]
  },
  {
   "cell_type": "markdown",
   "metadata": {},
   "source": [
    "- 앞서 진행한 학습에서 간간히 import를 통해 모듈을 사용한 경우가 있었을 것이다. 이번 단원에서는 본격적으로 모듈과 패키지를 어떻게 사용하는지에 대해 학습한다."
   ]
  },
  {
   "cell_type": "markdown",
   "metadata": {},
   "source": [
    "### 8.1 모듈과 패키지"
   ]
  },
  {
   "cell_type": "markdown",
   "metadata": {},
   "source": [
    "#### 모듈의 사용\n",
    "- 모듈이란 함수나 변수, 혹은 클래스 등을 따로 모아 놓은 파일이다.\n",
    "- '.py' 확장자로 끝나는 파일은 모두 모듈로써 사용할 수 있다.\n",
    "- import 명령어를 통해 모듈을 가져온다.\n",
    "\n",
    "-  모듈은 앞서 확인할 수 있었던 것 처럼 미리 만들어진 모듈 역시 사용할 수 있으며 사용자가 직접 .py파일을 통해 작성 후에 모듈로 사용할 수도 있다.\n",
    "\n",
    "<div style = \"border : 1px solid green; padding : 5px; width = 50px;\">\n",
    "import module<br>\n",
    "<div style = \"color : gray;\">\n",
    "module : 모듈 명\n",
    "</div></div>\n",
    "\n",
    "- 또한 여러개의 모듈을 한 번에 불러올 수 있다.\n",
    "- 모듈이 포함한 변수나 함수, 클래스를 사용하려면 다음과 같이 쓴다.\n",
    "\n",
    "<div style = \"border : 1px solid green; padding : 5px; width = 50px;\">\n",
    "모듈.변수 <br>\n",
    "모듈.함수() <br>\n",
    "모듈.클래스\n",
    "<div style = \"color : gray;\">\n",
    "\n",
    "</div></div>\n",
    "\n",
    "#### [import를 통한 re모듈 사용]"
   ]
  },
  {
   "cell_type": "code",
   "execution_count": 2,
   "metadata": {},
   "outputs": [
    {
     "name": "stdout",
     "output_type": "stream",
     "text": [
      "<re.Match object; span=(0, 5), match='abccd'>\n"
     ]
    }
   ],
   "source": [
    "import re   # 앞서 다룬 정규표현식을 위한 모듈이다.\n",
    "pattern = re.compile('[a-z]+')\n",
    "print(pattern.search('abccd'))"
   ]
  },
  {
   "cell_type": "markdown",
   "metadata": {},
   "source": [
    "#### [import를 통한 random모듈 사용]"
   ]
  },
  {
   "cell_type": "code",
   "execution_count": 3,
   "metadata": {},
   "outputs": [
    {
     "data": {
      "text/plain": [
       "44"
      ]
     },
     "execution_count": 3,
     "metadata": {},
     "output_type": "execute_result"
    }
   ],
   "source": [
    "import random\n",
    "def ran_num() :\n",
    "    # 범위 내 임의의 정수를 출력\n",
    "    num = random.randint(0, 100)\n",
    "    return num\n",
    "ran_num()"
   ]
  },
  {
   "cell_type": "markdown",
   "metadata": {},
   "source": [
    "- from을 통해 모듈의 특정 변수, 함수, 클래스만을 가져올 수 있다.\n",
    "\n",
    "#### [from을 통한 모듈 일부 사용]"
   ]
  },
  {
   "cell_type": "code",
   "execution_count": 4,
   "metadata": {
    "scrolled": true
   },
   "outputs": [
    {
     "data": {
      "text/plain": [
       "72"
      ]
     },
     "execution_count": 4,
     "metadata": {},
     "output_type": "execute_result"
    }
   ],
   "source": [
    "from random import randrange\n",
    "\n",
    "def ran_range() :\n",
    "    # random 모듈의 randrange 함수를 import\n",
    "    # 랜덤한 3의 배수를 출력\n",
    "    num = randrange(0, 100, 3)\n",
    "    return num\n",
    "\n",
    "ran_range()"
   ]
  },
  {
   "cell_type": "markdown",
   "metadata": {},
   "source": [
    "- as 명령어를 통해 사용하고자 하는 모듈이나 모듈 내의 기능에 따로 이름을 지정해 사용할 수 있다.\n",
    "- as 명령어는 from 명령어와 함께 사용하는 것이 가능하다.\n",
    "\n",
    "<div style = \"border : 1px solid green; padding : 5px; width = 50px;\">\n",
    "import module as name<br>\n",
    "<div style = \"color : gray;\">\n",
    "module : 모듈 명 <br>\n",
    "name : 지정한 이름 <br>\n",
    "</div></div>\n",
    "\n",
    "#### [as의 사용]"
   ]
  },
  {
   "cell_type": "code",
   "execution_count": 5,
   "metadata": {},
   "outputs": [
    {
     "data": {
      "text/plain": [
       "69"
      ]
     },
     "execution_count": 5,
     "metadata": {},
     "output_type": "execute_result"
    }
   ],
   "source": [
    "from random import randrange as ran\n",
    "def ran_range() :\n",
    "    # ran으로 해당 함수 사용\n",
    "    num = ran(0, 100, 3)\n",
    "    return num\n",
    "ran_range()"
   ]
  },
  {
   "cell_type": "markdown",
   "metadata": {},
   "source": [
    "#### 패키지의 정의 및 사용"
   ]
  },
  {
   "cell_type": "markdown",
   "metadata": {},
   "source": [
    "- 패키지란 특정 기능에 따라 이에 관련된 모듈들을 모아둔 것이다.\n",
    "- 패키지 내의 모듈을 사용하기 위해서는 ‘.’을 통해 단계적으로 사용하는 것이 가능하다.\n",
    "- 패키지 역시 모듈과 동일하게 import를 사용한다.\n",
    "\n",
    "<div style = \"border : 1px solid green; padding : 5px; width = 50px;\">\n",
    "import package.module<br>\n",
    "<div style = \"color : gray;\">\n",
    "package : 패키지 명 <br>\n",
    "module : 모듈 명\n",
    "</div></div>\n",
    "\n",
    "- 패키지 내 모듈의 일부분을 사용하기 위해 from을 사용한다.\n",
    "\n",
    "<div style = \"border : 1px solid green; padding : 5px; width = 50px;\">\n",
    "from package.module import function<br>\n",
    "<div style = \"color : gray;\">\n",
    "package : 패키지 명<br>\n",
    "module : 모듈 명<br>\n",
    "function : 함수 명\n",
    "</div></div>\n",
    "\n",
    "- as를 통해 이름을 지정해 줄 수 있다.\n",
    "\n",
    "<div style = \"border : 1px solid green; padding : 5px; width = 50px;\">\n",
    "import package.module as name<br>\n",
    "<div style = \"color : gray;\">\n",
    "package : 패키지 명<br>\n",
    "module : 모듈 명<br>\n",
    "name : 지정한 이름\n",
    "</div></div>"
   ]
  },
  {
   "cell_type": "markdown",
   "metadata": {},
   "source": [
    "## 연습문제\n",
    "\n",
    "### 1.\n",
    "모듈과 패키지의 차이를 서술하라.\n",
    "\n",
    "### 2.\n",
    "디렉토리에 간단히 덧셈 및 곱셈 함수인 add(), multiple()을 설계하고 해당 위치에 import를 통해 사용하여 결과를 확인하라.\n",
    "\n",
    "- add(10, 7)\n",
    "- multiple(10, 7)\n",
    "\n",
    "<br>\n",
    "실행 결과 : <br>\n",
    "17 <br>\n",
    "70<br>"
   ]
  },
  {
   "cell_type": "markdown",
   "metadata": {},
   "source": [
    "### 3.\n",
    "아래 코드에서 오류가 있는지 확인하고 있다면 올바르게 수정하여라."
   ]
  },
  {
   "cell_type": "code",
   "execution_count": null,
   "metadata": {},
   "outputs": [],
   "source": [
    "import random from randrange as ran\n",
    "    def ran_num() :\n",
    "        num = ran(0, 100)\n",
    "        return num\n",
    "\n",
    "    def add_num() :\n",
    "        result = ran_num() + 30\n",
    "        return result\n",
    "\n",
    "    print(add_num())"
   ]
  },
  {
   "cell_type": "markdown",
   "metadata": {},
   "source": [
    "#### 실행결과 : 112"
   ]
  },
  {
   "cell_type": "markdown",
   "metadata": {},
   "source": [
    "### 4.\n",
    "다음 정규 표현식과 결과를 예상한 것 중 올바르지 않은 것을 고르시오.\n",
    "\n",
    "(1) [^0-9] : z<br>\n",
    "(2) [^abc] : z<br>\n",
    "(3) d[.]e : d0e<br>\n",
    "(4) fg*h : fh<br>\n",
    "(5) ij+k : ijjjjjk<br>"
   ]
  },
  {
   "cell_type": "markdown",
   "metadata": {},
   "source": [
    "### 5.\n",
    "정규 표현식 “P|y|t|h|o|n”이 있을 때 다음 중 정규 표현식과 매치되지 않는 것을 고르시오.\n",
    "\n",
    "(1) P<br>\n",
    "(2) Py<br>\n",
    "(3) Pyon<br>\n",
    "(4) Phton<br>\n",
    "(5) Python<br>"
   ]
  },
  {
   "cell_type": "markdown",
   "metadata": {},
   "source": [
    "### 6.\n",
    "다음 re모듈과 관련된 함수의 설명 중 일치하지 않는 것이 있다면 올바르게 수정하시오.\n",
    "\n",
    "(1) re모듈은 match(), search(), findall(), group() 총 4가지의 함수를 제공한다.<br>\n",
    "(2) search()는 패턴에 맞는 문자열을 찾아 반환하는 함수이다.<br>\n",
    "(3) findall()은 패턴과 매칭되는 모든 문자열을 튜플로 넘겨주는 함수이다.<br>\n",
    "(4) group()은 매치된 문자열 자체를 반환하는 함수이다.<br>"
   ]
  },
  {
   "cell_type": "markdown",
   "metadata": {},
   "source": [
    "### 7.\n",
    "주어진 코드의 결과를 예상하시오."
   ]
  },
  {
   "cell_type": "code",
   "execution_count": null,
   "metadata": {},
   "outputs": [],
   "source": [
    "re.finditer('Python is Object Oriented Programming Language', 'oriented')"
   ]
  },
  {
   "cell_type": "markdown",
   "metadata": {},
   "source": [
    "### 8.\n",
    "다음 문장이 참이면 O, 거짓이면 X를 고르시오.\n",
    "\n",
    "(1) 모듈이란 변수나 클래스, 자료형을 따로 구현하여 별개의 파일로 모아놓은      것을 말한다. (O / X)<br>\n",
    "(2) ‘.py' 확장자로 끝나는 파일은 모두 모듈로써 사용할 수 있다. (O / X)<br>\n",
    "(3) 기본적으로 Python에서 제공하는 모듈 이외에는 사용자가 설계하여 사용할      수 없다. (O / X)<br>\n",
    "(4) 모듈을 불러와 사용할 때에는 하나의 모듈만 사용할 수 있다. (O / X)<br>"
   ]
  },
  {
   "cell_type": "markdown",
   "metadata": {},
   "source": [
    "### 9.\n",
    "다음의 실행 결과에 맞게 코드의 빈칸에 알맞은 말을 넣으시오."
   ]
  },
  {
   "cell_type": "code",
   "execution_count": null,
   "metadata": {},
   "outputs": [],
   "source": [
    " from random import randrange\n",
    "\n",
    "    def ran_range() :\n",
    "\n",
    "        num = (빈-------------칸)(0, 300, 7)\n",
    "        return num\n",
    "\n",
    "    ran_range()"
   ]
  },
  {
   "cell_type": "markdown",
   "metadata": {},
   "source": [
    "#### 실행 결과 : 21"
   ]
  },
  {
   "cell_type": "markdown",
   "metadata": {},
   "source": [
    "### 10.\n",
    "다음의 코드에서 실행 결과를 예상하시오.\n",
    "(pow : 거듭 제곱, gcd : 최대 공약수, lcm : 최소 공배수)"
   ]
  },
  {
   "cell_type": "code",
   "execution_count": null,
   "metadata": {},
   "outputs": [],
   "source": [
    "from math import pow, gcd, lcm\n",
    "\n",
    "pow(2, 10)\n",
    "gcd(21, 15)\n",
    "lcm(14, 58)"
   ]
  }
 ],
 "metadata": {
  "kernelspec": {
   "display_name": "Python 3",
   "language": "python",
   "name": "python3"
  },
  "language_info": {
   "codemirror_mode": {
    "name": "ipython",
    "version": 3
   },
   "file_extension": ".py",
   "mimetype": "text/x-python",
   "name": "python",
   "nbconvert_exporter": "python",
   "pygments_lexer": "ipython3",
   "version": "3.7.4"
  }
 },
 "nbformat": 4,
 "nbformat_minor": 2
}
