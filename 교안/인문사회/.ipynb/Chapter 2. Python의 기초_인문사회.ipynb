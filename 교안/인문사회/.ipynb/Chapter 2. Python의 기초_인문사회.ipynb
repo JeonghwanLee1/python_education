{
 "cells": [
  {
   "cell_type": "markdown",
   "metadata": {
    "slideshow": {
     "slide_type": "slide"
    }
   },
   "source": [
    "# 2. Python의 기초"
   ]
  },
  {
   "cell_type": "markdown",
   "metadata": {
    "slideshow": {
     "slide_type": "slide"
    }
   },
   "source": [
    "### 2.1 변수\n",
    "#### 변수의 정의\n",
    "- 사용자가 정의한 값 혹은 객체가 담겨 있는 공간을 변수라고 한다.\n",
    "- 변수의 내용은 프로그램 실행 중 변경될 수 있다."
   ]
  },
  {
   "cell_type": "markdown",
   "metadata": {
    "slideshow": {
     "slide_type": "slide"
    }
   },
   "source": [
    "#### 변수의 선언\n",
    "- 변수의 이름을 지정하여 변수를 생성하는 행위를‘선언한다’라고 한다.\n",
    "- 변수가 선언되면 사용자가 정의한 값 혹은 객체가 공간(메모리)에 저장된다.\n",
    "\n",
    "#### 변수의 초기화\n",
    "- 생성된 변수에 처음으로 값을 부여하는 행위를 '초기화한다'라고 한다."
   ]
  },
  {
   "cell_type": "markdown",
   "metadata": {},
   "source": [
    "#### 변수 선언의 기본형\n",
    "- 원하는 변수 명에 초깃값 혹은 객체를 저장한다.\n",
    "\n",
    "<div style = \"border : 1px solid green; padding : 5px; width = 50px;\">var = value<br>\n",
    "<div style = \"color : gray;\">var : 변수 명 <br> value : 숫자, 문자, 문자열</div></div>"
   ]
  },
  {
   "cell_type": "markdown",
   "metadata": {},
   "source": [
    "#### [변수의 선언 및 초기화(1)]"
   ]
  },
  {
   "cell_type": "code",
   "execution_count": 1,
   "metadata": {
    "scrolled": true,
    "slideshow": {
     "slide_type": "subslide"
    }
   },
   "outputs": [
    {
     "name": "stdout",
     "output_type": "stream",
     "text": [
      "myVar =  3.5\n"
     ]
    }
   ],
   "source": [
    "# 변수를 선언과 동시에 초기화한다.\n",
    "myVar = 3.5\n",
    "print(\"myVar = \", myVar)"
   ]
  },
  {
   "cell_type": "markdown",
   "metadata": {},
   "source": [
    "#### [변수의 선언 및 초기화(2)]"
   ]
  },
  {
   "cell_type": "code",
   "execution_count": 2,
   "metadata": {},
   "outputs": [
    {
     "name": "stdout",
     "output_type": "stream",
     "text": [
      "안녕하세요\n"
     ]
    }
   ],
   "source": [
    "myStr = '안녕하세요'\n",
    "print(myStr)"
   ]
  },
  {
   "cell_type": "markdown",
   "metadata": {
    "slideshow": {
     "slide_type": "subslide"
    }
   },
   "source": [
    "#### 여러 변수의 동시 선언\n",
    "- Python에서는 한 문장에 여러 변수를 동시에 선언할 수 있다. 그에 대한 방법은 다음과 같다.\n",
    "\n",
    "<div style = \"border : 1px solid green; padding : 5px; width = 50px;\">var1, var2 = (value1, value2)<br>\n",
    "(var1, var2) = value1, value2<br>[var1, var2] = [value1, value2]<br> var1 = var2 = value1<br>\n",
    "<div style = \"color : gray;\">var1, var2 : 변수 명 <br> value1, value2 : 숫자, 문자, 문자열</div></div>"
   ]
  },
  {
   "cell_type": "markdown",
   "metadata": {},
   "source": [
    "#### 변수 선언의 주의 사항\n",
    "- 예약어를 변수 이름으로 지정할 수 없다.\n",
    "- 변수의 언더바(_)를 제외한 특수문자 혹은 숫자로 시작할 수 없다.\n",
    "- 예: \n",
    "    - if = 4 (x)\n",
    "    - !@res@! = 15 (x)\n",
    "    - 123Num = 1 (x)\n",
    "    - myAdd = 20 (o)\n",
    "    - myVar = 10 (o)"
   ]
  },
  {
   "cell_type": "markdown",
   "metadata": {},
   "source": [
    "#### 예약어(Keyword)\n",
    "- 프로그래밍 언어에서 미리 지정하여 문법적인 용도로 사용되고 있는 단어를 예약어 혹은 지정어라고 한다.\n",
    "- Python의 경우 35개의 예약어가 존재한다. 그 종류는 아래의 표 2-1과 같다.\n",
    "<br><br>\n",
    "<center><표 2-1> Python의 예약어</center>\n",
    "<img src=https://user-images.githubusercontent.com/37530732/75322220-ac399080-58b5-11ea-9caa-da0c9e650257.png style=\"width:80%;\">\n"
   ]
  },
  {
   "cell_type": "markdown",
   "metadata": {},
   "source": [
    "#### [예약어(1)]"
   ]
  },
  {
   "cell_type": "code",
   "execution_count": 4,
   "metadata": {},
   "outputs": [
    {
     "ename": "SyntaxError",
     "evalue": "invalid syntax (<ipython-input-4-d44ecf2c9b64>, line 2)",
     "output_type": "error",
     "traceback": [
      "\u001b[1;36m  File \u001b[1;32m\"<ipython-input-4-d44ecf2c9b64>\"\u001b[1;36m, line \u001b[1;32m2\u001b[0m\n\u001b[1;33m    class = 10\u001b[0m\n\u001b[1;37m          ^\u001b[0m\n\u001b[1;31mSyntaxError\u001b[0m\u001b[1;31m:\u001b[0m invalid syntax\n"
     ]
    }
   ],
   "source": [
    "#예약어를 변수명으로 지정할 수 없다.\n",
    "class = 10\n",
    "print(class)"
   ]
  },
  {
   "cell_type": "markdown",
   "metadata": {},
   "source": [
    "#### [예약어(2)]"
   ]
  },
  {
   "cell_type": "code",
   "execution_count": 5,
   "metadata": {},
   "outputs": [
    {
     "name": "stdout",
     "output_type": "stream",
     "text": [
      "class\n",
      "lambda\n",
      "continue\n"
     ]
    }
   ],
   "source": [
    "#예약어와 같은 문자열은 예약어로 인식되지 않음\n",
    "#문자열이기 때문에 따옴표 안에 작성해야 함\n",
    "myStr1 = 'class'\n",
    "myStr2 = 'lambda'\n",
    "myStr3 = 'continue'\n",
    "print(myStr1)\n",
    "print(myStr2)\n",
    "print(myStr3)"
   ]
  },
  {
   "cell_type": "markdown",
   "metadata": {
    "slideshow": {
     "slide_type": "slide"
    }
   },
   "source": [
    "### 2.2 자료형\n",
    "#### 자료형의 정의\n",
    "- 프로그래밍에서 사용되는 변수, 객체 혹은 자료의 형태를 나타낸다.\n",
    "- Python에는 크게 숫자형, 부울형, 군집형의 3가지 형태의 자료형이 존재한다.\n",
    "- Python에서는 변수를 선언할 때에 자료형을 표현하지 않고 선언하기 때문에 type() 함수를 이용하여 해당 변수의 자료형을 알 수 있다.<br><br>\n",
    "<div style = \"border : 1px solid green; padding : 5px; width = 50px;\">type(var)<br>\n",
    "<div style = \"color : gray;\">var : 자료형을 확인하고자 하는 변수의 이름</div></div>"
   ]
  },
  {
   "cell_type": "markdown",
   "metadata": {},
   "source": [
    "#### [type()의 사용(1)]"
   ]
  },
  {
   "cell_type": "code",
   "execution_count": 6,
   "metadata": {
    "slideshow": {
     "slide_type": "subslide"
    }
   },
   "outputs": [
    {
     "name": "stdout",
     "output_type": "stream",
     "text": [
      "<class 'str'>\n"
     ]
    }
   ],
   "source": [
    "myStr = \"String data type\"\n",
    "print(type(myStr))"
   ]
  },
  {
   "cell_type": "markdown",
   "metadata": {},
   "source": [
    "#### [type의 사용(2)]"
   ]
  },
  {
   "cell_type": "code",
   "execution_count": 7,
   "metadata": {
    "slideshow": {
     "slide_type": "subslide"
    }
   },
   "outputs": [
    {
     "name": "stdout",
     "output_type": "stream",
     "text": [
      "<class 'int'>\n",
      "<class 'float'>\n"
     ]
    }
   ],
   "source": [
    "myInt = 5\n",
    "print(type(myInt))\n",
    "myFloat = 3.5\n",
    "print(type(myFloat))"
   ]
  },
  {
   "cell_type": "markdown",
   "metadata": {
    "slideshow": {
     "slide_type": "slide"
    }
   },
   "source": [
    "### 2.3 자료형의 종류\n",
    "\n",
    "#### Python에는 숫자형, 부울형, 군집형 자료형이 존재하지만 군집형 자료형은 조금 더 뒤에 서술하기로 하고 이번 단원에서는 숫자형, 부울형 자료형을 우선해서 설명한다.\n",
    "\n",
    "#### 숫자형 자료형\n",
    "- 데이터가 정수인지 실수인지 혹은 복소수인지에 따라 int, float형으로 나누어진다."
   ]
  },
  {
   "cell_type": "markdown",
   "metadata": {},
   "source": [
    "#### [숫자형 자료형(1)]"
   ]
  },
  {
   "cell_type": "code",
   "execution_count": 8,
   "metadata": {
    "slideshow": {
     "slide_type": "subslide"
    }
   },
   "outputs": [
    {
     "name": "stdout",
     "output_type": "stream",
     "text": [
      "5\n",
      "3.5\n"
     ]
    }
   ],
   "source": [
    "# 정수형\n",
    "myInt = 5\n",
    "print(myInt)\n",
    "# 실수형\n",
    "myFloat = 3.5\n",
    "print(myFloat)"
   ]
  },
  {
   "cell_type": "markdown",
   "metadata": {},
   "source": [
    "#### [숫자형 자료형(2)]"
   ]
  },
  {
   "cell_type": "code",
   "execution_count": 9,
   "metadata": {
    "slideshow": {
     "slide_type": "subslide"
    }
   },
   "outputs": [
    {
     "name": "stdout",
     "output_type": "stream",
     "text": [
      "8.5\n"
     ]
    }
   ],
   "source": [
    "# 정수형\n",
    "myInt = 5\n",
    "# 실수형\n",
    "myFloat = 3.5\n",
    "\n",
    "#정수형과 실수형 끼리의 연산 가능\n",
    "print(myInt + myFloat)"
   ]
  },
  {
   "cell_type": "markdown",
   "metadata": {},
   "source": [
    "- 0b, 0o, 0x를 통하여 2진수(Binary), 8진수(Octal), 16진수(Hexadecimal) 의 표현이 가능하다.\n",
    "- 16진수에서 10 = a, 11 = b, … , 15 = f로 표기한다.\n",
    "<img src=https://user-images.githubusercontent.com/37530732/75323272-e1df7900-58b7-11ea-894a-f7e310db8f25.png style=\"width:80%;\">"
   ]
  },
  {
   "cell_type": "markdown",
   "metadata": {},
   "source": [
    "#### [숫자형 자료형(3)]"
   ]
  },
  {
   "cell_type": "code",
   "execution_count": 10,
   "metadata": {
    "slideshow": {
     "slide_type": "subslide"
    }
   },
   "outputs": [
    {
     "name": "stdout",
     "output_type": "stream",
     "text": [
      "5\n",
      "107\n",
      "76486\n"
     ]
    }
   ],
   "source": [
    "# 2진수\n",
    "myBin = 0b101\n",
    "print(myBin)\n",
    "# 8진수\n",
    "myOct = 0o153\n",
    "print(myOct)\n",
    "# 16진수\n",
    "myHex = 0x12ac6\n",
    "print(myHex)"
   ]
  },
  {
   "cell_type": "markdown",
   "metadata": {},
   "source": [
    "#### 부울형 자료형\n",
    "- 참, 거짓을 나타내는 자료형으로 True 혹은 False의 두 가지 값만을 가질 수 있다."
   ]
  },
  {
   "cell_type": "markdown",
   "metadata": {},
   "source": [
    "#### [자료형의 bool 값]"
   ]
  },
  {
   "cell_type": "code",
   "execution_count": 11,
   "metadata": {
    "slideshow": {
     "slide_type": "subslide"
    }
   },
   "outputs": [
    {
     "name": "stdout",
     "output_type": "stream",
     "text": [
      "False\n",
      "True\n"
     ]
    }
   ],
   "source": [
    "# 0은 False로 인식됨\n",
    "myInt = 0\n",
    "print(bool(myInt))\n",
    "myFloat = 3.2\n",
    "print(bool(myFloat))"
   ]
  },
  {
   "cell_type": "markdown",
   "metadata": {},
   "source": [
    "- 각 자료형은 아래 표 2-2의 값을 가졌을 때에만 False를 반환하고 이외의 값을 가지고 있을 때 True 값을 반환한다.<br><br>\n",
    "<center><표 2-2> 자료형의 False 값</center>\n",
    "<img src=\"https://user-images.githubusercontent.com/37530732/75323617-9a0d2180-58b8-11ea-9140-3ec8cfebc298.png\" alt=\"variable\" style=\"float: left; width: 80%;\"/>"
   ]
  },
  {
   "cell_type": "markdown",
   "metadata": {
    "slideshow": {
     "slide_type": "subslide"
    }
   },
   "source": [
    "#### 군집형 자료형\n",
    "- 여러 종류의 데이터를 저장할 수 있는 자료형을 뜻한다.\n",
    "- 문자열(str), 리스트(list), 튜플(tuple), 딕셔너리(dict), 집합(set)의 5가지가 존재한다.\n",
    "- 군집형 자료형에서는 순서의 의미를 가지고 있는 자료형도 있으나 순서의 의미를 가지지 않아 인덱싱이 불가능한 자료형도 존재한다."
   ]
  },
  {
   "cell_type": "markdown",
   "metadata": {
    "slideshow": {
     "slide_type": "slide"
    }
   },
   "source": [
    "### 2.4 자료형의 변환\n",
    "#### 형변환의 개념\n",
    "- 선언된 변수의 자료형이 아닌 다른 자료형으로 변경하는 것을 뜻한다.\n",
    "- 자료형의 이름을 사용하여 형변환이 가능하다.\n",
    "<div style = \"border : 1px solid green; padding : 5px; width = 50px;\">datatype(var)<br>\n",
    "<div style = \"color : gray;\">datatype : 바꿀 자료형 이름<br>var : 바뀌어질 변수 이름</div></div>"
   ]
  },
  {
   "cell_type": "markdown",
   "metadata": {},
   "source": [
    "#### [형변환]"
   ]
  },
  {
   "cell_type": "code",
   "execution_count": 12,
   "metadata": {
    "slideshow": {
     "slide_type": "subslide"
    }
   },
   "outputs": [
    {
     "name": "stdout",
     "output_type": "stream",
     "text": [
      "3.0\n",
      "4\n"
     ]
    }
   ],
   "source": [
    "# int to float\n",
    "print(float(3))\n",
    "\n",
    "# float to int : 소수점 이하를 버림\n",
    "print(int(4.6))"
   ]
  },
  {
   "cell_type": "markdown",
   "metadata": {},
   "source": [
    "- 정수형 변수를 2진수, 8진수, 10진수 등으로의 변화가 가능하다."
   ]
  },
  {
   "cell_type": "markdown",
   "metadata": {},
   "source": [
    "#### [진법 변화]"
   ]
  },
  {
   "cell_type": "code",
   "execution_count": 13,
   "metadata": {
    "slideshow": {
     "slide_type": "subslide"
    }
   },
   "outputs": [
    {
     "name": "stdout",
     "output_type": "stream",
     "text": [
      "0o12\n"
     ]
    }
   ],
   "source": [
    "# 10진수를 8진수로 변화\n",
    "print(oct(10))"
   ]
  },
  {
   "cell_type": "markdown",
   "metadata": {
    "slideshow": {
     "slide_type": "slide"
    }
   },
   "source": [
    "## 2.2 연산자\n",
    "#### 산술 연산자(Arithmetic Operators)\n",
    "- 사칙연산에 사용되는 연산자들을 산술 연산자라고 한다.\n",
    "- 나눗셈을 할 때에 수학에서와 마찬가지로 분모가 0이 될 수 없다.\n",
    "<br><br>\n",
    "<center><표 2-3> 산술 연산자의 종류</center>\n",
    "<img src=\"https://user-images.githubusercontent.com/37530732/75324232-d725e380-58b9-11ea-82e0-356c206949fe.png\" style=\"width: 80%;\"/>"
   ]
  },
  {
   "cell_type": "markdown",
   "metadata": {},
   "source": [
    "#### [사칙연산]"
   ]
  },
  {
   "cell_type": "code",
   "execution_count": 14,
   "metadata": {
    "slideshow": {
     "slide_type": "subslide"
    }
   },
   "outputs": [
    {
     "name": "stdout",
     "output_type": "stream",
     "text": [
      "15\n",
      "0.5 <class 'float'>\n"
     ]
    }
   ],
   "source": [
    "a = 5\n",
    "b = 10\n",
    "# a + b 는 그대로 int 형\n",
    "print(a + b)\n",
    "    \n",
    "# / 연산자 -> float 형으로 반환\n",
    "print(a / b, type(a/b))"
   ]
  },
  {
   "cell_type": "markdown",
   "metadata": {},
   "source": [
    "#### 비교 연산자(Comparison Operators)\n",
    "- 변수간의 크기 비교를 위한 연산자이다.\n",
    "- 결과값에 따라 True, 아니라면 False의 부울형으로 반환한다.\n",
    "<br><br>\n",
    "<center><표 2-4> 비교 연산자의 종류</center>\n",
    "<img src=\"https://user-images.githubusercontent.com/37530732/75325019-6aabe400-58bb-11ea-99b9-7fbddd68259f.png\" style=\"width: 80%;\"/>"
   ]
  },
  {
   "cell_type": "markdown",
   "metadata": {},
   "source": [
    "#### [비교연산]"
   ]
  },
  {
   "cell_type": "code",
   "execution_count": 15,
   "metadata": {
    "scrolled": true,
    "slideshow": {
     "slide_type": "subslide"
    }
   },
   "outputs": [
    {
     "name": "stdout",
     "output_type": "stream",
     "text": [
      "False\n",
      "True\n",
      "True\n",
      "False\n"
     ]
    }
   ],
   "source": [
    "a, b = (10, 5)\n",
    "print(a == b)\n",
    "print(a != b)\n",
    "print(a > b)\n",
    "print(a <= b)"
   ]
  },
  {
   "cell_type": "markdown",
   "metadata": {},
   "source": [
    "#### 할당 연산자(Assignment Operators)\n",
    "- 변수에 원하는 값을 넣기 위한 연산자이다.\n",
    "- 수학에서의 등호(=)와 할당연산자 = 과는 다름을 유의할 수 있도록 하자.\n",
    "<br><br>\n",
    "<center><표 2-5> 할당 연산자의 종류</center>\n",
    "<img src=\"https://user-images.githubusercontent.com/37530732/75325184-ba8aab00-58bb-11ea-9f4d-b7792d2f1dea.png\" style=\"width: 80%;\"/>"
   ]
  },
  {
   "cell_type": "markdown",
   "metadata": {},
   "source": [
    "#### [할당연산]"
   ]
  },
  {
   "cell_type": "code",
   "execution_count": 16,
   "metadata": {
    "slideshow": {
     "slide_type": "subslide"
    }
   },
   "outputs": [
    {
     "name": "stdout",
     "output_type": "stream",
     "text": [
      "25 25\n",
      "50 25\n",
      "2.0 25\n"
     ]
    }
   ],
   "source": [
    "a = 25\n",
    "# b == a 와는 다름에 주의\n",
    "b = a\n",
    "print(a, b)\n",
    "a += b\n",
    "print(a, b)\n",
    "a /= b\n",
    "print(a, b)"
   ]
  },
  {
   "cell_type": "markdown",
   "metadata": {},
   "source": [
    "#### 논리 연산자(Logical Operators)\n",
    "- 논리적인 비교를 위한 연산자이다. 그 종류는 아래의 표 2-6와 같다.\n",
    "<br><br>\n",
    "<center><표 2-6> 논리 연산자의 종류</center>\n",
    "<img src=\"https://user-images.githubusercontent.com/37530732/75325405-1fde9c00-58bc-11ea-954d-712ccd8c32b7.png\" style=\"width: 80%;\"/>\n",
    "\n",
    "- 논리 값에 따른 논리 연산 결과는 아래의 표 2-7과 같다.<br><br>\n",
    "<center><표 2-7> 논리 값 표</center>\n",
    "<img src=\"https://user-images.githubusercontent.com/37530732/75325541-5c11fc80-58bc-11ea-962f-ab8d2633f986.png\" style=\"width: 80%;\"/>"
   ]
  },
  {
   "cell_type": "markdown",
   "metadata": {},
   "source": [
    "#### [논리연산(1)]"
   ]
  },
  {
   "cell_type": "code",
   "execution_count": 17,
   "metadata": {
    "scrolled": true,
    "slideshow": {
     "slide_type": "subslide"
    }
   },
   "outputs": [
    {
     "name": "stdout",
     "output_type": "stream",
     "text": [
      "True\n"
     ]
    }
   ],
   "source": [
    "a, b = (5, 10)\n",
    "c, d = (3, 3)\n",
    "#a < b 가 참이고, c == d 가 참이므로 (참 and 참) = 참을 반환\n",
    "print((a < b) and (c == d))"
   ]
  },
  {
   "cell_type": "markdown",
   "metadata": {},
   "source": [
    "#### [논리연산(2)]"
   ]
  },
  {
   "cell_type": "code",
   "execution_count": 18,
   "metadata": {
    "slideshow": {
     "slide_type": "subslide"
    }
   },
   "outputs": [
    {
     "name": "stdout",
     "output_type": "stream",
     "text": [
      "False\n"
     ]
    }
   ],
   "source": [
    "a, b = (5, 10)\n",
    "#a < b가 참이므로 not 연산자를 사용하면 반대의 결과가 출력\n",
    "print(not(a < b))"
   ]
  },
  {
   "cell_type": "markdown",
   "metadata": {},
   "source": [
    "#### [논리연산(3)]"
   ]
  },
  {
   "cell_type": "code",
   "execution_count": 19,
   "metadata": {
    "slideshow": {
     "slide_type": "subslide"
    }
   },
   "outputs": [
    {
     "name": "stdout",
     "output_type": "stream",
     "text": [
      "True\n"
     ]
    }
   ],
   "source": [
    "a, b = (True, False)\n",
    "#부울형 간의 연산\n",
    "print(a or b)"
   ]
  },
  {
   "cell_type": "markdown",
   "metadata": {
    "slideshow": {
     "slide_type": "subslide"
    }
   },
   "source": [
    "#### 구성원 연산자(Membership Operators)\n",
    "- 군집형 자료형의 경우 하나의 변수에 여러 개의 데이터가 저장되어 있다. 이에 따라 어떤 값이 해당 변수 내에 존재하는지 여부를 확인하는 연산자가 필요하게 되었고 이를 ‘구성원 연산자’라고 한다.\n",
    "- 특정 값이 해당 변수 내에 존재한다면 True 결과를 나타내고 그렇지 않다면 False 결과를 나타낸다.\n",
    "<br><br>\n",
    "<center><표 2-8> 구성원 연산자의 종류</center>\n",
    "<img src=\"https://user-images.githubusercontent.com/37530732/75326168-7ac4c300-58bd-11ea-90a2-2aa3c0ba3e2a.png\" style=\"width: 80%;\"/>"
   ]
  },
  {
   "cell_type": "markdown",
   "metadata": {},
   "source": [
    "#### [구성원 연산]"
   ]
  },
  {
   "cell_type": "code",
   "execution_count": 20,
   "metadata": {
    "slideshow": {
     "slide_type": "subslide"
    }
   },
   "outputs": [
    {
     "name": "stdout",
     "output_type": "stream",
     "text": [
      "False\n",
      "True\n"
     ]
    }
   ],
   "source": [
    "a = 10\n",
    "list = [1, 3, 5, 7, 9]\n",
    "print(a in list)\n",
    "b = 6\n",
    "print(b not in list)"
   ]
  },
  {
   "cell_type": "markdown",
   "metadata": {
    "slideshow": {
     "slide_type": "subslide"
    }
   },
   "source": [
    "#### 2.2.1.7 식별연산자(Identity Operators)\n",
    "- 두 객체의 메모리 위치를 비교하여 결과를 부울값으로 반환해 주는 연산자를 ‘식별 연산자’라고 한다.\n",
    "- 두 객체가 같은 메모리 위치를 가리키고 있다는 것은 객체의 이름만 다를 뿐 완전히 같은 객체라는 의미이며 하나의 객체 값을 수정했을 때 나머지 객체도 함께 수정된다.\n",
    "- 두 객체가 다른 메모리 위치를 가리키고 있다는 것은 두 객체가 완전히 다른 객체라는 의미이기 때문에 하나의 객체 값이 변하더라도 영향을 끼지지 않는다.\n",
    "- 식별 연산자의 종류는 아래 표 2-9와 같다.\n",
    "<br><br>\n",
    "<center><표 2-9> 구성원 연산자의 종류</center>\n",
    "<img src=\"https://user-images.githubusercontent.com/37530732/75326375-d5f6b580-58bd-11ea-8f15-958ffc83ae36.png\" style=\"width: 80%;\"/>"
   ]
  },
  {
   "cell_type": "markdown",
   "metadata": {},
   "source": [
    "#### [식별연산]"
   ]
  },
  {
   "cell_type": "code",
   "execution_count": 21,
   "metadata": {
    "slideshow": {
     "slide_type": "subslide"
    }
   },
   "outputs": [
    {
     "name": "stdout",
     "output_type": "stream",
     "text": [
      "True\n",
      "False\n",
      "True\n"
     ]
    }
   ],
   "source": [
    "a, b = (5, 5)\n",
    "print(a is b)\n",
    "c, d = (257, 256)\n",
    "print(c is d)\n",
    "a, b = (56, 92)\n",
    "print(a is not b)"
   ]
  },
  {
   "cell_type": "markdown",
   "metadata": {
    "slideshow": {
     "slide_type": "slide"
    }
   },
   "source": [
    "### 2.2.2 연산자 우선순위\n",
    "- Python의 연산자 역시 수학에서의 연산자와 마찬가지로 우선순위가 존재한다.\n",
    "- 우선순위가 높을수록 먼저 실행한다.\n",
    "- 연산자의 우선순위는 아래의 표 2-10을 따른다.\n",
    "<br><br>\n",
    "<center><표 2-10> 연산자의 우선순위</center>\n",
    "<img src=\"https://user-images.githubusercontent.com/37530732/75326702-6f25cc00-58be-11ea-8f5f-eb1d1369f282.png\" style=\"width: 70%;\"/>"
   ]
  },
  {
   "cell_type": "markdown",
   "metadata": {
    "slideshow": {
     "slide_type": "slide"
    }
   },
   "source": [
    "### 2.6 문자열\n",
    "#### 문자열의 개념\n",
    "- 문자열이란 문자들의 집합을 의미한다. 즉, 통상적인 단어, 문장, 숫자 등을 문자열로 칭할 수 있다."
   ]
  },
  {
   "cell_type": "markdown",
   "metadata": {},
   "source": [
    "#### [문자열]"
   ]
  },
  {
   "cell_type": "code",
   "execution_count": 22,
   "metadata": {
    "slideshow": {
     "slide_type": "subslide"
    }
   },
   "outputs": [
    {
     "name": "stdout",
     "output_type": "stream",
     "text": [
      "<class 'str'>\n",
      "<class 'str'>\n",
      "<class 'str'>\n"
     ]
    }
   ],
   "source": [
    "print(type('A'))\n",
    "print(type(\"Hello World\"))\n",
    "print(type(\"12345\"))"
   ]
  },
  {
   "cell_type": "markdown",
   "metadata": {
    "slideshow": {
     "slide_type": "slide"
    }
   },
   "source": [
    "#### 문자열의 선언\n",
    "- 문자열의 선언 방법은 크게 2가지 방식이 존재한다.\n",
    "- 첫째는 단일 따옴표 사용을 이용한 선언으로 이는 큰따옴표(“”)혹은 작은따옴표(‘’)로 사용하고자 하는 문자열의 앞뒤를 감싸서 표현할 수 있다."
   ]
  },
  {
   "cell_type": "markdown",
   "metadata": {
    "slideshow": {
     "slide_type": "subslide"
    }
   },
   "source": [
    "#### [문자열 선언(1)]"
   ]
  },
  {
   "cell_type": "code",
   "execution_count": 23,
   "metadata": {
    "slideshow": {
     "slide_type": "subslide"
    }
   },
   "outputs": [
    {
     "name": "stdout",
     "output_type": "stream",
     "text": [
      "Computer Science\n"
     ]
    }
   ],
   "source": [
    "myStr = 'Computer Science'\n",
    "print(myStr)"
   ]
  },
  {
   "cell_type": "markdown",
   "metadata": {
    "slideshow": {
     "slide_type": "subslide"
    }
   },
   "source": [
    "#### [문자열 선언(2)]"
   ]
  },
  {
   "cell_type": "code",
   "execution_count": 25,
   "metadata": {
    "slideshow": {
     "slide_type": "subslide"
    }
   },
   "outputs": [
    {
     "name": "stdout",
     "output_type": "stream",
     "text": [
      "Hello,world!\n"
     ]
    }
   ],
   "source": [
    "myStr = 'Hello,world!'\n",
    "print(myStr)"
   ]
  },
  {
   "cell_type": "markdown",
   "metadata": {
    "slideshow": {
     "slide_type": "slide"
    }
   },
   "source": [
    "### 2.7 이스케이프 코드\n",
    "#### 이스케이프 코드의 개념\n",
    "- 역슬래시(\\)의 뒤에 문자가 오는 조합으로 기기를 제어할 때에 사용한다.\n",
    "- 줄바꿈(\\n), 탭(\\t) 등은 출력 포매팅 수행 시 유용하게 사용할 수 있다."
   ]
  },
  {
   "cell_type": "markdown",
   "metadata": {},
   "source": [
    "#### [이스케이프 코드(탭)]"
   ]
  },
  {
   "cell_type": "code",
   "execution_count": 26,
   "metadata": {
    "slideshow": {
     "slide_type": "subslide"
    }
   },
   "outputs": [
    {
     "name": "stdout",
     "output_type": "stream",
     "text": [
      "this is [\t] tap code\n"
     ]
    }
   ],
   "source": [
    "myStr = \"this is [\\t] tap code\"\n",
    "print(myStr)"
   ]
  },
  {
   "cell_type": "markdown",
   "metadata": {},
   "source": [
    "#### [이스케이프 코드(개행)]"
   ]
  },
  {
   "cell_type": "code",
   "execution_count": 27,
   "metadata": {},
   "outputs": [
    {
     "name": "stdout",
     "output_type": "stream",
     "text": [
      "\"This is \n",
      "backslash(\\)\"\n"
     ]
    }
   ],
   "source": [
    "myStr = \"\\\"This is \\nbackslash(\\\\)\\\"\"\n",
    "print(myStr)"
   ]
  },
  {
   "cell_type": "markdown",
   "metadata": {
    "slideshow": {
     "slide_type": "slide"
    }
   },
   "source": [
    "### 2.8 문자열의 연산\n",
    "#### 문자열의 합 연산\n",
    "- ‘+’연산자를 이용하여 여러 개의 문자열의 합 연산이 가능하다."
   ]
  },
  {
   "cell_type": "markdown",
   "metadata": {},
   "source": [
    "#### [문자열의 합 연산]"
   ]
  },
  {
   "cell_type": "code",
   "execution_count": 28,
   "metadata": {
    "slideshow": {
     "slide_type": "subslide"
    }
   },
   "outputs": [
    {
     "name": "stdout",
     "output_type": "stream",
     "text": [
      "Helloworld\n"
     ]
    }
   ],
   "source": [
    "aStr = \"Hello\"\n",
    "bStr = \"world\"\n",
    "print(aStr + bStr)"
   ]
  },
  {
   "cell_type": "markdown",
   "metadata": {},
   "source": [
    "#### 문자열의 곱 연산\n",
    "- ‘*’연산자를 이용하여 문자열과 정수에 대한 곱 연산이 가능하다."
   ]
  },
  {
   "cell_type": "markdown",
   "metadata": {},
   "source": [
    "#### [문자열의 곱 연산(1)]"
   ]
  },
  {
   "cell_type": "code",
   "execution_count": 29,
   "metadata": {
    "slideshow": {
     "slide_type": "subslide"
    }
   },
   "outputs": [
    {
     "name": "stdout",
     "output_type": "stream",
     "text": [
      "shyshyshy\n"
     ]
    }
   ],
   "source": [
    "aStr = \"shy\"\n",
    "print(aStr * 3)"
   ]
  },
  {
   "cell_type": "markdown",
   "metadata": {},
   "source": [
    "#### [문자열의 곱 연산(2)]"
   ]
  },
  {
   "cell_type": "code",
   "execution_count": 30,
   "metadata": {},
   "outputs": [
    {
     "name": "stdout",
     "output_type": "stream",
     "text": [
      "hellohello\n"
     ]
    }
   ],
   "source": [
    "# 코드의 좌측으로 곱 연산 한 정수의 수만큼 반복\n",
    "Str = \"hello\"\n",
    "print(Str * 2)"
   ]
  },
  {
   "cell_type": "markdown",
   "metadata": {
    "slideshow": {
     "slide_type": "subslide"
    }
   },
   "source": [
    "#### 2.3.4.1 문자열 인덱싱(String Indexing)\n",
    "- 문자열의 각 문자를 0 ~ 문자열의 끝까지 index를 부여하고 해당 index를 통하여 문자열에 접근하는 것을 ‘문자열 인덱싱’이라고 한다.\n",
    "- 문자열의 각 요소들을 관리하는 데에 편리성을 제공하여 주는 기능이다.\n",
    "<br><br>\n",
    "<img src=\"https://user-images.githubusercontent.com/37530732/75327640-1a835080-58c0-11ea-8057-5693549d4c1e.png\" style=\"width: 80%;\"/><br>\n",
    "<center><그림 2-1> 문자열 인덱싱의 예시</center>"
   ]
  },
  {
   "cell_type": "markdown",
   "metadata": {},
   "source": [
    "#### [문자열 인덱싱(1)]"
   ]
  },
  {
   "cell_type": "code",
   "execution_count": 31,
   "metadata": {
    "scrolled": true,
    "slideshow": {
     "slide_type": "subslide"
    }
   },
   "outputs": [
    {
     "name": "stdout",
     "output_type": "stream",
     "text": [
      "p\n"
     ]
    }
   ],
   "source": [
    "myStr = \"Computer\"\n",
    "print(myStr[3])"
   ]
  },
  {
   "cell_type": "markdown",
   "metadata": {},
   "source": [
    "#### [문자열 인덱싱(2)]"
   ]
  },
  {
   "cell_type": "code",
   "execution_count": 32,
   "metadata": {
    "slideshow": {
     "slide_type": "subslide"
    }
   },
   "outputs": [
    {
     "name": "stdout",
     "output_type": "stream",
     "text": [
      "e\n"
     ]
    }
   ],
   "source": [
    "myStr = \"Science\"\n",
    "#음수이기 때문에 문자열 인덱싱의 역순으로 진행\n",
    "print(myStr[-1])"
   ]
  },
  {
   "cell_type": "markdown",
   "metadata": {},
   "source": [
    "- index가 음수라면 문자열의 끝부터의 index를 지칭하는 것이다. 맨 뒤의 문자의 index를 –1이라고 생각하면 이해하기가 수월하다."
   ]
  },
  {
   "cell_type": "markdown",
   "metadata": {
    "slideshow": {
     "slide_type": "subslide"
    }
   },
   "source": [
    "#### 문자열 슬라이싱(String Slicing)\n",
    "- 문자열을 사용자가 원하는 만큼 자르는(Slicing) 것을 ‘문자열 슬라이싱’이라고 한다.\n",
    "- 문자열의 이름[자르기 시작할 위치: 끝위치 + 1]와 같은 형식으로 표시한다."
   ]
  },
  {
   "cell_type": "markdown",
   "metadata": {},
   "source": [
    "#### [문자열 슬라이싱(1)]"
   ]
  },
  {
   "cell_type": "code",
   "execution_count": 33,
   "metadata": {
    "slideshow": {
     "slide_type": "subslide"
    }
   },
   "outputs": [
    {
     "name": "stdout",
     "output_type": "stream",
     "text": [
      "Comp\n"
     ]
    }
   ],
   "source": [
    "myStr = \"Computer\"\n",
    "print(myStr[0:4])"
   ]
  },
  {
   "cell_type": "markdown",
   "metadata": {
    "slideshow": {
     "slide_type": "subslide"
    }
   },
   "source": [
    "- 시작 혹은 끝 위치를 생략하면 문자열의 처음 혹은 끝 index로 지정된다."
   ]
  },
  {
   "cell_type": "markdown",
   "metadata": {},
   "source": [
    "#### [문자열 슬라이싱(2)]"
   ]
  },
  {
   "cell_type": "code",
   "execution_count": 34,
   "metadata": {
    "slideshow": {
     "slide_type": "subslide"
    }
   },
   "outputs": [
    {
     "name": "stdout",
     "output_type": "stream",
     "text": [
      "programming\n",
      "Python \n"
     ]
    }
   ],
   "source": [
    "myStr = \"Python programming\"\n",
    "#7번 인덱스부터 마지막까지\n",
    "print(myStr[7:])\n",
    "#처음부터 6번 인덱스까지\n",
    "print(myStr[:7])"
   ]
  },
  {
   "cell_type": "markdown",
   "metadata": {
    "slideshow": {
     "slide_type": "subslide"
    }
   },
   "source": [
    "- 문자열의 각 원소를 index를 통해 수정이 불가능하기 때문에 문자열 슬라이싱을 이용하여 수정할 수 있다."
   ]
  },
  {
   "cell_type": "markdown",
   "metadata": {},
   "source": [
    "#### [문자열 슬라이싱(3)]"
   ]
  },
  {
   "cell_type": "code",
   "execution_count": 37,
   "metadata": {
    "slideshow": {
     "slide_type": "subslide"
    }
   },
   "outputs": [
    {
     "ename": "TypeError",
     "evalue": "'str' object does not support item assignment",
     "output_type": "error",
     "traceback": [
      "\u001b[1;31m---------------------------------------------------------------------------\u001b[0m",
      "\u001b[1;31mTypeError\u001b[0m                                 Traceback (most recent call last)",
      "\u001b[1;32m<ipython-input-37-bef861410b23>\u001b[0m in \u001b[0;36m<module>\u001b[1;34m\u001b[0m\n\u001b[0;32m      1\u001b[0m \u001b[0mmyStr\u001b[0m \u001b[1;33m=\u001b[0m \u001b[1;34m\"Auktion\"\u001b[0m\u001b[1;33m\u001b[0m\u001b[1;33m\u001b[0m\u001b[0m\n\u001b[0;32m      2\u001b[0m \u001b[1;31m#수정 불가능\u001b[0m\u001b[1;33m\u001b[0m\u001b[1;33m\u001b[0m\u001b[1;33m\u001b[0m\u001b[0m\n\u001b[1;32m----> 3\u001b[1;33m \u001b[0mmyStr\u001b[0m\u001b[1;33m[\u001b[0m\u001b[1;36m2\u001b[0m\u001b[1;33m]\u001b[0m \u001b[1;33m=\u001b[0m \u001b[1;34m'c'\u001b[0m\u001b[1;33m\u001b[0m\u001b[1;33m\u001b[0m\u001b[0m\n\u001b[0m\u001b[0;32m      4\u001b[0m \u001b[0mprint\u001b[0m\u001b[1;33m(\u001b[0m\u001b[0mmyStr\u001b[0m\u001b[1;33m)\u001b[0m\u001b[1;33m\u001b[0m\u001b[1;33m\u001b[0m\u001b[0m\n",
      "\u001b[1;31mTypeError\u001b[0m: 'str' object does not support item assignment"
     ]
    }
   ],
   "source": [
    "myStr = \"Auktion\"\n",
    "#수정 불가능\n",
    "myStr[2] = 'c'\n",
    "print(myStr)"
   ]
  },
  {
   "cell_type": "markdown",
   "metadata": {
    "slideshow": {
     "slide_type": "subslide"
    }
   },
   "source": [
    "#### [문자열 슬라이싱(4)]"
   ]
  },
  {
   "cell_type": "code",
   "execution_count": 38,
   "metadata": {
    "slideshow": {
     "slide_type": "subslide"
    }
   },
   "outputs": [
    {
     "name": "stdout",
     "output_type": "stream",
     "text": [
      "Auction\n"
     ]
    }
   ],
   "source": [
    "myStr = \"Auktion\"\n",
    "#1번 인덱스까지(Au) + c + 3번 인덱스 부터 끝까지(tion)\n",
    "myStr = myStr[:2] + 'c' + myStr[3:]\n",
    "print(myStr)"
   ]
  },
  {
   "cell_type": "markdown",
   "metadata": {
    "slideshow": {
     "slide_type": "subslide"
    }
   },
   "source": [
    "#### 문자열 포매팅\n",
    "- 문자열에서 특정 부분을 원하는 형식으로 출력하게 해 주는 기능을 ‘문자열 포매팅’이라고 한다.\n",
    "- 문자열의 포맷 코드는 아래 표 2-11와 같은 종류들이 있다.\n",
    "<br><br>\n",
    "<center><표 2-11> 포맷 코드의 종류</center>\n",
    "<img src=\"https://user-images.githubusercontent.com/37530732/75328440-5d91f380-58c1-11ea-9dc9-d7eb7aab6608.png\" style=\"width: 80%;\"/><br>"
   ]
  },
  {
   "cell_type": "markdown",
   "metadata": {},
   "source": [
    "#### [문자열의 포매팅(1)]"
   ]
  },
  {
   "cell_type": "code",
   "execution_count": 48,
   "metadata": {
    "scrolled": true,
    "slideshow": {
     "slide_type": "subslide"
    }
   },
   "outputs": [
    {
     "name": "stdout",
     "output_type": "stream",
     "text": [
      "My name is Lee\n"
     ]
    }
   ],
   "source": [
    "#Lee가 %s로 대응\n",
    "print(\"My name is %s\" % \"Lee\")"
   ]
  },
  {
   "cell_type": "markdown",
   "metadata": {},
   "source": [
    "- 문자열에 대한 정렬 혹은 float형의 소수점 표현도 포매팅이 가능하다.\n",
    "- 변수가 float형일 경우 소수점 아래 자릿수를 지정할 수 있다."
   ]
  },
  {
   "cell_type": "markdown",
   "metadata": {},
   "source": [
    "#### [문자열의 포매팅(2)]"
   ]
  },
  {
   "cell_type": "code",
   "execution_count": 50,
   "metadata": {
    "scrolled": true,
    "slideshow": {
     "slide_type": "subslide"
    }
   },
   "outputs": [
    {
     "name": "stdout",
     "output_type": "stream",
     "text": [
      "        58!\n",
      "58        !\n"
     ]
    }
   ],
   "source": [
    "# 자리수 설정\n",
    "print(\"%10d!\" % 58)\n",
    "# 숫자가 음수일 경우 왼쪽 정렬\n",
    "print(\"%-10d!\" % 58)"
   ]
  },
  {
   "cell_type": "markdown",
   "metadata": {},
   "source": [
    "#### [문자열의 포매팅(3)]"
   ]
  },
  {
   "cell_type": "code",
   "execution_count": 51,
   "metadata": {
    "slideshow": {
     "slide_type": "subslide"
    }
   },
   "outputs": [
    {
     "name": "stdout",
     "output_type": "stream",
     "text": [
      "3.3333\n"
     ]
    }
   ],
   "source": [
    "# 소숫점 아래 자리수 설정\n",
    "print(\"%0.4f\" % (10/3))"
   ]
  },
  {
   "cell_type": "markdown",
   "metadata": {
    "slideshow": {
     "slide_type": "slide"
    }
   },
   "source": [
    "### 2.9 문자열 내장 함수\n",
    "#### 문자열 내장 함수의 개념\n",
    "- 문자열에서 기본적으로 제공하는 함수들로서, 문자열을 사용하기에 유용한 기능들을 다수 포함하고 있다.\n",
    "- 사용하고자 하는 문자열 이름 뒤에 ‘.’을 붙여 함수 명으로 사용한다.\n",
    "\n",
    "#### 문자 개수 세기\n",
    "<br>\n",
    "<div style = \"border : 1px solid green; padding : 5px; width = 50px;\">str.count(a)<br>\n",
    "<div style = \"color : gray;\">a : 개수를 셀 문자</div></div>\n",
    "\n",
    "- 개수를 알고 싶은 문자를 지정하여 해당 문자열 안에 몇 개가 있는지를 반환하는 함수이다.\n",
    "- 대문자와 소문자를 구분하기 때문에 이 점에 유의해야 한다."
   ]
  },
  {
   "cell_type": "markdown",
   "metadata": {},
   "source": [
    "#### [문자열 count]"
   ]
  },
  {
   "cell_type": "code",
   "execution_count": 53,
   "metadata": {
    "slideshow": {
     "slide_type": "subslide"
    }
   },
   "outputs": [
    {
     "name": "stdout",
     "output_type": "stream",
     "text": [
      "2\n"
     ]
    }
   ],
   "source": [
    "myStr = \"I am brilliant\"\n",
    "#대문자 I는 포함하지 않음\n",
    "print(myStr.count('i'))"
   ]
  },
  {
   "cell_type": "markdown",
   "metadata": {
    "slideshow": {
     "slide_type": "subslide"
    }
   },
   "source": [
    "#### 문자 찾기\n",
    "<br>\n",
    "<div style = \"border : 1px solid green; padding : 5px; width = 50px;\">str.find(a)<br>\n",
    "<div style = \"color : gray;\">a : 찾고자 하는 문자</div></div>\n",
    "\n",
    "- 찾고자 하는 문자의 위치를 반환하고 해당 문자가 존재하지 않는다면 –1을 반환하는 함수이다."
   ]
  },
  {
   "cell_type": "markdown",
   "metadata": {},
   "source": [
    "#### [문자열 find]"
   ]
  },
  {
   "cell_type": "code",
   "execution_count": 56,
   "metadata": {
    "slideshow": {
     "slide_type": "subslide"
    }
   },
   "outputs": [
    {
     "name": "stdout",
     "output_type": "stream",
     "text": [
      "11\n"
     ]
    }
   ],
   "source": [
    "myStr = \"where is character?\"\n",
    "#여러 개인 경우 첫 위치만 반환\n",
    "print(myStr.find ('a'))"
   ]
  },
  {
   "cell_type": "markdown",
   "metadata": {
    "slideshow": {
     "slide_type": "subslide"
    }
   },
   "source": [
    "<div style = \"border : 1px solid green; padding : 5px; width = 50px;\">str.index(a)<br>\n",
    "<div style = \"color : gray;\">a : 찾고자 하는 문자</div></div>\n",
    "\n",
    "- 찾고자 하는 문자의 위치를 반환하고 해당 문자가 존재하지 않는다면에러가 발생하는 함수이다."
   ]
  },
  {
   "cell_type": "markdown",
   "metadata": {},
   "source": [
    "#### [문자열 index]"
   ]
  },
  {
   "cell_type": "code",
   "execution_count": 58,
   "metadata": {
    "slideshow": {
     "slide_type": "subslide"
    }
   },
   "outputs": [
    {
     "ename": "ValueError",
     "evalue": "substring not found",
     "output_type": "error",
     "traceback": [
      "\u001b[1;31m---------------------------------------------------------------------------\u001b[0m",
      "\u001b[1;31mValueError\u001b[0m                                Traceback (most recent call last)",
      "\u001b[1;32m<ipython-input-58-3325b25e87ed>\u001b[0m in \u001b[0;36m<module>\u001b[1;34m\u001b[0m\n\u001b[0;32m      1\u001b[0m \u001b[0mmyStr\u001b[0m \u001b[1;33m=\u001b[0m \u001b[1;34m\"Attention please\"\u001b[0m\u001b[1;33m\u001b[0m\u001b[1;33m\u001b[0m\u001b[0m\n\u001b[1;32m----> 2\u001b[1;33m \u001b[0mprint\u001b[0m\u001b[1;33m(\u001b[0m\u001b[0mmyStr\u001b[0m\u001b[1;33m.\u001b[0m\u001b[0mindex\u001b[0m \u001b[1;33m(\u001b[0m\u001b[1;34m'z'\u001b[0m\u001b[1;33m)\u001b[0m\u001b[1;33m)\u001b[0m\u001b[1;33m\u001b[0m\u001b[1;33m\u001b[0m\u001b[0m\n\u001b[0m",
      "\u001b[1;31mValueError\u001b[0m: substring not found"
     ]
    }
   ],
   "source": [
    "myStr = \"Attention please\"\n",
    "print(myStr.index ('z'))"
   ]
  },
  {
   "cell_type": "markdown",
   "metadata": {
    "slideshow": {
     "slide_type": "subslide"
    }
   },
   "source": [
    "#### 문자 삽입\n",
    "<br>\n",
    "<div style = \"border : 1px solid green; padding : 5px; width = 50px;\">str1.join(str2)<br>\n",
    "<div style = \"color : gray;\">str1 : 대상 문자열<br> str2 : 삽입할 문자열</div></div>"
   ]
  },
  {
   "cell_type": "markdown",
   "metadata": {},
   "source": [
    "#### [문자열 join]"
   ]
  },
  {
   "cell_type": "code",
   "execution_count": 59,
   "metadata": {
    "slideshow": {
     "slide_type": "subslide"
    }
   },
   "outputs": [
    {
     "name": "stdout",
     "output_type": "stream",
     "text": [
      "h.e.l.l.o\n"
     ]
    }
   ],
   "source": [
    "myStr = \"hello\"\n",
    "print(\".\".join(myStr))"
   ]
  },
  {
   "cell_type": "markdown",
   "metadata": {
    "slideshow": {
     "slide_type": "subslide"
    }
   },
   "source": [
    "#### 소문자를 대문자로 바꾸기\n",
    "<br>\n",
    "<div style = \"border : 1px solid green; padding : 5px; width = 50px;\">str.upper()<br>\n",
    "<div style = \"color : gray;\">str : 수정 대상 문자열</div></div>"
   ]
  },
  {
   "cell_type": "markdown",
   "metadata": {},
   "source": [
    "#### [문자열 upper]"
   ]
  },
  {
   "cell_type": "code",
   "execution_count": 60,
   "metadata": {
    "slideshow": {
     "slide_type": "subslide"
    }
   },
   "outputs": [
    {
     "name": "stdout",
     "output_type": "stream",
     "text": [
      "YOU SHALL NOT PASS\n"
     ]
    }
   ],
   "source": [
    "myStr = \"You shall not pass\"\n",
    "print(myStr.upper())"
   ]
  },
  {
   "cell_type": "markdown",
   "metadata": {
    "slideshow": {
     "slide_type": "subslide"
    }
   },
   "source": [
    "#### 대문자를 소문자로 바꾸기\n",
    "<br>\n",
    "<div style = \"border : 1px solid green; padding : 5px; width = 50px;\">str.lower()<br>\n",
    "<div style = \"color : gray;\">str : 수정 대상 문자열</div></div>"
   ]
  },
  {
   "cell_type": "markdown",
   "metadata": {},
   "source": [
    "#### [문자열 lower]"
   ]
  },
  {
   "cell_type": "code",
   "execution_count": 61,
   "metadata": {
    "slideshow": {
     "slide_type": "subslide"
    }
   },
   "outputs": [
    {
     "name": "stdout",
     "output_type": "stream",
     "text": [
      "hello\n"
     ]
    }
   ],
   "source": [
    "myStr = \"HELLO\"\n",
    "print(myStr.lower())"
   ]
  },
  {
   "cell_type": "markdown",
   "metadata": {
    "slideshow": {
     "slide_type": "subslide"
    }
   },
   "source": [
    "#### 공백 지우기\n",
    "<br>\n",
    "<div style = \"border : 1px solid green; padding : 5px; width = 50px;\">str.lstrip()<br>\n",
    "<div style = \"color : gray;\">str : 대상 문자열</div></div>\n",
    "- 문자열의 왼쪽 공백을 지워주는 함수이다."
   ]
  },
  {
   "cell_type": "markdown",
   "metadata": {},
   "source": [
    "#### [문자열 lstrip]"
   ]
  },
  {
   "cell_type": "code",
   "execution_count": 62,
   "metadata": {
    "slideshow": {
     "slide_type": "subslide"
    }
   },
   "outputs": [
    {
     "name": "stdout",
     "output_type": "stream",
     "text": [
      "hi       \n"
     ]
    }
   ],
   "source": [
    "myStr = \"         hi       \"\n",
    "print(myStr.lstrip())"
   ]
  },
  {
   "cell_type": "markdown",
   "metadata": {
    "slideshow": {
     "slide_type": "subslide"
    }
   },
   "source": [
    "<br>\n",
    "<div style = \"border : 1px solid green; padding : 5px; width = 50px;\">str.rstrip()<br>\n",
    "<div style = \"color : gray;\">str : 대상 문자열</div></div>\n",
    "- 문자열의 오른쪽 공백을 지워주는 함수이다."
   ]
  },
  {
   "cell_type": "markdown",
   "metadata": {},
   "source": [
    "#### [문자열 rstrip]"
   ]
  },
  {
   "cell_type": "code",
   "execution_count": 64,
   "metadata": {
    "slideshow": {
     "slide_type": "subslide"
    }
   },
   "outputs": [
    {
     "name": "stdout",
     "output_type": "stream",
     "text": [
      "         hi\n"
     ]
    }
   ],
   "source": [
    "myStr = \"         hi       \"\n",
    "print(myStr.rstrip())"
   ]
  },
  {
   "cell_type": "markdown",
   "metadata": {
    "slideshow": {
     "slide_type": "subslide"
    }
   },
   "source": [
    "<br>\n",
    "<div style = \"border : 1px solid green; padding : 5px; width = 50px;\">str.strip()<br>\n",
    "<div style = \"color : gray;\">str : 대상 문자열</div></div>\n",
    "- 문자열의 양쪽 공백을 지워주는 함수이다."
   ]
  },
  {
   "cell_type": "markdown",
   "metadata": {},
   "source": [
    "#### [문자열 strip]"
   ]
  },
  {
   "cell_type": "code",
   "execution_count": 20,
   "metadata": {
    "slideshow": {
     "slide_type": "subslide"
    }
   },
   "outputs": [
    {
     "name": "stdout",
     "output_type": "stream",
     "text": [
      "hi\n"
     ]
    }
   ],
   "source": [
    "myStr = \"         hi       \"\n",
    "print(myStr.strip())"
   ]
  },
  {
   "cell_type": "markdown",
   "metadata": {
    "slideshow": {
     "slide_type": "subslide"
    }
   },
   "source": [
    "#### 문자열 바꾸기\n",
    "<br>\n",
    "<div style = \"border : 1px solid green; padding : 5px; width = 50px;\">str.replace(str1, str2)<br>\n",
    "<div style = \"color : gray;\">str : 대상 문자열</div></div>\n",
    "- str안의 str1을 str2로 대체해 주는 함수이다."
   ]
  },
  {
   "cell_type": "markdown",
   "metadata": {},
   "source": [
    "#### [문자열 replace]"
   ]
  },
  {
   "cell_type": "code",
   "execution_count": 65,
   "metadata": {
    "slideshow": {
     "slide_type": "subslide"
    }
   },
   "outputs": [
    {
     "name": "stdout",
     "output_type": "stream",
     "text": [
      "This class is terrific\n"
     ]
    }
   ],
   "source": [
    "myStr = \"This class is terrible\"\n",
    "print(myStr.replace (\"terrible\", \"terrific\"))"
   ]
  },
  {
   "cell_type": "markdown",
   "metadata": {
    "slideshow": {
     "slide_type": "subslide"
    }
   },
   "source": [
    "#### 문자열 나누기\n",
    "<br>\n",
    "<div style = \"border : 1px solid green; padding : 5px; width = 50px;\">str.split(a)<br>\n",
    "<div style = \"color : gray;\">str : 대상 문자열<br>a : 나눌 기준이 되는 문자</div></div>\n",
    "- 기준이 되는 문자를 정하여 해당 문자 앞뒤로 문자열을 나누어 주는 함수이다. 만약 문자가 주어지지 않는다면 공백을 기준으로 나눈다."
   ]
  },
  {
   "cell_type": "markdown",
   "metadata": {},
   "source": [
    "#### [문자열 split]"
   ]
  },
  {
   "cell_type": "code",
   "execution_count": 66,
   "metadata": {},
   "outputs": [
    {
     "name": "stdout",
     "output_type": "stream",
     "text": [
      "['Hello,', 'world!']\n",
      "['Hello, ', 'orld!']\n"
     ]
    }
   ],
   "source": [
    "myStr = \"Hello, world!\"\n",
    "print(myStr.split())\n",
    "print(myStr.split('w'))"
   ]
  },
  {
   "cell_type": "markdown",
   "metadata": {},
   "source": [
    "## 연습문제\n",
    "\n",
    "### 1.\n",
    "다음 중 선언할 변수의 이름으로 적합하지 않은 것을 모두 고르고, 그 이유를 설명하라.\n",
    "<br><br>\n",
    "1. value_m\n",
    "2. _mv_name\n",
    "3. return\n",
    "4. 1photo\n",
    "5. firstArr\n",
    "<br><br>\n",
    "\n",
    "### 2.\n",
    "다음 프로그램의 실행 결과를 적어보아라.\n",
    "\n",
    "#### print((1 < 2) and (4 == 4))\n",
    "\n",
    "실행 결과 : \n",
    "<br><br>\n",
    "\n",
    "### 3.\n",
    "다음의 실행 결과가 나오게 하는 코드를 빈칸에 채워 넣어라.\n",
    "<br><br>\n",
    "#### myVar1 = \"2\"<br>myNum1 = 35<br>print(--------------------)\n",
    "\n",
    "실행결과 :  37\n",
    "<br><br>\n",
    "\n",
    "### 4.\n",
    "다음의 문자열이 주어졌을 때 해당 결과가 나오도록 코드를 작성하여라.\n",
    "\n",
    "#### myStr = “Hello, Ptyhon”<br>(-------------------- )<br>print(--------------------)\n",
    "\n",
    "실행결과 : \"Hello, Python\"\n",
    "<br><br>\n",
    "\n",
    "### 5.\n",
    "다음의 코드를 실행시켰을 때 출력되는 결과를 적어라.\n",
    "\n",
    "#### myStr = “My sample string”<br>print(myStr[:2]+myStr[10:])\n",
    "\n",
    "출력 결과 :\n",
    "<br><br><br>\n",
    "\n",
    "### 6.\n",
    "다음 문장이 참이면 O, 거짓이면 X를 골라라.\n",
    "\n",
    "1. 변수의 이름을 지정하여 생성하는 것을 ‘선언한다’라고 한다. (O / X)\n",
    "2. 변수를 초기화 없이 생성하면 반드시 오류가 난다. (O / X)\n",
    "3. 여러 개의 변수를 동시에 선언할 때 반드시 초기화를 설정해야 한다.(O / X)\n",
    "4. 예약어를 사용하여 변수의 이름을 선언할 수 있다. (O / X)\n",
    "<br><br>\n",
    "\n",
    "### 7.\n",
    "다음 코드에서 잘못된 부분이 존재한다면 이를 찾아 올바르게 수정하여라.\n",
    "\n",
    "1. num1 = 100, num2 = 200\n",
    "2. _value = \"Python\"\n",
    "3. myValue = Python\n",
    "4. with = 2020\n",
    "<br><br>\n",
    "\n",
    "### 8.\n",
    "다음 코드의 결과 값으로 올바른 것을 골라라.\n",
    "\n",
    "#### a, b = (100, 30)<br>\n",
    "1. print(a == b) : False\n",
    "2. print(a != b) : False\n",
    "3. print(a <= b) : False\n",
    "4. print(a << b) : True"
   ]
  }
 ],
 "metadata": {
  "kernelspec": {
   "display_name": "Python 3",
   "language": "python",
   "name": "python3"
  },
  "language_info": {
   "codemirror_mode": {
    "name": "ipython",
    "version": 3
   },
   "file_extension": ".py",
   "mimetype": "text/x-python",
   "name": "python",
   "nbconvert_exporter": "python",
   "pygments_lexer": "ipython3",
   "version": "3.7.4"
  }
 },
 "nbformat": 4,
 "nbformat_minor": 2
}
