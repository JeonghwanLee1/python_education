{
 "cells": [
  {
   "cell_type": "markdown",
   "metadata": {},
   "source": [
    "# Chapter 3. 기초에서 한 걸음 더"
   ]
  },
  {
   "cell_type": "markdown",
   "metadata": {},
   "source": [
    "#### 지난 장에서는 Python의 자료형 중 기본적인 숫자형과 부울형, 그리고 군집형의 문자열에 대하여 알아보았다. 이번 장에서는 조금 더 심화된 자료형인 리스트, 튜플, 딕셔너리, 집합에 대하여 알아보고 이를 활용하는 방법에 대하여 알아본다."
   ]
  },
  {
   "cell_type": "markdown",
   "metadata": {},
   "source": [
    "### 3.1 리스트"
   ]
  },
  {
   "cell_type": "markdown",
   "metadata": {},
   "source": [
    "#### 리스트의 개념\n",
    "- 하나의 데이터가 아닌 여러 개의 값이나 객체를 담을 수 있는 자료형이다.\n",
    "- 여러 개의 데이터가 목록과 같이 나열되어 있는 형식이다."
   ]
  },
  {
   "cell_type": "markdown",
   "metadata": {},
   "source": [
    "#### 리스트의 선언\n",
    "<br>\n",
    "<div style = \"border : 1px solid green; padding : 5px; width = 50px;\">list = [att1, att2, att3, att4, att5]<br>\n",
    "<div style = \"color : gray;\">list : 선언할 리스트의 이름<br>att : 리스트의 원소가 될 값 혹은 객체</div></div>\n",
    "\n",
    "- 리스트의 이름을 정하고 각 원소들을 대괄호([  ])로 묶어 쉼표(,)로 구분하여 선언한다.\n",
    "- 리스트 또한 변수이기 때문에 리스트의 이름은 변수의 명명규칙을 따른다."
   ]
  },
  {
   "cell_type": "markdown",
   "metadata": {},
   "source": [
    "#### [리스트의 선언(1)]"
   ]
  },
  {
   "cell_type": "code",
   "execution_count": 1,
   "metadata": {},
   "outputs": [
    {
     "name": "stdout",
     "output_type": "stream",
     "text": [
      "[1, 3, 5, 7]\n"
     ]
    }
   ],
   "source": [
    "sampleList = [1, 3, 5, 7]\n",
    "print(sampleList)"
   ]
  },
  {
   "cell_type": "markdown",
   "metadata": {},
   "source": [
    "#### [리스트의 선언(2)]"
   ]
  },
  {
   "cell_type": "code",
   "execution_count": 2,
   "metadata": {},
   "outputs": [
    {
     "name": "stdout",
     "output_type": "stream",
     "text": [
      "['a', 'b', 'c', 'd']\n"
     ]
    }
   ],
   "source": [
    "strList = ['a', 'b', 'c', 'd']\n",
    "print(strList)"
   ]
  },
  {
   "cell_type": "markdown",
   "metadata": {},
   "source": [
    "### 3.2 리스트의 연산\n",
    "#### 리스트의 합 연산\n",
    "<br>\n",
    "<div style = \"border : 1px solid green; padding : 5px; width = 50px;\">list1 + list2<br>\n",
    "<div style = \"color : gray;\">list : 더할 리스트의 이름</div></div>\n",
    "\n",
    "- '+' 연산자를 통하여 두 개의 리스트를 더할 수 있다. 앞의 리스트 원소들이 먼저 나열되고 뒤의 리스트 원소들이 뒤에 나열된다."
   ]
  },
  {
   "cell_type": "markdown",
   "metadata": {},
   "source": [
    "#### [리스트의 합 연산(1)]"
   ]
  },
  {
   "cell_type": "code",
   "execution_count": 4,
   "metadata": {},
   "outputs": [
    {
     "name": "stdout",
     "output_type": "stream",
     "text": [
      "[1, 3, 5, 7, 2, 4, 6, 8]\n"
     ]
    }
   ],
   "source": [
    "sampleList = [1, 3, 5, 7]\n",
    "addedList = [2, 4, 6, 8]\n",
    "print(sampleList + addedList )"
   ]
  },
  {
   "cell_type": "markdown",
   "metadata": {},
   "source": [
    "#### [리스트의 합 연산(2)]"
   ]
  },
  {
   "cell_type": "code",
   "execution_count": 5,
   "metadata": {},
   "outputs": [
    {
     "name": "stdout",
     "output_type": "stream",
     "text": [
      "['a', 'b', 'c', 'd', 2, 4, 6, 8]\n"
     ]
    }
   ],
   "source": [
    "sampleList = ['a', 'b', 'c', 'd']\n",
    "addedList = [2, 4, 6, 8]\n",
    "# 데이터의 타입이 달라도 연산이 가능\n",
    "print(sampleList + addedList )"
   ]
  },
  {
   "cell_type": "markdown",
   "metadata": {},
   "source": [
    "#### 리스트의 곱 연산\n",
    "<br>\n",
    "<div style = \"border : 1px solid green; padding : 5px; width = 50px;\">list * num<br>\n",
    "<div style = \"color : gray;\">list : 반복될 리스트의 이름<br>num : 반복될 횟수를 나타내는 정수</div></div>\n",
    "\n",
    "- ‘*’연산자를 통하여 리스트를 정수배로 반복할 수 있다.\n",
    "- 단, 리스트와 리스트끼리의 곱 연산은 불가하다."
   ]
  },
  {
   "cell_type": "markdown",
   "metadata": {},
   "source": [
    "#### [리스트의 곱 연산(1)]"
   ]
  },
  {
   "cell_type": "code",
   "execution_count": 6,
   "metadata": {},
   "outputs": [
    {
     "name": "stdout",
     "output_type": "stream",
     "text": [
      "[1, 2, 3, 4, 1, 2, 3, 4, 1, 2, 3, 4]\n"
     ]
    }
   ],
   "source": [
    "sampleList = [1, 2, 3, 4]\n",
    "myNum = 3\n",
    "print(sampleList * myNum)"
   ]
  },
  {
   "cell_type": "markdown",
   "metadata": {},
   "source": [
    "#### 리스트 인덱싱\n",
    "- 리스트의 각 원소를 0부터 리스트의 끝까지 index 값을 부여하여 관리하는 것을 ‘리스트의 인덱싱’이라고 한다.\n",
    "- 문자열 인덱싱과 같은 방법으로 사용할 수 있지만 리스트는 인덱스를 통해 접근하여 수정이 가능하다."
   ]
  },
  {
   "cell_type": "markdown",
   "metadata": {},
   "source": [
    "#### [리스트 인덱싱(1)]"
   ]
  },
  {
   "cell_type": "code",
   "execution_count": 7,
   "metadata": {},
   "outputs": [
    {
     "name": "stdout",
     "output_type": "stream",
     "text": [
      "myList 2 : 5\n"
     ]
    }
   ],
   "source": [
    "sampleList = [1, 3, 5, 7]\n",
    "print(\"myList 2 : \"+ str(sampleList [2]))"
   ]
  },
  {
   "cell_type": "markdown",
   "metadata": {},
   "source": [
    "#### [리스트 인덱싱(2)]"
   ]
  },
  {
   "cell_type": "code",
   "execution_count": 8,
   "metadata": {},
   "outputs": [
    {
     "name": "stdout",
     "output_type": "stream",
     "text": [
      "apple\n"
     ]
    }
   ],
   "source": [
    "List = ['a', 'e', 'l', 'p']\n",
    "print(List[0] + List[3]+List[3]+List[2]+List[1])"
   ]
  },
  {
   "cell_type": "markdown",
   "metadata": {},
   "source": [
    "#### 리스트 슬라이싱(List slicing)\n",
    "- 리스트를 지정한 범위로 나누는 것을 ‘리스트 슬라이싱’이라고 한다.\n",
    "- 문자열 슬라이싱과 동일한 방법으로 사용한다."
   ]
  },
  {
   "cell_type": "markdown",
   "metadata": {},
   "source": [
    "#### [리스트 슬라이싱(1)]"
   ]
  },
  {
   "cell_type": "code",
   "execution_count": 11,
   "metadata": {},
   "outputs": [
    {
     "name": "stdout",
     "output_type": "stream",
     "text": [
      "[3, 5]\n"
     ]
    }
   ],
   "source": [
    "myList = [1, 3, 5, 7, 9]\n",
    "print(myList [1:3])"
   ]
  },
  {
   "cell_type": "markdown",
   "metadata": {},
   "source": [
    "#### [리스트 슬라이싱(2)]"
   ]
  },
  {
   "cell_type": "code",
   "execution_count": 12,
   "metadata": {
    "scrolled": true
   },
   "outputs": [
    {
     "name": "stdout",
     "output_type": "stream",
     "text": [
      "['c', 'd', 'e', 1]\n"
     ]
    }
   ],
   "source": [
    "myList = ['a', 'b', 'c', 'd', 'e', 1, 2, 3]\n",
    "print(myList [2:6])"
   ]
  },
  {
   "cell_type": "markdown",
   "metadata": {},
   "source": [
    "### 3.3 리스트 내장 함수\n",
    "#### 리스트 길이 구하기\n",
    "<br>\n",
    "<div style = \"border : 1px solid green; padding : 5px; width = 50px;\">len(list)<br>\n",
    "<div style = \"color : gray;\">list : 길이를 구하고자 하는 list의 이름</div></div>\n",
    "\n",
    "- 리스트의 원소의 개수 즉, 리스트의 길이를 반환하는 함수이다."
   ]
  },
  {
   "cell_type": "markdown",
   "metadata": {},
   "source": [
    "#### [리스트 len(1)]"
   ]
  },
  {
   "cell_type": "code",
   "execution_count": 13,
   "metadata": {},
   "outputs": [
    {
     "name": "stdout",
     "output_type": "stream",
     "text": [
      "4\n"
     ]
    }
   ],
   "source": [
    "sampleList = [1, 2, 3, 4]\n",
    "print(len(sampleList))"
   ]
  },
  {
   "cell_type": "markdown",
   "metadata": {},
   "source": [
    "#### [리스트 len(2)]"
   ]
  },
  {
   "cell_type": "code",
   "execution_count": 15,
   "metadata": {
    "scrolled": true
   },
   "outputs": [
    {
     "name": "stdout",
     "output_type": "stream",
     "text": [
      "3\n"
     ]
    }
   ],
   "source": [
    "sampleList = ['a', 'b', 'c']\n",
    "print(len(sampleList))"
   ]
  },
  {
   "cell_type": "markdown",
   "metadata": {},
   "source": [
    "#### 리스트의 특정 위치 원소 삭제\n",
    "<br>\n",
    "<div style = \"border : 1px solid green; padding : 5px; width = 50px;\">del(list[num])<br>\n",
    "<div style = \"color : gray;\">list : 원소를 삭제하고자 하는 리스트의 이름<br>\n",
    "num : 삭제하고자 하는 원소의 index</div></div>\n",
    "\n",
    "- 리스트에서 원하는 index의 원소를 삭제하는 함수이다."
   ]
  },
  {
   "cell_type": "markdown",
   "metadata": {},
   "source": [
    "#### [리스트 del]"
   ]
  },
  {
   "cell_type": "code",
   "execution_count": 16,
   "metadata": {},
   "outputs": [
    {
     "name": "stdout",
     "output_type": "stream",
     "text": [
      "[4, 5, 6]\n"
     ]
    }
   ],
   "source": [
    "sampleList = [4, 5, 6, 7]\n",
    "del(sampleList [3])\n",
    "print(sampleList)"
   ]
  },
  {
   "cell_type": "markdown",
   "metadata": {},
   "source": [
    "#### 리스트 정렬\n",
    "<br>\n",
    "<div style = \"border : 1px solid green; padding : 5px; width = 50px;\">list.sort()<br>\n",
    "<div style = \"color : gray;\">list : 정렬할 list의 이름</div></div>\n",
    "\n",
    "- 리스트의 원소를 오름차순으로 정렬해 주는 함수이다. "
   ]
  },
  {
   "cell_type": "markdown",
   "metadata": {},
   "source": [
    "#### [리스트 sort(1)]"
   ]
  },
  {
   "cell_type": "code",
   "execution_count": 17,
   "metadata": {},
   "outputs": [
    {
     "name": "stdout",
     "output_type": "stream",
     "text": [
      "[6, 21, 34, 73]\n"
     ]
    }
   ],
   "source": [
    "sampleList = [73, 21, 34, 6]\n",
    "sampleList.sort ()\n",
    "print(sampleList )"
   ]
  },
  {
   "cell_type": "markdown",
   "metadata": {},
   "source": [
    "#### [리스트 sort(2)]"
   ]
  },
  {
   "cell_type": "code",
   "execution_count": 18,
   "metadata": {},
   "outputs": [
    {
     "name": "stdout",
     "output_type": "stream",
     "text": [
      "['a', 'b', 'c', 'e', 'k']\n"
     ]
    }
   ],
   "source": [
    "List = ['a', 'c', 'b', 'k', 'e']\n",
    "List.sort()\n",
    "\n",
    "# 알파벳 순서로 정렬됨\n",
    "print(List)"
   ]
  },
  {
   "cell_type": "markdown",
   "metadata": {},
   "source": [
    "#### 리스트 반전\n",
    "<br>\n",
    "<div style = \"border : 1px solid green; padding : 5px; width = 50px;\">list.reverse()<br>\n",
    "<div style = \"color : gray;\">list : 반전시키려 하는 list의 이름</div></div>\n",
    "\n",
    "- 리스트 내의 원소 순서를 반대로 뒤집어서 반환하는 함수이다."
   ]
  },
  {
   "cell_type": "markdown",
   "metadata": {},
   "source": [
    "#### [리스트 reverse]"
   ]
  },
  {
   "cell_type": "code",
   "execution_count": 19,
   "metadata": {
    "scrolled": true
   },
   "outputs": [
    {
     "name": "stdout",
     "output_type": "stream",
     "text": [
      "[8, 3, 10, 2]\n"
     ]
    }
   ],
   "source": [
    "sampleList = [2, 10, 3, 8]\n",
    "sampleList.reverse()\n",
    "print(sampleList)"
   ]
  },
  {
   "cell_type": "markdown",
   "metadata": {},
   "source": [
    "#### 리스트 위치 반환\n",
    "<br>\n",
    "<div style = \"border : 1px solid green; padding : 5px; width = 50px;\">list.index(num)<br>\n",
    "<div style = \"color : gray;\">list : 찾을 리스트의 이름<br>\n",
    "num : 찾고자 하는 index</div></div>\n",
    "\n",
    "- 리스트 내에서 원하는 원소의 index를 반환하는 함수이다."
   ]
  },
  {
   "cell_type": "markdown",
   "metadata": {},
   "source": [
    "#### [리스트 index]"
   ]
  },
  {
   "cell_type": "code",
   "execution_count": 20,
   "metadata": {},
   "outputs": [
    {
     "name": "stdout",
     "output_type": "stream",
     "text": [
      "2\n"
     ]
    }
   ],
   "source": [
    "sampleList = [1, 3, 5, 7]\n",
    "print(sampleList.index(5))"
   ]
  },
  {
   "cell_type": "markdown",
   "metadata": {},
   "source": [
    "#### 리스트 원소 삽입\n",
    "<br>\n",
    "<div style = \"border : 1px solid green; padding : 5px; width = 50px;\">ist.insert(num, att)<br>\n",
    "<div style = \"color : gray;\">list : 원소를 삽입할 리스트의 이름<br>\n",
    "num : 원소를 삽입할 index<br>\n",
    "att : 삽입할 원소</div></div>\n",
    "\n",
    "- 리스트에서 원하는 index에 매개변수로 넘겨준 원소를 삽입하는 함수이다."
   ]
  },
  {
   "cell_type": "markdown",
   "metadata": {},
   "source": [
    "#### [리스트 insert]"
   ]
  },
  {
   "cell_type": "code",
   "execution_count": 21,
   "metadata": {},
   "outputs": [
    {
     "name": "stdout",
     "output_type": "stream",
     "text": [
      "[1, 2, 78, 3, 4]\n"
     ]
    }
   ],
   "source": [
    "myList = [1, 2, 3, 4]\n",
    "myList.insert(2, 78)\n",
    "print(myList)"
   ]
  },
  {
   "cell_type": "markdown",
   "metadata": {},
   "source": [
    "### 3.4 튜플(tuple)"
   ]
  },
  {
   "cell_type": "markdown",
   "metadata": {},
   "source": [
    "#### 튜플의 정의 및 선언\n",
    "- 군집형 자료형 중 하나로 원소의 수정과 삭제가 불가능한 읽기 전용의 자료형이다.\n",
    "- 이미 선언된 튜플에 대해 새로운 요소의 추가는 가능하지만 이미 포함되어 있는 요소를 수정하거나 삭제하는 것은 불가능하다.\n",
    "- 튜플은 원소들을 소괄호(( ))로 묶고 쉼표(,)로 구분하여 준다. 이 때, 소괄호는 생략하여도 된다."
   ]
  },
  {
   "cell_type": "markdown",
   "metadata": {},
   "source": [
    "#### [튜플 선언 및 출력]"
   ]
  },
  {
   "cell_type": "code",
   "execution_count": 23,
   "metadata": {},
   "outputs": [
    {
     "name": "stdout",
     "output_type": "stream",
     "text": [
      "(1, 2, 3, 4, 5)\n",
      "(1, 2, 3, 4, 5)\n"
     ]
    }
   ],
   "source": [
    "sampleTuple1 = (1, 2, 3, 4, 5)\n",
    "print(sampleTuple1)\n",
    "\n",
    "sampleTuple2 = 1, 2, 3, 4, 5\n",
    "print(sampleTuple2)"
   ]
  },
  {
   "cell_type": "markdown",
   "metadata": {},
   "source": [
    "#### 튜플 연산 및 사용\n",
    "- 튜플은 리스트와 같이 단일 자료형 뿐만 아닌 여러 자료형을 원소에 섞어서 사용할 수 있다."
   ]
  },
  {
   "cell_type": "markdown",
   "metadata": {},
   "source": [
    "#### [다양한 자료형의 선언 및 출력]"
   ]
  },
  {
   "cell_type": "code",
   "execution_count": 24,
   "metadata": {},
   "outputs": [
    {
     "name": "stdout",
     "output_type": "stream",
     "text": [
      "('Python', (1, 2, 3), 365, [1, 2, 3, 4], True)\n"
     ]
    }
   ],
   "source": [
    "sampleTuple = ('Python', (1, 2, 3), 365, [1, 2, 3, 4], True)\n",
    "print(sampleTuple) "
   ]
  },
  {
   "cell_type": "markdown",
   "metadata": {},
   "source": [
    "- 인덱싱(Indexing), 슬라이싱(Slicing)의 방법으로 요소의 값에 접근할 수 있다."
   ]
  },
  {
   "cell_type": "markdown",
   "metadata": {},
   "source": [
    "#### [튜플 인덱싱]"
   ]
  },
  {
   "cell_type": "code",
   "execution_count": 25,
   "metadata": {
    "scrolled": true
   },
   "outputs": [
    {
     "name": "stdout",
     "output_type": "stream",
     "text": [
      "4\n"
     ]
    }
   ],
   "source": [
    "sampleTuple = (1, 2, 3, 4, 5)\n",
    "print(sampleTuple[3])"
   ]
  },
  {
   "cell_type": "markdown",
   "metadata": {},
   "source": [
    "#### [튜플 슬라이싱]"
   ]
  },
  {
   "cell_type": "code",
   "execution_count": 26,
   "metadata": {
    "scrolled": true
   },
   "outputs": [
    {
     "name": "stdout",
     "output_type": "stream",
     "text": [
      "(3, 4)\n"
     ]
    }
   ],
   "source": [
    "sampleTuple = (1, 2, 3, 4, 5)\n",
    "print(sampleTuple[2:4])"
   ]
  },
  {
   "cell_type": "markdown",
   "metadata": {},
   "source": [
    "- ‘+’나 ‘*’연산을 통해 기존의 튜플에 요소를 새롭게 추가할 수 있으며 해당 연산을 통해 요소를 반복적으로 출력하는 것도 가능하다."
   ]
  },
  {
   "cell_type": "markdown",
   "metadata": {},
   "source": [
    "#### [튜플 요소 추가]"
   ]
  },
  {
   "cell_type": "code",
   "execution_count": 27,
   "metadata": {},
   "outputs": [
    {
     "name": "stdout",
     "output_type": "stream",
     "text": [
      "(1, 2, 3, 4, 5)\n"
     ]
    }
   ],
   "source": [
    "tuple_basic = (1, 2, 3)\n",
    "tuple_basic = tuple_basic + (4, 5)\n",
    "print(tuple_basic)"
   ]
  },
  {
   "cell_type": "markdown",
   "metadata": {},
   "source": [
    "#### [튜플의 반복(1)]"
   ]
  },
  {
   "cell_type": "code",
   "execution_count": 28,
   "metadata": {},
   "outputs": [
    {
     "name": "stdout",
     "output_type": "stream",
     "text": [
      "(1, 2, 3, 4, 5, 1, 2, 3, 4, 5)\n"
     ]
    }
   ],
   "source": [
    "tuple_basic = (1, 2, 3, 4, 5)\n",
    "print(tuple_basic * 2)"
   ]
  },
  {
   "cell_type": "markdown",
   "metadata": {},
   "source": [
    "#### [튜플의 반복(2)]"
   ]
  },
  {
   "cell_type": "code",
   "execution_count": 30,
   "metadata": {
    "scrolled": true
   },
   "outputs": [
    {
     "ename": "TypeError",
     "evalue": "can't multiply sequence by non-int of type 'tuple'",
     "output_type": "error",
     "traceback": [
      "\u001b[1;31m---------------------------------------------------------------------------\u001b[0m",
      "\u001b[1;31mTypeError\u001b[0m                                 Traceback (most recent call last)",
      "\u001b[1;32m<ipython-input-30-9ff8417d71f8>\u001b[0m in \u001b[0;36m<module>\u001b[1;34m\u001b[0m\n\u001b[0;32m      1\u001b[0m \u001b[0msampleTuple\u001b[0m \u001b[1;33m=\u001b[0m \u001b[1;33m(\u001b[0m\u001b[1;36m1\u001b[0m\u001b[1;33m,\u001b[0m \u001b[1;36m2\u001b[0m\u001b[1;33m,\u001b[0m \u001b[1;36m3\u001b[0m\u001b[1;33m)\u001b[0m\u001b[1;33m\u001b[0m\u001b[1;33m\u001b[0m\u001b[0m\n\u001b[1;32m----> 2\u001b[1;33m \u001b[0mprint\u001b[0m\u001b[1;33m(\u001b[0m\u001b[0msampleTuple\u001b[0m \u001b[1;33m*\u001b[0m \u001b[0msampleTuple\u001b[0m\u001b[1;33m)\u001b[0m\u001b[1;33m\u001b[0m\u001b[1;33m\u001b[0m\u001b[0m\n\u001b[0m",
      "\u001b[1;31mTypeError\u001b[0m: can't multiply sequence by non-int of type 'tuple'"
     ]
    }
   ],
   "source": [
    "sampleTuple = (1, 2, 3)    \n",
    "print(sampleTuple * sampleTuple)"
   ]
  },
  {
   "cell_type": "markdown",
   "metadata": {},
   "source": [
    "- 튜플과 리스트는 요소를 수정하거나 삭제할 수 있는지 없는지에 따라 구분되기 때문에 그 외적으로는 크게 차이를 보이지 않는다.\n",
    "- 따라서 튜플을 통해 리스트를 생성하는 것이 가능하다."
   ]
  },
  {
   "cell_type": "markdown",
   "metadata": {},
   "source": [
    "#### [튜플을 통한 리스트 생성]"
   ]
  },
  {
   "cell_type": "code",
   "execution_count": 31,
   "metadata": {},
   "outputs": [
    {
     "name": "stdout",
     "output_type": "stream",
     "text": [
      "[1, 2, 3, 4, 5]\n"
     ]
    }
   ],
   "source": [
    "tuple_basic = (1, 2, 3, 4, 5)\n",
    "tuple_to_list = list(tuple_basic)\n",
    "print(tuple_to_list)"
   ]
  },
  {
   "cell_type": "markdown",
   "metadata": {},
   "source": [
    "- 리스트와 튜플의 성질을 통해 여러 개의 변수에 값을 한 번에 할당하는 것이 가능하며 이 때 튜플의 요소의 수와 변수의 수가 동일해야 한다."
   ]
  },
  {
   "cell_type": "markdown",
   "metadata": {},
   "source": [
    "#### [튜플을 통한 변수에 값 할당]"
   ]
  },
  {
   "cell_type": "code",
   "execution_count": 32,
   "metadata": {},
   "outputs": [
    {
     "name": "stdout",
     "output_type": "stream",
     "text": [
      "1 2 3\n"
     ]
    }
   ],
   "source": [
    "value1, value2, value3 = (1, 2, 3)\n",
    "print(value1, value2, value3)\n",
    "     \n",
    "tuple_basic = (4, 5, 6)\n",
    "value1, value2, value3 = tuple_basic"
   ]
  },
  {
   "cell_type": "markdown",
   "metadata": {},
   "source": [
    "### 3.5 딕셔너리(dictionary)"
   ]
  },
  {
   "cell_type": "markdown",
   "metadata": {},
   "source": [
    "#### 딕셔너리의 정의 및 선언\n",
    "- Python에서 딕셔너리(dictionary)란 사전형 데이터를 의미한다.\n",
    "- Key와 Value라는 값을 일대일로 대응시킨 형태이다.\n",
    "- 중괄호 ‘{}’ 내에 Key : Value 형태로 저장된다.\n",
    "- 각 Key : Value 요소는 ‘,’로 구분하며 이를 Key-Value구조라 한다.\n",
    "<br><br>\n",
    "<center><표 3-1>key-Value의 예시</center>\n",
    "<img src=https://user-images.githubusercontent.com/37530732/75505149-cf7f4f80-5a1d-11ea-8de3-07e5061885db.png style=\"width:80%;\">\n"
   ]
  },
  {
   "cell_type": "markdown",
   "metadata": {},
   "source": [
    "#### [딕셔너리의 기본 구조]"
   ]
  },
  {
   "cell_type": "code",
   "execution_count": 33,
   "metadata": {},
   "outputs": [
    {
     "name": "stdout",
     "output_type": "stream",
     "text": [
      "{'Ten': 10, 'Twenty': 20}\n"
     ]
    }
   ],
   "source": [
    "dict_basic = {'Ten': 10, 'Twenty': 20 }\n",
    "print(dict_basic)"
   ]
  },
  {
   "cell_type": "markdown",
   "metadata": {},
   "source": [
    "#### 딕셔너리의 사용\n",
    "- 딕셔너리의 Key에는 문자열만 사용할 수 있는 것이 아니고 정수형이나 실수형, bool형까지 모두 사용 가능하며 다양한 자료형을 사용하여 선언할 수 있다.\n",
    "- 딕셔너리의 Key로 리스트, 딕셔너리를 포함할 수 없다."
   ]
  },
  {
   "cell_type": "markdown",
   "metadata": {},
   "source": [
    "#### [다양한 자료형의 딕셔너리]"
   ]
  },
  {
   "cell_type": "code",
   "execution_count": 35,
   "metadata": {},
   "outputs": [
    {
     "name": "stdout",
     "output_type": "stream",
     "text": [
      "{'Name': 'James', 7: 'Seven', 'Male': True}\n"
     ]
    }
   ],
   "source": [
    "dict_multi_type = {'Name' : 'James', 7 : 'Seven', 'Male' : True }\n",
    "print(dict_multi_type)"
   ]
  },
  {
   "cell_type": "markdown",
   "metadata": {},
   "source": [
    "- 딕셔너리의 Value에는 앞서 학습한 리스트, 튜플, 딕셔너리를 포함한 모든 자료형을 사용할 수 있다."
   ]
  },
  {
   "cell_type": "markdown",
   "metadata": {},
   "source": [
    "#### [Value에 리스트를 포함한 딕셔너리]"
   ]
  },
  {
   "cell_type": "code",
   "execution_count": 37,
   "metadata": {
    "scrolled": true
   },
   "outputs": [
    {
     "name": "stdout",
     "output_type": "stream",
     "text": [
      "{'Name': 'James', 'Age': 23, 'Friends': ['John', 'Bob']}\n"
     ]
    }
   ],
   "source": [
    "dict_value_list = {'Name' : 'James', 'Age' : 23, 'Friends' : ['John', 'Bob']}\n",
    "print(dict_value_list)"
   ]
  },
  {
   "cell_type": "markdown",
   "metadata": {},
   "source": [
    "- 하나의 딕셔너리에 중복되는 Key가 존재하게 되면 가장 나중에 나오는 Key 값과 매칭되므로 주의해야 한다."
   ]
  },
  {
   "cell_type": "markdown",
   "metadata": {},
   "source": [
    "#### [중복된 키를 가진 딕셔너리]"
   ]
  },
  {
   "cell_type": "code",
   "execution_count": 38,
   "metadata": {},
   "outputs": [
    {
     "name": "stdout",
     "output_type": "stream",
     "text": [
      "John\n"
     ]
    }
   ],
   "source": [
    "dict_duplicated_key = {'Name' : 'James', 'Age' : 23, 'Name' : 'John'}\n",
    "print(dict_duplicated_key['Name'])"
   ]
  },
  {
   "cell_type": "markdown",
   "metadata": {},
   "source": [
    "#### Key, Value\n",
    "- 새로운 Key-Value 쌍을 추가하기 위해서는 해당하는 Key 요소를 대괄호‘[]’에 넣고 그에 해당하는 Value를 입력하면 해당 Key-Value 쌍이 딕셔너리에 추가된다.\n",
    "<br>\n",
    "<div style = \"border : 1px solid green; padding : 5px; width = 50px;\">딕셔너리 변수[Key요소] =Value요소<br></div><br>\n",
    "\n",
    "- 딕셔너리의 요소를 삭제하기 위해서는 del 명령어를 사용하며 대괄호에 입력한 Key 요소에 해당하는 Key-Value 쌍이 삭제된다.\n",
    "<br>\n",
    "<div style = \"border : 1px solid green; padding : 5px; width = 50px;\">del 딕셔너리 변수[Key요소]<br></div>"
   ]
  },
  {
   "cell_type": "markdown",
   "metadata": {},
   "source": [
    "#### [Key-Value 추가 및 삭제]"
   ]
  },
  {
   "cell_type": "code",
   "execution_count": 39,
   "metadata": {},
   "outputs": [
    {
     "name": "stdout",
     "output_type": "stream",
     "text": [
      "{'Name': 'James', 'Age': 23, 'Hobby': 'Programming'}\n",
      "{'Name': 'James', 'Hobby': 'Programming'}\n"
     ]
    }
   ],
   "source": [
    "    dict_basic = {'Name' : 'James', 'Age' : 23 }    #Key-Value 추가\n",
    "    dict_basic['Hobby'] = 'Programming'\n",
    "    print(dict_basic)\n",
    "    #Key-Value 삭제\n",
    "    del dict_basic['Age']\n",
    "    print(dict_basic)"
   ]
  },
  {
   "cell_type": "markdown",
   "metadata": {},
   "source": [
    "- 인덱싱이나 슬라이싱 등의 방법을 통해 딕셔너리 요소의 값에 접근할 수 없으며 딕셔너리에서 Value값을 얻기 위해서는 반드시 Key를 통해접근해야 한다."
   ]
  },
  {
   "cell_type": "markdown",
   "metadata": {},
   "source": [
    "#### [Key를 사용하여 값 가져오기]"
   ]
  },
  {
   "cell_type": "code",
   "execution_count": 41,
   "metadata": {},
   "outputs": [
    {
     "name": "stdout",
     "output_type": "stream",
     "text": [
      "James\n",
      "177.2\n"
     ]
    }
   ],
   "source": [
    "dict_student = {'Name': 'James', 'Age' : 23, 'Height' : 177.2, 'Major' : 'cse'}\n",
    "print(dict_student['Name'])\n",
    "print(dict_student['Height'])"
   ]
  },
  {
   "cell_type": "markdown",
   "metadata": {},
   "source": [
    "#### 내장 함수\n",
    "- keys() 함수는 각각 dict_kets 객체를 반환하며 해당 딕셔너리의 Key값을 각각의 객체를 통해 반환한다.\n",
    "- values() 함수는 dict_values 객체를 반환하며 해당 딕셔너리의 Value값을 각각의 객체를 통해 반환한다."
   ]
  },
  {
   "cell_type": "markdown",
   "metadata": {},
   "source": [
    "#### [keys(), values() 함수의 활용]"
   ]
  },
  {
   "cell_type": "code",
   "execution_count": 44,
   "metadata": {},
   "outputs": [
    {
     "name": "stdout",
     "output_type": "stream",
     "text": [
      "dict_keys(['Name', 'Age', 'Height', 'Major'])\n",
      "dict_values(['James', 23, 177.2, 'cse'])\n"
     ]
    }
   ],
   "source": [
    "dict_student = {'Name': 'James', 'Age' : 23, 'Height' : 177.2, 'Major':'cse'}\n",
    "print(dict_student.keys())\n",
    "print(dict_student.values())"
   ]
  },
  {
   "cell_type": "markdown",
   "metadata": {},
   "source": [
    "- dict_keys, dict_values 객체는 리스트에서 사용할 수 있는 고유 함수들을 사용할 수 없기 때문에 리스트의 고유 내장 함수를 사용하기 위해서는 list 객체로의 변환이 필요하다.\n"
   ]
  },
  {
   "cell_type": "markdown",
   "metadata": {},
   "source": [
    "#### [dict_keys()객체의 list 객체 변환]"
   ]
  },
  {
   "cell_type": "code",
   "execution_count": 45,
   "metadata": {},
   "outputs": [
    {
     "name": "stdout",
     "output_type": "stream",
     "text": [
      "['Name', 'Age', 'Height', 'Major']\n"
     ]
    }
   ],
   "source": [
    "dict_student = {'Name': 'James', 'Age' : 23, 'Height' : 177.2, 'Major':'cse'}\n",
    "dict_key_list = list(dict_student.keys())\n",
    "print(dict_key_list)"
   ]
  },
  {
   "cell_type": "markdown",
   "metadata": {},
   "source": [
    "- items() 함수는 앞의 두 함수와 마찬가지로 dict_items 객체를 반환하며 해당 딕셔너리의 키와 값 쌍을 얻을 수 있다."
   ]
  },
  {
   "cell_type": "markdown",
   "metadata": {},
   "source": [
    "#### [items() 함수의 활용]"
   ]
  },
  {
   "cell_type": "code",
   "execution_count": 46,
   "metadata": {
    "scrolled": true
   },
   "outputs": [
    {
     "name": "stdout",
     "output_type": "stream",
     "text": [
      "dict_items([('Name', 'James'), ('Age', 23), ('Height', 177.2), ('Major', 'cse')])\n"
     ]
    }
   ],
   "source": [
    "dict_student = {'Name': 'James', 'Age' : 23, 'Height' : 177.2, 'Major':'cse'}\n",
    "print(dict_student.items())"
   ]
  },
  {
   "cell_type": "markdown",
   "metadata": {},
   "source": [
    "- in과 not in은 해당 딕셔너리에 찾고자 하는 키가 존재하는지를 판단하여 True나 False로 반환하는 명령어이다."
   ]
  },
  {
   "cell_type": "markdown",
   "metadata": {},
   "source": [
    "#### [in과 not in의 활용]"
   ]
  },
  {
   "cell_type": "code",
   "execution_count": 48,
   "metadata": {},
   "outputs": [
    {
     "name": "stdout",
     "output_type": "stream",
     "text": [
      "False\n",
      "True\n",
      "False\n"
     ]
    }
   ],
   "source": [
    "dict_student = {'Name': 'James', 'Age' : 23, 'Height' : 177.2, 'Major':'cse'}\n",
    "print('Friends' in dict_student)\n",
    "print('Name' in dict_student)\n",
    "print('Age' not in dict_student)"
   ]
  },
  {
   "cell_type": "markdown",
   "metadata": {},
   "source": [
    "- get()은 딕셔너리의 Key를 통해 Value를 반환하는 함수이며 해당 딕셔너리에 찾고자 하는 키가 없을 경우 None을 반환한다."
   ]
  },
  {
   "cell_type": "markdown",
   "metadata": {},
   "source": [
    "#### [get() 함수의 활용]"
   ]
  },
  {
   "cell_type": "code",
   "execution_count": 49,
   "metadata": {},
   "outputs": [
    {
     "name": "stdout",
     "output_type": "stream",
     "text": [
      "James\n",
      "None\n"
     ]
    }
   ],
   "source": [
    "dict_student = {'Name': 'James', 'Age' : 23, 'Height' : 177.2, 'Major':'cse'}\n",
    "print(dict_student.get('Name'))\n",
    "print(dict_student.get('Hobby'))"
   ]
  },
  {
   "cell_type": "markdown",
   "metadata": {},
   "source": [
    "### 3.6 집합(set)"
   ]
  },
  {
   "cell_type": "markdown",
   "metadata": {},
   "source": [
    "#### 집합의 정의 및 선언\n",
    "- 수학에서의 집합이란 어떠한 기준에 의해 같은 성질을 만족하는 대상들의 모임이라고 할 수 있다.\n",
    "- Python에서 제공하는 집합(set)도 이와 유사한 성질을 공유한다."
   ]
  },
  {
   "cell_type": "markdown",
   "metadata": {},
   "source": [
    "#### [집합의 기본 구조]"
   ]
  },
  {
   "cell_type": "code",
   "execution_count": 50,
   "metadata": {},
   "outputs": [
    {
     "data": {
      "text/plain": [
       "{4, 5, 'a', 'b', 'c'}"
      ]
     },
     "execution_count": 50,
     "metadata": {},
     "output_type": "execute_result"
    }
   ],
   "source": [
    "s = {'a', 'b', 'c', 4, 5}\n",
    "s"
   ]
  },
  {
   "cell_type": "markdown",
   "metadata": {},
   "source": [
    "#### 집합의 특징"
   ]
  },
  {
   "cell_type": "markdown",
   "metadata": {},
   "source": [
    "- 집합에서는 중복된 요소를 포함하지 않기 때문에 같은 값을 가진 요소는 하나의 요소로 취급한다.\n",
    "- in이나 not in 명령어를 통해 특정 값이 집합 내에 있는지를 확인할 수 있다.\n",
    "- 집합은 리스트나 튜플처럼 순서가 정해져 있는 자료형이 아니기 때문에 인덱싱을 지원하지 않는다.(unordered)"
   ]
  },
  {
   "cell_type": "markdown",
   "metadata": {},
   "source": [
    "#### [집합의 특징(1)]"
   ]
  },
  {
   "cell_type": "code",
   "execution_count": 51,
   "metadata": {
    "scrolled": true
   },
   "outputs": [
    {
     "name": "stdout",
     "output_type": "stream",
     "text": [
      "{'c', 4, 5, 'a', 'b'}\n",
      "True\n"
     ]
    },
    {
     "ename": "TypeError",
     "evalue": "'set' object is not subscriptable",
     "output_type": "error",
     "traceback": [
      "\u001b[1;31m---------------------------------------------------------------------------\u001b[0m",
      "\u001b[1;31mTypeError\u001b[0m                                 Traceback (most recent call last)",
      "\u001b[1;32m<ipython-input-51-7af2ac7ed245>\u001b[0m in \u001b[0;36m<module>\u001b[1;34m\u001b[0m\n\u001b[0;32m      5\u001b[0m \u001b[0mprint\u001b[0m\u001b[1;33m(\u001b[0m\u001b[1;34m'b'\u001b[0m \u001b[1;32min\u001b[0m \u001b[0mset_basic\u001b[0m\u001b[1;33m)\u001b[0m\u001b[1;33m\u001b[0m\u001b[1;33m\u001b[0m\u001b[0m\n\u001b[0;32m      6\u001b[0m \u001b[1;31m#인덱싱 지원 유무 확인\u001b[0m\u001b[1;33m\u001b[0m\u001b[1;33m\u001b[0m\u001b[1;33m\u001b[0m\u001b[0m\n\u001b[1;32m----> 7\u001b[1;33m \u001b[0mprint\u001b[0m\u001b[1;33m(\u001b[0m\u001b[0mset_basic\u001b[0m\u001b[1;33m[\u001b[0m\u001b[1;36m0\u001b[0m\u001b[1;33m]\u001b[0m\u001b[1;33m)\u001b[0m\u001b[1;33m\u001b[0m\u001b[1;33m\u001b[0m\u001b[0m\n\u001b[0m",
      "\u001b[1;31mTypeError\u001b[0m: 'set' object is not subscriptable"
     ]
    }
   ],
   "source": [
    "set_basic = {'a', 'b', 4, 4, 'a', 'c', 5}\n",
    "#중복된 요소를 포함하지 않는 특징\n",
    "print(set_basic)\n",
    "#집합 내 특정 값 유무 확인\n",
    "print('b' in set_basic)\n",
    "#인덱싱 지원 유무 확인\n",
    "print(set_basic[0])"
   ]
  },
  {
   "cell_type": "markdown",
   "metadata": {},
   "source": [
    "- 공집합을 표현하기 위해서 중괄호 '{}'로 표현하게 되면 요소가 비어 있는 딕셔너리로 인식되기 때문에 다른 표현 방법을 사용해야 한다.\n",
    "- 공집합은 set()로 만들어야 한다. "
   ]
  },
  {
   "cell_type": "markdown",
   "metadata": {},
   "source": [
    "#### [집합의 특징(2)]"
   ]
  },
  {
   "cell_type": "code",
   "execution_count": 52,
   "metadata": {},
   "outputs": [
    {
     "name": "stdout",
     "output_type": "stream",
     "text": [
      "<class 'dict'>\n",
      "<class 'set'>\n"
     ]
    }
   ],
   "source": [
    "#딕셔너리로 인식\n",
    "set_basic = { }\n",
    "print(type(set_basic))\n",
    "\n",
    "#비어있는 집합의 표현     \n",
    "set_basic = set()\n",
    "print(type(set_basic))"
   ]
  },
  {
   "cell_type": "markdown",
   "metadata": {},
   "source": [
    "#### 집합의 연산 및 사용\n",
    "- 집합은 집합 간의 특별한 연산이 가능한데 교집합, 합집합, 차집합 등의 기본적인 집합끼리의 연산이 가능하다.\n",
    "- 집합 간의 포함 관계 여부 역시 확인할 수 있다."
   ]
  },
  {
   "cell_type": "markdown",
   "metadata": {},
   "source": [
    "#### [집합의 연산(1)]"
   ]
  },
  {
   "cell_type": "code",
   "execution_count": 53,
   "metadata": {},
   "outputs": [
    {
     "name": "stdout",
     "output_type": "stream",
     "text": [
      "{1, 2, 7}\n",
      "{1, 2, 7}\n",
      "{1, 2, 3, 4, 5, 6, 7, 8}\n",
      "{1, 2, 3, 4, 5, 6, 7, 8}\n"
     ]
    }
   ],
   "source": [
    "set_basic_A = {1, 2, 3, 5, 7, 8 }\n",
    "set_basic_B = {1, 2, 4, 6, 7 }\n",
    "#교집합 연산\n",
    "print(set_basic_A & set_basic_B)\n",
    "#교집합 연산\n",
    "print(set_basic_A.intersection(set_basic_B))\n",
    "#합집합 연산\n",
    "print(set_basic_A | set_basic_B)\n",
    "#합집합 연산\n",
    "print(set_basic_A.union(set_basic_B))"
   ]
  },
  {
   "cell_type": "markdown",
   "metadata": {},
   "source": [
    "#### [집합의 연산(2)]"
   ]
  },
  {
   "cell_type": "code",
   "execution_count": 55,
   "metadata": {},
   "outputs": [
    {
     "name": "stdout",
     "output_type": "stream",
     "text": [
      "{8, 3, 5}\n",
      "{4, 6}\n",
      "{8, 3, 5}\n",
      "True\n",
      "True\n"
     ]
    }
   ],
   "source": [
    "set_basic_A = {1, 2, 3, 5, 7, 8 }\n",
    "set_basic_B = {1, 2, 4, 6, 7 }\n",
    "set_basic_C = {1, 2, 3, 5 }\n",
    "#차집합 연산\n",
    "print(set_basic_A - set_basic_B)\n",
    "#차집합 연산\n",
    "print(set_basic_B - set_basic_A)\n",
    "#차집합 연산\n",
    "print(set_basic_A.difference(set_basic_B))\n",
    "#C집합이 A집합의 부분 집합일 때\n",
    "print(set_basic_C <= set_basic_A)\n",
    "#C집합이 A집합의 부분 집합일 때\n",
    "print(set_basic_A.issuperset(set_basic_C))"
   ]
  },
  {
   "cell_type": "markdown",
   "metadata": {},
   "source": [
    "#### 내장 함수 \n",
    "- 내장 함수인 add와 update를 통해 하나의 값을 추가하거나 여러 개의 값을 동시에 추가할 수 있다.\n",
    "- 값의 삭제는 remove 함수를 사용한다."
   ]
  },
  {
   "cell_type": "markdown",
   "metadata": {},
   "source": [
    "#### [집합의 함수]"
   ]
  },
  {
   "cell_type": "code",
   "execution_count": 56,
   "metadata": {},
   "outputs": [
    {
     "name": "stdout",
     "output_type": "stream",
     "text": [
      "{1, 2, 3, 4, 5, 6}\n",
      "{1, 2, 3, 4, 5, 6, 7, 8, 9}\n",
      "{1, 3, 4, 5, 6, 8, 9}\n"
     ]
    }
   ],
   "source": [
    "set_basic = {1, 2, 3, 4, 5 }\n",
    "#값의 추가\n",
    "set_basic.add(6)\n",
    "print(set_basic)\n",
    "#값의 추가\n",
    "set_basic.update([7, 8, 9])\n",
    "print(set_basic)\n",
    "#값의 삭제\n",
    "set_basic.remove(2)\n",
    "#값의 삭제\n",
    "set_basic.remove(7) \n",
    "print(set_basic)"
   ]
  },
  {
   "cell_type": "markdown",
   "metadata": {},
   "source": [
    "### 3.7 얕은 복사와 깊은 복사"
   ]
  },
  {
   "cell_type": "markdown",
   "metadata": {},
   "source": [
    "#### 자료형 별 복사\n",
    "- 변수의 복사에서는 변수 y에 변수 x를 할당한 후 y를 다른 값으로 수정하였을 때 각각의 x, y 변수는 서로 다른 객체로 동일하지 않다.\n",
    "- 수정된 y와 기존의 x는 서로 다른 값이 되며 나타나는 객체 주소 값 역시 다르다는 것을 확인할 수 있다.\n",
    "- 즉 하나의 변수에 또 다른 변수를 할당했다 하더라도 두 변수가 같은 객체가 되는 것은 아니다."
   ]
  },
  {
   "cell_type": "markdown",
   "metadata": {},
   "source": [
    "#### [변수의 복사]"
   ]
  },
  {
   "cell_type": "code",
   "execution_count": 57,
   "metadata": {
    "scrolled": true
   },
   "outputs": [
    {
     "name": "stdout",
     "output_type": "stream",
     "text": [
      "10\n",
      "10\n",
      "5\n",
      "140723281240752\n",
      "140723281240592\n"
     ]
    }
   ],
   "source": [
    "x = 10\n",
    "y = x\n",
    "print(y)\n",
    "y = 5\n",
    "print(x)\n",
    "print(y)\n",
    "#변수 x,y의 주소값 출력\n",
    "print(id(x))\n",
    "print(id(y))"
   ]
  },
  {
   "cell_type": "markdown",
   "metadata": {},
   "source": [
    "- 리스트 복사의 경우 리스트 x, y가 객체 주소값이 동일한 이름만 다른 같은 객체로 복사된다.\n",
    "- 즉 하나의 리스트를 다른 리스트로 복사하게 되면 다른 객체가 생성되는 것이 아닌 그저 이름만 다른 같은 객체이다.\n",
    "- 따라서 하나의 리스트의 요소를 수정하게 되면 복사된 리스트의 요소 역시 수정된다."
   ]
  },
  {
   "cell_type": "markdown",
   "metadata": {},
   "source": [
    "#### [리스트의 복사]"
   ]
  },
  {
   "cell_type": "code",
   "execution_count": 58,
   "metadata": {
    "scrolled": true
   },
   "outputs": [
    {
     "name": "stdout",
     "output_type": "stream",
     "text": [
      "[1, 5, 10]\n",
      "[3, 5, 10]\n",
      "[3, 5, 10]\n",
      "1537889789256\n",
      "1537889789256\n",
      "True\n"
     ]
    }
   ],
   "source": [
    "x = [1, 5, 10]\n",
    "y = x\n",
    "print(y)\n",
    "#리스트 y의 값 변경\n",
    "y[0] = 3\n",
    "print(x)\n",
    "print(y)\n",
    "print(id(x))\n",
    "print(id(y))\n",
    "#리스트 x, y가 같은 객체인지의 여부 출력\n",
    "print(x is y)"
   ]
  },
  {
   "cell_type": "markdown",
   "metadata": {},
   "source": [
    "- 리스트에서의 객체 자체의 복사가 아닌 값만을 복사하고자 할 때에는 얕은 복사를 사용한다.\n",
    "- Python의 기본 라이브러리 ‘copy’를 사용하거나 리스트 슬라이싱을 통해 얕은 복사를 한다."
   ]
  },
  {
   "cell_type": "markdown",
   "metadata": {},
   "source": [
    "#### [copy를 사용한 얕은 복사]"
   ]
  },
  {
   "cell_type": "code",
   "execution_count": 59,
   "metadata": {
    "scrolled": true
   },
   "outputs": [
    {
     "name": "stdout",
     "output_type": "stream",
     "text": [
      "[1, 5, 10]\n",
      "[1, 5, 10]\n",
      "[3, 5, 10]\n",
      "1537888362568\n",
      "1537889204360\n",
      "False\n"
     ]
    }
   ],
   "source": [
    "from copy import copy\n",
    "x = [1, 5, 10]\n",
    "y = copy(x)                \n",
    "print(y)                     \n",
    "y[0] = 3\n",
    "print(x)\n",
    "print(y)\n",
    "print(id(x))\n",
    "print(id(y)) \n",
    "print(x is y)"
   ]
  },
  {
   "cell_type": "markdown",
   "metadata": {},
   "source": [
    "#### [리스트 슬라이싱을 사용한 얕은 복사]"
   ]
  },
  {
   "cell_type": "code",
   "execution_count": 60,
   "metadata": {},
   "outputs": [
    {
     "name": "stdout",
     "output_type": "stream",
     "text": [
      "[1, 5, 10]\n",
      "[1, 5, 10]\n",
      "[3, 5, 10]\n",
      "1537889576776\n",
      "1537889789256\n",
      "False\n"
     ]
    }
   ],
   "source": [
    "x = [1, 5, 10]\n",
    "y = x[:]\n",
    "print(y)                     \n",
    "y[0] = 3\n",
    "print(x)\n",
    "print(y)\n",
    "print(id(x))\n",
    "print(id(y))\n",
    "print(x is y)"
   ]
  },
  {
   "cell_type": "markdown",
   "metadata": {},
   "source": [
    "- 얕은 복사를 사용하여 객체 내부의 객체를 새로운 객체로 복사하고자 했으나 얕은 복사로는 내부의 리스트 객체는 주소값이 동일한 이름만 다른 같은 객체로의 복사만 된다."
   ]
  },
  {
   "cell_type": "markdown",
   "metadata": {},
   "source": [
    "#### [객체 내부에 다른 객체를 포함할 때의 얕은 복사]"
   ]
  },
  {
   "cell_type": "code",
   "execution_count": 61,
   "metadata": {
    "scrolled": true
   },
   "outputs": [
    {
     "name": "stdout",
     "output_type": "stream",
     "text": [
      "[1, 5, [3, 15, 20]]\n",
      "[1, 3, [3, 15, 20]]\n"
     ]
    }
   ],
   "source": [
    "from copy import copy\n",
    "#리스트 객체를 포함한 리스트 객체\n",
    "x = [1, 5, [10, 15, 20]]\n",
    "#얕은 복사\n",
    "y = copy(x)\n",
    "y[1] = 3\n",
    "#y객체의 리스트 요소값 만을 변경하고자 함\n",
    "y[2][0] = 3\n",
    "print(x)\n",
    "print(y)\n"
   ]
  },
  {
   "cell_type": "markdown",
   "metadata": {},
   "source": [
    "- 내부 객체까지 완전히 복사하기 위해서는 깊은 복사(deepcopy)를 사용하여 복사한다.\n",
    "- Python의 라이브러리‘copy’에서 deepcopy를 import하여 사용할 수 있으며 얕은 복사가 내부 객체에서는 완전히 새로운 객체를 생성하지 않는 것과는 달리 내부의 모든 객체도 새로운 객체로 복사하게 된다.\n",
    "- 깊은 복사를 진행할 때 복사하고자 하는 객체의 구조가 크고 복잡할 경우에는 시간이 오래 걸리는 단점이 있다."
   ]
  },
  {
   "cell_type": "markdown",
   "metadata": {},
   "source": [
    "#### [깊은 복사]"
   ]
  },
  {
   "cell_type": "code",
   "execution_count": 62,
   "metadata": {},
   "outputs": [
    {
     "name": "stdout",
     "output_type": "stream",
     "text": [
      "[1, 5, [10, 15, 20]]\n",
      "[1, 3, [3, 15, 20]]\n"
     ]
    }
   ],
   "source": [
    "from copy import deepcopy\n",
    "#리스트 객체를 포함한 리스트 객체\n",
    "x = [1, 5, [10, 15, 20]]\n",
    "#얕은 복사\n",
    "y = deepcopy(x)\n",
    "y[1] = 3\n",
    "#y객체의 리스트 요소값만을 변경하고자 함\n",
    "y[2][0] = 3\n",
    "print(x)\n",
    "print(y)"
   ]
  },
  {
   "cell_type": "markdown",
   "metadata": {},
   "source": [
    "## 연습문제\n",
    "### 1.\n",
    "튜플과 딕셔너리, 집합의 특징에 관해 설명하고 리스트와의 차이점을 작성하라.\n",
    "- 튜플 : \n",
    "- 딕셔너리 : \n",
    "- 집합 : "
   ]
  },
  {
   "cell_type": "markdown",
   "metadata": {},
   "source": [
    "### 2.\n",
    "딕셔너리는 Key-Value 구조이다. 다음 중 딕셔너리의 Key 영역에 쓰일 수 있는 것을 모두 고르고, 그 이유를 설명하여라.\n",
    "\n",
    "1. 튜플 \n",
    "2. 딕셔너리 \n",
    "3. 집합 "
   ]
  },
  {
   "cell_type": "markdown",
   "metadata": {},
   "source": [
    "### 3.\n",
    "얕은 복사(Shallow Copy)와 깊은 복사(Deep Copy)의 차이를 서술하여라."
   ]
  },
  {
   "cell_type": "markdown",
   "metadata": {},
   "source": [
    "### 4.\n",
    "다음과 같은 딕셔너리가 있다고 가정한다.\n",
    "1. key1의 출력 결과를 확인하고 결과의 이유를 설명하라\n",
    "2. key2의 value 안의 key1을 사용하기 위해서 어떠한 코드를 작성해야 하는가?"
   ]
  },
  {
   "cell_type": "code",
   "execution_count": 1,
   "metadata": {},
   "outputs": [],
   "source": [
    "dict = {'key1' : 15, 'key2' : {'key1' : 10, 'key2' : 20 } }"
   ]
  },
  {
   "cell_type": "markdown",
   "metadata": {},
   "source": [
    "### 5.\n",
    "리스트 B가 있을 때, 해당 리스트를 복사하는 C라는 리스트를 생성하는 코드이다.\n",
    "코드를 실행한 후, C를 출력한 결과는 아래 실행 결과와 같다.빈칸에 올 수 있는 코드를 모두 작성하여라 (얕은 복사, 슬라이싱)"
   ]
  },
  {
   "cell_type": "code",
   "execution_count": null,
   "metadata": {},
   "outputs": [],
   "source": [
    "    from copy import copy\n",
    "    B = [[‘a’, ‘b’, ‘c’], 10, 20]\n",
    "    (--------)\n",
    "    C[0][2] = ‘d’"
   ]
  },
  {
   "cell_type": "markdown",
   "metadata": {},
   "source": [
    "#### 출력 결과 : C = [[‘a’, ‘b’, ‘d’], 10, 20]"
   ]
  },
  {
   "cell_type": "markdown",
   "metadata": {},
   "source": [
    "### 6.\n",
    "다음과 같은 메뉴판이 있다. 이 메뉴판을 Python의 리스트 자료형으로 코드를 구현해 보아라(리스트의 원소는 메뉴 이름 – 가격의 딕셔너리 형태이다) \n",
    "<img src=https://user-images.githubusercontent.com/37530732/75524227-d70c1c00-5a50-11ea-8540-042c3f748276.png style=\"width:80%;\">"
   ]
  },
  {
   "cell_type": "markdown",
   "metadata": {},
   "source": [
    "### 7.\n",
    "다음과 두 개의 리스트 자료형이 있을 때, 두 리스트의 원소를 모두 가지고 있는 리스트를 만드려 할 때, 다음 빈칸의 알맞은 코드를 작성하여라"
   ]
  },
  {
   "cell_type": "code",
   "execution_count": null,
   "metadata": {},
   "outputs": [],
   "source": [
    "    myList1 = [“C”,“C++”,“C#”]\n",
    "    myList2 = [“Python”, “Java”, “JavaScript”]\n",
    "    Result = (-------------------)\n",
    "    print(Result)"
   ]
  },
  {
   "cell_type": "markdown",
   "metadata": {},
   "source": [
    "### 8.\n",
    "다음과 같이 정수로 이루어진 리스트 자료형이 있을 때, 제시된 리스트 자료형을 오름차순, 내림차순으로 정렬된 리스트를 출력하려 할 때, 다음의 빈칸에 알맞은 코드를 작성하여라(단, 리스트 내장 함수 사용)"
   ]
  },
  {
   "cell_type": "code",
   "execution_count": null,
   "metadata": {},
   "outputs": [],
   "source": [
    "    numberList = [5, 10, 9, 3, 2, 18, 9, 7]\n",
    "    print(------------) #오름차순 정렬\n",
    "    print(------------) #내림차순 정렬"
   ]
  },
  {
   "cell_type": "markdown",
   "metadata": {},
   "source": [
    "### 9.\n",
    "다음과 같은 성적표가 주어질 때, 해당 성적표의 모은 과목의 평균을 구하려 한다. 성적표의 ‘과목명’: 점수로 이루어진 딕셔너리형 자료형을 만들고, 평균값을 구하려 할 때, 빈칸에 알맞은 코드를 작성하여라.\n",
    "(Hint. 먼저 dict_values 객체를 뽑아내고, sum() 함수를 통해 과목의 총합을 구함)\n",
    "<img src=https://user-images.githubusercontent.com/37530732/75524476-54379100-5a51-11ea-8f2c-9c446e028af8.png style=\"width:80%;\">"
   ]
  },
  {
   "cell_type": "code",
   "execution_count": null,
   "metadata": {},
   "outputs": [],
   "source": [
    "dict_score = {'국어': 70,  '수학' : 80, '영어': 90 }\n",
    "average = (------------------------)\n",
    "print(average)"
   ]
  },
  {
   "cell_type": "markdown",
   "metadata": {},
   "source": [
    "### 10.\n",
    "다음과 같은 튜플 자료형이 있을 때, 튜플의 요소를 추가시키고, 변경된 튜플을 사용하여 리스트형 자료형을 생성하려 할 때, 다음 빈칸에 알맞은 코드를 작성하여라"
   ]
  },
  {
   "cell_type": "code",
   "execution_count": null,
   "metadata": {},
   "outputs": [],
   "source": [
    "sampleTuple = (“One”,“Two”, “Three”)\n",
    "(-------------------)\n",
    "print(sampleTuple)"
   ]
  },
  {
   "cell_type": "markdown",
   "metadata": {},
   "source": [
    "### 11.\n",
    "다음과 같은 딕셔너리형 자료형이 주어지고, 다음과 같은 내장함수를 활용하였을 때, 그 결과값을 작성하시오"
   ]
  },
  {
   "cell_type": "code",
   "execution_count": null,
   "metadata": {},
   "outputs": [],
   "source": [
    "    studentDict = {‘University’:‘Dongguk’, ‘Name’: ‘Park’,                             ‘Age’: 23, ‘Major’: ‘Computer Science’}\n",
    "    print(‘Name’in studentDict)\n",
    "    print(‘Age’not in studentDict)\n",
    "    print(studentDict.get(‘Name’)\n",
    "    print(studentDict.get(‘Hobby’)"
   ]
  },
  {
   "cell_type": "markdown",
   "metadata": {},
   "source": [
    "### 12.\n",
    "5가지의 정수(1, 2, 3, 4, 5)로 이루어진 집합을 선언하고, 집합에 값을 추가, 삭제하려 할 때, 아래와 같은 실행결과를 보고 빈칸에 알맞은 코드를 작성하시오."
   ]
  },
  {
   "cell_type": "code",
   "execution_count": null,
   "metadata": {},
   "outputs": [],
   "source": [
    " numberSet = (------------)\n",
    "    (-----------------) #6의 값의 추가\n",
    "    print(numberSet)\n",
    "    (-----------------) #3의 값의 삭제\n",
    "    print(numberSet)"
   ]
  }
 ],
 "metadata": {
  "kernelspec": {
   "display_name": "Python 3",
   "language": "python",
   "name": "python3"
  },
  "language_info": {
   "codemirror_mode": {
    "name": "ipython",
    "version": 3
   },
   "file_extension": ".py",
   "mimetype": "text/x-python",
   "name": "python",
   "nbconvert_exporter": "python",
   "pygments_lexer": "ipython3",
   "version": "3.7.4"
  }
 },
 "nbformat": 4,
 "nbformat_minor": 2
}
