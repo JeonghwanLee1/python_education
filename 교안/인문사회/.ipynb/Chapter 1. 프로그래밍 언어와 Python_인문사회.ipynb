{
 "cells": [
  {
   "cell_type": "markdown",
   "metadata": {
    "slideshow": {
     "slide_type": "slide"
    }
   },
   "source": [
    "# Chapter1. 프로그래밍 언어와 Python"
   ]
  },
  {
   "cell_type": "markdown",
   "metadata": {},
   "source": [
    "#### 전 세계적으로 소프트웨어 및 IT 기술이 각종 산업과 사회 전반에 접목 되어 가치를 창출하고 있다. 또한 이러한 기술들은 소프트웨어 및 IT 산업  뿐만 아니라 다양한 비IT 산업에서도 널리 사용되고 있다. 따라서 컴퓨터 관련 전공자뿐만 아닌 다른 전공을 가지고 있는 인문사회계열 학생들도 프로그래밍을 포함한 IT 역량을 기르는 것이 중요하게 대두되고 있다.\n",
    "\n",
    "#### 이를 위해 해당 장에서는 인문사회계열 학생을 대상으로 컴퓨터 프로그래밍 및 IT 기술 습득을 위한 기본적인 지식인 컴퓨팅 사고와 프로그래밍 언어의 개념에 대해 알아보고 Python 개발환경의 구성과 Python의 기본적인 문법을 소개한다."
   ]
  },
  {
   "cell_type": "markdown",
   "metadata": {
    "slideshow": {
     "slide_type": "slide"
    }
   },
   "source": [
    "### 1.1 컴퓨팅사고"
   ]
  },
  {
   "cell_type": "markdown",
   "metadata": {
    "slideshow": {
     "slide_type": "subslide"
    }
   },
   "source": [
    "<b>컴퓨터 과학(Computer Science)</b>\n",
    "- 컴퓨터 과학이란 컴퓨터를 활용하여 해결할 수 있는 다양한 문제를 해결하기 위한 학문이며, 컴퓨터로 계산할 수 있는 문제들을 계산해 내는 것을 말한다."
   ]
  },
  {
   "cell_type": "markdown",
   "metadata": {
    "slideshow": {
     "slide_type": "subslide"
    }
   },
   "source": [
    "<b>계산적 사고(Computationl Thinking)</b>\n",
    "- 컴퓨터와 관련된 문제 해결을 위해 해당 문제를 정의하고 그에 대한 답을 구하는 과정이 포함된 사고 과정 전체를 계산적 사고 혹은 컴퓨팅 사고(Computational Thinking)라고 한다.\n",
    "- 수학적, 논리적 사고를 통해 보다 효율적으로 컴퓨터 과학에 관련한 문제를 해결할 수 있도록 하는 사고방식이다."
   ]
  },
  {
   "cell_type": "markdown",
   "metadata": {
    "slideshow": {
     "slide_type": "slide"
    }
   },
   "source": [
    "<b>2진수와 비트</b>\n",
    "- 컴퓨터에서는 우리가 일상에서 흔히 사용하는 10진수가 아닌 0과 1로 이루어진 2진수를 사용한다.\n",
    "- 2진수의 값을 저장할 수 있는 디지털 시스템의 가장 작은 데이터 단위, 그리고 컴퓨터의 용량을 계산할 때 사용하는 가장 작은 단위를 비트(BInary digiT)라고 한다.<br><br>\n",
    "\n",
    "<b>비트(Bit)</b>\n",
    "- 2진수를 가리키는 단어로 컴퓨터의 용량을 계산할 때 사용하는 가장 작은 단위\n",
    "- Binary digit의 약자\n",
    "- 0, 1로 구성되며 각기 다른 상태를 나타냄<br><br>\n",
    "\n",
    "<b>아날로그와 디지털</b>\n",
    "- 아날로그(Analog)란 연속적인 값을 데이터로 표현한 것이다. \n",
    "- 연속적인 값을 컴퓨터가 계산하기 위해서는 불연속적인 숫자로 표시되어야 한다. 이러한 불연속적인 데이터의 개념이 바로 디지털(Digital)이다.\n",
    "- 따라서 디지털(Digital)이란 불연속적인 이진 값들을 데이터로 표현한 것이다.\n",
    "<br><br>\n",
    "<div style=\"border : 1px solid #f2f2f2; padding : 5px; text-align : center;\">\n",
    "<figure>\n",
    "<img src=\"https://user-images.githubusercontent.com/37530732/75318970-0f73f480-58af-11ea-90f7-7ca08119604f.png\" style=\"width:25%;\"><br>\n",
    "\n",
    "<img src=\"https://user-images.githubusercontent.com/37530732/75319019-24e91e80-58af-11ea-9057-755e57c08c0e.png\" alt=\"variable\" style=\"width: 25%;\"/><br>\n",
    "\n",
    "<center><figcaption>&#60;그림 1-1 &#62; 연속적인 아날로그 시계(상)와 불연속적인 디지털 시계(하)\n",
    "        </figcaption></center>\n",
    "</figure>\n",
    "</div>\n",
    "\n",
    "<b>알고리즘(algorithm)</b>\n",
    "- 주어진 문제를 해결하기 위한 절차와 방법을 알고리즘이라고 한다.\n",
    "- 컴퓨터 과학에서 주어진 문제를 해결하기 위하여 만들어진 명령어들의 집합을 컴퓨터 알고리즘이라고 한다.\n",
    "- 아래의 그림과 같이 자판기에서 음료수를 뽑는 절차와 방법 또한 알고리즘이라고 할 수 있다.\n",
    "<br><br>\n",
    "<div style=\"border : 1px solid #f2f2f2; padding : 5px; text-align : center;\">\n",
    "<figure>\n",
    "<img src=\"https://user-images.githubusercontent.com/37530732/75319102-51049f80-58af-11ea-8ceb-806b60cfe82f.png\" style=\"width:80%;\"><br>\n",
    "\n",
    "<center><figcaption>&#60;그림 1-2 &#62; 자판기에서 음료수를 뽑는 알고리즘\n",
    "        </figcaption></center>\n",
    "</figure>\n",
    "</div>\n",
    "\n",
    "\n",
    "### 1.2 프로그래밍 언어의 개념\n",
    "\n",
    "<b>프로그램(Program)</b>\n",
    "- 어떠한 작업을 수행하기 위해 이루어진 명령어와 자료의 집합을 프로그램이라고 한다. 컴퓨터에 저장되고 완성되어 실행이 가능한 코드들의 집합체이다.\n",
    "- 프로그램은 우리가 하고자 하는 작업을 컴퓨터가 수행할 수 있도록 한다.<br><br>\n",
    "\n",
    "<b>프로그래밍 언어(Programming language)</b>\n",
    "- 프로그램을 만들기 위한 언어이다.\n",
    "- 컴퓨터에게 명령을 내리기 위해서는 컴퓨터와 소통할 수 있는 언어가 필요하다. 이러한 언어를 프로그래밍 언어라고 한다.\n",
    "- 프로그래밍 언어는 기계어, 어셈블리어, 고급언어의 3가지로 분류된다.<br><br>\n",
    "\n",
    "<b>기계어</b>\n",
    "- 0과 1로만 표현되는 2진수의 언어이다.\n",
    "- 컴퓨터가 읽을 수 있는 언어가 2진수이기 때문에 변환작업 없이 컴퓨터가 이해할 수 있는 유일한 언어이다. 따라서 수행 시간이 빠르다.\n",
    "- 사람이 쓰는 언어와 몹시 다르기 때문에 숙지하여 사용하는 것이 어렵다.<br><br>\n",
    "    \n",
    "<b>어셈블리어</b>\n",
    "- 기계어를 사람이 이해하고 프로그래밍 하기 쉬운 기호 형태로 1:1 대응시킨 언어이다.\n",
    "- CPU의 명령어들을 2진수가 아닌 영어로 이루어진 기호로 표기하여 가독성을 높이고 난이도를 낮추었다.\n",
    "- 기계어보다 더 수월하게 높은 수준의 프로그램 작성이 가능하다.\n",
    "- 컴퓨터가 직접 이해할 수 없다.\n",
    "- 어셈블러(Assembler)는 어셈블리어로 작성된 기호를 2진수(기계어)로 변환하는 프로그램으로 일종의 컴퓨터와 사용자를 이어주는 통역사라고 볼 수 있다.<br><br>\n",
    "<div style=\"border : 1px solid #f2f2f2; padding : 5px; text-align : center;\">\n",
    "<figure>\n",
    "<img src=\"https://user-images.githubusercontent.com/37530732/75319632-60381d00-58b0-11ea-8385-10386b14b977.png\" style=\"width:80%;\"><br>\n",
    "\n",
    "<center><figcaption>&#60;그림 1-3 &#62; 어셈블리어와 기계어의 관계\n",
    "        </figcaption></center>\n",
    "</figure>\n",
    "</div>\n",
    "<br><br>"
   ]
  },
  {
   "cell_type": "markdown",
   "metadata": {
    "slideshow": {
     "slide_type": "slide"
    }
   },
   "source": [
    "<b>고급언어</b>\n",
    "- 사람에게 익숙한 수식, 영어, 기호를 사용한 프로그래밍 언어를 뜻한다.\n",
    "- C, C++, C#, Python, Java, Ruby, PHP 등의 다양한 언어들이 고급 언어에 속한다.\n",
    "<br><br>\n",
    "<div style=\"border : 1px solid #f2f2f2; padding : 5px; text-align : center;\">\n",
    "<figure>\n",
    "<img src=\"https://user-images.githubusercontent.com/37530732/75319738-8d84cb00-58b0-11ea-967d-a62bc70c404c.png\" style=\"width:80%;\"><br>\n",
    "\n",
    "<center><figcaption>&#60;그림 1-4 &#62; 고급언어의 종류\n",
    "        </figcaption></center>\n",
    "</figure>\n",
    "</div>\n",
    "<br><br>\n",
    "<b>컴파일러(Compiler)와 인터프리터(Interpreter)</b>\n",
    "\n",
    "- 컴파일러는 사용자가 고급 언어로 작성한 프로그램을 컴퓨터가 이해할 수 있는 기계어로 변환해 주는 프로그램을 말한다.\n",
    "- 컴파일러는 코드 전체를 읽어 통째로 기계어로 번역하는 방식을 사용한다.\n",
    "- 인터프리터는 컴파일러와 동일한 역할을 수행하지만 코드를 한 줄씩 변환하기 때문에 컴파일러에 비해 속도가 느리다는 단점이 있다.\n",
    "<br><br>\n",
    "\n",
    "### 1.3 Python의 배경과 특징\n",
    "\n",
    "<b>Python 언어의 배경</b><br>\n",
    "- Python은 1991년 Guido Van Rossum이 개발한 대화형 프로그래밍 언어이다.\n",
    "<br><br>\n",
    "\n",
    "<b>Python 언어의 특징</b><br>\n",
    "- 구조가 간결하여 읽고 쓰기와 익히기가 쉽다.\n",
    "- 라이브러리가 많고 특히 인공지능과 머신러닝 관련 라이브러리가 풍부해 관련 분야에 사용하기가 적합하다.\n",
    "- 운영체제의 종류를 가리지 않고 동작하여 범용성이 좋다.\n",
    "- 오픈소스를 기반으로 하여 코드의 유지 보수에 용이하다.\n",
    "- 컴파일러가 아닌 인터프리터를 사용하기 때문에 작성한 문장의 결과를 즉시 볼 수 있으므로 입문 및 초보 프로그래머에게 적합하다.\n",
    "<br><br>"
   ]
  },
  {
   "cell_type": "markdown",
   "metadata": {},
   "source": [
    "### 1.4 Python 개발환경 구성\n",
    "\n",
    "#### Anaconda 설치\n",
    "\n",
    "- Anaconda란 수학과 과학 분야에서 사용되는 여러 패키지들을 묶어 놓은 Python 배포판으로서 데이터 사이언스와 머신 러닝 분야에서 Python을 사용하기 위한 기본으로 쓰인다.\n",
    "\n",
    "- https://www.anaconda.com 에 접속한다.\n",
    "<img src=https://user-images.githubusercontent.com/48711691/75317917-6e843a00-58ac-11ea-98dd-20a5e613f65d.png style=\"width:70%;\">\n",
    "\n",
    "<br><br>\n",
    "- 우측 상단에 Download 버튼을 클릭한다.\n",
    "<img src=https://user-images.githubusercontent.com/48711691/75317947-7e9c1980-58ac-11ea-8f3a-1dc393b15eb1.png style=\"width:70%;\">\n",
    "\n",
    "<br><br>\n",
    "- Python 3.7 version Download를 선택한다.\n",
    "<img src=https://user-images.githubusercontent.com/48711691/75317977-8956ae80-58ac-11ea-99c2-97256ffd9c97.png style=\"width:70%;\">\n",
    "\n",
    "<br><br>\n",
    "- Jupyter Notebook(Anaconda3)를 실행한다.\n",
    "<img src=https://user-images.githubusercontent.com/48711691/75317985-8f4c8f80-58ac-11ea-86f3-98b529bd2aaa.png style=\"width:70%;\">\n",
    "<br><br>\n",
    "- Jupyter Notebook내의 New -> Python3를 클릭한다."
   ]
  },
  {
   "cell_type": "markdown",
   "metadata": {
    "slideshow": {
     "slide_type": "slide"
    }
   },
   "source": [
    "### 1.2.2 기본 문법\n",
    "\n",
    "<b>값 출력하기 : print </b><br>\n",
    "<div style = \"border : 1px solid green; padding : 5px; width = 50px;\">print(parameter)<br>\n",
    "<div style = \"color : gray;\">parameter : 출력하고자 하는 값을 입력</div></div>\n",
    "\n",
    "- 사용자의 입력값을 화면에 출력할 때 사용한다.\n",
    "- 숫자가 아닌 문자나 문장은 따옴표('') 또는 쌍따옴표(\"\")로 감싸주어야 한다."
   ]
  },
  {
   "cell_type": "code",
   "execution_count": 1,
   "metadata": {
    "slideshow": {
     "slide_type": "slide"
    }
   },
   "outputs": [
    {
     "name": "stdout",
     "output_type": "stream",
     "text": [
      "2019\n",
      "110\n",
      "Hello World\n",
      "Python\n"
     ]
    }
   ],
   "source": [
    "print(2019)\n",
    "print(10+100)\n",
    "print(\"Hello World\")\n",
    "print('Python')"
   ]
  },
  {
   "cell_type": "markdown",
   "metadata": {
    "slideshow": {
     "slide_type": "slide"
    }
   },
   "source": [
    "<b>값 입력받기 : input </b><br>\n",
    "<div style = \"border : 1px solid green; padding : 5px; width = 50px;\">input(parameter)<br>\n",
    "<div style = \"color : gray;\">parameter : 화면에 출력하고자 하는 값을 입력</div></div>\n",
    "\n",
    "- parameter가 있을 때 먼저 화면에 출력한 뒤 사용자의 입력을 받는다.\n",
    "- paramter는 생략이 가능하다. 이때 화면에 출력없이 바로 사용자의 입력을 받는다."
   ]
  },
  {
   "cell_type": "code",
   "execution_count": 2,
   "metadata": {
    "slideshow": {
     "slide_type": "slide"
    }
   },
   "outputs": [
    {
     "name": "stdout",
     "output_type": "stream",
     "text": [
      "값을 입력하세요 : 2019\n"
     ]
    },
    {
     "data": {
      "text/plain": [
       "'2019'"
      ]
     },
     "execution_count": 2,
     "metadata": {},
     "output_type": "execute_result"
    }
   ],
   "source": [
    "input(\"값을 입력하세요 : \")"
   ]
  },
  {
   "cell_type": "markdown",
   "metadata": {
    "slideshow": {
     "slide_type": "slide"
    }
   },
   "source": [
    "<b>들여쓰기</b><br>\n",
    "- 코드의 영역을 지정하는 소스 작성 방식이다.\n",
    "- 임의로 생략이 불가능하다.\n",
    "- space bar(4칸) 또는 tab key를 이용하여 공백을 만든다."
   ]
  },
  {
   "cell_type": "code",
   "execution_count": 3,
   "metadata": {
    "scrolled": true,
    "slideshow": {
     "slide_type": "slide"
    }
   },
   "outputs": [
    {
     "ename": "IndentationError",
     "evalue": "unexpected indent (<ipython-input-3-c087232c7b82>, line 2)",
     "output_type": "error",
     "traceback": [
      "\u001b[1;36m  File \u001b[1;32m\"<ipython-input-3-c087232c7b82>\"\u001b[1;36m, line \u001b[1;32m2\u001b[0m\n\u001b[1;33m    print(\"Python\")\u001b[0m\n\u001b[1;37m    ^\u001b[0m\n\u001b[1;31mIndentationError\u001b[0m\u001b[1;31m:\u001b[0m unexpected indent\n"
     ]
    }
   ],
   "source": [
    "print(\"2019\")\n",
    "  print(\"Python\")"
   ]
  },
  {
   "cell_type": "markdown",
   "metadata": {
    "slideshow": {
     "slide_type": "slide"
    }
   },
   "source": [
    "<b>주석 : # </b><br>\n",
    "<div style = \"border : 1px solid green; padding : 5px; width = 50px;\">#comment<br>\n",
    "<div style = \"color : gray;\">comment : 설명</div></div>\n",
    "\n",
    "- 사람이 코드를 읽기 쉽도록 작성한 메모 또는 프로그램에 대한 설명한다.\n",
    "- 파이썬 인터프리터가 주석을 해석하지 않기 때문에 프로그램의 실행에 영향이 가지 않는다."
   ]
  },
  {
   "cell_type": "code",
   "execution_count": 4,
   "metadata": {
    "slideshow": {
     "slide_type": "subslide"
    }
   },
   "outputs": [],
   "source": [
    "#print(\"Python\")"
   ]
  },
  {
   "cell_type": "markdown",
   "metadata": {
    "slideshow": {
     "slide_type": "slide"
    }
   },
   "source": [
    "## 연습문제\n",
    "\n",
    "### 1.\n",
    "컴퓨터 과학과 계산적 사고란 무엇인지 설명하여라.\n",
    "<br><br>\n",
    "\n",
    "### 2.\n",
    "기계어와 고급언어의 차이를 각각의 언어가 어떤 것에 적합하게 설계되었는지를 기준으로 설명하여라.\n",
    "\n",
    "기계어 :\n",
    "\n",
    "고급언어 : \n",
    "<br><br>\n",
    "\n",
    "### 3.\n",
    "다음 중 고급언어를 기계어로 바꾸어 주는 도구가 아닌 것과 그 이유는?\n",
    "\n",
    "(1) 인터프리터\n",
    "\n",
    "(2) 컴파일러\n",
    "\n",
    "(3) 어셈블러 \n",
    "<br><br>\n",
    "\n",
    "### 4.\n",
    "Python에 대한 설명이 아닌 것을 모두 선택하고 그 이유를 설명하여라.\n",
    "<br><br>\n",
    "(1) 컴파일러를 통해 기계어로 번역됨\n",
    "\n",
    "(2) 다양한 라이브러리를 제공\n",
    "\n",
    "(3) 여러 운영체제에서 동작함\n",
    "\n",
    "(4) 절차 지향적인 언어\n",
    "\n",
    "(5) 귀도 반 로섬이 개발한 대화형 프로그래밍 언어\n",
    "<br><br>\n",
    "\n",
    "### 5.\n",
    "다음 경우의 출력 결과를 예상하고 왜 이러한 결과가 나왔는지 설명하여라.\n",
    "\n",
    "#### print(‘학번 : ’ + 2020112000)\n",
    "\n",
    "예상 결과 :\n",
    "\n",
    "### 6.\n",
    "다음 경우의 출력 결과를 예상하고 왜 이러한 결과가 나왔는지 설명하여라.\n",
    "\n",
    "#### #myVar = “sample string”\n",
    "#### print(myVar)\n",
    "\n",
    "예상 결과 :\n",
    "\n",
    "### 7.\n",
    "다음의 실행 결과를 위한 알맞은 코드를 작성하여라.\n",
    "<img src=https://user-images.githubusercontent.com/37530732/75321021-451adc80-58b3-11ea-92a5-100c2383804d.png style=\"width:70%;\">\n",
    "\n",
    "출력 화면\n",
    "<img src=https://user-images.githubusercontent.com/37530732/75321116-7398b780-58b3-11ea-9073-776f91d6c55f.png style=\"width:70%;\">\n",
    "<br><br>"
   ]
  }
 ],
 "metadata": {
  "kernelspec": {
   "display_name": "Python 3",
   "language": "python",
   "name": "python3"
  },
  "language_info": {
   "codemirror_mode": {
    "name": "ipython",
    "version": 3
   },
   "file_extension": ".py",
   "mimetype": "text/x-python",
   "name": "python",
   "nbconvert_exporter": "python",
   "pygments_lexer": "ipython3",
   "version": "3.7.4"
  }
 },
 "nbformat": 4,
 "nbformat_minor": 2
}
