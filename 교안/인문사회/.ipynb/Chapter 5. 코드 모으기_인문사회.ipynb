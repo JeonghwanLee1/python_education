{
 "cells": [
  {
   "cell_type": "markdown",
   "metadata": {},
   "source": [
    "# Chapter 5. 코드 모으기"
   ]
  },
  {
   "cell_type": "markdown",
   "metadata": {},
   "source": [
    "#### 주어진 문제를 해결하기 위하여 조건에 해당하는 프로그램을 작성할 때 반복적인 기능을 수행하는 코드가 존재할 수 있다.\n",
    "#### 이 때, 해당 기능을 구현하기 위하여 동일한 코드를 추가한다면 프로그램의 용량이 의미 없이 커짐으로써 효율성이 낮아지며 가독성 또한 떨어져서 협업을 요구하는 프로젝트에서 업무의 진행에 어려움이 생길 가능성이 존재한다. \n",
    "#### 따라서 이러한 비효율적인 프로그램 작성을 방지하기 위하여 Python에서는 일정 기능을 수행하는 함수를 하나의 단위로 해당 코드를 필요할 때마다 호출하여 사용할 수 있는 기능을 제공한다.\n",
    "#### 이러한 함수를 구성하고 있는 요소와 적절한 사용법과 응용 방법, 주의할 점에 대해 설명한다."
   ]
  },
  {
   "cell_type": "markdown",
   "metadata": {},
   "source": [
    "### 5.1 함수\n",
    "#### 입력 값을 받아 원하는 기능을 수행한 후 결과 값을 반환한다.\n",
    "#### 사용자는 원하는 기능을 함수 단위로 구현한 후 프로그램 내에서 해당 기능이 필요할 때마다 함수를 호출하는 절차를 거친다.\n",
    "<br>\n",
    "<div style = \"border : 1px solid green; padding : 5px; width = 50px;\">def func(arg) :\n",
    "<br>&nbsp;&nbsp;&nbsp;&nbsp;return result <br>\n",
    "<div style = \"color : gray;\">func : 함수 명<br>\n",
    "arg : 매개변수<br>\n",
    "result : 반환 값</div></div>"
   ]
  },
  {
   "cell_type": "markdown",
   "metadata": {},
   "source": [
    "#### [함수 기초 예제]"
   ]
  },
  {
   "cell_type": "code",
   "execution_count": 2,
   "metadata": {},
   "outputs": [
    {
     "name": "stdout",
     "output_type": "stream",
     "text": [
      "함수입니다.\n"
     ]
    },
    {
     "data": {
      "text/plain": [
       "True"
      ]
     },
     "execution_count": 2,
     "metadata": {},
     "output_type": "execute_result"
    }
   ],
   "source": [
    "# 함수의 정의\n",
    "def myFunction() :\n",
    "    # 함수의 내용\n",
    "    print('함수입니다.')\n",
    "    # 함수가 반환하는 값\n",
    "    return True\n",
    "# 사용자가 정의한 함수를 호출하여 특정 기능 수행\n",
    "\n",
    "myFunction()"
   ]
  },
  {
   "cell_type": "markdown",
   "metadata": {},
   "source": [
    "#### 매개변수와 반환 값\n",
    "- 함수를 사용하기 위해서는 함수를 구성하고 있는 요소들에 대한 이해가 필요하다.\n",
    "- 원하는 기능을 수행하기 위하여 입력해야 하는 값을 매개변수라고 하며 함수의 괄호 ‘0’내에 들어간다.\n",
    "- 매개변수는 기능에 따라서 여러 개의 값으로 구성될 수 있으며 입력 값이 없을 때는 사용하지 않을 수도 있다.\n",
    "- 함수가 논리 절차에 따라 기능을 수행한 후 실행 결과 값을 반환하게 되는데 이를 반환 값(return value)라고 한다.\n",
    "- 매개변수와 마찬가지로 함수의 실행 결과 후 반환 되는 값이 존재하지 않을 수도 있다. 이러한 경우에는 None값을 반환하게 된다."
   ]
  },
  {
   "cell_type": "markdown",
   "metadata": {},
   "source": [
    "#### 함수의 호출\n",
    "- 함수의 호출이란 사용자가 정의한 함수의 이름이나 Python에서 제공하는 함수를 사용하기 위하여 함수를 부르는 것을 말한다.\n",
    "- 매개변수를 가진 함수를 호출하게 되면 반드시 호출에서 매개 변수의 입력 값을 넣어주어야 하며 함수의 실행 결과로 return값을 반환한다."
   ]
  },
  {
   "cell_type": "markdown",
   "metadata": {},
   "source": [
    "#### [함수 호출 예제(1)]"
   ]
  },
  {
   "cell_type": "code",
   "execution_count": 3,
   "metadata": {},
   "outputs": [
    {
     "data": {
      "text/plain": [
       "8"
      ]
     },
     "execution_count": 3,
     "metadata": {},
     "output_type": "execute_result"
    }
   ],
   "source": [
    "# 매개변수로 a와 b를 가지는 함수\n",
    "def add(a, b) :\n",
    "    num = a + b\n",
    "\n",
    "    # 함수가 반환하는 출력값  \n",
    "    return num\n",
    "\n",
    "# 함수의 사용\n",
    "add(3, 5)"
   ]
  },
  {
   "cell_type": "markdown",
   "metadata": {},
   "source": [
    "#### [함수 호출 예제(2)]"
   ]
  },
  {
   "cell_type": "code",
   "execution_count": 4,
   "metadata": {},
   "outputs": [
    {
     "data": {
      "text/plain": [
       "50"
      ]
     },
     "execution_count": 4,
     "metadata": {},
     "output_type": "execute_result"
    }
   ],
   "source": [
    "def add(a, b) :\n",
    "    num = a+b\n",
    "    return num\n",
    "\n",
    "def func_in_func(c) :\n",
    "\n",
    "    #함수 내에 다른 함수를 호출할 수도 있음\n",
    "    result = add(2, 3) * c\n",
    "    return result\n",
    "\n",
    "func_in_func(10)"
   ]
  },
  {
   "cell_type": "markdown",
   "metadata": {},
   "source": [
    "- return값이 없는 형태로 함수를 구현하여 사용할 수 있다.\n",
    "- return값이 없기 때문에 출력하게 되면 None이라는 결과를 보인다."
   ]
  },
  {
   "cell_type": "markdown",
   "metadata": {},
   "source": [
    "#### [return값이 없는 함수 사용]"
   ]
  },
  {
   "cell_type": "code",
   "execution_count": 6,
   "metadata": {},
   "outputs": [
    {
     "name": "stdout",
     "output_type": "stream",
     "text": [
      "None\n"
     ]
    }
   ],
   "source": [
    "# return 없이 출력만 하는 함수의 정의\n",
    "def noReturn(input1, input2) :\n",
    "    \n",
    "    input1 + input2\n",
    "\n",
    "# 정의한 함수를 사용하기 위하여 호출 시킴\n",
    "num = noReturn(10, 20)\n",
    "\n",
    "# return이 없으므로 none\n",
    "print(num) "
   ]
  },
  {
   "cell_type": "markdown",
   "metadata": {},
   "source": [
    "- 입력 값이 존재하지 않는 경우 매개변수 없이 함수를 구현하여 사용할 수 있다."
   ]
  },
  {
   "cell_type": "markdown",
   "metadata": {},
   "source": [
    "#### [매개변수 없이 함수 사용]"
   ]
  },
  {
   "cell_type": "code",
   "execution_count": 8,
   "metadata": {},
   "outputs": [
    {
     "data": {
      "text/plain": [
       "'입력 값이 필요하지 않은 함수의 결과 값을 출력합니다.'"
      ]
     },
     "execution_count": 8,
     "metadata": {},
     "output_type": "execute_result"
    }
   ],
   "source": [
    "# 매개변수 없이 괄호만 사용\n",
    "def noParam() :\n",
    "    result = '입력 값이 필요하지 않은 함수의 결과 값을 출력합니다.'\n",
    "    return result\n",
    "noParam() "
   ]
  },
  {
   "cell_type": "markdown",
   "metadata": {},
   "source": [
    "- 함수 수행의 결과 값이 존재하지 않거나 반환될 필요가 없을 경우 return값과 매개변수가 존재하지 않는 형태의 함수로 정의할 수 있다."
   ]
  },
  {
   "cell_type": "markdown",
   "metadata": {},
   "source": [
    "#### [return값과 매개변수 없이 함수 사용(1)]"
   ]
  },
  {
   "cell_type": "code",
   "execution_count": 9,
   "metadata": {},
   "outputs": [
    {
     "name": "stdout",
     "output_type": "stream",
     "text": [
      "함수의 결과 값 반환이 없는 함수입니다.\n"
     ]
    }
   ],
   "source": [
    "def noReturn() :\n",
    "    print('함수의 결과 값 반환이 없는 함수입니다.')\n",
    "noReturn()"
   ]
  },
  {
   "cell_type": "markdown",
   "metadata": {},
   "source": [
    "#### [return값과 매개변수 없이 함수 사용(2)]"
   ]
  },
  {
   "cell_type": "code",
   "execution_count": 10,
   "metadata": {},
   "outputs": [
    {
     "name": "stdout",
     "output_type": "stream",
     "text": [
      "함수입니다.\n"
     ]
    }
   ],
   "source": [
    "def noParamReturn() :\n",
    "    print('함수입니다.')\n",
    "noParamReturn()"
   ]
  },
  {
   "cell_type": "markdown",
   "metadata": {},
   "source": [
    "#### 심화 함수\n",
    "- 필요한 매개 변수가 구체적으로 정해지지 않았거나 경우에 따라 변할 때에도 반영하여 함수를 구현할 수 있다.\n",
    "- 매개변수의 수에 맞추어 함수의 결과가 출력된다.\n",
    "- ‘*’를 매개변수 앞에 사용하는 것으로 여러 개의 매개변수를 받을 수 있음을 명시한다."
   ]
  },
  {
   "cell_type": "markdown",
   "metadata": {},
   "source": [
    "#### [매개변수의 수가 일정하지 않은 심화 함수의 사용(1)]"
   ]
  },
  {
   "cell_type": "code",
   "execution_count": 11,
   "metadata": {},
   "outputs": [
    {
     "name": "stdout",
     "output_type": "stream",
     "text": [
      "3\n",
      "5\n"
     ]
    }
   ],
   "source": [
    "# 파라미터의 수를 반환하는 함수\n",
    "def paramNum(*input) : \n",
    "    count = 0\n",
    "    for i in input :\n",
    "        count+=1\n",
    "    return count\n",
    "\n",
    "# 3개의 매개변수를 입력\n",
    "a = paramNum(1, 3, 6)\n",
    "print(a)\n",
    "\n",
    "# 5개의 매개변수를 입력\n",
    "b = paramNum(1, 3, 6, 5, 7)\n",
    "print(b)"
   ]
  },
  {
   "cell_type": "markdown",
   "metadata": {},
   "source": [
    "#### [매개변수의 수가 일정하지 않은 심화 함수의 사용(2)]"
   ]
  },
  {
   "cell_type": "code",
   "execution_count": 12,
   "metadata": {},
   "outputs": [
    {
     "name": "stdout",
     "output_type": "stream",
     "text": [
      "a\n",
      "b\n",
      "c\n",
      "None\n"
     ]
    }
   ],
   "source": [
    "# return이 없는 함수의 파라미터에 따라 print하는 함수 \n",
    "def paramNum(*input) : \n",
    "    for i in input :\n",
    "        print(i)\n",
    "a = paramNum('a', 'b', 'c')\n",
    "print(a)"
   ]
  },
  {
   "cell_type": "markdown",
   "metadata": {},
   "source": [
    "- 함수를 정의할 때 매개변수의 초깃값을 미리 지정할 수 있다.\n",
    "- 매개변수가 고정된 값을 가지거나 초깃값을 가지는 경우에 사용하는 방법이다.\n",
    "- 만약 함수 호출 시 초깃값을 가진 매개변수의 입력 값을 표기하지 않는다면 자동으로 계산된다.\n",
    "- 함수의 선언에서 초깃값을 지정한 매개변수가 가장 뒤로 와야 한다."
   ]
  },
  {
   "cell_type": "markdown",
   "metadata": {},
   "source": [
    "#### [매개변수의 초기값 지정(1)]"
   ]
  },
  {
   "cell_type": "code",
   "execution_count": 15,
   "metadata": {},
   "outputs": [
    {
     "data": {
      "text/plain": [
       "15"
      ]
     },
     "execution_count": 15,
     "metadata": {},
     "output_type": "execute_result"
    }
   ],
   "source": [
    "# input2의 초기값 지정\n",
    "def initialVal(input1, input2 = 10) :\n",
    "    result = input1 + input2\n",
    "    return result\n",
    "\n",
    "# 입력받은 1개의 매개변수 값은 자동으로 input1에 저장됨\n",
    "# 따라서 input1 + input2 = 5 + 10\n",
    "initialVal(5)"
   ]
  },
  {
   "cell_type": "markdown",
   "metadata": {},
   "source": [
    "#### [매개변수의 초기값 지정(2)]"
   ]
  },
  {
   "cell_type": "code",
   "execution_count": 16,
   "metadata": {},
   "outputs": [
    {
     "data": {
      "text/plain": [
       "30"
      ]
     },
     "execution_count": 16,
     "metadata": {},
     "output_type": "execute_result"
    }
   ],
   "source": [
    "# 초기값을 여러 개 지정할 수 있음\n",
    "def initialVal(input1, input2 = 10, input3 = 15) :\n",
    "    result = input1 + input2 + input3\n",
    "    return result\n",
    "\n",
    "initialVal(5)"
   ]
  },
  {
   "cell_type": "markdown",
   "metadata": {},
   "source": [
    "- 함수의 실행 결과로 여러 개 값을 반환할 수 있도록 구현할 수 있다.\n",
    "- 두 개 이상의 return값을 가지면 자동으로 튜플로 변환하여 반환한다.\n",
    "- \n",
    "튜플 언패킹을 통한 여러 개의 결과 값을 얻을 수 있다."
   ]
  },
  {
   "cell_type": "markdown",
   "metadata": {},
   "source": [
    "#### [여러 개의 결과 값을 가지는 함수]"
   ]
  },
  {
   "cell_type": "code",
   "execution_count": 17,
   "metadata": {
    "scrolled": true
   },
   "outputs": [
    {
     "name": "stdout",
     "output_type": "stream",
     "text": [
      "(8, 2)\n",
      "8\n",
      "2\n"
     ]
    }
   ],
   "source": [
    "def multiReturn(input1, input2) :\n",
    "    result1 = input1+input2\n",
    "    result2 = input1-input2\n",
    "    return result1, result2\n",
    "\n",
    "result = multiReturn(5, 3)\n",
    "\n",
    "# 결과값이 튜플로 반환\n",
    "print(result)\n",
    "\n",
    "# 튜플 언패킹을 통해 사용\n",
    "result1, result2 = multiReturn(5, 3)\n",
    "print(result1)\n",
    "print(result2)"
   ]
  },
  {
   "cell_type": "markdown",
   "metadata": {},
   "source": [
    "#### 재귀함수\n",
    "- 함수가 자기 자신을 호출하여 사용하는 함수를 재귀함수라고 한다.\n",
    "- 자기 자신을 반복적으로 호출하므로 반드시 재귀 프로세스를 끝낼 수 있는 조건이 있어야 한다.\n",
    "- 경우에 따라서 알고리즘이나 함수를 재귀적으로 구성하는 것이 코드 효율성을 높일 수 있다."
   ]
  },
  {
   "cell_type": "markdown",
   "metadata": {},
   "source": [
    "#### [재귀함수 기본 예제]"
   ]
  },
  {
   "cell_type": "code",
   "execution_count": 18,
   "metadata": {
    "scrolled": true
   },
   "outputs": [
    {
     "name": "stdout",
     "output_type": "stream",
     "text": [
      "4\n",
      "3\n",
      "2\n",
      "1\n"
     ]
    }
   ],
   "source": [
    "def recursive(n) :\n",
    "    # 재귀를 끝낼 조건문\n",
    "    if n > 0 :\n",
    "        print(n) \n",
    "\n",
    "        # n-1으로 다시 함수 실행\n",
    "        recursive(n-1)\n",
    "recursive(4)"
   ]
  },
  {
   "cell_type": "markdown",
   "metadata": {},
   "source": [
    "- 재귀 호출이 일어나는 부분을 기준으로 코드의 실행 순서가 변한다.\n",
    "- 위의 예제에서 print()로 n을 출력한 후에 재귀호출이 일어났기 때문에 print(n) → n-1 → print(n-1) → n-2 ... 순으로 함수가 동작하였다.\n",
    "- 재귀함수의 재귀 호출이 일어난 이후 print() 함수를 작성하였다면 반대의 결과가 나올 것이다."
   ]
  },
  {
   "cell_type": "markdown",
   "metadata": {},
   "source": [
    "#### [재귀호출 후의 print()]"
   ]
  },
  {
   "cell_type": "code",
   "execution_count": 19,
   "metadata": {
    "scrolled": true
   },
   "outputs": [
    {
     "name": "stdout",
     "output_type": "stream",
     "text": [
      "1\n",
      "2\n",
      "3\n",
      "4\n",
      "5\n"
     ]
    }
   ],
   "source": [
    "def recursive(n) :\n",
    "    if n > 0 : \n",
    "        recursive(n-1)\n",
    "\n",
    "       # 출력이 호출 이후에 들어간다\n",
    "        print(n)\n",
    "\n",
    "recursive(5)"
   ]
  },
  {
   "cell_type": "markdown",
   "metadata": {},
   "source": [
    "- 위의 예제의 재귀함수 동작 순서를 서술하게 되면 다음과 같다.\n",
    "<br>\n",
    "<div style = \"border : 1px solid green; padding : 5px; width = 50px;\">1. n = 5 → 5를 출력<br>2. n = 5 → (n = 4 → 4를 출력) → 5를 출력<br>3. n = 5 → (n = 4 → (n = 3 → 3을 출력) → 4를 출력) → 5를 출력<br>4. ....</div>"
   ]
  },
  {
   "cell_type": "markdown",
   "metadata": {},
   "source": [
    "- 이러한 성질을 통해 재귀함수로 구현하여 복잡한 과정을 줄일 수 있는 여러 알고리즘에 많이 사용된다.\n",
    "- 다만 주의할 점은 Python은 사용자가 임의로 지정해놓지 않는다면 기본으로 최대 재귀 호출의 횟수가 1000회로 정해져 있다.\n",
    "- 데이터의 수가 많은 알고리즘을 구현하고자 할 때는 처리 속도가 재귀함수를 사용하지 않고 구현할 때보다 느려질 수 있기 때문에 이러한 경우에는 지양하는 것이 좋다."
   ]
  },
  {
   "cell_type": "markdown",
   "metadata": {},
   "source": [
    "## 연습문제"
   ]
  },
  {
   "cell_type": "markdown",
   "metadata": {},
   "source": [
    "### 1.\n",
    "함수에 대한 설명의 옳고 그름을 나타내고 그 이유를 설명하여라.\n",
    "- 함수의 매개변수는 반드시 하나 이상 존재해야 한다.\n",
    "- 함수의 매개변수가 일정하지 않을 때에는 함수를 정의할 수 없다.\n",
    "- 함수의 결과값이 항상 존재하는 것은 아니다.\n",
    "- 이터레이터는 여러 개의 데이터를 탐색할 때 사용하면 효율성이 높아진다."
   ]
  },
  {
   "cell_type": "markdown",
   "metadata": {},
   "source": [
    "### 2.\n",
    "두 숫자의 대소를 비교하고 둘 중 더 작은 숫자를 반환하는 함수를 설계하라. (두 수가 같다면 해당 수를 출력)"
   ]
  },
  {
   "cell_type": "code",
   "execution_count": null,
   "metadata": {},
   "outputs": [],
   "source": [
    "    def function(a, b)\n",
    "    (\n",
    "     -------------------\n",
    "     -------------------\n",
    "     -------------------\n",
    "    )\n",
    "    function(20, 30)"
   ]
  },
  {
   "cell_type": "markdown",
   "metadata": {},
   "source": [
    "#### 실행 결과 : EX) 20은(는) 30보다 작다"
   ]
  },
  {
   "cell_type": "markdown",
   "metadata": {},
   "source": [
    "### 3.\n",
    "입력 값을 받아 해당 값을 출력하는 함수를 설계하라."
   ]
  },
  {
   "cell_type": "code",
   "execution_count": null,
   "metadata": {},
   "outputs": [],
   "source": [
    " def function(a)\n",
    "    (\n",
    "    -----------------\n",
    "    -----------------\n",
    "    )\n",
    "\n",
    "    function(\"my input\")"
   ]
  },
  {
   "cell_type": "markdown",
   "metadata": {},
   "source": [
    "#### 실행 결과 : my input"
   ]
  },
  {
   "cell_type": "markdown",
   "metadata": {},
   "source": [
    "### 4.\n",
    "피보나치 수열을 재귀함수로 구현하라."
   ]
  },
  {
   "cell_type": "markdown",
   "metadata": {},
   "source": [
    "### 5.\n",
    "다음의 함수를 재귀함수 형태로 바꾸어 표현하여라."
   ]
  },
  {
   "cell_type": "code",
   "execution_count": 1,
   "metadata": {},
   "outputs": [
    {
     "data": {
      "text/plain": [
       "120"
      ]
     },
     "execution_count": 1,
     "metadata": {},
     "output_type": "execute_result"
    }
   ],
   "source": [
    "    def func_nonRecursive(num) :\n",
    "        result = 1\n",
    "        for i in range(num, 1, -1) :\n",
    "            result = result * i\n",
    "        return result\n",
    "\n",
    "    func_nonRecursive(5)"
   ]
  },
  {
   "cell_type": "markdown",
   "metadata": {},
   "source": [
    "### 6.\n",
    "아래와 같은 함수가 올바르게 동작하는지 확인하고 아니라면 그 이유를 설명하고 수정하여라."
   ]
  },
  {
   "cell_type": "code",
   "execution_count": null,
   "metadata": {},
   "outputs": [],
   "source": [
    "def initialVal(input1 = 5, input2) \n",
    "        result = input1 + input2\n",
    "        return result\n",
    "\n",
    "initialVal(5)"
   ]
  },
  {
   "cell_type": "markdown",
   "metadata": {},
   "source": [
    "### 7.\n",
    "A 동네의 과일가게에서는 새로운 가격 정책을 마련하였다. 이 과일가게는 총 2가지의 과일을 판매하고 있으며 과일은 다음과 같다.\n",
    "<img src=\"https://user-images.githubusercontent.com/37530732/75523029-97dccb80-5a4e-11ea-8da5-6bc18a68f888.png\" style=\"width: 80%;\"/><br>\n",
    "\n",
    "상품에 따라 가격을 계산하는 함수를 완성하여라."
   ]
  },
  {
   "cell_type": "code",
   "execution_count": null,
   "metadata": {},
   "outputs": [],
   "source": [
    "def Calculator(apple, banana) :\n",
    "    (\n",
    "    --------------------\n",
    "    --------------------\n",
    "    --------------------\n",
    "               )\n",
    "     return result\n",
    "Calculator(10, 2)"
   ]
  },
  {
   "cell_type": "markdown",
   "metadata": {},
   "source": [
    "### 8.\n",
    "다음 함수에서 잘못된 부분을 찾아 수정하여라."
   ]
  },
  {
   "cell_type": "code",
   "execution_count": null,
   "metadata": {},
   "outputs": [],
   "source": [
    " def paramNum(input) : \n",
    "        count = 0\n",
    "        for i in input :\n",
    "            count+=1\n",
    "        return count\n",
    "\n",
    "    a = paramNum(1, 3, 6)\n",
    "    print(a)\n",
    "\n",
    "    b = paramNum('a', 'b', 'c', 'd')\n",
    "    print(b)"
   ]
  },
  {
   "cell_type": "markdown",
   "metadata": {},
   "source": [
    "### 9.\n",
    "다음 함수는 여러 결과 값을 리턴 받는 함수를 활용한 것이다. 다음 코드에 대한 결과를 알맞게 적으시오"
   ]
  },
  {
   "cell_type": "code",
   "execution_count": null,
   "metadata": {},
   "outputs": [],
   "source": [
    " def CalcNumber(*numbers): \n",
    "        count = 0\n",
    "        total = 0\n",
    "        for i in numbers:\n",
    "            count += 1\n",
    "            total += i\n",
    "        return count, total\n",
    "\n",
    "    NumCount, NumTotal = paramNum(1, 3, 6)\n",
    "    print(NumCount, NumTotal)"
   ]
  },
  {
   "cell_type": "markdown",
   "metadata": {},
   "source": [
    "### 10.\n",
    "함수의 인자 값으로, 각각의 과목의 점수를 넣으면 가장 높은 점수와 낮은 점수를 출력하게 하는 사용자 정의 함수를 만들고자 한다. 다음 빈칸에 적절한 코드를 입력하여라 (최대 점수, 최소 점수 2개의 리턴값 사용)"
   ]
  },
  {
   "cell_type": "code",
   "execution_count": null,
   "metadata": {},
   "outputs": [],
   "source": [
    "    kor, eng, math, sci = 95, 100, 76, 95\n",
    "    def getMinMaxScore(kor, eng, math, sci): \n",
    "    (\n",
    "     ------------------------\n",
    "     ------------------------\n",
    "     ------------------------\n",
    "     ------------------------\n",
    "    )\n",
    "    MaxScore, MinScore = getMinMaxScore(kor, eng, math, sci)\n",
    "    print(MaxScore, MinScore)"
   ]
  }
 ],
 "metadata": {
  "kernelspec": {
   "display_name": "Python 3",
   "language": "python",
   "name": "python3"
  },
  "language_info": {
   "codemirror_mode": {
    "name": "ipython",
    "version": 3
   },
   "file_extension": ".py",
   "mimetype": "text/x-python",
   "name": "python",
   "nbconvert_exporter": "python",
   "pygments_lexer": "ipython3",
   "version": "3.7.4"
  }
 },
 "nbformat": 4,
 "nbformat_minor": 2
}
