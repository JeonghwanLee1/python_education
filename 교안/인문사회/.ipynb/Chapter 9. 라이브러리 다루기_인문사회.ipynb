{
 "cells": [
  {
   "cell_type": "markdown",
   "metadata": {},
   "source": [
    "# Chapter 9. 라이브러리 다루기\n",
    "\n",
    "- 컴퓨터 프로그래밍에서 라이브러리란 필요한 기능들을 미리 모아 놓은 집합이라고 할 수 있다.\n",
    "- 지식이 필요할 때 도서관을 찾든 사용자가 필요한 기능을 직접 구현하지 않더라도 소스코드에 추가시킴으로써 사용할 수 있다.\n",
    "- 해당 장에서는 Python의 기본 내장 함수와 표준 라이브러리들에 대하여 알아보도록 한다."
   ]
  },
  {
   "cell_type": "markdown",
   "metadata": {},
   "source": [
    "### 9.1 내장 함수"
   ]
  },
  {
   "cell_type": "markdown",
   "metadata": {},
   "source": [
    "#### 내장 함수의 정의 및 사용\n",
    "- Python에서 모듈이나 패키지를 가져오지 않고 바로 사용할 수 있는 함수를 Python의 내장 함수라고 한다.\n",
    "- 내장 함수는 라이브러리와 달리 import가 필요하지 않고 호출만으로 사용이 가능하다.\n",
    "- Python에는 약 72개의 내장 함수가 존재한다.\n",
    "\n",
    "#### 자주 사용하는 내장 함수 : abs()\n",
    "- 매개변수로 주어진 변수의 절댓값을 반환한다.\n",
    "\n",
    "<div style = \"border : 1px solid green; padding : 8px;\">abs(x) <br>\n",
    "\t<div style = \"color : gray;\"><i>x : 숫자 <br></i></div>\n",
    "</div>\n",
    "\n",
    "#### [abs() 예제]"
   ]
  },
  {
   "cell_type": "code",
   "execution_count": 1,
   "metadata": {
    "scrolled": true
   },
   "outputs": [
    {
     "name": "stdout",
     "output_type": "stream",
     "text": [
      "2\n",
      "2\n",
      "3.14\n"
     ]
    }
   ],
   "source": [
    "print(abs(2))\n",
    "print(abs(-2))\n",
    "print(abs(-3.14))"
   ]
  },
  {
   "cell_type": "markdown",
   "metadata": {},
   "source": [
    "####  all()\n",
    "- 매개변수로 주어진 변수의 부울값이 모두 참이라면 True, 하나라도 거짓이 존재한다면 False를 반환하는 함수이다.\n",
    "\n",
    "<div style = \"border : 1px solid green; padding : 8px;\">all(x) <br>\n",
    "\t<div style = \"color : gray;\"><i>x : 데이터 <br></i></div>\n",
    "</div>\n",
    "\n",
    "#### [all() 예제]"
   ]
  },
  {
   "cell_type": "code",
   "execution_count": 73,
   "metadata": {
    "scrolled": true
   },
   "outputs": [
    {
     "name": "stdout",
     "output_type": "stream",
     "text": [
      "True\n",
      "False\n"
     ]
    }
   ],
   "source": [
    "print(all([1,2,3]))\n",
    "print(all([1,2,0]))"
   ]
  },
  {
   "cell_type": "markdown",
   "metadata": {},
   "source": [
    "#### any()\n",
    "- 매개변수로 주어진 변수의 부울값 중 하나라도 참이라면 True, 모두가 거짓이라면 False를 반환하는 함수이다.\n",
    "\n",
    "<div style = \"border : 1px solid green; padding : 8px;\">any(x)<br>\n",
    "\t<div style = \"color : gray;\"><i>x : 데이터 <br></i></div>\n",
    "</div>\n",
    "\n",
    "#### [any() 예제]"
   ]
  },
  {
   "cell_type": "code",
   "execution_count": 74,
   "metadata": {},
   "outputs": [
    {
     "name": "stdout",
     "output_type": "stream",
     "text": [
      "True\n",
      "True\n",
      "False\n"
     ]
    }
   ],
   "source": [
    "print(any([1,2,3]))\n",
    "print(any([1,2,0]))\n",
    "print(any([0,0,0]))"
   ]
  },
  {
   "cell_type": "markdown",
   "metadata": {},
   "source": [
    "#### dir()\n",
    "- 매개변수가 가지고 있는 내장 함수들과 변수들의 목록을 반환하여 출력하는 함수이다.\n",
    "\n",
    "<div style = \"border : 1px solid green; padding : 8px;\">dir(x)<br>\n",
    "\t<div style = \"color : gray;\"><i></i></div>\n",
    "</div>\n",
    "\n",
    "#### [dir() 예제]"
   ]
  },
  {
   "cell_type": "code",
   "execution_count": 2,
   "metadata": {
    "scrolled": true
   },
   "outputs": [
    {
     "name": "stdout",
     "output_type": "stream",
     "text": [
      "['__add__', '__class__', '__contains__', '__delattr__', '__delitem__', '__dir__', '__doc__', '__eq__', '__format__', '__ge__', '__getattribute__', '__getitem__', '__gt__', '__hash__', '__iadd__', '__imul__', '__init__', '__init_subclass__', '__iter__', '__le__', '__len__', '__lt__', '__mul__', '__ne__', '__new__', '__reduce__', '__reduce_ex__', '__repr__', '__reversed__', '__rmul__', '__setattr__', '__setitem__', '__sizeof__', '__str__', '__subclasshook__', 'append', 'clear', 'copy', 'count', 'extend', 'index', 'insert', 'pop', 'remove', 'reverse', 'sort']\n",
      "['__class__', '__contains__', '__delattr__', '__delitem__', '__dir__', '__doc__', '__eq__', '__format__', '__ge__', '__getattribute__', '__getitem__', '__gt__', '__hash__', '__init__', '__init_subclass__', '__iter__', '__le__', '__len__', '__lt__', '__ne__', '__new__', '__reduce__', '__reduce_ex__', '__repr__', '__setattr__', '__setitem__', '__sizeof__', '__str__', '__subclasshook__', 'clear', 'copy', 'fromkeys', 'get', 'items', 'keys', 'pop', 'popitem', 'setdefault', 'update', 'values']\n"
     ]
    }
   ],
   "source": [
    "print(dir([1,2,3]))\n",
    "print(dir({0:'a',1:'b',2:'c'}))"
   ]
  },
  {
   "cell_type": "markdown",
   "metadata": {},
   "source": [
    "#### divmod()\n",
    "- 앞의 매개변수를 뒤의 매개변수로 나누었을 때의 몫과 나머지를 튜플의 형태로 반환하는 함수이다.\n",
    "\n",
    "<div style = \"border : 1px solid green; padding : 8px;\">divmod(x, y)<br>\n",
    "\t<div style = \"color : gray;\"><i>x, y : 숫자 <br></i></div>\n",
    "</div>\n",
    "\n",
    "#### [divmod() 예제]"
   ]
  },
  {
   "cell_type": "code",
   "execution_count": 1,
   "metadata": {},
   "outputs": [
    {
     "data": {
      "text/plain": [
       "(3, 1)"
      ]
     },
     "execution_count": 1,
     "metadata": {},
     "output_type": "execute_result"
    }
   ],
   "source": [
    "divmod(10,3)"
   ]
  },
  {
   "cell_type": "markdown",
   "metadata": {},
   "source": [
    "#### enumerate()\n",
    "- 순서가 있는 자료형을 입력으로 받아 index를 포함한 객체로 반환하는 함수이다.\n",
    "\n",
    "<div style = \"border : 1px solid green; padding : 8px;\">enumberate(x)<br>\n",
    "\t<div style = \"color : gray;\"><i>x : 순서가 있는 자료형 <br></i></div>\n",
    "</div>\n",
    "\n",
    "#### [enumerate() 예제(1)]"
   ]
  },
  {
   "cell_type": "code",
   "execution_count": 3,
   "metadata": {
    "scrolled": true
   },
   "outputs": [
    {
     "name": "stdout",
     "output_type": "stream",
     "text": [
      "0 first\n",
      "1 second\n",
      "2 third\n"
     ]
    }
   ],
   "source": [
    "for i,element in enumerate(['first','second','third']):\n",
    "    print(i,element)"
   ]
  },
  {
   "cell_type": "markdown",
   "metadata": {},
   "source": [
    "#### [enumerate() 예제(2)]"
   ]
  },
  {
   "cell_type": "code",
   "execution_count": 2,
   "metadata": {
    "scrolled": true
   },
   "outputs": [
    {
     "name": "stdout",
     "output_type": "stream",
     "text": [
      "0 second\n",
      "1 third\n",
      "2 first\n"
     ]
    }
   ],
   "source": [
    "# 집합은 순서가 없는 자료형이기 때문에 무작위로 출력됨\n",
    "for i , element in enumerate({'first', 'second', 'third'}):\n",
    "    print(i , element)"
   ]
  },
  {
   "cell_type": "markdown",
   "metadata": {},
   "source": [
    "#### eval()\n",
    "- 실행 가능한 문자열(ex. 1+2, ‘hi’+ ‘a’)을 입력으로 받아 문자열을 실행한 결과값을 반환하는 함수\n",
    "<div style = \"border : 1px solid green; padding : 8px;\">eval(expression)<br>\n",
    "\t<div style = \"color : gray;\"><i>expression : 연산식 <br></i></div>\n",
    "</div>"
   ]
  },
  {
   "cell_type": "markdown",
   "metadata": {},
   "source": [
    "#### [eval()]"
   ]
  },
  {
   "cell_type": "code",
   "execution_count": 6,
   "metadata": {
    "scrolled": true
   },
   "outputs": [
    {
     "data": {
      "text/plain": [
       "'hia'"
      ]
     },
     "execution_count": 6,
     "metadata": {},
     "output_type": "execute_result"
    }
   ],
   "source": [
    "eval(\" 'hi' + 'a'\")"
   ]
  },
  {
   "cell_type": "markdown",
   "metadata": {},
   "source": [
    "####  filter\n",
    "- 첫 번째 파라미터에는 함수 이름을, 두 번째 파라미터에는 반복 가능한 자료형을 입력하고, 두 번째 파라미터인 반복 가능한 요소가 첫 번째 파라미터인 함수에 입력되었을 때, 반환 값이 참인 것만 걸러내서 반환한다.<br>\n",
    "<div style = \"border : 1px solid green; padding : 8px;\">filter(param1, param2)<br>\n",
    "\t<div style = \"color : gray;\"><i>param : 파라미터<br></i></div>\n",
    "</div>"
   ]
  },
  {
   "cell_type": "markdown",
   "metadata": {},
   "source": [
    "#### [filter()]"
   ]
  },
  {
   "cell_type": "code",
   "execution_count": 7,
   "metadata": {
    "scrolled": true
   },
   "outputs": [
    {
     "name": "stdout",
     "output_type": "stream",
     "text": [
      "[-4, -9, -6]\n"
     ]
    }
   ],
   "source": [
    "def negative(x):\n",
    "    return x < 0\n",
    "    \n",
    "print(list(filter(negative, [1, -4, -9, 2, 3, -6])))"
   ]
  },
  {
   "cell_type": "markdown",
   "metadata": {},
   "source": [
    "#### isinstance()\n",
    "- 첫 번째 파라미터로는 인스턴스, 두 번째 파라미터로는 클래스 이름을 받으며, 입력으로 받은 인스턴스가 두 번째 파라미터로 받은 클래스의 인스턴스인지 아닌지를 판단하여 결과값을 반환한다.\n",
    "<div style = \"border : 1px solid green; padding : 8px;\">isinstance(object, class)<br>\n",
    "</div>"
   ]
  },
  {
   "cell_type": "markdown",
   "metadata": {},
   "source": [
    "#### [isinstance]"
   ]
  },
  {
   "cell_type": "code",
   "execution_count": 8,
   "metadata": {},
   "outputs": [
    {
     "data": {
      "text/plain": [
       "True"
      ]
     },
     "execution_count": 8,
     "metadata": {},
     "output_type": "execute_result"
    }
   ],
   "source": [
    "class Person:\n",
    "    def __init__(self):\n",
    "        self.value = None\n",
    "a = Person()\n",
    "isinstance(a, Person)"
   ]
  },
  {
   "cell_type": "markdown",
   "metadata": {},
   "source": [
    "#### list()\n",
    "- 매개변수로 입력한 변수의 리스트 형태로 형변환하여 반환해 주는 함수이다.\n",
    "\n",
    "<div style = \"border : 1px solid green; padding : 8px;\">list(x)<br>\n",
    "\t<div style = \"color : gray;\"><i>x : 데이터 <br></i></div>\n",
    "</div>\n",
    "\n",
    "#### [list() 예제]"
   ]
  },
  {
   "cell_type": "code",
   "execution_count": 4,
   "metadata": {
    "scrolled": false
   },
   "outputs": [
    {
     "name": "stdout",
     "output_type": "stream",
     "text": [
      "['H', 'e', 'l', 'l', 'o', ' ', 'W', 'o', 'r', 'l', 'd', '!']\n"
     ]
    }
   ],
   "source": [
    "l = list(\"Hello World!\")\n",
    "print(l)"
   ]
  },
  {
   "cell_type": "markdown",
   "metadata": {},
   "source": [
    "#### len()\n",
    "- 매개변수의 크기를 반환하는 함수이다.\n",
    "\n",
    "<div style = \"border : 1px solid green; padding : 8px;\">len(x)<br>\n",
    "\t<div style = \"color : gray;\"><i>x : 데이터 <br></i></div>\n",
    "</div>\n",
    "\n",
    "#### [len() 예제]"
   ]
  },
  {
   "cell_type": "code",
   "execution_count": 82,
   "metadata": {},
   "outputs": [
    {
     "name": "stdout",
     "output_type": "stream",
     "text": [
      "[0, 1, 2, 3, 4, 5, 6, 7, 8, 9]\n"
     ]
    },
    {
     "data": {
      "text/plain": [
       "10"
      ]
     },
     "execution_count": 82,
     "metadata": {},
     "output_type": "execute_result"
    }
   ],
   "source": [
    "lst = range(10)\n",
    "print(list(lst))     #list형태로 변환\n",
    "len(lst)"
   ]
  },
  {
   "cell_type": "markdown",
   "metadata": {},
   "source": [
    "#### max()\n",
    "- 매개변수 중 가장 큰 값을 반환하는 함수이다.\n",
    "\n",
    "<div style = \"border : 1px solid green; padding : 8px;\">max([value1, value2, value 3, … ])<br>\n",
    "\t<div style = \"color : gray;\"><i>value : 숫자, 문자열, 변수<br></i></div>\n",
    "</div>\n",
    "\n",
    "#### [max() 예제]"
   ]
  },
  {
   "cell_type": "code",
   "execution_count": 5,
   "metadata": {
    "scrolled": true
   },
   "outputs": [
    {
     "data": {
      "text/plain": [
       "4"
      ]
     },
     "execution_count": 5,
     "metadata": {},
     "output_type": "execute_result"
    }
   ],
   "source": [
    "max([1,2,3,4])"
   ]
  },
  {
   "cell_type": "code",
   "execution_count": 84,
   "metadata": {},
   "outputs": [
    {
     "data": {
      "text/plain": [
       "'d'"
      ]
     },
     "execution_count": 84,
     "metadata": {},
     "output_type": "execute_result"
    }
   ],
   "source": [
    "max(['a','c','b','d'])"
   ]
  },
  {
   "cell_type": "markdown",
   "metadata": {},
   "source": [
    "#### min()\n",
    "- 매개변수 중 가장 작은 값을 반환하는 함수이다.\n",
    "\n",
    "<div style = \"border : 1px solid green; padding : 8px;\">min([value1, value2, value 3, … ])<br>\n",
    "\t<div style = \"color : gray;\"><i>x : 데이터 객체 <br>value : 숫자, 문자열, 변수</i></div>\n",
    "</div>\n",
    "\n",
    "#### [min() 예제]"
   ]
  },
  {
   "cell_type": "code",
   "execution_count": 85,
   "metadata": {},
   "outputs": [
    {
     "data": {
      "text/plain": [
       "1"
      ]
     },
     "execution_count": 85,
     "metadata": {},
     "output_type": "execute_result"
    }
   ],
   "source": [
    "min([1,2,3,4])"
   ]
  },
  {
   "cell_type": "markdown",
   "metadata": {},
   "source": [
    "#### pow()\n",
    "- 앞의 매개변수의 뒤의 매개변수 승을 계산하여 반환하는 함수이다.\n",
    "\n",
    "<div style = \"border : 1px solid green; padding : 8px;\">pow(x,y)<br>\n",
    "\t<div style = \"color : gray;\"><i>x : 밑 <br> y : 지수<br></i></div>\n",
    "</div>\n",
    "\n",
    "#### [pow() 예제]"
   ]
  },
  {
   "cell_type": "code",
   "execution_count": 86,
   "metadata": {
    "scrolled": true
   },
   "outputs": [
    {
     "data": {
      "text/plain": [
       "8"
      ]
     },
     "execution_count": 86,
     "metadata": {},
     "output_type": "execute_result"
    }
   ],
   "source": [
    "pow(2,3)"
   ]
  },
  {
   "cell_type": "markdown",
   "metadata": {},
   "source": [
    "#### sorted()\n",
    "- 매개변수들을 오름차순으로 정렬하여 반환하는 함수이다.\n",
    "\n",
    "<div style = \"border : 1px solid green; padding : 8px;\">sorted([value1, v5alue2, value3, … ])<br>\n",
    "\t<div style = \"color : gray;\"><i>x : 사용자 입력 <br>value : 숫자, 문자열, 변수</i></div>\n",
    "</div>\n",
    "\n",
    "#### [sorted() 예제]"
   ]
  },
  {
   "cell_type": "code",
   "execution_count": 6,
   "metadata": {},
   "outputs": [
    {
     "name": "stdout",
     "output_type": "stream",
     "text": [
      "[1, 2, 3, 4]\n",
      "['a', 'b', 'c', 'd']\n"
     ]
    }
   ],
   "source": [
    "result = sorted([2,1,4,3])\n",
    "print(result)\n",
    "result = sorted(['b','a','d','c'])\n",
    "print(result)"
   ]
  },
  {
   "cell_type": "markdown",
   "metadata": {},
   "source": [
    "#### str\n",
    "- str(x) 함수는 x를 문자열 형태로 변환하여 반환한다.\n",
    "\n",
    "<div style = \"border : 1px solid green; padding : 5px; width = 50px;\">\n",
    "#str(value)<br>\n",
    "<div style = \"color : gray;\">\n",
    "value : 숫자, 문자열, 변수\n",
    "</div></div>\n",
    "#### [str()의 예제]"
   ]
  },
  {
   "cell_type": "code",
   "execution_count": 7,
   "metadata": {
    "scrolled": true
   },
   "outputs": [
    {
     "name": "stdout",
     "output_type": "stream",
     "text": [
      "3\n",
      "HELLO\n"
     ]
    }
   ],
   "source": [
    "print(str(3))\n",
    "print(str(\"Hello\".upper()))"
   ]
  },
  {
   "cell_type": "markdown",
   "metadata": {},
   "source": [
    "#### sum\n",
    "- sum(x) 함수는 x의 요소들을 모두 합하여 반환한다.\n",
    "\n",
    "<div style = \"border : 1px solid green; padding : 5px; width = 50px;\">\n",
    "#sum([value1, value2, value3, … ])<br>\n",
    "<div style = \"color : gray;\">\n",
    "value : 숫자, 문자열, 변수\n",
    "</div></div>\n",
    "\n",
    "#### [sum()의 예제]"
   ]
  },
  {
   "cell_type": "code",
   "execution_count": 8,
   "metadata": {},
   "outputs": [
    {
     "name": "stdout",
     "output_type": "stream",
     "text": [
      "15\n",
      "45\n"
     ]
    }
   ],
   "source": [
    "print(sum([1,2,3,4,5]))\n",
    "_list = range(1,10)\n",
    "print(sum(_list))     #1부터 9까지의 합"
   ]
  },
  {
   "cell_type": "markdown",
   "metadata": {},
   "source": [
    "#### type\n",
    "- type(x) 함수는 x의 형태를 반환한다."
   ]
  },
  {
   "cell_type": "code",
   "execution_count": 9,
   "metadata": {},
   "outputs": [
    {
     "name": "stdout",
     "output_type": "stream",
     "text": [
      "<class 'float'>\n",
      "<class 'list'>\n",
      "<class 'dict'>\n"
     ]
    }
   ],
   "source": [
    "print(type(1.0))\n",
    "print(type([1,2,3]))\n",
    "print(type({1:'a',2:'b',3:'c'}))"
   ]
  },
  {
   "cell_type": "markdown",
   "metadata": {},
   "source": [
    "### 9.2 표준 라이브러리\n",
    "- 내장 함수와 유사하게 별도의 설치 없이 사용할 수 있는 모듈, 패키지를 표준 라이브러리라고 한다.\n",
    "- 내장 함수는 별도의 추가 없이 사용 가능하지만 표준 라이브러리는 소스코드에 import 하여 사용하여야 한다.\n",
    "\n",
    "<div style = \"border : 1px solid green; padding : 5px; width = 50px;\">\n",
    "#import command<br>\n",
    "<div style = \"color : gray;\">\n",
    "command : 명령어\n",
    "</div></div>\n",
    "\n",
    "#### [라이브러리 import 예제]"
   ]
  },
  {
   "cell_type": "code",
   "execution_count": 91,
   "metadata": {},
   "outputs": [
    {
     "data": {
      "text/plain": [
       "2.0"
      ]
     },
     "execution_count": 91,
     "metadata": {},
     "output_type": "execute_result"
    }
   ],
   "source": [
    "import math\n",
    "math.sqrt(4)    #제곱근을 구하는 함수"
   ]
  },
  {
   "cell_type": "markdown",
   "metadata": {},
   "source": [
    "- 프로그래밍에 필요한 중요한 기능들을 제공한다.\n",
    "- 시간 다루기, 파일 디렉토리 다루기, 무작위 수 뽑기 등에 활용이 가능하다."
   ]
  },
  {
   "cell_type": "markdown",
   "metadata": {},
   "source": [
    "#### as\n",
    "다음과 같이 as 명령어를 통해 alias를 지칭해 줄 수 있다."
   ]
  },
  {
   "cell_type": "code",
   "execution_count": 92,
   "metadata": {},
   "outputs": [
    {
     "data": {
      "text/plain": [
       "2.0"
      ]
     },
     "execution_count": 92,
     "metadata": {},
     "output_type": "execute_result"
    }
   ],
   "source": [
    "import math as mth\n",
    "mth.sqrt(4)"
   ]
  },
  {
   "cell_type": "markdown",
   "metadata": {},
   "source": [
    "라이브러리 전체가 아닌 필요한 함수만 import 할 수 있다."
   ]
  },
  {
   "cell_type": "code",
   "execution_count": 93,
   "metadata": {},
   "outputs": [
    {
     "data": {
      "text/plain": [
       "2.0"
      ]
     },
     "execution_count": 93,
     "metadata": {},
     "output_type": "execute_result"
    }
   ],
   "source": [
    "from math import sqrt\n",
    "sqrt(4)"
   ]
  },
  {
   "cell_type": "markdown",
   "metadata": {},
   "source": [
    "#### os.getcwd()\n",
    "- 디렉토리에서 현재 경로를 반환하는 함수이다.\n",
    "<div style = \"border : 1px solid green; padding : 5px; width = 50px;\">\n",
    "os.getcwd()<br></div>"
   ]
  },
  {
   "cell_type": "code",
   "execution_count": 9,
   "metadata": {
    "scrolled": true
   },
   "outputs": [
    {
     "data": {
      "text/plain": [
       "'C:\\\\Users\\\\taesu\\\\Desktop\\\\ipynb_'"
      ]
     },
     "execution_count": 9,
     "metadata": {},
     "output_type": "execute_result"
    }
   ],
   "source": [
    "import os\n",
    "os.getcwd()"
   ]
  },
  {
   "cell_type": "markdown",
   "metadata": {},
   "source": [
    "#### os.listdir()\n",
    "- 특정 경로에 존재하는 파일과 디렉토리 목록을 반환한다.\n",
    "<div style = \"border : 1px solid green; padding : 5px; width = 50px;\">\n",
    "os.listdir()<br></div>"
   ]
  },
  {
   "cell_type": "markdown",
   "metadata": {},
   "source": [
    "#### time\n",
    "- time 모듈은 시간과 관련된 여러 유용한 프로그램들을 제공한다. import 명령어를 통해 time 라이브러리를 삽입하자."
   ]
  },
  {
   "cell_type": "code",
   "execution_count": 11,
   "metadata": {},
   "outputs": [],
   "source": [
    "import time"
   ]
  },
  {
   "cell_type": "markdown",
   "metadata": {},
   "source": [
    "<div style = \"border : 1px solid green; padding : 5px; width = 50px;\">\n",
    "time.time()<br>\n",
    "<div style = \"color : gray;\">\n",
    "\n",
    "</div></div>\n",
    "\n",
    "- time.time() 함수는 1970년 1월 1일 0시 0분을 기준으로 지나간 시간을 실수 형태로 리턴해준다.\n",
    "\n",
    "#### [time.time 예제]"
   ]
  },
  {
   "cell_type": "code",
   "execution_count": 95,
   "metadata": {},
   "outputs": [
    {
     "data": {
      "text/plain": [
       "1575871418.980835"
      ]
     },
     "execution_count": 95,
     "metadata": {},
     "output_type": "execute_result"
    }
   ],
   "source": [
    "time.time()"
   ]
  },
  {
   "cell_type": "markdown",
   "metadata": {},
   "source": [
    "<div style = \"border : 1px solid green; padding : 5px; width = 50px;\">\n",
    "time.localtime(time.ctime())<br>\n",
    "<div style = \"color : gray;\">\n",
    "\n",
    "</div></div>\n",
    "\n",
    "- time.localtime() 함수는 time.time()이 반환한 실수 값을 보기 쉽게 변환해준다.\n",
    "\n",
    "#### [time.localtime() 예제]"
   ]
  },
  {
   "cell_type": "code",
   "execution_count": 12,
   "metadata": {},
   "outputs": [
    {
     "data": {
      "text/plain": [
       "time.struct_time(tm_year=2020, tm_mon=2, tm_mday=27, tm_hour=13, tm_min=25, tm_sec=44, tm_wday=3, tm_yday=58, tm_isdst=0)"
      ]
     },
     "execution_count": 12,
     "metadata": {},
     "output_type": "execute_result"
    }
   ],
   "source": [
    "time.localtime(time.time())"
   ]
  },
  {
   "cell_type": "code",
   "execution_count": 97,
   "metadata": {},
   "outputs": [
    {
     "name": "stdout",
     "output_type": "stream",
     "text": [
      "2019 년\n",
      "12 월\n",
      "9 일\n",
      "15 시\n",
      "3 분\n",
      "12 초\n"
     ]
    }
   ],
   "source": [
    "now = time.localtime(time.time())\n",
    "print(now.tm_year,'년')\n",
    "print(now.tm_mon,'월')\n",
    "print(now.tm_mday,'일')\n",
    "print(now.tm_hour,'시')\n",
    "print(now.tm_min,'분')\n",
    "print(now.tm_mon,'초')"
   ]
  },
  {
   "cell_type": "markdown",
   "metadata": {},
   "source": [
    "<div style = \"border : 1px solid green; padding : 5px; width = 50px;\">\n",
    "time.asctime(time.localtime(time.time()))<br>\n",
    "<div style = \"color : gray;\">\n",
    "\n",
    "</div></div>\n",
    "\n",
    "- time.asctime() 함수는 time.loacltime()이 반환한 값을 더 보기 쉽게 변환해준다\n",
    "\n",
    "#### [time.asctime() 예제]"
   ]
  },
  {
   "cell_type": "code",
   "execution_count": 13,
   "metadata": {},
   "outputs": [
    {
     "data": {
      "text/plain": [
       "'Thu Feb 27 13:27:04 2020'"
      ]
     },
     "execution_count": 13,
     "metadata": {},
     "output_type": "execute_result"
    }
   ],
   "source": [
    "time.asctime(time.localtime(time.time()))"
   ]
  },
  {
   "cell_type": "markdown",
   "metadata": {},
   "source": [
    "<div style = \"border : 1px solid green; padding : 5px; width = 50px;\">\n",
    "time.ctime()<br>\n",
    "<div style = \"color : gray;\">\n",
    "\n",
    "</div></div>\n",
    "\n",
    "- time.ctime() 함수는 위의 일련의 작업들인 time.asctime(time.localtime(time.time())) 를 한번에 수행해준다.\n",
    "\n",
    "#### [time.ctime() 예제]"
   ]
  },
  {
   "cell_type": "code",
   "execution_count": 99,
   "metadata": {},
   "outputs": [
    {
     "data": {
      "text/plain": [
       "'Mon Dec  9 15:03:40 2019'"
      ]
     },
     "execution_count": 99,
     "metadata": {},
     "output_type": "execute_result"
    }
   ],
   "source": [
    "time.ctime()"
   ]
  },
  {
   "cell_type": "markdown",
   "metadata": {},
   "source": [
    "#### random 모듈\n",
    "- random 모듈은 난수 생성과 관련된 여러 유용한 프로그램들을 제공한다. import 명령어를 통해 random 라이브러리를 삽입하자."
   ]
  },
  {
   "cell_type": "code",
   "execution_count": 12,
   "metadata": {},
   "outputs": [],
   "source": [
    "import random as rd     #alias를 활용"
   ]
  },
  {
   "cell_type": "markdown",
   "metadata": {},
   "source": [
    "<div style = \"border : 1px solid green; padding : 5px; width = 50px;\">\n",
    "random.random()<br>\n",
    "<div style = \"color : gray;\">\n",
    "\n",
    "</div></div>\n",
    "\n",
    "random.random() 함수는 0.0과 1.0사이의 랜덤한 실수를 생성한다.\n",
    "\n",
    "#### [random.random() 예제]"
   ]
  },
  {
   "cell_type": "code",
   "execution_count": 13,
   "metadata": {},
   "outputs": [
    {
     "data": {
      "text/plain": [
       "0.3434217283128249"
      ]
     },
     "execution_count": 13,
     "metadata": {},
     "output_type": "execute_result"
    }
   ],
   "source": [
    "rd.random()"
   ]
  },
  {
   "cell_type": "markdown",
   "metadata": {},
   "source": [
    "<div style = \"border : 1px solid green; padding : 5px; width = 50px;\">\n",
    "rd .random (x, y)<br>\n",
    "<div style = \"color : gray;\">\n",
    "x, y : 정수\n",
    "</div></div>\n",
    "\n",
    "- random.randint(x,y) 함수는 x과 y사이의 랜덤한 정수를 생성한다.\n",
    "\n",
    "#### [rd .random () 예제]"
   ]
  },
  {
   "cell_type": "code",
   "execution_count": 16,
   "metadata": {},
   "outputs": [
    {
     "data": {
      "text/plain": [
       "6"
      ]
     },
     "execution_count": 16,
     "metadata": {},
     "output_type": "execute_result"
    }
   ],
   "source": [
    "rd.randint(1,10)     #1과 10사이의 난수 생성"
   ]
  },
  {
   "cell_type": "code",
   "execution_count": 104,
   "metadata": {
    "scrolled": true
   },
   "outputs": [
    {
     "name": "stdout",
     "output_type": "stream",
     "text": [
      "7\n",
      "7\n",
      "1\n",
      "8\n",
      "9\n"
     ]
    }
   ],
   "source": [
    "for _ in range(5):\n",
    "    print(rd.randint(1,10))     #1과 10사이의 난수 5개 생성"
   ]
  },
  {
   "cell_type": "markdown",
   "metadata": {},
   "source": [
    "<div style = \"border : 1px solid green; padding : 5px; width = 50px;\">\n",
    "random.choice(value)<br>\n",
    "<div style = \"color : gray;\">\n",
    "value : 요소\n",
    "</div></div>\n",
    "\n",
    "- random.choice(x) 함수는 x의 요소들 중 하나를 임의로 선택하여 반환한다.\n",
    "\n",
    "#### [random.choice() 예제]"
   ]
  },
  {
   "cell_type": "code",
   "execution_count": 14,
   "metadata": {},
   "outputs": [
    {
     "data": {
      "text/plain": [
       "'돼지'"
      ]
     },
     "execution_count": 14,
     "metadata": {},
     "output_type": "execute_result"
    }
   ],
   "source": [
    "Animals = [\"개\",\"고양이\",\"돼지\",\"소\"]\n",
    "rd.choice(Animals)"
   ]
  },
  {
   "cell_type": "markdown",
   "metadata": {},
   "source": [
    "<div style = \"border : 1px solid green; padding : 5px; width = 50px;\">\n",
    "#random.shuffle(lst)<br>\n",
    "<div style = \"color : gray;\">\n",
    "lst : 리스트\n",
    "</div></div>\n",
    "\n",
    "- 매개변수로 주어진 리스트의 순서를 무작위로 변경하여 반환하는 함수이다.\n",
    "\n",
    "#### [random.shuffle() 예제]"
   ]
  },
  {
   "cell_type": "code",
   "execution_count": 106,
   "metadata": {},
   "outputs": [
    {
     "data": {
      "text/plain": [
       "[3, 2, 5, 1, 4]"
      ]
     },
     "execution_count": 106,
     "metadata": {},
     "output_type": "execute_result"
    }
   ],
   "source": [
    "lst = [1,2,3,4,5]\n",
    "rd.shuffle(lst)\n",
    "lst"
   ]
  },
  {
   "cell_type": "markdown",
   "metadata": {},
   "source": [
    "#### sys.argv\n",
    "- 명령 행에서 컴파일 하는 Python 코드에 인수를 전달하는 함수이다.\n",
    "<div style = \"border : 1px solid green; padding : 5px; width = 50px;\">\n",
    "sys.argv<br></div>"
   ]
  },
  {
   "cell_type": "markdown",
   "metadata": {},
   "source": [
    "#### sys.exit\n",
    "- 강제로 대화형 인터프리터를 종료하는 기능을 가진 함수이다.\n",
    "<div style = \"border : 1px solid green; padding : 5px; width = 50px;\">\n",
    "sys.exit<br></div>"
   ]
  },
  {
   "cell_type": "markdown",
   "metadata": {},
   "source": [
    "#### sys.path\n",
    "- Python 모듈들이 저장된 위치를 나타낸다.. 즉 이 위치에 있는 Python 모듈은 경로에 상관없이 어디서나 불러올 수 있다.\n",
    "<div style = \"border : 1px solid green; padding : 5px; width = 50px;\">\n",
    "sys.path<br></div>"
   ]
  },
  {
   "cell_type": "markdown",
   "metadata": {},
   "source": [
    "#### shutill.copy\n",
    "- 파일을 복사해주는 Python 모듈이다.\n",
    "- copy의 두 번째 파라미터가 디렉토리의 이름이라면 첫 번째 파라미터의 파일의 이름으로 해당 디렉토리에 복사하고 동일한 파일 이름이 있을 경우에는 덮어쓴다\n",
    "<div style = \"border : 1px solid green; padding : 5px; width = 50px;\">\n",
    "shutill.copy<br></div>"
   ]
  },
  {
   "cell_type": "markdown",
   "metadata": {},
   "source": [
    "## 연습문제\n",
    "\n",
    "### 1.\n",
    "아래의 코드를 활용하여 리스트를 입력 받아 최댓값과 최솟값의 합을 반환하는 프로그램을 작성해보자."
   ]
  },
  {
   "cell_type": "code",
   "execution_count": null,
   "metadata": {},
   "outputs": [],
   "source": [
    "    def min_max_sum(x):\n",
    "        result = 0\n",
    "        return result\n",
    "    min_max_sum"
   ]
  },
  {
   "cell_type": "markdown",
   "metadata": {},
   "source": [
    "### 2.\n",
    "아래의 코드를 활용하여 리스트를 입력 받아 리스트 요소의 개수를 n이라고 할 때, 1부터 n까지의 합을 반환하는 프로그램을 작성해보자."
   ]
  },
  {
   "cell_type": "code",
   "execution_count": null,
   "metadata": {},
   "outputs": [],
   "source": [
    "    def len_sum(x):\n",
    "        result = 0\n",
    "        return result\n",
    "    len_sum([10, 20, 30, 40, 50])"
   ]
  },
  {
   "cell_type": "markdown",
   "metadata": {},
   "source": [
    "#### 실행결과 : 15"
   ]
  },
  {
   "cell_type": "markdown",
   "metadata": {},
   "source": [
    "### 3.\n",
    "1부터 45까지의 6개의 난수를 생성하는 로또 프로그램을 while문, for문 두 가지의 형태로 작성해보자. 단, 중복된 숫자는 나오지 않아야 한다."
   ]
  },
  {
   "cell_type": "code",
   "execution_count": null,
   "metadata": {},
   "outputs": [],
   "source": [
    "    #random 라이브러리 활용\n",
    "    #import random"
   ]
  },
  {
   "cell_type": "markdown",
   "metadata": {},
   "source": [
    "#### 실행결과 : Ex) 1, 6, 39, 20, 33, 45"
   ]
  },
  {
   "cell_type": "markdown",
   "metadata": {},
   "source": [
    "### 4.\n",
    "아래 코드에 대해 쓰인 내장함수의 기능과 결과의 이유를 작성하여라."
   ]
  },
  {
   "cell_type": "code",
   "execution_count": 2,
   "metadata": {},
   "outputs": [
    {
     "name": "stdout",
     "output_type": "stream",
     "text": [
      "True\n"
     ]
    }
   ],
   "source": [
    "print(all([1, 2, 3, 4,'False']))"
   ]
  },
  {
   "cell_type": "markdown",
   "metadata": {},
   "source": [
    "### 5.\n",
    "Python의 math라이브러리에서 사용할 수 있는 함수는 대표적으로 sqrt() 함수가 있다. 이 외에도 어떤 함수가 있는지 조사하여라."
   ]
  }
 ],
 "metadata": {
  "kernelspec": {
   "display_name": "Python 3",
   "language": "python",
   "name": "python3"
  },
  "language_info": {
   "codemirror_mode": {
    "name": "ipython",
    "version": 3
   },
   "file_extension": ".py",
   "mimetype": "text/x-python",
   "name": "python",
   "nbconvert_exporter": "python",
   "pygments_lexer": "ipython3",
   "version": "3.7.4"
  }
 },
 "nbformat": 4,
 "nbformat_minor": 2
}
