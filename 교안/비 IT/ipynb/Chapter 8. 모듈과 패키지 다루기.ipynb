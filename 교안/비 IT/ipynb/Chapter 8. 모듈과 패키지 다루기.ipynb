{
 "cells": [
  {
   "cell_type": "markdown",
   "metadata": {},
   "source": [
    "# 8. 모듈과 패키지 다루기"
   ]
  },
  {
   "cell_type": "markdown",
   "metadata": {},
   "source": [
    "- 앞서 진행한 학습에서 간간히 import를 통해 모듈을 사용한 경우가 있었을 것이다. 이번 단원에서는 본격적으로 모듈과 패키지를 어떻게 사용하는지에 대해 학습한다."
   ]
  },
  {
   "cell_type": "markdown",
   "metadata": {},
   "source": [
    "### 8.1 모듈과 패키지"
   ]
  },
  {
   "cell_type": "markdown",
   "metadata": {},
   "source": [
    "#### 모듈의 사용\n",
    "- 모듈이란 함수나 변수, 혹은 클래스 등을 따로 모아 놓은 파일이다.\n",
    "- '.py' 확장자로 끝나는 파일은 모두 모듈로써 사용할 수 있다.\n",
    "- import 명령어를 통해 모듈을 가져온다.\n",
    "\n",
    "-  모듈은 앞서 확인할 수 있었던 것 처럼 미리 만들어진 모듈 역시 사용할 수 있으며 사용자가 직접 .py파일을 통해 작성 후에 모듈로 사용할 수도 있다.\n",
    "\n",
    "<div style = \"border : 1px solid green; padding : 5px; width = 50px;\">\n",
    "import module<br>\n",
    "<div style = \"color : gray;\">\n",
    "module : 모듈 명\n",
    "</div></div>\n",
    "\n",
    "- 또한 여러개의 모듈을 한 번에 불러올 수 있다.\n",
    "- 모듈이 포함한 변수나 함수, 클래스를 사용하려면 다음과 같이 쓴다.\n",
    "\n",
    "<div style = \"border : 1px solid green; padding : 5px; width = 50px;\">\n",
    "모듈.변수 <br>\n",
    "모듈.함수() <br>\n",
    "모듈.클래스\n",
    "<div style = \"color : gray;\">\n",
    "\n",
    "</div></div>\n",
    "\n",
    "#### [import를 통한 re모듈 사용]"
   ]
  },
  {
   "cell_type": "code",
   "execution_count": 2,
   "metadata": {},
   "outputs": [
    {
     "name": "stdout",
     "output_type": "stream",
     "text": [
      "<re.Match object; span=(0, 5), match='abccd'>\n"
     ]
    }
   ],
   "source": [
    "import re   # 앞서 다룬 정규표현식을 위한 모듈이다.\n",
    "pattern = re.compile('[a-z]+')\n",
    "print(pattern.search('abccd'))"
   ]
  },
  {
   "cell_type": "markdown",
   "metadata": {},
   "source": [
    "#### [import를 통한 random모듈 사용]"
   ]
  },
  {
   "cell_type": "code",
   "execution_count": 3,
   "metadata": {},
   "outputs": [
    {
     "data": {
      "text/plain": [
       "44"
      ]
     },
     "execution_count": 3,
     "metadata": {},
     "output_type": "execute_result"
    }
   ],
   "source": [
    "import random\n",
    "def ran_num() :\n",
    "    # 범위 내 임의의 정수를 출력\n",
    "    num = random.randint(0, 100)\n",
    "    return num\n",
    "ran_num()"
   ]
  },
  {
   "cell_type": "markdown",
   "metadata": {},
   "source": [
    "- from을 통해 모듈의 특정 변수, 함수, 클래스만을 가져올 수 있다.\n",
    "\n",
    "#### [from을 통한 모듈 일부 사용]"
   ]
  },
  {
   "cell_type": "code",
   "execution_count": 4,
   "metadata": {
    "scrolled": true
   },
   "outputs": [
    {
     "data": {
      "text/plain": [
       "72"
      ]
     },
     "execution_count": 4,
     "metadata": {},
     "output_type": "execute_result"
    }
   ],
   "source": [
    "from random import randrange\n",
    "\n",
    "def ran_range() :\n",
    "    # random 모듈의 randrange 함수를 import\n",
    "    # 랜덤한 3의 배수를 출력\n",
    "    num = randrange(0, 100, 3)\n",
    "    return num\n",
    "\n",
    "ran_range()"
   ]
  },
  {
   "cell_type": "markdown",
   "metadata": {},
   "source": [
    "- as 명령어를 통해 사용하고자 하는 모듈이나 모듈 내의 기능에 따로 이름을 지정해 사용할 수 있다.\n",
    "- as 명령어는 from 명령어와 함께 사용하는 것이 가능하다.\n",
    "\n",
    "<div style = \"border : 1px solid green; padding : 5px; width = 50px;\">\n",
    "import module as name<br>\n",
    "<div style = \"color : gray;\">\n",
    "module : 모듈 명 <br>\n",
    "name : 지정한 이름 <br>\n",
    "</div></div>\n",
    "\n",
    "#### [as의 사용]"
   ]
  },
  {
   "cell_type": "code",
   "execution_count": 5,
   "metadata": {},
   "outputs": [
    {
     "data": {
      "text/plain": [
       "69"
      ]
     },
     "execution_count": 5,
     "metadata": {},
     "output_type": "execute_result"
    }
   ],
   "source": [
    "from random import randrange as ran\n",
    "def ran_range() :\n",
    "    # ran으로 해당 함수 사용\n",
    "    num = ran(0, 100, 3)\n",
    "    return num\n",
    "ran_range()"
   ]
  },
  {
   "cell_type": "markdown",
   "metadata": {},
   "source": [
    "#### 패키지의 정의 및 사용"
   ]
  },
  {
   "cell_type": "markdown",
   "metadata": {},
   "source": [
    "- 패키지란 특정 기능에 따라 이에 관련된 모듈들을 모아둔 것이다.\n",
    "- 패키지 내의 모듈을 사용하기 위해서는 ‘.’을 통해 단계적으로 사용하는 것이 가능하다.\n",
    "- 패키지 역시 모듈과 동일하게 import를 사용한다.\n",
    "\n",
    "<div style = \"border : 1px solid green; padding : 5px; width = 50px;\">\n",
    "import package.module<br>\n",
    "<div style = \"color : gray;\">\n",
    "package : 패키지 명 <br>\n",
    "module : 모듈 명\n",
    "</div></div>\n",
    "\n",
    "- 패키지 내 모듈의 일부분을 사용하기 위해 from을 사용한다.\n",
    "\n",
    "<div style = \"border : 1px solid green; padding : 5px; width = 50px;\">\n",
    "from package.module import function<br>\n",
    "<div style = \"color : gray;\">\n",
    "package : 패키지 명<br>\n",
    "module : 모듈 명<br>\n",
    "function : 함수 명\n",
    "</div></div>\n",
    "\n",
    "- as를 통해 이름을 지정해 줄 수 있다.\n",
    "\n",
    "<div style = \"border : 1px solid green; padding : 5px; width = 50px;\">\n",
    "import package.module as name<br>\n",
    "<div style = \"color : gray;\">\n",
    "package : 패키지 명<br>\n",
    "module : 모듈 명<br>\n",
    "name : 지정한 이름\n",
    "</div></div>"
   ]
  },
  {
   "cell_type": "markdown",
   "metadata": {},
   "source": [
    "## 연습문제\n",
    "\n",
    "### 1.\n",
    "모듈과 패키지의 차이를 서술하라.\n",
    "\n",
    "### 2.\n",
    "디렉토리에 간단히 덧셈 및 곱셈 함수인 add(), multiple()을 설계하고 해당 위치에 import를 통해 사용하여 결과를 확인하라.\n",
    "\n",
    "- add(10, 7)\n",
    "- multiple(10, 7)\n",
    "\n",
    "<br>\n",
    "실행 결과 : <br>\n",
    "17 <br>\n",
    "70<br>"
   ]
  }
 ],
 "metadata": {
  "kernelspec": {
   "display_name": "Python 3",
   "language": "python",
   "name": "python3"
  },
  "language_info": {
   "codemirror_mode": {
    "name": "ipython",
    "version": 3
   },
   "file_extension": ".py",
   "mimetype": "text/x-python",
   "name": "python",
   "nbconvert_exporter": "python",
   "pygments_lexer": "ipython3",
   "version": "3.7.4"
  }
 },
 "nbformat": 4,
 "nbformat_minor": 2
}
