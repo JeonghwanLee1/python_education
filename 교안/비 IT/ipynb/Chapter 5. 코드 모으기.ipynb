{
 "cells": [
  {
   "cell_type": "markdown",
   "metadata": {},
   "source": [
    "# Chapter 5. 코드 모으기"
   ]
  },
  {
   "cell_type": "markdown",
   "metadata": {},
   "source": [
    "- 실제로 프로그래밍을 할 때, 반복되는 수 많은 업무를 위해서 같은 자료형으로 객체를 생성하고 업무를 처리하고 값을 저장하는 일을 매번 새롭게 하게 된다면 의미없는 반복작업을 할 때가 많을 것이다. 이를 위해서 파이썬에서는 함수(Function)를 제공한다. \n",
    "\n",
    "- 간단히 말해서 하나의 기능이나 용도를 기준으로 코드를 모아놓고 필요할 때 꺼내서 사용할 수 있도록 지원하는 것인데 이번 단원에서는 이러한 함수를 구성하고 있는 요소와 적절한 사용법과 응용 방법, 주의할 점에 대해 살펴볼 것이다."
   ]
  },
  {
   "cell_type": "markdown",
   "metadata": {},
   "source": [
    "### 5.1 함수(Function)\n",
    "\n",
    "- 입력값을 받아 특정 코드를 수행한 후 그 결과물을 반환한다.\n",
    "- 특정 기능이나 용도에 따른 기준으로 코드를 구현하여 함수로 저장한다.\n",
    "\n",
    "<div style = \"border : 1px solid green; padding : 5px; width = 50px;\">\n",
    "#def func(arg) :<br>\n",
    "# &nbsp; return result<br> \n",
    "    \n",
    "<div style = \"color : gray;\">\n",
    "func : 함수 명<br>\n",
    "arg : 매개변수<br>\n",
    "result : 반환 값\n",
    "\n",
    "</div></div>\n",
    "#### [함수 기초 예제]"
   ]
  },
  {
   "cell_type": "markdown",
   "metadata": {},
   "source": [
    "#### 함수의 기본 구조"
   ]
  },
  {
   "cell_type": "code",
   "execution_count": 1,
   "metadata": {},
   "outputs": [],
   "source": [
    "def func() :     # 함수의 정의\n",
    "    print('함수입니다.')     # 함수의 내용\n",
    "    return True             # 함수가 반환하는 값"
   ]
  },
  {
   "cell_type": "code",
   "execution_count": 2,
   "metadata": {
    "scrolled": true
   },
   "outputs": [
    {
     "name": "stdout",
     "output_type": "stream",
     "text": [
      "함수입니다.\n"
     ]
    },
    {
     "data": {
      "text/plain": [
       "True"
      ]
     },
     "execution_count": 2,
     "metadata": {},
     "output_type": "execute_result"
    }
   ],
   "source": [
    "func()     # 함수의 호출"
   ]
  },
  {
   "cell_type": "markdown",
   "metadata": {},
   "source": [
    "- 파이썬에서는 def 함수명(매개변수) : 의 형태로 함수를 정의하고 사용할 수 있다."
   ]
  },
  {
   "cell_type": "markdown",
   "metadata": {},
   "source": [
    "#### 매개변수\n",
    "- 수학적인 함수의 경우 입력 값이 들어가게 되면 그에 따른 결과를 나타내게 되는데 이 때의 입력 값에 해당하는 것이 매개변수이다.\n",
    "- 매개변수는 함수의 괄호‘()’내에 들어가며 상황에 따라 여러 개의 매개변수를 사용하거나 아예 사용하지 않는 경우도 있다.\n",
    "\n",
    "#### return 값\n",
    "- return 값은 위에서 설명한 수학적인 함수에서 받은 입력값에 대한 결과값을 나타낸다. - 특정 함수에 입력이 들어가면 그에 대한 결과를 return 값으로 표현하며 상황에 따라 return 값이 없는 함수를 사용하는 경우도 있다.\n",
    "\n",
    "#### 함수의 호출\n",
    "- 함수의 호출은 미리 생성된 함수를 가져와 사용한다는 것을 의미한다.\n",
    "- 매개변수를 가진 함수를 호출하게 되면 사용할 인수를 매개변수로 사용하며 실행된 결과로 return값을 반환한다.\n",
    "\n",
    "#### [함수의 호출]"
   ]
  },
  {
   "cell_type": "code",
   "execution_count": 1,
   "metadata": {},
   "outputs": [
    {
     "data": {
      "text/plain": [
       "8"
      ]
     },
     "execution_count": 1,
     "metadata": {},
     "output_type": "execute_result"
    }
   ],
   "source": [
    "def add(a, b) : # 매개변수로 a와 b를 가지는 함수\n",
    "    num = a + b  \n",
    "    return num  # 함수가 반환하는 출력값\n",
    "\n",
    "add(3, 5)  # 함수의 사용"
   ]
  },
  {
   "cell_type": "markdown",
   "metadata": {},
   "source": [
    "- return값이 없는 형태로 함수를 구현하여 사용할 수 있다.\n",
    "- return값이 없기 때문에 출력하게 되면 None이라는 결과를 보인다."
   ]
  },
  {
   "cell_type": "markdown",
   "metadata": {},
   "source": [
    "#### [return 값이 없는 함수]"
   ]
  },
  {
   "cell_type": "code",
   "execution_count": 16,
   "metadata": {},
   "outputs": [
    {
     "name": "stdout",
     "output_type": "stream",
     "text": [
      "8\n",
      "None\n"
     ]
    }
   ],
   "source": [
    "def noReturn(a, b) :\n",
    "    print(a+b)  # return 없이 출력만 하는 함수\n",
    "a = noReturn(3, 5) # 출력만 실행된다.\n",
    "print(a)  # return이 없으므로 none"
   ]
  },
  {
   "cell_type": "markdown",
   "metadata": {},
   "source": [
    "#### [매개변수가 없는 함수]"
   ]
  },
  {
   "cell_type": "code",
   "execution_count": 7,
   "metadata": {},
   "outputs": [
    {
     "data": {
      "text/plain": [
       "'매개변수가 없는 함수'"
      ]
     },
     "execution_count": 7,
     "metadata": {},
     "output_type": "execute_result"
    }
   ],
   "source": [
    "def noParam() : # 매개변수 없이 괄호만 사용\n",
    "    a = '매개변수가 없는 함수'\n",
    "    return a\n",
    "noParam()    # 호출"
   ]
  },
  {
   "cell_type": "markdown",
   "metadata": {},
   "source": [
    "- 매개변수가 없는 형태로 함수를 구현하여 사용할 수 있다.\n",
    "- 위의 예시에서 add()함수처럼 같은 결과를 보인다고 생각할 수 있다. 하지만 noReturn() 함수를 변수 a에 저장한 후 출력해 보면 None이라는 것을 알 수 있는데 이는 return값으로 아무 것도 가지지 않는다는 것을 의미한다."
   ]
  },
  {
   "cell_type": "markdown",
   "metadata": {},
   "source": [
    "#### [매개변수와 return값이 없는 함수]"
   ]
  },
  {
   "cell_type": "code",
   "execution_count": 2,
   "metadata": {},
   "outputs": [
    {
     "name": "stdout",
     "output_type": "stream",
     "text": [
      "함수입니다.\n"
     ]
    }
   ],
   "source": [
    "def noBoth() :\n",
    "    print('함수입니다.') # 매개변수도, return 값도 없다.\n",
    "noBoth() # 호출"
   ]
  },
  {
   "cell_type": "markdown",
   "metadata": {},
   "source": [
    "#### 함수 심화\n",
    "\n",
    "- 매개변수의 수가 일정하지 않을 때에도 함수를 구현할 수 있다.\n",
    "- 매개변수의 수에 따라 적절하게 함수의 결과가 출력된다.\n",
    "- '*'를 매개변수 앞에 사용하는 것으로 여러 개의 매개변수를 받을 수 있음을 명시한다.\n",
    "\n",
    "#### [매개변수의 수가 일정하지 않을 때]"
   ]
  },
  {
   "cell_type": "code",
   "execution_count": 3,
   "metadata": {},
   "outputs": [],
   "source": [
    "def paramNum(*args) : # 파라미터의 수를 반환하는 함수\n",
    "    count = 0\n",
    "    for i in args :\n",
    "        count+=1\n",
    "    return count"
   ]
  },
  {
   "cell_type": "code",
   "execution_count": 4,
   "metadata": {},
   "outputs": [
    {
     "data": {
      "text/plain": [
       "3"
      ]
     },
     "execution_count": 4,
     "metadata": {},
     "output_type": "execute_result"
    }
   ],
   "source": [
    "paramNum('one', 'two', 'three')"
   ]
  },
  {
   "cell_type": "code",
   "execution_count": 5,
   "metadata": {},
   "outputs": [
    {
     "data": {
      "text/plain": [
       "5"
      ]
     },
     "execution_count": 5,
     "metadata": {},
     "output_type": "execute_result"
    }
   ],
   "source": [
    "paramNum('one', 'two', 'three', 'four', 'five')"
   ]
  },
  {
   "cell_type": "markdown",
   "metadata": {},
   "source": [
    "- 매개변수의 초깃값을 미리 지정할 수 있다.\n",
    "- 매개변수가 고정된 값을 사용하거나 초깃값을 가질 때 사용한다.\n",
    "- 초깃값을 가진 매개변수를 명시하지 않으면 자동으로 계산된다.\n",
    "- 함수의 선언에서 초깃값을 지정한 매개변수가 가장 뒤로 와야 한다.\n",
    "\n",
    "#### [매개변수의 초깃값 설정]"
   ]
  },
  {
   "cell_type": "code",
   "execution_count": 32,
   "metadata": {},
   "outputs": [
    {
     "data": {
      "text/plain": [
       "8"
      ]
     },
     "execution_count": 32,
     "metadata": {},
     "output_type": "execute_result"
    }
   ],
   "source": [
    "def initialVal(a, b = 5) : # b의 초기값 지정\n",
    "    result = a + b\n",
    "    return result\n",
    "initialVal(3)  # 3만 입력했지만 결과는 3+5로 반환"
   ]
  },
  {
   "cell_type": "code",
   "execution_count": 42,
   "metadata": {},
   "outputs": [
    {
     "data": {
      "text/plain": [
       "4"
      ]
     },
     "execution_count": 42,
     "metadata": {},
     "output_type": "execute_result"
    }
   ],
   "source": [
    "initialVal(3, 1)  # 초기값을 사용하지 않고 매개변수 입력 가능"
   ]
  },
  {
   "cell_type": "markdown",
   "metadata": {},
   "source": [
    "- 여러 개의 결과값을 반환할 수 있도록 구현할 수 있다.\n",
    "- 두 개 이상의 return값을 가지면 자동으로 튜플로 변환하여 반환한다.\n",
    "- 튜플 언패킹을 통하여 여러 개의 결과값을 얻을 수 있다."
   ]
  },
  {
   "cell_type": "markdown",
   "metadata": {},
   "source": [
    "#### [여러 개의 결과 값을 가지는 함수]"
   ]
  },
  {
   "cell_type": "code",
   "execution_count": 6,
   "metadata": {},
   "outputs": [
    {
     "name": "stdout",
     "output_type": "stream",
     "text": [
      "(8, 2)\n",
      "8\n",
      "2\n"
     ]
    }
   ],
   "source": [
    "def multiReturn(a, b) :\n",
    "    result1 = a+b\n",
    "    result2 = a-b\n",
    "    return result1, result2\n",
    "\n",
    "result = multiReturn(5, 3)\n",
    "print(result)  # 결과값이 튜플로 반환\n",
    "result1, result2 = multiReturn(5, 3)  # 튜플 언패킹을 통해 사용\n",
    "print(result1)\n",
    "print(result2)"
   ]
  },
  {
   "cell_type": "markdown",
   "metadata": {},
   "source": [
    "### 5.2 재귀함수"
   ]
  },
  {
   "cell_type": "markdown",
   "metadata": {},
   "source": [
    "#### 재귀함수의 이해\n",
    "- 함수가 자기 자신을 호출하여 사용하는 함수를 재귀함수라고 한다.\n",
    "-  재귀 호출을 탈출할 수 있는 코드가 반드시 있어야 한다.\n",
    "- 몇몇 알고리즘이나 함수는 재귀적으로 구현하는 것이 합리적일 수 있다."
   ]
  },
  {
   "cell_type": "markdown",
   "metadata": {},
   "source": [
    "#### [재귀함수의 기본 예시]"
   ]
  },
  {
   "cell_type": "code",
   "execution_count": 7,
   "metadata": {},
   "outputs": [
    {
     "name": "stdout",
     "output_type": "stream",
     "text": [
      "5\n",
      "4\n",
      "3\n",
      "2\n",
      "1\n"
     ]
    }
   ],
   "source": [
    "def recursive(n) :\n",
    "    if n > 0 :\n",
    "        print(n)  #     n을 출력\n",
    "        recursive(n-1)  #     n-1으로 다시 함수 실행\n",
    "recursive(5)"
   ]
  },
  {
   "cell_type": "markdown",
   "metadata": {},
   "source": [
    "- 재귀 호출이 일어나는 부분을 기준으로 코드의 실행 순서가 변한다.\n",
    "- 위의 예제에서 print()로 n을 출력한 후에 재귀호출이 일어났기 때문에 print(n) → n-1 → print(n-1) → n-2 ... 순으로 함수가 동작하였다.\n",
    "- 재귀함수의 재귀 호출이 일어난 이후 print() 함수를 작성하였다면 반대의 결과가 나올 것이다.\n",
    "\n",
    "#### [재귀호출 후의 print()]"
   ]
  },
  {
   "cell_type": "code",
   "execution_count": 52,
   "metadata": {},
   "outputs": [
    {
     "name": "stdout",
     "output_type": "stream",
     "text": [
      "1\n",
      "2\n",
      "3\n",
      "4\n",
      "5\n"
     ]
    }
   ],
   "source": [
    "def recursive(n) :\n",
    "    if n > 0 :\n",
    "        recursive(n-1)\n",
    "        print(n)\n",
    "recursive(5)"
   ]
  },
  {
   "cell_type": "markdown",
   "metadata": {},
   "source": [
    "- 위의 예시에서 처음으로 실행되었을 때 n의 값은 5일 것이다. 조건을 만족하고 실행코드를 확인해보니 재귀호출이 일어남을 알 수 있다. 그 이후의 print(n)은 해당 함수가 실행되었을 때의 n의 값이 5이기 때문에 5를 출력한다. 하지만 재귀호출이 먼저 일어났으므로 함수를 먼저 실행한 후에 5를 출력할 것이다.\n",
    "\n",
    "- 이를 단계별로 설명해보면 <br>\n",
    "<br>n = 5 -> 5를 출력 <br>n = 5 -> (n = 4 -> 4를 출력) -> 5를 출력<br>n = 5 -> (n = 4 -> (n = 3 -> 3을 출력) -> 4를 출력) -> 5를 출력 <br> .... <br>\n",
    "<br>\n",
    "순으로 진행된다는 것이다. 따라서 위의 함수는 1부터 출력된다는 것을 알 수 있다. <br>\n",
    "\n",
    "- 재귀함수는 사용하기 까다롭지만 복잡한 과정을 확실하게 줄여줄 수 있기 때문에 주로 알고리즘을 쉽게 구현하고자 할 때 사용된다. 하지만 파이썬에서는 최대 재귀호출의 횟수가 정해져 있기 때문에(1000회) 데이터의 수가 많은 알고리즘을 구현하고자 할 때는 재귀호출을 지양하고 구현하는 것이 좋다."
   ]
  },
  {
   "cell_type": "markdown",
   "metadata": {},
   "source": [
    "### 5.3 이터레이터(iterator)"
   ]
  },
  {
   "cell_type": "markdown",
   "metadata": {},
   "source": [
    "#### 이터레이터의 개념\n",
    "\n",
    "- 해당 객체가 가진 값을 차례로 하나씩 꺼낼 수 있는 객체이다.\n",
    "- 반복 가능한 객체(iterable)에서 __iter__() 함수를 통해 얻을 수 있다.\n",
    "- 사용하는 이유는 다음과 같다.\n",
    "\n",
    "<div style = \"border : 1px solid green; padding : 5px; width = 50px;\">\n",
    "- for와 range를 사용해 데이터 생성 시 데이터의 수에 따라 컴퓨터 자원 사용 <br>\n",
    "- 이터레이터 사용 시 모든 데이터를 미리 만들지 않고 이터레이터만 생성<br>\n",
    "- 필요한 위치에서 이터레이터를 통해 데이터를 생성, 반복하여 사용할 수 있음<br>\n",
    "\n",
    "</div>"
   ]
  },
  {
   "cell_type": "markdown",
   "metadata": {},
   "source": [
    "- 반복 가능한 객체는 우리가 파이썬에서 사용하는 리스트나 배열, 튜플 등의 여러 개의 데이터를 가지고 있으면서 해당 데이터를 참조하여 사용할 수 있는 모든 객체를 말한다. 이러한 객체는 사용 가능한 관련 함수로 __ iter __ () 함수를 가지고 있다.\n",
    "- dir() 함수를 통해 해당 객체가 __iter__() 함수를 가지고 있는지 아닌지의 유무를 확인할 수 있다.\n",
    "\n",
    "#### [반복 가능한 객체 확인]"
   ]
  },
  {
   "cell_type": "code",
   "execution_count": 4,
   "metadata": {},
   "outputs": [
    {
     "data": {
      "text/plain": [
       "['__add__',\n",
       " '__class__',\n",
       " '__contains__',\n",
       " '__delattr__',\n",
       " '__delitem__',\n",
       " '__dir__',\n",
       " '__doc__',\n",
       " '__eq__',\n",
       " '__format__',\n",
       " '__ge__',\n",
       " '__getattribute__',\n",
       " '__getitem__',\n",
       " '__gt__',\n",
       " '__hash__',\n",
       " '__iadd__',\n",
       " '__imul__',\n",
       " '__init__',\n",
       " '__init_subclass__',\n",
       " '__iter__',\n",
       " '__le__',\n",
       " '__len__',\n",
       " '__lt__',\n",
       " '__mul__',\n",
       " '__ne__',\n",
       " '__new__',\n",
       " '__reduce__',\n",
       " '__reduce_ex__',\n",
       " '__repr__',\n",
       " '__reversed__',\n",
       " '__rmul__',\n",
       " '__setattr__',\n",
       " '__setitem__',\n",
       " '__sizeof__',\n",
       " '__str__',\n",
       " '__subclasshook__',\n",
       " 'append',\n",
       " 'clear',\n",
       " 'copy',\n",
       " 'count',\n",
       " 'extend',\n",
       " 'index',\n",
       " 'insert',\n",
       " 'pop',\n",
       " 'remove',\n",
       " 'reverse',\n",
       " 'sort']"
      ]
     },
     "execution_count": 4,
     "metadata": {},
     "output_type": "execute_result"
    }
   ],
   "source": [
    "list = ['a', 'b', 'c']\n",
    "dir(list)  #     dir을 통해 해당 객체에서 사용할 수 있는 함수를 확인"
   ]
  },
  {
   "cell_type": "markdown",
   "metadata": {},
   "source": [
    "#### 이터레이터의 사용\n",
    "- 반복 가능한 객체에 __iter__() 함수를 사용하게 되면 이터레이터 객체를 반환한다.\n",
    "\n",
    "#### [__iter()__ 사용]"
   ]
  },
  {
   "cell_type": "code",
   "execution_count": 8,
   "metadata": {},
   "outputs": [
    {
     "name": "stdout",
     "output_type": "stream",
     "text": [
      "<list_iterator object at 0x00000229AB19C288>\n"
     ]
    }
   ],
   "source": [
    "list = ['a', 'b', 'c', 'd']\n",
    "list_iterator = list.__iter__()  #     __iter__()를 통해 이터레이터 생성\n",
    "print(list_iterator)"
   ]
  },
  {
   "cell_type": "markdown",
   "metadata": {},
   "source": [
    "- 이터레이터 내부의 데이터는 __next__() 함수를 통해 사용한다.\n",
    "- 모든 데이터를 반복하였을 경우 StopIteration 예외를 출력하게 된다.\n",
    "\n",
    "#### [__next()__의 사용]"
   ]
  },
  {
   "cell_type": "code",
   "execution_count": 8,
   "metadata": {},
   "outputs": [
    {
     "name": "stdout",
     "output_type": "stream",
     "text": [
      "a\n",
      "b\n",
      "c\n",
      "d\n"
     ]
    },
    {
     "ename": "StopIteration",
     "evalue": "",
     "output_type": "error",
     "traceback": [
      "\u001b[1;31m---------------------------------------------------------------------------\u001b[0m",
      "\u001b[1;31mStopIteration\u001b[0m                             Traceback (most recent call last)",
      "\u001b[1;32m<ipython-input-8-c005f6be5067>\u001b[0m in \u001b[0;36m<module>\u001b[1;34m\u001b[0m\n\u001b[0;32m      8\u001b[0m \u001b[1;33m\u001b[0m\u001b[0m\n\u001b[0;32m      9\u001b[0m \u001b[1;31m# 모든 데이터를 꺼냈으므로 StopIteration 예외를 내뱉는다.\u001b[0m\u001b[1;33m\u001b[0m\u001b[1;33m\u001b[0m\u001b[1;33m\u001b[0m\u001b[0m\n\u001b[1;32m---> 10\u001b[1;33m \u001b[0mprint\u001b[0m\u001b[1;33m(\u001b[0m\u001b[0mlist_iterator\u001b[0m\u001b[1;33m.\u001b[0m\u001b[0m__next__\u001b[0m\u001b[1;33m(\u001b[0m\u001b[1;33m)\u001b[0m\u001b[1;33m)\u001b[0m\u001b[1;33m\u001b[0m\u001b[1;33m\u001b[0m\u001b[0m\n\u001b[0m",
      "\u001b[1;31mStopIteration\u001b[0m: "
     ]
    }
   ],
   "source": [
    "list = ['a', 'b', 'c', 'd']\n",
    "list_iterator = list.__iter__()\n",
    "\n",
    "print(list_iterator.__next__()) # 'a'\n",
    "print(list_iterator.__next__()) # 'b'\n",
    "print(list_iterator.__next__()) # 'c'\n",
    "print(list_iterator.__next__()) # 'd'\n",
    "\n",
    "# 모든 데이터를 꺼냈으므로 StopIteration 예외를 내뱉는다.\n",
    "print(list_iterator.__next__()) "
   ]
  },
  {
   "cell_type": "markdown",
   "metadata": {},
   "source": [
    "### 제너레이터의 개념 및 사용"
   ]
  },
  {
   "cell_type": "markdown",
   "metadata": {},
   "source": [
    "- 이터레이터의 특수한 형태로 yield라는 명령어를 통해 값을 반복한다.\n",
    "- 각 영역에 도달했을 때 yield의 값을 반환할 수 있어 상황에 따라 적절하게 구현할 수 있다.\n",
    "\n",
    "#### [제너레이터의 사용]"
   ]
  },
  {
   "cell_type": "code",
   "execution_count": 9,
   "metadata": {},
   "outputs": [
    {
     "name": "stdout",
     "output_type": "stream",
     "text": [
      "<generator object generator at 0x000001282F9D91C8>\n",
      "첫번째 반환\n",
      "두번째 반환\n",
      "세번째 반환\n"
     ]
    },
    {
     "ename": "StopIteration",
     "evalue": "",
     "output_type": "error",
     "traceback": [
      "\u001b[1;31m---------------------------------------------------------------------------\u001b[0m",
      "\u001b[1;31mStopIteration\u001b[0m                             Traceback (most recent call last)",
      "\u001b[1;32m<ipython-input-9-abcdff7838cb>\u001b[0m in \u001b[0;36m<module>\u001b[1;34m\u001b[0m\n\u001b[0;32m     10\u001b[0m \u001b[0mprint\u001b[0m\u001b[1;33m(\u001b[0m\u001b[0mg\u001b[0m\u001b[1;33m.\u001b[0m\u001b[0m__next__\u001b[0m\u001b[1;33m(\u001b[0m\u001b[1;33m)\u001b[0m\u001b[1;33m)\u001b[0m\u001b[1;33m\u001b[0m\u001b[1;33m\u001b[0m\u001b[0m\n\u001b[0;32m     11\u001b[0m \u001b[0mprint\u001b[0m\u001b[1;33m(\u001b[0m\u001b[0mg\u001b[0m\u001b[1;33m.\u001b[0m\u001b[0m__next__\u001b[0m\u001b[1;33m(\u001b[0m\u001b[1;33m)\u001b[0m\u001b[1;33m)\u001b[0m\u001b[1;33m\u001b[0m\u001b[1;33m\u001b[0m\u001b[0m\n\u001b[1;32m---> 12\u001b[1;33m \u001b[0mprint\u001b[0m\u001b[1;33m(\u001b[0m\u001b[0mg\u001b[0m\u001b[1;33m.\u001b[0m\u001b[0m__next__\u001b[0m\u001b[1;33m(\u001b[0m\u001b[1;33m)\u001b[0m\u001b[1;33m)\u001b[0m\u001b[1;33m\u001b[0m\u001b[1;33m\u001b[0m\u001b[0m\n\u001b[0m",
      "\u001b[1;31mStopIteration\u001b[0m: "
     ]
    }
   ],
   "source": [
    "def generator():\n",
    "    yield '첫번째 반환'\n",
    "    yield '두번째 반환'\n",
    "    yield '세번째 반환'\n",
    "    \n",
    "g = generator()\n",
    "print(g)\n",
    "\n",
    "print(g.__next__())\n",
    "print(g.__next__())\n",
    "print(g.__next__())\n",
    "print(g.__next__())"
   ]
  },
  {
   "cell_type": "markdown",
   "metadata": {},
   "source": [
    "## 연습문제\n",
    "\n",
    "### 1.\n",
    "함수에 대한 설명의 옳고 그름을 나타내고 그 이유를 설명하여라.\n",
    "- 함수는 매개변수와 반환 값이 항상 존재한다.\n",
    "- 함수의 결과값은 항상 하나이다.\n",
    "<br>\n",
    "\n",
    "### 2.\n",
    "두 숫자의 대소를 비교하고 둘 중 더 큰 숫자를 반환하는 함수 func_A()를 설계하라. (두 수가 같다면 해당 수를 출력)"
   ]
  },
  {
   "cell_type": "code",
   "execution_count": 13,
   "metadata": {},
   "outputs": [
    {
     "ename": "IndentationError",
     "evalue": "expected an indented block (<ipython-input-13-22ccb1cc3ecc>, line 6)",
     "output_type": "error",
     "traceback": [
      "\u001b[1;36m  File \u001b[1;32m\"<ipython-input-13-22ccb1cc3ecc>\"\u001b[1;36m, line \u001b[1;32m6\u001b[0m\n\u001b[1;33m    func_A(10, 17)\u001b[0m\n\u001b[1;37m         ^\u001b[0m\n\u001b[1;31mIndentationError\u001b[0m\u001b[1;31m:\u001b[0m expected an indented block\n"
     ]
    }
   ],
   "source": [
    "def func_A(a, b) :\n",
    "#(\n",
    "\n",
    "\n",
    "#)\n",
    "func_A(10, 17)"
   ]
  },
  {
   "cell_type": "markdown",
   "metadata": {},
   "source": [
    "실행 결과 : <br>\n",
    "10은(는) 17보다 작다.\n",
    "<br><br>\n",
    "\n",
    "### 3.\n",
    "피보나치 수열을 재귀함수로 구현하라."
   ]
  },
  {
   "cell_type": "code",
   "execution_count": 14,
   "metadata": {},
   "outputs": [
    {
     "ename": "SyntaxError",
     "evalue": "invalid character in identifier (<ipython-input-14-60cb24ce8dd7>, line 6)",
     "output_type": "error",
     "traceback": [
      "\u001b[1;36m  File \u001b[1;32m\"<ipython-input-14-60cb24ce8dd7>\"\u001b[1;36m, line \u001b[1;32m6\u001b[0m\n\u001b[1;33m    func_fibonacci(10)\u001b[0m\n\u001b[1;37m    ^\u001b[0m\n\u001b[1;31mSyntaxError\u001b[0m\u001b[1;31m:\u001b[0m invalid character in identifier\n"
     ]
    }
   ],
   "source": [
    "def func_Fibonacci(num) :\n",
    "    #(\n",
    "\n",
    "\n",
    "    #)\n",
    "    func_fibonacci(10)"
   ]
  },
  {
   "cell_type": "markdown",
   "metadata": {},
   "source": [
    "#### 4. 다음의 함수를 재귀함수 형태로 바꾸어 표현하여라."
   ]
  },
  {
   "cell_type": "code",
   "execution_count": 15,
   "metadata": {},
   "outputs": [],
   "source": [
    "def func_nonRecursive(num) :\n",
    "    result = 1\n",
    "    for i in range(num, 1, -1) :\n",
    "        result = result * i\n",
    "        return result\n",
    "    func_nonRecursive(5)"
   ]
  }
 ],
 "metadata": {
  "kernelspec": {
   "display_name": "Python 3",
   "language": "python",
   "name": "python3"
  },
  "language_info": {
   "codemirror_mode": {
    "name": "ipython",
    "version": 3
   },
   "file_extension": ".py",
   "mimetype": "text/x-python",
   "name": "python",
   "nbconvert_exporter": "python",
   "pygments_lexer": "ipython3",
   "version": "3.7.4"
  }
 },
 "nbformat": 4,
 "nbformat_minor": 2
}
