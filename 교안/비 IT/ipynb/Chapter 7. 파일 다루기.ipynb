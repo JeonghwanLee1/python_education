{
 "cells": [
  {
   "cell_type": "markdown",
   "metadata": {},
   "source": [
    "# 7. 파일 다루기"
   ]
  },
  {
   "cell_type": "markdown",
   "metadata": {},
   "source": [
    "- Python을 통한 파일 입출력에 대해 설명하고 정규표현식의 기본적인 표현에 대해 설명한다.\n",
    "- 정규표현식에 쓰는 모듈을 알아보고 어떠한 객체와 내장함수가 쓰이는지 설명한다."
   ]
  },
  {
   "cell_type": "markdown",
   "metadata": {},
   "source": [
    "### 7.1 파일 입출력\n",
    "#### 파일 입출력의 개념\n",
    "- 컴퓨터와 직접적으로 소통하는 콘솔 입출력이 아닌 별도의 파일을 통해 데이터를 읽거나 쓰는 것을 말한다.\n",
    "- 사용자로부터 데이터가 프로그램을 거쳐 파일까지 이동하는 흐름이다.\n",
    "- 실제로 이용하는 대부분의 프로그램은 지금까지 사용했던 콘솔 입출력을 통해 이루어지는 것이 아닌 특정 파일에 따로 쓰여 저장되며 이러한 데이터를 읽거나 쓰는 것이기 때문에 파일 입출력이 필요하다.\n",
    "<img src=https://user-images.githubusercontent.com/48711691/75390523-bbf3bc00-592b-11ea-9fc0-dd9050c0c175.JPG style=\"width:70%;\">"
   ]
  },
  {
   "cell_type": "markdown",
   "metadata": {},
   "source": [
    "### 7.2 파일 입출력의 기본 함수\n",
    "#### 파일 모드\n",
    "- 파일을 열 때 사용하는 여러 가지 기능에 따른 모드를 말한다.\n",
    "- 모드들은 중복하여 사용이 가능하다.\n",
    "- 파일모드를 따로 지정하지 않는다면 default값으로 지정된다.\n",
    "<img src=https://user-images.githubusercontent.com/48711691/75390611-e5ace300-592b-11ea-99d4-1c18e25ec1e4.JPG style=\"width:90%;\">\n",
    "\n",
    "#### 파일의 생성 및 읽어오기\n",
    "- 파일의 생성하기 위해서는 파일 모드‘w’를 사용한다.\n",
    "- 이미 존재하는 파일을 열 경우 해당 파일의 내용은 사라지게 된다.\n",
    "- 존재하지 않는 파일을 열 경우 새로운 파일이 생성된다.\n",
    "\n",
    "<div style = \"border : 1px solid green; padding : 5px; width = 50px;\">\n",
    "var = open(‘filename’, ‘w’)<br>\n",
    "var.close\n",
    "    <br>\n",
    "<div style = \"color : gray;\">\n",
    "    var : 파일객체<br>\n",
    "filename : 생성할 파일 이름(확장자 포함)\n",
    "</div></div>\n",
    "\n",
    "#### [파일 생성하기]"
   ]
  },
  {
   "cell_type": "code",
   "execution_count": 2,
   "metadata": {},
   "outputs": [],
   "source": [
    "f = open(\"newFile.txt\", 'w')  #     쓰기 모드로 객체 생성\n",
    "f.close()  #     파일 객체를 닫는다."
   ]
  },
  {
   "cell_type": "markdown",
   "metadata": {},
   "source": [
    "- 위의 코드를 실행할 경우 우리의 디렉토리에 newFile.txt라는 텍스트 파일이 생겼을 것이다. 하지만 해당 파일에는 아무런 내용을 포함하지 않는다. \n",
    "- 그렇다면 파일을 생성한 후 내용을 입력하고 파일 객체를 닫는 과정을 예제로 확인하자.\n",
    "\n",
    "\n",
    "<div style = \"border : 1px solid green; padding : 5px; width = 50px;\">\n",
    "var = open(‘filename’, ‘w’)<br>\n",
    "var.close<br>\n",
    "<div style = \"color : gray;\">\n",
    "  var : 파일객체<br>\n",
    "filename : 생성할 파일 이름(확장자 포함)\n",
    "</div></div>\n",
    "\n",
    "#### [파일에 내용쓰기]"
   ]
  },
  {
   "cell_type": "code",
   "execution_count": 1,
   "metadata": {},
   "outputs": [],
   "source": [
    "f = open(\"newFile.txt\", 'w')  #     쓰기모드로 객체 생성\n",
    "content = '새로 작성된 파일입니다.'\n",
    "f.write(content)  # write()를 통해 파일에 내용 작성\n",
    "f.close()"
   ]
  },
  {
   "cell_type": "code",
   "execution_count": 2,
   "metadata": {},
   "outputs": [],
   "source": [
    "f = open(\"newFile.txt\", 'w')  #     쓰기모드로 객체 생성\n",
    "for i in range(5) :\n",
    "    content = \"데이터 : %d \\n\" % i\n",
    "    f.write(content)  # write()를 통해 파일에 내용 작성\n",
    "f.close()"
   ]
  },
  {
   "cell_type": "markdown",
   "metadata": {},
   "source": [
    "- writelines() 함수는 여러 개의 문장으로 구성된 리스트(list) 등을 입력 하고자 할 때 사용하는 함수이다.\n",
    "<div style = \"border : 1px solid green; padding : 5px; width = 50px;\">\n",
    " var = writelines(‘str’)<br>\n",
    "<div style = \"color : gray;\">\n",
    "  var : 파일객체<br>\n",
    "str : 파일에 입력할 내용 \n",
    "</div></div>\n",
    "\n",
    "#### [파일에 내용쓰기]"
   ]
  },
  {
   "cell_type": "code",
   "execution_count": 5,
   "metadata": {},
   "outputs": [],
   "source": [
    "f = open('writeLinepython.txt', 'w')\n",
    "f.writelines(['line1', 'line2', 'line3', 'line4', 'line5'])\n",
    "f.close()"
   ]
  },
  {
   "cell_type": "markdown",
   "metadata": {},
   "source": [
    "- for문을 이용하여 파일 안에 데이터를 입력하는 방법도 존재한다.\n",
    "\n",
    "#### [for문을 이용한 파일 입출력]"
   ]
  },
  {
   "cell_type": "code",
   "execution_count": 6,
   "metadata": {},
   "outputs": [],
   "source": [
    "f = open(\"forPython.txt\", 'w')\n",
    "for i in range(5) :\n",
    "         content = \"데이터 : %d \\n\" % i\n",
    "f.write(content)\n",
    "f.close()"
   ]
  },
  {
   "cell_type": "markdown",
   "metadata": {},
   "source": [
    "#### 파일 읽기\n",
    "- 파일의 읽어들이기 위해서는 파일모드 ‘r’을 사용한다.\n",
    "- read(), readline(), readlines() 함수를 통해 내용을 출력할 수 있다.\n",
    "\n",
    "<div style = \"border : 1px solid green; padding : 5px; width = 50px;\">\n",
    " var.read()<br>\n",
    "<div style = \"color : gray;\">\n",
    "   var : 파일 객체\n",
    "</div></div>\n",
    "\n",
    "#### [파일 내용 읽어오기]"
   ]
  },
  {
   "cell_type": "code",
   "execution_count": 9,
   "metadata": {},
   "outputs": [
    {
     "name": "stdout",
     "output_type": "stream",
     "text": [
      "데이터 : 0 \n",
      "데이터 : 1 \n",
      "데이터 : 2 \n",
      "데이터 : 3 \n",
      "데이터 : 4 \n",
      "\n"
     ]
    }
   ],
   "source": [
    "f = open(\"newFile.txt\", 'r')  #     읽기모드로 객체 생성\n",
    "content = f.read()  #     전체 내용을 문자열로 출력\n",
    "f.close() #     객체 닫기\n",
    "print(content)"
   ]
  },
  {
   "cell_type": "markdown",
   "metadata": {},
   "source": [
    "- readline() 함수는 파일의 내용을 한 줄씩 읽어들인다.\n",
    "- 한 번만 사용하게 될 경우 파일의 가장 첫 번째 줄을 출력한다.\n",
    "\n",
    "<div style = \"border : 1px solid green; padding : 5px; width = 50px;\">\n",
    " var.readline()<br>\n",
    "<div style = \"color : gray;\">\n",
    "   var : 파일 객체  \n",
    "</div></div>\n",
    "\n",
    "#### [파일 내용 읽어오기]"
   ]
  },
  {
   "cell_type": "code",
   "execution_count": 13,
   "metadata": {},
   "outputs": [
    {
     "name": "stdout",
     "output_type": "stream",
     "text": [
      "데이터 : 0 \n",
      "\n"
     ]
    }
   ],
   "source": [
    "f = open(\"newFile.txt\", 'r')  #     읽기모드로 객체 생성\n",
    "content = f.readline()  #      한 줄을 문자열로 출력\n",
    "print(content)"
   ]
  },
  {
   "cell_type": "markdown",
   "metadata": {},
   "source": [
    "- readline() 함수와 반복문을 통해 파일의 모든 내용을 출력할 수 있다.\n",
    "\n",
    "#### [for문을 통한 파일 입출력]"
   ]
  },
  {
   "cell_type": "code",
   "execution_count": 7,
   "metadata": {
    "scrolled": true
   },
   "outputs": [
    {
     "name": "stdout",
     "output_type": "stream",
     "text": [
      "데이터 : 0 \n",
      "\n",
      "데이터 : 1 \n",
      "\n",
      "데이터 : 2 \n",
      "\n",
      "데이터 : 3 \n",
      "\n",
      "데이터 : 4 \n",
      "\n"
     ]
    }
   ],
   "source": [
    "f = open(\"newFile.txt\", 'r')  #     읽기모드로 객체 생성\n",
    "while True : \n",
    "    content = f.readline()  #     한 줄씩 문자열로 출력\n",
    "    if not content : \n",
    "        break\n",
    "    print(content)\n",
    "f.close()"
   ]
  },
  {
   "cell_type": "markdown",
   "metadata": {},
   "source": [
    "- readlines() 함수는 여러 개의 라인을 리스트(list)객체로 저장한다.\n",
    "- 기본적으로 개행(\\n)이 포함되어 있다.\n",
    "\n",
    "<div style = \"border : 1px solid green; padding : 5px; width = 50px;\">\n",
    " var.readlines()<br>\n",
    "<div style = \"color : gray;\">\n",
    "   var : 파일 객체  \n",
    "</div></div>\n",
    "\n",
    "#### [파일 내용 읽어오기]"
   ]
  },
  {
   "cell_type": "code",
   "execution_count": 21,
   "metadata": {},
   "outputs": [
    {
     "name": "stdout",
     "output_type": "stream",
     "text": [
      "['데이터 : 0 \\n', '데이터 : 1 \\n', '데이터 : 2 \\n', '데이터 : 3 \\n', '데이터 : 4 \\n']\n",
      "데이터 : 0 \n",
      "\n",
      "데이터 : 1 \n",
      "\n",
      "데이터 : 2 \n",
      "\n",
      "데이터 : 3 \n",
      "\n",
      "데이터 : 4 \n",
      "\n"
     ]
    }
   ],
   "source": [
    "f = open(\"newFile.txt\", 'r')  #     읽기모드로 객체 생성\n",
    "contents = f.readlines()  #      모든 줄을 리스트에 담아 출력\n",
    "print(contents)  #     리스트를 출력\n",
    "\n",
    "for content in contents:\n",
    "    print(content) #     리스트의 요소를 하나씩 출력\n",
    "f.close()"
   ]
  },
  {
   "cell_type": "markdown",
   "metadata": {},
   "source": [
    "#### 파일 수정 및 예외 처리"
   ]
  },
  {
   "cell_type": "markdown",
   "metadata": {},
   "source": [
    "- 기본의 파일 내용을 유지하면서 새로운 내용을 추가하고 싶을 때에는 파일모드 ‘a’를 사용한다.\n",
    "\n",
    "#### [파일 수정하기]"
   ]
  },
  {
   "cell_type": "code",
   "execution_count": 23,
   "metadata": {},
   "outputs": [],
   "source": [
    "f = open(\"newFile.txt\", 'a')\n",
    "content = '추가된 내용입니다.'\n",
    "f.write(content)  #     내용을 추가한다.\n",
    "f.close()"
   ]
  },
  {
   "cell_type": "code",
   "execution_count": 24,
   "metadata": {},
   "outputs": [
    {
     "name": "stdout",
     "output_type": "stream",
     "text": [
      "데이터 : 0 \n",
      "데이터 : 1 \n",
      "데이터 : 2 \n",
      "데이터 : 3 \n",
      "데이터 : 4 \n",
      "추가된 내용입니다.\n"
     ]
    }
   ],
   "source": [
    "f = open(\"newFile.txt\", 'r')  #     읽기모드로 객체 생성\n",
    "content = f.read()  #     전체 내용을 문자열로 출력\n",
    "print(content)\n",
    "f.close()"
   ]
  },
  {
   "cell_type": "markdown",
   "metadata": {},
   "source": [
    "- 예상치 못한 오류에 대해 try/except문을 이용해 파일 예외처리를 한다.\n",
    "\n",
    "<div style = \"border : 1px solid green; padding : 5px; width = 50px;\">\n",
    "try : <br>\n",
    " &nbsp; #실행부 <br>\n",
    "except : <br>\n",
    " &nbsp; #예외처리 <br>\n",
    "finally : <br>\n",
    " &nbsp;#예외처리 이후 실행부\n",
    "</div>\n",
    "\n",
    "#### [파일 예외처리]"
   ]
  },
  {
   "cell_type": "code",
   "execution_count": 11,
   "metadata": {},
   "outputs": [
    {
     "name": "stdout",
     "output_type": "stream",
     "text": [
      "파이썬 파일 입출력입니다.파일모드 a를 사용하여 파일의 내용을 수정합니다."
     ]
    }
   ],
   "source": [
    "try :\n",
    "    # try 블록에서 파일을 연다\n",
    "    f = open('python.txt', 'r')\n",
    "    for var in f :\n",
    "        # 문법 오류 발생\n",
    "        print(var, end = '')\n",
    "except :\n",
    "    print('오류가 발생하였습니다')\n",
    "finally :\n",
    "    f.close()"
   ]
  },
  {
   "cell_type": "markdown",
   "metadata": {},
   "source": [
    "- 위의 예시에서는 파일객체를 사용하기 위해서 일일히 open하고 close해서 사용하였다. 그렇다면 파일객체를 자동으로 닫아주는 with문에 대해 학습해보자.\n",
    "\n",
    "<div style = \"border : 1px solid green; padding : 5px; width = 50px;\">\n",
    " with open(“fileName”, ‘r’) as var :<br>\n",
    "    ... <br>\n",
    "<div style = \"color : gray;\">\n",
    "   fileName : 불러올 파일 이름<br>\n",
    "    var : 파일 객체\n",
    "</div></div>\n",
    "\n",
    "#### [with문을 사용한 파일 예외처리]"
   ]
  },
  {
   "cell_type": "code",
   "execution_count": 27,
   "metadata": {},
   "outputs": [
    {
     "name": "stdout",
     "output_type": "stream",
     "text": [
      "데이터 : 0 \n",
      "데이터 : 1 \n",
      "데이터 : 2 \n",
      "데이터 : 3 \n",
      "데이터 : 4 \n",
      "추가된 내용입니다.\n"
     ]
    }
   ],
   "source": [
    "with open(\"newFile.txt\", \"r\") as f:\n",
    "    content = f.read()\n",
    "    print(content)"
   ]
  },
  {
   "cell_type": "markdown",
   "metadata": {},
   "source": [
    "### 7.3 정규표현식(Regular Expressions)\n",
    "- 메타 문자(meta characters)는 해당 문자가 기존에 가지고 있는 의미대로 사용되는 것이 아닌 정규표현식을 위한 특별한 의미로 사용되는 문자들을 나타낸다. 각 메타 문자의 의미와 사용법에 대해 학습한다."
   ]
  },
  {
   "cell_type": "markdown",
   "metadata": {},
   "source": [
    "#### 정규 표현식의 정의\n",
    "- 특정한 규칙을 가진 문자열의 집합을 표현할 때 사용하는 표현식이다.\n",
    "- 복잡한 문자열의 효율적인 처리를 위해 사용하며 다양한 분야에서 응용할 수 있다.\n",
    "\n",
    "#### 메타 문자\n",
    "- 정규 표현식에 사용되는 문자로 기존 문자가 가지고 있는 의미가 아닌 정규 표현식에서 사용하기 위한 특별한 의미로 사용된다.\n",
    "- 문자클래스([ ]) : 대괄호 사이에 문자들을 배치하여 매치시킨다."
   ]
  },
  {
   "cell_type": "markdown",
   "metadata": {},
   "source": [
    "#### 문자 클래스 [ ]"
   ]
  },
  {
   "cell_type": "markdown",
   "metadata": {},
   "source": [
    "표현 방법으로는 [ ]를 사용하여 표현한다. 의미로는 [ ] 사이의 문자들을 매치시킨다는 의미이며 이는 [ ] 사이에 들어가는 문자들 중 하나와 매치됨을 의미한다. \n",
    "\n",
    "예시를 들어보면 [abcde]라는 의미는 해당 문자들 중 하나를 포함하는 문자와 매칭된다는 것이며 그 문자는 above(a, b, e 매치) 등이 있다.\n",
    "\n",
    "#### 문자 클래스([ ])\n",
    "- [a-z]는 소문자 a부터 z까지, [0-9]는 숫자의 모든 문자와 매치됨을 뜻하며 이러한 방식으로 문자 클래스를 사용할 수 있다."
   ]
  },
  {
   "cell_type": "markdown",
   "metadata": {},
   "source": [
    "<div style = \"border : 1px solid green; padding : 5px; width = 50px;\">\n",
    "[a-z] : 소문자 a부터 z까지 모든 문자와 매치 <br>\n",
    "[0-9] : 0부터 9까지 모든 숫자와 매치\n",
    "</div>"
   ]
  },
  {
   "cell_type": "markdown",
   "metadata": {},
   "source": [
    "#### (.) \n",
    "- 문자를 기준으로 좌/우의 문자 사이에 모든 문자를 매치시킨다.\n",
    "\n",
    "<div style = \"border : 1px solid green; padding : 5px; width = 50px;\">\n",
    "a.b : ‘a’와 ‘b’사이에 어떤 문자가 와도 매치 <br>\n",
    "→ aab, abb, axb …\n",
    "</div>"
   ]
  },
  {
   "cell_type": "markdown",
   "metadata": {},
   "source": [
    "#### (+) \n",
    "- 바로 앞에 오는 문자가 반복될 수 있음을 나타내며 반복이 최소 한 번 이상이어야 한다.\n",
    "\n",
    "<div style = \"border : 1px solid green; padding : 5px; width = 50px;\">\n",
    "ab+c : ‘c’앞의 문자인 ‘b’가 최소 한번 이상 반복 <br>\n",
    "→ abc, abbc, abbbc …\n",
    "</div>"
   ]
  },
  {
   "cell_type": "markdown",
   "metadata": {},
   "source": [
    "#### (*)\n",
    "- 바로 앞에 오는 문자가 반복될 수 있음을 나타내며 ‘+’와 다르게 최소 0번 이상 반복될 수 있다.\n",
    "\n",
    "<div style = \"border : 1px solid green; padding : 5px; width = 50px;\">\n",
    "ab*c : ‘c’앞의 문자인 ‘b’가 반복될 수 있다. <br>\n",
    "→ ac, abc, abbc …\n",
    "</div>"
   ]
  },
  {
   "cell_type": "markdown",
   "metadata": {},
   "source": [
    "#### ({, })\n",
    "- 바로 앞에 오는 문자가 중괄호 사이에 들어간 수 만큼 반복됨을 나타내며 {m, n} 형태로 시작과 끝을 지정할 수 있다.\n",
    "\n",
    "<div style = \"border : 1px solid green; padding : 5px; width = 50px;\">\n",
    "ab {3 } : ‘b’가 3만큼 반복 <br>\n",
    "→ abbb <br>\n",
    "    \n",
    "ab {1, } :‘b’가 최소 1번 이상 반복\n",
    "<br>→ ab, abb, abbb …\n",
    "\n",
    "ab { ,3 } : ‘b’가 최대 3번까지 반복 <br>\n",
    "→ a, ab, abb, abbb\n",
    "</div>\n",
    "\n",
    "#### (?)\n",
    "- {0, 1}을 의미하는 문자로 있거나 없음을 나타낸다.\n",
    "\n",
    "<div style = \"border : 1px solid green; padding : 5px; width = 50px;\">\n",
    "ab?c : ‘b’가 없거나 있음을 나타냄\n",
    "<br> → ac, abc\n",
    "</div>"
   ]
  },
  {
   "cell_type": "markdown",
   "metadata": {},
   "source": [
    "#### re모듈과 관련 함수의 사용\n",
    "- 정규 표현식을 지원하기 위해 Python에서 제공하는 기본 라이브러리이다.\n",
    "- re모듈을 사용하기 위해서는 반드시 import 해주어야 한다."
   ]
  },
  {
   "cell_type": "code",
   "execution_count": 28,
   "metadata": {},
   "outputs": [],
   "source": [
    "import re"
   ]
  },
  {
   "cell_type": "markdown",
   "metadata": {},
   "source": [
    "- re모듈은 match(), search(), findall(), finditer() 총 4가지의 함수를 제공한다.\n",
    "\n",
    "#### match()\n",
    "- match() 함수는 문자열을 판단할 때 문자열의 처음부터 매치되는지 확인하는 함수이다.\n",
    "- 즉 문자열의 처음부터 매치되지 않는 부분이 있다면 무조건 매치되지 않으며 매치되었을 때 match 객체를 반환한다.\n",
    "\n",
    "<div style = \"border : 1px solid green; padding : 5px; width = 50px;\">\n",
    "match(str1, str2) <br>\n",
    "<div style = \"color : gray;\">\n",
    "str1, str2 : 비교할 문자열\n",
    "</div></div>\n",
    "\n",
    "#### [match() 사용]"
   ]
  },
  {
   "cell_type": "code",
   "execution_count": 14,
   "metadata": {},
   "outputs": [
    {
     "data": {
      "text/plain": [
       "<re.Match object; span=(0, 3), match='abc'>"
      ]
     },
     "execution_count": 14,
     "metadata": {},
     "output_type": "execute_result"
    }
   ],
   "source": [
    "import re\n",
    "re.match('abc', 'abcde')"
   ]
  },
  {
   "cell_type": "markdown",
   "metadata": {},
   "source": [
    "#### search()"
   ]
  },
  {
   "cell_type": "markdown",
   "metadata": {},
   "source": [
    "- search() 함수는 문자열을 판단할 때 해당 문자열 전체를 확인하여 매칭되는 부분이 있는지 확인하는 함수이다.\n",
    "- match()와는 달리 처음부터 매치되지 않아도 match객체를 반환한다.\n",
    "\n",
    "<div style = \"border : 1px solid green; padding : 5px; width = 50px;\">\n",
    "search(str1, str2)<br>\n",
    "<div style = \"color : gray;\">\n",
    "str1, str2 : 비교할 문자열\n",
    "</div></div>\n",
    "\n",
    "#### [search()함수 사용]"
   ]
  },
  {
   "cell_type": "code",
   "execution_count": 15,
   "metadata": {},
   "outputs": [
    {
     "data": {
      "text/plain": [
       "<re.Match object; span=(1, 4), match='bcd'>"
      ]
     },
     "execution_count": 15,
     "metadata": {},
     "output_type": "execute_result"
    }
   ],
   "source": [
    "import re\n",
    "re.search('bcd', 'abcde')"
   ]
  },
  {
   "cell_type": "markdown",
   "metadata": {},
   "source": [
    "#### findall()"
   ]
  },
  {
   "cell_type": "markdown",
   "metadata": {},
   "source": [
    "- findall() 함수는 매치되는 모든 문자열을 리스트의 형태로 반환하는 함수이다.\n",
    "\n",
    "<div style = \"border : 1px solid green; padding : 5px; width = 50px;\">\n",
    "findall(str1, str2)<br>\n",
    "<div style = \"color : gray;\">\n",
    "str1, str2 : 비교할 문자열\n",
    "</div></div>\n",
    "\n",
    "#### [findall()함수 사용]"
   ]
  },
  {
   "cell_type": "code",
   "execution_count": 16,
   "metadata": {
    "scrolled": true
   },
   "outputs": [
    {
     "data": {
      "text/plain": [
       "['abc', 'abc']"
      ]
     },
     "execution_count": 16,
     "metadata": {},
     "output_type": "execute_result"
    }
   ],
   "source": [
    "import re\n",
    "re.findall('abc', 'abcdeabc')"
   ]
  },
  {
   "cell_type": "markdown",
   "metadata": {},
   "source": [
    "#### finditer()"
   ]
  },
  {
   "cell_type": "markdown",
   "metadata": {},
   "source": [
    "- finditer() 함수는 findall() 함수와 동일한 기능을 제공하지만 리스트 형태가 아닌 반복 가능한 iterator 객체를 통해 반환한다.\n",
    "\n",
    "<div style = \"border : 1px solid green; padding : 5px; width = 50px;\">\n",
    "finditer(str1, str2)<br>\n",
    "<div style = \"color : gray;\">\n",
    "str1, str2 : 비교할 문자열\n",
    "</div></div>\n",
    "\n",
    "#### [finditer()함수 사용]"
   ]
  },
  {
   "cell_type": "code",
   "execution_count": 18,
   "metadata": {},
   "outputs": [
    {
     "data": {
      "text/plain": [
       "<callable_iterator at 0x2123f649a88>"
      ]
     },
     "execution_count": 18,
     "metadata": {},
     "output_type": "execute_result"
    }
   ],
   "source": [
    "import re\n",
    "re.finditer('abc', 'abcdeabc')"
   ]
  },
  {
   "cell_type": "markdown",
   "metadata": {},
   "source": [
    "#### match 객체에 쓰이는 여러 함수"
   ]
  },
  {
   "cell_type": "markdown",
   "metadata": {},
   "source": [
    "- re모듈은 반환된 match객체에 사용 가능한 4가지의 함수를 추가로 제공한다."
   ]
  },
  {
   "cell_type": "markdown",
   "metadata": {},
   "source": [
    "#### group()"
   ]
  },
  {
   "cell_type": "markdown",
   "metadata": {},
   "source": [
    "- group() 함수는 매치된 문자열 자체를 반환해주는 함수이다.\n",
    "\n",
    "<div style = \"border : 1px solid green; padding : 5px; width = 50px;\">\n",
    "var.group()<br>\n",
    "<div style = \"color : gray;\">\n",
    "var : 반환되는 match객체\n",
    "</div></div>\n",
    "\n",
    "#### [group()을 통한 매치]"
   ]
  },
  {
   "cell_type": "code",
   "execution_count": 19,
   "metadata": {},
   "outputs": [
    {
     "data": {
      "text/plain": [
       "'abc'"
      ]
     },
     "execution_count": 19,
     "metadata": {},
     "output_type": "execute_result"
    }
   ],
   "source": [
    "m = re.match('abc', 'abcde')\n",
    "m.group()"
   ]
  },
  {
   "cell_type": "markdown",
   "metadata": {},
   "source": [
    "#### start()"
   ]
  },
  {
   "cell_type": "markdown",
   "metadata": {},
   "source": [
    "- start() 함수는 매치된 문자열의 시작 위치를 반환해주는 함수이다.\n",
    "\n",
    "<div style = \"border : 1px solid green; padding : 5px; width = 50px;\">\n",
    "var.start()<br>\n",
    "<div style = \"color : gray;\">\n",
    "var : 반환되는 match객체\n",
    "</div></div>\n",
    "\n",
    "#### [start()를 통한 매치]"
   ]
  },
  {
   "cell_type": "code",
   "execution_count": 20,
   "metadata": {},
   "outputs": [
    {
     "data": {
      "text/plain": [
       "0"
      ]
     },
     "execution_count": 20,
     "metadata": {},
     "output_type": "execute_result"
    }
   ],
   "source": [
    "m.start() # match()는 처음부터 매치되어야 하므로 0을 반환"
   ]
  },
  {
   "cell_type": "markdown",
   "metadata": {},
   "source": [
    "#### end()"
   ]
  },
  {
   "cell_type": "markdown",
   "metadata": {},
   "source": [
    "- 매치된 문자열의 끝 위치를 반환해주는 함수이다.\n",
    "\n",
    "<div style = \"border : 1px solid green; padding : 5px; width = 50px;\">\n",
    "var.end()<br>\n",
    "<div style = \"color : gray;\">\n",
    "var : 반환되는 match객체\n",
    "</div></div>\n",
    "\n",
    "#### [end()를 통한 매치]"
   ]
  },
  {
   "cell_type": "code",
   "execution_count": 21,
   "metadata": {},
   "outputs": [
    {
     "data": {
      "text/plain": [
       "3"
      ]
     },
     "execution_count": 21,
     "metadata": {},
     "output_type": "execute_result"
    }
   ],
   "source": [
    "m.end()"
   ]
  },
  {
   "cell_type": "markdown",
   "metadata": {},
   "source": [
    "#### span()"
   ]
  },
  {
   "cell_type": "markdown",
   "metadata": {},
   "source": [
    "- 매치된 문자열의 시작과 끝 위치를 튜플 형태로 반환해주는 함수이다.\n",
    "\n",
    "<div style = \"border : 1px solid green; padding : 5px; width = 50px;\">\n",
    "var.span()<br>\n",
    "<div style = \"color : gray;\">\n",
    "var : 반환되는 match객체\n",
    "</div></div>\n",
    "\n",
    "#### [span()을 통한 매치]"
   ]
  },
  {
   "cell_type": "code",
   "execution_count": 22,
   "metadata": {},
   "outputs": [
    {
     "data": {
      "text/plain": [
       "(0, 3)"
      ]
     },
     "execution_count": 22,
     "metadata": {},
     "output_type": "execute_result"
    }
   ],
   "source": [
    "m.span()"
   ]
  },
  {
   "cell_type": "markdown",
   "metadata": {},
   "source": [
    "## 연습문제\n",
    "\n",
    "### 1.\n",
    "(1) 학생 정보를 리스트 형태로 구성하여 파일에 입력하여라. <br>\n",
    "(2) 입력한 파일을 토대로 한 줄 씩 읽어온 뒤  화면에 출력하여라. <br>\n",
    "<br>\n",
    "- readlines()을 사용할 것\n",
    "- 학생 정보 : 이름, 학번, 나이, 학과, 학년, 전화번호\n",
    "- 파일 이름 : student.txt\n",
    "\n",
    "### 2.\n",
    "다음 정규 표현식의 결과를 예상하여라. <br>\n",
    "\n",
    "(1) [0-5]{1, 3}.[A-Z]{ ,3} <br>\n",
    "(2) 0*1*0+1*0 <br>\n",
    "(3) p.y{1, 2}[t-w]* <br>\n",
    "(4) [a-zA-Z0-9] <br>\n",
    "\n",
    "### 3.\n",
    "다음의 텍스트를 파일로 저장시켜 읽어온 뒤, 사용자의 입력을 받아 해당 문자열이 파일 내에 있는지 확인하여라. 문자열이 존재한다면 True를, 문자열이 존재하지 않는다면 False를 반환하여라.\n",
    "<br>\n",
    "<div style = \"border : 1px solid green; padding : 5px; width = 50px;\">\n",
    "The hyperledger is a distributed industry ledger standardization project for the blockchain open source project hosted by the Linux Foundation and aims to implement blockchain technologies applicable to various industries.\n",
    "    Hyperledger Fabric is one of Hyperledger’s subprojects, a consortium blockchain. Therefore only authorized participants can access the blockchain network. Hyperledger Fabric generates smart contracts using transactions controlled by chaincode.\n",
    "    Through this transaction it is possible to interact with the shared ledger and using the channel function it is possible to share the ledger among the desired members of the network participants.\n",
    "    Zcash is a cryptocurrency that completely protects an individual’s transaction information on the public blockchain. Because of applying a protocol using ZeroKnowledgeProof technology, it differs significantly from the existing public blockchain in which anyone can check the transaction details in terms of information disclosure.\n",
    "    Therefore, the validity of the transaction can be verified without exposing the receiver, sender, transaction amount, etc. in the Zcash transaction.\n",
    "</div></div>"
   ]
  }
 ],
 "metadata": {
  "kernelspec": {
   "display_name": "Python 3",
   "language": "python",
   "name": "python3"
  },
  "language_info": {
   "codemirror_mode": {
    "name": "ipython",
    "version": 3
   },
   "file_extension": ".py",
   "mimetype": "text/x-python",
   "name": "python",
   "nbconvert_exporter": "python",
   "pygments_lexer": "ipython3",
   "version": "3.7.4"
  }
 },
 "nbformat": 4,
 "nbformat_minor": 2
}
