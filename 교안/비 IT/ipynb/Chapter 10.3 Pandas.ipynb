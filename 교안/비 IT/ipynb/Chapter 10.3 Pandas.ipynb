{
 "cells": [
  {
   "cell_type": "markdown",
   "metadata": {},
   "source": [
    "## 10.3 Pandas Libarary"
   ]
  },
  {
   "cell_type": "markdown",
   "metadata": {},
   "source": [
    "### pandas소개\n",
    "- Python에서 제공하는 데이터 분석용 라이브러리로 대용량의 데이터들을 처리할 때 사용된다.\n",
    "- 행과 열로 이루어진 데이터 객체를 생성하며 데이터를 효율적으로 다루기 위하여 Series와 DataFrame 자료형을 제공한다.\n",
    "- DataFrame은 엑셀 프로그램에서 사용하는 시트(Sheet)와 동일한 개념이고 Series는 시트의 열 1개를 의미하는 단위로써 DataFrame은 Series들이 각 요소가 되는 딕셔너리로 볼 수 있다.\n",
    "- pandas를 사용하기 위해서 명령어 창을 이용하여 라이브러리를 설치해야 한다.\n",
    "-  명령어 창 접속 후 다운로드 명령어 입력\n",
    "\n",
    "#### pandas 사용하기"
   ]
  },
  {
   "cell_type": "markdown",
   "metadata": {},
   "source": [
    "#### pip install pandas\n",
    "- pandas의 설치는 앞서 설명한 Numpy의 방식과 유사하게 pip install pandas 명령어를 사용한다."
   ]
  },
  {
   "cell_type": "markdown",
   "metadata": {},
   "source": [
    "#### import pandas\n",
    "- pandas의 사용을 위해 import pandas 명령어를 사용한다."
   ]
  },
  {
   "cell_type": "code",
   "execution_count": 1,
   "metadata": {},
   "outputs": [],
   "source": [
    "import numpy as np\n",
    "import pandas as pd"
   ]
  },
  {
   "cell_type": "markdown",
   "metadata": {},
   "source": [
    "#### DataFrame 생성\n",
    "- DataFrame을 생성하기 위해서는 기본 구성 단위인 Series에 대하여 알아야 한다.\n",
    "- Series는 index, value, data type의 집합으로 구성되며 Python의 리스트 자료형으로 생성이 가능하다.\n",
    "\n",
    "<div style = \"border : 1px solid green; padding : 5px; width = 50px;\">\n",
    "#Series val = pandas.Series(value)<br>\n",
    "#Series val.values<br>\n",
    "#Series val.index<br>\n",
    "#Series val.dtype<br>\n",
    "<div style = \"color : gray;\">\n",
    "val : 변수명\n",
    "</div></div>\n",
    "\n",
    "#### [Series의 생성]"
   ]
  },
  {
   "cell_type": "code",
   "execution_count": 4,
   "metadata": {
    "scrolled": true
   },
   "outputs": [
    {
     "name": "stdout",
     "output_type": "stream",
     "text": [
      "0    5\n",
      "1    6\n",
      "2    7\n",
      "3    8\n",
      "dtype: int64\n"
     ]
    }
   ],
   "source": [
    "ser = pd.Series([5, 6, 7, 8])     #series 생성\n",
    "print(ser)     #구조 확인"
   ]
  },
  {
   "cell_type": "markdown",
   "metadata": {},
   "source": [
    "#### value, index, data type\n",
    "- index는 다양한 자료형의 값으로 초기화할 때 사용하는 함수이다.\n",
    "- 문자, 딕셔너리를 이용하여 index를 지정할 수 있다.\n",
    "\n",
    "<div style = \"border : 1px solid green; padding : 5px; width = 50px;\">\n",
    "#Series val = pandas.Series(value, index = index)<br>\n",
    "#Series val.values = pandas.Series(dictionary)<br>\n",
    "<div style = \"color : gray;\">\n",
    "val : 변수명<br>\n",
    "index : 문자를 이용한 index 입력<br>\n",
    "dictionary : 딕셔너리를 이용한 index 및 value 입력<br>\n",
    "</div></div>\n",
    "\n",
    "#### [value, index, dtype 확인하기]"
   ]
  },
  {
   "cell_type": "code",
   "execution_count": 5,
   "metadata": {},
   "outputs": [
    {
     "name": "stdout",
     "output_type": "stream",
     "text": [
      "[5 6 7 8]\n",
      "RangeIndex(start=0, stop=4, step=1)\n",
      "int64\n"
     ]
    }
   ],
   "source": [
    "print(ser.values)     # Value 확인\n",
    "print(ser.index)     #Index 확인\n",
    "print(ser.dtype)     #data type 확인"
   ]
  },
  {
   "cell_type": "markdown",
   "metadata": {},
   "source": [
    "#### [문자, 딕셔너리를 통하여 index를 지정한 Series]"
   ]
  },
  {
   "cell_type": "code",
   "execution_count": 3,
   "metadata": {},
   "outputs": [
    {
     "name": "stdout",
     "output_type": "stream",
     "text": [
      "a    5\n",
      "b    6\n",
      "c    7\n",
      "d    8\n",
      "dtype: int64\n",
      "a    5\n",
      "b    6\n",
      "c    7\n",
      "d    8\n",
      "dtype: int64\n"
     ]
    }
   ],
   "source": [
    "import  pandas as pd\n",
    "#문자를 이용한 index 지정\n",
    "ser_char = pd.Series([5, 6, 7, 8], index = ['a', 'b', 'c', 'd'])\n",
    "# 딕셔너리를 이용한 index 지정\n",
    "ser_dict = pd.Series( {'a' : 5, 'b' : 6, 'c' : 7, 'd' : 8 })\n",
    "print(ser_char)\n",
    "print(ser_dict)"
   ]
  },
  {
   "cell_type": "markdown",
   "metadata": {},
   "source": [
    "- index 레이블(label)과 Series의 이름을 지정할 수 있다.\n",
    "\n",
    "<div style = \"border : 1px solid green; padding : 5px; width = 50px;\">\n",
    "#Series 변수.index.name= label <br>\n",
    "#Series 변수.name = name<br>\n",
    "<div style = \"color : gray;\">\n",
    "label = index 레이블 입력<br>\n",
    "name = Series의 이름을 입력<br>\n",
    "</div></div>\n",
    "\n",
    "#### [index 레이블과 Series 이름 지정]"
   ]
  },
  {
   "cell_type": "code",
   "execution_count": 4,
   "metadata": {},
   "outputs": [
    {
     "name": "stdout",
     "output_type": "stream",
     "text": [
      "alp\n",
      "a    5\n",
      "b    6\n",
      "c    7\n",
      "d    8\n",
      "Name: example series, dtype: int64\n"
     ]
    }
   ],
   "source": [
    "import  pandas as pd\n",
    "ser = pd.Series([5, 6, 7, 8], index = ['a', 'b', 'c', 'd'])\n",
    "ser.index.name = \"alp\"\n",
    "ser.name = \"example series\"\n",
    "print(ser)"
   ]
  },
  {
   "cell_type": "markdown",
   "metadata": {},
   "source": [
    "- DataFrame은 2차원 테이블의 데이터 구조를 가지는 자료형이다.\n",
    "- 초기화를 위하여 딕셔너리 또는 numpy.array를 사용한다.\n",
    "\n",
    "<div style = \"border : 1px solid green; padding : 5px; width = 50px;\">\n",
    "#Data Frame변수 = pandas.DataFrame(dictionary)<br>\n",
    "<div style = \"color : gray;\">\n",
    "\n",
    "</div></div>\n",
    "\n",
    "#### [DataFrame의 초기화]"
   ]
  },
  {
   "cell_type": "code",
   "execution_count": 5,
   "metadata": {},
   "outputs": [
    {
     "data": {
      "text/html": [
       "<div>\n",
       "<style scoped>\n",
       "    .dataframe tbody tr th:only-of-type {\n",
       "        vertical-align: middle;\n",
       "    }\n",
       "\n",
       "    .dataframe tbody tr th {\n",
       "        vertical-align: top;\n",
       "    }\n",
       "\n",
       "    .dataframe thead th {\n",
       "        text-align: right;\n",
       "    }\n",
       "</style>\n",
       "<table border=\"1\" class=\"dataframe\">\n",
       "  <thead>\n",
       "    <tr style=\"text-align: right;\">\n",
       "      <th></th>\n",
       "      <th>FirstName</th>\n",
       "      <th>LastName</th>\n",
       "      <th>Age</th>\n",
       "      <th>Score</th>\n",
       "    </tr>\n",
       "  </thead>\n",
       "  <tbody>\n",
       "    <tr>\n",
       "      <td>0</td>\n",
       "      <td>Lee</td>\n",
       "      <td>Jeonghwan</td>\n",
       "      <td>27</td>\n",
       "      <td>100</td>\n",
       "    </tr>\n",
       "    <tr>\n",
       "      <td>1</td>\n",
       "      <td>Park</td>\n",
       "      <td>Taesu</td>\n",
       "      <td>25</td>\n",
       "      <td>80</td>\n",
       "    </tr>\n",
       "    <tr>\n",
       "      <td>2</td>\n",
       "      <td>Lim</td>\n",
       "      <td>Haeyoung</td>\n",
       "      <td>26</td>\n",
       "      <td>85</td>\n",
       "    </tr>\n",
       "    <tr>\n",
       "      <td>3</td>\n",
       "      <td>Choi</td>\n",
       "      <td>Sooryn</td>\n",
       "      <td>26</td>\n",
       "      <td>90</td>\n",
       "    </tr>\n",
       "  </tbody>\n",
       "</table>\n",
       "</div>"
      ],
      "text/plain": [
       "  FirstName   LastName  Age  Score\n",
       "0       Lee  Jeonghwan   27    100\n",
       "1      Park      Taesu   25     80\n",
       "2       Lim   Haeyoung   26     85\n",
       "3      Choi     Sooryn   26     90"
      ]
     },
     "execution_count": 5,
     "metadata": {},
     "output_type": "execute_result"
    }
   ],
   "source": [
    "data = {'FirstName':['Lee','Park','Lim','Choi'],\n",
    "       'LastName' : ['Jeonghwan', 'Taesu', 'Haeyoung', 'Sooryn'],\n",
    "       'Age' : [27,25,26,26],\n",
    "        'Score' : [100,80,85,90]}     #dictionary를 이용한 Data Frame의 초기화\n",
    "df = pd.DataFrame(data)\n",
    "df"
   ]
  },
  {
   "cell_type": "markdown",
   "metadata": {},
   "source": [
    "- 또한 DataFrame은 index, columns, values로 이루어져 있다.\n",
    "- index는 행 방향의 자료 위치를 나타내고 columns는 열 방향의 자료 위치를 나타내며 values는 실제 DataFrame 내부의 들어있는 값을 나타낸다.\n",
    "\n",
    "#### [DataFrame의 index, columns, values]"
   ]
  },
  {
   "cell_type": "code",
   "execution_count": 20,
   "metadata": {},
   "outputs": [
    {
     "data": {
      "text/plain": [
       "RangeIndex(start=0, stop=4, step=1)"
      ]
     },
     "execution_count": 20,
     "metadata": {},
     "output_type": "execute_result"
    }
   ],
   "source": [
    "df.index"
   ]
  },
  {
   "cell_type": "code",
   "execution_count": 6,
   "metadata": {},
   "outputs": [
    {
     "data": {
      "text/plain": [
       "array([['Sam', 'Park', 27, 100],\n",
       "       ['John', 'Smith', 25, 80],\n",
       "       ['James', 'Jordan', 26, 85]], dtype=object)"
      ]
     },
     "execution_count": 6,
     "metadata": {},
     "output_type": "execute_result"
    }
   ],
   "source": [
    "import  pandas as pd\n",
    "data = {'FirstName'  : ['Sam', 'John', 'James'],'LastName' : ['Park', 'Smith', 'Jordan'],'Age' : [27, 25, 26],'Score' : [100, 80, 85] }\n",
    "df = pd.DataFrame(data)\n",
    "# Data Frame의 인덱스 정보 확인\n",
    "df.index\n",
    "# Data Frame의 컬럼 정보 확인\n",
    "df.columns\n",
    "# Data Frame의 프레임 내부 값 확인 \n",
    "df.values"
   ]
  },
  {
   "cell_type": "markdown",
   "metadata": {},
   "source": [
    "- DataFrame내 요소에 접근하기 위하여 columns의 이름이나 범위 등의 다양한 방법을 이용할 수 있다.\n",
    "\n",
    "<div style = \"border : 1px solid green; padding : 5px; width = 50px;\">\n",
    "#Data Frame변수.[columns]<br>\n",
    "<div style = \"color : gray;\">\n",
    "columns : 열의 이름 또는 숫자 범위를 입력\n",
    "</div></div>\n",
    "\n",
    "#### [DataFrame 요소값 접근 및 출력]"
   ]
  },
  {
   "cell_type": "code",
   "execution_count": 21,
   "metadata": {},
   "outputs": [
    {
     "data": {
      "text/plain": [
       "Index(['FirstName', 'LastName', 'Age', 'Score'], dtype='object')"
      ]
     },
     "execution_count": 21,
     "metadata": {},
     "output_type": "execute_result"
    }
   ],
   "source": [
    "df.columns"
   ]
  },
  {
   "cell_type": "code",
   "execution_count": 7,
   "metadata": {},
   "outputs": [
    {
     "name": "stdout",
     "output_type": "stream",
     "text": [
      "0    27\n",
      "1    25\n",
      "2    26\n",
      "Name: Age, dtype: int64\n",
      "  FirstName LastName  Age  Score\n",
      "0       Sam     Park   27    100\n",
      "1      John    Smith   25     80\n"
     ]
    }
   ],
   "source": [
    "import  pandas as pd\n",
    "data = {'FirstName'  : ['Sam', 'John', 'James'],'LastName' : ['Park', 'Smith', 'Jordan'],'Age' : [27, 25, 26],'Score' : [100, 80, 85] }\n",
    "df = pd.DataFrame(data)\n",
    "# df.Age 로도 동일한 결과로 출력이 가능하다.\n",
    "print(df['Age'])\n",
    "print(df[0:2])"
   ]
  },
  {
   "cell_type": "markdown",
   "metadata": {},
   "source": [
    "- 다양한 수식이나 통계적 지표를 출력할 때 describe를 사용한다.\n",
    "\n",
    "<div style = \"border : 1px solid green; padding : 5px; width = 50px;\">\n",
    "#Data Frame변수.describe()<br>\n",
    "<div style = \"color : gray;\">\n",
    "\n",
    "</div></div>\n",
    "\n",
    "- 다음의 예제는 딕셔너리의 데이터를 표로 출력하는 예제이다.\n",
    "\n",
    "#### [DataFrame의 describe함수 사용]"
   ]
  },
  {
   "cell_type": "code",
   "execution_count": 8,
   "metadata": {},
   "outputs": [
    {
     "data": {
      "text/html": [
       "<div>\n",
       "<style scoped>\n",
       "    .dataframe tbody tr th:only-of-type {\n",
       "        vertical-align: middle;\n",
       "    }\n",
       "\n",
       "    .dataframe tbody tr th {\n",
       "        vertical-align: top;\n",
       "    }\n",
       "\n",
       "    .dataframe thead th {\n",
       "        text-align: right;\n",
       "    }\n",
       "</style>\n",
       "<table border=\"1\" class=\"dataframe\">\n",
       "  <thead>\n",
       "    <tr style=\"text-align: right;\">\n",
       "      <th></th>\n",
       "      <th>Age</th>\n",
       "      <th>Score</th>\n",
       "    </tr>\n",
       "  </thead>\n",
       "  <tbody>\n",
       "    <tr>\n",
       "      <td>count</td>\n",
       "      <td>3.0</td>\n",
       "      <td>3.000000</td>\n",
       "    </tr>\n",
       "    <tr>\n",
       "      <td>mean</td>\n",
       "      <td>26.0</td>\n",
       "      <td>88.333333</td>\n",
       "    </tr>\n",
       "    <tr>\n",
       "      <td>std</td>\n",
       "      <td>1.0</td>\n",
       "      <td>10.408330</td>\n",
       "    </tr>\n",
       "    <tr>\n",
       "      <td>min</td>\n",
       "      <td>25.0</td>\n",
       "      <td>80.000000</td>\n",
       "    </tr>\n",
       "    <tr>\n",
       "      <td>25%</td>\n",
       "      <td>25.5</td>\n",
       "      <td>82.500000</td>\n",
       "    </tr>\n",
       "    <tr>\n",
       "      <td>50%</td>\n",
       "      <td>26.0</td>\n",
       "      <td>85.000000</td>\n",
       "    </tr>\n",
       "    <tr>\n",
       "      <td>75%</td>\n",
       "      <td>26.5</td>\n",
       "      <td>92.500000</td>\n",
       "    </tr>\n",
       "    <tr>\n",
       "      <td>max</td>\n",
       "      <td>27.0</td>\n",
       "      <td>100.000000</td>\n",
       "    </tr>\n",
       "  </tbody>\n",
       "</table>\n",
       "</div>"
      ],
      "text/plain": [
       "        Age       Score\n",
       "count   3.0    3.000000\n",
       "mean   26.0   88.333333\n",
       "std     1.0   10.408330\n",
       "min    25.0   80.000000\n",
       "25%    25.5   82.500000\n",
       "50%    26.0   85.000000\n",
       "75%    26.5   92.500000\n",
       "max    27.0  100.000000"
      ]
     },
     "execution_count": 8,
     "metadata": {},
     "output_type": "execute_result"
    }
   ],
   "source": [
    "import  pandas as pd\n",
    "\n",
    "data = {'FirstName'  : ['Sam', 'John', 'James'],'LastName' : ['Park', 'Smith', 'Jordan'],'Age' : [27, 25, 26],'Score' : [100, 80, 85] }\n",
    "df = pd.DataFrame(data)\n",
    "df.describe()"
   ]
  },
  {
   "cell_type": "markdown",
   "metadata": {},
   "source": [
    "- DataFrame의 index, columns 정보를 수정 및 삭제를 위하여 변경하고자 하는 값을 대입하는 방법을 사용한다.\n",
    "\n",
    "<div style = \"border : 1px solid green; padding : 5px; width = 50px;\">\n",
    "#Data Frame변수.index = value<br>\n",
    "#Data Frame변수.columns = value<br>\n",
    "<div style = \"color : gray;\">\n",
    "value = 새로 추가하고자 하는 값을 입력<br>\n",
    "</div></div>\n",
    "\n",
    "#### [DataFrame의 요수 수정 및 삭제]"
   ]
  },
  {
   "cell_type": "code",
   "execution_count": 22,
   "metadata": {},
   "outputs": [
    {
     "data": {
      "text/plain": [
       "array([['Lee', 'Jeonghwan', 27, 100],\n",
       "       ['Park', 'Taesu', 25, 80],\n",
       "       ['Lim', 'Haeyoung', 26, 85],\n",
       "       ['Choi', 'Sooryn', 26, 90]], dtype=object)"
      ]
     },
     "execution_count": 22,
     "metadata": {},
     "output_type": "execute_result"
    }
   ],
   "source": [
    "df.values"
   ]
  },
  {
   "cell_type": "code",
   "execution_count": 9,
   "metadata": {},
   "outputs": [
    {
     "data": {
      "text/html": [
       "<div>\n",
       "<style scoped>\n",
       "    .dataframe tbody tr th:only-of-type {\n",
       "        vertical-align: middle;\n",
       "    }\n",
       "\n",
       "    .dataframe tbody tr th {\n",
       "        vertical-align: top;\n",
       "    }\n",
       "\n",
       "    .dataframe thead th {\n",
       "        text-align: right;\n",
       "    }\n",
       "</style>\n",
       "<table border=\"1\" class=\"dataframe\">\n",
       "  <thead>\n",
       "    <tr style=\"text-align: right;\">\n",
       "      <th></th>\n",
       "      <th>Fname</th>\n",
       "      <th>Lname</th>\n",
       "      <th>Score</th>\n",
       "    </tr>\n",
       "  </thead>\n",
       "  <tbody>\n",
       "    <tr>\n",
       "      <td>one</td>\n",
       "      <td>Sam</td>\n",
       "      <td>Park</td>\n",
       "      <td>100</td>\n",
       "    </tr>\n",
       "    <tr>\n",
       "      <td>two</td>\n",
       "      <td>John</td>\n",
       "      <td>Smith</td>\n",
       "      <td>80</td>\n",
       "    </tr>\n",
       "    <tr>\n",
       "      <td>three</td>\n",
       "      <td>James</td>\n",
       "      <td>Jordan</td>\n",
       "      <td>85</td>\n",
       "    </tr>\n",
       "  </tbody>\n",
       "</table>\n",
       "</div>"
      ],
      "text/plain": [
       "       Fname   Lname  Score\n",
       "one      Sam    Park    100\n",
       "two     John   Smith     80\n",
       "three  James  Jordan     85"
      ]
     },
     "execution_count": 9,
     "metadata": {},
     "output_type": "execute_result"
    }
   ],
   "source": [
    "import  pandas as pd\n",
    "\n",
    "data = {'FirstName'  : ['Sam', 'John', 'James'],'LastName' : ['Park', 'Smith', 'Jordan'],'Age' : [27, 25, 26],'Score' : [100, 80, 85] }\n",
    "df = pd.DataFrame(data)\n",
    "# index 수정\n",
    "df.index = ['one', 'two', 'three']\n",
    "# columns 수정\n",
    "df.columns = ['Fname', 'Lname', 'Age', 'Score']\n",
    "del df['Age']\n",
    "df"
   ]
  },
  {
   "cell_type": "markdown",
   "metadata": {},
   "source": [
    "- Series, List를 이용하여 DataFrame에 새로운 열을 추가한다.\n",
    "\n",
    "<div style = \"border : 1px solid green; padding : 5px; width = 50px;\">\n",
    "#Data Frame변수.[columns] = value<br>\n",
    "<div style = \"color : gray;\">\n",
    "columns = 새로 추가하고자 하는 column의 이름을 입력<br>\n",
    "value = 새로 추가하고자 하는 값을 입력<br>\n",
    "</div></div>\n",
    "\n",
    "- value의 값을 Series값으로 대체하여 입력이 가능하다.\n",
    "- Series를 이용하여 값을 추가할 때 지정되지 않은 index의 값은 NaN값으로 지정한다.\n",
    "\n",
    "#### * NaN값이란?\n",
    "- A. 표현 불가능한 수치형 결과를 표현한 값, Not a Number의 약자\n",
    "\n",
    "#### [DataFrame의 새로운 열 추가]"
   ]
  },
  {
   "cell_type": "code",
   "execution_count": 83,
   "metadata": {},
   "outputs": [
    {
     "data": {
      "text/html": [
       "<div>\n",
       "<style scoped>\n",
       "    .dataframe tbody tr th:only-of-type {\n",
       "        vertical-align: middle;\n",
       "    }\n",
       "\n",
       "    .dataframe tbody tr th {\n",
       "        vertical-align: top;\n",
       "    }\n",
       "\n",
       "    .dataframe thead th {\n",
       "        text-align: right;\n",
       "    }\n",
       "</style>\n",
       "<table border=\"1\" class=\"dataframe\">\n",
       "  <thead>\n",
       "    <tr style=\"text-align: right;\">\n",
       "      <th></th>\n",
       "      <th>Fname</th>\n",
       "      <th>Lname</th>\n",
       "      <th>Score</th>\n",
       "      <th>Grade</th>\n",
       "      <th>location</th>\n",
       "    </tr>\n",
       "  </thead>\n",
       "  <tbody>\n",
       "    <tr>\n",
       "      <th>one</th>\n",
       "      <td>Lee</td>\n",
       "      <td>Jeonghwan</td>\n",
       "      <td>100</td>\n",
       "      <td>A</td>\n",
       "      <td>Seoul</td>\n",
       "    </tr>\n",
       "    <tr>\n",
       "      <th>two</th>\n",
       "      <td>Park</td>\n",
       "      <td>Taesu</td>\n",
       "      <td>80</td>\n",
       "      <td>B</td>\n",
       "      <td>NaN</td>\n",
       "    </tr>\n",
       "    <tr>\n",
       "      <th>three</th>\n",
       "      <td>Lim</td>\n",
       "      <td>Haeyoung</td>\n",
       "      <td>85</td>\n",
       "      <td>B</td>\n",
       "      <td>Seoul</td>\n",
       "    </tr>\n",
       "    <tr>\n",
       "      <th>four</th>\n",
       "      <td>Choi</td>\n",
       "      <td>Sooryn</td>\n",
       "      <td>90</td>\n",
       "      <td>B</td>\n",
       "      <td>Daegu</td>\n",
       "    </tr>\n",
       "  </tbody>\n",
       "</table>\n",
       "</div>"
      ],
      "text/plain": [
       "      Fname      Lname  Score Grade location\n",
       "one     Lee  Jeonghwan    100     A    Seoul\n",
       "two    Park      Taesu     80     B      NaN\n",
       "three   Lim   Haeyoung     85     B    Seoul\n",
       "four   Choi     Sooryn     90     B    Daegu"
      ]
     },
     "execution_count": 83,
     "metadata": {},
     "output_type": "execute_result"
    }
   ],
   "source": [
    "df['Grade']=['A','B','B','B']     #list를 이용한 열 추가\n",
    "ser = pd.Series(['Seoul','Seoul','Daegu'],index=['one','three','four'])     #series를 이용한 열 추가\n",
    "df['location'] = ser\n",
    "df"
   ]
  },
  {
   "cell_type": "markdown",
   "metadata": {},
   "source": [
    "- DataFrame에서 원하는 데이터에 접근하고 그 값을 출력하기 위하여 loc을 이용한다.\n",
    "\n",
    "<div style = \"border : 1px solid green; padding : 5px; width = 50px;\">\n",
    "#Data Frame변수.loc(condition)<br>\n",
    "<div style = \"color : gray;\">\n",
    "condition = 데이터 접근을 하고자 하는 행의 조건을 입력 \n",
    "</div></div>\n",
    "\n",
    "- 특정 columns를 지정하여 출력이 가능하며 필요한 조건에 따른 행을 출력할 수 있다.\n",
    "- 또한 조건에 맞는 행에 접근하여 값을 수정할 수 있다.\n",
    "\n",
    "#### [DataFrame의 loc함수 활용]"
   ]
  },
  {
   "cell_type": "code",
   "execution_count": 30,
   "metadata": {},
   "outputs": [
    {
     "data": {
      "text/html": [
       "<div>\n",
       "<style scoped>\n",
       "    .dataframe tbody tr th:only-of-type {\n",
       "        vertical-align: middle;\n",
       "    }\n",
       "\n",
       "    .dataframe tbody tr th {\n",
       "        vertical-align: top;\n",
       "    }\n",
       "\n",
       "    .dataframe thead th {\n",
       "        text-align: right;\n",
       "    }\n",
       "</style>\n",
       "<table border=\"1\" class=\"dataframe\">\n",
       "  <thead>\n",
       "    <tr style=\"text-align: right;\">\n",
       "      <th></th>\n",
       "      <th>Fname</th>\n",
       "      <th>Lname</th>\n",
       "      <th>Score</th>\n",
       "    </tr>\n",
       "  </thead>\n",
       "  <tbody>\n",
       "    <tr>\n",
       "      <th>two</th>\n",
       "      <td>Park</td>\n",
       "      <td>Taesu</td>\n",
       "      <td>80</td>\n",
       "    </tr>\n",
       "    <tr>\n",
       "      <th>three</th>\n",
       "      <td>Lim</td>\n",
       "      <td>Haeyoung</td>\n",
       "      <td>85</td>\n",
       "    </tr>\n",
       "    <tr>\n",
       "      <th>four</th>\n",
       "      <td>Choi</td>\n",
       "      <td>Sooryn</td>\n",
       "      <td>90</td>\n",
       "    </tr>\n",
       "  </tbody>\n",
       "</table>\n",
       "</div>"
      ],
      "text/plain": [
       "      Fname     Lname  Score\n",
       "two    Park     Taesu     80\n",
       "three   Lim  Haeyoung     85\n",
       "four   Choi    Sooryn     90"
      ]
     },
     "execution_count": 30,
     "metadata": {},
     "output_type": "execute_result"
    }
   ],
   "source": [
    "df.loc['two':'four']    #two~four행\n",
    "\n"
   ]
  },
  {
   "cell_type": "markdown",
   "metadata": {},
   "source": [
    "- DataFrame내 NaN값의 존재 여부를 확인하기 위하여 isnull()함수를 이용한다.\n",
    "- 또한 fillna()함수를 이용하여 NaN값 행의 value를 변경할 수 있다.\n",
    "- NaN값 행을 삭제하고자 할 때는 dropna()함수를 사용한다.\n",
    "\n",
    "<div style = \"border : 1px solid green; padding : 5px; width = 50px;\">\n",
    "빈칸(blank) : NaN값을 가진 모든 행을 삭제한다. <br>\n",
    "axis = value : value에 해당하는 열을 삭제한다.    <br>\n",
    "how = 'any' : 행의 값 중 NaN값을 포함하는 값이 하나라도 존재한다면                해당 행을 삭제한다.    <br>\n",
    "how = 'all' : 행의 모든 값이 NaN값이라면 해당 행을 삭제한다.    \n",
    "<div style = \"color : gray;\">\n",
    "</div></div>\n",
    "\n",
    "#### [DataFrame의 새로운 열 추가]"
   ]
  },
  {
   "cell_type": "code",
   "execution_count": 10,
   "metadata": {},
   "outputs": [
    {
     "name": "stdout",
     "output_type": "stream",
     "text": [
      "       Fname  Lname  Score\n",
      "one    False  False  False\n",
      "two    False  False  False\n",
      "three  False  False  False\n"
     ]
    },
    {
     "data": {
      "text/html": [
       "<div>\n",
       "<style scoped>\n",
       "    .dataframe tbody tr th:only-of-type {\n",
       "        vertical-align: middle;\n",
       "    }\n",
       "\n",
       "    .dataframe tbody tr th {\n",
       "        vertical-align: top;\n",
       "    }\n",
       "\n",
       "    .dataframe thead th {\n",
       "        text-align: right;\n",
       "    }\n",
       "</style>\n",
       "<table border=\"1\" class=\"dataframe\">\n",
       "  <thead>\n",
       "    <tr style=\"text-align: right;\">\n",
       "      <th></th>\n",
       "      <th>Fname</th>\n",
       "      <th>Lname</th>\n",
       "      <th>Score</th>\n",
       "    </tr>\n",
       "  </thead>\n",
       "  <tbody>\n",
       "    <tr>\n",
       "      <td>one</td>\n",
       "      <td>Sam</td>\n",
       "      <td>Park</td>\n",
       "      <td>100</td>\n",
       "    </tr>\n",
       "    <tr>\n",
       "      <td>two</td>\n",
       "      <td>John</td>\n",
       "      <td>Smith</td>\n",
       "      <td>80</td>\n",
       "    </tr>\n",
       "    <tr>\n",
       "      <td>three</td>\n",
       "      <td>James</td>\n",
       "      <td>Jordan</td>\n",
       "      <td>85</td>\n",
       "    </tr>\n",
       "  </tbody>\n",
       "</table>\n",
       "</div>"
      ],
      "text/plain": [
       "       Fname   Lname  Score\n",
       "one      Sam    Park    100\n",
       "two     John   Smith     80\n",
       "three  James  Jordan     85"
      ]
     },
     "execution_count": 10,
     "metadata": {},
     "output_type": "execute_result"
    }
   ],
   "source": [
    "print(df.isnull())\n",
    "#NaN값을 가진 행에 0의 값을 넣기\n",
    "df.fillna(value=0)\n",
    "#NaN값을 가진 모든 행 삭제\n",
    "#df.dropna()\n",
    "#행의 값중 NaN값을 포함하는 값이 하나라도 있으면, 해당 행 삭제\n",
    "#df.dropna(how=‘any’)\n",
    "#행의 모든 값이 NaN값이라면 해당 행 삭제\n",
    "#df.dropna(how=‘all’)"
   ]
  },
  {
   "cell_type": "markdown",
   "metadata": {},
   "source": [
    "- sum()함수는 axis를 인자로 받아 해당 DataFrame 열의 합 또는 행의 합을 반환한다.\n",
    "- DataFrame[열], DataFrame.loc[행] 의 형식으로 해당 행 또는 열의 합을 반환할 수 있다.\n",
    "\n",
    "<div style = \"border : 1px solid green; padding : 5px; width = 50px;\">\n",
    "#Data Frame변수.sum(parameter=value)<br>\n",
    "#Data Frame변수[value].sum()<br>\n",
    "#Data Frame변수.loc[value].sum()<br>\n",
    "<div style = \"color : gray;\">\n",
    "parameter : axis(0:열, 1:행)값을 입력 \n",
    "</div></div>\n",
    "\n",
    "#### [DataFrame에서 요소의 합 구하기]"
   ]
  },
  {
   "cell_type": "code",
   "execution_count": 11,
   "metadata": {},
   "outputs": [
    {
     "name": "stdout",
     "output_type": "stream",
     "text": [
      "0    15\n",
      "1    18\n",
      "2    21\n",
      "3    23\n",
      "dtype: int64\n",
      "0    10\n",
      "1    26\n",
      "2    41\n",
      "dtype: int64\n",
      "18\n",
      "26\n"
     ]
    }
   ],
   "source": [
    "import  pandas as pd\n",
    "data = [[1, 2, 3, 4], [5, 6, 7, 8], [9, 10, 11, 11]]\n",
    "df = pd.DataFrame(data)\n",
    "# 각 열의 합\n",
    "print(df.sum(axis=0))\n",
    "# 각 행의 합\n",
    "print(df.sum(axis=1))\n",
    "# 1열의 합\n",
    "print(df[1].sum())\n",
    "# 1행의 합\n",
    "print(df.loc[1].sum())"
   ]
  },
  {
   "cell_type": "markdown",
   "metadata": {},
   "source": [
    "- duplicated()함수를 이용하여 요소의 중복 여부를 알 수 있다.\n",
    "\n",
    "<div style = \"border : 1px solid green; padding : 5px; width = 50px;\">\n",
    "#Data Frame변수.duplicated() <br>\n",
    "<div style = \"color : gray;\">\n",
    "\n",
    "</div></div>\n",
    "\n",
    "#### [DataFrame에서 중복 여부 확인]"
   ]
  },
  {
   "cell_type": "code",
   "execution_count": 12,
   "metadata": {},
   "outputs": [
    {
     "data": {
      "text/plain": [
       "0    False\n",
       "1     True\n",
       "2    False\n",
       "3    False\n",
       "4    False\n",
       "dtype: bool"
      ]
     },
     "execution_count": 12,
     "metadata": {},
     "output_type": "execute_result"
    }
   ],
   "source": [
    "import  pandas as pd\n",
    "# 딕셔너리를 이용한 DataFrame의 초기화\n",
    "\n",
    "data = {'FirstName': ['Lee', 'Lee', 'Park', 'Lim', 'Choi'],'LastName': ['Jeonghwan', 'Jeonghwan', 'Taesu', 'Haeyoung', 'Sooryn'], 'Age' : [27, 27, 25, 26, 26], 'Score' : [100, 100, 80, 85, 90] }\n",
    "df = pd.DataFrame(data)\n",
    "# DataFrame 출력\n",
    "df\n",
    "# 중복 여부 출력\n",
    "df.duplicated()"
   ]
  },
  {
   "cell_type": "markdown",
   "metadata": {},
   "source": [
    "## 연습문제\n",
    "\n",
    "### 1. 다음과 같은 데이터셋을 이용해 데이터 프레임을 생성시켜 보자.\n",
    "\n",
    "- 사람 세 명에 대한 데이터셋\n",
    "- 이름은 각각 Tom, Lina, Mike\n",
    "- 몸무게는 70, 60, 55\n",
    "- 키는 160, 170, 165\n",
    "\n",
    "### 2. 위에서 생성한 데이터 프레임을 수정 해 보자.\n",
    "\n",
    "- Lucy, 51, 163 데이터 추가\n",
    "- BMI 항목 추가\n",
    "- BMI 항목에 데이터 추가(체중/(키*키))\n",
    "- 비만 여부 항목 추가\n",
    "- BMI 지수가 25보다 높다면 비만 여부 항목에 비만 추가, 아니라면 정상\n",
    "\n",
    "### 3. 위에서 생성한 데이터 프레임을 Matplotlib를 활용하여 그래프화 해보자.\n",
    "\n",
    "아래와 같은 데이터셋을 활용하여 문제에서 요구하는 그래프를 그려 보자.  \n",
    "\n",
    "- scatter 형 그래프 \n",
    "- x의 label은 time  \n",
    "- y의 label은 velocity \n",
    "- 차트의 제목은 height per weight \n",
    "- 데이터의 합을 나타내는 실선 형태의 레이블 추가\n",
    "- 30 이상인 값을 나타내는 점선 형태의 레이블 추가 "
   ]
  }
 ],
 "metadata": {
  "kernelspec": {
   "display_name": "Python 3",
   "language": "python",
   "name": "python3"
  },
  "language_info": {
   "codemirror_mode": {
    "name": "ipython",
    "version": 3
   },
   "file_extension": ".py",
   "mimetype": "text/x-python",
   "name": "python",
   "nbconvert_exporter": "python",
   "pygments_lexer": "ipython3",
   "version": "3.7.4"
  },
  "widgets": {
   "application/vnd.jupyter.widget-state+json": {
    "state": {},
    "version_major": 2,
    "version_minor": 0
   }
  }
 },
 "nbformat": 4,
 "nbformat_minor": 2
}
