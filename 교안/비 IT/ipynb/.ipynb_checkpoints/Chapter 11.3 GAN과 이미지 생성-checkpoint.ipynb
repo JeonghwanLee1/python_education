{
 "cells": [
  {
   "cell_type": "markdown",
   "metadata": {
    "slideshow": {
     "slide_type": "slide"
    }
   },
   "source": [
    "### 11.3 GAN과 이미지 생성"
   ]
  },
  {
   "cell_type": "markdown",
   "metadata": {
    "slideshow": {
     "slide_type": "subslide"
    }
   },
   "source": [
    "<b>GAN(Generative Adversarial Network)이란 무엇일까?\n",
    "</b>\n",
    "- 두 개의 목표가 다른 모델을 적대적 방식으로 학습시키는 방법이다.\n",
    "- 생성자 모델(Generator)과 구별자 모델(Discriminator)로 이루어진다.\n",
    "<div style=\"border : 1px solid #f2f2f2; padding : 5px; text-align : center;\">\n",
    "<figure>\n",
    "<img src=https://user-images.githubusercontent.com/43736669/75452848-4da80b80-59b6-11ea-825b-4c4834b3b7dd.png style=\"\">\n",
    "    <center><figcaption>&#60;그림 1&#62; 생성자와 구별자\n",
    "        </figcaption></center>\n",
    "</figure></div>\n",
    "\n",
    "- 생성자의 목표는 구별자가 구분해 내지 못하는 가짜 이미지를 생성해 내는 것이다.\n",
    "- 구별자의 목표는 생성자가 만든 가짜 이미지를 구별해 내는 것이다.\n",
    "- 위 상반된 목표를 통해 두 모델의 경쟁적 발전을 도모한다.\n",
    "\n",
    "<div style=\"border : 1px solid #f2f2f2; padding : 5px; text-align : center;\">\n",
    "<figure>\n",
    "<img src=https://user-images.githubusercontent.com/43736669/75453091-b8594700-59b6-11ea-9bd5-1551b3aa0cf4.png style=\"\">\n",
    "    <center><figcaption>&#60;그림 2&#62; GAN 구조\n",
    "        </figcaption></center>\n",
    "</figure></div>\n",
    "\n",
    "<b>GAN의 활용 사례</b>\n",
    "- 실제 GAN은 각종 미디어 산업에서 자주 사용되고 있으며 GAN을 활용한 기술은 그 가능성이 무한하다. 몇 가지 사례를 들어보면 다음과 같다.\n",
    "\n",
    "<div style=\"border : 1px solid #f2f2f2; padding : 5px; text-align : center;\">\n",
    "<figure>\n",
    "<img src=https://user-images.githubusercontent.com/43736669/75453305-12f2a300-59b7-11ea-8412-f18bc59870c1.png style=\"\">\n",
    "    <center><figcaption>&#60;그림 3&#62; NC소프트의 실제 얼굴 애니메이션화 기술\n",
    "        </figcaption></center>\n",
    "</figure></div>\n",
    "\n",
    "<div style=\"border : 1px solid #f2f2f2; padding : 5px; text-align : center;\">\n",
    "<figure>\n",
    "<img src=https://user-images.githubusercontent.com/43736669/75453379-2ef64480-59b7-11ea-8666-2a1828664170.png style=\"\">\n",
    "    <center><figcaption>&#60;그림 4&#62; 사용자가 스케치한 그림을 실시간으로 스타일링해주는 빈센트AI\n",
    "        </figcaption></center>\n",
    "</figure></div>"
   ]
  },
  {
   "cell_type": "markdown",
   "metadata": {},
   "source": [
    "<b>DCGAN</b>\n",
    "- 기존의 학습이 어려운 GAN의 단점을 보완하여 더욱 발전시킨 모델이다.\n",
    "- CNN에서 활용했던 합성곱(Convolution) 연산 등을 활용하여 훨씬 복잡한 네트워크 구조를 만들었다.\n",
    "- 배치 정규화(Batch Normalization)를 이용하여 데이터의 스케일을 고르게 분포시켰다.\n",
    "- DCGAN에서의 정확도 향상으로 인해 GAN 모델이 유명해지게 되었다.\n",
    "\n",
    "<div style=\"border : 1px solid #f2f2f2; padding : 5px; text-align : center;\">\n",
    "<figure>\n",
    "<img src=https://user-images.githubusercontent.com/43736669/75453544-69f87800-59b7-11ea-992b-cc73b80ba681.png style=\"\">\n",
    "    <center><figcaption>&#60;그림 5&#62; DCGAN의 생성자 구조\n",
    "        </figcaption></center>\n",
    "</figure></div>\n",
    "\n",
    "<b>텐서플로우를 활용한 GAN의 구현</b>\n",
    "- 이제 우리는 텐서플로우를 이용해 앞서 설명했던 GAN을 구현해 볼 것이며, MNIST 데이터를 활용해 모델을 학습시켜 이미지를 생성 해 볼 것이다. \n"
   ]
  },
  {
   "cell_type": "markdown",
   "metadata": {},
   "source": [
    "<b>MNIST 데이터 Import</b>"
   ]
  },
  {
   "cell_type": "code",
   "execution_count": 1,
   "metadata": {},
   "outputs": [],
   "source": [
    "import tensorflow.compat.v1 as tf\n",
    "import numpy as np\n",
    "import matplotlib.pyplot as plt"
   ]
  },
  {
   "cell_type": "code",
   "execution_count": 2,
   "metadata": {
    "scrolled": true
   },
   "outputs": [
    {
     "name": "stdout",
     "output_type": "stream",
     "text": [
      "WARNING:tensorflow:From <ipython-input-2-c4e3e12ccd95>:2: read_data_sets (from input_data) is deprecated and will be removed in a future version.\n",
      "Instructions for updating:\n",
      "Please use alternatives such as: tensorflow_datasets.load('mnist')\n",
      "WARNING:tensorflow:From C:\\Users\\코딩왕이정환\\파이썬 교안 작업\\input_data.py:284: _maybe_download (from input_data) is deprecated and will be removed in a future version.\n",
      "Instructions for updating:\n",
      "Please write your own downloading logic.\n",
      "WARNING:tensorflow:From C:\\Users\\코딩왕이정환\\파이썬 교안 작업\\input_data.py:286: _extract_images (from input_data) is deprecated and will be removed in a future version.\n",
      "Instructions for updating:\n",
      "Please use tf.data to implement this functionality.\n",
      "Extracting MNIST_data/train-images-idx3-ubyte.gz\n",
      "WARNING:tensorflow:From C:\\Users\\코딩왕이정환\\파이썬 교안 작업\\input_data.py:291: _extract_labels (from input_data) is deprecated and will be removed in a future version.\n",
      "Instructions for updating:\n",
      "Please use tf.data to implement this functionality.\n",
      "Extracting MNIST_data/train-labels-idx1-ubyte.gz\n",
      "Extracting MNIST_data/t10k-images-idx3-ubyte.gz\n",
      "Extracting MNIST_data/t10k-labels-idx1-ubyte.gz\n",
      "WARNING:tensorflow:From C:\\Users\\코딩왕이정환\\파이썬 교안 작업\\input_data.py:315: _DataSet.__init__ (from input_data) is deprecated and will be removed in a future version.\n",
      "Instructions for updating:\n",
      "Please use alternatives such as official/mnist/_DataSet.py from tensorflow/models.\n"
     ]
    }
   ],
   "source": [
    "import input_data\n",
    "mnist = input_data.read_data_sets(\"MNIST_data/\")\n",
    "train_x = mnist.train.images\n",
    "train_y = mnist.train.labels"
   ]
  },
  {
   "cell_type": "markdown",
   "metadata": {},
   "source": [
    "<b>1 Hidden layer를 포함한 생성자 모델(Generator) 구현</b>"
   ]
  },
  {
   "cell_type": "code",
   "execution_count": 3,
   "metadata": {},
   "outputs": [],
   "source": [
    "def generator( z , reuse = False ) :\n",
    "    if reuse==False :\n",
    "        with tf.variable_scope(name_or_scope = \"Gen\") as scope :\n",
    "            gw1 = tf.get_variable(name = \"w1\",\n",
    "                                  shape = [128, 256],\n",
    "                                  initializer= tf.random_normal_initializer(mean=0.0, stddev = 0.01))\n",
    "            gb1 = tf.get_variable(name = \"b1\",\n",
    "                                 shape = [256],\n",
    "                                 initializer = tf.random_normal_initializer(mean=0.0, stddev = 0.01))\n",
    "\n",
    "            gw2 = tf.get_variable(name = \"w2\",\n",
    "                                  shape = [256, 784],\n",
    "                                  initializer= tf.random_normal_initializer(mean=0.0, stddev = 0.01))\n",
    "\n",
    "            gb2 = tf.get_variable(name = \"b2\",\n",
    "                                 shape = [784],\n",
    "                                 initializer = tf.random_normal_initializer(mean=0.0, stddev = 0.01))\n",
    "    else :\n",
    "        with tf.variable_scope(name_or_scope=\"Gen\", reuse = True) as scope :\n",
    "            gw1 = tf.get_variable(name = \"w1\",\n",
    "                                  shape = [128, 256],\n",
    "                                  initializer= tf.random_normal_initializer(mean=0.0, stddev = 0.01))\n",
    "\n",
    "            gb1 = tf.get_variable(name = \"b1\",\n",
    "                                 shape = [256],\n",
    "                                 initializer = tf.random_normal_initializer(mean=0.0, stddev = 0.01))\n",
    "\n",
    "            gw2 = tf.get_variable(name = \"w2\",\n",
    "                                  shape = [256, 784],\n",
    "                                  initializer= tf.random_normal_initializer(mean=0.0, stddev = 0.01))\n",
    "\n",
    "            gb2 = tf.get_variable(name = \"b2\",\n",
    "                                 shape = [784],\n",
    "                                 initializer = tf.random_normal_initializer(mean=0.0, stddev = 0.01))\n",
    "\n",
    "    hidden = tf.nn.relu( tf.matmul(z , gw1) + gb1 )\n",
    "    output = tf.nn.sigmoid( tf.matmul(hidden, gw2) + gb2 )\n",
    "    return output"
   ]
  },
  {
   "cell_type": "markdown",
   "metadata": {},
   "source": [
    "<b>1 Hidden layer를 포함한 구별자 모델(Discriminator) 구현</b>"
   ]
  },
  {
   "cell_type": "code",
   "execution_count": 5,
   "metadata": {},
   "outputs": [],
   "source": [
    "def discriminator( x , reuse = False) :\n",
    "\n",
    "    if(reuse == False) :\n",
    "        with tf.variable_scope(name_or_scope=\"Dis\") as scope :\n",
    "            dw1 = tf.get_variable(name = \"w1\",\n",
    "                                  shape = [784, 256],\n",
    "                                  initializer = tf.random_normal_initializer(0.0, 0.01) )\n",
    "            db1 = tf.get_variable(name = \"b1\",\n",
    "                                  shape = [256],\n",
    "                                  initializer = tf.random_normal_initializer(0.0, 0.01) )\n",
    "            dw2 = tf.get_variable(name = \"w2\",\n",
    "                                  shape = [256, 1],\n",
    "                                  initializer = tf.random_normal_initializer(0.0, 0.01) )\n",
    "            db2 = tf.get_variable(name = \"b2\",\n",
    "                                  shape = [1],\n",
    "                                  initializer = tf.random_normal_initializer(0.0, 0.01) )\n",
    "    else :\n",
    "        with tf.variable_scope(name_or_scope=\"Dis\", reuse = True) as scope :\n",
    "            dw1 = tf.get_variable(name = \"w1\",\n",
    "                                  shape = [784, 256],\n",
    "                                  initializer = tf.random_normal_initializer(0.0, 0.01) )\n",
    "            db1 = tf.get_variable(name = \"b1\",\n",
    "                                  shape = [256],\n",
    "                                  initializer = tf.random_normal_initializer(0.0, 0.01) )\n",
    "            dw2 = tf.get_variable(name = \"w2\",\n",
    "                                  shape = [256, 1],\n",
    "                                  initializer = tf.random_normal_initializer(0.0, 0.01) )\n",
    "            db2 = tf.get_variable(name = \"b2\",\n",
    "                                  shape = [1],\n",
    "                                  initializer = tf.random_normal_initializer(0.0, 0.01) )\n",
    "\n",
    "    hidden = tf.nn.relu( tf.matmul(x , dw1) + db1 )  #[-, 256]\n",
    "    output = tf.nn.sigmoid( tf.matmul(hidden, dw2)  + db2 )   #[-, 1]  진품인지(1) 가품인지(0)의 label 결과값\n",
    "\n",
    "    return output"
   ]
  },
  {
   "cell_type": "markdown",
   "metadata": {},
   "source": [
    "<b>학습 환경 설정</b>"
   ]
  },
  {
   "cell_type": "code",
   "execution_count": 6,
   "metadata": {},
   "outputs": [],
   "source": [
    "total_epochs = 40     #전체 데이터를 40번 학습\n",
    "batch_size = 100     #Sample 데이터의 학습 묶음 수\n",
    "learning_rate = 0.0002     #학습 속도를 나타내는 수"
   ]
  },
  {
   "cell_type": "markdown",
   "metadata": {},
   "source": [
    "<b>Random Noise(가짜 데이터를 생성하기 위한 시드) 생성</b>"
   ]
  },
  {
   "cell_type": "code",
   "execution_count": 7,
   "metadata": {},
   "outputs": [],
   "source": [
    "def random_noise(batch_size) :\n",
    "    return np.random.normal(size=[batch_size , 128])"
   ]
  },
  {
   "cell_type": "markdown",
   "metadata": {},
   "source": [
    "<b>학습 환경 설정2</b>"
   ]
  },
  {
   "cell_type": "code",
   "execution_count": 8,
   "metadata": {},
   "outputs": [
    {
     "name": "stdout",
     "output_type": "stream",
     "text": [
      "WARNING:tensorflow:From C:\\Anaconda\\Anaconda3\\lib\\site-packages\\tensorflow_core\\python\\ops\\resource_variable_ops.py:1630: calling BaseResourceVariable.__init__ (from tensorflow.python.ops.resource_variable_ops) with constraint is deprecated and will be removed in a future version.\n",
      "Instructions for updating:\n",
      "If using Keras pass *_constraint arguments to layers.\n"
     ]
    }
   ],
   "source": [
    "g = tf.Graph()\n",
    "\n",
    "with g.as_default() :\n",
    "\n",
    "    X = tf.placeholder(tf.float32, [None, 784]) \n",
    "    Z = tf.placeholder(tf.float32, [None, 128]) \n",
    "\n",
    "    fake_x = generator(Z)\n",
    "\n",
    "    result_of_fake = discriminator(fake_x)\n",
    "    result_of_real = discriminator(X , True)\n",
    "\n",
    "\n",
    "    g_loss = tf.reduce_mean( tf.log(result_of_fake) )\n",
    "    d_loss = tf.reduce_mean( tf.log(result_of_real) + tf.log(1 - result_of_fake) )\n",
    "\n",
    "\n",
    "    t_vars = tf.trainable_variables() \n",
    "    \n",
    "    g_vars = [var for var in t_vars if \"Gen\" in var.name]\n",
    "    d_vars = [var for var in t_vars if \"Dis\" in var.name]\n",
    "\n",
    "    optimizer = tf.train.AdamOptimizer(learning_rate)\n",
    "\n",
    "    g_train = optimizer.minimize(-g_loss, var_list= g_vars)\n",
    "    d_train = optimizer.minimize(-d_loss, var_list = d_vars)    \n"
   ]
  },
  {
   "cell_type": "markdown",
   "metadata": {},
   "source": [
    "<b>실제 학습을 진행</b>"
   ]
  },
  {
   "cell_type": "code",
   "execution_count": 9,
   "metadata": {},
   "outputs": [
    {
     "name": "stdout",
     "output_type": "stream",
     "text": [
      "=======Epoch :  0  =======================================\n",
      "=======Epoch :  1  =======================================\n",
      "=======Epoch :  2  =======================================\n",
      "=======Epoch :  3  =======================================\n",
      "=======Epoch :  4  =======================================\n",
      "=======Epoch :  5  =======================================\n",
      "=======Epoch :  6  =======================================\n",
      "=======Epoch :  7  =======================================\n",
      "=======Epoch :  8  =======================================\n",
      "=======Epoch :  9  =======================================\n",
      "=======Epoch :  10  =======================================\n",
      "=======Epoch :  11  =======================================\n",
      "=======Epoch :  12  =======================================\n",
      "=======Epoch :  13  =======================================\n",
      "=======Epoch :  14  =======================================\n",
      "=======Epoch :  15  =======================================\n",
      "=======Epoch :  16  =======================================\n",
      "=======Epoch :  17  =======================================\n",
      "=======Epoch :  18  =======================================\n",
      "=======Epoch :  19  =======================================\n",
      "=======Epoch :  20  =======================================\n",
      "=======Epoch :  21  =======================================\n",
      "=======Epoch :  22  =======================================\n",
      "=======Epoch :  23  =======================================\n",
      "=======Epoch :  24  =======================================\n",
      "=======Epoch :  25  =======================================\n",
      "=======Epoch :  26  =======================================\n",
      "=======Epoch :  27  =======================================\n",
      "=======Epoch :  28  =======================================\n",
      "=======Epoch :  29  =======================================\n",
      "=======Epoch :  30  =======================================\n",
      "=======Epoch :  31  =======================================\n",
      "=======Epoch :  32  =======================================\n",
      "=======Epoch :  33  =======================================\n",
      "=======Epoch :  34  =======================================\n",
      "=======Epoch :  35  =======================================\n",
      "=======Epoch :  36  =======================================\n",
      "=======Epoch :  37  =======================================\n",
      "=======Epoch :  38  =======================================\n",
      "=======Epoch :  39  =======================================\n"
     ]
    }
   ],
   "source": [
    "with tf.Session(graph = g) as sess :\n",
    "    sess.run(tf.global_variables_initializer())\n",
    "\n",
    "    total_batchs = int(train_x.shape[0] / batch_size)\n",
    "\n",
    "    for epoch in range(total_epochs) :\n",
    "\n",
    "        for batch in range(total_batchs) :\n",
    "            batch_x = train_x[batch * batch_size : (batch+1) * batch_size]\n",
    "            batch_y = train_y[batch * batch_size : (batch+1) * batch_size]\n",
    "            noise = random_noise(batch_size)  \n",
    "            sess.run(g_train , feed_dict = {Z : noise})\n",
    "            sess.run(d_train, feed_dict = {X : batch_x , Z : noise})\n",
    "\n",
    "            gl, dl = sess.run([g_loss, d_loss], feed_dict = {X : batch_x , Z : noise})\n",
    "\n",
    "        print(\"=======Epoch : \", epoch , \" =======================================\")\n",
    "\n",
    "        if epoch == 0 or (epoch + 1) % 10 == 0  :\n",
    "            sample_noise = random_noise(10)\n",
    "\n",
    "            generated = sess.run(fake_x , feed_dict = { Z : sample_noise})\n",
    "\n",
    "            fig, ax = plt.subplots(1, 10, figsize=(10, 1))\n",
    "            for i in range(10) :\n",
    "                ax[i].set_axis_off()\n",
    "                ax[i].imshow( np.reshape( generated[i], (28, 28)), cmap='Greys' )\n",
    "\n",
    "            plt.savefig('gan/{}.png'.format(str(epoch).zfill(3)), bbox_inches='tight')\n",
    "            plt.close(fig)\n"
   ]
  },
  {
   "cell_type": "markdown",
   "metadata": {},
   "source": [
    "<b>gan 폴더 내부에 생성된 Epoch 별 그림 파일 확인</b>"
   ]
  },
  {
   "cell_type": "markdown",
   "metadata": {},
   "source": [
    "1 Epoch"
   ]
  },
  {
   "cell_type": "code",
   "execution_count": 46,
   "metadata": {},
   "outputs": [
    {
     "data": {
      "image/png": "[encoded data removed]",
      "text/plain": [
       "<PIL.PngImagePlugin.PngImageFile image mode=RGBA size=572x61 at 0x1D411841CF8>"
      ]
     },
     "execution_count": 46,
     "metadata": {},
     "output_type": "execute_result"
    }
   ],
   "source": [
    "from PIL import Image\n",
    "im = Image.open('gan/000.png')\n",
    "im"
   ]
  },
  {
   "cell_type": "markdown",
   "metadata": {},
   "source": [
    "10 Epoch"
   ]
  },
  {
   "cell_type": "code",
   "execution_count": 47,
   "metadata": {},
   "outputs": [
    {
     "data": {
      "image/png": "[encoded data removed]",
      "text/plain": [
       "<PIL.PngImagePlugin.PngImageFile image mode=RGBA size=572x61 at 0x1D411841EF0>"
      ]
     },
     "execution_count": 47,
     "metadata": {},
     "output_type": "execute_result"
    }
   ],
   "source": [
    "im = Image.open('gan/009.png')\n",
    "im"
   ]
  },
  {
   "cell_type": "markdown",
   "metadata": {},
   "source": [
    "20 Epoch"
   ]
  },
  {
   "cell_type": "code",
   "execution_count": 48,
   "metadata": {},
   "outputs": [
    {
     "data": {
      "image/png": "[encoded data removed]",
      "text/plain": [
       "<PIL.PngImagePlugin.PngImageFile image mode=RGBA size=572x61 at 0x1D411854128>"
      ]
     },
     "execution_count": 48,
     "metadata": {},
     "output_type": "execute_result"
    }
   ],
   "source": [
    "im = Image.open('gan/019.png')\n",
    "im"
   ]
  },
  {
   "cell_type": "markdown",
   "metadata": {},
   "source": [
    "30 Epoch"
   ]
  },
  {
   "cell_type": "code",
   "execution_count": 49,
   "metadata": {},
   "outputs": [
    {
     "data": {
      "image/png": "[encoded data removed]",
      "text/plain": [
       "<PIL.PngImagePlugin.PngImageFile image mode=RGBA size=572x61 at 0x1D411854390>"
      ]
     },
     "execution_count": 49,
     "metadata": {},
     "output_type": "execute_result"
    }
   ],
   "source": [
    "im = Image.open('gan/029.png')\n",
    "im"
   ]
  },
  {
   "cell_type": "markdown",
   "metadata": {},
   "source": [
    "40 Epoch"
   ]
  },
  {
   "cell_type": "code",
   "execution_count": 50,
   "metadata": {
    "scrolled": true
   },
   "outputs": [
    {
     "data": {
      "image/png": "[encoded data removed]",
      "text/plain": [
       "<PIL.PngImagePlugin.PngImageFile image mode=RGBA size=572x61 at 0x1D4118546A0>"
      ]
     },
     "execution_count": 50,
     "metadata": {},
     "output_type": "execute_result"
    }
   ],
   "source": [
    "im = Image.open('gan/039.png')\n",
    "im"
   ]
  }
 ],
 "metadata": {
  "kernelspec": {
   "display_name": "Python 3",
   "language": "python",
   "name": "python3"
  },
  "language_info": {
   "codemirror_mode": {
    "name": "ipython",
    "version": 3
   },
   "file_extension": ".py",
   "mimetype": "text/x-python",
   "name": "python",
   "nbconvert_exporter": "python",
   "pygments_lexer": "ipython3",
   "version": "3.8.3"
  }
 },
 "nbformat": 4,
 "nbformat_minor": 2
}
