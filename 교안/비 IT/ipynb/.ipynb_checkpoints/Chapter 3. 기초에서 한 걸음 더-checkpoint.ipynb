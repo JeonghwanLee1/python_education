{
 "cells": [
  {
   "cell_type": "markdown",
   "metadata": {},
   "source": [
    "# Chapter 3. 기초에서 한 걸음 더"
   ]
  },
  {
   "cell_type": "markdown",
   "metadata": {},
   "source": [
    "- 앞서 학습한 Python의 기본적인 문법과 자료형, 그리고 문자열과 리스트 외에 쓰임새가 다양하고 각 필요에 맞게 설계된 몇 가지 추가적인 군집형 자료형인 튜플, 집합, 딕셔너리에 대해 설명한다.\n",
    "\n",
    "- Python에서의 복사가 각 자료형이나 형태에 따라 어떤 방식으로 복사되는지에 대해 설명한다."
   ]
  },
  {
   "cell_type": "markdown",
   "metadata": {},
   "source": [
    "### 3.1 튜플(tuple)\n",
    "\n",
    "#### 튜플의 정의 및 선언\n",
    "- 요소의 수정과 삭제가 불가능한 읽기 전용의 군집형 자료형이다.\n",
    "- 이미 선언된 튜플에 대해 새로운 요소의 추가는 가능하지만 이미 포함되어 있는 요소를 수정하거나 삭제하는 것은 불가능하다.\n",
    "\n",
    "#### [튜플 예시]"
   ]
  },
  {
   "cell_type": "code",
   "execution_count": 1,
   "metadata": {},
   "outputs": [
    {
     "data": {
      "text/plain": [
       "(1, 2, 3, 4, 5)"
      ]
     },
     "execution_count": 1,
     "metadata": {},
     "output_type": "execute_result"
    }
   ],
   "source": [
    "t = (1, 2, 3, 4, 5)\n",
    "t"
   ]
  },
  {
   "cell_type": "code",
   "execution_count": 2,
   "metadata": {},
   "outputs": [
    {
     "data": {
      "text/plain": [
       "(1, 2, 3, 4, 5)"
      ]
     },
     "execution_count": 2,
     "metadata": {},
     "output_type": "execute_result"
    }
   ],
   "source": [
    "t = 1, 2, 3, 4, 5\n",
    "t"
   ]
  },
  {
   "cell_type": "markdown",
   "metadata": {},
   "source": [
    "괄호로 묶지 않고 사용했을 경우에도 위와 같이 튜플로 사용할 수 있다.\n",
    "\n",
    "#### [튜플의 선언]"
   ]
  },
  {
   "cell_type": "code",
   "execution_count": 2,
   "metadata": {},
   "outputs": [
    {
     "name": "stdout",
     "output_type": "stream",
     "text": [
      "(1, 2, 3, 4, 5)\n",
      "(1, 2, 3, 4, 5)\n"
     ]
    }
   ],
   "source": [
    "tuple_basic1 = (1, 2, 3, 4, 5)\n",
    "print(tuple_basic1)\n",
    "\n",
    "tuple_basic2 = 1, 2, 3, 4, 5\n",
    "print(tuple_basic2)"
   ]
  },
  {
   "cell_type": "markdown",
   "metadata": {},
   "source": [
    "### 튜플 연산 및 사용\n",
    "- 튜플은 리스트와 같이 여러 자료형을 요소에 섞어서 사용할 수 있다.\n",
    "\n",
    "#### [다양한 자료형의 선언 및 출력]"
   ]
  },
  {
   "cell_type": "code",
   "execution_count": 4,
   "metadata": {},
   "outputs": [
    {
     "name": "stdout",
     "output_type": "stream",
     "text": [
      "('Python', 'Java', 365, 'caffeine', True)\n"
     ]
    }
   ],
   "source": [
    "tuple_multi_type = ('Python', 'Java', 365, 'caffeine', True)\n",
    "print(tuple_multi_type) "
   ]
  },
  {
   "cell_type": "code",
   "execution_count": 3,
   "metadata": {},
   "outputs": [
    {
     "name": "stdout",
     "output_type": "stream",
     "text": [
      "('Python', 'Java', 365, 'caffeine', True)\n"
     ]
    }
   ],
   "source": [
    "cse = ('Python', 'Java', 365, 'caffeine', True)\n",
    "print(cse)"
   ]
  },
  {
   "cell_type": "markdown",
   "metadata": {},
   "source": [
    "- 튜플의 요소로 튜플 역시 사용할 수 있다.\n",
    "\n",
    "#### [튜플 내 튜플 사용]"
   ]
  },
  {
   "cell_type": "code",
   "execution_count": 5,
   "metadata": {},
   "outputs": [
    {
     "name": "stdout",
     "output_type": "stream",
     "text": [
      "(('james', 23, 177, 78.3, 'male'), ('john', 22, 183, 81.5, 'male'))\n"
     ]
    }
   ],
   "source": [
    "tuple_a = ('james', 23, 177, 78.3, 'male')\n",
    "tuple_b = ('john', 22, 183, 81.5, 'male')\n",
    "tuple_in_tuple = (tuple_a, tuple_b)\n",
    "print(tuple_in_tuple)"
   ]
  },
  {
   "cell_type": "markdown",
   "metadata": {},
   "source": [
    "- 튜플에 있는 요소에 접근하는 방법은 리스트의 방법과 동일하다.\n",
    "- 인덱싱(indexing), 슬라이싱(slicing)의 방법으로 요소의 값에 접근할 수 있다."
   ]
  },
  {
   "cell_type": "markdown",
   "metadata": {},
   "source": [
    "#### 튜플이 아닌 경우"
   ]
  },
  {
   "cell_type": "code",
   "execution_count": 5,
   "metadata": {
    "scrolled": true
   },
   "outputs": [
    {
     "data": {
      "text/plain": [
       "25"
      ]
     },
     "execution_count": 5,
     "metadata": {},
     "output_type": "execute_result"
    }
   ],
   "source": [
    "(25)"
   ]
  },
  {
   "cell_type": "markdown",
   "metadata": {},
   "source": [
    "#### 튜플인 경우"
   ]
  },
  {
   "cell_type": "code",
   "execution_count": 6,
   "metadata": {},
   "outputs": [
    {
     "data": {
      "text/plain": [
       "(25,)"
      ]
     },
     "execution_count": 6,
     "metadata": {},
     "output_type": "execute_result"
    }
   ],
   "source": [
    "(25, )"
   ]
  },
  {
   "cell_type": "markdown",
   "metadata": {},
   "source": [
    "(값, )의 형태 혹은 값, 의 형태로 사용하게 되면 한 개의 요소를 가진 튜플로 사용할 수 있으며 튜플의 형태를 유지하기 위해 사용하는 경우 이러한 방법으로 생성해 주어야 한다."
   ]
  },
  {
   "cell_type": "markdown",
   "metadata": {},
   "source": [
    "### 3.1.3 튜플 사용하기\n",
    "튜플에 있는 요소를 사용하는 방법은 기본적으로 리스트와 동일하다. 하나하나 살펴보자."
   ]
  },
  {
   "cell_type": "markdown",
   "metadata": {},
   "source": [
    "#### 튜플 인덱싱"
   ]
  },
  {
   "cell_type": "code",
   "execution_count": 7,
   "metadata": {},
   "outputs": [
    {
     "data": {
      "text/plain": [
       "4"
      ]
     },
     "execution_count": 7,
     "metadata": {},
     "output_type": "execute_result"
    }
   ],
   "source": [
    "t = (1, 2, 3, 4, 5)\n",
    "t[3]"
   ]
  },
  {
   "cell_type": "markdown",
   "metadata": {},
   "source": [
    "#### 튜플 슬라이싱"
   ]
  },
  {
   "cell_type": "code",
   "execution_count": 8,
   "metadata": {},
   "outputs": [
    {
     "data": {
      "text/plain": [
       "(3, 4)"
      ]
     },
     "execution_count": 8,
     "metadata": {},
     "output_type": "execute_result"
    }
   ],
   "source": [
    "t = (1, 2, 3, 4, 5)\n",
    "t[2 : 4]"
   ]
  },
  {
   "cell_type": "markdown",
   "metadata": {},
   "source": [
    "- 자동으로 리스트를 생성해주는 range함수를 활용하여 규칙적인 요소의 값을 가진 튜플을 생성할 수 있다.\n",
    "\n",
    "#### [range와 tuple을 사용한 튜플 선언]"
   ]
  },
  {
   "cell_type": "code",
   "execution_count": 9,
   "metadata": {},
   "outputs": [
    {
     "data": {
      "text/plain": [
       "(0, 1, 2, 3, 4)"
      ]
     },
     "execution_count": 9,
     "metadata": {},
     "output_type": "execute_result"
    }
   ],
   "source": [
    "t = tuple(range(5))\n",
    "t"
   ]
  },
  {
   "cell_type": "markdown",
   "metadata": {},
   "source": [
    "- 여기서 range(범위), range(시작값, 끝값), range(시작값, 끝값, 증감 값) 등으로 상황에 맞게 사용할 수 있다.\n",
    "- 튜플에서는 + 연산이나 * 연산을 통해 튜플의 요소를 추가하거나 하나의 튜플을 반복할 수 있다."
   ]
  },
  {
   "cell_type": "code",
   "execution_count": 6,
   "metadata": {},
   "outputs": [
    {
     "name": "stdout",
     "output_type": "stream",
     "text": [
      "(0, 1, 2, 3, 4)\n",
      "(0, 1, 2, 3, 4)\n",
      "(0, 2, 4)\n"
     ]
    }
   ],
   "source": [
    "tuple_use_range = tuple(range(5))\n",
    "tuple_use_range2 = tuple(range(0, 5))\n",
    "tuple_use_range3 = tuple(range(0, 5, 2))\n",
    "print(tuple_use_range)\n",
    "print(tuple_use_range2)\n",
    "print(tuple_use_range3)"
   ]
  },
  {
   "cell_type": "markdown",
   "metadata": {},
   "source": [
    "- ‘+’나 ‘*’연산을 통해 기존의 튜플에 요소를 새롭게 추가할 수 있으며 해당 연산을 통해 요소를 반복적으로 출력하는 것도 가능하다.\n",
    "\n",
    "#### [튜플 요소 추가]"
   ]
  },
  {
   "cell_type": "code",
   "execution_count": 10,
   "metadata": {},
   "outputs": [
    {
     "data": {
      "text/plain": [
       "(1, 2, 3, 4, 5)"
      ]
     },
     "execution_count": 10,
     "metadata": {},
     "output_type": "execute_result"
    }
   ],
   "source": [
    "t = (1, 2, 3)\n",
    "t = t + (4, 5)\n",
    "t"
   ]
  },
  {
   "cell_type": "code",
   "execution_count": 7,
   "metadata": {},
   "outputs": [
    {
     "name": "stdout",
     "output_type": "stream",
     "text": [
      "(1, 2, 3, 4, 5)\n"
     ]
    }
   ],
   "source": [
    "tuple_basic = (1, 2, 3)\n",
    "tuple_basic = tuple_basic + (4, 5)\n",
    "print(tuple_basic)"
   ]
  },
  {
   "cell_type": "markdown",
   "metadata": {},
   "source": [
    "#### 튜플의 반복\n",
    "- 튜플과 리스트는 요소를 수정하거나 삭제할 수 있는지 없는지에 따라 구분되기 때문에 그 외적으로는 크게 차이를 보이지 않는다.\n",
    "- 따라서 튜플을 통해 리스트를 생성하는 것이 가능하다."
   ]
  },
  {
   "cell_type": "markdown",
   "metadata": {},
   "source": [
    "#### 리스트를 통한 튜플 생성\n",
    "- 리스트와 튜플의 성질을 통해 여러 개의 변수에 값을 한 번에 할당하는 것이 가능하며 이 때 튜플의 요소의 수와 변수의 수가 동일해야 한다.\n",
    "\n",
    "#### [튜플을 통한 리스트 생성]"
   ]
  },
  {
   "cell_type": "code",
   "execution_count": 8,
   "metadata": {},
   "outputs": [
    {
     "name": "stdout",
     "output_type": "stream",
     "text": [
      "[1, 2, 3, 4, 5]\n"
     ]
    }
   ],
   "source": [
    "tuple_basic = (1, 2, 3, 4, 5)\n",
    "tuple_to_list = list(tuple_basic)\n",
    "print(tuple_to_list)"
   ]
  },
  {
   "cell_type": "markdown",
   "metadata": {},
   "source": [
    "#### [튜플을 통한 변수에 값 할당]"
   ]
  },
  {
   "cell_type": "code",
   "execution_count": 9,
   "metadata": {},
   "outputs": [
    {
     "name": "stdout",
     "output_type": "stream",
     "text": [
      "1 2 3\n"
     ]
    }
   ],
   "source": [
    "value1, value2, value3 = (1, 2, 3)\n",
    "print(value1, value2, value3)\n",
    "\n",
    "tuple_basic = (4, 5, 6)\n",
    "value1, value2, value3 = tuple_basic"
   ]
  },
  {
   "cell_type": "markdown",
   "metadata": {},
   "source": [
    "### 3.2 딕셔너리(Dictionary)\n",
    "#### 딕셔너리의 정의 및 선언\n",
    "\n",
    "- Python에서 딕셔너리(dictionary)란 사전형 데이터를 의미한다.\n",
    "- Key와 Value라는 값을 일대일로 대응시킨 형태이다.\n",
    "- 중괄호 ‘{}’ 내에 Key : Value 형태로 저장된다.\n",
    "- 각 Key : Value 요소는 ‘,’로 구분하며 이를 Key-Value구조라 한다.\n",
    "\n",
    "#### [딕셔너리의 기본 구조]"
   ]
  },
  {
   "cell_type": "code",
   "execution_count": 17,
   "metadata": {},
   "outputs": [
    {
     "data": {
      "text/plain": [
       "{'KEY1': 10, 'KEY2': 20, 'KEY3': 30}"
      ]
     },
     "execution_count": 17,
     "metadata": {},
     "output_type": "execute_result"
    }
   ],
   "source": [
    "dic = {'KEY1' : 10, 'KEY2' : 20, 'KEY3' : 30}\n",
    "dic"
   ]
  },
  {
   "cell_type": "markdown",
   "metadata": {},
   "source": [
    "#### 딕셔너리의 사용\n",
    "- 딕셔너리의 Key에는 문자열만 사용할 수 있는 것이 아니고 정수형이나 실수형, bool형까지 모두 사용 가능하며 다양한 자료형을 사용하여 선언할 수 있다.\n",
    "- 딕셔너리의 Key로 리스트, 딕셔너리를 포함할 수 없다. \n",
    "\n",
    "#### [다양한 자료형의 딕셔너리]"
   ]
  },
  {
   "cell_type": "code",
   "execution_count": 18,
   "metadata": {},
   "outputs": [
    {
     "data": {
      "text/plain": [
       "{'name': 'james', 7: 'seven'}"
      ]
     },
     "execution_count": 18,
     "metadata": {},
     "output_type": "execute_result"
    }
   ],
   "source": [
    "dic = {'name' : 'james', 7 : 'seven'}\n",
    "dic"
   ]
  },
  {
   "cell_type": "code",
   "execution_count": 11,
   "metadata": {},
   "outputs": [
    {
     "name": "stdout",
     "output_type": "stream",
     "text": [
      "{'Name': 'James', 7: 'Seven', 'Male': True}\n"
     ]
    }
   ],
   "source": [
    "dict_multi_type = {'Name' : 'James', 7 : 'Seven', 'Male' : True }\n",
    "print(dict_multi_type)"
   ]
  },
  {
   "cell_type": "markdown",
   "metadata": {},
   "source": [
    "- 딕셔너리의 Value에는 앞서 학습한 리스트, 튜플, 딕셔너리를 포함한 모든 자료형을 사용할 수 있다.\n",
    "\n",
    "#### [값에 리스트를 포함한 딕셔너리]"
   ]
  },
  {
   "cell_type": "code",
   "execution_count": 19,
   "metadata": {},
   "outputs": [
    {
     "data": {
      "text/plain": [
       "{'name': 'james', 'age': 23, 'friends': ['john', 'bob']}"
      ]
     },
     "execution_count": 19,
     "metadata": {},
     "output_type": "execute_result"
    }
   ],
   "source": [
    "dic = {'name' : 'james', 'age' : 23, 'friends' : ['john', 'bob']}\n",
    "dic"
   ]
  },
  {
   "cell_type": "markdown",
   "metadata": {},
   "source": [
    "- 하나의 딕셔너리에 중복되는 Key가 존재하게 되면 가장 나중에 나오는 Key값과 매칭되므로 주의해야 한다."
   ]
  },
  {
   "cell_type": "markdown",
   "metadata": {},
   "source": [
    "#### [키에 튜플을 포함한 딕셔너리]"
   ]
  },
  {
   "cell_type": "code",
   "execution_count": 12,
   "metadata": {},
   "outputs": [
    {
     "data": {
      "text/plain": [
       "{('a', 'b'): 3}"
      ]
     },
     "execution_count": 12,
     "metadata": {},
     "output_type": "execute_result"
    }
   ],
   "source": [
    "t = ('a', 'b') #새롭게 정의된 튜플\n",
    "dic = {t : 3}  # 키로 튜플을 포함하는 딕셔너리\n",
    "dic"
   ]
  },
  {
   "cell_type": "markdown",
   "metadata": {},
   "source": [
    "- 하나의 딕셔너리에 중복되는 키가 존재한다면 가장 뒤에 나오는 값와 매칭되므로 주의해야 한다.\n",
    "\n",
    "#### Key, Value\n",
    "- 새로운 Key-Value쌍을 추가하기 위해서는 해당하는 Key요소를 대괄호‘[]’에 넣고 그에 해당하는 Value를 입력하면 해당 Key-Value쌍이 딕셔너리에 추가된다.\n",
    "\n",
    "<div style = \"border : 1px solid green; padding : 5px; width = 50px;\">딕셔너리 변수[Key요소] =Value요소</div>\n",
    "\n",
    "- 딕셔너리의 요소를 삭제하기 위해서는 del 명령어를 사용하며 대괄호에 입력한 Key 요소에 해당하는 Key-Value쌍이 삭제된다.\n",
    "\n",
    "<div style = \"border : 1px solid green; padding : 5px; width = 50px;\">del 딕셔너리 변수[Key요소]</div>\n",
    "\n",
    "#### [Key-Value 추가 및 삭제]"
   ]
  },
  {
   "cell_type": "code",
   "execution_count": 15,
   "metadata": {},
   "outputs": [
    {
     "name": "stdout",
     "output_type": "stream",
     "text": [
      "{'Name': 'James', 'Age': 23, 'Hobby': 'Programming'}\n",
      "{'Name': 'James', 'Hobby': 'Programming'}\n"
     ]
    }
   ],
   "source": [
    "dict_basic = {'Name' : 'James', 'Age' : 23 }\n",
    "dict_basic['Hobby'] = 'Programming'\n",
    "print(dict_basic)\n",
    "#Key-Value 삭제\n",
    "del dict_basic['Age']\n",
    "print(dict_basic)"
   ]
  },
  {
   "cell_type": "markdown",
   "metadata": {},
   "source": [
    "- 인덱싱이나 슬라이싱 등의 방법을 통해 딕셔너리 요소의 값에 접근할 수 없으며 딕셔너리에서 Value값을 얻기 위해서는 반드시 Key를 통해접근해야 한다.\n",
    "\n",
    "#### [Key를 사용하영 값 가져오기]"
   ]
  },
  {
   "cell_type": "code",
   "execution_count": 17,
   "metadata": {},
   "outputs": [
    {
     "name": "stdout",
     "output_type": "stream",
     "text": [
      "James\n",
      "177.2\n"
     ]
    }
   ],
   "source": [
    "dict_student = {'Name': 'James', 'Age': 23, 'Height' : 177.2, 'Major': 'cse'}\n",
    "print(dict_student['Name'])\n",
    "print(dict_student['Height'])"
   ]
  },
  {
   "cell_type": "markdown",
   "metadata": {},
   "source": [
    "#### 내장 함수\n",
    "- keys() 함수는 각각 dict_kets 객체를 반환하며 해당 딕셔너리의 Key값을 각각의 객체를 통해 반환한다.\n",
    "- values() 함수는 dict_values 객체를 반환하며 해당 딕셔너리의 Value값을 각각의 객체를 통해 반환한다.\n",
    "\n",
    "#### [keys(), values() 함수의 활용]"
   ]
  },
  {
   "cell_type": "code",
   "execution_count": 19,
   "metadata": {},
   "outputs": [
    {
     "name": "stdout",
     "output_type": "stream",
     "text": [
      "dict_keys(['Name', 'Age', 'Height', 'Major'])\n",
      "dict_values(['James', 23, 177.2, 'cse'])\n"
     ]
    }
   ],
   "source": [
    "dict_student = {'Name': 'James', 'Age': 23, 'Height' : 177.2,'Major': 'cse'}\n",
    "print(dict_student.keys())\n",
    "print(dict_student.values())"
   ]
  },
  {
   "cell_type": "markdown",
   "metadata": {},
   "source": [
    "- dict_keys, dict_values 객체는 리스트에서 사용할 수 있는 고유 함수들을 사용할 수 없기 때문에 리스트의 고유 내장 함수를 사용하기 위해서는 list 객체로의 변환이 필요하다.\n",
    "\n",
    "#### [dict_keys()객체의 객체 변환]"
   ]
  },
  {
   "cell_type": "code",
   "execution_count": 20,
   "metadata": {},
   "outputs": [
    {
     "name": "stdout",
     "output_type": "stream",
     "text": [
      "['Name', 'Age', 'Height', 'Major']\n"
     ]
    }
   ],
   "source": [
    "dict_student = {'Name': 'James', 'Age': 23, 'Height' : 177.2,'Major': 'cse'}\n",
    "dict_key_list = list(dict_student.keys())\n",
    "print(dict_key_list)"
   ]
  },
  {
   "cell_type": "markdown",
   "metadata": {},
   "source": [
    "- items() 함수는 앞의 두 함수와 마찬가지로 dict_items 객체를 반환하며 해당 딕셔너리의 키와 값 쌍을 얻을 수 있다.\n",
    "\n",
    "#### [items() 함수의 활용]"
   ]
  },
  {
   "cell_type": "code",
   "execution_count": 21,
   "metadata": {},
   "outputs": [
    {
     "name": "stdout",
     "output_type": "stream",
     "text": [
      "dict_items([('Name', 'James'), ('Age', 23), ('Height', 177.2), ('Major', 'cse')])\n"
     ]
    }
   ],
   "source": [
    "dict_student = {'Name': 'James', 'Age': 23, 'Height' : 177.2,'Major': 'cse'}\n",
    "print(dict_student.items())"
   ]
  },
  {
   "cell_type": "markdown",
   "metadata": {},
   "source": [
    "- in과 not in은 해당 딕셔너리에 찾고자 하는 키가 존재하는지를 판단하여 True나 False로 반환하는 명령어이다.\n",
    "\n",
    "#### [in과 not in의 활용]"
   ]
  },
  {
   "cell_type": "code",
   "execution_count": 23,
   "metadata": {},
   "outputs": [
    {
     "name": "stdout",
     "output_type": "stream",
     "text": [
      "False\n",
      "True\n",
      "False\n"
     ]
    }
   ],
   "source": [
    "dict_student = {'Name': 'James', 'Age': 23, 'Height' : 177.2,'Major': 'cse'}\n",
    "print('Friends' in dict_student)\n",
    "print('Name' in dict_student)\n",
    "print('Age' not in dict_student)"
   ]
  },
  {
   "cell_type": "markdown",
   "metadata": {},
   "source": [
    "- get()은 딕셔너리의 Key를 통해 Value를 반환하는 함수이며 해당 딕셔너리에 찾고자 하는 키가 없을 경우 None을 반환한다.\n",
    "\n",
    "#### [get() 함수의 활용]"
   ]
  },
  {
   "cell_type": "code",
   "execution_count": 24,
   "metadata": {},
   "outputs": [
    {
     "name": "stdout",
     "output_type": "stream",
     "text": [
      "James\n",
      "None\n"
     ]
    }
   ],
   "source": [
    "dict_student = {'Name': 'James', 'Age': 23, 'Height' : 177.2,'Major': 'cse'}\n",
    "print(dict_student.get('Name'))\n",
    "print(dict_student.get('Hobby'))"
   ]
  },
  {
   "cell_type": "markdown",
   "metadata": {},
   "source": [
    "### 3.3 집합(Set)\n",
    "#### 집합의 정의 및 선언\n",
    "- 수학에서의 집합이란 어떠한 기준에 의해 같은 성질을 만족하는 대상들의 모임이라고 할 수 있다.\n",
    "- Python에서 제공하는 집합(set)도 이와 유사한 성질을 공유한다.\n",
    "\n",
    "#### [집합의 기본 구조]"
   ]
  },
  {
   "cell_type": "code",
   "execution_count": 26,
   "metadata": {},
   "outputs": [
    {
     "name": "stdout",
     "output_type": "stream",
     "text": [
      "{4, 5, 'b', 'c', 'a'}\n"
     ]
    }
   ],
   "source": [
    "set_basic ={'a', 'b', 'c', 4, 5}\n",
    "print(set_basic)"
   ]
  },
  {
   "cell_type": "markdown",
   "metadata": {},
   "source": [
    "#### 집합의 특징\n",
    "- 집합에서는 중복된 요소를 포함하지 않기 때문에 같은 값을 가진 요소는 하나의 요소로 취급한다.\n",
    "- in이나 not in 명령어를 통해 특정 값이 집합 내에 있는지를 확인할 수 있다.\n",
    "- 집합은 리스트나 튜플처럼 순서가 정해져 있는 자료형이 아니기 때문에 인덱싱을 지원하지 않는다.(unordered)\n",
    "\n",
    "#### [집합의 특징]"
   ]
  },
  {
   "cell_type": "code",
   "execution_count": 30,
   "metadata": {},
   "outputs": [
    {
     "name": "stdout",
     "output_type": "stream",
     "text": [
      "{4, 5, 'b', 'c', 'a'}\n",
      "True\n"
     ]
    },
    {
     "ename": "TypeError",
     "evalue": "'set' object is not subscriptable",
     "output_type": "error",
     "traceback": [
      "\u001b[1;31m---------------------------------------------------------------------------\u001b[0m",
      "\u001b[1;31mTypeError\u001b[0m                                 Traceback (most recent call last)",
      "\u001b[1;32m<ipython-input-30-dfe701aede3a>\u001b[0m in \u001b[0;36m<module>\u001b[1;34m\u001b[0m\n\u001b[0;32m      3\u001b[0m \u001b[0mprint\u001b[0m\u001b[1;33m(\u001b[0m\u001b[0mset_basic\u001b[0m\u001b[1;33m)\u001b[0m\u001b[1;33m\u001b[0m\u001b[1;33m\u001b[0m\u001b[0m\n\u001b[0;32m      4\u001b[0m \u001b[0mprint\u001b[0m\u001b[1;33m(\u001b[0m\u001b[1;34m'b'\u001b[0m \u001b[1;32min\u001b[0m \u001b[0mset_basic\u001b[0m\u001b[1;33m)\u001b[0m\u001b[1;33m\u001b[0m\u001b[1;33m\u001b[0m\u001b[0m\n\u001b[1;32m----> 5\u001b[1;33m \u001b[0mprint\u001b[0m\u001b[1;33m(\u001b[0m\u001b[0mset_basic\u001b[0m\u001b[1;33m[\u001b[0m\u001b[1;36m0\u001b[0m\u001b[1;33m]\u001b[0m\u001b[1;33m)\u001b[0m\u001b[1;33m\u001b[0m\u001b[1;33m\u001b[0m\u001b[0m\n\u001b[0m",
      "\u001b[1;31mTypeError\u001b[0m: 'set' object is not subscriptable"
     ]
    }
   ],
   "source": [
    "set_basic = {'a', 'b', 4, 4, 'a', 'c', 5}\n",
    "\n",
    "print(set_basic)\n",
    "print('b' in set_basic)\n",
    "print(set_basic[0])"
   ]
  },
  {
   "cell_type": "markdown",
   "metadata": {},
   "source": [
    "- 공집합을 표현하기 위해서 중괄호 '{}'로 표현하게 되면 요소가 비어 있는 딕셔너리로 인식되기 때문에 다른 표현 방법을 사용해야 한다.\n",
    "- 공집합은 set()로 만들어야 한다.\n",
    "\n",
    "#### [집합의 특징]"
   ]
  },
  {
   "cell_type": "code",
   "execution_count": 32,
   "metadata": {},
   "outputs": [
    {
     "name": "stdout",
     "output_type": "stream",
     "text": [
      "<class 'dict'>\n",
      "<class 'set'>\n"
     ]
    }
   ],
   "source": [
    "set_basic = { }\n",
    "print(type(set_basic))\n",
    "\n",
    "set_basic = set()\n",
    "print(type(set_basic))"
   ]
  },
  {
   "cell_type": "markdown",
   "metadata": {},
   "source": [
    "####  집합의 연산 및 사용\n",
    "- 집합은 집합 간의 특별한 연산이 가능한데 교집합, 합집합, 차집합 등의 기본적인 집합끼리의 연산이 가능하다.\n",
    "- 집합 간의 포함 관계 여부 역시 확인할 수 있다.\n",
    "\n",
    "#### [집합의 연산]"
   ]
  },
  {
   "cell_type": "code",
   "execution_count": 33,
   "metadata": {},
   "outputs": [
    {
     "name": "stdout",
     "output_type": "stream",
     "text": [
      "{1, 2, 7}\n",
      "{1, 2, 7}\n",
      "{1, 2, 3, 4, 5, 6, 7, 8}\n",
      "{1, 2, 3, 4, 5, 6, 7, 8}\n"
     ]
    }
   ],
   "source": [
    "set_basic_A = {1, 2, 3, 5, 7, 8 }\n",
    "set_basic_B = {1, 2, 4, 6, 7 }\n",
    "\n",
    "#교집합 연산\n",
    "print(set_basic_A & set_basic_B)\n",
    "#교집합 연산\n",
    "print(set_basic_A.intersection(set_basic_B))\n",
    "#합집합 연산\n",
    "print(set_basic_A | set_basic_B)\n",
    "#합집합 연산\n",
    "print(set_basic_A.union(set_basic_B))"
   ]
  },
  {
   "cell_type": "markdown",
   "metadata": {},
   "source": [
    "#### [집합의 연산]"
   ]
  },
  {
   "cell_type": "code",
   "execution_count": 35,
   "metadata": {},
   "outputs": [
    {
     "name": "stdout",
     "output_type": "stream",
     "text": [
      "{8, 3, 5}\n",
      "{4, 6}\n",
      "{8, 3, 5}\n",
      "True\n",
      "True\n"
     ]
    }
   ],
   "source": [
    "set_basic_A = {1, 2, 3, 5, 7, 8 }\n",
    "set_basic_B = {1, 2, 4, 6, 7 }\n",
    "set_basic_C = {1, 2, 3, 5 }\n",
    "#차집합 연산\n",
    "print(set_basic_A - set_basic_B)\n",
    "#차집합 연산\n",
    "print(set_basic_B - set_basic_A)\n",
    "#차집합 연산\n",
    "print(set_basic_A.difference(set_basic_B))\n",
    "#C집합이 A집합의 부분 집합일 때\n",
    "print(set_basic_C <= set_basic_A)\n",
    "#C집합이 A집합의 부분 집합일 때\n",
    "print(set_basic_A.issuperset(set_basic_C))"
   ]
  },
  {
   "cell_type": "markdown",
   "metadata": {},
   "source": [
    "#### 내장 함수 \n",
    "- 내장 함수인 add와 update를 통해 하나의 값을 추가하거나 여러 개의 값을 동시에 추가할 수 있다.\n",
    "- 값의 삭제는 remove 함수를 사용한다.\n",
    "\n",
    "#### [집합의 함수]"
   ]
  },
  {
   "cell_type": "code",
   "execution_count": 36,
   "metadata": {},
   "outputs": [
    {
     "name": "stdout",
     "output_type": "stream",
     "text": [
      "{1, 2, 3, 4, 5, 6}\n",
      "{1, 2, 3, 4, 5, 6, 7, 8, 9}\n",
      "{1, 3, 4, 5, 6, 8, 9}\n"
     ]
    }
   ],
   "source": [
    "set_basic = {1, 2, 3, 4, 5 }\n",
    "#값의 추가\n",
    "set_basic.add(6)\n",
    "print(set_basic)\n",
    "#값의 추가\n",
    "set_basic.update([7, 8, 9])\n",
    "print(set_basic)\n",
    "#값의 삭제\n",
    "set_basic.remove(2)\n",
    "#값의 삭제\n",
    "set_basic.remove(7) \n",
    "print(set_basic)"
   ]
  },
  {
   "cell_type": "markdown",
   "metadata": {},
   "source": [
    "### 3.4 얕은 복사와 깊은 복사\n",
    "#### 자료형별 복사\n",
    "- 변수의 복사에서는 변수 y에 변수 x를 할당한 후 y를 다른 값으로 수정하였을 때 각각의 x, y 변수는 서로 다른 객체로 동일하지 않다.\n",
    "- 수정된 y와 기존의 x는 서로 다른 값이 되며 나타나는 객체 주소 값 역시 다르다는 것을 확인할 수 있다.\n",
    "- 즉 하나의 변수에 또 다른 변수를 할당했다 하더라도 두 변수가 같은 객체가 되는 것은 아니다.\n",
    "\n",
    "#### [변수의 복사]"
   ]
  },
  {
   "cell_type": "code",
   "execution_count": 37,
   "metadata": {},
   "outputs": [
    {
     "name": "stdout",
     "output_type": "stream",
     "text": [
      "10\n",
      "10\n",
      "5\n",
      "140715436581552\n",
      "140715436581392\n"
     ]
    }
   ],
   "source": [
    "x = 10\n",
    "y = x\n",
    "print(y)\n",
    "y = 5\n",
    "print(x)\n",
    "print(y)\n",
    "#변수 x,y의 주소값 출력\n",
    "print(id(x))\n",
    "print(id(y))"
   ]
  },
  {
   "cell_type": "markdown",
   "metadata": {},
   "source": [
    "- 리스트 복사의 경우 리스트 x, y가 객체 주소값이 동일한 이름만 다른 같은 객체로 복사된다.\n",
    "- 즉 하나의 리스트를 다른 리스트로 복사하게 되면 다른 객체가 생성되는 것이 아닌 이름만 다른 같은 객체이다.\n",
    "- 따라서 하나의 리스트의 요소를 수정하게 되면 복사된 리스트의 요소 역시 수정된다.\n",
    "\n",
    "#### [리스트의 복사]"
   ]
  },
  {
   "cell_type": "code",
   "execution_count": 38,
   "metadata": {},
   "outputs": [
    {
     "name": "stdout",
     "output_type": "stream",
     "text": [
      "[1, 5, 10]\n",
      "[3, 5, 10]\n",
      "[3, 5, 10]\n",
      "2165980021960\n",
      "2165980021960\n",
      "True\n"
     ]
    }
   ],
   "source": [
    "x = [1, 5, 10]\n",
    "y = x\n",
    "print(y)\n",
    "#리스트 y의 값 변경\n",
    "y[0] = 3\n",
    "print(x)\n",
    "print(y)\n",
    "print(id(x))\n",
    "print(id(y))\n",
    "#리스트 x, y가 같은 객체인지의 여부 출력\n",
    "print(x is y)"
   ]
  },
  {
   "cell_type": "markdown",
   "metadata": {},
   "source": [
    "- 리스트에서의 객체 자체의 복사가 아닌 값만을 복사하고자 할 때에는 얕은 복사를 사용한다.\n",
    "- Python의 기본 라이브러리 ‘copy’를 사용하거나 리스트 슬라이싱을 통해 얕은 복사를 한다.\n",
    "\n",
    "\n",
    "#### [copy를 사용한 얕은 복사]"
   ]
  },
  {
   "cell_type": "code",
   "execution_count": 39,
   "metadata": {},
   "outputs": [
    {
     "name": "stdout",
     "output_type": "stream",
     "text": [
      "[1, 5, 10]\n",
      "[1, 5, 10]\n",
      "[3, 5, 10]\n",
      "2165981474312\n",
      "2165980531592\n",
      "False\n"
     ]
    }
   ],
   "source": [
    "from copy import copy\n",
    "x = [1, 5, 10]\n",
    "y = copy(x)                \n",
    "print(y)                     \n",
    "y[0] = 3\n",
    "print(x)\n",
    "print(y)\n",
    "print(id(x))\n",
    "print(id(y)) \n",
    "print(x is y)"
   ]
  },
  {
   "cell_type": "code",
   "execution_count": 40,
   "metadata": {},
   "outputs": [
    {
     "name": "stdout",
     "output_type": "stream",
     "text": [
      "[1, 5, 10]\n",
      "[1, 5, 10]\n",
      "[3, 5, 10]\n",
      "2165980012360\n",
      "2165980012296\n",
      "False\n"
     ]
    }
   ],
   "source": [
    "x = [1, 5, 10]\n",
    "y = x[:]\n",
    "print(y)                     \n",
    "y[0] = 3\n",
    "print(x)\n",
    "print(y)\n",
    "print(id(x))\n",
    "print(id(y))\n",
    "print(x is y)"
   ]
  },
  {
   "cell_type": "markdown",
   "metadata": {},
   "source": [
    "- 얕은 복사를 사용하여 객체 내부의 객체를 새로운 객체로 복사하고자 했으나 얕은 복사로는 내부의 리스트 객체는 주소값이 동일한 이름만 다른 같은 객체로의 복사만 된다.\n",
    "\n",
    "#### [객체 내부에 다른 객체를 포함할 때 얕은 복사]"
   ]
  },
  {
   "cell_type": "code",
   "execution_count": 41,
   "metadata": {},
   "outputs": [
    {
     "name": "stdout",
     "output_type": "stream",
     "text": [
      "[1, 5, [3, 15, 20]]\n",
      "[1, 3, [3, 15, 20]]\n"
     ]
    }
   ],
   "source": [
    "from copy import copy\n",
    "#리스트 객체를 포함한 리스트 객체\n",
    "x = [1, 5, [10, 15, 20]]\n",
    "#얕은 복사\n",
    "y = copy(x)\n",
    "y[1] = 3\n",
    "#y객체의 리스트 요소값 만을 변경하고자 함\n",
    "y[2][0] = 3\n",
    "print(x)\n",
    "print(y)"
   ]
  },
  {
   "cell_type": "markdown",
   "metadata": {},
   "source": [
    "- 내부 객체까지 완전히 복사하기 위해서는 깊은 복사(deepcopy)를 사용하여 복사한다.\n",
    "- Python의 라이브러리‘copy’에서 deepcopy를 import하여 사용할 수 있으며 얕은 복사가 내부 객체에서는 완전히 새로운 객체를 생성하지 않는 것과는 달리 내부의 모든 객체도 새로운 객체로 복사하게 된다.\n",
    "- 깊은 복사를 진행할 때 복사하고자 하는 객체의 구조가 크고 복잡할 경우에는 시간이 오래 걸리는 단점이 있다.\n",
    "\n",
    "#### [깊은 복사]"
   ]
  },
  {
   "cell_type": "code",
   "execution_count": 42,
   "metadata": {},
   "outputs": [
    {
     "name": "stdout",
     "output_type": "stream",
     "text": [
      "[1, 5, [10, 15, 20]]\n",
      "[1, 3, [3, 15, 20]]\n"
     ]
    }
   ],
   "source": [
    "from copy import deepcopy\n",
    "#리스트 객체를 포함한 리스트 객체\n",
    "x = [1, 5, [10, 15, 20]]\n",
    "#얕은 복사\n",
    "y = deepcopy(x)\n",
    "y[1] = 3\n",
    "#y객체의 리스트 요소값만을 변경하고자 함\n",
    "y[2][0] = 3\n",
    "print(x)\n",
    "print(y)"
   ]
  },
  {
   "cell_type": "markdown",
   "metadata": {},
   "source": [
    "## 연습문제\n",
    "\n",
    "### 1.\n",
    "튜플과 딕셔너리, 집합의 특징에 관해 설명하고 리스트와의 차이점을 작성하라.\n",
    "<br><br>\n",
    "(1) 튜플\n",
    "\n",
    "(2) 딕셔너리\n",
    "\n",
    "(3) 집합\n",
    "<br><br>\n",
    "\n",
    "### 2.\n",
    "딕셔너리는 Key-Value 구조이다. 다음 중 딕셔너리의 Key 영역에 쓰일 수 있는 것을 모두 고르고, 그 이유를 설명하여라.\n",
    "\n",
    "(1)튜플 &nbsp;&nbsp; (2)딕셔너리 &nbsp;&nbsp; (3)집합\n",
    "<br><br>\n",
    "\n",
    "### 3.\n",
    "얕은 복사(Shallow Copy)와 깊은 복사(Deep Copy)의 차이를 서술하여라.\n",
    "<br><br>\n",
    "\n",
    "### 4.\n",
    "다음과 같은 딕셔너리가 있다고 가정한다.<br>\n",
    "key1의 출력 결과를 확인하고 결과의 이유를 설명하라<br>\n",
    "key2의 value 안의 key1을 사용하기 위해서 어떠한 코드를 작성해야 하는가?<br><br>\n",
    "\n",
    "<div style = \"border : 1px solid green; padding : 5px; width = 50px;\">dict = {‘key1’ : 15, ‘key2’ : {‘key1’ : 10, ‘key2’ : 20 } }</div>\n",
    "\n",
    "실행 결과 :\n",
    "\n",
    "## 5.\n",
    "리스트 B가 있을 때, 해당 리스트를 복사하는 C라는 리스트를 생성하는 코드이다.<br>\n",
    "코드를 실행한 후, C를 출력한 결과는 아래 실행 결과와 같다.빈칸에 올 수 있는 코드를 모두 작성하여라 (얕은 복사, 슬라이싱)<br>\n",
    "\n",
    "<div style = \"border : 1px solid green; padding : 5px; width = 50px;\">\n",
    "\n",
    "from copy import copy<br>\n",
    "B = [[‘a’, ‘b’, ‘c’], 10, 20]<br>\n",
    "( &nbsp;)<br>\n",
    "C[0][2] = ‘d’<br>\n",
    "    </div>\n",
    "    \n",
    "    <br>\n",
    "실행 결과 : C = [[‘a’, ‘b’, ‘d’], 10, 20]"
   ]
  }
 ],
 "metadata": {
  "kernelspec": {
   "display_name": "Python 3",
   "language": "python",
   "name": "python3"
  },
  "language_info": {
   "codemirror_mode": {
    "name": "ipython",
    "version": 3
   },
   "file_extension": ".py",
   "mimetype": "text/x-python",
   "name": "python",
   "nbconvert_exporter": "python",
   "pygments_lexer": "ipython3",
   "version": "3.7.3"
  }
 },
 "nbformat": 4,
 "nbformat_minor": 2
}
