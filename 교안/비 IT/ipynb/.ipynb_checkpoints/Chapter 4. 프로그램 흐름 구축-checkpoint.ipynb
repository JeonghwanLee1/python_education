{
 "cells": [
  {
   "cell_type": "markdown",
   "metadata": {},
   "source": [
    "# Chapter 4. 프로그램 흐름 구축"
   ]
  },
  {
   "cell_type": "markdown",
   "metadata": {},
   "source": [
    "- Python의 기본적인 자료형과 튜플, 딕셔너리, 집합 등의 심화 자료형 대해 설명하였다.\n",
    "- 프로그램이 어떤 규칙이나 조건을 통해 흘러가는지에 대한 흐름을 구축하기 위해 다양한 제어문을 학습하고 오류의 처리를 위한 예외 처리에 대해 설명한다."
   ]
  },
  {
   "cell_type": "markdown",
   "metadata": {},
   "source": [
    "### 4.1 제어문\n",
    "\n",
    "#### 제어문의 종류\n",
    "- 순차적인 코드의 흐름을 특정 조건에 따라 제어하는 명령문이다.\n",
    "- 조건에 따라 다른 코드가 실행될 수 있도록 하는 조건문과 일정 조건 하에 코드가 반복될 수 있도록 하는 반복문이 있다.\n",
    "\n",
    "<img src=https://user-images.githubusercontent.com/48711691/75338382-f7fa3300-58d1-11ea-8076-13e320b3ebaa.JPG style=\"width:90%;\">\n",
    "\n",
    "### 4.2 조건문\n",
    "#### if/else문의 사용\n",
    "- 명시한 조건이 참인지 거짓인지에 따라 해당 코드를 수행하는 명령어이다.\n",
    "- 조건을 입력하는 부분과 조건에 의해 실행되는 부분으로 구분된다.\n",
    "- 조건 부분에는 다양한 식이 오며 결과는 항상 True나 False가 와야 한다.\n",
    "\n",
    "<div style = \"border : 1px solid green; padding : 5px; width = 50px;\">\n",
    "# if 조건 입력 부분 :<br>\n",
    "#     조건을 만족하면 실행<br>\n",
    "# else :<br>\n",
    "#     조건을 만족하지 않으면 실행</div>"
   ]
  },
  {
   "cell_type": "markdown",
   "metadata": {},
   "source": [
    "### 4.1.1 if 문과 else 문\n",
    "간단하게 주변에서 쉽게 생각할 수 있는 예시를 통해 if 문과 else 문의 기본 구조를 이해해보자."
   ]
  },
  {
   "cell_type": "markdown",
   "metadata": {},
   "source": [
    "#### if/else 문의 기본 구조"
   ]
  },
  {
   "cell_type": "code",
   "execution_count": 3,
   "metadata": {},
   "outputs": [
    {
     "name": "stdout",
     "output_type": "stream",
     "text": [
      "식사를 한다\n"
     ]
    }
   ],
   "source": [
    "hungry = True\n",
    "if hungry :\n",
    "    print('식사를 한다')\n",
    "else :\n",
    "    print('운동을 한다')"
   ]
  },
  {
   "cell_type": "markdown",
   "metadata": {},
   "source": [
    "- 위의 예시를 보면 hungry 라는 변수가 True로 정의되었다. 조건문에 의해 만약 배가 고프다면(hungry == True) '식사를 한다'를 출력하게 되고 배가 고프지 않다면(hungry != True) '운동을 한다'를 출력하게 된다. 따라서 '식사를 한다'가 출력되게 되는 것이다.\n",
    "- if/else를 통한 조건문은 위와 같은 형태를 가진다. 조건에 해당하는 부분에는 다양한 식이 올 수 있지만 결과는 항상 True 아니면 False로 나와야 하며 조건 뒤에는 항상 : 을 붙여야 하는 것에 유의하자.\n",
    "\n",
    "#### [수식을 이용한 조건문]"
   ]
  },
  {
   "cell_type": "code",
   "execution_count": 2,
   "metadata": {},
   "outputs": [
    {
     "name": "stdout",
     "output_type": "stream",
     "text": [
      "맞는 계산입니다.\n"
     ]
    }
   ],
   "source": [
    "x = 15\n",
    "y = 20\n",
    "if x+y == 35 : \n",
    "    print('맞는 계산입니다.')\n",
    "else :\n",
    "    print('틀린 계산입니다.')"
   ]
  },
  {
   "cell_type": "markdown",
   "metadata": {},
   "source": [
    "- if, else 뒤에는 항상 ‘:’를 붙여야 하는 것에 유의해야 한다.\n",
    "- if/else문에서는 들여쓰기를 유의해야 하며 그렇지 않을 경우 의도하지 않은 결과를 보일 수 있다.\n",
    "\n",
    "#### [if/else문 들여쓰기]"
   ]
  },
  {
   "cell_type": "code",
   "execution_count": 1,
   "metadata": {
    "scrolled": true
   },
   "outputs": [
    {
     "name": "stdout",
     "output_type": "stream",
     "text": [
      "이 계산은\n",
      "맞는 계산입니다.\n"
     ]
    }
   ],
   "source": [
    "x = 15\n",
    "y = 20\n",
    "if x+y == 35 : # 다양한 식을 사용할 수 있으며 결과값은 항상 True / False\n",
    "    print('이 계산은')\n",
    "    print('맞는 계산입니다.')\n",
    "else :\n",
    "    print('이 계산은')\n",
    "    print('틀린 계산입니다.') # 한 조건에 여러 실행결과를 넣을 수도 있다."
   ]
  },
  {
   "cell_type": "markdown",
   "metadata": {},
   "source": [
    "조건에는 비교 연산자나 and, or, not 연산자를 통해 조건을 판단할 수도 있다."
   ]
  },
  {
   "cell_type": "code",
   "execution_count": 1,
   "metadata": {},
   "outputs": [
    {
     "name": "stdout",
     "output_type": "stream",
     "text": [
      "x가 y보다 크거나 같습니다.\n",
      "15\n"
     ]
    }
   ],
   "source": [
    "x = 10\n",
    "y = 5\n",
    "if x < y : # 비교 연산자를 사용하여 조건을 작성\n",
    "    print('y가 x보다 큽니다.') # 들여쓰기에 유의하여 작성하자.\n",
    "else :\n",
    "    print('x가 y보다 크거나 같습니다.')\n",
    "print(x + y) # 들여쓰지 않았으므로 else의 실행결과에 포함되지 않는다."
   ]
  },
  {
   "cell_type": "code",
   "execution_count": 2,
   "metadata": {},
   "outputs": [
    {
     "name": "stdout",
     "output_type": "stream",
     "text": [
      "식당을 간다.\n"
     ]
    }
   ],
   "source": [
    "hungry = True\n",
    "money = 5000\n",
    "if hungry and money >= 4000 : # 비교 연산자와 and 연산자를 통해 조건을 작성\n",
    "    print('식당을 간다.')\n",
    "else :\n",
    "    print('식사를 거른다.')"
   ]
  },
  {
   "cell_type": "markdown",
   "metadata": {},
   "source": [
    "- 들여쓰기는 space bar를 4번 입력하거나 tab을 입력하여 할 수 있다.\n",
    "- 가급적 한 가지 방법으로 통일하여 프로그래밍 하는 것이 좋다.\n",
    "\n",
    "#### [들여쓰기를 잘못한 경우]"
   ]
  },
  {
   "cell_type": "code",
   "execution_count": 17,
   "metadata": {},
   "outputs": [
    {
     "ename": "IndentationError",
     "evalue": "expected an indented block (<ipython-input-17-77c95ffc955c>, line 3)",
     "output_type": "error",
     "traceback": [
      "\u001b[1;36m  File \u001b[1;32m\"<ipython-input-17-77c95ffc955c>\"\u001b[1;36m, line \u001b[1;32m3\u001b[0m\n\u001b[1;33m    print('True입니다.')\u001b[0m\n\u001b[1;37m        ^\u001b[0m\n\u001b[1;31mIndentationError\u001b[0m\u001b[1;31m:\u001b[0m expected an indented block\n"
     ]
    }
   ],
   "source": [
    "x = True\n",
    "if x :\n",
    "print('True입니다.')\n",
    "else :\n",
    "    print('False입니다.')"
   ]
  },
  {
   "cell_type": "markdown",
   "metadata": {},
   "source": [
    "- 조건에는 비교 연산자나 and, or, not 연산자를 통해 다양하게 상황에 맞는 조건을 표현할 수 있다.\n",
    "\n",
    "#### [조건문과 다양한 연산자]"
   ]
  },
  {
   "cell_type": "code",
   "execution_count": 4,
   "metadata": {},
   "outputs": [
    {
     "name": "stdout",
     "output_type": "stream",
     "text": [
      "식당을 간다.\n"
     ]
    }
   ],
   "source": [
    "hungry = True\n",
    "money = 5000\n",
    "if hungry and money >= 4000 : \n",
    "    print('식당을 간다.')\n",
    "else :\n",
    "    print('식사를 거른다.')"
   ]
  },
  {
   "cell_type": "markdown",
   "metadata": {},
   "source": [
    "#### pass문의 사용\n",
    "\n",
    "- 해당 위치에 어떠한 코드도 실행시키지 않고자 할 때 사용하는 명령어이며 조건의 결과 코드가 없어도 오류 없이 다음으로 코드를 진행시킨다.\n",
    "\n",
    "#### [pass문의 사용]"
   ]
  },
  {
   "cell_type": "code",
   "execution_count": 7,
   "metadata": {},
   "outputs": [],
   "source": [
    "x = True\n",
    "if x :\n",
    "    pass\n",
    "else :\n",
    "    print('False입니다.')\n",
    "# 해당 예시는 어떠한 출력도 하지 않는다."
   ]
  },
  {
   "cell_type": "markdown",
   "metadata": {},
   "source": [
    "#### elif문의 사용\n",
    "- if/else로 나누는 것 외에 조건에 따라 그 이상의 분기로 나누어야 할 때 사용하는 명령어이다.\n",
    "- elif문은 이전 조건문을 만족하지 못하면 수행되는 것이 원칙이다.\n",
    "- 다양한 조건 하에서 실행 결과를 복잡하지 않게 제어할 수 있다.\n",
    "\n",
    "#### [elif를 사용한 조건문]"
   ]
  },
  {
   "cell_type": "code",
   "execution_count": 24,
   "metadata": {},
   "outputs": [
    {
     "name": "stdout",
     "output_type": "stream",
     "text": [
      "성적은 A 입니다.\n"
     ]
    }
   ],
   "source": [
    "grade = 90\n",
    "if  80 < grade <=100 :\n",
    "    print('성적은 A 입니다.')\n",
    "elif 60 < grade <= 80 :\n",
    "    print('성적은 B 입니다.')\n",
    "elif 40 < grade <= 60 :\n",
    "    print('성적은 C 입니다.')\n",
    "elif 20 < grade <= 40 :\n",
    "    print('성적은 D 입니다.')\n",
    "else :\n",
    "    print('성적은 F 입니다.')"
   ]
  },
  {
   "cell_type": "markdown",
   "metadata": {},
   "source": [
    "- 조건문 표현식(conditional expression)을 통해 위의 조건문을 더 간결하게 사용할 수 있다.\n",
    "<br><br>\n",
    "<div style = \"border : 1px solid green; padding : 5px; width = 50px;\">\n",
    "              # 참인 경우 if 조건 입력 부분 else 거짓인 경우</div>\n",
    "\n",
    "\n",
    "#### [조건문 표현식을 사용하지 않았을 때]"
   ]
  },
  {
   "cell_type": "code",
   "execution_count": 28,
   "metadata": {},
   "outputs": [
    {
     "name": "stdout",
     "output_type": "stream",
     "text": [
      "Pass\n"
     ]
    }
   ],
   "source": [
    "grade = 65\n",
    "if grade >= 60 :\n",
    "    result = 'Pass'\n",
    "else :\n",
    "    result = 'Fail'\n",
    "print(result)"
   ]
  },
  {
   "cell_type": "markdown",
   "metadata": {},
   "source": [
    "#### [조건부 표현식으로 변환]"
   ]
  },
  {
   "cell_type": "code",
   "execution_count": 7,
   "metadata": {},
   "outputs": [
    {
     "name": "stdout",
     "output_type": "stream",
     "text": [
      "Pass\n"
     ]
    }
   ],
   "source": [
    "grade = 65\n",
    "result = 'Pass' if grade >= 60 else 'Fail'\n",
    "print(result)\n",
    "# 조건문이 만족한 경우 if 조건 else 만족하지 않은 경우"
   ]
  },
  {
   "cell_type": "markdown",
   "metadata": {},
   "source": [
    "### 4.3 반복문\n",
    "- 반복문이란 특정 조건 하에 일정한 코드를 반복해서 실행하는 명령어이며 for문과 while문 두 가지의 반복문이 존재한다.\n",
    "\n",
    "#### for문의 사용\n",
    "\n",
    "<div style = \"border : 1px solid green; padding : 5px; width = 50px;\">\n",
    "    # for var in table :<br><br>\n",
    "<div style = \"color : gray;\">\n",
    "table의 요소만큼 반복<br>\n",
    "var : 변수<br>\n",
    "table : 리스트, 튜플, 문자열 등의 반복가능한 객체<br>\n",
    "</div></div>\n",
    "\n",
    "- 반복 가능한 객체의 요소 수만큼 코드를 반복해서 실행하는 명령어이다.\n",
    "- 반복문을 사용하지 않고 표현하기 위해서는 같은 코드를 여러 번 작성해야 하며 반복문을 통해 불필요한 낭비를 방지한다.\n",
    "- 반복의 수가 현실적으로 작성할 수 없을 정도로 많을 경우에는 반복문이 반드시 필요하다.\n",
    "- for문은 반복 가능한 객체의 요소 수만큼 반복하며 반복의 수를 미리 정하고자 할 때 사용하는 것이 합리적이다.\n",
    "\n",
    "#### [for반복문을 사용한 print()]"
   ]
  },
  {
   "cell_type": "code",
   "execution_count": 3,
   "metadata": {},
   "outputs": [
    {
     "name": "stdout",
     "output_type": "stream",
     "text": [
      "1\n",
      "2\n",
      "3\n",
      "4\n"
     ]
    }
   ],
   "source": [
    "a = [1, 2, 3, 4]\n",
    "for i in a :\n",
    "    print(i) # 들여쓰기를 한 부분만 반복"
   ]
  },
  {
   "cell_type": "code",
   "execution_count": 8,
   "metadata": {},
   "outputs": [
    {
     "name": "stdout",
     "output_type": "stream",
     "text": [
      "1\n",
      "2\n",
      "3\n",
      "4\n"
     ]
    }
   ],
   "source": [
    "a = [1, 2, 3, 4]\n",
    "i = a[0] # 첫 번째 반복\n",
    "print(i)\n",
    "i = a[1] # 두 번째 반복\n",
    "print(i) \n",
    "i = a[2] # 세 번째 반복\n",
    "print(i)\n",
    "i = a[3] # 네 번째 반복\n",
    "print(i)"
   ]
  },
  {
   "cell_type": "markdown",
   "metadata": {},
   "source": [
    "- 반복 가능한 객체’에 해당하는 부분은 반드시 연속적인 값이 아니어도 사용할 수 있다.\n",
    "- 변수에 해당하는 부분 역시 단일 변수일 필요는 없다.\n",
    "\n",
    "#### [여러 개의 변수를 사용하는 for문]"
   ]
  },
  {
   "cell_type": "code",
   "execution_count": 9,
   "metadata": {
    "scrolled": true
   },
   "outputs": [
    {
     "name": "stdout",
     "output_type": "stream",
     "text": [
      "3\n",
      "7\n",
      "11\n",
      "15\n"
     ]
    }
   ],
   "source": [
    "#리스트를 요소로 포함하는 리스트\n",
    "a = [[1, 2], [3, 4], [5, 6], [7, 8]]\n",
    "\n",
    "#내부 리스트의 요소를 value1, value2로 명시\n",
    "for [value1, value2] in a :\n",
    "    print(value1 + value2)"
   ]
  },
  {
   "cell_type": "markdown",
   "metadata": {},
   "source": [
    "#### range함수의 사용\n",
    "- range 함수는 숫자 리스트를 자동으로 만들어주는 함수이다.\n",
    "- 간단하게 숫자 리스트를 만들 수 있어 여러 자료형에서 많이 사용된다.\n",
    "\n",
    "<div style = \"border : 1px solid green; padding : 5px; width = 50px;\"># for var in range(시작 값, 끝 값, 증감 폭)<br>\n",
    "    \n",
    "<div style = \"color : gray;\">var : 변수<br>\n",
    "시작 값, 증감 폭은 생략될 수 있음</div></div>\n",
    "\n",
    "- range 함수를 통해 for 반복문을 더욱 효과적으로 사용할 수 있다.\n",
    "- 하나의 매개변수만 사용하는 경우 변수의 값이 0부터 차례로 1씩 늘어나는 숫자 리스트가 생성되기 때문에 이를 응용하여 다양한 프로그램을 구현할 수 있다.\n",
    "\n",
    "#### [range()함수와 for문 응용]"
   ]
  },
  {
   "cell_type": "code",
   "execution_count": 10,
   "metadata": {},
   "outputs": [
    {
     "name": "stdout",
     "output_type": "stream",
     "text": [
      "0\n",
      "1\n",
      "2\n",
      "3\n"
     ]
    }
   ],
   "source": [
    "for var in range(4) :\n",
    "     print(var)"
   ]
  },
  {
   "cell_type": "markdown",
   "metadata": {},
   "source": [
    "- 일정한 증감폭으로 반복문을 사용하거나 변수의 범위를 정할 수 있다.\n",
    "\n",
    "####  [range()함수의 다양한 사용]"
   ]
  },
  {
   "cell_type": "code",
   "execution_count": 11,
   "metadata": {},
   "outputs": [
    {
     "name": "stdout",
     "output_type": "stream",
     "text": [
      "2\n",
      "4\n",
      "6\n"
     ]
    }
   ],
   "source": [
    "for var in range(2, 7, 2) :\n",
    "    print(var)"
   ]
  },
  {
   "cell_type": "markdown",
   "metadata": {},
   "source": [
    "#### while문 사용\n",
    "\n",
    "<div style = \"border : 1px solid green; padding : 5px; width = 50px;\"># while 조건 입력 부분 :<br><br>\n",
    "    \n",
    "<div style = \"color : gray;\">조건을 만족하면 반복</div></div>\n",
    "\n",
    "- 명시한 조건을 만족할 때까지 반복해서 코드를 실행하는 명령어이다.\n",
    "- while문은 조건을 만족하지 않을 때까지 계속해서 해당하는 코드를 반복해서 실행하기 때문에 특정 조건에 따른 반복이 필요할 때 사용하는 것이 합리적이다.\n",
    "\n",
    "#### [while문의 기본 구조]"
   ]
  },
  {
   "cell_type": "code",
   "execution_count": 49,
   "metadata": {},
   "outputs": [
    {
     "name": "stdout",
     "output_type": "stream",
     "text": [
      "커피를 1잔 제공합니다.\n",
      "남은 커피는 4잔\n",
      "커피를 1잔 제공합니다.\n",
      "남은 커피는 3잔\n",
      "커피를 1잔 제공합니다.\n",
      "남은 커피는 2잔\n",
      "커피를 1잔 제공합니다.\n",
      "남은 커피는 1잔\n",
      "커피를 1잔 제공합니다.\n",
      "남은 커피는 0잔\n",
      "커피가 없습니다.\n"
     ]
    }
   ],
   "source": [
    "coffee = 5\n",
    "while coffee > 0 :\n",
    "    # 반복되는 부분 시작\n",
    "    print('커피를 1잔 제공합니다.')\n",
    "    coffee = coffee -1\n",
    "    print(\"남은 커피는 %d잔\" %coffee)\n",
    "    if coffee == 0 :\n",
    "        print('커피가 없습니다.')\n",
    "    # 반복되는 부분 끝"
   ]
  },
  {
   "cell_type": "markdown",
   "metadata": {},
   "source": [
    "- while문은 while '조건' : 으로 사용할 수 있으며 들여쓰기를 통해 반복되는 실행부분을 작성한다. 조건을 만족하는 경우에만 반복되는 부분을 실행시키게 되며 조건이 만족하지 않는 경우 반복을 탈출하게 된다.\n",
    "\n",
    "- while문은 반복 횟수가 정해져 있지 않고 특정 조건을 만족할 때까지 반복해야 할 경우에 for문을 사용하는 것 보다 효율적으로 사용할 수 있다."
   ]
  },
  {
   "cell_type": "markdown",
   "metadata": {},
   "source": [
    "#### continue와 break\n",
    "\n",
    "- 진행 중인 반복을 멈추고 다음 반복을 시작하는 명령어인 continue와 반복의 횟수가 남아 있더라도 바로 반복문을 탈출하는 명령어인 break가 있다.\n",
    "- 반드시 반복을 끝낼 필요 없이 진행하거나 알고리즘의 효율을 높이기 위해 반복의 횟수나 시간을 줄이기 위해 활용된다.\n",
    "\n",
    "#### [continue 사용]"
   ]
  },
  {
   "cell_type": "code",
   "execution_count": 12,
   "metadata": {},
   "outputs": [
    {
     "name": "stdout",
     "output_type": "stream",
     "text": [
      "1\n",
      "3\n",
      "5\n",
      "7\n",
      "9\n"
     ]
    }
   ],
   "source": [
    "for i in range(10) :\n",
    "    if i % 2 == 0 : # i가 짝수라면\n",
    "        continue   # 이번 반복을 끝내고 다음 반복을 시작한다.\n",
    "    print(i)\n",
    "    "
   ]
  },
  {
   "cell_type": "markdown",
   "metadata": {},
   "source": [
    "#### [break 사용]"
   ]
  },
  {
   "cell_type": "code",
   "execution_count": 13,
   "metadata": {},
   "outputs": [
    {
     "name": "stdout",
     "output_type": "stream",
     "text": [
      "0\n",
      "1\n",
      "2\n"
     ]
    }
   ],
   "source": [
    "for var in range(10) :\n",
    "        if var == 3 :\n",
    "            break\n",
    "        print(var)"
   ]
  },
  {
   "cell_type": "markdown",
   "metadata": {},
   "source": [
    "- break를 사용하게 되면 해당 부분에서 반복문을 더 이상 진행시키지 않고 바로 탈출하게 된다.\n",
    "- 위의 예시에서는 i가 3이 된 순간 print(i)를 생략하면서 반복문 자체를 탈출했기 때문에 0, 1, 2의 결과만 출력된다."
   ]
  },
  {
   "cell_type": "markdown",
   "metadata": {},
   "source": [
    "### 4.4 예외 처리\n",
    "- 프로그램을 구현할 때 의도치 않은 오류를 범하는 경우가 많다. 그 중엔 치명적인 오류를 보이는 경우 프로그램이 강제로 멈추기도 한다.\n",
    "- 이러한 원인으로 발생되는 여러 오류들을 예외라 한다.\n",
    "\n",
    "#### try/except 사용\n",
    "\n",
    "<div style = \"border : 1px solid green; padding : 5px; width = 50px;\">\n",
    "# try :<br>\n",
    "    &nbsp;&nbsp;실행코드<br>\n",
    "    #except :<br>\n",
    "    &nbsp;&nbsp;예외 발생 시 실행되는 코드\n",
    "</div>\n",
    "\n",
    "- 예외가 일어나도 대처할 수 있도록 처리하는 명령어이다.\n",
    "- 프로그램이 임의로 멈추지 않도록 예외 처리로 오류 현상을 방지한다.\n",
    "\n",
    "#### [try/except의 기본 예제]"
   ]
  },
  {
   "cell_type": "code",
   "execution_count": 14,
   "metadata": {},
   "outputs": [
    {
     "ename": "SyntaxError",
     "evalue": "EOL while scanning string literal (<ipython-input-14-4e79866f9087>, line 6)",
     "output_type": "error",
     "traceback": [
      "\u001b[1;36m  File \u001b[1;32m\"<ipython-input-14-4e79866f9087>\"\u001b[1;36m, line \u001b[1;32m6\u001b[0m\n\u001b[1;33m    print('오류입니다.’)\u001b[0m\n\u001b[1;37m                   ^\u001b[0m\n\u001b[1;31mSyntaxError\u001b[0m\u001b[1;31m:\u001b[0m EOL while scanning string literal\n"
     ]
    }
   ],
   "source": [
    "try :\n",
    "    x = 3\n",
    "    z = w + x\n",
    "    print(z)\n",
    "except :\n",
    "    print('오류입니다.’)\n",
    "#오류임을 출력하고 다음 코드로 계속 진행할 수 있다"
   ]
  },
  {
   "cell_type": "markdown",
   "metadata": {},
   "source": [
    "- 예외처리를 했을 경우와 하지 않았을 경우의 결과가 어떻게 달라지는지 다음의 예시를 보고 확인해보자. \n",
    "\n",
    "#### [예외처리를 하지 않았을 경우]"
   ]
  },
  {
   "cell_type": "code",
   "execution_count": 54,
   "metadata": {},
   "outputs": [
    {
     "ename": "NameError",
     "evalue": "name 'w' is not defined",
     "output_type": "error",
     "traceback": [
      "\u001b[1;31m---------------------------------------------------------------------------\u001b[0m",
      "\u001b[1;31mNameError\u001b[0m                                 Traceback (most recent call last)",
      "\u001b[1;32m<ipython-input-54-d12e4d850329>\u001b[0m in \u001b[0;36m<module>\u001b[1;34m\u001b[0m\n\u001b[0;32m      1\u001b[0m \u001b[0mx\u001b[0m \u001b[1;33m=\u001b[0m \u001b[1;36m3\u001b[0m\u001b[1;33m\u001b[0m\u001b[1;33m\u001b[0m\u001b[0m\n\u001b[1;32m----> 2\u001b[1;33m \u001b[0mz\u001b[0m \u001b[1;33m=\u001b[0m \u001b[0mw\u001b[0m \u001b[1;33m+\u001b[0m \u001b[0mx\u001b[0m\u001b[1;33m\u001b[0m\u001b[1;33m\u001b[0m\u001b[0m\n\u001b[0m\u001b[0;32m      3\u001b[0m \u001b[0mprint\u001b[0m\u001b[1;33m(\u001b[0m\u001b[0mz\u001b[0m\u001b[1;33m)\u001b[0m\u001b[1;33m\u001b[0m\u001b[1;33m\u001b[0m\u001b[0m\n",
      "\u001b[1;31mNameError\u001b[0m: name 'w' is not defined"
     ]
    }
   ],
   "source": [
    "x = 3\n",
    "z = w + x  # w가 정의되지 않아 예외를 발생\n",
    "print(z)"
   ]
  },
  {
   "cell_type": "markdown",
   "metadata": {},
   "source": [
    "#### [예외처리를 했을 경우]"
   ]
  },
  {
   "cell_type": "code",
   "execution_count": 15,
   "metadata": {},
   "outputs": [
    {
     "name": "stdout",
     "output_type": "stream",
     "text": [
      "오류입니다.\n"
     ]
    }
   ],
   "source": [
    "try :\n",
    "    x = 3\n",
    "    z = w + x\n",
    "    print(z)\n",
    "except :\n",
    "    print('오류입니다.')"
   ]
  },
  {
   "cell_type": "markdown",
   "metadata": {},
   "source": [
    "#### finally 사용\n",
    "- finally는 try/except와 함께 사용하여 프로그램에서의 예외 발생 여부에 상관없이 항상 해당 위치의 코드를 실행할 수 있도록 한다.\n",
    "\n",
    "#### [finally의 사용]"
   ]
  },
  {
   "cell_type": "code",
   "execution_count": 59,
   "metadata": {},
   "outputs": [
    {
     "name": "stdout",
     "output_type": "stream",
     "text": [
      "오류입니다.\n",
      "항상 실행되는 코드입니다.\n"
     ]
    }
   ],
   "source": [
    "try :\n",
    "    x = 3\n",
    "    z = w + x\n",
    "    print(z)\n",
    "except :\n",
    "    print('오류입니다.')\n",
    "finally :\n",
    "    print('항상 실행되는 코드입니다.')"
   ]
  },
  {
   "cell_type": "markdown",
   "metadata": {},
   "source": [
    "#### 예외 처리의 심화\n",
    "\n",
    "- raise 명령어를 통해 예외를 강제로 발생시킬 수 있다.\n",
    "- pass 명령어를 통해 예외를 무시하고 스크립트를 통과시킬 수 있다.\n",
    "\n",
    "#### [예외를 나누어 처리하기]"
   ]
  },
  {
   "cell_type": "code",
   "execution_count": 11,
   "metadata": {},
   "outputs": [
    {
     "name": "stdout",
     "output_type": "stream",
     "text": [
      "인덱스 참조 오류\n"
     ]
    }
   ],
   "source": [
    "try :\n",
    "    a = [2, 5, 8]\n",
    "    z = a[3]\n",
    "    print(z)\n",
    "except IndexError :\n",
    "    print('인덱스 참조 오류')\n",
    "except ZeroDivisionError :\n",
    "    print('0으로 나눌 수 없음')\n",
    "    "
   ]
  },
  {
   "cell_type": "markdown",
   "metadata": {},
   "source": [
    "- 발생하는 예외의 종류에 따라 구분하여 예외처리를 할 수 있다. 이러한 방식의 예외처리는 발생한 예외의 성질에 따라 적절한 처리를 할 수 있게 도와준다.\n",
    "\n",
    "#### [예외를 강제로 발생시키는 방법]"
   ]
  },
  {
   "cell_type": "code",
   "execution_count": 16,
   "metadata": {},
   "outputs": [
    {
     "name": "stdout",
     "output_type": "stream",
     "text": [
      "강제로 발생시킨 예외입니다.\n"
     ]
    }
   ],
   "source": [
    "try :\n",
    "    raise NotImplementedError\n",
    "except :\n",
    "    print('강제로 발생시킨 예외입니다.')"
   ]
  },
  {
   "cell_type": "markdown",
   "metadata": {},
   "source": [
    "#### [예외를 무시하는 방법]"
   ]
  },
  {
   "cell_type": "code",
   "execution_count": 17,
   "metadata": {},
   "outputs": [],
   "source": [
    "try :\n",
    "    a = [2, 5, 8]\n",
    "    z = a[3]  # 잘못된 인덱스의 참조\n",
    "    print(z)\n",
    "except :\n",
    "    pass"
   ]
  },
  {
   "cell_type": "markdown",
   "metadata": {},
   "source": [
    "- 여러 개의 예외를 예외의 종류에 따라 나누어 처리할 수 있다.\n",
    "- 이러한 방식의 예외 처리는 발생한 예외의 성질에 따라 적절한 대처를 할 수 있도록 돕는다.\n",
    "\n",
    "#### [IndexError와 ZeroDivisionError의 분할 처리]"
   ]
  },
  {
   "cell_type": "code",
   "execution_count": 19,
   "metadata": {},
   "outputs": [
    {
     "ename": "SyntaxError",
     "evalue": "invalid syntax (<ipython-input-19-ab95a97c3543>, line 8)",
     "output_type": "error",
     "traceback": [
      "\u001b[1;36m  File \u001b[1;32m\"<ipython-input-19-ab95a97c3543>\"\u001b[1;36m, line \u001b[1;32m8\u001b[0m\n\u001b[1;33m    Except ZeroDivisionError :\u001b[0m\n\u001b[1;37m                           ^\u001b[0m\n\u001b[1;31mSyntaxError\u001b[0m\u001b[1;31m:\u001b[0m invalid syntax\n"
     ]
    }
   ],
   "source": [
    "try :\n",
    "    a = [2, 5, 8]\n",
    "    z = a[3]\n",
    "    print(z)\n",
    "except IndexError :\n",
    "# 인덱스 참조를 잘못 하여 발생하는 예외\n",
    "    print('인덱스 참조 오류')\n",
    "Except ZeroDivisionError :\n",
    "# 0으로 나누었을 때 발생하는 예외\n",
    "    print('0으로 나눌 수 없음')"
   ]
  },
  {
   "cell_type": "markdown",
   "metadata": {},
   "source": [
    "## 연습문제\n",
    "\n",
    "### 1.\n",
    "다음은 while문으로 작성된 반복문이다. 이 반복문을 for문을 이용한 반복문으로 바꾸어 구현하여라."
   ]
  },
  {
   "cell_type": "code",
   "execution_count": null,
   "metadata": {},
   "outputs": [],
   "source": [
    "x = 0\n",
    "while x <6 :\n",
    "    if x%2 == 0 :\n",
    "        pass\n",
    "    else :\n",
    "        print(x)\n",
    "        \n",
    "        x+=1"
   ]
  },
  {
   "cell_type": "markdown",
   "metadata": {},
   "source": [
    "실행 결과 :\n",
    " &nbsp;1<br>\n",
    " &nbsp;3<br>\n",
    " &nbsp;5\n",
    "    "
   ]
  },
  {
   "cell_type": "markdown",
   "metadata": {},
   "source": [
    "### 2.\n",
    "한 분반에 'james', 'john', 'tomas', 'bob' 총 4명의 학생이 있다. 각 학생별로 성적은 각각 94, 79, 46, 60점이다. 학생 별로 성적을 출력해주는 프로그램을 설계하여라. 단, 딕셔너리를 사용하여 구현할 것\n",
    "<br>\n",
    "\n",
    "#### F, D, C, B, A의 순서로 20점씩의 차이를 보이며 A는 가장 높은 점수\n",
    "\n",
    "<br>\n",
    "실행 결과 :\n",
    "<br>\n",
    "james의 성적은 A 입니다. \n",
    "john의 성적은 B 입니다. \n",
    "tomas의 성적은 C 입니다. \n",
    "bob의 성적은 C 입니다.\n",
    "\n",
    "### 3.\n",
    "while문을 사용하여 0이 나올 때까지 반복하여 임의의 숫자를 출력하는 프로그램이다. 다음의 빈 부분을 채워라."
   ]
  },
  {
   "cell_type": "code",
   "execution_count": null,
   "metadata": {},
   "outputs": [],
   "source": [
    "import random\n",
    "num = random.randrange(0, 50)\n",
    "while #(            ) :\n",
    "       #(             )\n",
    "    #(             )\n",
    "print('반복이 종료되었습니다.')"
   ]
  },
  {
   "cell_type": "markdown",
   "metadata": {},
   "source": [
    "실행 결과 : <br>\n",
    "23<br>\n",
    "3<br>\n",
    "29<br>\n",
    "반복이 종료되었습니다.\n",
    "\n",
    "### 4.\n",
    "예외가 발생되는 부분을 찾아 이유를 설명하고 예외처리를 고려하여 수정하여라."
   ]
  },
  {
   "cell_type": "code",
   "execution_count": null,
   "metadata": {},
   "outputs": [],
   "source": [
    "year = 2020\n",
    "for var in range(10) :\n",
    "    if x % var == 0 :\n",
    "        print('%d로 나누어 떨어집니다' %var)"
   ]
  },
  {
   "cell_type": "markdown",
   "metadata": {},
   "source": [
    "### 5.\n",
    "반복문을 사용하여 제시된 값을 찾아 index를 반환하고, 해당 index를 찾기 위해 실행된 반복문의 횟수를 반환하는 코드를 작성하여라.\n",
    "\n",
    "<br>\n",
    "myList = [1, 2, 5, 7, 9, 11, 13]\n",
    "find = 11\n",
    "(\n",
    "<br>\n",
    "<br>\n",
    "<br>\n",
    "}\n",
    "<br>\n",
    "<br>\n",
    "실행 결과 :\n",
    "<br>\n",
    "찾으려는 값의 index: 5 <br>\n",
    "반복한 횟수: 6 입니다. <br>"
   ]
  }
 ],
 "metadata": {
  "kernelspec": {
   "display_name": "Python 3",
   "language": "python",
   "name": "python3"
  },
  "language_info": {
   "codemirror_mode": {
    "name": "ipython",
    "version": 3
   },
   "file_extension": ".py",
   "mimetype": "text/x-python",
   "name": "python",
   "nbconvert_exporter": "python",
   "pygments_lexer": "ipython3",
   "version": "3.7.3"
  }
 },
 "nbformat": 4,
 "nbformat_minor": 2
}
