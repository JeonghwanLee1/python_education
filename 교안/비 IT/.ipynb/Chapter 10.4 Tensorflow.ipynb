{
 "cells": [
  {
   "cell_type": "markdown",
   "metadata": {},
   "source": [
    "# 10. Tensorflow\n",
    "## 10.1 Tensorflow란?\n",
    "- Tenesorflow란 구글에서 만든 딥러닝 프로그램을 쉽게 구현할 수 있도록 여러 가지 기능들을 제공해 주는 라이브러리이다.\n",
    "- Python, Java, Go 등의 언어를 지원하지만 대부분의 기능들이 Python 라이브러리로만 구현되어 있어 Python 환경에서 사용하는 것이 가장 적합하다.\n",
    "- Tensor란 행렬로 표현할 수 있는 2차원 형태의 배열을 높은 차원으로 확장한 다차원 배열을 뜻한다.\n",
    "\n",
    "<div style=\"border : 1px solid #f2f2f2; padding : 5px; text-align : center;\">\n",
    "<figure>\n",
    "    <img src=https://user-images.githubusercontent.com/31681740/70399375-cd34d700-1a66-11ea-9f2b-b74bbce3f6f8.PNG style=\"width:50%;\">\n",
    "    <center><figcaption>&#60;그림1&#62;2차원 배열에 대한 3차원 확장 예시</figcaption></center>\n",
    "</figure></div>\n"
   ]
  },
  {
   "cell_type": "markdown",
   "metadata": {},
   "source": [
    "#### Tensorflow 설치\n",
    "- anaconda prompt에서 명령어를 통해 진행\n",
    "<div style = \"border : 1px solid green; padding : 5px;\">\n",
    ">conda update -n base conda<br>\n",
    ">conda update --all<br>\n",
    ">pip install tensorflow<br>\n",
    "</div>\n",
    "- 설치가 완료되면 import 명령어를 통하여 tensorflow 패키지를 현제 프로젝트에 추가할 수 있다."
   ]
  },
  {
   "cell_type": "code",
   "execution_count": 1,
   "metadata": {},
   "outputs": [
    {
     "data": {
      "text/plain": [
       "'2.0.0'"
      ]
     },
     "execution_count": 1,
     "metadata": {},
     "output_type": "execute_result"
    }
   ],
   "source": [
    "import tensorflow as tf\n",
    "tf.__version__ # tensorflow 버전 확인"
   ]
  },
  {
   "cell_type": "code",
   "execution_count": 2,
   "metadata": {},
   "outputs": [
    {
     "name": "stdout",
     "output_type": "stream",
     "text": [
      "tf.Tensor(b'hello', shape=(), dtype=string)\n"
     ]
    }
   ],
   "source": [
    "import tensorflow as tf\n",
    "# tensorflow로 간단한 Hello 출력\n",
    "hello = tf.constant('hello')\n",
    "print(hello)"
   ]
  },
  {
   "cell_type": "markdown",
   "metadata": {},
   "source": [
    "#### 변수의 생성과 저장\n",
    "- 가중치(weight)는 입력 신호가 결과 출력에 주는 영향도를 조절하는 매개변수이다.\n",
    "- 편향(bias)은 뉴런이 얼마나 쉽게 활성화 되느냐를 조정하는 매개변수이다.\n",
    "- 초깃값을 정의하는 방법이다.\n",
    "\n",
    "#### [가중치와 편향]"
   ]
  },
  {
   "cell_type": "code",
   "execution_count": 18,
   "metadata": {},
   "outputs": [
    {
     "name": "stdout",
     "output_type": "stream",
     "text": [
      "<tf.Variable 'w2:0' shape=(784, 200) dtype=float32, numpy=\n",
      "array([[ 0.3010855 ,  0.5885322 , -0.11374846, ..., -0.1132337 ,\n",
      "        -0.5059899 , -0.43973702],\n",
      "       [ 0.24493493, -0.47444108, -0.41197458, ..., -0.33499786,\n",
      "         0.67613184,  0.35025808],\n",
      "       [ 0.19173416, -0.6838034 ,  0.3454239 , ..., -0.08541971,\n",
      "        -0.74517167, -0.5262417 ],\n",
      "       ...,\n",
      "       [ 0.22734703, -0.00669315,  0.30887395, ...,  0.55505025,\n",
      "        -0.50484824, -0.56777257],\n",
      "       [ 0.19132277, -0.21142164, -0.05511063, ...,  0.20302041,\n",
      "        -0.41851455,  0.11096268],\n",
      "       [-0.39138094, -0.14800856,  0.11504425, ...,  0.0107987 ,\n",
      "        -0.34095648,  0.50695497]], dtype=float32)> <tf.Variable 'w_twice:0' shape=(784, 200) dtype=float32, numpy=\n",
      "array([[ 0.602171  ,  1.1770644 , -0.22749692, ..., -0.2264674 ,\n",
      "        -1.0119798 , -0.87947404],\n",
      "       [ 0.48986986, -0.94888216, -0.82394916, ..., -0.6699957 ,\n",
      "         1.3522637 ,  0.70051616],\n",
      "       [ 0.38346833, -1.3676068 ,  0.6908478 , ..., -0.17083941,\n",
      "        -1.4903433 , -1.0524834 ],\n",
      "       ...,\n",
      "       [ 0.45469406, -0.01338631,  0.6177479 , ...,  1.1101005 ,\n",
      "        -1.0096965 , -1.1355451 ],\n",
      "       [ 0.38264555, -0.42284328, -0.11022126, ...,  0.40604082,\n",
      "        -0.8370291 ,  0.22192536],\n",
      "       [-0.7827619 , -0.2960171 ,  0.2300885 , ...,  0.02159739,\n",
      "        -0.68191296,  1.0139099 ]], dtype=float32)> tf.Tensor(5.0, shape=(), dtype=float32) tf.Tensor(10.0, shape=(), dtype=float32) tf.Tensor(15.0, shape=(), dtype=float32)\n"
     ]
    }
   ],
   "source": [
    "import tensorflow as tf\n",
    "weights = tf.Variable(tf.random.normal([784, 200], stddev=0.35),name=\"weights\")\n",
    "biases = tf.Variable(tf.zeros([200]), name=\"biases\")\n",
    "\n",
    "w2 = tf.Variable(weights.initialized_value(), name=\"w2\")\n",
    "w_twice = tf.Variable(weights.initialized_value() * 2.0, name=\"w_twice\")\n",
    "temp1 = tf.constant(5.0)\n",
    "temp2 = tf.constant(10.0)\n",
    "temp3 = tf.add(temp1, temp2)\n",
    "print(w2, w_twice, temp1, temp2, temp3)"
   ]
  },
  {
   "cell_type": "markdown",
   "metadata": {},
   "source": [
    "#### 손실함수\n",
    "- 모델이 예측한 값과 관측값 사이의 불일치 정도를 확인하기 위한 ‘거리’이다.\n",
    "- 손실함수의 값을 최소화 하는 것이 모델의 최적화이다.\n",
    "- 회귀(regression), 분류(classification)의 두 종류로 나누어진 함수이다.\n",
    "\n",
    "<img src=https://user-images.githubusercontent.com/48711691/75419171-9c36b500-5978-11ea-84a5-82fa48d02ff0.JPG style=\"width:70%;\">"
   ]
  },
  {
   "cell_type": "markdown",
   "metadata": {},
   "source": [
    "#### MSE(평균제곱오차)\n",
    "- 모든 데이터 샘플에서 실제 관측값과 모델 예측값 사이의 차를 제곱한 값의 평균\n",
    "\n",
    "<div style=\"border : 1px solid #f2f2f2; padding : 5px; text-align : center;\">\n",
    "<figure>\n",
    "    <img src=https://user-images.githubusercontent.com/31681740/70409163-25cb9a80-1a8e-11ea-87a0-70e4f378849c.PNG alt=\"어데갔노\" style=\"width:40%;\"/>\n",
    "    <figcaption>&#60;그림3&#62;MSE의 계산법</figcaption>\n",
    "</figure></div>\n",
    "\n",
    "#### [MSE]"
   ]
  },
  {
   "cell_type": "code",
   "execution_count": 8,
   "metadata": {},
   "outputs": [
    {
     "name": "stdout",
     "output_type": "stream",
     "text": [
      "tf.Tensor(25, shape=(), dtype=int32)\n"
     ]
    }
   ],
   "source": [
    "import tensorflow as tf\n",
    "#MSE\n",
    "pred, res = 5, 10\n",
    "loss = tf.reduce_mean(tf.square(pred - res))\n",
    "print(loss)"
   ]
  },
  {
   "cell_type": "markdown",
   "metadata": {},
   "source": [
    "#### MAE(평균절대오차)\n",
    "- 평균절대오차란 모든 데이터 샘플에서 실제 관측 값과 모델 예측 값 사이의 차를 제곱한 값의 평균이다.\n",
    "<div style=\"border : 1px solid #f2f2f2; padding : 5px; text-align : center;\">\n",
    "\n",
    "    <img src=https://user-images.githubusercontent.com/31681740/70409457-2dd80a00-1a8f-11ea-9320-c78895b3a904.PNG alt=\"어데갔노\" style=\"width:40%;\"/>\n",
    "\n",
    "</div>\n",
    "\n",
    "#### [MAE]"
   ]
  },
  {
   "cell_type": "code",
   "execution_count": 11,
   "metadata": {},
   "outputs": [
    {
     "name": "stdout",
     "output_type": "stream",
     "text": [
      "tf.Tensor(5, shape=(), dtype=int32)\n"
     ]
    }
   ],
   "source": [
    "import tensorflow as tf\n",
    "#MAE\n",
    "pred, res = 5, 10\n",
    "loss = tf.reduce_mean(tf.abs(pred - res))\n",
    "print(loss)"
   ]
  },
  {
   "cell_type": "markdown",
   "metadata": {},
   "source": [
    "#### 교차 엔트로피\n",
    "- 교차 엔트로피 오차란 두 개의 확률분포에 대해 하나의 사건이 갖는 정보량이다.\n",
    "- label이 원핫 인코딩(One_hot encoding)일 때만 사용할 수 있다.\n",
    "- 두 개의 확률분포에 대해 하나의 사건이 갖는 정보량\n",
    "\n",
    "<img src=https://user-images.githubusercontent.com/48711691/75419279-d6a05200-5978-11ea-883f-716ecaa68b8d.JPG style=\"width:40%;\">\n",
    "\n",
    "#### [CEE]"
   ]
  },
  {
   "cell_type": "code",
   "execution_count": 2,
   "metadata": {},
   "outputs": [
    {
     "ename": "ModuleNotFoundError",
     "evalue": "No module named 'tensorflow'",
     "output_type": "error",
     "traceback": [
      "\u001b[1;31m---------------------------------------------------------------------------\u001b[0m",
      "\u001b[1;31mModuleNotFoundError\u001b[0m                       Traceback (most recent call last)",
      "\u001b[1;32m<ipython-input-2-12d0eb6f56bd>\u001b[0m in \u001b[0;36m<module>\u001b[1;34m\u001b[0m\n\u001b[1;32m----> 1\u001b[1;33m \u001b[1;32mimport\u001b[0m \u001b[0mtensorflow\u001b[0m \u001b[1;32mas\u001b[0m \u001b[0mtf\u001b[0m\u001b[1;33m\u001b[0m\u001b[1;33m\u001b[0m\u001b[0m\n\u001b[0m\u001b[0;32m      2\u001b[0m \u001b[0mtf\u001b[0m\u001b[1;33m.\u001b[0m\u001b[0mnn\u001b[0m\u001b[1;33m.\u001b[0m\u001b[0msoftmax_cross_entropy_with_logits\u001b[0m\u001b[1;33m\u001b[0m\u001b[1;33m\u001b[0m\u001b[0m\n",
      "\u001b[1;31mModuleNotFoundError\u001b[0m: No module named 'tensorflow'"
     ]
    }
   ],
   "source": [
    "import tensorflow as tf\n",
    "tf.nn.softmax_cross_entropy_with_logits"
   ]
  },
  {
   "cell_type": "markdown",
   "metadata": {},
   "source": [
    "#### 원핫 인코딩(One_hot encoding)\n",
    "- 여러 개의 데이터로 이루어진 리스트 중 원하는 데이터를 가져오기 위해, 해당 데이터가 있는 위치만을 1로 표시하고 다른 위치는 모두 0을 표시하는 인코딩 방법이다.\n",
    "\n",
    "#### [one_hot encoding]"
   ]
  },
  {
   "cell_type": "code",
   "execution_count": 3,
   "metadata": {},
   "outputs": [],
   "source": [
    "list = ['a', 'b', 'c']\n",
    "one_hot = [0, 1, 0]"
   ]
  },
  {
   "cell_type": "markdown",
   "metadata": {},
   "source": [
    "- 위의 원핫 인코딩 예제에서 one_hot의 원핫 벡터는 b를 나타낸다."
   ]
  },
  {
   "cell_type": "markdown",
   "metadata": {},
   "source": [
    "#### 비용함수와 옵티마이저\n",
    "- 비용함수란 학습 데이터가 주어졌을 때 weight와 bias의 값을 조정하여 가장 적합한 출력이 나오도록 하는 함수이다.\n",
    "- 예측값 h(x), 실제값 y라고 했을 때 {h(x) - y}^2이 최소가 되는 것을 구한다.\n",
    "- 옵티마이저란 데이터와 손실함수를 바탕으로 모델의 업데이트 방법을 결정하는 것이다.\n",
    "\n",
    "#### [Optimizer]"
   ]
  },
  {
   "cell_type": "code",
   "execution_count": 4,
   "metadata": {},
   "outputs": [
    {
     "ename": "NameError",
     "evalue": "name 'model' is not defined",
     "output_type": "error",
     "traceback": [
      "\u001b[1;31m---------------------------------------------------------------------------\u001b[0m",
      "\u001b[1;31mNameError\u001b[0m                                 Traceback (most recent call last)",
      "\u001b[1;32m<ipython-input-4-19dc0aecfb78>\u001b[0m in \u001b[0;36m<module>\u001b[1;34m\u001b[0m\n\u001b[1;32m----> 1\u001b[1;33m \u001b[0mmodel\u001b[0m\u001b[1;33m.\u001b[0m\u001b[0mcompile\u001b[0m\u001b[1;33m(\u001b[0m\u001b[0moptimizer\u001b[0m\u001b[1;33m=\u001b[0m\u001b[1;34m'adam'\u001b[0m\u001b[1;33m,\u001b[0m\u001b[0mloss\u001b[0m\u001b[1;33m=\u001b[0m\u001b[1;34m'sparse_categorical_crossentropy'\u001b[0m\u001b[1;33m,\u001b[0m\u001b[0mmetrics\u001b[0m\u001b[1;33m=\u001b[0m\u001b[1;33m[\u001b[0m\u001b[1;34m'accuracy'\u001b[0m\u001b[1;33m]\u001b[0m\u001b[1;33m)\u001b[0m\u001b[1;33m\u001b[0m\u001b[1;33m\u001b[0m\u001b[0m\n\u001b[0m",
      "\u001b[1;31mNameError\u001b[0m: name 'model' is not defined"
     ]
    }
   ],
   "source": [
    "model.compile(optimizer='adam',loss='sparse_categorical_crossentropy',metrics=['accuracy'])"
   ]
  },
  {
   "cell_type": "markdown",
   "metadata": {},
   "source": [
    "#### 선형회귀 분석\n",
    "- 주어진 데이터들을 가장 잘 설명할 수 있는 하나의 직선을 찾는 데이터 분석법이다.\n",
    "- 앞서 제시했던 여러가지 오차 함수들이 최소가 되는 방향으로 직선을 찾아가는 가장 기초적인 데이터 분석 방법이다.\n",
    "- Tensorflow 2.0을 활용하여 선형회귀 모델을 구현한다.\n",
    "\n",
    "<img src=https://user-images.githubusercontent.com/48711691/75419576-7cec5780-5979-11ea-9ed5-25a6c4ad9e36.JPG style=\"width:70%;\">\n",
    "\n",
    "#### [Linear regression(1)]"
   ]
  },
  {
   "cell_type": "code",
   "execution_count": 5,
   "metadata": {},
   "outputs": [
    {
     "name": "stdout",
     "output_type": "stream",
     "text": [
      "17\n"
     ]
    }
   ],
   "source": [
    "from __future__ import absolute_import, division, print_function\n",
    "# tensorflow, numpy 라이브러리 임포트\n",
    "import tensorflow as tf\n",
    "import numpy as np\n",
    "rng = np.random          # 난수 생성을 위한 변수\n",
    "# 학습 파라미터 설정\n",
    "learning_rate = 0.01     # 학습률\n",
    "training_steps = 1000    # train될 총 스텝\n",
    "display_step = 50        # 학습과정에서 보여질 스텝\n",
    "# Training 데이터 생성 (numpy 배열)\n",
    "X = np.array([3.3,4.4,5.5,6.71,6.93,4.168,9.779,6.182,7.59,2.167,\n",
    "              7.042,10.791,5.313,7.997,5.654,9.27,3.1])\n",
    "Y = np.array([1.7,2.76,2.09,3.19,1.694,1.573,3.366,2.596,2.53,1.221,\n",
    "              2.827,3.465,1.65,2.904,2.42,2.94,1.3])\n",
    "n_samples = X.shape[0]   # shape 함수로 array 차원 확인\n",
    "print(n_samples)"
   ]
  },
  {
   "cell_type": "code",
   "execution_count": 6,
   "metadata": {},
   "outputs": [],
   "source": [
    "# 처음 학습에 사용될 Weight와 Bias 값을 랜덤하게 생성\n",
    "\n",
    "W = tf.Variable(rng.randn(), name=\"weight\")   #  tf.Variable: 텐서플로우 변수 생성\n",
    "b = tf.Variable(rng.randn(), name=\"bias\")        # rng.randn: 임의의 숫자(난수) 생성\n",
    "\n",
    "# Linear regression (Wx + b) 수식 정의\n",
    "def linear_regression(x):\n",
    "    return W * x + b\n",
    "\n",
    "# 손실함수인 Mean Square Error (MSE;평균 제곱 오차) 수식 정의\n",
    "def mean_square(y_pred, y_true):\n",
    "    return tf.reduce_sum(tf.pow(y_pred-y_true, 2)) / (2 * n_samples)\n",
    "\n",
    "# Stochastic Gradient Descent (SGD;확률적경사하강법) 알고리즘\n",
    "optimizer = tf.optimizers.SGD(learning_rate)"
   ]
  },
  {
   "cell_type": "code",
   "execution_count": 7,
   "metadata": {},
   "outputs": [],
   "source": [
    "# 학습 알고리즘 최적화 과정 정의\n",
    "\n",
    "def run_optimization():\n",
    "    \n",
    "\n",
    "    # 텐서플로우는 자동 미분(주어진 입력 변수에 대한 연산의 gradient를 계산하는 것)을 위한 tf.GradientTape 함수 사용\n",
    "\n",
    "    with tf.GradientTape() as g:\n",
    "        pred = linear_regression(X)\n",
    "        loss = mean_square(pred, Y)\n",
    "\n",
    "    # gradients 계산\n",
    "    gradients = g.gradient(loss, [W, b])\n",
    "    \n",
    "    # gradients에 따라 Weight(W)와 bias(b) 업데이트\n",
    "    optimizer.apply_gradients(zip(gradients, [W, b]))"
   ]
  },
  {
   "cell_type": "code",
   "execution_count": 8,
   "metadata": {},
   "outputs": [
    {
     "name": "stdout",
     "output_type": "stream",
     "text": [
      "step: 50, loss: 0.205906, W: 0.455244, b: -0.644694\n",
      "step: 100, loss: 0.191155, W: 0.443247, b: -0.559642\n",
      "step: 150, loss: 0.178091, W: 0.431957, b: -0.479601\n",
      "step: 200, loss: 0.166521, W: 0.421332, b: -0.404276\n",
      "step: 250, loss: 0.156274, W: 0.411333, b: -0.333389\n",
      "step: 300, loss: 0.147200, W: 0.401924, b: -0.266679\n",
      "step: 350, loss: 0.139163, W: 0.393069, b: -0.203900\n",
      "step: 400, loss: 0.132045, W: 0.384735, b: -0.144820\n",
      "step: 450, loss: 0.125741, W: 0.376893, b: -0.089221\n",
      "step: 500, loss: 0.120159, W: 0.369512, b: -0.036897\n",
      "step: 550, loss: 0.115214, W: 0.362567, b: 0.012343\n",
      "step: 600, loss: 0.110836, W: 0.356031, b: 0.058682\n",
      "step: 650, loss: 0.106958, W: 0.349880, b: 0.102291\n",
      "step: 700, loss: 0.103523, W: 0.344091, b: 0.143330\n",
      "step: 750, loss: 0.100482, W: 0.338643, b: 0.181951\n",
      "step: 800, loss: 0.097788, W: 0.333517, b: 0.218296\n",
      "step: 850, loss: 0.095402, W: 0.328692, b: 0.252500\n",
      "step: 900, loss: 0.093289, W: 0.324152, b: 0.284689\n",
      "step: 950, loss: 0.091418, W: 0.319879, b: 0.314981\n",
      "step: 1000, loss: 0.089761, W: 0.315858, b: 0.343488\n"
     ]
    }
   ],
   "source": [
    "# 주어진 스텝에 맞춰 training 시작\n",
    "\n",
    "for step in range(1, training_steps + 1):\n",
    "    \n",
    "\n",
    "    # Weight(W)와 bias(b) 업데이트를 위해 사전 정의된 최적화 과정 실행\n",
    "    run_optimization()\n",
    "    \n",
    "\n",
    "    # display_step(50, 100, 150...)에서 적용 중인 파라미터값 출력\n",
    "    if step % display_step == 0:\n",
    "        pred = linear_regression(X)\n",
    "        loss = mean_square(pred, Y)\n",
    "        print(\"step: %i, loss: %f, W: %f, b: %f\" % (step, loss, W.numpy(), b.numpy()))"
   ]
  },
  {
   "cell_type": "code",
   "execution_count": 9,
   "metadata": {},
   "outputs": [
    {
     "data": {
      "image/png": "[encoded data removed]",
      "text/plain": [
       "<Figure size 432x288 with 1 Axes>"
      ]
     },
     "metadata": {
      "needs_background": "light"
     },
     "output_type": "display_data"
    }
   ],
   "source": [
    "import matplotlib.pyplot as plt   # matplotlib: 차트(chart)나 플롯(plot)으로 데이터를 시각화하는 라이브러리\n",
    "\n",
    "plt.plot(X, Y, 'ro', label='Original data')\n",
    "plt.plot(X, np.array(W * X + b), label='Fitted line')\n",
    "plt.legend()\n",
    "\n",
    "plt.show()    "
   ]
  }
 ],
 "metadata": {
  "kernelspec": {
   "display_name": "Python 3",
   "language": "python",
   "name": "python3"
  },
  "language_info": {
   "codemirror_mode": {
    "name": "ipython",
    "version": 3
   },
   "file_extension": ".py",
   "mimetype": "text/x-python",
   "name": "python",
   "nbconvert_exporter": "python",
   "pygments_lexer": "ipython3",
   "version": "3.7.4"
  }
 },
 "nbformat": 4,
 "nbformat_minor": 2
}
