{
 "cells": [
  {
   "cell_type": "markdown",
   "metadata": {
    "slideshow": {
     "slide_type": "slide"
    }
   },
   "source": [
    "# 2. Python의 기초\n",
    "\n",
    "### 2.1 변수\n",
    "\n",
    "#### 변수의 정의\n",
    "- 사용자가 정의한 값 혹은 객체가 담겨 있는 공간을 변수라고 한다.\n",
    "\n",
    "#### 변수의 선언\n",
    "- 변수의 이름을 지정하여 변수를 생성하는 행위를‘선언한다’라고 한다.\n",
    "- 변수가 선언되면 사용자가 정의한 값 혹은 객체가 공간(메모리)에 저장된다.\n",
    "\n",
    "#### 변수의 초기화\n",
    "<div style = \"border : 1px solid green; padding : 5px; width = 50px;\">var = value<br>\n",
    "    \n",
    "<div style = \"color : gray;\">var : 변수 명 <br>\n",
    "value : 숫자, 문자, 문자열</div></div>\n",
    "\n",
    "- 생성된 변수에 처음으로 값을 부여하는 행위를 ‘초기화한다’라고 한다.\n",
    "- 원하는 변수명에 초깃값 혹은 객체를 저장한다.\n",
    "\n",
    "#### [변수의 선언 및 초기화]"
   ]
  },
  {
   "cell_type": "code",
   "execution_count": 2,
   "metadata": {},
   "outputs": [
    {
     "name": "stdout",
     "output_type": "stream",
     "text": [
      "myVar =  3.5\n",
      "myNum =  10\n"
     ]
    }
   ],
   "source": [
    "myVar = 3.5\n",
    "myNum = 10\n",
    "print(\"myVar = \" , myVar)\n",
    "print(\"myNum = \", myNum)"
   ]
  },
  {
   "cell_type": "markdown",
   "metadata": {},
   "source": [
    "#### 여러 변수의 동시 선언\n",
    "\n",
    "- Python에서는 한 문장에 여러 변수를 동시에 선언할 수 있다. 그에 대한 방법은 다음과 같다.\n",
    "\n",
    "<div style = \"border : 1px solid green; padding : 5px; width = 50px;\">#var1, var2=(value1, value2)<br>\n",
    "#(var1, var2)=value1, value2<br>\n",
    "#[var1, var2]=[value1, value2]<br>\n",
    "#var1 = var2 = value1<br>\n",
    "    \n",
    "<div style = \"color : gray;\">var : 변수 명 <br>\n",
    "value : 숫자, 문자, 문자열</div></div>\n",
    "\n",
    "#### [여러 변수의 동시 선언]"
   ]
  },
  {
   "cell_type": "code",
   "execution_count": 3,
   "metadata": {},
   "outputs": [
    {
     "name": "stdout",
     "output_type": "stream",
     "text": [
      "3 5\n"
     ]
    }
   ],
   "source": [
    "a, b = (3, 5)\n",
    "print(a, b)"
   ]
  },
  {
   "cell_type": "code",
   "execution_count": 5,
   "metadata": {},
   "outputs": [
    {
     "name": "stdout",
     "output_type": "stream",
     "text": [
      "12 4\n"
     ]
    }
   ],
   "source": [
    "[a, b] = [12, 4]\n",
    "print(a, b)"
   ]
  },
  {
   "cell_type": "code",
   "execution_count": 6,
   "metadata": {},
   "outputs": [
    {
     "name": "stdout",
     "output_type": "stream",
     "text": [
      "5 5\n"
     ]
    }
   ],
   "source": [
    "a = b = 5\n",
    "print(a, b)"
   ]
  },
  {
   "cell_type": "markdown",
   "metadata": {},
   "source": [
    "#### 변수 선언의 주의 사항\n",
    "\n",
    "- 예약어를 변수 이름으로 지정할 수 없다.\n",
    "- 변수의 언더바(_)를 제외한 특수문자 혹은 숫자로 시작할 수 없다.\n",
    "- 예: if = 4 (x)<br>!@res@! = 15 (x)<br>   123Num = 1 (x)<br>   myAdd = 20 (o)<br>   myVar = 10 (o)<br>"
   ]
  },
  {
   "cell_type": "markdown",
   "metadata": {},
   "source": [
    "#### 예약어(Keyword)\n",
    "- 프로그래밍 언어에서 미리 지정하여 문법적인 용도로 사용되고 있는 단어를 예약어 혹은 지정어라고 한다.\n",
    "- Python의 경우 35개의 예약어가 존재한다.\n",
    "\n",
    "<img src=https://user-images.githubusercontent.com/48711691/75320294-bf4a6180-58b1-11ea-83ae-8946d898165a.JPG style=\"width:90%;\">\n"
   ]
  },
  {
   "cell_type": "markdown",
   "metadata": {
    "slideshow": {
     "slide_type": "slide"
    }
   },
   "source": [
    "<br>\n",
    "\n",
    "### 2.2 자료형\n",
    "#### 자료형의 정의\n",
    "\n",
    "- 프로그래밍에서 사용되는 변수, 객체 혹은 자료의 형태를 나타낸다.\n",
    "- Python에는 크게 숫자형, 부울형, 군집형의 3가지 형태의 자료형이 존재한다.\n",
    "- Python에서는 변수를 선언할 때에 자료형을 표현하지 않고 선언하기 때문에 type() 함수를 이용하여 해당 변수의 자료형을 알 수 있다."
   ]
  },
  {
   "cell_type": "markdown",
   "metadata": {},
   "source": [
    "<div style = \"border : 1px solid green; padding : 5px; width = 50px;\">#type(var)\n",
    "<br>\n",
    "    \n",
    "<div style = \"color : gray;\">\n",
    "var: 자료형을 확인하고자 하는 변수의 이름\n",
    "</div></div>\n",
    "\n",
    "#### [type()의 사용]"
   ]
  },
  {
   "cell_type": "code",
   "execution_count": 8,
   "metadata": {
    "slideshow": {
     "slide_type": "subslide"
    }
   },
   "outputs": [
    {
     "name": "stdout",
     "output_type": "stream",
     "text": [
      "<class 'str'>\n",
      "<class 'int'>\n",
      "<class 'float'>\n"
     ]
    }
   ],
   "source": [
    "#자료형별 반환 값 확인\n",
    "\n",
    "myStr = \"String data type\"\n",
    "print(type(myStr))\n",
    "myInt = 5\n",
    "print(type(myInt))\n",
    "myFloat = 3.5\n",
    "print(type(myFloat))"
   ]
  },
  {
   "cell_type": "code",
   "execution_count": 9,
   "metadata": {
    "slideshow": {
     "slide_type": "subslide"
    }
   },
   "outputs": [
    {
     "name": "stdout",
     "output_type": "stream",
     "text": [
      "<class 'int'>\n"
     ]
    }
   ],
   "source": [
    "# int type 추론\n",
    "myNum = 5\n",
    "print(type(myNum))"
   ]
  },
  {
   "cell_type": "code",
   "execution_count": 10,
   "metadata": {
    "slideshow": {
     "slide_type": "subslide"
    }
   },
   "outputs": [
    {
     "name": "stdout",
     "output_type": "stream",
     "text": [
      "<class 'float'>\n"
     ]
    }
   ],
   "source": [
    "# float type 추론\n",
    "myFloat = 3.5\n",
    "print(type(myFloat))"
   ]
  },
  {
   "cell_type": "markdown",
   "metadata": {
    "slideshow": {
     "slide_type": "slide"
    }
   },
   "source": [
    "### 2.3 자료형의 종류\n",
    "- Python에는 숫자형, 부울형, 군집형 자료형이 존재하지만 군집형 자료형은 \n",
    "조금 더 뒤에 서술하기로 하고 이번 단원에서는 숫자형, 부울형 자료형을 우선해서 설명한다.\n",
    "\n",
    "#### 숫자형\n",
    "- 데이터가 정수인지 실수인지 혹은 복소수인지에 따라 int, float, complex형으로 나뉘어진다.\n",
    "- int, float, complex\n",
    "- 0o를 사용하여 8진수를, 0x를 사용하여 16진수를 표현할 수 있고 0b를 사용하여 2진수를 나타낼 수 있음\n",
    "- 16진수에서 10 = a, 11 = b, ... 15 = f로 표기함\n",
    "\n",
    "#### [숫자형 자료형]"
   ]
  },
  {
   "cell_type": "code",
   "execution_count": 9,
   "metadata": {
    "slideshow": {
     "slide_type": "subslide"
    }
   },
   "outputs": [
    {
     "name": "stdout",
     "output_type": "stream",
     "text": [
      "5\n"
     ]
    }
   ],
   "source": [
    "# 정수형\n",
    "myInt = 5\n",
    "print(myInt)"
   ]
  },
  {
   "cell_type": "code",
   "execution_count": 10,
   "metadata": {
    "slideshow": {
     "slide_type": "subslide"
    }
   },
   "outputs": [
    {
     "name": "stdout",
     "output_type": "stream",
     "text": [
      "3.5\n"
     ]
    }
   ],
   "source": [
    "# 실수형\n",
    "myFloat = 3.5\n",
    "print(myFloat)"
   ]
  },
  {
   "cell_type": "code",
   "execution_count": 11,
   "metadata": {
    "slideshow": {
     "slide_type": "subslide"
    }
   },
   "outputs": [
    {
     "name": "stdout",
     "output_type": "stream",
     "text": [
      "(3+4j)\n"
     ]
    }
   ],
   "source": [
    "# 복소수형\n",
    "myComplex = 3 + 4j\n",
    "print(myComplex)"
   ]
  },
  {
   "cell_type": "code",
   "execution_count": 12,
   "metadata": {
    "slideshow": {
     "slide_type": "subslide"
    }
   },
   "outputs": [
    {
     "name": "stdout",
     "output_type": "stream",
     "text": [
      "5\n"
     ]
    }
   ],
   "source": [
    "# 2진수\n",
    "myBin = 0b101\n",
    "print(myBin)"
   ]
  },
  {
   "cell_type": "code",
   "execution_count": 13,
   "metadata": {
    "slideshow": {
     "slide_type": "subslide"
    }
   },
   "outputs": [
    {
     "name": "stdout",
     "output_type": "stream",
     "text": [
      "107\n"
     ]
    }
   ],
   "source": [
    "# 8진수\n",
    "myOct = 0o153\n",
    "print(myOct)"
   ]
  },
  {
   "cell_type": "code",
   "execution_count": 14,
   "metadata": {
    "slideshow": {
     "slide_type": "subslide"
    }
   },
   "outputs": [
    {
     "name": "stdout",
     "output_type": "stream",
     "text": [
      "76486\n"
     ]
    }
   ],
   "source": [
    "# 16진수\n",
    "myHex = 0x12ac6\n",
    "print(myHex)"
   ]
  },
  {
   "cell_type": "markdown",
   "metadata": {
    "slideshow": {
     "slide_type": "subslide"
    }
   },
   "source": [
    "#### 부울형\n",
    "- 참과 거짓을 나타내는 자료형으로 True 혹은 False의 두 가지 값만을 가질 수 있다.\n",
    "- 아래 표의 값들을 제외하고 다른 값들은 모두 True로 취급 됨<br>\n",
    "<img src=https://user-images.githubusercontent.com/48711691/75320917-13097a80-58b3-11ea-9a22-fc37ef1c2e33.JPG style=\"width:90%;\">\n",
    "\n"
   ]
  },
  {
   "cell_type": "code",
   "execution_count": 15,
   "metadata": {
    "scrolled": true,
    "slideshow": {
     "slide_type": "subslide"
    }
   },
   "outputs": [
    {
     "name": "stdout",
     "output_type": "stream",
     "text": [
      "False\n",
      "True\n"
     ]
    }
   ],
   "source": [
    "# 정수형\n",
    "myInt1 = 0\n",
    "print(bool(myInt1))\n",
    "myInt2 = 1\n",
    "print(bool(myInt2))"
   ]
  },
  {
   "cell_type": "code",
   "execution_count": 16,
   "metadata": {
    "slideshow": {
     "slide_type": "subslide"
    }
   },
   "outputs": [
    {
     "name": "stdout",
     "output_type": "stream",
     "text": [
      "False\n",
      "True\n"
     ]
    }
   ],
   "source": [
    "# 실수형\n",
    "myFloat1 = 0.0\n",
    "print(bool(myFloat1))\n",
    "myFloat2 = 3.2\n",
    "print(bool(myFloat2))"
   ]
  },
  {
   "cell_type": "code",
   "execution_count": 17,
   "metadata": {
    "slideshow": {
     "slide_type": "subslide"
    }
   },
   "outputs": [
    {
     "name": "stdout",
     "output_type": "stream",
     "text": [
      "False\n",
      "True\n"
     ]
    }
   ],
   "source": [
    "# 복소수형\n",
    "myComplex1 = 0j\n",
    "print(bool(myComplex1))\n",
    "myComplex2 = 1 + 0j\n",
    "print(bool(myComplex2))"
   ]
  },
  {
   "cell_type": "code",
   "execution_count": 18,
   "metadata": {
    "slideshow": {
     "slide_type": "subslide"
    }
   },
   "outputs": [
    {
     "name": "stdout",
     "output_type": "stream",
     "text": [
      "False\n",
      "True\n"
     ]
    }
   ],
   "source": [
    "# 부울형\n",
    "myBool1 = False \n",
    "print(bool(myBool1))\n",
    "myBool2 = True\n",
    "print(bool(myBool2))"
   ]
  },
  {
   "cell_type": "code",
   "execution_count": 19,
   "metadata": {
    "slideshow": {
     "slide_type": "subslide"
    }
   },
   "outputs": [
    {
     "name": "stdout",
     "output_type": "stream",
     "text": [
      "False\n",
      "True\n"
     ]
    }
   ],
   "source": [
    "# 문자열\n",
    "myStr1 = \"\"\n",
    "print(bool(myStr1))\n",
    "myStr2 = \"Sample\"\n",
    "print(bool(myStr2))"
   ]
  },
  {
   "cell_type": "code",
   "execution_count": 20,
   "metadata": {
    "slideshow": {
     "slide_type": "subslide"
    }
   },
   "outputs": [
    {
     "name": "stdout",
     "output_type": "stream",
     "text": [
      "False\n",
      "True\n"
     ]
    }
   ],
   "source": [
    "# 튜플\n",
    "myTup1 = ()\n",
    "print(bool(myTup1))\n",
    "myTup2 = (1, 2, 3)\n",
    "print(bool(myTup2))"
   ]
  },
  {
   "cell_type": "code",
   "execution_count": 21,
   "metadata": {
    "slideshow": {
     "slide_type": "subslide"
    }
   },
   "outputs": [
    {
     "name": "stdout",
     "output_type": "stream",
     "text": [
      "False\n",
      "True\n"
     ]
    }
   ],
   "source": [
    "# 리스트\n",
    "myList1 = []\n",
    "print(bool(myList1))\n",
    "myList2 = [1, 3 , 5]\n",
    "print(bool(myList2))"
   ]
  },
  {
   "cell_type": "code",
   "execution_count": 22,
   "metadata": {
    "slideshow": {
     "slide_type": "subslide"
    }
   },
   "outputs": [
    {
     "name": "stdout",
     "output_type": "stream",
     "text": [
      "False\n",
      "True\n"
     ]
    }
   ],
   "source": [
    "# 집합\n",
    "mySet1 = set()\n",
    "print(bool(mySet1))\n",
    "mySet2 = set([1,2])\n",
    "print(bool(mySet2))"
   ]
  },
  {
   "cell_type": "code",
   "execution_count": 23,
   "metadata": {
    "slideshow": {
     "slide_type": "subslide"
    }
   },
   "outputs": [
    {
     "name": "stdout",
     "output_type": "stream",
     "text": [
      "False\n",
      "True\n"
     ]
    }
   ],
   "source": [
    "# 딕셔너리\n",
    "myDic1 = {}\n",
    "print(bool(myDic1))\n",
    "myDic2 = {\"a\" : 0, \"b\" : 1}\n",
    "print(bool(myDic2))"
   ]
  },
  {
   "cell_type": "markdown",
   "metadata": {
    "slideshow": {
     "slide_type": "subslide"
    }
   },
   "source": [
    "#### 군집형 자료형\n",
    "- 여러 종류의 데이터를 저장할 수 있는 자료형을 뜻한다.\n",
    "- 문자열(str), 리스트(list), 튜플(tuple), 딕셔너리(dict), 집합(set)의 5가지가 존재한다."
   ]
  },
  {
   "cell_type": "markdown",
   "metadata": {
    "slideshow": {
     "slide_type": "slide"
    }
   },
   "source": [
    "### 2.4 자료형의 변환\n",
    "#### 형변환의 개념\n",
    "- 선언된 변수의 자료형이 아닌 다른 자료형으로 변경하는 것을 뜻한다.\n",
    "- 자료형의 이름을 사용하여 형변환이 가능하다.\n",
    "- 자료형 뿐만 아니라 8진수, 2진수 등으로의 변환도 가능\n",
    "\n",
    "<div style = \"border : 1px solid green; padding : 5px; width = 50px;\">dataType(var)<br>\n",
    "    \n",
    "<div style = \"color : gray;\">dataType: 바꿀 자료형 이름<br>\n",
    "var: 바뀌어질 변수 이름</div></div>\n",
    "\n",
    "#### [형변환]"
   ]
  },
  {
   "cell_type": "code",
   "execution_count": 24,
   "metadata": {
    "slideshow": {
     "slide_type": "subslide"
    }
   },
   "outputs": [
    {
     "name": "stdout",
     "output_type": "stream",
     "text": [
      "3.0\n"
     ]
    }
   ],
   "source": [
    "# int to float\n",
    "print(float(3))"
   ]
  },
  {
   "cell_type": "code",
   "execution_count": 25,
   "metadata": {
    "slideshow": {
     "slide_type": "subslide"
    }
   },
   "outputs": [
    {
     "name": "stdout",
     "output_type": "stream",
     "text": [
      "4\n"
     ]
    }
   ],
   "source": [
    "# float to int\n",
    "print(int(4.6))"
   ]
  },
  {
   "cell_type": "markdown",
   "metadata": {},
   "source": [
    "- 정수형 변수를 2진수, 8진수, 10진수 등으로 변화가 가능하다.\n"
   ]
  },
  {
   "cell_type": "code",
   "execution_count": 26,
   "metadata": {
    "slideshow": {
     "slide_type": "subslide"
    }
   },
   "outputs": [
    {
     "name": "stdout",
     "output_type": "stream",
     "text": [
      "0o12\n"
     ]
    }
   ],
   "source": [
    "# Decimal to Octal\n",
    "print(oct(10))"
   ]
  },
  {
   "cell_type": "markdown",
   "metadata": {
    "slideshow": {
     "slide_type": "slide"
    }
   },
   "source": [
    "### 2.5 연산자\n",
    "\n",
    "#### 연산자의 종류\n",
    "\n",
    "- 산술 연산자(Arithmetic Operators)\n",
    "- 비교 연산자(Comparison Operators)\n",
    "- 할당 연산자(Assignment Operators)\n",
    "- 논리 연산자(Logical Operators)\n",
    "- 비트 연산자(Bitwise Operators)\n",
    "- 구성원 연산자(Membership Operators)\n",
    "- 식별 연산자(Identity Operators)"
   ]
  },
  {
   "cell_type": "markdown",
   "metadata": {
    "slideshow": {
     "slide_type": "subslide"
    }
   },
   "source": [
    "#### 산술 연산자(Arithmetic Operators)\n",
    "- 사칙연산에 사용되는 연산자들을 산술 연산자라고 한다.\n",
    "- 나눗셈을 할 때에 수학에서와 마찬가지로 분모가 0이 될 수 없다.\n",
    "- 아래의 표는 산술 연산자의 종류를 나타낸다.\n",
    "\n",
    "<img src=https://user-images.githubusercontent.com/48711691/75321242-af338180-58b3-11ea-9ce3-69a77ef94f62.JPG style=\"width:80%;\">\n",
    "\n",
    "#### [사칙연산]"
   ]
  },
  {
   "cell_type": "code",
   "execution_count": 11,
   "metadata": {
    "slideshow": {
     "slide_type": "subslide"
    }
   },
   "outputs": [
    {
     "name": "stdout",
     "output_type": "stream",
     "text": [
      "105\n",
      "20.0 <class 'float'>\n",
      "0\n"
     ]
    }
   ],
   "source": [
    "a, b = (100, 5)\n",
    "print(a + b)\n",
    "print(a / b, type(a/b))\n",
    "print(a % b)"
   ]
  },
  {
   "cell_type": "code",
   "execution_count": 2,
   "metadata": {
    "scrolled": true,
    "slideshow": {
     "slide_type": "subslide"
    }
   },
   "outputs": [
    {
     "ename": "ZeroDivisionError",
     "evalue": "division by zero",
     "output_type": "error",
     "traceback": [
      "\u001b[1;31m---------------------------------------------------------------------------\u001b[0m",
      "\u001b[1;31mZeroDivisionError\u001b[0m                         Traceback (most recent call last)",
      "\u001b[1;32m<ipython-input-2-9deea4a6b895>\u001b[0m in \u001b[0;36m<module>\u001b[1;34m\u001b[0m\n\u001b[0;32m      1\u001b[0m \u001b[1;31m# 0으로 나눈 경우\u001b[0m\u001b[1;33m\u001b[0m\u001b[1;33m\u001b[0m\u001b[1;33m\u001b[0m\u001b[0m\n\u001b[0;32m      2\u001b[0m \u001b[0mc\u001b[0m\u001b[1;33m,\u001b[0m \u001b[0md\u001b[0m \u001b[1;33m=\u001b[0m \u001b[1;33m(\u001b[0m\u001b[1;36m10\u001b[0m\u001b[1;33m,\u001b[0m\u001b[1;36m0\u001b[0m\u001b[1;33m)\u001b[0m\u001b[1;33m\u001b[0m\u001b[1;33m\u001b[0m\u001b[0m\n\u001b[1;32m----> 3\u001b[1;33m \u001b[0mprint\u001b[0m\u001b[1;33m(\u001b[0m\u001b[0mc\u001b[0m \u001b[1;33m/\u001b[0m \u001b[0md\u001b[0m\u001b[1;33m)\u001b[0m\u001b[1;33m\u001b[0m\u001b[1;33m\u001b[0m\u001b[0m\n\u001b[0m",
      "\u001b[1;31mZeroDivisionError\u001b[0m: division by zero"
     ]
    }
   ],
   "source": [
    "# 0으로 나눈 경우\n",
    "c, d = (10,0)\n",
    "print(c / d)"
   ]
  },
  {
   "cell_type": "markdown",
   "metadata": {
    "slideshow": {
     "slide_type": "subslide"
    }
   },
   "source": [
    "#### 비교 연산자(Comparison Operators)\n",
    "- 변수간의 크기 비교를 위한 연산자이다.\n",
    "- 결과값에 따라 True, 아니라면 False의 부울형으로 반환한다.\n",
    "- 아래의 표는 비교 연산자의 종류를 나타낸다.\n",
    "\n",
    "<img src=https://user-images.githubusercontent.com/48711691/75321403-09344700-58b4-11ea-9e9d-365ae846225b.JPG style=\"width:80%;\">\n",
    "\n",
    "#### [비교연산]"
   ]
  },
  {
   "cell_type": "code",
   "execution_count": 12,
   "metadata": {
    "slideshow": {
     "slide_type": "subslide"
    }
   },
   "outputs": [
    {
     "name": "stdout",
     "output_type": "stream",
     "text": [
      "False\n",
      "True\n",
      "True\n",
      "False\n"
     ]
    }
   ],
   "source": [
    "a, b = (10, 5)\n",
    "print(a == b)\n",
    "print(a != b)\n",
    "print(a > b)\n",
    "print(a <= b)"
   ]
  },
  {
   "cell_type": "markdown",
   "metadata": {
    "slideshow": {
     "slide_type": "subslide"
    }
   },
   "source": [
    "#### 할당 연산자(Assignment Operators)\n",
    "- 변수에 원하는 값을 넣기 위한 연산자이다.\n",
    "- 수학에서의 등호(=.)와 할당연산자 = 과는 다름을 유의한다.\n",
    "- 아래의 표는 할당 연산자의 종류를 나타낸다.\n",
    "\n",
    "<img src=https://user-images.githubusercontent.com/48711691/75321533-4e587900-58b4-11ea-9659-1d181074d60d.JPG style=\"width:80%;\">\n",
    "\n",
    "#### [할당 연산]"
   ]
  },
  {
   "cell_type": "code",
   "execution_count": 13,
   "metadata": {
    "slideshow": {
     "slide_type": "subslide"
    }
   },
   "outputs": [
    {
     "name": "stdout",
     "output_type": "stream",
     "text": [
      "25 25\n",
      "50 25\n",
      "2.0 25\n"
     ]
    }
   ],
   "source": [
    "a = 25\n",
    "b = a # b == a와는 다름에 주의\n",
    "print(a, b)\n",
    "a += b\n",
    "print(a, b)\n",
    "a /= b\n",
    "print(a, b)"
   ]
  },
  {
   "cell_type": "markdown",
   "metadata": {
    "slideshow": {
     "slide_type": "subslide"
    }
   },
   "source": [
    "#### 논리 연산자(Logical Operators)\n",
    "- 논리적인 비교를 위한 연산자이다.\n",
    "- 아래의 표는 논시 연산자의 종류를 나타낸다.\n",
    "<img src=https://user-images.githubusercontent.com/48711691/75321633-895aac80-58b4-11ea-86f6-fa639a46de37.JPG style=\"width:90%;\">\n",
    "\n",
    "- 논리값에 따른 논리 연산 결과는 아래의 표와 같다.\n",
    "<img src=https://user-images.githubusercontent.com/48711691/75321643-8d86ca00-58b4-11ea-80d7-8ea271045138.JPG style=\"width:90%;\">\n",
    "\n",
    "#### [논리 연산]"
   ]
  },
  {
   "cell_type": "code",
   "execution_count": 6,
   "metadata": {
    "slideshow": {
     "slide_type": "subslide"
    }
   },
   "outputs": [
    {
     "name": "stdout",
     "output_type": "stream",
     "text": [
      "True\n",
      "False\n"
     ]
    }
   ],
   "source": [
    "# 논리연산\n",
    "a, b = (5, 10)\n",
    "c, d = (3, 3)\n",
    "print((a < b) and (c == d))\n",
    "print((a > b) or not(c == d))"
   ]
  },
  {
   "cell_type": "markdown",
   "metadata": {
    "slideshow": {
     "slide_type": "subslide"
    }
   },
   "source": [
    "#### 비트연산자(Bitwise Operators)\n",
    "- 변수의 값을 비트 단위로 변환 후 계산하는 연산자이다.\n",
    "- 1바이트(8비트)의 값을 담기 때문에 8자리의 2진수 숫자로 변환하여 계산한다.\n",
    "- 아래의 표는 비트 연산자의 종류를 나타낸다.\n",
    "\n",
    "<img src=https://user-images.githubusercontent.com/48711691/75321799-e3f40880-58b4-11ea-8928-8014273a0285.JPG style=\"width:80%;\">\n",
    "\n",
    "- 비트값에 따른 비트 연산 결과는 아래의 표와 같다.\n",
    "<img src=https://user-images.githubusercontent.com/48711691/75321805-e6eef900-58b4-11ea-8158-b4209a17f467.JPG style=\"width:90%;\">\n",
    "\n",
    "#### [비트 연산]"
   ]
  },
  {
   "cell_type": "code",
   "execution_count": 7,
   "metadata": {
    "slideshow": {
     "slide_type": "subslide"
    }
   },
   "outputs": [
    {
     "name": "stdout",
     "output_type": "stream",
     "text": [
      "0\n",
      "15\n"
     ]
    }
   ],
   "source": [
    "# 비트연산\n",
    "a, b = (4, 2)\n",
    "# a = 0000 0100, b = 0000 0010\n",
    "print(a & b) # 0000 0000 = 0\n",
    "a, b = (15, 10)\n",
    "# a = 0000 1111, b = 0000 1010\n",
    "print(a | b) # 0000 1111 = 15"
   ]
  },
  {
   "cell_type": "markdown",
   "metadata": {
    "slideshow": {
     "slide_type": "subslide"
    }
   },
   "source": [
    "#### 구성원 연산자(Membership Operators)\n",
    "- 군집형 자료형의 경우 하나의 변수에 여러 개의 데이터가 저장되어 있다. \n",
    "- 어떤 값이 해당 변수 내에 존재하는지의 여부를 확인하는 연산자가 필요하게 되었고 이를 ‘구성원 연산자’라고 한다.\n",
    "- 아래의 표는 구성원 연산자의 종류를 나타낸다.\n",
    "\n",
    "<img src=https://user-images.githubusercontent.com/48711691/75321957-39c8b080-58b5-11ea-9116-f6c55c58952b.JPG style=\"width:80%;\">\n",
    "\n",
    "#### [구성원 연산자]"
   ]
  },
  {
   "cell_type": "code",
   "execution_count": 14,
   "metadata": {
    "slideshow": {
     "slide_type": "subslide"
    }
   },
   "outputs": [
    {
     "name": "stdout",
     "output_type": "stream",
     "text": [
      "False\n",
      "True\n"
     ]
    }
   ],
   "source": [
    "a = 10\n",
    "list = [1, 3, 5, 7, 9]\n",
    "print(a in list)\n",
    "b = 6\n",
    "print(b not in list)"
   ]
  },
  {
   "cell_type": "markdown",
   "metadata": {
    "slideshow": {
     "slide_type": "subslide"
    }
   },
   "source": [
    "#### 식별연산자(Identity Operators)\n",
    "- 두 객체의 메모리 위치를 비교하여 결과를 부울값으로 반환해 주는 연산자를 ‘식별 연산자’라고 한다.\n",
    "- 아래의 표는 식별 연산자의 종류를 나타낸다.\n",
    "\n",
    "<img src=https://user-images.githubusercontent.com/48711691/75322066-73012080-58b5-11ea-92f7-8d53442aced6.JPG style=\"width:90%;\">\n",
    "\n",
    "#### [식별 연산]"
   ]
  },
  {
   "cell_type": "code",
   "execution_count": 1,
   "metadata": {
    "slideshow": {
     "slide_type": "subslide"
    }
   },
   "outputs": [
    {
     "name": "stdout",
     "output_type": "stream",
     "text": [
      "True\n",
      "False\n",
      "True\n"
     ]
    }
   ],
   "source": [
    "a, b = (5, 5)\n",
    "print(a is b)\n",
    "c, d = (257, 257)\n",
    "print(c is d)\n",
    "a, b = (56, 92)\n",
    "print(a is not b)"
   ]
  },
  {
   "cell_type": "markdown",
   "metadata": {},
   "source": [
    "- 예제 문제에서 분명히 c와 d는 같은 값임에도 a, b와 다른 결과가 나온다. 이는 Python에서 1바이트에 해당하는 0~256까지의 정수는 객체화 되어 같은 메모리에 저장되는 한편, 그 이외의 수는 따로 저장되기 때문이다."
   ]
  },
  {
   "cell_type": "markdown",
   "metadata": {
    "slideshow": {
     "slide_type": "slide"
    }
   },
   "source": [
    "### 연산자 우선순위\n",
    "- Python의 연산자 역시 수학에서의 연산자와 마찬가지로 우선순위가 존재한다.\n",
    "- 우선순위가 높을수록 먼저 실행된다.\n",
    "- 아래의 표는 연산자의 우선순위를 나타낸다.\n",
    "\n",
    "<img src=https://user-images.githubusercontent.com/48711691/75322298-cd01e600-58b5-11ea-8b59-fb01f70129e4.JPG style=\"width:60%;\">\n"
   ]
  },
  {
   "cell_type": "markdown",
   "metadata": {
    "slideshow": {
     "slide_type": "slide"
    }
   },
   "source": [
    "### 2.6 문자열\n",
    "#### 문자열의 개념\n",
    "\n",
    "- 문자열이란 문자들의 집합을 의미한다.\n",
    "- 통상적인 단어, 문장, 숫자 등을 문자열로 칭할 수 있다.\n",
    "\n",
    "#### [문자열]"
   ]
  },
  {
   "cell_type": "code",
   "execution_count": 15,
   "metadata": {
    "slideshow": {
     "slide_type": "subslide"
    }
   },
   "outputs": [
    {
     "name": "stdout",
     "output_type": "stream",
     "text": [
      "<class 'str'>\n",
      "<class 'str'>\n",
      "<class 'str'>\n"
     ]
    }
   ],
   "source": [
    "print(type(\"A\"))\n",
    "print(type(\"This is String\"))\n",
    "print(type(\"12345\"))"
   ]
  },
  {
   "cell_type": "markdown",
   "metadata": {
    "slideshow": {
     "slide_type": "slide"
    }
   },
   "source": [
    "#### 문자열의 선언\n",
    "- 문자열의 선언 방법은 크게 2가지 방식이 존재한다.\n",
    "- 첫째는 단일 따옴표 사용을 이용한 선언으로 이는 큰따옴표(“”)혹은 작은따옴표(‘’)로 사용하고자 하는 문자열의 앞뒤를 감싸서 표현할 수 있다.\n",
    "\n",
    "#### [문자열 선언]"
   ]
  },
  {
   "cell_type": "code",
   "execution_count": 16,
   "metadata": {
    "scrolled": true,
    "slideshow": {
     "slide_type": "subslide"
    }
   },
   "outputs": [
    {
     "name": "stdout",
     "output_type": "stream",
     "text": [
      "Hello, world!\n"
     ]
    }
   ],
   "source": [
    "myStr = \"Hello, world!\"\n",
    "print(myStr)"
   ]
  },
  {
   "cell_type": "markdown",
   "metadata": {},
   "source": [
    "- 둘째는 큰따옴표 혹은 작은따옴표 3개를 연속으로(”“”, ’‘’) 사용하여 문자열의 앞뒤를 감싸면 된다."
   ]
  },
  {
   "cell_type": "markdown",
   "metadata": {
    "slideshow": {
     "slide_type": "subslide"
    }
   },
   "source": [
    "#### 따옴표 3개를 이용한 선언\n",
    "- 큰 따옴표 혹은 작은 따옴표 3개를 연속으로(\"\"\", ''') 사용하여 문자열의 앞뒤를 감쌈\n",
    "- 여러줄의 문자열을 담을 때 사용"
   ]
  },
  {
   "cell_type": "code",
   "execution_count": 9,
   "metadata": {
    "slideshow": {
     "slide_type": "subslide"
    }
   },
   "outputs": [
    {
     "name": "stdout",
     "output_type": "stream",
     "text": [
      "ABCDE\n",
      "FGHIJ\n",
      "'last'\n"
     ]
    }
   ],
   "source": [
    "# 문자열의 선언\n",
    "myStr = \"\"\"ABCDE\n",
    "FGHIJ\n",
    "'last'\"\"\"\n",
    "print(myStr)"
   ]
  },
  {
   "cell_type": "markdown",
   "metadata": {
    "slideshow": {
     "slide_type": "slide"
    }
   },
   "source": [
    "### 2.7 이스케이프 코드\n",
    "\n",
    "#### 이스케이프 코드의 개념\n",
    "- 역슬래시(\\)의 뒤에 문자가 오는 조합으로 기기를 제어할 때에 사용한다.\n",
    "- 줄바꿈(\\n), 탭(\\t) 등은 출력 포매팅 시 유용하게 사용할 수 있다.\n",
    "\n",
    "#### [이스케이프 코드]"
   ]
  },
  {
   "cell_type": "code",
   "execution_count": 17,
   "metadata": {
    "slideshow": {
     "slide_type": "subslide"
    }
   },
   "outputs": [
    {
     "name": "stdout",
     "output_type": "stream",
     "text": [
      "\t my escape code \n",
      " is good\n"
     ]
    }
   ],
   "source": [
    "myStr = \"\\t my escape code \\n is good\"\n",
    "print(myStr)"
   ]
  },
  {
   "cell_type": "code",
   "execution_count": 11,
   "metadata": {},
   "outputs": [
    {
     "name": "stdout",
     "output_type": "stream",
     "text": [
      "\"This is \n",
      "backslash(\\)\"\n"
     ]
    }
   ],
   "source": [
    "# 이스케이프 코드\n",
    "myStr = \"\\\"This is \\nbackslash(\\\\)\\\"\"\n",
    "print(myStr)"
   ]
  },
  {
   "cell_type": "markdown",
   "metadata": {
    "slideshow": {
     "slide_type": "slide"
    }
   },
   "source": [
    "### 2.8 문자열의 연산\n",
    "\n",
    "#### 문자열의 합 연산\n",
    "- \\+ 연산자를 이용하여 여러 개의 문자열의 합 연산이 가능하다.\n",
    "\n",
    "#### [문자열의 합 연산]"
   ]
  },
  {
   "cell_type": "code",
   "execution_count": 18,
   "metadata": {
    "slideshow": {
     "slide_type": "subslide"
    }
   },
   "outputs": [
    {
     "name": "stdout",
     "output_type": "stream",
     "text": [
      "Six feet under\n"
     ]
    }
   ],
   "source": [
    "aStr = \"Six feet\"\n",
    "bStr = \" under\"\n",
    "print(aStr + bStr)"
   ]
  },
  {
   "cell_type": "markdown",
   "metadata": {},
   "source": [
    "#### 문자열의 곱 연산\n",
    "- \\* 연산자를 이용하여 문자열의 정수에 대한 곱 연산이 가능하다.\n",
    "\n",
    "#### [문자열의 곱 연산]"
   ]
  },
  {
   "cell_type": "code",
   "execution_count": 19,
   "metadata": {
    "slideshow": {
     "slide_type": "subslide"
    }
   },
   "outputs": [
    {
     "name": "stdout",
     "output_type": "stream",
     "text": [
      "Cheer Up Cheer Up \n"
     ]
    }
   ],
   "source": [
    "aStr = \"Cheer Up \"\n",
    "bNum = 2\n",
    "print(aStr * bNum)"
   ]
  },
  {
   "cell_type": "markdown",
   "metadata": {
    "slideshow": {
     "slide_type": "subslide"
    }
   },
   "source": [
    "#### 문자열 인덱싱(String Indexing)\n",
    "- 문자열의 각 문자를 0 ~ 문자열의 끝까지 index를 부여하고 해당 index를 통하여 문자열에 접근하는 것을 ‘문자열 인덱싱’이라고 한다.\n",
    "- 문자열의 각 요소들을 관리하는 데에 편리성을 제공하여 주는 기능이다.\n",
    "\n",
    "<img src=https://user-images.githubusercontent.com/48711691/75322762-ccb61a80-58b6-11ea-8378-fdfdc2ecd69b.JPG style=\"width:80%;\">\n",
    "\n",
    "#### [문자열 인덱싱]"
   ]
  },
  {
   "cell_type": "code",
   "execution_count": 20,
   "metadata": {
    "slideshow": {
     "slide_type": "subslide"
    }
   },
   "outputs": [
    {
     "name": "stdout",
     "output_type": "stream",
     "text": [
      "c\n",
      "l\n"
     ]
    }
   ],
   "source": [
    "myStr = \"special\"\n",
    "print(myStr[3])\n",
    "print(myStr[-1])"
   ]
  },
  {
   "cell_type": "markdown",
   "metadata": {
    "slideshow": {
     "slide_type": "subslide"
    }
   },
   "source": [
    "- index가 음수라면 문자열의 끝부터의 index를 지칭하는 것이다. 맨 뒤의 문자의 index를 –1이라고 생각하면 이해하기가 수월하다.\n",
    "\n",
    "#### 문자열 슬라이싱(Slicing)\n",
    "- 문자열을 사용자가 원하는 만큼 자르는(Slicing) 것을 ‘문자열 슬라이싱’이라고 한다.\n",
    "- 문자열의 이름[자르기 시작할 위치: 끝위치 + 1]와 같은 형식으로 표시한다.\n",
    "\n",
    "#### [문자열 슬라이싱]"
   ]
  },
  {
   "cell_type": "code",
   "execution_count": 18,
   "metadata": {
    "slideshow": {
     "slide_type": "subslide"
    }
   },
   "outputs": [
    {
     "name": "stdout",
     "output_type": "stream",
     "text": [
      "Comp\n"
     ]
    }
   ],
   "source": [
    "myStr = \"Computer\"\n",
    "print(myStr[0:4])"
   ]
  },
  {
   "cell_type": "markdown",
   "metadata": {
    "slideshow": {
     "slide_type": "subslide"
    }
   },
   "source": [
    "- 시작 혹은 끝 위치를 생략하면 문자열의 처음 혹은 끝 index로 지정한다."
   ]
  },
  {
   "cell_type": "code",
   "execution_count": 21,
   "metadata": {
    "slideshow": {
     "slide_type": "subslide"
    }
   },
   "outputs": [
    {
     "name": "stdout",
     "output_type": "stream",
     "text": [
      "programming\n",
      "Python \n"
     ]
    }
   ],
   "source": [
    "myStr = \"Python programming\"\n",
    "print(myStr[7:])\n",
    "print(myStr[:7])"
   ]
  },
  {
   "cell_type": "markdown",
   "metadata": {
    "slideshow": {
     "slide_type": "subslide"
    }
   },
   "source": [
    "- 문자열의 각 원소를 index를 통해 수정이 불가능하기 때문에 문자열 슬라이싱을 이용하여 수정할 수 있다."
   ]
  },
  {
   "cell_type": "code",
   "execution_count": 22,
   "metadata": {
    "slideshow": {
     "slide_type": "subslide"
    }
   },
   "outputs": [
    {
     "ename": "TypeError",
     "evalue": "'str' object does not support item assignment",
     "output_type": "error",
     "traceback": [
      "\u001b[1;31m---------------------------------------------------------------------------\u001b[0m",
      "\u001b[1;31mTypeError\u001b[0m                                 Traceback (most recent call last)",
      "\u001b[1;32m<ipython-input-22-657851059244>\u001b[0m in \u001b[0;36m<module>\u001b[1;34m\u001b[0m\n\u001b[0;32m      1\u001b[0m \u001b[0mmyStr\u001b[0m \u001b[1;33m=\u001b[0m \u001b[1;34m\"Auktion\"\u001b[0m\u001b[1;33m\u001b[0m\u001b[1;33m\u001b[0m\u001b[0m\n\u001b[1;32m----> 2\u001b[1;33m \u001b[0mmyStr\u001b[0m\u001b[1;33m[\u001b[0m\u001b[1;36m2\u001b[0m\u001b[1;33m]\u001b[0m \u001b[1;33m=\u001b[0m \u001b[1;34m'c'\u001b[0m\u001b[1;33m\u001b[0m\u001b[1;33m\u001b[0m\u001b[0m\n\u001b[0m\u001b[0;32m      3\u001b[0m \u001b[0mprint\u001b[0m\u001b[1;33m(\u001b[0m\u001b[0mmyStr\u001b[0m\u001b[1;33m)\u001b[0m\u001b[1;33m\u001b[0m\u001b[1;33m\u001b[0m\u001b[0m\n",
      "\u001b[1;31mTypeError\u001b[0m: 'str' object does not support item assignment"
     ]
    }
   ],
   "source": [
    "myStr = \"Auktion\"\n",
    "myStr[2] = 'c'\n",
    "print(myStr)"
   ]
  },
  {
   "cell_type": "code",
   "execution_count": 23,
   "metadata": {
    "slideshow": {
     "slide_type": "subslide"
    }
   },
   "outputs": [
    {
     "name": "stdout",
     "output_type": "stream",
     "text": [
      "Auction\n"
     ]
    }
   ],
   "source": [
    "# 문자열 슬라이싱\n",
    "myStr = \"Auktion\"\n",
    "myStr = myStr[:2] + 'c' + myStr[3:]\n",
    "print(myStr)"
   ]
  },
  {
   "cell_type": "markdown",
   "metadata": {
    "slideshow": {
     "slide_type": "subslide"
    }
   },
   "source": [
    "#### 문자열 포매팅\n",
    "- 문자열에서 특정 부분을 원하는 형식으로 출력하게 해 주는 기능을 ‘문자열 포매팅’이라고 한다.\n",
    "- 아래의 표는 문자열 포맷 코드의 종류를 나타낸다.\n",
    "<img src=https://user-images.githubusercontent.com/48711691/75323048-709fc600-58b7-11ea-9e19-a932bd7a2720.JPG style=\"width:80%;\">\n",
    "\n",
    "#### [문자열 포맷팅]"
   ]
  },
  {
   "cell_type": "code",
   "execution_count": 1,
   "metadata": {
    "slideshow": {
     "slide_type": "subslide"
    }
   },
   "outputs": [
    {
     "name": "stdout",
     "output_type": "stream",
     "text": [
      "Nice to meet you\n",
      "Today's temperature is -5.100000 degrees Celsius\n",
      "You should always try to be 100% of you\n"
     ]
    }
   ],
   "source": [
    "# 문자열 포매팅\n",
    "print(\"Nice to %s you\" % \"meet\")\n",
    "print(\"Today's temperature is %f degrees Celsius\" % -5.1)\n",
    "print(\"You should always try to be %d%% of you\" % 100)"
   ]
  },
  {
   "cell_type": "markdown",
   "metadata": {
    "slideshow": {
     "slide_type": "subslide"
    }
   },
   "source": [
    "- 문자열에 대한 정렬 혹은 float형의 소수점 표현도 포매팅이 가능하다.\n",
    "- 변수가 float형일 경우 소수점 아래 자릿수를 지정할 수 있다."
   ]
  },
  {
   "cell_type": "code",
   "execution_count": 26,
   "metadata": {
    "slideshow": {
     "slide_type": "subslide"
    }
   },
   "outputs": [
    {
     "name": "stdout",
     "output_type": "stream",
     "text": [
      "        58!\n",
      "58        !\n"
     ]
    }
   ],
   "source": [
    "# 자리수 설정\n",
    "print(\"%10d!\" % 58)\n",
    "# 자리수 설정 및 왼쪽 정렬\n",
    "print(\"%-10d!\" % 58)"
   ]
  },
  {
   "cell_type": "markdown",
   "metadata": {
    "slideshow": {
     "slide_type": "subslide"
    }
   },
   "source": [
    "- 숫자가 소수일 경우 소숫점 아래 자릿수를 지정"
   ]
  },
  {
   "cell_type": "code",
   "execution_count": 9,
   "metadata": {
    "slideshow": {
     "slide_type": "subslide"
    }
   },
   "outputs": [
    {
     "name": "stdout",
     "output_type": "stream",
     "text": [
      "3.3333\n"
     ]
    }
   ],
   "source": [
    "# 소숫점 아래 자리수 설정\n",
    "print(\"%0.4f\" % (10/3))"
   ]
  },
  {
   "cell_type": "markdown",
   "metadata": {
    "slideshow": {
     "slide_type": "slide"
    }
   },
   "source": [
    "### 2.9 문자열 내장 함수\n",
    "#### 문자열 내장 함수의 개념\n",
    "- 문자열에서 기본적으로 제공하는 함수들로서, 문자열을 사용하기에 유용한 기능들을 다수 포함하고 있다.\n",
    "- 사용하고자 하는 문자열 이름 뒤에 .을 붙여 함수명으로 사용한다.\n",
    "\n",
    "#### 문자 개수 세기\n",
    "<div style = \"border : 1px solid green; padding : 5px; width = 50px;\">#str.count(a)<br>\n",
    "    \n",
    "<div style = \"color : gray;\">a: 개수를 셀 문자</div></div>\n",
    "\n",
    "#### [문자열 count]"
   ]
  },
  {
   "cell_type": "code",
   "execution_count": 10,
   "metadata": {
    "slideshow": {
     "slide_type": "subslide"
    }
   },
   "outputs": [
    {
     "name": "stdout",
     "output_type": "stream",
     "text": [
      "1\n"
     ]
    }
   ],
   "source": [
    "myStr = \"Be quiet\"\n",
    "print(myStr.count('i'))"
   ]
  },
  {
   "cell_type": "markdown",
   "metadata": {
    "slideshow": {
     "slide_type": "subslide"
    }
   },
   "source": [
    "#### 문자 찾기\n",
    "\n",
    "<div style = \"border : 1px solid green; padding : 5px; width = 50px;\">str.find(a)<br>\n",
    "    \n",
    "<div style = \"color : gray;\">a: 찾고자 하는 문자</div></div>\n",
    "\n",
    "- 찾고자 하는 문자의 위치를 반환하고 해당 문자가 존재하지 않는다면 –1을 반환하는 함수이다.\n",
    "\n",
    "#### [문자열 find]"
   ]
  },
  {
   "cell_type": "code",
   "execution_count": 2,
   "metadata": {
    "slideshow": {
     "slide_type": "subslide"
    }
   },
   "outputs": [
    {
     "name": "stdout",
     "output_type": "stream",
     "text": [
      "10\n",
      "-1\n"
     ]
    }
   ],
   "source": [
    "myStr = \"Attention please\"\n",
    "# 존재\n",
    "print(myStr.find('p'))\n",
    "# 존재 x\n",
    "print(myStr.find('z'))"
   ]
  },
  {
   "cell_type": "markdown",
   "metadata": {
    "slideshow": {
     "slide_type": "subslide"
    }
   },
   "source": [
    "<div style = \"border : 1px solid green; padding : 5px; width = 50px;\">#str.index(a)<br>\n",
    "    \n",
    "<div style = \"color : gray;\">a: 찾고자 하는 문자</div></div>\n",
    "\n",
    "#### [문자열 index]"
   ]
  },
  {
   "cell_type": "code",
   "execution_count": 4,
   "metadata": {
    "slideshow": {
     "slide_type": "subslide"
    }
   },
   "outputs": [
    {
     "ename": "ValueError",
     "evalue": "substring not found",
     "output_type": "error",
     "traceback": [
      "\u001b[1;31m---------------------------------------------------------------------------\u001b[0m",
      "\u001b[1;31mValueError\u001b[0m                                Traceback (most recent call last)",
      "\u001b[1;32m<ipython-input-4-d4caa1516f03>\u001b[0m in \u001b[0;36m<module>\u001b[1;34m\u001b[0m\n\u001b[0;32m      1\u001b[0m \u001b[0mmyStr\u001b[0m \u001b[1;33m=\u001b[0m \u001b[1;34m\"Attention please\"\u001b[0m\u001b[1;33m\u001b[0m\u001b[1;33m\u001b[0m\u001b[0m\n\u001b[0;32m      2\u001b[0m \u001b[1;31m# 존재 x\u001b[0m\u001b[1;33m\u001b[0m\u001b[1;33m\u001b[0m\u001b[1;33m\u001b[0m\u001b[0m\n\u001b[1;32m----> 3\u001b[1;33m \u001b[0mprint\u001b[0m\u001b[1;33m(\u001b[0m\u001b[0mmyStr\u001b[0m\u001b[1;33m.\u001b[0m\u001b[0mindex\u001b[0m\u001b[1;33m(\u001b[0m\u001b[1;34m'z'\u001b[0m\u001b[1;33m)\u001b[0m\u001b[1;33m)\u001b[0m\u001b[1;33m\u001b[0m\u001b[1;33m\u001b[0m\u001b[0m\n\u001b[0m",
      "\u001b[1;31mValueError\u001b[0m: substring not found"
     ]
    }
   ],
   "source": [
    "myStr = \"Attention please\"\n",
    "# 존재 x\n",
    "print(myStr.index('z'))"
   ]
  },
  {
   "cell_type": "markdown",
   "metadata": {
    "slideshow": {
     "slide_type": "subslide"
    }
   },
   "source": [
    "#### 문자열 삽입\n",
    "\n",
    "<div style = \"border : 1px solid green; padding : 5px; width = 50px;\">#str1.join(str2)<br>\n",
    "    \n",
    "<div style = \"color : gray;\">str1: \n",
    "삽입 당할 문자열<br>\n",
    "str2: 삽입할 문자열</div></div>\n",
    "\n",
    "#### [문자열 join]"
   ]
  },
  {
   "cell_type": "code",
   "execution_count": 14,
   "metadata": {
    "slideshow": {
     "slide_type": "subslide"
    }
   },
   "outputs": [
    {
     "name": "stdout",
     "output_type": "stream",
     "text": [
      "aabcbabccabcd\n"
     ]
    }
   ],
   "source": [
    "myStr = \"abcd\"\n",
    "print(\"abc\".join(myStr))"
   ]
  },
  {
   "cell_type": "markdown",
   "metadata": {
    "slideshow": {
     "slide_type": "subslide"
    }
   },
   "source": [
    "#### 소문자를 대문자로 바꾸기\n",
    "\n",
    "<div style = \"border : 1px solid green; padding : 5px; width = 50px;\">#str.upper()<br>\n",
    "    \n",
    "<div style = \"color : gray;\">str: 수정 될 문자열</div></div>\n",
    "\n",
    "#### [문자열 upper]"
   ]
  },
  {
   "cell_type": "code",
   "execution_count": 5,
   "metadata": {
    "slideshow": {
     "slide_type": "subslide"
    }
   },
   "outputs": [
    {
     "name": "stdout",
     "output_type": "stream",
     "text": [
      "YOU LIGHT UP MY LIFE\n"
     ]
    }
   ],
   "source": [
    "myStr = \"You light up my life\"\n",
    "print(myStr.upper())"
   ]
  },
  {
   "cell_type": "markdown",
   "metadata": {
    "slideshow": {
     "slide_type": "subslide"
    }
   },
   "source": [
    "#### 대문자를 소문자로 바꾸기\n",
    "\n",
    "<div style = \"border : 1px solid green; padding : 5px; width = 50px;\">#str.lower()<br>\n",
    "    \n",
    "<div style = \"color : gray;\">str: 수정 될 문자열</div></div>\n",
    "\n",
    "#### [문자열 lower]"
   ]
  },
  {
   "cell_type": "code",
   "execution_count": 17,
   "metadata": {
    "slideshow": {
     "slide_type": "subslide"
    }
   },
   "outputs": [
    {
     "name": "stdout",
     "output_type": "stream",
     "text": [
      "hello\n"
     ]
    }
   ],
   "source": [
    "myStr = \"HELLO\"\n",
    "print(myStr.lower())"
   ]
  },
  {
   "cell_type": "markdown",
   "metadata": {
    "slideshow": {
     "slide_type": "subslide"
    }
   },
   "source": [
    "#### 공백 지우기\n",
    "\n",
    "<div style = \"border : 1px solid green; padding : 5px; width = 50px;\">#str.lstrip()<br>\n",
    "    \n",
    "<div style = \"color : gray;\">str: 공백을 제거할 문자열</div></div>\n",
    "- 문자열의 왼쪽 공백을 지워주는 함수이다.\n",
    "\n",
    "#### [문자열 lstrip]"
   ]
  },
  {
   "cell_type": "code",
   "execution_count": 18,
   "metadata": {
    "slideshow": {
     "slide_type": "subslide"
    }
   },
   "outputs": [
    {
     "name": "stdout",
     "output_type": "stream",
     "text": [
      "hi       \n"
     ]
    }
   ],
   "source": [
    "myStr = \"         hi       \"\n",
    "print(myStr.lstrip())"
   ]
  },
  {
   "cell_type": "markdown",
   "metadata": {
    "slideshow": {
     "slide_type": "subslide"
    }
   },
   "source": [
    "<div style = \"border : 1px solid green; padding : 5px; width = 50px;\">#str.rstrip()<br>\n",
    "    \n",
    "<div style = \"color : gray;\">str: 공백을 제거할 문자열</div></div>\n",
    "- 문자열의 오른쪽 공백을 지워주는 함수이다.\n",
    "\n",
    "#### [문자열 rstrip]"
   ]
  },
  {
   "cell_type": "code",
   "execution_count": 19,
   "metadata": {
    "slideshow": {
     "slide_type": "subslide"
    }
   },
   "outputs": [
    {
     "name": "stdout",
     "output_type": "stream",
     "text": [
      "         hi\n"
     ]
    }
   ],
   "source": [
    "myStr = \"         hi       \"\n",
    "print(myStr.rstrip())"
   ]
  },
  {
   "cell_type": "markdown",
   "metadata": {
    "slideshow": {
     "slide_type": "subslide"
    }
   },
   "source": [
    "<div style = \"border : 1px solid green; padding : 5px; width = 50px;\">#str.strip()<br>\n",
    "    \n",
    "<div style = \"color : gray;\">str: 공백을 제거할 문자열</div></div>\n",
    "- 문자열의 양쪽 공백을 지워주는 함수이다.\n",
    "\n",
    "#### [문자열 strip]"
   ]
  },
  {
   "cell_type": "code",
   "execution_count": 20,
   "metadata": {
    "slideshow": {
     "slide_type": "subslide"
    }
   },
   "outputs": [
    {
     "name": "stdout",
     "output_type": "stream",
     "text": [
      "hi\n"
     ]
    }
   ],
   "source": [
    "myStr = \"         hi       \"\n",
    "print(myStr.strip())"
   ]
  },
  {
   "cell_type": "markdown",
   "metadata": {
    "slideshow": {
     "slide_type": "subslide"
    }
   },
   "source": [
    "#### 문자열 바꾸기\n",
    "- str.replace(str1, str2)\n",
    "- str안의 str1을 str2로 대체"
   ]
  },
  {
   "cell_type": "code",
   "execution_count": 21,
   "metadata": {
    "slideshow": {
     "slide_type": "subslide"
    }
   },
   "outputs": [
    {
     "name": "stdout",
     "output_type": "stream",
     "text": [
      "Time is over\n"
     ]
    }
   ],
   "source": [
    "myStr = \"Time is running out\"\n",
    "print(myStr.replace(\"running out\", \"over\"))"
   ]
  },
  {
   "cell_type": "markdown",
   "metadata": {
    "slideshow": {
     "slide_type": "subslide"
    }
   },
   "source": [
    "#### 문자열 나누기\n",
    "- str.split(char a)\n",
    "- str을 a를 기준으로 나눠줌. a가 빈칸일 시 공백을 기준으로 나눠짐"
   ]
  },
  {
   "cell_type": "code",
   "execution_count": 22,
   "metadata": {
    "slideshow": {
     "slide_type": "subslide"
    }
   },
   "outputs": [
    {
     "name": "stdout",
     "output_type": "stream",
     "text": [
      "['Hello,', 'wolrd!']\n",
      "['Hello, ', 'olrd!']\n"
     ]
    }
   ],
   "source": [
    "myStr = \"Hello, wolrd!\"\n",
    "print(myStr.split())\n",
    "print(myStr.split('w'))"
   ]
  },
  {
   "cell_type": "markdown",
   "metadata": {
    "slideshow": {
     "slide_type": "slide"
    }
   },
   "source": [
    "### 2.10 리스트\n",
    "#### 리스트의 개념\n",
    "- 여러 개의 숫자나 문자열들을 하나의 객체에 담기 위한 자료형이다.\n",
    "\n",
    "#### 리스트의 선언\n",
    "<div style = \"border : 1px solid green; padding : 5px; width = 50px;\">#list = [a, b, c, d]<br>\n",
    "    \n",
    "<div style = \"color : gray;\">list: 선언할 리스트의 이름</div></div>\n",
    "\n",
    "- 리스트의 이름을 정하고 각 원소들을 대괄호([])로 묶어 쉼표(,)로 구분하여 선언한다.\n",
    "\n",
    "#### [리스트의 선언]"
   ]
  },
  {
   "cell_type": "code",
   "execution_count": 23,
   "metadata": {
    "slideshow": {
     "slide_type": "subslide"
    }
   },
   "outputs": [
    {
     "name": "stdout",
     "output_type": "stream",
     "text": [
      "[2, 4, 6, 8]\n"
     ]
    }
   ],
   "source": [
    "myList = [2, 4, 6, 8]\n",
    "print(myList)"
   ]
  },
  {
   "cell_type": "markdown",
   "metadata": {
    "slideshow": {
     "slide_type": "slide"
    }
   },
   "source": [
    "### 2.10 리스트\n",
    "#### 리스트의 개념\n",
    "- 여러 개의 숫자나 문자열들을 하나의 객체에 담기 위한 자료형이다.\n",
    "\n",
    "#### 리스트의 선언\n",
    "<div style = \"border : 1px solid green; padding : 5px; width = 50px;\">#list = [a, b, c, d]\n",
    "    \n",
    "<div style = \"color : gray;\">list: 선언할 리스트의 이름</div></div>\n",
    "\n",
    "- 리스트의 이름을 정하고 각 원소들을 대괄호([ ])로 묶어 쉼표(,)로 구분하여 선언한다.\n",
    "\n",
    "#### [리스트의 선언]"
   ]
  },
  {
   "cell_type": "code",
   "execution_count": 38,
   "metadata": {
    "slideshow": {
     "slide_type": "subslide"
    }
   },
   "outputs": [
    {
     "name": "stdout",
     "output_type": "stream",
     "text": [
      "[1, 3, 5, 7, 2, 4, 6, 8]\n"
     ]
    }
   ],
   "source": [
    "myList = [1, 3, 5, 7]\n",
    "yourList = [2, 4, 6, 8]\n",
    "print(myList + yourList)"
   ]
  },
  {
   "cell_type": "markdown",
   "metadata": {},
   "source": [
    "### 2.11 리스트의 연산\n",
    "#### 리스트의 합 연산\n",
    "\n",
    "<div style = \"border : 1px solid green; padding : 5px; width = 50px;\">#list1 + list2</div>\n",
    "\n",
    "- + 연산자를 통하여 두 개의 리스트를 더할 수 있다. 앞의 리스트의 끝에 뒤의 리스트의 원소를 추가한다.\n",
    "\n",
    "#### [리스트이 합 연산]"
   ]
  },
  {
   "cell_type": "code",
   "execution_count": 23,
   "metadata": {},
   "outputs": [
    {
     "name": "stdout",
     "output_type": "stream",
     "text": [
      "[1, 3, 5, 7, 2, 4, 6, 8]\n"
     ]
    }
   ],
   "source": [
    "myList = [1, 3, 5, 7]\n",
    "yourList = [2, 4, 6, 8]\n",
    "print(myList + yourList )"
   ]
  },
  {
   "cell_type": "markdown",
   "metadata": {
    "slideshow": {
     "slide_type": "subslide"
    }
   },
   "source": [
    "#### 리스트의 곱셈\n",
    "<div style = \"border : 1px solid green; padding : 5px; width = 50px;\">#list1 * num</div>\n",
    "\n",
    "- * 연산자를 통하여 리스트를 정수배할 수 있다.\n",
    "\n",
    "#### [리스트의 곱 연산]"
   ]
  },
  {
   "cell_type": "code",
   "execution_count": 39,
   "metadata": {
    "slideshow": {
     "slide_type": "subslide"
    }
   },
   "outputs": [
    {
     "name": "stdout",
     "output_type": "stream",
     "text": [
      "[1, 2, 3, 4, 1, 2, 3, 4, 1, 2, 3, 4]\n"
     ]
    }
   ],
   "source": [
    "myList = [1, 2, 3, 4]\n",
    "print(myList * 3)"
   ]
  },
  {
   "cell_type": "markdown",
   "metadata": {
    "slideshow": {
     "slide_type": "slide"
    }
   },
   "source": [
    "#### 리스트의 인덱싱\n",
    "- 리스트의 각 원소를 0부터 리스트의 끝까지 index값을 부여하여 접근하는 것을 ‘리스트의 인덱싱’이라고 한다.\n",
    "\n",
    "#### [리스트 인덱싱]"
   ]
  },
  {
   "cell_type": "code",
   "execution_count": 36,
   "metadata": {
    "slideshow": {
     "slide_type": "subslide"
    }
   },
   "outputs": [
    {
     "name": "stdout",
     "output_type": "stream",
     "text": [
      "myList 0 : 2\n",
      "myList 1 : 4\n",
      "myList 2 : 6\n",
      "myList 3 : 8\n"
     ]
    }
   ],
   "source": [
    "myList = [2, 4, 6, 8]\n",
    "for i in range(len(myList)):\n",
    "    print(\"myList \" + str(i) + ' : ' + str(myList[i]))"
   ]
  },
  {
   "cell_type": "markdown",
   "metadata": {
    "slideshow": {
     "slide_type": "slide"
    }
   },
   "source": [
    "#### 리스트 슬라이싱\n",
    "- 리스트를 지정한 범위로 나누는 것을 ‘리스트 슬라이싱’이라고 한다.\n",
    "- 문자열 슬라이싱과 동일한 방법으로 사용한다.\n",
    "\n",
    "#### [리스트 슬라이싱]"
   ]
  },
  {
   "cell_type": "code",
   "execution_count": 37,
   "metadata": {
    "slideshow": {
     "slide_type": "subslide"
    }
   },
   "outputs": [
    {
     "name": "stdout",
     "output_type": "stream",
     "text": [
      "[3, 5]\n"
     ]
    }
   ],
   "source": [
    "myList = [1, 3, 5, 7, 9]\n",
    "print(myList[1:3])"
   ]
  },
  {
   "cell_type": "markdown",
   "metadata": {
    "slideshow": {
     "slide_type": "subslide"
    }
   },
   "source": [
    "- 기본적으로 문자열 슬라이싱과 동일하다고 생각 할 수 있다."
   ]
  },
  {
   "cell_type": "markdown",
   "metadata": {
    "slideshow": {
     "slide_type": "slide"
    }
   },
   "source": [
    "### 2.12 리스트 내장 함수\n",
    "#### 리스트 길이 구하기\n",
    "\n",
    "\n",
    "<div style = \"border : 1px solid green; padding : 5px; width = 50px;\">#len(list)<br>\n",
    "    \n",
    "<div style = \"color : gray;\">list: 길이를 구하고자 하는 list의 이름</div></div>\n",
    "\n",
    "- 리스트의 원소의 개수를 반환하는 함수이다.\n",
    "\n",
    "#### [리스트 len]"
   ]
  },
  {
   "cell_type": "code",
   "execution_count": 41,
   "metadata": {
    "slideshow": {
     "slide_type": "subslide"
    }
   },
   "outputs": [
    {
     "name": "stdout",
     "output_type": "stream",
     "text": [
      "4\n"
     ]
    }
   ],
   "source": [
    "myList = [7, 6, 5, 4]\n",
    "print(len(myList))"
   ]
  },
  {
   "cell_type": "markdown",
   "metadata": {
    "slideshow": {
     "slide_type": "subslide"
    }
   },
   "source": [
    "#### 리스트 특정 위치 원소 삭제\n",
    "\n",
    "<div style = \"border : 1px solid green; padding : 5px; width = 50px;\">#del(list[num])<br>\n",
    "    \n",
    "<div style = \"color : gray;\">list: 원소를 삭제하고자 하는 리스트의 이름<br>\n",
    "num: 삭제하고자 하는 원소의 index</div></div>\n",
    "\n",
    "- 리스트에서 원하는 index의 원소를 삭제하는 함수이다.\n",
    "\n",
    "#### [리스트 del]"
   ]
  },
  {
   "cell_type": "code",
   "execution_count": 42,
   "metadata": {
    "slideshow": {
     "slide_type": "subslide"
    }
   },
   "outputs": [
    {
     "name": "stdout",
     "output_type": "stream",
     "text": [
      "[4, 5, 6]\n"
     ]
    }
   ],
   "source": [
    "myList = [4, 5, 6, 7]\n",
    "del(myList[3])\n",
    "print(myList)"
   ]
  },
  {
   "cell_type": "markdown",
   "metadata": {},
   "source": [
    "#### 리스트 정렬\n",
    "<div style = \"border : 1px solid green; padding : 5px; width = 50px;\">#list.sort()<br>\n",
    "    \n",
    "<div style = \"color : gray;\">list: 정렬할 list의 이름</div></div>\n",
    "\n",
    "- 리스트의 원소를 순서대로 정렬한다.\n",
    "\n",
    "#### [리스트 sort]"
   ]
  },
  {
   "cell_type": "code",
   "execution_count": 24,
   "metadata": {},
   "outputs": [
    {
     "name": "stdout",
     "output_type": "stream",
     "text": [
      "[1, 2, 5, 34]\n"
     ]
    }
   ],
   "source": [
    "myList = [1, 2, 34, 5]\n",
    "myList .sort ()\n",
    "print(myList )"
   ]
  },
  {
   "cell_type": "markdown",
   "metadata": {
    "slideshow": {
     "slide_type": "subslide"
    }
   },
   "source": [
    "#### 리스트 원소 추가\n",
    "\n",
    "<div style = \"border : 1px solid green; padding : 5px; width = 50px;\">list.append(a)<br>\n",
    "    \n",
    "<div style = \"color : gray;\">a를 list의 끝에 추가</div></div>\n",
    "\n",
    "#### [리스트 원소 추가]"
   ]
  },
  {
   "cell_type": "code",
   "execution_count": 44,
   "metadata": {
    "slideshow": {
     "slide_type": "subslide"
    }
   },
   "outputs": [
    {
     "name": "stdout",
     "output_type": "stream",
     "text": [
      "[1, 2, 34, 5, 78]\n"
     ]
    }
   ],
   "source": [
    "myList = [1, 2, 34, 5]\n",
    "myList.append(78)\n",
    "print(myList)"
   ]
  },
  {
   "cell_type": "markdown",
   "metadata": {
    "slideshow": {
     "slide_type": "subslide"
    }
   },
   "source": [
    "#### 리스트 반전\n",
    "\n",
    "<div style = \"border : 1px solid green; padding : 5px; width = 50px;\">list.reverse()<br>\n",
    "    \n",
    "<div style = \"color : gray;\">list의 원소 순서를 역전</div></div>\n",
    "\n",
    "#### [리스트 반전]"
   ]
  },
  {
   "cell_type": "code",
   "execution_count": 47,
   "metadata": {
    "slideshow": {
     "slide_type": "subslide"
    }
   },
   "outputs": [
    {
     "name": "stdout",
     "output_type": "stream",
     "text": [
      "[8, 6, 4, 2]\n"
     ]
    }
   ],
   "source": [
    "myList = [2, 4, 6, 8]\n",
    "myList.reverse()\n",
    "print(myList)"
   ]
  },
  {
   "cell_type": "markdown",
   "metadata": {
    "slideshow": {
     "slide_type": "subslide"
    }
   },
   "source": [
    "#### 리스트 위치 반환\n",
    "<div style = \"border : 1px solid green; padding : 5px; width = 50px;\">list.index(num)<br>\n",
    "    \n",
    "<div style = \"color : gray;\">list의 num번째 원소를 반환</div></div>\n",
    "\n",
    "#### [리스트 위치 반환]"
   ]
  },
  {
   "cell_type": "code",
   "execution_count": 48,
   "metadata": {
    "slideshow": {
     "slide_type": "subslide"
    }
   },
   "outputs": [
    {
     "name": "stdout",
     "output_type": "stream",
     "text": [
      "2\n"
     ]
    }
   ],
   "source": [
    "myList = [1, 3, 5, 7]\n",
    "print(myList.index(5))"
   ]
  },
  {
   "cell_type": "markdown",
   "metadata": {
    "slideshow": {
     "slide_type": "subslide"
    }
   },
   "source": [
    "#### 리스트 원소 삽입\n",
    "\n",
    "<div style = \"border : 1px solid green; padding : 5px; width = 50px;\">list.insert(num1, num2)<br>\n",
    "    \n",
    "<div style = \"color : gray;\">list의 num1번째에 num2를 삽입</div></div>\n",
    "\n",
    "#### [리스트 원소 삽입]"
   ]
  },
  {
   "cell_type": "code",
   "execution_count": 49,
   "metadata": {
    "slideshow": {
     "slide_type": "subslide"
    }
   },
   "outputs": [
    {
     "name": "stdout",
     "output_type": "stream",
     "text": [
      "[1, 2, 78, 3, 4]\n"
     ]
    }
   ],
   "source": [
    "myList = [1, 2, 3, 4]\n",
    "myList.insert(2, 78)\n",
    "print(myList)"
   ]
  },
  {
   "cell_type": "markdown",
   "metadata": {},
   "source": [
    "## 연습문제\n",
    "\n",
    "### 1.\n",
    "다음중 선언할 변수의 이름으로 적합하지 않은 것을 골라라.\n",
    "<br><br>\n",
    "(1) value_m\n",
    "\n",
    "(2) _mv_name\n",
    "\n",
    "(3) while123\n",
    "\n",
    "(4) lphoto\n",
    "\n",
    "(5) fristArr\n",
    "<br><br>\n",
    "\n",
    "### 2.\n",
    "다음 연산의 실행 결과를 적어보아라.\n",
    "\n",
    "(1)인터프리터 &nbsp;&nbsp; (2)컴파일러 &nbsp;&nbsp; (3)어셈블러\n",
    "<br><br>"
   ]
  },
  {
   "cell_type": "code",
   "execution_count": 25,
   "metadata": {},
   "outputs": [
    {
     "ename": "NameError",
     "evalue": "name 'true' is not defined",
     "output_type": "error",
     "traceback": [
      "\u001b[1;31m---------------------------------------------------------------------------\u001b[0m",
      "\u001b[1;31mNameError\u001b[0m                                 Traceback (most recent call last)",
      "\u001b[1;32m<ipython-input-25-e786f003ceba>\u001b[0m in \u001b[0;36m<module>\u001b[1;34m\u001b[0m\n\u001b[1;32m----> 1\u001b[1;33m \u001b[0mmyVar1\u001b[0m \u001b[1;33m=\u001b[0m \u001b[1;36m2\u001b[0m \u001b[1;33m+\u001b[0m \u001b[1;36m3\u001b[0m \u001b[1;33m*\u001b[0m \u001b[1;36m5\u001b[0m \u001b[1;33m<=\u001b[0m \u001b[1;36m0\u001b[0m \u001b[1;32mor\u001b[0m \u001b[1;36m0\u001b[0m \u001b[1;33m==\u001b[0m \u001b[0mtrue\u001b[0m\u001b[1;33m\u001b[0m\u001b[1;33m\u001b[0m\u001b[0m\n\u001b[0m\u001b[0;32m      2\u001b[0m \u001b[0mprint\u001b[0m\u001b[1;33m(\u001b[0m\u001b[0mmyVar1\u001b[0m\u001b[1;33m)\u001b[0m\u001b[1;33m\u001b[0m\u001b[1;33m\u001b[0m\u001b[0m\n",
      "\u001b[1;31mNameError\u001b[0m: name 'true' is not defined"
     ]
    }
   ],
   "source": [
    "myVar1 = 2 + 3 * 5 <= 0 or 0 == true\n",
    "print(myVar1)"
   ]
  },
  {
   "cell_type": "markdown",
   "metadata": {},
   "source": [
    "### 3.\n",
    "다음의 실행 결과가 나오게 하는 코드를 빈칸에 채워 넣어라.\n",
    "<div style = \"border : 1px solid green; padding : 5px; width = 50px;\">\n",
    "    myVar1 = \"2\"<br>\n",
    "    myNum1 = 35<br>\n",
    "    print( &nbsp; )</div>\n",
    "\n",
    "    \n",
    "### 4.\n",
    "다음의 문자열이 주어졌을 때 해당 결과가 나오도록 코드를 작성하여라.\n",
    "<div style = \"border : 1px solid green; padding : 5px; width = 50px;\">myStr = “Hello, Ptyhon\"<br>\n",
    "    (                                    )<br>\n",
    "    print(                  )</div>\n",
    "<br>\n",
    "실행결과 : \"Hello, C++\"\n",
    "<br><br>\n",
    "\n",
    "### 5.\n",
    "다음의 코드를 실행시켰을 때 출력되는 결과를 적어라."
   ]
  },
  {
   "cell_type": "code",
   "execution_count": 26,
   "metadata": {},
   "outputs": [
    {
     "name": "stdout",
     "output_type": "stream",
     "text": [
      "My sample string\n"
     ]
    }
   ],
   "source": [
    "myNum = -25\n",
    "myStr = \"My sample string\"\n",
    "result = myNum and myStr\n",
    "print(result)"
   ]
  },
  {
   "cell_type": "markdown",
   "metadata": {},
   "source": [
    "### 6.\n",
    "다음의 리스트가 주어졌을 때 리스트를 정렬하고 맨 끝에 0을 삽입하는 코드를 작성하여라.\n",
    "\n",
    "<div style = \"border : 1px solid green; padding : 5px; width = 50px;\">\n",
    "    myList = [11, 34, 8, 29, 5]<br>\n",
    "    (                     )<br>\n",
    "    (                             )<br>\n",
    "    print(myList)</div>\n",
    "    \n",
    "실행 결과 : [5, 6, 11, 29, 0]"
   ]
  }
 ],
 "metadata": {
  "kernelspec": {
   "display_name": "Python 3",
   "language": "python",
   "name": "python3"
  },
  "language_info": {
   "codemirror_mode": {
    "name": "ipython",
    "version": 3
   },
   "file_extension": ".py",
   "mimetype": "text/x-python",
   "name": "python",
   "nbconvert_exporter": "python",
   "pygments_lexer": "ipython3",
   "version": "3.7.4"
  }
 },
 "nbformat": 4,
 "nbformat_minor": 2
}
