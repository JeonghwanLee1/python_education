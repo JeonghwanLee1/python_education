{
 "cells": [
  {
   "cell_type": "markdown",
   "metadata": {},
   "source": [
    "# Chapter6. 객체지향의 시작\n",
    "- Python의 특징 중 하나인 객체지향에 대해 설명하고 객체가 어떠한 개념인지 객체지향 프로그래밍이 무엇인지 학습한다.\n",
    "- 객체지향 프로그래밍에 쓰이는 클래스와 메소드에 대해 설명하고 상속의 개념에 대해 설명한다.\n",
    "\n",
    "### 6.1 객체지향 프로그래밍\n",
    "\n",
    "#### 객체의 개념\n",
    "- 현실에 존재하는 모든 것 (사람, 책상, 공책, 컴퓨터, 신발 등)\n",
    "- 객체마다 고유의 기능을 수행하며 다른 객체들과 상호작용한다.\n",
    "- 객체지향 프로그래밍(Object-Oriented Programming) : 현실에 존재하는 객체를 디지털 세상으로 구현하기 위하여 시작된 프로그래밍 기법\n",
    "<br><br>\n",
    "- 객체는 상태(state)와 동작(behavior)을 가진다.<br><br>\n",
    "<img src=https://user-images.githubusercontent.com/48711691/75388177-ddeb3f80-5927-11ea-95d8-1c4465965a6c.JPG style=\"width:70%;\">\n",
    "\n",
    "<b>객체의 상태</b>\n",
    "- 객체의 속성\n",
    "- 인스턴스 변수(instance variable)와 동일하다.\n",
    "<br><br>\n",
    "<b>객체의 동작</b>\n",
    "- 객체가 담당하는 기능 또는 동작\n",
    "- 메소드(method)와 동일하다.\n",
    "<br><br>\n",
    "<div style = \"color : gray; text-align : center;\"><i>\"객체는 인스턴수 변수와 메서드로 이루어져있다.\"</i></div>\n",
    "\n",
    "#### 객체지향 프로그래밍\n",
    "- 현실에 존재하는 객체를 디지털 세상으로 구현하는 프로그래밍 기법이다.\n",
    "- 객체의 상태는 객체의 속성으로 인스턴스 변수(instance variable)과 같다.\n",
    "- 객체의 동작은 객체가 담당하는 기능 또는 동작으로 메소드(method)와 동일하다.\n",
    "- 따라서 객체는 인스턴스 변수와 메소드로 이루어져 있다고 할 수 있다.\n",
    "- 필요한 변수나 기능이 같은 동일한 구조를 요구하지만 다른 특성을 지닌 요소들을 제각기 생성해야 할 경우에 객체지향이 적합하다.\n",
    "- 사용자의 요구에 맞게 새로운 자료형이 필요한 경우 객체지향이 적합하다.\n",
    "- 절차지향 프로그래밍은 프로그램의 제일 첫 라인부터 순차적으로 실행되는 방식을 뜻하며 객체에 사용자의 요구사항을 넣어 문제를 해결하는 객체지향 방식과는 차이가 있다.\n",
    "\n",
    "<img src=https://user-images.githubusercontent.com/48711691/75388419-4a663e80-5928-11ea-81a9-6823929068f6.JPG style=\"width:100%;\">\n",
    "\n",
    "\n"
   ]
  },
  {
   "cell_type": "markdown",
   "metadata": {},
   "source": [
    "\n",
    "### 6.2 클래스\n",
    "#### 클래스의 정의 및 생성\n",
    "- 객체에 대한 설계도 또는 청사진이라고 할 수 있으며 객체지향 내에서 소프트웨어의 기본 단위이다.\n",
    "- 특정한 종류를 찍어내는 형식으로 클래스로부터 만들어지는 각각의 요소를 클래스의 인스턴스라고 한다.\n",
    "- Python에서 기본으로 제공하는 자료형은 미리 만들어진 일종의 클래스라고 볼 수 있다.\n",
    "- 기본 구조는 다음과 같으며 객체 안에서 정의될 인스턴스 변수와 메소드를 정의하며 이를 클레스의 멤버라고 한다.\n",
    "\n",
    "<div style = \"border : 1px solid green; padding : 5px; width = 50px;\">\n",
    "class 클래스명 :\n",
    "<br> &nbsp; 변수명\n",
    "<br> &nbsp; 메소드명 :\n",
    "<br></div>\n",
    "\n",
    "#### [클래스 생성 예시]"
   ]
  },
  {
   "cell_type": "code",
   "execution_count": 1,
   "metadata": {},
   "outputs": [
    {
     "ename": "IndentationError",
     "evalue": "expected an indented block (<ipython-input-1-4b59ff7fbb67>, line 6)",
     "output_type": "error",
     "traceback": [
      "\u001b[1;36m  File \u001b[1;32m\"<ipython-input-1-4b59ff7fbb67>\"\u001b[1;36m, line \u001b[1;32m6\u001b[0m\n\u001b[1;33m    def Stop() :\u001b[0m\n\u001b[1;37m      ^\u001b[0m\n\u001b[1;31mIndentationError\u001b[0m\u001b[1;31m:\u001b[0m expected an indented block\n"
     ]
    }
   ],
   "source": [
    "class car :\n",
    "    brand\n",
    "    model\n",
    "    price\n",
    "    def Drive() :\n",
    "    def Stop() :"
   ]
  },
  {
   "cell_type": "markdown",
   "metadata": {},
   "source": [
    "- 위 예제는 자동차의 특징과 기능을 생각하여 클래스를 생성한 것이다.\n",
    "- 멤버 변수 : 자동차의 브랜드, 색상, 가격, 크기...\n",
    "- 멤버 함수 : 시동을 켠다, 시동을 끈다 ...\n",
    "- 예제에서 표현한 클래스보다 상세하고 세밀하게 설계할 수도 있다."
   ]
  },
  {
   "cell_type": "code",
   "execution_count": null,
   "metadata": {},
   "outputs": [],
   "source": [
    "##### class Car :    \n",
    "    def __init__(self, brand, color, price, size):\n",
    "        self.brand = brand\n",
    "        self.color = color\n",
    "        self.price = price\n",
    "        self.size = size\n",
    "        \n",
    "    def powerOn(self):\n",
    "        self.power = true;\n",
    "        print(\"자동차의 시동의 켜졌습니다\")\n",
    "        \n",
    "    def powerOff(self):\n",
    "        self.power = false;\n",
    "        print(\"자동차의 시동이 꺼졌습니다\")\n",
    "        \n"
   ]
  },
  {
   "cell_type": "markdown",
   "metadata": {},
   "source": [
    "#### 생성자(Constructor)\n",
    "- 생성자란 객체가 생성될 때 객체의 멤버들을 초기화시키는 것으로 사용할 클래스의 메모리에 객체를 생성한다.\n",
    "- 모든 메소드의 첫 번째 매개변수는 자기 자신을 가리키는 self 변수이다.\n",
    "- __init__(self)는 클래스의 생성자로 객체의 초기화를 담당한다.\n",
    "- 지역변수(local variable)는 함수 내에서 선언되는 변수이다.\n",
    "- 전역변수(global variable)는 함수 외부에서 선언되는 변수이다.\n",
    "- 인스턴스 변수는 클래스 내에 선언되는 변수로 앞에 self를 사용한다.\n",
    "\n",
    "<br><br>\n",
    "<div style = \"border : 1px solid #f2f2f2; text-align : center; padding : 8px;\">\n",
    "    <b>깨알 상식</b><br><br>\n",
    "    <div style = \"color : blue;\">클래스 안에 선언되는 인스턴스 변수 외에 지역변수와 전역변수가 있다.</div>\n",
    "    - 지역변수 : 함수 안에서 선언되는 변수<br>\n",
    "    - 전역변수 : 함수 외부에서 선언되는 변수<br>\n",
    "    - 인스턴스 변수 : 클래스 안에 선언되는 변수로 앞에 self.가 붙는다.\n",
    "</div>"
   ]
  },
  {
   "cell_type": "markdown",
   "metadata": {},
   "source": [
    "### 6.3 메소드\n",
    "\n",
    "\n",
    "#### 접근 지정자\n",
    "- 메소드는 객체의 동작의 정의하는 클래스 내의 함수이다.\n",
    "- 접근 지정자란 프로그램의 세부 구현을 클래스 안으로 감추기 위하여 클래스 내부의 변수에 private를 지정함으로써 외부의 접근을 제한하는 것으로 Python 내부 코드에서 private는 변수 앞의‘__’로 나타낸다.\n",
    "\n",
    "#### [클래스 생성 예시]"
   ]
  },
  {
   "cell_type": "code",
   "execution_count": 6,
   "metadata": {},
   "outputs": [
    {
     "name": "stdout",
     "output_type": "stream",
     "text": [
      "\n"
     ]
    }
   ],
   "source": [
    "class Student :\n",
    "    def __init__(self, sId = \"\", sName = \"\", sGrade = 0) :\n",
    "        self.__sId = sId\n",
    "        self.sName = sName\n",
    "        self.sGrade = sGrade\n",
    "        \n",
    "Kim = Student()\n",
    "#print(kim, __sId)\n",
    "print(Kim.sName)"
   ]
  },
  {
   "cell_type": "markdown",
   "metadata": {},
   "source": [
    "#### 접근자(getter)/설정자(setter)\n",
    "\n",
    "- 접근자(getter) : 인스턴스 변수값을 반환하는 메소드\n",
    "- 설정자(setter) : 인스턴스 변수값을 설정하는 메소드\n",
    "- 이들은 외부에서 private변수에 접근하여 데이터를 읽고 외부로 전달해주는 역할을 담당한다.\n",
    "<img src=https://user-images.githubusercontent.com/48711691/75389227-8948c400-5929-11ea-9da3-1ece3aa5edde.JPG style=\"width:70%;\">\n",
    "\n",
    "#### [접근자와 설정자를 이용한 클래스]"
   ]
  },
  {
   "cell_type": "code",
   "execution_count": 1,
   "metadata": {},
   "outputs": [
    {
     "data": {
      "text/plain": [
       "'2019112078'"
      ]
     },
     "execution_count": 1,
     "metadata": {},
     "output_type": "execute_result"
    }
   ],
   "source": [
    "class Student:\n",
    "    def __init__(self, studentID = \"\", name = \"\", grade = 0):\n",
    "        self.__studentID = studentID\n",
    "        self.name = name\n",
    "        self.grade = grade\n",
    "        \n",
    "    def getID(self):\n",
    "        return self.__studentID\n",
    "\n",
    "    def setID(self):\n",
    "        self.__studentID = studentID\n",
    "        \n",
    "kim = Student(\"2019112078\")\n",
    "kim.getID()"
   ]
  },
  {
   "cell_type": "markdown",
   "metadata": {},
   "source": [
    "위의 예제에서 studentID는 private변수이지만 설정자를 이용하여 private변수에 값을 넣고, 접근자를 이용하여 데이터를 얻을 수 있다.\n",
    "이는 간접적 접근으로 다음의 장점이 있다.<br>\n",
    "- 접근자로부터 잘못된 값이 매개변수에 전달될 때, 이를 사전에 차단할 수 있다.\n",
    "- 필요할 때마다 인스턴스 변수값을 계산하여 반환할 수 있다.\n",
    "- 접근자만을 제공한다면 잗동적으로 읽기만 가능한 인스턴스 변수를 만들 수 있으므로 외부 데이터 조작이 불가하다.\n",
    "<br><br>\n"
   ]
  },
  {
   "cell_type": "markdown",
   "metadata": {},
   "source": [
    "#### 정보 은닉\n",
    "- 앞의 코드들은 누구나 사용할 수 있는 변수와 메소드들로 이루어져있다. 이는 다시말해 변수의 값이 올바르지 않게 변경될 가능성이 있으며 클래스 외부에서 변수를 사용ㅎ하고 있다면 유지보수 또한 어려워진다.\n",
    "- 따라서 이러한 상황을 막기 위해서 나온 것이 정보은닉이라는 개념이다.\n"
   ]
  },
  {
   "cell_type": "markdown",
   "metadata": {},
   "source": [
    "### 6.4 상속\n",
    "#### 상속의 개념\n",
    "- 현재 클래스가 가지고 있는 멤버(인스턴스 변수, 메소드)를 다른 클래스에서 상속받아 그대로 사용할 수 있도록 만들어진 개념이다.\n",
    "- 가지고 있는 멤버들을 물려주는 클래스를 부모 클래스(Parent class, Super class)라고 한다.\n",
    "- 부모 클래스의 멤버들을 그대로 물려받는 클래스는 자식 클래스(Child class, Sub class)라고 한다.\n",
    "- 클래스를 생성할 때마다 공통된 속성을 중복 정의할 필요 없이 상속을 통해 필요한 부분만을 재정의한다.\n",
    "- 상속의 예시 : 대표적인 상속의 예시로 동물을 볼 수 있다. 동물의 공통적인 특징들을 부모 클래스를 통해 구현하고 각 동물마다 상속을 통해 해당 특징을 공유한다.\n",
    "<img src=https://user-images.githubusercontent.com/48711691/75389475-e5134d00-5929-11ea-9151-dfe24c88177c.JPG style=\"width:90%;\">\n",
    "\n",
    "#### [부모와 자식 클래스 생성]"
   ]
  },
  {
   "cell_type": "code",
   "execution_count": 16,
   "metadata": {},
   "outputs": [],
   "source": [
    "#부모 클래스\n",
    "class Animal :\n",
    "    eyes = 0\n",
    "    nose = 0\n",
    "    mouth = 0\n",
    "    legs = 0\n",
    "    def Howling(self) :\n",
    "        print (' ')\n",
    "        \n",
    "#자식 클래스\n",
    "class Dog(Animal) :\n",
    "    def Howling(self) :\n",
    "        print ('walwal')\n",
    "        \n",
    "class Chicken(Animal) :\n",
    "    legs = 2\n",
    "    def Howling(self) :\n",
    "        print ('coak coak')\n",
    "                \n",
    "class Deer(Animal) :\n",
    "    antler = 2"
   ]
  },
  {
   "cell_type": "markdown",
   "metadata": {},
   "source": [
    "### 6.5 특수 메소드\n",
    "\n",
    "#### Python에서의 특수 메소드 소개\n",
    "- 클래스 내에서 사용할 수 있는 특수 메소드로 Python의 빌트인 타입과 같은 작동을 하게 해준다.\n",
    "<img src=https://user-images.githubusercontent.com/48711691/75389879-aaf67b00-592a-11ea-9c7c-7bac7585c2d6.JPG style=\"width:90%;\">"
   ]
  },
  {
   "cell_type": "markdown",
   "metadata": {},
   "source": [
    "## 연습문제\n",
    "\n",
    "### 1.\n",
    "정사각형 클래스를 생성하시오. \n",
    "- 변의 길이를 가진다\n",
    "- 변의 길이는 외부에서 직접 접근이 불가하다\n",
    "- 둘레의 길이와 넓이를 계산할 수 있다\n",
    "\n",
    "### 2.\n",
    "클래스를 생성하여라. 이 클래스는 클래스 내의 변수를 이용하여 사칙연산을 수행한다."
   ]
  },
  {
   "cell_type": "code",
   "execution_count": null,
   "metadata": {},
   "outputs": [],
   "source": [
    "class myOperator :\n",
    "    #변수\n",
    "    # ...\n",
    "    \n",
    "    def myAdd :\n",
    "        num 1  + num 2\n",
    "    #def mySub :\n",
    "    # ...\n",
    "    #def myMul :\n",
    "    # ...\n",
    "    #def myDiv :\n",
    "    # ...    …"
   ]
  },
  {
   "cell_type": "markdown",
   "metadata": {},
   "source": [
    "### 3.\n",
    "위에 생성한 클래스의 메소드를 특수 메소드를 이용하여 재정의 하여라."
   ]
  }
 ],
 "metadata": {
  "kernelspec": {
   "display_name": "Python 3",
   "language": "python",
   "name": "python3"
  },
  "language_info": {
   "codemirror_mode": {
    "name": "ipython",
    "version": 3
   },
   "file_extension": ".py",
   "mimetype": "text/x-python",
   "name": "python",
   "nbconvert_exporter": "python",
   "pygments_lexer": "ipython3",
   "version": "3.7.4"
  }
 },
 "nbformat": 4,
 "nbformat_minor": 2
}
