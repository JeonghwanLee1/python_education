{
 "cells": [
  {
   "cell_type": "markdown",
   "metadata": {},
   "source": [
    "# Chapter 9. 라이브러리 다루기\n",
    "\n",
    "- 컴퓨터 프로그래밍에서 라이브러리란 필요한 기능들을 미리 모아 놓은 집합이라고 할 수 있다.\n",
    "- 지식이 필요할 때 도서관을 찾든 사용자가 필요한 기능을 직접 구현하지 않더라도 소스코드에 추가시킴으로써 사용할 수 있다.\n",
    "- 해당 장에서는 Python의 기본 내장 함수와 표준 라이브러리들에 대하여 알아보도록 한다."
   ]
  },
  {
   "cell_type": "markdown",
   "metadata": {},
   "source": [
    "### 9.1 내장 함수"
   ]
  },
  {
   "cell_type": "markdown",
   "metadata": {},
   "source": [
    "#### 내장 함수의 정의 및 사용\n",
    "- Python에서 모듈이나 패키지를 가져오지 않고 바로 사용할 수 있는 함수를 Python의 내장 함수라고 한다.\n",
    "- 내장 함수는 라이브러리와 달리 import가 필요하지 않고 호출만으로 사용이 가능하다.\n",
    "- Python에는 약 72개의 내장 함수가 존재한다.\n",
    "\n",
    "#### 자주 사용하는 내장 함수 : abs()\n",
    "- 매개변수로 주어진 변수의 절댓값을 반환한다.\n",
    "\n",
    "<div style = \"border : 1px solid green; padding : 8px;\">abs(x) <br>\n",
    "\t<div style = \"color : gray;\"><i>x : 숫자 <br></i></div>\n",
    "</div>\n",
    "\n",
    "#### [abs() 예제]"
   ]
  },
  {
   "cell_type": "code",
   "execution_count": 1,
   "metadata": {
    "scrolled": true
   },
   "outputs": [
    {
     "name": "stdout",
     "output_type": "stream",
     "text": [
      "2\n",
      "2\n",
      "3.14\n"
     ]
    }
   ],
   "source": [
    "print(abs(2))\n",
    "print(abs(-2))\n",
    "print(abs(-3.14))"
   ]
  },
  {
   "cell_type": "markdown",
   "metadata": {},
   "source": [
    "####  all()\n",
    "- 매개변수로 주어진 변수의 부울값이 모두 참이라면 True, 하나라도 거짓이 존재한다면 False를 반환하는 함수이다.\n",
    "\n",
    "<div style = \"border : 1px solid green; padding : 8px;\">all(x) <br>\n",
    "\t<div style = \"color : gray;\"><i>x : 데이터 <br></i></div>\n",
    "</div>\n",
    "\n",
    "#### [all() 예제]"
   ]
  },
  {
   "cell_type": "code",
   "execution_count": 73,
   "metadata": {
    "scrolled": true
   },
   "outputs": [
    {
     "name": "stdout",
     "output_type": "stream",
     "text": [
      "True\n",
      "False\n"
     ]
    }
   ],
   "source": [
    "print(all([1,2,3]))\n",
    "print(all([1,2,0]))"
   ]
  },
  {
   "cell_type": "markdown",
   "metadata": {},
   "source": [
    "#### any()\n",
    "- 매개변수로 주어진 변수의 부울값 중 하나라도 참이라면 True, 모두가 거짓이라면 False를 반환하는 함수이다.\n",
    "\n",
    "<div style = \"border : 1px solid green; padding : 8px;\">any(x)<br>\n",
    "\t<div style = \"color : gray;\"><i>x : 데이터 <br></i></div>\n",
    "</div>\n",
    "\n",
    "#### [any() 예제]"
   ]
  },
  {
   "cell_type": "code",
   "execution_count": 74,
   "metadata": {},
   "outputs": [
    {
     "name": "stdout",
     "output_type": "stream",
     "text": [
      "True\n",
      "True\n",
      "False\n"
     ]
    }
   ],
   "source": [
    "print(any([1,2,3]))\n",
    "print(any([1,2,0]))\n",
    "print(any([0,0,0]))"
   ]
  },
  {
   "cell_type": "markdown",
   "metadata": {},
   "source": [
    "#### dir()\n",
    "- 매개변수가 가지고 있는 내장 함수들과 변수들의 목록을 반환하여 출력하는 함수이다.\n",
    "\n",
    "<div style = \"border : 1px solid green; padding : 8px;\">dir(x)<br>\n",
    "\t<div style = \"color : gray;\"><i></i></div>\n",
    "</div>\n",
    "\n",
    "#### [dir() 예제]"
   ]
  },
  {
   "cell_type": "code",
   "execution_count": 2,
   "metadata": {
    "scrolled": true
   },
   "outputs": [
    {
     "name": "stdout",
     "output_type": "stream",
     "text": [
      "['__add__', '__class__', '__contains__', '__delattr__', '__delitem__', '__dir__', '__doc__', '__eq__', '__format__', '__ge__', '__getattribute__', '__getitem__', '__gt__', '__hash__', '__iadd__', '__imul__', '__init__', '__init_subclass__', '__iter__', '__le__', '__len__', '__lt__', '__mul__', '__ne__', '__new__', '__reduce__', '__reduce_ex__', '__repr__', '__reversed__', '__rmul__', '__setattr__', '__setitem__', '__sizeof__', '__str__', '__subclasshook__', 'append', 'clear', 'copy', 'count', 'extend', 'index', 'insert', 'pop', 'remove', 'reverse', 'sort']\n",
      "['__class__', '__contains__', '__delattr__', '__delitem__', '__dir__', '__doc__', '__eq__', '__format__', '__ge__', '__getattribute__', '__getitem__', '__gt__', '__hash__', '__init__', '__init_subclass__', '__iter__', '__le__', '__len__', '__lt__', '__ne__', '__new__', '__reduce__', '__reduce_ex__', '__repr__', '__setattr__', '__setitem__', '__sizeof__', '__str__', '__subclasshook__', 'clear', 'copy', 'fromkeys', 'get', 'items', 'keys', 'pop', 'popitem', 'setdefault', 'update', 'values']\n"
     ]
    }
   ],
   "source": [
    "print(dir([1,2,3]))\n",
    "print(dir({0:'a',1:'b',2:'c'}))"
   ]
  },
  {
   "cell_type": "markdown",
   "metadata": {},
   "source": [
    "#### divmod()\n",
    "- 앞의 매개변수를 뒤의 매개변수로 나누었을 때의 몫과 나머지를 튜플의 형태로 반환하는 함수이다.\n",
    "\n",
    "<div style = \"border : 1px solid green; padding : 8px;\">divmod(x, y)<br>\n",
    "\t<div style = \"color : gray;\"><i>x, y : 숫자 <br></i></div>\n",
    "</div>\n",
    "\n",
    "#### [divmod() 예제]"
   ]
  },
  {
   "cell_type": "code",
   "execution_count": 1,
   "metadata": {},
   "outputs": [
    {
     "data": {
      "text/plain": [
       "(3, 1)"
      ]
     },
     "execution_count": 1,
     "metadata": {},
     "output_type": "execute_result"
    }
   ],
   "source": [
    "divmod(10,3)"
   ]
  },
  {
   "cell_type": "markdown",
   "metadata": {},
   "source": [
    "#### enumerate()\n",
    "- 순서가 있는 자료형을 입력으로 받아 index를 포함한 객체로 반환하는 함수이다.\n",
    "\n",
    "<div style = \"border : 1px solid green; padding : 8px;\">enumberate(x)<br>\n",
    "\t<div style = \"color : gray;\"><i>x : 순서가 있는 자료형 <br></i></div>\n",
    "</div>\n",
    "\n",
    "#### [enumerate() 예제]"
   ]
  },
  {
   "cell_type": "code",
   "execution_count": 3,
   "metadata": {
    "scrolled": false
   },
   "outputs": [
    {
     "name": "stdout",
     "output_type": "stream",
     "text": [
      "0 first\n",
      "1 second\n",
      "2 third\n"
     ]
    }
   ],
   "source": [
    "for i,element in enumerate(['first','second','third']):\n",
    "    print(i,element)"
   ]
  },
  {
   "cell_type": "markdown",
   "metadata": {},
   "source": [
    "#### input()\n",
    "<div style = \"border : 1px solid green; padding : 8px;\">input(x)<br>\n",
    "\t<div style = \"color : gray;\"><i>x : 사용자 입력 <br></i></div>\n",
    "</div>\n",
    "\n",
    "#### [input() 예제]"
   ]
  },
  {
   "cell_type": "code",
   "execution_count": null,
   "metadata": {
    "scrolled": true
   },
   "outputs": [],
   "source": [
    "input_string = input()\n",
    "print(input_string)"
   ]
  },
  {
   "cell_type": "markdown",
   "metadata": {},
   "source": [
    "#### int()\n",
    "- 사용자의 입력에 해당하는 정수형 변수를 반환한다.\n",
    "\n",
    "<div style = \"border : 1px solid green; padding : 8px;\">int(x)<br>\n",
    "\t<div style = \"color : gray;\"><i>x : 사용자 입력 <br></i></div>\n",
    "</div>\n",
    "\n",
    "#### [int() 예제]"
   ]
  },
  {
   "cell_type": "code",
   "execution_count": 79,
   "metadata": {
    "scrolled": true
   },
   "outputs": [
    {
     "name": "stdout",
     "output_type": "stream",
     "text": [
      "123456\n",
      "579\n"
     ]
    }
   ],
   "source": [
    "print(\"123\"+\"456\")     #문자열 두 개의 합 연산\n",
    "print(int(\"123\")+int(\"456\"))     #정수 두 개의 합 연산"
   ]
  },
  {
   "cell_type": "markdown",
   "metadata": {},
   "source": [
    "- 이러한 int() 함수는 다음과 같이 활용할 수 있다."
   ]
  },
  {
   "cell_type": "code",
   "execution_count": 80,
   "metadata": {
    "scrolled": true
   },
   "outputs": [
    {
     "name": "stdout",
     "output_type": "stream",
     "text": [
      "\n"
     ]
    },
    {
     "ename": "ValueError",
     "evalue": "invalid literal for int() with base 10: ''",
     "output_type": "error",
     "traceback": [
      "\u001b[1;31m---------------------------------------------------------------------------\u001b[0m",
      "\u001b[1;31mValueError\u001b[0m                                Traceback (most recent call last)",
      "\u001b[1;32m<ipython-input-80-e12994dede64>\u001b[0m in \u001b[0;36m<module>\u001b[1;34m\u001b[0m\n\u001b[1;32m----> 1\u001b[1;33m \u001b[0minput_number\u001b[0m \u001b[1;33m=\u001b[0m \u001b[0mint\u001b[0m\u001b[1;33m(\u001b[0m\u001b[0minput\u001b[0m\u001b[1;33m(\u001b[0m\u001b[1;33m)\u001b[0m\u001b[1;33m)\u001b[0m     \u001b[1;31m#사용자 입력을 정수형 변수로 변환\u001b[0m\u001b[1;33m\u001b[0m\u001b[1;33m\u001b[0m\u001b[0m\n\u001b[0m\u001b[0;32m      2\u001b[0m \u001b[0mprint\u001b[0m\u001b[1;33m(\u001b[0m\u001b[1;34m\"입력한 값의 두 배는 : \"\u001b[0m\u001b[1;33m,\u001b[0m\u001b[0minput_number\u001b[0m\u001b[1;33m*\u001b[0m\u001b[1;36m2\u001b[0m\u001b[1;33m)\u001b[0m     \u001b[1;31m#정수형 변수에 2를 곱하여 출력\u001b[0m\u001b[1;33m\u001b[0m\u001b[1;33m\u001b[0m\u001b[0m\n",
      "\u001b[1;31mValueError\u001b[0m: invalid literal for int() with base 10: ''"
     ]
    }
   ],
   "source": [
    "input_number = int(input())     #사용자 입력을 정수형 변수로 변환\n",
    "print(\"입력한 값의 두 배는 : \",input_number*2)     #정수형 변수에 2를 곱하여 출력"
   ]
  },
  {
   "cell_type": "markdown",
   "metadata": {},
   "source": [
    "#### list()\n",
    "- 매개변수로 입력한 변수의 리스트 형태로 형변환하여 반환해 주는 함수이다.\n",
    "\n",
    "<div style = \"border : 1px solid green; padding : 8px;\">list(x)<br>\n",
    "\t<div style = \"color : gray;\"><i>x : 데이터 <br></i></div>\n",
    "</div>\n",
    "\n",
    "#### [list() 예제]"
   ]
  },
  {
   "cell_type": "code",
   "execution_count": 4,
   "metadata": {
    "scrolled": false
   },
   "outputs": [
    {
     "name": "stdout",
     "output_type": "stream",
     "text": [
      "['H', 'e', 'l', 'l', 'o', ' ', 'W', 'o', 'r', 'l', 'd', '!']\n"
     ]
    }
   ],
   "source": [
    "l = list(\"Hello World!\")\n",
    "print(l)"
   ]
  },
  {
   "cell_type": "markdown",
   "metadata": {},
   "source": [
    "#### len()\n",
    "- 매개변수의 크기를 반환하는 함수이다.\n",
    "\n",
    "<div style = \"border : 1px solid green; padding : 8px;\">len(x)<br>\n",
    "\t<div style = \"color : gray;\"><i>x : 데이터 <br></i></div>\n",
    "</div>\n",
    "\n",
    "#### [len() 예제]"
   ]
  },
  {
   "cell_type": "code",
   "execution_count": 82,
   "metadata": {},
   "outputs": [
    {
     "name": "stdout",
     "output_type": "stream",
     "text": [
      "[0, 1, 2, 3, 4, 5, 6, 7, 8, 9]\n"
     ]
    },
    {
     "data": {
      "text/plain": [
       "10"
      ]
     },
     "execution_count": 82,
     "metadata": {},
     "output_type": "execute_result"
    }
   ],
   "source": [
    "lst = range(10)\n",
    "print(list(lst))     #list형태로 변환\n",
    "len(lst)"
   ]
  },
  {
   "cell_type": "markdown",
   "metadata": {},
   "source": [
    "#### max()\n",
    "- 매개변수 중 가장 큰 값을 반환하는 함수이다.\n",
    "\n",
    "<div style = \"border : 1px solid green; padding : 8px;\">max([value1, value2, value 3, … ])<br>\n",
    "\t<div style = \"color : gray;\"><i>value : 숫자, 문자열, 변수<br></i></div>\n",
    "</div>\n",
    "\n",
    "#### [max() 예제]"
   ]
  },
  {
   "cell_type": "code",
   "execution_count": 5,
   "metadata": {
    "scrolled": true
   },
   "outputs": [
    {
     "data": {
      "text/plain": [
       "4"
      ]
     },
     "execution_count": 5,
     "metadata": {},
     "output_type": "execute_result"
    }
   ],
   "source": [
    "max([1,2,3,4])"
   ]
  },
  {
   "cell_type": "code",
   "execution_count": 84,
   "metadata": {},
   "outputs": [
    {
     "data": {
      "text/plain": [
       "'d'"
      ]
     },
     "execution_count": 84,
     "metadata": {},
     "output_type": "execute_result"
    }
   ],
   "source": [
    "max(['a','c','b','d'])"
   ]
  },
  {
   "cell_type": "markdown",
   "metadata": {},
   "source": [
    "#### min()\n",
    "- 매개변수 중 가장 작은 값을 반환하는 함수이다.\n",
    "\n",
    "<div style = \"border : 1px solid green; padding : 8px;\">min([value1, value2, value 3, … ])<br>\n",
    "\t<div style = \"color : gray;\"><i>x : 데이터 객체 <br>value : 숫자, 문자열, 변수</i></div>\n",
    "</div>\n",
    "\n",
    "#### [min() 예제]"
   ]
  },
  {
   "cell_type": "code",
   "execution_count": 85,
   "metadata": {},
   "outputs": [
    {
     "data": {
      "text/plain": [
       "1"
      ]
     },
     "execution_count": 85,
     "metadata": {},
     "output_type": "execute_result"
    }
   ],
   "source": [
    "min([1,2,3,4])"
   ]
  },
  {
   "cell_type": "markdown",
   "metadata": {},
   "source": [
    "#### pow()\n",
    "- 앞의 매개변수의 뒤의 매개변수 승을 계산하여 반환하는 함수이다.\n",
    "\n",
    "<div style = \"border : 1px solid green; padding : 8px;\">pow(x,y)<br>\n",
    "\t<div style = \"color : gray;\"><i>x : 밑 <br> y : 지수<br></i></div>\n",
    "</div>\n",
    "\n",
    "#### [pow() 예제]"
   ]
  },
  {
   "cell_type": "code",
   "execution_count": 86,
   "metadata": {
    "scrolled": true
   },
   "outputs": [
    {
     "data": {
      "text/plain": [
       "8"
      ]
     },
     "execution_count": 86,
     "metadata": {},
     "output_type": "execute_result"
    }
   ],
   "source": [
    "pow(2,3)"
   ]
  },
  {
   "cell_type": "markdown",
   "metadata": {},
   "source": [
    "#### sorted()\n",
    "- 매개변수들을 오름차순으로 정렬하여 반환하는 함수이다.\n",
    "\n",
    "<div style = \"border : 1px solid green; padding : 8px;\">sorted([value1, v5alue2, value3, … ])<br>\n",
    "\t<div style = \"color : gray;\"><i>x : 사용자 입력 <br>value : 숫자, 문자열, 변수</i></div>\n",
    "</div>\n",
    "\n",
    "#### [sorted() 예제]"
   ]
  },
  {
   "cell_type": "code",
   "execution_count": 6,
   "metadata": {},
   "outputs": [
    {
     "name": "stdout",
     "output_type": "stream",
     "text": [
      "[1, 2, 3, 4]\n",
      "['a', 'b', 'c', 'd']\n"
     ]
    }
   ],
   "source": [
    "result = sorted([2,1,4,3])\n",
    "print(result)\n",
    "result = sorted(['b','a','d','c'])\n",
    "print(result)"
   ]
  },
  {
   "cell_type": "markdown",
   "metadata": {},
   "source": [
    "#### str\n",
    "- str(x) 함수는 x를 문자열 형태로 변환하여 반환한다.\n",
    "\n",
    "<div style = \"border : 1px solid green; padding : 5px; width = 50px;\">\n",
    "#str(value)<br>\n",
    "<div style = \"color : gray;\">\n",
    "value : 숫자, 문자열, 변수\n",
    "</div></div>\n",
    "#### [str()의 예제]"
   ]
  },
  {
   "cell_type": "code",
   "execution_count": 7,
   "metadata": {
    "scrolled": true
   },
   "outputs": [
    {
     "name": "stdout",
     "output_type": "stream",
     "text": [
      "3\n",
      "HELLO\n"
     ]
    }
   ],
   "source": [
    "print(str(3))\n",
    "print(str(\"Hello\".upper()))"
   ]
  },
  {
   "cell_type": "markdown",
   "metadata": {},
   "source": [
    "#### sum\n",
    "- sum(x) 함수는 x의 요소들을 모두 합하여 반환한다.\n",
    "\n",
    "<div style = \"border : 1px solid green; padding : 5px; width = 50px;\">\n",
    "#sum([value1, value2, value3, … ])<br>\n",
    "<div style = \"color : gray;\">\n",
    "value : 숫자, 문자열, 변수\n",
    "</div></div>\n",
    "\n",
    "#### [sum()의 예제]"
   ]
  },
  {
   "cell_type": "code",
   "execution_count": 8,
   "metadata": {},
   "outputs": [
    {
     "name": "stdout",
     "output_type": "stream",
     "text": [
      "15\n",
      "45\n"
     ]
    }
   ],
   "source": [
    "print(sum([1,2,3,4,5]))\n",
    "_list = range(1,10)\n",
    "print(sum(_list))     #1부터 9까지의 합"
   ]
  },
  {
   "cell_type": "markdown",
   "metadata": {},
   "source": [
    "#### type\n",
    "- type(x) 함수는 x의 형태를 반환한다."
   ]
  },
  {
   "cell_type": "code",
   "execution_count": 9,
   "metadata": {},
   "outputs": [
    {
     "name": "stdout",
     "output_type": "stream",
     "text": [
      "<class 'float'>\n",
      "<class 'list'>\n",
      "<class 'dict'>\n"
     ]
    }
   ],
   "source": [
    "print(type(1.0))\n",
    "print(type([1,2,3]))\n",
    "print(type({1:'a',2:'b',3:'c'}))"
   ]
  },
  {
   "cell_type": "markdown",
   "metadata": {},
   "source": [
    "### 9.2 표준 라이브러리\n",
    "- 내장 함수와 유사하게 별도의 설치 없이 사용할 수 있는 모듈, 패키지를 표준 라이브러리라고 한다.\n",
    "- 내장 함수는 별도의 추가 없이 사용 가능하지만 표준 라이브러리는 소스코드에 import 하여 사용하여야 한다.\n",
    "\n",
    "<div style = \"border : 1px solid green; padding : 5px; width = 50px;\">\n",
    "#import command<br>\n",
    "<div style = \"color : gray;\">\n",
    "command : 명령어\n",
    "</div></div>\n",
    "\n",
    "#### [라이브러리 import 예제]"
   ]
  },
  {
   "cell_type": "code",
   "execution_count": 91,
   "metadata": {},
   "outputs": [
    {
     "data": {
      "text/plain": [
       "2.0"
      ]
     },
     "execution_count": 91,
     "metadata": {},
     "output_type": "execute_result"
    }
   ],
   "source": [
    "import math\n",
    "math.sqrt(4)    #제곱근을 구하는 함수"
   ]
  },
  {
   "cell_type": "markdown",
   "metadata": {},
   "source": [
    "- 프로그래밍에 필요한 중요한 기능들을 제공한다.\n",
    "- 시간 다루기, 파일 디렉토리 다루기, 무작위 수 뽑기 등에 활용이 가능하다."
   ]
  },
  {
   "cell_type": "markdown",
   "metadata": {},
   "source": [
    "#### as\n",
    "다음과 같이 as 명령어를 통해 alias를 지칭해 줄 수 있다."
   ]
  },
  {
   "cell_type": "code",
   "execution_count": 92,
   "metadata": {},
   "outputs": [
    {
     "data": {
      "text/plain": [
       "2.0"
      ]
     },
     "execution_count": 92,
     "metadata": {},
     "output_type": "execute_result"
    }
   ],
   "source": [
    "import math as mth\n",
    "mth.sqrt(4)"
   ]
  },
  {
   "cell_type": "markdown",
   "metadata": {},
   "source": [
    "라이브러리 전체가 아닌 필요한 함수만 import 할 수 있다."
   ]
  },
  {
   "cell_type": "code",
   "execution_count": 93,
   "metadata": {},
   "outputs": [
    {
     "data": {
      "text/plain": [
       "2.0"
      ]
     },
     "execution_count": 93,
     "metadata": {},
     "output_type": "execute_result"
    }
   ],
   "source": [
    "from math import sqrt\n",
    "sqrt(4)"
   ]
  },
  {
   "cell_type": "markdown",
   "metadata": {},
   "source": [
    "#### time\n",
    "- time 모듈은 시간과 관련된 여러 유용한 프로그램들을 제공한다. import 명령어를 통해 time 라이브러리를 삽입하자."
   ]
  },
  {
   "cell_type": "code",
   "execution_count": 11,
   "metadata": {},
   "outputs": [],
   "source": [
    "import time"
   ]
  },
  {
   "cell_type": "markdown",
   "metadata": {},
   "source": [
    "<div style = \"border : 1px solid green; padding : 5px; width = 50px;\">\n",
    "time.time()<br>\n",
    "<div style = \"color : gray;\">\n",
    "\n",
    "</div></div>\n",
    "\n",
    "- time.time() 함수는 1970년 1월 1일 0시 0분을 기준으로 지나간 시간을 실수 형태로 리턴해준다.\n",
    "\n",
    "#### [time.time 예제]"
   ]
  },
  {
   "cell_type": "code",
   "execution_count": 95,
   "metadata": {},
   "outputs": [
    {
     "data": {
      "text/plain": [
       "1575871418.980835"
      ]
     },
     "execution_count": 95,
     "metadata": {},
     "output_type": "execute_result"
    }
   ],
   "source": [
    "time.time()"
   ]
  },
  {
   "cell_type": "markdown",
   "metadata": {},
   "source": [
    "<div style = \"border : 1px solid green; padding : 5px; width = 50px;\">\n",
    "time.localtime(time.ctime())<br>\n",
    "<div style = \"color : gray;\">\n",
    "\n",
    "</div></div>\n",
    "\n",
    "- time.localtime() 함수는 time.time()이 반환한 실수 값을 보기 쉽게 변환해준다.\n",
    "\n",
    "#### [time.localtime() 예제]"
   ]
  },
  {
   "cell_type": "code",
   "execution_count": 12,
   "metadata": {},
   "outputs": [
    {
     "data": {
      "text/plain": [
       "time.struct_time(tm_year=2020, tm_mon=2, tm_mday=27, tm_hour=13, tm_min=25, tm_sec=44, tm_wday=3, tm_yday=58, tm_isdst=0)"
      ]
     },
     "execution_count": 12,
     "metadata": {},
     "output_type": "execute_result"
    }
   ],
   "source": [
    "time.localtime(time.time())"
   ]
  },
  {
   "cell_type": "code",
   "execution_count": 97,
   "metadata": {},
   "outputs": [
    {
     "name": "stdout",
     "output_type": "stream",
     "text": [
      "2019 년\n",
      "12 월\n",
      "9 일\n",
      "15 시\n",
      "3 분\n",
      "12 초\n"
     ]
    }
   ],
   "source": [
    "now = time.localtime(time.time())\n",
    "print(now.tm_year,'년')\n",
    "print(now.tm_mon,'월')\n",
    "print(now.tm_mday,'일')\n",
    "print(now.tm_hour,'시')\n",
    "print(now.tm_min,'분')\n",
    "print(now.tm_mon,'초')"
   ]
  },
  {
   "cell_type": "markdown",
   "metadata": {},
   "source": [
    "<div style = \"border : 1px solid green; padding : 5px; width = 50px;\">\n",
    "time.asctime(time.localtime(time.time()))<br>\n",
    "<div style = \"color : gray;\">\n",
    "\n",
    "</div></div>\n",
    "\n",
    "- time.asctime() 함수는 time.loacltime()이 반환한 값을 더 보기 쉽게 변환해준다\n",
    "\n",
    "#### [time.asctime() 예제]"
   ]
  },
  {
   "cell_type": "code",
   "execution_count": 13,
   "metadata": {},
   "outputs": [
    {
     "data": {
      "text/plain": [
       "'Thu Feb 27 13:27:04 2020'"
      ]
     },
     "execution_count": 13,
     "metadata": {},
     "output_type": "execute_result"
    }
   ],
   "source": [
    "time.asctime(time.localtime(time.time()))"
   ]
  },
  {
   "cell_type": "markdown",
   "metadata": {},
   "source": [
    "<div style = \"border : 1px solid green; padding : 5px; width = 50px;\">\n",
    "time.ctime()<br>\n",
    "<div style = \"color : gray;\">\n",
    "\n",
    "</div></div>\n",
    "\n",
    "- time.ctime() 함수는 위의 일련의 작업들인 time.asctime(time.localtime(time.time())) 를 한번에 수행해준다.\n",
    "\n",
    "#### [time.ctime() 예제]"
   ]
  },
  {
   "cell_type": "code",
   "execution_count": 99,
   "metadata": {},
   "outputs": [
    {
     "data": {
      "text/plain": [
       "'Mon Dec  9 15:03:40 2019'"
      ]
     },
     "execution_count": 99,
     "metadata": {},
     "output_type": "execute_result"
    }
   ],
   "source": [
    "time.ctime()"
   ]
  },
  {
   "cell_type": "markdown",
   "metadata": {},
   "source": [
    "<div style = \"border : 1px solid green; padding : 5px; width = 50px;\">\n",
    "time.sleep(x)<br>\n",
    "<div style = \"color : gray;\">\n",
    "\n",
    "</div></div>\n",
    "\n",
    "- time.sleep(x) 함수는 x초 동안 프로그램의 실행을 멈춘다. 따라서 아래와 같은 코드를 실행하면 1초 간격으로 숫자가 출력된다.\n",
    "\n",
    "#### [time.sleep() 예제]"
   ]
  },
  {
   "cell_type": "code",
   "execution_count": 100,
   "metadata": {},
   "outputs": [
    {
     "name": "stdout",
     "output_type": "stream",
     "text": [
      "0\n",
      "1\n",
      "2\n",
      "3\n",
      "4\n",
      "5\n",
      "6\n",
      "7\n",
      "8\n",
      "9\n"
     ]
    }
   ],
   "source": [
    "for i in range(10):\n",
    "    print(i)\n",
    "    time.sleep(1.0)     #1초 동안 일시정지"
   ]
  },
  {
   "cell_type": "markdown",
   "metadata": {},
   "source": [
    "#### random 모듈\n",
    "- random 모듈은 난수 생성과 관련된 여러 유용한 프로그램들을 제공한다. import 명령어를 통해 random 라이브러리를 삽입하자."
   ]
  },
  {
   "cell_type": "code",
   "execution_count": 14,
   "metadata": {},
   "outputs": [],
   "source": [
    "import random as rd     #alias를 활용"
   ]
  },
  {
   "cell_type": "markdown",
   "metadata": {},
   "source": [
    "<div style = \"border : 1px solid green; padding : 5px; width = 50px;\">\n",
    "random.random()<br>\n",
    "<div style = \"color : gray;\">\n",
    "\n",
    "</div></div>\n",
    "\n",
    "random.random() 함수는 0.0과 1.0사이의 랜덤한 실수를 생성한다.\n",
    "\n",
    "#### [random.random() 예제]"
   ]
  },
  {
   "cell_type": "code",
   "execution_count": 15,
   "metadata": {},
   "outputs": [
    {
     "data": {
      "text/plain": [
       "0.8052686238212163"
      ]
     },
     "execution_count": 15,
     "metadata": {},
     "output_type": "execute_result"
    }
   ],
   "source": [
    "rd.random()"
   ]
  },
  {
   "cell_type": "markdown",
   "metadata": {},
   "source": [
    "<div style = \"border : 1px solid green; padding : 5px; width = 50px;\">\n",
    "rd .random (x, y)<br>\n",
    "<div style = \"color : gray;\">\n",
    "x, y : 정수\n",
    "</div></div>\n",
    "\n",
    "- random.randint(x,y) 함수는 x과 y사이의 랜덤한 정수를 생성한다.\n",
    "\n",
    "#### [rd .random () 예제]"
   ]
  },
  {
   "cell_type": "code",
   "execution_count": 16,
   "metadata": {},
   "outputs": [
    {
     "data": {
      "text/plain": [
       "6"
      ]
     },
     "execution_count": 16,
     "metadata": {},
     "output_type": "execute_result"
    }
   ],
   "source": [
    "rd.randint(1,10)     #1과 10사이의 난수 생성"
   ]
  },
  {
   "cell_type": "code",
   "execution_count": 104,
   "metadata": {
    "scrolled": true
   },
   "outputs": [
    {
     "name": "stdout",
     "output_type": "stream",
     "text": [
      "7\n",
      "7\n",
      "1\n",
      "8\n",
      "9\n"
     ]
    }
   ],
   "source": [
    "for _ in range(5):\n",
    "    print(rd.randint(1,10))     #1과 10사이의 난수 5개 생성"
   ]
  },
  {
   "cell_type": "markdown",
   "metadata": {},
   "source": [
    "<div style = \"border : 1px solid green; padding : 5px; width = 50px;\">\n",
    "random.choice(value)<br>\n",
    "<div style = \"color : gray;\">\n",
    "value : 요소\n",
    "</div></div>\n",
    "\n",
    "- random.choice(x) 함수는 x의 요소들 중 하나를 임의로 선택하여 반환한다.\n",
    "\n",
    "#### [random.choice() 예제]"
   ]
  },
  {
   "cell_type": "code",
   "execution_count": 17,
   "metadata": {},
   "outputs": [
    {
     "data": {
      "text/plain": [
       "'치킨'"
      ]
     },
     "execution_count": 17,
     "metadata": {},
     "output_type": "execute_result"
    }
   ],
   "source": [
    "foods = [\"삼겹살\",\"김치찌개\",\"족발\",\"피자\",\"치킨\"]\n",
    "rd.choice(foods)"
   ]
  },
  {
   "cell_type": "markdown",
   "metadata": {},
   "source": [
    "<div style = \"border : 1px solid green; padding : 5px; width = 50px;\">\n",
    "#random.shuffle(lst)<br>\n",
    "<div style = \"color : gray;\">\n",
    "lst : 리스트\n",
    "</div></div>\n",
    "\n",
    "- 매개변수로 주어진 리스트의 순서를 무작위로 변경하여 반환하는 함수이다.\n",
    "\n",
    "#### [random.shuffle() 예제]"
   ]
  },
  {
   "cell_type": "code",
   "execution_count": 106,
   "metadata": {},
   "outputs": [
    {
     "data": {
      "text/plain": [
       "[3, 2, 5, 1, 4]"
      ]
     },
     "execution_count": 106,
     "metadata": {},
     "output_type": "execute_result"
    }
   ],
   "source": [
    "lst = [1,2,3,4,5]\n",
    "rd.shuffle(lst)\n",
    "lst"
   ]
  },
  {
   "cell_type": "markdown",
   "metadata": {},
   "source": [
    "## 연습문제\n",
    "\n",
    "### 1.\n",
    "아래의 코드를 활용하여 리스트를 입력 받아 최대값과 최소값의 합을 반환하는 프로그램을 작성해보자.\n",
    "<br><br>\n",
    "def min_max_sum(x):<br>\n",
    " &nbsp; result = 0 <br>\n",
    " &nbsp; return result<br>\n",
    "min_max_sum<br>\n",
    "\n",
    "### 2.\n",
    "아래의 코드를 활용하여 리스트를 입력 받아 리스트 요소의 개수를 n이라고 할 때, 1부터 n까지의 합을 반환하는 프로그램을 작성해보자.\n",
    "<br><br>\n",
    "def len_sum(x):<br>\n",
    " &nbsp; result = 0\n",
    " &nbsp; return result\n",
    "len_sum([10, 20, 30, 40, 50])\n",
    "\n",
    "### 3.\n",
    "1부터 45까지의 6개의 난수를 생성하는 로또 프로그램을 while문, for문 두 가지의 형태로 작성해보자. 단, 중복된 숫자는 나오지 않아야 한다.\n",
    "-  random 라이브러리 활용\n",
    "\n",
    "실행 결과 : <br>\n",
    "(예) 1, 6, 39, 20, 33, 45"
   ]
  }
 ],
 "metadata": {
  "kernelspec": {
   "display_name": "Python 3",
   "language": "python",
   "name": "python3"
  },
  "language_info": {
   "codemirror_mode": {
    "name": "ipython",
    "version": 3
   },
   "file_extension": ".py",
   "mimetype": "text/x-python",
   "name": "python",
   "nbconvert_exporter": "python",
   "pygments_lexer": "ipython3",
   "version": "3.7.4"
  }
 },
 "nbformat": 4,
 "nbformat_minor": 2
}
