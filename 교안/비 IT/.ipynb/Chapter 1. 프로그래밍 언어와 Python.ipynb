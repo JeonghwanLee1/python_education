{
 "cells": [
  {
   "cell_type": "markdown",
   "metadata": {
    "slideshow": {
     "slide_type": "slide"
    }
   },
   "source": [
    "# Chapter1. 프로그래밍 언어와 Python"
   ]
  },
  {
   "cell_type": "markdown",
   "metadata": {
    "slideshow": {
     "slide_type": "slide"
    }
   },
   "source": [
    "## 1. 프로그래밍 언어와 Python\n",
    "\n",
    "- 현대의 사회는 4차 산업혁명 시대로 접어들며 전 분야에 걸쳐 소프트웨어가 큰 영향을 미치고 있다. 이에 따라 단순히 컴퓨터 관련 전공자 뿐만 아닌 다른 공학 계열 학생들도 IT 역량을 키우는 것이 중요한 문제로 대두되고 있다.\n",
    "\n",
    "- 이를 위하여 해당 장에서는 컴퓨터 프로그래밍을 위한 기본적인 지식인 컴퓨팅 사고, 프로그래밍 언어에 대해 소개하고 프로그래밍 언어인 Python의 기본 문법을 소개한다."
   ]
  },
  {
   "cell_type": "markdown",
   "metadata": {
    "slideshow": {
     "slide_type": "slide"
    }
   },
   "source": [
    "### 1.1 컴퓨팅사고"
   ]
  },
  {
   "cell_type": "markdown",
   "metadata": {
    "slideshow": {
     "slide_type": "subslide"
    }
   },
   "source": [
    "<b>컴퓨터 과학(Computer Science)</b>\n",
    "\n",
    "- 컴퓨터에 관련된 모든 문제를 해결하기 위한 학문\n",
    "- 컴퓨터로 계산할 수 있는 문제를 판별하여 계산해 내는 것"
   ]
  },
  {
   "cell_type": "markdown",
   "metadata": {
    "slideshow": {
     "slide_type": "subslide"
    }
   },
   "source": [
    "<b>계산적 사고(Computationl Thinking)</b>\n",
    "\n",
    "- 컴퓨터의 효과적 문제 해결을 위해 문제를 정의하고 그에 대한 답의 기술이 포함된 사고 과정 일체\n",
    "- 수학적 사고와 공학적 사고의 결합"
   ]
  },
  {
   "cell_type": "markdown",
   "metadata": {
    "slideshow": {
     "slide_type": "slide"
    }
   },
   "source": [
    "<b>2진수(Binary digit)</b>\n",
    "- 디지털 시스템에서 사용하는 가장 작은 데이터 단위\n",
    "- 0, 1로 이루어져있음<br><br>\n",
    "\n",
    "<b>비트(Bit)</b>\n",
    "- 2진수를 가리키는 단어로 컴퓨터의 용량을 계산할 때 사용하는 가장 작은 단위\n",
    "- Binary digit의 약자\n",
    "- 0, 1로 구성되며 각기 다른 상태를 나타냄<br><br>\n",
    "\n",
    "<b>아날로그(analog)</b>\n",
    "- 연속적인 값을 데이터로 표현한 것<br><br>\n",
    "<div style=\"border : 1px solid #f2f2f2; padding : 5px; text-align : center;\">\n",
    "<figure>\n",
    "<img src=https://user-images.githubusercontent.com/37530732/73602816-ebc5d300-45bc-11ea-98b0-f7fb7456bda4.png style=\"width:35%;\">\n",
    "    <center><figcaption>&#60;그림 2&#62; 아날로그 예\n",
    "        </figcaption></center>\n",
    "</figure></div>\n",
    "\n",
    "<b>디지털(digital)</b>\n",
    "- 이잔적인 값을 데이터로 표현한 것\n",
    "- 모든 데이터를 숫자 형태로 표시한 것\n",
    "- 컴퓨터는 숫자 계산을 하기때문에 데이터는 숫자로 표시되어야 함<br><br>\n",
    "<div style=\"border : 1px solid #f2f2f2; padding : 5px; text-align : center;\">\n",
    "<figure>\n",
    "<img src=https://user-images.githubusercontent.com/37530732/73605828-7ec73300-45e6-11ea-9f04-364a97a1cef8.png style=\"width:35%;\">\n",
    "    <center><figcaption>&#60;그림 3&#62; 디지털 예\n",
    "        </figcaption></center>\n",
    "</figure></div>\n",
    "\n",
    "<b>알고리즘(algorithm)</b>\n",
    "- 주어진 문제를 해결하기위한 절차와 방법\n",
    "- 컴퓨터 과학에서의 알고리즘이란 주어진 문제를 해결하기 위하여 필요한 명령어의 집합을 뜻함\n",
    "- 예 : 자판기에서 음료수를 뽑는 알고리즘\n",
    "<br><br>\n",
    "\n",
    "<br>\n",
    "\n",
    "### 1.2 프로그래밍 언어의 개념\n",
    "\n",
    "<b>프로그램(Program)</b>\n",
    "- 컴퓨터에 저장됭어 실행이 가능한 완성된 코드들의 집합체\n",
    "- 특정 목적의 작업을 수행하기 위하여 관련된 명령어와 자료의 집합\n",
    "- 우리가 하고자 하는 작업을 컴퓨터로 전달하는 역할<br><br>\n",
    "\n",
    "<b>프로그래밍 언어(Programming language)</b>\n",
    "- 사람이 사용하기 쉽도록 만들어놓은 특별한 언어\n",
    "- 사람이 컴퓨터에게 지시할 명령어를 기술하기 위하여 만들어진 언어<br><br>\n",
    "\n",
    "<b>프로그래밍 언어의 분류</b>\n",
    "- 기계어 (Machine language)\n",
    "- 어셈블리어 (Assembly language)\n",
    "- 고급언어 (High level language)\n",
    "<br><br>\n",
    "\n",
    "<b>기계어</b>\n",
    "- 0과 1로 표현되는 언어<br>\n",
    "<div style = \"text-align : center; border : 1px solid #f2f2f2; padding : 5px;\"><예시><br>\n",
    "2(10) = 01(2)\n",
    "10(10) = 1010(2)\n",
    "    20(10) = 10100(2)</div><br>\n",
    "- 컴퓨터가 직접 이해할 수 있는 유일한 언어\n",
    "- 프로그래밍이 어렵다는 단점이 있음<br><br>\n",
    "    \n",
    "<b>어셈블리어</b>\n",
    "- 기계어를 사람이 이해하기 쉬운 기호형태로 1:1 대응시킨 언어\n",
    "- CPU의 명령어들을 이진수가 아닌 영어로 이루어진 기호로 표기\n",
    "- 기계어보다 더 높은 수준에서 프로그램 작성 가능\n",
    "- 어셈블러(Assembler) : 어셈블리어로 작성된 기호를 이진수로 변환하는 프로그램으로 일종의 컴퓨터와 사용자를 잇는 통역가\n",
    "<br><br>\n",
    "<img src=https://user-images.githubusercontent.com/31681740/75317515-87d8b680-58ab-11ea-8bf9-e26e5d9066ef.JPG style=\"width:70%;\">\n"
   ]
  },
  {
   "cell_type": "code",
   "execution_count": 4,
   "metadata": {
    "slideshow": {
     "slide_type": "slide"
    }
   },
   "outputs": [
    {
     "data": {
      "text/plain": [
       "30"
      ]
     },
     "execution_count": 4,
     "metadata": {},
     "output_type": "execute_result"
    }
   ],
   "source": [
    "#파이썬 코드와 비교해보자\n",
    "a = 10\n",
    "b = 20\n",
    "\n",
    "a+b"
   ]
  },
  {
   "cell_type": "markdown",
   "metadata": {
    "slideshow": {
     "slide_type": "slide"
    }
   },
   "source": [
    "- 기계어와 어셈블리어는 저급언어(low level language)에 속함\n",
    "<br><br>\n",
    "<b>고급언어</b>\n",
    "- 사람에게 친숙한 수식, 영어, 기호를 사용한 프로그래밍 언어\n",
    "- C, C++, C#, Python, Java, Ruby, PHP, JSP 등 다양한 언어들이 있음\n",
    "<br><br>\n",
    "<b>컴파일러(Compiler)</b>\n",
    "- 사용자가 고급 언어로 작성한 프로그램을 컴퓨터가 이해할 수 있게 기계어로 바꾸어주는 프로그램\n",
    "- 코드 전체를 읽어 기계어로 번역하는 방식을 취함\n",
    "<br><br>\n",
    "<b>인터프리터(Interpreter)</b>\n",
    "- 인터프리터는 컴파일러와 동일한 역할을 수행하지만 코드를 한 줄씩 기계어로 변환하여 결과를 반환\n",
    "- 컴파일러에 비해 속도가 느림\n",
    "<br><br>\n",
    "\n",
    "### 1.3 Python의 배경과 특징\n",
    "\n",
    "<b>파이썬 언어의 배경</b><br>\n",
    "- 파이썬(Python)은 1991년 귀도 반 로섬(Guido Van Rossum)이 개발한 대화형 프로그래밍 언어임\n",
    "- 평소 즐겨보던 영국 BBC방송의 코미디 프로의 이름 \"Monty Python's Flying Circus\"에서 이름을 따왔으며 실제로 파이썬 언어의 로고를 잘 보면 두 마리의 뱀으로 이루어져있음\n",
    "<br><br>\n",
    "\n",
    "<b>파이썬 언어의 특징</b><br>\n",
    "- 구조가 간결하며 읽고 쓰기 쉬움\n",
    "- 객체 지향적인 동시에 절차 지향적\n",
    "- 풍부한 라이브러리를 제공\n",
    "- 다양한 운영체제에서 동작함\n",
    "- 오픈소스\n",
    "<br><br>\n",
    "\n",
    "<div style = \"color : gray;\"><i>\n",
    "Q.파이썬이 다른 언어와 비교했을 때 초보 프로그래머에게 좋은 이유는 무엇일까?<br>\n",
    "A. 파이썬은 인터프리터(interpreter)을 사용하는 언어이기 때문에 한줄의 문장을 입력하면 인터프리터가 이것을 해석하여 바로 실행해준다. 이는 프로그래머가 작성한 문장의 결과를 즉시 볼 수 있으므로 초보 프로그래머에게 적합한 언어이다.\n",
    "</i>\n",
    "</div>\n",
    "<br><br>"
   ]
  },
  {
   "cell_type": "markdown",
   "metadata": {},
   "source": [
    "### 1.4 Python 개발환경 구성\n",
    "\n",
    "#### Anaconda 설치\n",
    "\n",
    "- Anaconda란 수학과 과학 분야에서 사용되는 여러 패키지들을 묶어 놓은 Python 배포판으로서 데이터 사이언스와 머신 러닝 분야에서 Python을 사용하기 위한 기본으로 쓰인다.\n",
    "\n",
    "- https://www.anaconda.com 에 접속한다.\n",
    "<img src=https://user-images.githubusercontent.com/48711691/75317917-6e843a00-58ac-11ea-98dd-20a5e613f65d.png style=\"width:70%;\">\n",
    "\n",
    "<br><br>\n",
    "- 우측 상단에 Download 버튼을 클릭한다.\n",
    "<img src=https://user-images.githubusercontent.com/48711691/75317947-7e9c1980-58ac-11ea-8f3a-1dc393b15eb1.png style=\"width:70%;\">\n",
    "\n",
    "<br><br>\n",
    "- Python 3.7 version Download를 선택한다.\n",
    "<img src=https://user-images.githubusercontent.com/48711691/75317977-8956ae80-58ac-11ea-99c2-97256ffd9c97.png style=\"width:70%;\">\n",
    "\n",
    "<br><br>\n",
    "- Jupyter Notebook(Anaconda3)를 실행한다.\n",
    "<img src=https://user-images.githubusercontent.com/48711691/75317985-8f4c8f80-58ac-11ea-86f3-98b529bd2aaa.png style=\"width:70%;\">\n",
    "<br><br>\n",
    "- Jupyter Notebook내의 New -> Python3를 클릭한다.\n"
   ]
  },
  {
   "cell_type": "markdown",
   "metadata": {
    "slideshow": {
     "slide_type": "slide"
    }
   },
   "source": [
    "### 1.5 Python 기본 문법\n",
    "\n",
    "#### 표준 입출력\n",
    "<div style = \"border : 1px solid green; padding : 5px; width = 50px;\">print(parameter)<br>\n",
    "    \n",
    "<div style = \"color : gray;\">parameter : 출력하고자 하는 값을 입력</div></div>\n",
    "\n",
    "- 사용자의 입력값을 화면에 출력할 때 사용\n",
    "- 숫자가 아닌 문자나 문장은 따옴표('') 또는 쌍따옴표(\"\")로 감싸주어야 함"
   ]
  },
  {
   "cell_type": "code",
   "execution_count": 5,
   "metadata": {
    "slideshow": {
     "slide_type": "slide"
    }
   },
   "outputs": [
    {
     "name": "stdout",
     "output_type": "stream",
     "text": [
      "2019\n",
      "110\n",
      "Hello World\n",
      "Python\n"
     ]
    }
   ],
   "source": [
    "print(2019)\n",
    "print(10+100)\n",
    "print(\"Hello World\")\n",
    "print('Python')"
   ]
  },
  {
   "cell_type": "markdown",
   "metadata": {
    "slideshow": {
     "slide_type": "slide"
    }
   },
   "source": [
    "<b>값 입력받기 : input </b><br>\n",
    "<div style = \"border : 1px solid green; padding : 5px; width = 50px;\">input(parameter)<br>\n",
    "<div style = \"color : gray;\">parameter : 화면에 출력하고자 하는 값을 입력</div></div>\n",
    "\n",
    "- parameter가 있을 때 먼저 화면에 출력한 뒤 사용자의 입력을 받음\n",
    "- paramter는 생략이 가능하다. 이때 화면에 출력없이 바로 사용자의 입력을 받음"
   ]
  },
  {
   "cell_type": "code",
   "execution_count": 6,
   "metadata": {
    "slideshow": {
     "slide_type": "slide"
    }
   },
   "outputs": [
    {
     "name": "stdout",
     "output_type": "stream",
     "text": [
      "값을 입력하세요 : 2019\n"
     ]
    },
    {
     "data": {
      "text/plain": [
       "'2019'"
      ]
     },
     "execution_count": 6,
     "metadata": {},
     "output_type": "execute_result"
    }
   ],
   "source": [
    "input(\"값을 입력하세요 : \")"
   ]
  },
  {
   "cell_type": "markdown",
   "metadata": {
    "slideshow": {
     "slide_type": "slide"
    }
   },
   "source": [
    "<b>들여쓰기</b><br>\n",
    "- 코드의 영역을 지정하는 소스 작성 방식\n",
    "- 임의로 생략이 불가능\n",
    "- space bar(4칸) 또는 tab key를 이용하여 공백을 만듦"
   ]
  },
  {
   "cell_type": "code",
   "execution_count": 9,
   "metadata": {
    "scrolled": true,
    "slideshow": {
     "slide_type": "slide"
    }
   },
   "outputs": [
    {
     "ename": "IndentationError",
     "evalue": "unexpected indent (<ipython-input-9-c087232c7b82>, line 2)",
     "output_type": "error",
     "traceback": [
      "\u001b[1;36m  File \u001b[1;32m\"<ipython-input-9-c087232c7b82>\"\u001b[1;36m, line \u001b[1;32m2\u001b[0m\n\u001b[1;33m    print(\"Python\")\u001b[0m\n\u001b[1;37m    ^\u001b[0m\n\u001b[1;31mIndentationError\u001b[0m\u001b[1;31m:\u001b[0m unexpected indent\n"
     ]
    }
   ],
   "source": [
    "print(\"2019\")\n",
    "  print(\"Python\")"
   ]
  },
  {
   "cell_type": "markdown",
   "metadata": {
    "slideshow": {
     "slide_type": "slide"
    }
   },
   "source": [
    "<div style = \"border : 1px solid #f2f2f2; text-align : center; padding : 8px;\">\n",
    "    <b>깨알 상식</b><br>\n",
    "    C, C++, Java 등 다른 프로그래밍 언어에서는 들여쓰기가 공백이 아닌 {, }를 사용한다.\n",
    "</div>"
   ]
  },
  {
   "cell_type": "markdown",
   "metadata": {
    "slideshow": {
     "slide_type": "slide"
    }
   },
   "source": [
    "<b>주석 : # </b><br>\n",
    "<div style = \"border : 1px solid green; padding : 5px; width = 50px;\">#comment<br>\n",
    "<div style = \"color : gray;\">comment : 설명</div></div>\n",
    "\n",
    "- 사람이 코드를 읽기 쉽도록 작성한 메모 또는 프로그램에 대한 설명\n",
    "- 파이썬 인터프리터가 주석을 해석하지 않기 때문에 프로그램의 실행에 영향이 가지 않음"
   ]
  },
  {
   "cell_type": "code",
   "execution_count": 16,
   "metadata": {
    "slideshow": {
     "slide_type": "subslide"
    }
   },
   "outputs": [],
   "source": [
    "#print(\"Python\")"
   ]
  },
  {
   "cell_type": "markdown",
   "metadata": {
    "slideshow": {
     "slide_type": "slide"
    }
   },
   "source": [
    "## 연습문제\n",
    "\n",
    "### 1.\n",
    "기계어와 고급언어의 차이를 각각의 언어가 어떤 것에 적합하게 설계되었는지를 기준으로 설명하여라.\n",
    "<br><br>\n",
    "(1) 기계어\n",
    "\n",
    "(2) 고급언어\n",
    "<br><br>\n",
    "\n",
    "### 2.\n",
    "다음 중 고급언어를 기계어로 바꾸어 주는 도구가 아닌 것과 그 이유는?\n",
    "\n",
    "(1)인터프리터 &nbsp;&nbsp; (2)컴파일러 &nbsp;&nbsp; (3)어셈블러\n",
    "<br><br>\n",
    "\n",
    "### 3.\n",
    "Python에 대한 설명이 아닌 것을 모두 선택하고 그 이유를 설명하여라.\n",
    "<br><br>\n",
    "(1) 컴파일러를 통해 기계어로 번역됨\n",
    "\n",
    "(2) 다양한 라이브러리를 제공\n",
    "\n",
    "(3) 여러 운영체제에서 동작함\n",
    "\n",
    "(4) 절차 지향적인 언어\n",
    "\n",
    "(5) 귀도 반 로섬이 개발한 대화형 프로그래밍 언어\n",
    "<br><br>\n",
    "\n",
    "### 4.\n",
    "다음 경우의 출력 결과를 예상하고 왜 이러한 결과가 나왔는지 설명하여라.\n",
    "\n",
    "#### print(‘학번 : ’ + 2020112000)\n",
    "\n",
    "실행결과 :\n"
   ]
  }
 ],
 "metadata": {
  "kernelspec": {
   "display_name": "Python 3",
   "language": "python",
   "name": "python3"
  },
  "language_info": {
   "codemirror_mode": {
    "name": "ipython",
    "version": 3
   },
   "file_extension": ".py",
   "mimetype": "text/x-python",
   "name": "python",
   "nbconvert_exporter": "python",
   "pygments_lexer": "ipython3",
   "version": "3.7.4"
  }
 },
 "nbformat": 4,
 "nbformat_minor": 2
}
