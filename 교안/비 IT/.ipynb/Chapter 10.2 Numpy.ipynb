{
 "cells": [
  {
   "cell_type": "markdown",
   "metadata": {
    "slideshow": {
     "slide_type": "slide"
    }
   },
   "source": [
    "## 10.2 Numpy Library"
   ]
  },
  {
   "cell_type": "markdown",
   "metadata": {},
   "source": [
    "#### Numpy 소개\n",
    "- 수학 및 과학 연산을 위한 Python 패키지로서, 수치해석, 머신 러닝을 위한 자료형인 Array와 이와 관련한 유용한 함수들을 제공한다.\n",
    "\n",
    "<img src=https://user-images.githubusercontent.com/48711691/75416611-0ef06200-5972-11ea-97e9-23216639809d.JPG style=\"width:70%;\">"
   ]
  },
  {
   "cell_type": "markdown",
   "metadata": {},
   "source": [
    "#### Numpy 설치하기\n",
    "- pip install numpy 명령어를 이용해 numpy를 설치한다.\n",
    "\n",
    "#### import numpy\n",
    "- 설치가 완료 된 후에, import 명령어를 통해 numpy 패키지를 현재 프로젝트에 추가한다."
   ]
  },
  {
   "cell_type": "code",
   "execution_count": 2,
   "metadata": {
    "slideshow": {
     "slide_type": "fragment"
    }
   },
   "outputs": [
    {
     "data": {
      "text/plain": [
       "'1.17.4'"
      ]
     },
     "execution_count": 2,
     "metadata": {},
     "output_type": "execute_result"
    }
   ],
   "source": [
    "import numpy as np\n",
    "np.__version__     #버전 확인"
   ]
  },
  {
   "cell_type": "markdown",
   "metadata": {},
   "source": [
    "#### np.array()\n",
    "numpy는 배열과 유사한 자료형을 제공, 아래와 같은 방식으로 선언한다.\n",
    "\n",
    "<div style = \"border : 1px solid green; padding : 5px; width = 50px;\">\n",
    "#numpy.array(list) <br>\n",
    "<div style = \"color : gray;\">\n",
    "list : array를 만들 데이터\n",
    "</div></div>\n",
    "- import를 통해 numpy 패키지를 호출하고 numpy.array를 통해 array 데이터를 생성한다.\n",
    "- array 데이터 타입은 기존에 사용하던 리스트 데이터 타입에 여러 가지 편리한 기능들이 추가된 것이라고 생각하면 된다.\n",
    "\n",
    "#### [array 예제]"
   ]
  },
  {
   "cell_type": "code",
   "execution_count": 2,
   "metadata": {
    "scrolled": true,
    "slideshow": {
     "slide_type": "fragment"
    }
   },
   "outputs": [
    {
     "data": {
      "text/plain": [
       "numpy.ndarray"
      ]
     },
     "execution_count": 2,
     "metadata": {},
     "output_type": "execute_result"
    }
   ],
   "source": [
    "import numpy as np\n",
    "array = [1,2,3,4,5]\n",
    "numpy_array1 = np.array(array)\n",
    "\n",
    "#아래와 같이 작성할 수도 있다.\n",
    "numpy_array2 = np.array([1,2,3,4,5])\n",
    "\n",
    "type(numpy_array1)"
   ]
  },
  {
   "cell_type": "markdown",
   "metadata": {
    "slideshow": {
     "slide_type": "slide"
    }
   },
   "source": [
    "#### array의 자료형과 shape 확인\n",
    "- array의 내부에 들어있는 데이터의 자료형을 array.dtype 변수를 통해 확인 할 수 있다.\n",
    "\n",
    "#### [array의 자료형 확인하기]"
   ]
  },
  {
   "cell_type": "code",
   "execution_count": 3,
   "metadata": {
    "slideshow": {
     "slide_type": "fragment"
    }
   },
   "outputs": [
    {
     "name": "stdout",
     "output_type": "stream",
     "text": [
      "float64\n",
      "int32\n",
      "<U5\n"
     ]
    }
   ],
   "source": [
    "numpy_farray = np.array([1.0, 1.1, 1.2, 1.3, 1.4])\n",
    "numpy_iarray = np.array([1, 2, 3, 4, 5])\n",
    "numpy_sarray = np.array([\"one\", \"two\", \"three\", \"four\", \"five\"])\n",
    "\n",
    "print(numpy_farray.dtype)\n",
    "print(numpy_iarray.dtype)\n",
    "print(numpy_sarray.dtype)"
   ]
  },
  {
   "cell_type": "markdown",
   "metadata": {
    "slideshow": {
     "slide_type": "slide"
    }
   },
   "source": [
    "#### shape\n",
    "- array의 shape를 array.shape를 통해 확인할 수 있다.\n",
    "\n",
    "#### [array의 shape 확인하기]"
   ]
  },
  {
   "cell_type": "code",
   "execution_count": 25,
   "metadata": {
    "scrolled": true,
    "slideshow": {
     "slide_type": "fragment"
    }
   },
   "outputs": [
    {
     "name": "stdout",
     "output_type": "stream",
     "text": [
      "(5,)\n",
      "(2, 5)\n"
     ]
    }
   ],
   "source": [
    "numpy_1d_array = np.array([1, 2, 3, 4, 5])\n",
    "numpy_2d_array = np.array([[1, 2, 3, 4, 5],[6, 7, 8, 9, 10]])\n",
    "\n",
    "print(numpy_1d_array.shape)\n",
    "print(numpy_2d_array.shape)"
   ]
  },
  {
   "cell_type": "markdown",
   "metadata": {},
   "source": [
    "#### zeros\n",
    "<div style = \"border : 1px solid green; padding : 5px; width = 50px;\">\n",
    "#numpy.zeros((a, b, … )) <br>\n",
    "<div style = \"color : gray;\">\n",
    "a, b, … : 생성할 0 array의 shape(a*b*… ) \n",
    "</div></div>\n",
    "\n",
    "- numpy.zeros를 사용하여 array를 생성함과 동시에 모든 값을 0으로 초기화 해줄 수 있다.\n",
    "\n",
    "#### [zeros를 이용한 배열의 초기화]"
   ]
  },
  {
   "cell_type": "code",
   "execution_count": 4,
   "metadata": {
    "slideshow": {
     "slide_type": "fragment"
    }
   },
   "outputs": [
    {
     "name": "stdout",
     "output_type": "stream",
     "text": [
      "[0. 0. 0. 0. 0.]\n",
      "[[0. 0. 0. 0. 0.]\n",
      " [0. 0. 0. 0. 0.]\n",
      " [0. 0. 0. 0. 0.]]\n"
     ]
    }
   ],
   "source": [
    "zero_array = np.zeros(5)\n",
    "print(zero_array)\n",
    "\n",
    "zero_2d_array = np.zeros((3,5))\n",
    "print(zero_2d_array)"
   ]
  },
  {
   "cell_type": "markdown",
   "metadata": {
    "slideshow": {
     "slide_type": "slide"
    }
   },
   "source": [
    "#### ones\n",
    "<div style = \"border : 1px solid green; padding : 5px; width = 50px;\">\n",
    "#numpy.zeros((a, b, … )) <br>\n",
    "<div style = \"color : gray;\">\n",
    "a, b, … : 생성할 1 array의 shape(a*b*… ) \n",
    "</div></div>\n",
    "\n",
    "- numpy.ones를 사용하여 array를 생성하고 모든 값을 1로 초기화 할 수 있다.\n",
    "\n",
    "#### [ones를 이용한 배열의 생성과 초기화]"
   ]
  },
  {
   "cell_type": "code",
   "execution_count": 5,
   "metadata": {
    "slideshow": {
     "slide_type": "fragment"
    }
   },
   "outputs": [
    {
     "name": "stdout",
     "output_type": "stream",
     "text": [
      "[1. 1. 1. 1. 1.]\n",
      "[[1. 1. 1. 1. 1.]\n",
      " [1. 1. 1. 1. 1.]\n",
      " [1. 1. 1. 1. 1.]]\n"
     ]
    }
   ],
   "source": [
    "one_array = np.ones(5)\n",
    "print(one_array)\n",
    "\n",
    "one_2d_array = np.ones((3,5))\n",
    "print(one_2d_array)"
   ]
  },
  {
   "cell_type": "markdown",
   "metadata": {
    "slideshow": {
     "slide_type": "slide"
    }
   },
   "source": [
    "#### arrange\n",
    "\n",
    "<div style = \"border : 1px solid green; padding : 5px; width = 50px;\">\n",
    "#numpy.arrange(a, b) <br>\n",
    "<div style = \"color : gray;\">\n",
    "a, b : 생성할 array의 시작과 끝 \n",
    "</div></div>\n",
    "\n",
    "- numpy.arrange(a,b)는 a부터 b – 1까지의 정수를 가지는 array를 반환한다.\n",
    "\n",
    "#### [arrange를 이용한 배열의 반환값 확인하기]"
   ]
  },
  {
   "cell_type": "code",
   "execution_count": 6,
   "metadata": {
    "slideshow": {
     "slide_type": "fragment"
    }
   },
   "outputs": [
    {
     "name": "stdout",
     "output_type": "stream",
     "text": [
      "[0 1 2 3 4 5]\n",
      "[1 2 3 4 5]\n"
     ]
    }
   ],
   "source": [
    "zero_to_five_array = np.arange(6)\n",
    "print(zero_to_five_array)\n",
    "\n",
    "one_to_five_array = np.arange(1,6)\n",
    "print(one_to_five_array)"
   ]
  },
  {
   "cell_type": "markdown",
   "metadata": {
    "slideshow": {
     "slide_type": "slide"
    }
   },
   "source": [
    "#### 배열 간의 연산\n",
    "- +, - 연산자를 이용하여 여러 array간의 덧셈, 뺄셈 연산이 가능하다.\n",
    "\n",
    "#### [배열의 덧셈과 뺄셈]"
   ]
  },
  {
   "cell_type": "code",
   "execution_count": 7,
   "metadata": {
    "scrolled": true,
    "slideshow": {
     "slide_type": "fragment"
    }
   },
   "outputs": [
    {
     "name": "stdout",
     "output_type": "stream",
     "text": [
      "[ 7  9 11 13 15]\n",
      "[5 5 5 5 5]\n"
     ]
    }
   ],
   "source": [
    "array_1 = np.array([1,2,3,4,5])\n",
    "array_2 = np.array([6,7,8,9,10])\n",
    "\n",
    "added_array = array_1 + array_2\n",
    "print(added_array)\n",
    "\n",
    "subtracted_array = array_2 - array_1\n",
    "print(subtracted_array)"
   ]
  },
  {
   "cell_type": "markdown",
   "metadata": {
    "slideshow": {
     "slide_type": "slide"
    }
   },
   "source": [
    " - , / 연산자를 이용하여 여러 array간의 곱셈, 나눗셈 연산이 가능하다.\n",
    " \n",
    " #### [배열의 곱셈 및 나눗셈]"
   ]
  },
  {
   "cell_type": "code",
   "execution_count": 10,
   "metadata": {
    "slideshow": {
     "slide_type": "fragment"
    }
   },
   "outputs": [
    {
     "name": "stdout",
     "output_type": "stream",
     "text": [
      "[ 6 14 24 36 50]\n",
      "[0.16666667 0.28571429 0.375      0.44444444 0.5       ]\n"
     ]
    }
   ],
   "source": [
    "array_1 = np.array([1,2,3,4,5])\n",
    "array_2 = np.array([6,7,8,9,10])\n",
    "\n",
    "#곱 연산에서는 행렬의 dot, cross 곱이 아닌 요소 간의 곱하기가 진행됩니다.\n",
    "multiplied_array = array_1 * array_2\n",
    "print(multiplied_array)\n",
    "\n",
    "devided_array = array_1 / array_2\n",
    "print(devided_array)"
   ]
  },
  {
   "cell_type": "markdown",
   "metadata": {
    "slideshow": {
     "slide_type": "slide"
    }
   },
   "source": [
    "#### 배열과 스칼라의 연산\n",
    "- 배열과 스칼라의 곱, 합, 거듭제곱 연산 등을 제공한다.\n",
    "- 배열과 스칼라의 곱과 합의 경우, 배열에 해당 스칼라 값을 +. * 연산자를 이용해 단순 더하고 곱하는 것으로 사용한다.\n",
    "- 거듭제곱 연산의 경우 ** 연산자를 이용하여 배열의 거듭제곱 승수를 취한다.\n",
    "\n",
    "#### [배열의 스칼라 연산]"
   ]
  },
  {
   "cell_type": "code",
   "execution_count": 8,
   "metadata": {
    "scrolled": false,
    "slideshow": {
     "slide_type": "fragment"
    }
   },
   "outputs": [
    {
     "name": "stdout",
     "output_type": "stream",
     "text": [
      "[2 3 4 5 6]\n",
      "[ 2  4  6  8 10]\n",
      "[ 1  4  9 16 25]\n"
     ]
    }
   ],
   "source": [
    "array = np.array([1, 2, 3, 4, 5])\n",
    "\n",
    "added_array = array + 1\n",
    "multiplied_array = array * 2\n",
    "times_array = array**2\n",
    "\n",
    "print(added_array)\n",
    "print(multiplied_array)\n",
    "print(times_array)"
   ]
  },
  {
   "cell_type": "markdown",
   "metadata": {
    "slideshow": {
     "slide_type": "slide"
    }
   },
   "source": [
    "#### 인덱싱과 슬라이싱\n",
    "- Python의 리스트와 마찬가지로 인덱싱과 슬라이싱을 제공한다.\n",
    "- 인덱싱의 경우 [참조할 항목의 순서-1] 을 이용해 참조한다.\n",
    "- 슬라이싱의 경우 [시작 인덱스 : 종료 인덱스-1] 을 이용해 슬라이싱한다. \n",
    "- 열 또는 행을 비워두면 모든 열 또는 모든 행을 참조한다.\n",
    "\n",
    "#### [배열의 인덱싱과 슬라이싱]"
   ]
  },
  {
   "cell_type": "code",
   "execution_count": 9,
   "metadata": {
    "slideshow": {
     "slide_type": "fragment"
    }
   },
   "outputs": [
    {
     "name": "stdout",
     "output_type": "stream",
     "text": [
      "3\n",
      "[1 2 3]\n",
      "[[1 2 3]\n",
      " [4 5 6]\n",
      " [7 8 9]]\n",
      "8\n",
      "[7 8 9]\n",
      "[3 6 9]\n"
     ]
    }
   ],
   "source": [
    "array = np.arange(10)\n",
    "print(array[3]) #indexing\n",
    "print(array[1:4]) #slicing\n",
    "\n",
    "array_2d = np.array([[1,2,3],[4,5,6],[7,8,9]])\n",
    "\n",
    "print(array_2d)\n",
    "\n",
    "print(array_2d[2,1])#2행 1열 원소\n",
    "print(array_2d[2,:])#2행의 모든 열\n",
    "print(array_2d[:,2])#2열의 모든 행\n"
   ]
  },
  {
   "cell_type": "markdown",
   "metadata": {
    "slideshow": {
     "slide_type": "slide"
    }
   },
   "source": [
    "#### 데이터 MASKING\n",
    "- 주어진 조건에 대한 부울 반환값을 나열한 Array를 Mask라고 하고 그 Mask를 생성하는 것을 Masking이라고 한다.\n",
    "- 주어진 Array가 조건에 부합하는지 체크하여 마스크의 형태로 저장한 후, 기존의 Array에 해당 마스크를 씌워서 조건에 부합하는 원소들만 가져오는 행위이다. \n",
    "\n",
    "#### 학생들의 이름과, 각각의 [국어,영어,수학] 성적 배열이 존재할 때, masking을 통해 국어 성적이 80점 이상인 학생들을 출력해보자."
   ]
  },
  {
   "cell_type": "code",
   "execution_count": 13,
   "metadata": {
    "scrolled": true,
    "slideshow": {
     "slide_type": "fragment"
    }
   },
   "outputs": [
    {
     "name": "stdout",
     "output_type": "stream",
     "text": [
      "[ True  True False False False False]\n",
      "['Lee' 'Kim']\n"
     ]
    }
   ],
   "source": [
    "name_array = np.array([\"Lee\", \"Kim\", \"Park\", \"Cho\", \"Kwon\", \"Choi\"])\n",
    "\n",
    "score_array = np.array([[100,50,60] ,\n",
    "                        [90, 95, 88], \n",
    "                        [75, 30,20], \n",
    "                        [60, 70, 80], \n",
    "                        [10, 88, 39], \n",
    "                        [60, 67, 80]])\n",
    "\n",
    "mask = (score_array[:,0]>80)#mask 생성\n",
    "print(mask)\n",
    "\n",
    "print(name_array[mask])"
   ]
  },
  {
   "cell_type": "markdown",
   "metadata": {
    "slideshow": {
     "slide_type": "fragment"
    }
   },
   "source": [
    "#### abs\n",
    "\n",
    "<div style = \"border : 1px solid green; padding : 5px; width = 50px;\">\n",
    "#numpy.abs(array) <br>\n",
    "<div style = \"color : gray;\">\n",
    "array : 절대값을 구할 배열\n",
    "</div></div>\n",
    "\n",
    "- abs 함수를 사용하면 해당 배열의 절대값을 반환한다.\n",
    "\n",
    "#### sign\n",
    "<div style = \"border : 1px solid green; padding : 5px; width = 50px;\">\n",
    "#numpy.sign(array) <br>\n",
    "<div style = \"color : gray;\">\n",
    "array : 부호 구할 배열\n",
    "</div></div>\n",
    "\n",
    "- sign 함수를 사용하여 해당 배열의 부호를 반환한다.\n",
    "\n",
    "#### [abs와 sign 사용하기]"
   ]
  },
  {
   "cell_type": "code",
   "execution_count": 14,
   "metadata": {
    "slideshow": {
     "slide_type": "fragment"
    }
   },
   "outputs": [
    {
     "name": "stdout",
     "output_type": "stream",
     "text": [
      "[2 1 0 1 2]\n",
      "[-1  1 -1  0]\n"
     ]
    }
   ],
   "source": [
    "arr_1 = np.array([-2, -1, 0, 1, 2])\n",
    "print(np.abs(arr_1))\n",
    "\n",
    "arr_2 = np.array([-1,1,-1,0])\n",
    "print(np.sign(arr_2))"
   ]
  },
  {
   "cell_type": "markdown",
   "metadata": {
    "slideshow": {
     "slide_type": "slide"
    }
   },
   "source": [
    "#### sqrt\n",
    "<div style = \"border : 1px solid green; padding : 5px; width = 50px;\">\n",
    "#numpy.sqrt(array)<br>\n",
    "<div style = \"color : gray;\">\n",
    "array : 제곱근을 구할 배열\n",
    "</div></div>\n",
    "- sqrt 함수를 사용하면 해당 배열의 제곱근을 반환한다.\n",
    "\n",
    "#### square\n",
    "<div style = \"border : 1px solid green; padding : 5px; width = 50px;\">\n",
    "#numpy.square(array) <br>\n",
    "<div style = \"color : gray;\">\n",
    "array : 제곱을 구할 배열\n",
    "</div></div>\n",
    "\n",
    "- square 함수를 사용하여 해당 배열의 제곱을 반환한다.\n",
    "\n",
    "#### [sqrt, square의 사용]"
   ]
  },
  {
   "cell_type": "code",
   "execution_count": 15,
   "metadata": {
    "slideshow": {
     "slide_type": "fragment"
    }
   },
   "outputs": [
    {
     "name": "stdout",
     "output_type": "stream",
     "text": [
      "[1. 2. 3. 4. 5.]\n",
      "[ 1  4  9 16 25]\n"
     ]
    }
   ],
   "source": [
    "arr_3 = np.array([1, 4, 9, 16, 25])\n",
    "print(np.sqrt(arr_3))\n",
    "\n",
    "arr_4 = np.array([1, 2, 3, 4, 5])\n",
    "print(np.square(arr_4))"
   ]
  },
  {
   "cell_type": "markdown",
   "metadata": {
    "slideshow": {
     "slide_type": "slide"
    }
   },
   "source": [
    "#### exp\n",
    "<div style = \"border : 1px solid green; padding : 5px; width = 50px;\">\n",
    "#numpy.exp(array) <br>\n",
    "<div style = \"color : gray;\">\n",
    "array : Exponential을 구할 배열\n",
    "</div></div>\n",
    "\n",
    "- exp 함수를 사용하면 해당 배열의 Exponential 값을 반환한다.\n",
    "\n",
    "#### log\n",
    "<div style = \"border : 1px solid green; padding : 5px; width = 50px;\">\n",
    "#numpy.log n(array)\n",
    "<br>\n",
    "<div style = \"color : gray;\">\n",
    "n :  Log의 밑 <br>\n",
    "array : Log 연산 결과를 구할 배열\n",
    "</div></div>\n",
    "\n",
    "- log 함수를 사용하여 해당 배열의 Log 연산 결과를 반환한다.\n",
    "\n",
    "#### [exp, log의 사용]"
   ]
  },
  {
   "cell_type": "code",
   "execution_count": 16,
   "metadata": {
    "slideshow": {
     "slide_type": "fragment"
    }
   },
   "outputs": [
    {
     "name": "stdout",
     "output_type": "stream",
     "text": [
      "[  2.71828183   7.3890561   20.08553692  54.59815003 148.4131591 ]\n",
      "[0.         1.         1.5849625  2.         2.32192809]\n"
     ]
    }
   ],
   "source": [
    "arr_5 = np.array([1, 2, 3, 4, 5])\n",
    "print(np.exp(arr_5))\n",
    "\n",
    "arr_6 = np.array([1, 2, 3, 4, 5])\n",
    "print(np.log2(arr_6))"
   ]
  },
  {
   "cell_type": "markdown",
   "metadata": {
    "slideshow": {
     "slide_type": "slide"
    }
   },
   "source": [
    "#### 각종 삼각함수\n",
    "- sin(), cos(), tan() : 해당 array의 삼각함수 값을 구한다.\n",
    "\n",
    "<div style = \"border : 1px solid green; padding : 5px; width = 50px;\">\n",
    "#numpy.sin(array) #numpy.cos(array) #numpy.tan(array) <br>\n",
    "<div style = \"color : gray;\">\n",
    "array : 각 삼각함수를 구할 array\n",
    "</div></div>\n",
    "\n",
    "- 인자값은 라디안 기준이다.\n",
    "\n",
    "#### [삼각함수 사용하기]"
   ]
  },
  {
   "cell_type": "code",
   "execution_count": 10,
   "metadata": {
    "slideshow": {
     "slide_type": "fragment"
    }
   },
   "outputs": [
    {
     "name": "stdout",
     "output_type": "stream",
     "text": [
      "[-9.99998732e-01  7.96326711e-04  1.00000000e+00 -9.99998732e-01]\n"
     ]
    }
   ],
   "source": [
    "arr_7 = np.array([3.14, 1.57, 0, -3.14])\n",
    "print(np.cos(arr_7))"
   ]
  },
  {
   "cell_type": "markdown",
   "metadata": {
    "slideshow": {
     "slide_type": "slide"
    }
   },
   "source": [
    "#### sum\n",
    "\n",
    "<div style = \"border : 1px solid green; padding : 5px; width = 50px;\">\n",
    "#numpy.sum(array, axis) <br>\n",
    "<div style = \"color : gray;\">\n",
    "array : 합을 구할 배열 <br>\n",
    "axis : 합을 구하는 기준 <br>\n",
    "</div></div>\n",
    "- sum 함수를 사용하여 배열의 합을 반환한다.\n",
    "-  이 때 axis 값이 0이면 각 열의 합을, 1이면 각 행의 합을 반환한다.\n",
    "\n",
    "#### [sum의 사용]"
   ]
  },
  {
   "cell_type": "code",
   "execution_count": 11,
   "metadata": {
    "slideshow": {
     "slide_type": "fragment"
    }
   },
   "outputs": [
    {
     "name": "stdout",
     "output_type": "stream",
     "text": [
      "[[1 2 3]\n",
      " [4 5 6]\n",
      " [7 8 9]]\n",
      "\n",
      "sum func\n",
      "45\n",
      "[12 15 18]\n",
      "[ 6 15 24]\n"
     ]
    }
   ],
   "source": [
    "array = np.array([[1,2,3],[4,5,6],[7,8,9]])\n",
    "print(array)\n",
    "\n",
    "print(\"\\nsum func\")\n",
    "print(np.sum(array))\n",
    "print(np.sum(array,axis=0)) #[1+4+7, 2+5+8, 3+6+9] \n",
    "print(np.sum(array,axis=1)) #[1+2+3, 4+5+6, 7+8+9]"
   ]
  },
  {
   "cell_type": "markdown",
   "metadata": {
    "slideshow": {
     "slide_type": "slide"
    }
   },
   "source": [
    "#### mean\n",
    "- mean 함수를 사용하여 배열의 평균을 반환한다.\n",
    "- 이 때 axis 값이 0이면 각 열의 평균을, 1이면 각 행의 평균을 반환한다.\n",
    "\n",
    "<div style = \"border : 1px solid green; padding : 5px; width = 50px;\">\n",
    "#numpy.mean(array, axis) <br>\n",
    "<div style = \"color : gray;\">\n",
    "array : 평균을 구할 배열 <br>\n",
    "    axis : 평균을 구하는 기준\n",
    "</div></div>\n",
    "\n",
    "#### [mean을 이용하녀 평균 구하기]"
   ]
  },
  {
   "cell_type": "code",
   "execution_count": 19,
   "metadata": {
    "slideshow": {
     "slide_type": "fragment"
    }
   },
   "outputs": [
    {
     "name": "stdout",
     "output_type": "stream",
     "text": [
      "[[1 2 3]\n",
      " [4 5 6]\n",
      " [7 8 9]]\n",
      "\n",
      "mean func\n",
      "5.0\n",
      "[4. 5. 6.]\n",
      "[2. 5. 8.]\n"
     ]
    }
   ],
   "source": [
    "array = np.array([[1,2,3],[4,5,6],[7,8,9]])\n",
    "print(array)\n",
    "\n",
    "print(\"\\nmean func\")\n",
    "print(np.mean(array))\n",
    "print(np.mean(array,axis=0))\n",
    "print(np.mean(array,axis=1))"
   ]
  },
  {
   "cell_type": "markdown",
   "metadata": {
    "slideshow": {
     "slide_type": "slide"
    }
   },
   "source": [
    "#### std\n",
    "- 해당 array의 표준편차를 구한다.\n",
    "<div style = \"border : 1px solid green; padding : 5px; width = 50px;\">\n",
    "#numpy.std(array) <br>\n",
    "<div style = \"color : gray;\">\n",
    "array : 표준편차를 구할 배열\n",
    "</div></div>\n",
    "\n",
    "#### var\n",
    "- 해당 array의 분산을 구한다.\n",
    "\n",
    "<div style = \"border : 1px solid green; padding : 5px; width = 50px;\">\n",
    "#numpy.var(array) <br>\n",
    "<div style = \"color : gray;\">\n",
    "array : 분산을 구할 배열\n",
    "</div></div>\n",
    "\n",
    "#### [std, var를 이용하여 표준편차 및 분산 값 구하기]"
   ]
  },
  {
   "cell_type": "code",
   "execution_count": 20,
   "metadata": {
    "slideshow": {
     "slide_type": "fragment"
    }
   },
   "outputs": [
    {
     "name": "stdout",
     "output_type": "stream",
     "text": [
      "[[1 2 3]\n",
      " [4 5 6]\n",
      " [7 8 9]]\n",
      "\n",
      " std, var func\n",
      "2.581988897471611\n",
      "6.666666666666667\n"
     ]
    }
   ],
   "source": [
    "array = np.array([[1,2,3],[4,5,6],[7,8,9]])\n",
    "print(array)\n",
    "print(\"\\n std, var func\")\n",
    "print(np.std(array))#표준편차\n",
    "print(np.var(array))#분산"
   ]
  },
  {
   "cell_type": "markdown",
   "metadata": {
    "slideshow": {
     "slide_type": "slide"
    }
   },
   "source": [
    "#### min\n",
    "- 배열의 최솟값을 반환한다.\n",
    "<div style = \"border : 1px solid green; padding : 5px; width = 50px;\">\n",
    "#numpy.max(array) <br>\n",
    "<div style = \"color : gray;\">\n",
    "array : 최대값을 구할 배열\n",
    "</div></div>\n",
    "\n",
    "#### max\n",
    "- 배열의 최댓값을 반환한다.\n",
    "<div style = \"border : 1px solid green; padding : 5px; width = 50px;\">\n",
    "#numpy.min(array) <br>\n",
    "<div style = \"color : gray;\">\n",
    "array : 최소값을 구할 배열\n",
    "</div></div>\n",
    "\n",
    "#### [min, max를 이용한 최댓값과 최솟값 구하기]"
   ]
  },
  {
   "cell_type": "code",
   "execution_count": 21,
   "metadata": {
    "slideshow": {
     "slide_type": "fragment"
    }
   },
   "outputs": [
    {
     "name": "stdout",
     "output_type": "stream",
     "text": [
      "[[1 2 3]\n",
      " [4 5 6]\n",
      " [7 8 9]]\n",
      "\n",
      "min,max func\n",
      "1\n",
      "9\n"
     ]
    }
   ],
   "source": [
    "array = np.array([[1,2,3],[4,5,6],[7,8,9]])\n",
    "print(array)\n",
    "print(\"\\nmin,max func\")\n",
    "print(np.min(array))\n",
    "print(np.max(array))"
   ]
  },
  {
   "cell_type": "markdown",
   "metadata": {
    "slideshow": {
     "slide_type": "slide"
    }
   },
   "source": [
    "#### argmin\n",
    "- argmax 함수를 사용하여 배열의 최대값의 index를 반환한다.\n",
    "\n",
    "<div style = \"border : 1px solid green; padding : 5px; width = 50px;\">\n",
    "#numpy.argmax(array) <br>\n",
    "<div style = \"color : gray;\">\n",
    "array : 최대값을 구할 배열\n",
    "</div></div>\n",
    "\n",
    "#### argmax\n",
    "- argmin 함수를 사용하여 배열의 최소값의 index를 반환한다.\n",
    "\n",
    "<div style = \"border : 1px solid green; padding : 5px; width = 50px;\">\n",
    "#numpy.argmin(array) <br>\n",
    "<div style = \"color : gray;\">\n",
    "array : 최소값을 구할 배열\n",
    "</div></div>\n",
    "\n",
    "#### [argmin, argmax를 이용한 인덱스 구하기]"
   ]
  },
  {
   "cell_type": "code",
   "execution_count": 12,
   "metadata": {
    "slideshow": {
     "slide_type": "fragment"
    }
   },
   "outputs": [
    {
     "name": "stdout",
     "output_type": "stream",
     "text": [
      "[[1 2 3]\n",
      " [4 5 6]\n",
      " [7 8 9]]\n",
      "\n",
      "argmin,argmax func\n",
      "0\n",
      "8\n"
     ]
    }
   ],
   "source": [
    "array = np.array([[1,2,3],[4,5,6],[7,8,9]])\n",
    "print(array)\n",
    "print(\"\\nargmin,argmax func\")\n",
    "print(np.argmin(array))#return index\n",
    "print(np.argmax(array))#return index\n"
   ]
  },
  {
   "cell_type": "markdown",
   "metadata": {},
   "source": [
    "- 위 예제의 경우, 최소값인 1의 인덱스는 0이고, 최대값인 9의 인덱스는 8이기에 위와 같은 실행 결과를 보인다."
   ]
  },
  {
   "cell_type": "markdown",
   "metadata": {
    "slideshow": {
     "slide_type": "slide"
    }
   },
   "source": [
    "#### 행렬에서의 활용\n",
    "- Numpy는 np.array를 행렬과 같이 인식하여 행렬의 합, 차, dot product, cross product, transpose 등의 연산을 지원한다.\n",
    "\n",
    "#### [armin, argmax를 이용한 행렬간의 연산]"
   ]
  },
  {
   "cell_type": "code",
   "execution_count": 13,
   "metadata": {
    "scrolled": true,
    "slideshow": {
     "slide_type": "fragment"
    }
   },
   "outputs": [
    {
     "name": "stdout",
     "output_type": "stream",
     "text": [
      "[[1 2 3]\n",
      " [4 5 6]\n",
      " [7 8 9]]\n",
      "\n",
      "[[1 4 7]\n",
      " [2 5 8]\n",
      " [3 6 9]]\n",
      "\n",
      "[[-1  0  0]\n",
      " [ 0  5  0]\n",
      " [ 0  0 -9]]\n",
      "\n",
      "[[-1  2 -3]\n",
      " [-4  5 -6]\n",
      " [-7  8 -9]]\n"
     ]
    }
   ],
   "source": [
    "matrix_1 = np.array([[1,2,3],[4,5,6],[7,8,9]])\n",
    "matrix_2 = np.array([[-1,0,0],[0,1,0],[0,0,-1]])\n",
    "print(matrix_1)\n",
    "print()\n",
    "print(np.transpose(matrix_1))#전치 행렬\n",
    "print()\n",
    "print(matrix_1*matrix_2)#원소 간 곱\n",
    "print()\n",
    "print(np.dot(matrix_1,matrix_2))#행렬의 dot곱 연산"
   ]
  },
  {
   "cell_type": "markdown",
   "metadata": {
    "slideshow": {
     "slide_type": "fragment"
    }
   },
   "source": [
    "## 연습문제\n",
    "\n",
    "### 1. 다음과 같은 데이터셋에서 연습문제를 풀어 보자."
   ]
  },
  {
   "cell_type": "code",
   "execution_count": 24,
   "metadata": {
    "slideshow": {
     "slide_type": "fragment"
    }
   },
   "outputs": [
    {
     "name": "stdout",
     "output_type": "stream",
     "text": [
      "[[100  50  60]\n",
      " [ 90  95  88]\n",
      " [ 75  30  20]\n",
      " [ 60  70  80]\n",
      " [ 10  88  39]\n",
      " [ 60  67  80]]\n"
     ]
    }
   ],
   "source": [
    "name_array = np.array([\"Lee\", \"Kim\", \"Park\", \"Cho\", \"Kwon\", \"Choi\"])\n",
    "\n",
    "score_array = np.array([[100,50,60] ,\n",
    "                        [90, 95, 88], \n",
    "                        [75, 30,20], \n",
    "                        [60, 70, 80], \n",
    "                        [10, 88, 39], \n",
    "                        [60, 67, 80]])\n",
    "\n",
    "print(score_array)"
   ]
  },
  {
   "cell_type": "markdown",
   "metadata": {
    "slideshow": {
     "slide_type": "fragment"
    }
   },
   "source": [
    "- (1) 위의 각 사람 별 점수의 평균 값을 출력해 보자.\n",
    "\n",
    "- (2) 위에서 배운 Masking을 활용하여 평균 점수가 70점 이상인지를 판별하는 Mask를 생성해 보자.\n",
    "\n",
    "- (3) 3. 2. 에서 생성한 Mask를 활용해 평균 점수가 70점 이상인 사람의 이름을 출력해 보자. "
   ]
  }
 ],
 "metadata": {
  "kernelspec": {
   "display_name": "Python 3",
   "language": "python",
   "name": "python3"
  },
  "language_info": {
   "codemirror_mode": {
    "name": "ipython",
    "version": 3
   },
   "file_extension": ".py",
   "mimetype": "text/x-python",
   "name": "python",
   "nbconvert_exporter": "python",
   "pygments_lexer": "ipython3",
   "version": "3.7.4"
  }
 },
 "nbformat": 4,
 "nbformat_minor": 2
}
